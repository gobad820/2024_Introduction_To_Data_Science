{
 "cells": [
  {
   "cell_type": "markdown",
   "source": [],
   "metadata": {
    "collapsed": false
   }
  },
  {
   "cell_type": "code",
   "metadata": {
    "id": "q7rgyVXGzIXt",
    "executionInfo": {
     "status": "ok",
     "timestamp": 1678947506793,
     "user_tz": -540,
     "elapsed": 3009,
     "user": {
      "displayName": "이명호",
      "userId": "12463539480991451694"
     }
    },
    "ExecuteTime": {
     "end_time": "2024-04-26T06:04:16.882846Z",
     "start_time": "2024-04-26T06:04:12.995423Z"
    }
   },
   "source": [
    "from datascience import *\n",
    "import numpy as np\n"
   ],
   "outputs": [],
   "execution_count": 14
  },
  {
   "cell_type": "markdown",
   "metadata": {
    "id": "QikFNXHlzIXu"
   },
   "source": [
    "## Words of Caution ##\n",
    "- Remember to run the cell above. It's for setting up the environment so you can have access to what's needed for this lecture. For now, don't worry about what it means: we'll learn more about what's inside of it in the next few lectures.\n",
    "- Data science is not just about code, so please don't go over this notebook by itself. Have the relevant textbook sections or lecture video at hand so that you can go over the discussion along with the code. Thank you! "
   ]
  },
  {
   "cell_type": "markdown",
   "metadata": {
    "id": "XvDQ02vqzIXv"
   },
   "source": [
    "## Python ##"
   ]
  },
  {
   "cell_type": "code",
   "metadata": {
    "scrolled": true,
    "id": "uo8yTUj2zIXv",
    "colab": {
     "base_uri": "https://localhost:8080/"
    },
    "executionInfo": {
     "status": "ok",
     "timestamp": 1678947519432,
     "user_tz": -540,
     "elapsed": 430,
     "user": {
      "displayName": "이명호",
      "userId": "12463539480991451694"
     }
    },
    "outputId": "928f6b99-b993-46ff-847a-201307563b75",
    "ExecuteTime": {
     "end_time": "2024-04-26T06:04:17.113769Z",
     "start_time": "2024-04-26T06:04:17.111379Z"
    }
   },
   "source": [
    "2 + 9"
   ],
   "outputs": [
    {
     "data": {
      "text/plain": [
       "11"
      ]
     },
     "execution_count": 15,
     "metadata": {},
     "output_type": "execute_result"
    }
   ],
   "execution_count": 15
  },
  {
   "cell_type": "code",
   "metadata": {
    "id": "j7bpcL8CzIXv",
    "colab": {
     "base_uri": "https://localhost:8080/"
    },
    "executionInfo": {
     "status": "ok",
     "timestamp": 1678947522507,
     "user_tz": -540,
     "elapsed": 4,
     "user": {
      "displayName": "이명호",
      "userId": "12463539480991451694"
     }
    },
    "outputId": "41c222d9-2a30-42d6-ff76-70d192bfbe15",
    "ExecuteTime": {
     "end_time": "2024-04-26T06:04:18.090196Z",
     "start_time": "2024-04-26T06:04:18.087713Z"
    }
   },
   "source": [
    "2 * 9"
   ],
   "outputs": [
    {
     "data": {
      "text/plain": [
       "18"
      ]
     },
     "execution_count": 16,
     "metadata": {},
     "output_type": "execute_result"
    }
   ],
   "execution_count": 16
  },
  {
   "cell_type": "code",
   "metadata": {
    "id": "xFaXOLqbzIXv",
    "colab": {
     "base_uri": "https://localhost:8080/"
    },
    "executionInfo": {
     "status": "ok",
     "timestamp": 1678947524577,
     "user_tz": -540,
     "elapsed": 3,
     "user": {
      "displayName": "이명호",
      "userId": "12463539480991451694"
     }
    },
    "outputId": "172dc6dc-d019-4860-efda-5849228738a0",
    "ExecuteTime": {
     "end_time": "2024-04-26T06:04:18.637611Z",
     "start_time": "2024-04-26T06:04:18.634724Z"
    }
   },
   "source": [
    "2 / 9"
   ],
   "outputs": [
    {
     "data": {
      "text/plain": [
       "0.2222222222222222"
      ]
     },
     "execution_count": 17,
     "metadata": {},
     "output_type": "execute_result"
    }
   ],
   "execution_count": 17
  },
  {
   "cell_type": "code",
   "metadata": {
    "id": "wKKI3AZCzIXw",
    "colab": {
     "base_uri": "https://localhost:8080/"
    },
    "executionInfo": {
     "status": "ok",
     "timestamp": 1678947530720,
     "user_tz": -540,
     "elapsed": 305,
     "user": {
      "displayName": "이명호",
      "userId": "12463539480991451694"
     }
    },
    "outputId": "3cc8302b-5f42-4e5d-e06d-12fdebe49fb6",
    "ExecuteTime": {
     "end_time": "2024-04-26T06:04:18.907416Z",
     "start_time": "2024-04-26T06:04:18.905400Z"
    }
   },
   "source": [
    "2 + 3 * 9"
   ],
   "outputs": [
    {
     "data": {
      "text/plain": [
       "29"
      ]
     },
     "execution_count": 18,
     "metadata": {},
     "output_type": "execute_result"
    }
   ],
   "execution_count": 18
  },
  {
   "cell_type": "code",
   "metadata": {
    "id": "iDaYaQ9IzIXw",
    "colab": {
     "base_uri": "https://localhost:8080/"
    },
    "executionInfo": {
     "status": "ok",
     "timestamp": 1678947540559,
     "user_tz": -540,
     "elapsed": 636,
     "user": {
      "displayName": "이명호",
      "userId": "12463539480991451694"
     }
    },
    "outputId": "4dd0b214-5426-410e-ba39-98a4d256cc13",
    "ExecuteTime": {
     "end_time": "2024-04-26T06:04:19.356641Z",
     "start_time": "2024-04-26T06:04:19.354605Z"
    }
   },
   "source": [
    "(2 + 3) * 9"
   ],
   "outputs": [
    {
     "data": {
      "text/plain": [
       "45"
      ]
     },
     "execution_count": 19,
     "metadata": {},
     "output_type": "execute_result"
    }
   ],
   "execution_count": 19
  },
  {
   "cell_type": "code",
   "metadata": {
    "id": "EfRHO9yRzIXw",
    "colab": {
     "base_uri": "https://localhost:8080/"
    },
    "executionInfo": {
     "status": "ok",
     "timestamp": 1678947547073,
     "user_tz": -540,
     "elapsed": 352,
     "user": {
      "displayName": "이명호",
      "userId": "12463539480991451694"
     }
    },
    "outputId": "d2902156-3468-46aa-d1f7-59090144211f",
    "ExecuteTime": {
     "end_time": "2024-04-26T06:04:19.539515Z",
     "start_time": "2024-04-26T06:04:19.537373Z"
    }
   },
   "source": [
    "# two to the power of four: 2 * 2 * 2 * 2\n",
    "2 ** 4"
   ],
   "outputs": [
    {
     "data": {
      "text/plain": [
       "16"
      ]
     },
     "execution_count": 20,
     "metadata": {},
     "output_type": "execute_result"
    }
   ],
   "execution_count": 20
  },
  {
   "cell_type": "code",
   "metadata": {
    "id": "C5sy-TTWzIXw",
    "colab": {
     "base_uri": "https://localhost:8080/",
     "height": 35
    },
    "executionInfo": {
     "status": "ok",
     "timestamp": 1678947552804,
     "user_tz": -540,
     "elapsed": 370,
     "user": {
      "displayName": "이명호",
      "userId": "12463539480991451694"
     }
    },
    "outputId": "f92ca653-d186-4259-b8b9-2f03d6cb172a",
    "ExecuteTime": {
     "end_time": "2024-04-26T06:04:19.730548Z",
     "start_time": "2024-04-26T06:04:19.728378Z"
    }
   },
   "source": [
    "'hello'"
   ],
   "outputs": [
    {
     "data": {
      "text/plain": [
       "'hello'"
      ]
     },
     "execution_count": 21,
     "metadata": {},
     "output_type": "execute_result"
    }
   ],
   "execution_count": 21
  },
  {
   "cell_type": "code",
   "source": [
    "\"Hello in 'Busan'\""
   ],
   "metadata": {
    "collapsed": false,
    "ExecuteTime": {
     "end_time": "2024-04-26T06:04:19.932015Z",
     "start_time": "2024-04-26T06:04:19.929762Z"
    }
   },
   "outputs": [
    {
     "data": {
      "text/plain": [
       "\"Hello in 'Busan'\""
      ]
     },
     "execution_count": 22,
     "metadata": {},
     "output_type": "execute_result"
    }
   ],
   "execution_count": 22
  },
  {
   "cell_type": "markdown",
   "metadata": {
    "id": "HMXDoDGPzIXw"
   },
   "source": [
    "## Names ##"
   ]
  },
  {
   "cell_type": "code",
   "metadata": {
    "id": "lEq38DMZzIXw",
    "executionInfo": {
     "status": "ok",
     "timestamp": 1678947559201,
     "user_tz": -540,
     "elapsed": 3,
     "user": {
      "displayName": "이명호",
      "userId": "12463539480991451694"
     }
    },
    "ExecuteTime": {
     "end_time": "2024-04-26T06:04:20.497531Z",
     "start_time": "2024-04-26T06:04:20.496113Z"
    }
   },
   "source": [
    "a = 4"
   ],
   "outputs": [],
   "execution_count": 23
  },
  {
   "cell_type": "code",
   "metadata": {
    "id": "PBesrevTzIXw",
    "colab": {
     "base_uri": "https://localhost:8080/"
    },
    "executionInfo": {
     "status": "ok",
     "timestamp": 1678947561198,
     "user_tz": -540,
     "elapsed": 2,
     "user": {
      "displayName": "이명호",
      "userId": "12463539480991451694"
     }
    },
    "outputId": "dee0087c-f05b-4fa1-8e06-5080ebd19e31",
    "ExecuteTime": {
     "end_time": "2024-04-26T06:04:20.594660Z",
     "start_time": "2024-04-26T06:04:20.592488Z"
    }
   },
   "source": [
    "a"
   ],
   "outputs": [
    {
     "data": {
      "text/plain": [
       "4"
      ]
     },
     "execution_count": 24,
     "metadata": {},
     "output_type": "execute_result"
    }
   ],
   "execution_count": 24
  },
  {
   "cell_type": "code",
   "metadata": {
    "id": "7u2nMC0vzIXw",
    "executionInfo": {
     "status": "ok",
     "timestamp": 1678947564557,
     "user_tz": -540,
     "elapsed": 3,
     "user": {
      "displayName": "이명호",
      "userId": "12463539480991451694"
     }
    },
    "ExecuteTime": {
     "end_time": "2024-04-26T06:04:20.700493Z",
     "start_time": "2024-04-26T06:04:20.698951Z"
    }
   },
   "source": [
    "b = 9"
   ],
   "outputs": [],
   "execution_count": 25
  },
  {
   "cell_type": "code",
   "metadata": {
    "id": "LZlvGm06zIXw",
    "colab": {
     "base_uri": "https://localhost:8080/"
    },
    "executionInfo": {
     "status": "ok",
     "timestamp": 1678947566759,
     "user_tz": -540,
     "elapsed": 4,
     "user": {
      "displayName": "이명호",
      "userId": "12463539480991451694"
     }
    },
    "outputId": "49e8798b-988c-4563-9b08-0f9d28c3c88c",
    "ExecuteTime": {
     "end_time": "2024-04-26T06:04:20.788949Z",
     "start_time": "2024-04-26T06:04:20.786528Z"
    }
   },
   "source": [
    "b"
   ],
   "outputs": [
    {
     "data": {
      "text/plain": [
       "9"
      ]
     },
     "execution_count": 26,
     "metadata": {},
     "output_type": "execute_result"
    }
   ],
   "execution_count": 26
  },
  {
   "cell_type": "code",
   "metadata": {
    "id": "FZwlF9a5zIXw",
    "colab": {
     "base_uri": "https://localhost:8080/"
    },
    "executionInfo": {
     "status": "ok",
     "timestamp": 1678947574783,
     "user_tz": -540,
     "elapsed": 6,
     "user": {
      "displayName": "이명호",
      "userId": "12463539480991451694"
     }
    },
    "outputId": "69b9ee3e-27e3-4090-c03b-f191f31c547d",
    "ExecuteTime": {
     "end_time": "2024-04-26T06:04:20.891101Z",
     "start_time": "2024-04-26T06:04:20.888925Z"
    }
   },
   "source": [
    "a * 3"
   ],
   "outputs": [
    {
     "data": {
      "text/plain": [
       "12"
      ]
     },
     "execution_count": 27,
     "metadata": {},
     "output_type": "execute_result"
    }
   ],
   "execution_count": 27
  },
  {
   "cell_type": "code",
   "metadata": {
    "id": "XX7RKCUFzIXx",
    "executionInfo": {
     "status": "ok",
     "timestamp": 1678947583297,
     "user_tz": -540,
     "elapsed": 338,
     "user": {
      "displayName": "이명호",
      "userId": "12463539480991451694"
     }
    },
    "ExecuteTime": {
     "end_time": "2024-04-26T06:04:21.000774Z",
     "start_time": "2024-04-26T06:04:20.999119Z"
    }
   },
   "source": [
    "total = a + b # a 는 여전히 4"
   ],
   "outputs": [],
   "execution_count": 28
  },
  {
   "cell_type": "code",
   "metadata": {
    "scrolled": true,
    "id": "3HjOhOnOzIXx",
    "colab": {
     "base_uri": "https://localhost:8080/"
    },
    "executionInfo": {
     "status": "ok",
     "timestamp": 1678947592681,
     "user_tz": -540,
     "elapsed": 2,
     "user": {
      "displayName": "이명호",
      "userId": "12463539480991451694"
     }
    },
    "outputId": "c1e34e80-c8aa-4e6e-ea01-895981f38ae4",
    "ExecuteTime": {
     "end_time": "2024-04-26T06:04:21.053252Z",
     "start_time": "2024-04-26T06:04:21.051253Z"
    }
   },
   "source": [
    "total"
   ],
   "outputs": [
    {
     "data": {
      "text/plain": [
       "13"
      ]
     },
     "execution_count": 29,
     "metadata": {},
     "output_type": "execute_result"
    }
   ],
   "execution_count": 29
  },
  {
   "cell_type": "code",
   "metadata": {
    "id": "dZ-SOvpezIXx",
    "executionInfo": {
     "status": "ok",
     "timestamp": 1678947596648,
     "user_tz": -540,
     "elapsed": 416,
     "user": {
      "displayName": "이명호",
      "userId": "12463539480991451694"
     }
    },
    "ExecuteTime": {
     "end_time": "2024-04-26T06:04:21.139118Z",
     "start_time": "2024-04-26T06:04:21.137419Z"
    }
   },
   "source": [
    "a = 10"
   ],
   "outputs": [],
   "execution_count": 30
  },
  {
   "cell_type": "code",
   "metadata": {
    "id": "_vdX-0-4zIXx",
    "colab": {
     "base_uri": "https://localhost:8080/"
    },
    "executionInfo": {
     "status": "ok",
     "timestamp": 1678947600045,
     "user_tz": -540,
     "elapsed": 315,
     "user": {
      "displayName": "이명호",
      "userId": "12463539480991451694"
     }
    },
    "outputId": "da7001b4-081e-4216-ec40-f778450ddb2f",
    "ExecuteTime": {
     "end_time": "2024-04-26T06:04:21.229952Z",
     "start_time": "2024-04-26T06:04:21.227796Z"
    }
   },
   "source": [
    "total"
   ],
   "outputs": [
    {
     "data": {
      "text/plain": [
       "13"
      ]
     },
     "execution_count": 31,
     "metadata": {},
     "output_type": "execute_result"
    }
   ],
   "execution_count": 31
  },
  {
   "cell_type": "code",
   "metadata": {
    "id": "TviW7_jLzIXx",
    "executionInfo": {
     "status": "ok",
     "timestamp": 1678947626438,
     "user_tz": -540,
     "elapsed": 303,
     "user": {
      "displayName": "이명호",
      "userId": "12463539480991451694"
     }
    },
    "ExecuteTime": {
     "end_time": "2024-04-26T06:04:21.321594Z",
     "start_time": "2024-04-26T06:04:21.319792Z"
    }
   },
   "source": [
    "total = a + b"
   ],
   "outputs": [],
   "execution_count": 32
  },
  {
   "cell_type": "code",
   "metadata": {
    "id": "OAARAapTzIXx",
    "colab": {
     "base_uri": "https://localhost:8080/"
    },
    "executionInfo": {
     "status": "ok",
     "timestamp": 1678947636832,
     "user_tz": -540,
     "elapsed": 515,
     "user": {
      "displayName": "이명호",
      "userId": "12463539480991451694"
     }
    },
    "outputId": "5f5c7961-d78f-4155-bfcc-a7d99707fcf9",
    "ExecuteTime": {
     "end_time": "2024-04-26T06:04:22.158265Z",
     "start_time": "2024-04-26T06:04:22.155578Z"
    }
   },
   "source": [
    "total"
   ],
   "outputs": [
    {
     "data": {
      "text/plain": [
       "19"
      ]
     },
     "execution_count": 33,
     "metadata": {},
     "output_type": "execute_result"
    }
   ],
   "execution_count": 33
  },
  {
   "cell_type": "code",
   "metadata": {
    "id": "902munsAzIXx",
    "colab": {
     "base_uri": "https://localhost:8080/",
     "height": 35
    },
    "executionInfo": {
     "status": "ok",
     "timestamp": 1678947647642,
     "user_tz": -540,
     "elapsed": 320,
     "user": {
      "displayName": "이명호",
      "userId": "12463539480991451694"
     }
    },
    "outputId": "9c4bd723-d2e7-41c1-dd70-528f1fbb2599",
    "ExecuteTime": {
     "end_time": "2024-04-26T06:04:22.366884Z",
     "start_time": "2024-04-26T06:04:22.364749Z"
    }
   },
   "source": [
    "'total'"
   ],
   "outputs": [
    {
     "data": {
      "text/plain": [
       "'total'"
      ]
     },
     "execution_count": 34,
     "metadata": {},
     "output_type": "execute_result"
    }
   ],
   "execution_count": 34
  },
  {
   "cell_type": "markdown",
   "metadata": {
    "id": "Bcua25BVzIXx"
   },
   "source": [
    "### Why Names? "
   ]
  },
  {
   "cell_type": "markdown",
   "source": [
    "변수에 대한 설명"
   ],
   "metadata": {
    "collapsed": false
   }
  },
  {
   "cell_type": "code",
   "metadata": {
    "id": "Td-x4UmkzIXx",
    "colab": {
     "base_uri": "https://localhost:8080/"
    },
    "executionInfo": {
     "status": "ok",
     "timestamp": 1678947658015,
     "user_tz": -540,
     "elapsed": 404,
     "user": {
      "displayName": "이명호",
      "userId": "12463539480991451694"
     }
    },
    "outputId": "f2bf0841-474e-4cb6-d72f-e121d105f8d6",
    "ExecuteTime": {
     "end_time": "2024-04-26T06:04:23.886419Z",
     "start_time": "2024-04-26T06:04:23.883181Z"
    }
   },
   "source": [
    "# Option 1\n",
    "40 * 14.00"
   ],
   "outputs": [
    {
     "data": {
      "text/plain": [
       "560.0"
      ]
     },
     "execution_count": 35,
     "metadata": {},
     "output_type": "execute_result"
    }
   ],
   "execution_count": 35
  },
  {
   "cell_type": "code",
   "metadata": {
    "id": "hSeukEWmzIXx",
    "colab": {
     "base_uri": "https://localhost:8080/"
    },
    "executionInfo": {
     "status": "ok",
     "timestamp": 1678947661405,
     "user_tz": -540,
     "elapsed": 5,
     "user": {
      "displayName": "이명호",
      "userId": "12463539480991451694"
     }
    },
    "outputId": "22c304ed-c530-4832-f1e8-592791faf91c",
    "ExecuteTime": {
     "end_time": "2024-04-26T06:04:24.493321Z",
     "start_time": "2024-04-26T06:04:24.490336Z"
    }
   },
   "source": [
    "40 * 52 * 14.00"
   ],
   "outputs": [
    {
     "data": {
      "text/plain": [
       "29120.0"
      ]
     },
     "execution_count": 36,
     "metadata": {},
     "output_type": "execute_result"
    }
   ],
   "execution_count": 36
  },
  {
   "cell_type": "code",
   "metadata": {
    "id": "GGEDgVkzzIXx",
    "executionInfo": {
     "status": "ok",
     "timestamp": 1678947719504,
     "user_tz": -540,
     "elapsed": 317,
     "user": {
      "displayName": "이명호",
      "userId": "12463539480991451694"
     }
    },
    "ExecuteTime": {
     "end_time": "2024-04-26T06:04:25.070230Z",
     "start_time": "2024-04-26T06:04:25.068111Z"
    }
   },
   "source": [
    "# Option 2\n",
    "ca_hourly_minimum_wage = 14.00\n",
    "hours_per_week = 40\n",
    "weeks_per_year = 52"
   ],
   "outputs": [],
   "execution_count": 37
  },
  {
   "cell_type": "code",
   "metadata": {
    "id": "Eq8-PAupzIXx",
    "executionInfo": {
     "status": "ok",
     "timestamp": 1678947733214,
     "user_tz": -540,
     "elapsed": 2,
     "user": {
      "displayName": "이명호",
      "userId": "12463539480991451694"
     }
    },
    "ExecuteTime": {
     "end_time": "2024-04-26T06:04:25.662619Z",
     "start_time": "2024-04-26T06:04:25.660952Z"
    }
   },
   "source": [
    "hours_per_year = hours_per_week * weeks_per_year"
   ],
   "outputs": [],
   "execution_count": 38
  },
  {
   "cell_type": "code",
   "metadata": {
    "id": "ykv4vJCXzIXx",
    "colab": {
     "base_uri": "https://localhost:8080/"
    },
    "executionInfo": {
     "status": "ok",
     "timestamp": 1678947736473,
     "user_tz": -540,
     "elapsed": 6,
     "user": {
      "displayName": "이명호",
      "userId": "12463539480991451694"
     }
    },
    "outputId": "8fedfa09-6634-48b2-e594-506d2a8d8c92",
    "ExecuteTime": {
     "end_time": "2024-04-26T06:04:26.047676Z",
     "start_time": "2024-04-26T06:04:26.045392Z"
    }
   },
   "source": [
    "hours_per_year"
   ],
   "outputs": [
    {
     "data": {
      "text/plain": [
       "2080"
      ]
     },
     "execution_count": 39,
     "metadata": {},
     "output_type": "execute_result"
    }
   ],
   "execution_count": 39
  },
  {
   "cell_type": "code",
   "metadata": {
    "id": "nx2Ky31OzIXx",
    "colab": {
     "base_uri": "https://localhost:8080/"
    },
    "executionInfo": {
     "status": "ok",
     "timestamp": 1678947754366,
     "user_tz": -540,
     "elapsed": 7,
     "user": {
      "displayName": "이명호",
      "userId": "12463539480991451694"
     }
    },
    "outputId": "3a8bebff-961e-43f8-d014-0aaac23f1194",
    "ExecuteTime": {
     "end_time": "2024-04-26T06:04:26.373493Z",
     "start_time": "2024-04-26T06:04:26.370748Z"
    }
   },
   "source": [
    "weekly_wages = hours_per_week * ca_hourly_minimum_wage\n",
    "weekly_wages"
   ],
   "outputs": [
    {
     "data": {
      "text/plain": [
       "560.0"
      ]
     },
     "execution_count": 40,
     "metadata": {},
     "output_type": "execute_result"
    }
   ],
   "execution_count": 40
  },
  {
   "cell_type": "code",
   "metadata": {
    "id": "rBJAQKIIzIXy",
    "colab": {
     "base_uri": "https://localhost:8080/"
    },
    "executionInfo": {
     "status": "ok",
     "timestamp": 1678947760327,
     "user_tz": -540,
     "elapsed": 325,
     "user": {
      "displayName": "이명호",
      "userId": "12463539480991451694"
     }
    },
    "outputId": "c360afd2-293b-49c3-9e25-2313d774349a",
    "ExecuteTime": {
     "end_time": "2024-04-26T06:04:26.691726Z",
     "start_time": "2024-04-26T06:04:26.689312Z"
    }
   },
   "source": [
    "yearly_wages = hours_per_year * ca_hourly_minimum_wage\n",
    "yearly_wages"
   ],
   "outputs": [
    {
     "data": {
      "text/plain": [
       "29120.0"
      ]
     },
     "execution_count": 41,
     "metadata": {},
     "output_type": "execute_result"
    }
   ],
   "execution_count": 41
  },
  {
   "cell_type": "markdown",
   "metadata": {
    "id": "ZK0tlrFhzIXy"
   },
   "source": [
    "## Functions and Call Expressions"
   ]
  },
  {
   "cell_type": "code",
   "metadata": {
    "id": "jmsvDtVzzIXy",
    "colab": {
     "base_uri": "https://localhost:8080/"
    },
    "executionInfo": {
     "status": "ok",
     "timestamp": 1678947844040,
     "user_tz": -540,
     "elapsed": 328,
     "user": {
      "displayName": "이명호",
      "userId": "12463539480991451694"
     }
    },
    "outputId": "aa5a5126-10d2-4adf-9eac-1289ee48c0ee",
    "ExecuteTime": {
     "end_time": "2024-04-26T06:04:27.535308Z",
     "start_time": "2024-04-26T06:04:27.532587Z"
    }
   },
   "source": [
    "abs(-5)"
   ],
   "outputs": [
    {
     "data": {
      "text/plain": [
       "5"
      ]
     },
     "execution_count": 42,
     "metadata": {},
     "output_type": "execute_result"
    }
   ],
   "execution_count": 42
  },
  {
   "cell_type": "code",
   "metadata": {
    "id": "KIyfXNapzIXy",
    "colab": {
     "base_uri": "https://localhost:8080/"
    },
    "executionInfo": {
     "status": "ok",
     "timestamp": 1678947848367,
     "user_tz": -540,
     "elapsed": 465,
     "user": {
      "displayName": "이명호",
      "userId": "12463539480991451694"
     }
    },
    "outputId": "8ee690d6-6e30-4da2-affd-6cf63940848c",
    "ExecuteTime": {
     "end_time": "2024-04-26T06:04:28.083663Z",
     "start_time": "2024-04-26T06:04:28.081055Z"
    }
   },
   "source": [
    "abs(1 - 3)"
   ],
   "outputs": [
    {
     "data": {
      "text/plain": [
       "2"
      ]
     },
     "execution_count": 43,
     "metadata": {},
     "output_type": "execute_result"
    }
   ],
   "execution_count": 43
  },
  {
   "cell_type": "code",
   "metadata": {
    "id": "GsVNskZqzIXy",
    "colab": {
     "base_uri": "https://localhost:8080/"
    },
    "executionInfo": {
     "status": "ok",
     "timestamp": 1678947856158,
     "user_tz": -540,
     "elapsed": 345,
     "user": {
      "displayName": "이명호",
      "userId": "12463539480991451694"
     }
    },
    "outputId": "30bda959-d0df-4cbe-97f1-5934a60131df",
    "ExecuteTime": {
     "end_time": "2024-04-26T06:04:28.359278Z",
     "start_time": "2024-04-26T06:04:28.356763Z"
    }
   },
   "source": [
    "day_temp = 52\n",
    "night_temp = 47\n",
    "abs(night_temp - day_temp)"
   ],
   "outputs": [
    {
     "data": {
      "text/plain": [
       "5"
      ]
     },
     "execution_count": 44,
     "metadata": {},
     "output_type": "execute_result"
    }
   ],
   "execution_count": 44
  },
  {
   "cell_type": "code",
   "metadata": {
    "id": "N-RSYtHazIXy",
    "colab": {
     "base_uri": "https://localhost:8080/"
    },
    "executionInfo": {
     "status": "ok",
     "timestamp": 1678947858358,
     "user_tz": -540,
     "elapsed": 325,
     "user": {
      "displayName": "이명호",
      "userId": "12463539480991451694"
     }
    },
    "outputId": "3afa862f-8b0c-479b-964b-1e22e23eb984",
    "ExecuteTime": {
     "end_time": "2024-04-26T06:04:28.635804Z",
     "start_time": "2024-04-26T06:04:28.633427Z"
    }
   },
   "source": [
    "min(14, 15)"
   ],
   "outputs": [
    {
     "data": {
      "text/plain": [
       "14"
      ]
     },
     "execution_count": 45,
     "metadata": {},
     "output_type": "execute_result"
    }
   ],
   "execution_count": 45
  },
  {
   "cell_type": "code",
   "metadata": {
    "id": "c7p_2HiEzIXy",
    "colab": {
     "base_uri": "https://localhost:8080/"
    },
    "executionInfo": {
     "status": "ok",
     "timestamp": 1678947862022,
     "user_tz": -540,
     "elapsed": 323,
     "user": {
      "displayName": "이명호",
      "userId": "12463539480991451694"
     }
    },
    "outputId": "8d0cac25-b358-457a-ebb1-e899ab420ae2",
    "ExecuteTime": {
     "end_time": "2024-04-26T06:04:28.932196Z",
     "start_time": "2024-04-26T06:04:28.929729Z"
    }
   },
   "source": [
    "round(123.456)"
   ],
   "outputs": [
    {
     "data": {
      "text/plain": [
       "123"
      ]
     },
     "execution_count": 46,
     "metadata": {},
     "output_type": "execute_result"
    }
   ],
   "execution_count": 46
  },
  {
   "cell_type": "code",
   "metadata": {
    "id": "8uYPLX9mzIXy",
    "colab": {
     "base_uri": "https://localhost:8080/"
    },
    "executionInfo": {
     "status": "ok",
     "timestamp": 1678947868361,
     "user_tz": -540,
     "elapsed": 494,
     "user": {
      "displayName": "이명호",
      "userId": "12463539480991451694"
     }
    },
    "outputId": "594e6025-a356-4be0-e72a-1c46e1bffd61",
    "ExecuteTime": {
     "end_time": "2024-04-26T06:04:29.169664Z",
     "start_time": "2024-04-26T06:04:29.167252Z"
    }
   },
   "source": [
    "round(123.456, 1)"
   ],
   "outputs": [
    {
     "data": {
      "text/plain": [
       "123.5"
      ]
     },
     "execution_count": 47,
     "metadata": {},
     "output_type": "execute_result"
    }
   ],
   "execution_count": 47
  },
  {
   "cell_type": "code",
   "metadata": {
    "id": "iJRYp-KlzIXy",
    "colab": {
     "base_uri": "https://localhost:8080/"
    },
    "executionInfo": {
     "status": "ok",
     "timestamp": 1678947915073,
     "user_tz": -540,
     "elapsed": 461,
     "user": {
      "displayName": "이명호",
      "userId": "12463539480991451694"
     }
    },
    "outputId": "9379a873-0c86-444f-c672-c2e24a825512",
    "ExecuteTime": {
     "end_time": "2024-04-26T06:04:29.562643Z",
     "start_time": "2024-04-26T06:04:29.559868Z"
    }
   },
   "source": [
    "round(123.456, ndigits=1)"
   ],
   "outputs": [
    {
     "data": {
      "text/plain": [
       "123.5"
      ]
     },
     "execution_count": 48,
     "metadata": {},
     "output_type": "execute_result"
    }
   ],
   "execution_count": 48
  },
  {
   "cell_type": "code",
   "source": [
    "help(round)"
   ],
   "metadata": {
    "colab": {
     "base_uri": "https://localhost:8080/"
    },
    "id": "nztM6i4QGCYL",
    "executionInfo": {
     "status": "ok",
     "timestamp": 1678947928706,
     "user_tz": -540,
     "elapsed": 863,
     "user": {
      "displayName": "이명호",
      "userId": "12463539480991451694"
     }
    },
    "outputId": "a35fa729-106d-46e8-8d08-465893f9f78c",
    "ExecuteTime": {
     "end_time": "2024-04-26T06:04:30.242176Z",
     "start_time": "2024-04-26T06:04:30.239644Z"
    }
   },
   "outputs": [
    {
     "name": "stdout",
     "output_type": "stream",
     "text": [
      "Help on built-in function round in module builtins:\n",
      "\n",
      "round(number, ndigits=None)\n",
      "    Round a number to a given precision in decimal digits.\n",
      "    \n",
      "    The return value is an integer if ndigits is omitted or None.  Otherwise\n",
      "    the return value has the same type as the number.  ndigits may be negative.\n",
      "\n"
     ]
    }
   ],
   "execution_count": 49
  },
  {
   "cell_type": "markdown",
   "source": [
    "## Scientific notation \n",
    "=> 1.0*10^500 = 1.0e+500"
   ],
   "metadata": {
    "collapsed": false
   }
  },
  {
   "cell_type": "code",
   "source": [
    "round?"
   ],
   "metadata": {
    "collapsed": false,
    "ExecuteTime": {
     "end_time": "2024-04-26T06:06:51.697183Z",
     "start_time": "2024-04-26T06:06:51.694823Z"
    }
   },
   "outputs": [],
   "execution_count": 54
  },
  {
   "cell_type": "code",
   "source": [
    "int('12')"
   ],
   "metadata": {
    "collapsed": false,
    "ExecuteTime": {
     "end_time": "2024-04-26T06:06:52.119990Z",
     "start_time": "2024-04-26T06:06:52.117562Z"
    }
   },
   "outputs": [
    {
     "data": {
      "text/plain": [
       "12"
      ]
     },
     "execution_count": 55,
     "metadata": {},
     "output_type": "execute_result"
    }
   ],
   "execution_count": 55
  },
  {
   "cell_type": "code",
   "source": [
    "x = 3\n",
    "y = '4'\n",
    "z = '5.6'"
   ],
   "metadata": {
    "collapsed": false,
    "ExecuteTime": {
     "end_time": "2024-04-26T06:06:52.389636Z",
     "start_time": "2024-04-26T06:06:52.387894Z"
    }
   },
   "outputs": [],
   "execution_count": 56
  },
  {
   "cell_type": "code",
   "source": [
    "x+y"
   ],
   "metadata": {
    "collapsed": false,
    "ExecuteTime": {
     "end_time": "2024-04-26T06:06:52.774170Z",
     "start_time": "2024-04-26T06:06:52.744671Z"
    }
   },
   "outputs": [
    {
     "ename": "TypeError",
     "evalue": "unsupported operand type(s) for +: 'int' and 'str'",
     "output_type": "error",
     "traceback": [
      "\u001B[0;31m---------------------------------------------------------------------------\u001B[0m",
      "\u001B[0;31mTypeError\u001B[0m                                 Traceback (most recent call last)",
      "Cell \u001B[0;32mIn[57], line 1\u001B[0m\n\u001B[0;32m----> 1\u001B[0m \u001B[43mx\u001B[49m\u001B[38;5;241;43m+\u001B[39;49m\u001B[43my\u001B[49m\n",
      "\u001B[0;31mTypeError\u001B[0m: unsupported operand type(s) for +: 'int' and 'str'"
     ]
    }
   ],
   "execution_count": 57
  },
  {
   "cell_type": "code",
   "source": [
    "x+int((y)+(z))"
   ],
   "metadata": {
    "collapsed": false,
    "ExecuteTime": {
     "end_time": "2024-04-26T06:06:53.095443Z",
     "start_time": "2024-04-26T06:06:53.086520Z"
    }
   },
   "outputs": [
    {
     "ename": "ValueError",
     "evalue": "invalid literal for int() with base 10: '45.6'",
     "output_type": "error",
     "traceback": [
      "\u001B[0;31m---------------------------------------------------------------------------\u001B[0m",
      "\u001B[0;31mValueError\u001B[0m                                Traceback (most recent call last)",
      "Cell \u001B[0;32mIn[58], line 1\u001B[0m\n\u001B[0;32m----> 1\u001B[0m x\u001B[38;5;241m+\u001B[39m\u001B[38;5;28;43mint\u001B[39;49m\u001B[43m(\u001B[49m\u001B[43m(\u001B[49m\u001B[43my\u001B[49m\u001B[43m)\u001B[49m\u001B[38;5;241;43m+\u001B[39;49m\u001B[43m(\u001B[49m\u001B[43mz\u001B[49m\u001B[43m)\u001B[49m\u001B[43m)\u001B[49m\n",
      "\u001B[0;31mValueError\u001B[0m: invalid literal for int() with base 10: '45.6'"
     ]
    }
   ],
   "execution_count": 58
  },
  {
   "cell_type": "code",
   "source": [
    "str(x)+int(y) # string은 오직 string과만 concatenate(이어붙이기)가 가능하다."
   ],
   "metadata": {
    "collapsed": false,
    "ExecuteTime": {
     "end_time": "2024-04-26T06:06:54.612232Z",
     "start_time": "2024-04-26T06:06:54.603903Z"
    }
   },
   "outputs": [
    {
     "ename": "TypeError",
     "evalue": "can only concatenate str (not \"int\") to str",
     "output_type": "error",
     "traceback": [
      "\u001B[0;31m---------------------------------------------------------------------------\u001B[0m",
      "\u001B[0;31mTypeError\u001B[0m                                 Traceback (most recent call last)",
      "Cell \u001B[0;32mIn[59], line 1\u001B[0m\n\u001B[0;32m----> 1\u001B[0m \u001B[38;5;28;43mstr\u001B[39;49m\u001B[43m(\u001B[49m\u001B[43mx\u001B[49m\u001B[43m)\u001B[49m\u001B[38;5;241;43m+\u001B[39;49m\u001B[38;5;28;43mint\u001B[39;49m\u001B[43m(\u001B[49m\u001B[43my\u001B[49m\u001B[43m)\u001B[49m \u001B[38;5;66;03m# string은 오직 string과만 concatenate(이어붙이기)가 가능하다.\u001B[39;00m\n",
      "\u001B[0;31mTypeError\u001B[0m: can only concatenate str (not \"int\") to str"
     ]
    }
   ],
   "execution_count": 59
  },
  {
   "cell_type": "code",
   "source": [],
   "metadata": {
    "collapsed": false,
    "ExecuteTime": {
     "end_time": "2024-04-26T06:06:55.160749Z",
     "start_time": "2024-04-26T06:06:55.159467Z"
    }
   },
   "outputs": [],
   "execution_count": 59
  },
  {
   "cell_type": "code",
   "source": [
    "y+float(z)"
   ],
   "metadata": {
    "collapsed": false,
    "ExecuteTime": {
     "end_time": "2024-04-26T06:06:55.635849Z",
     "start_time": "2024-04-26T06:06:55.626500Z"
    }
   },
   "outputs": [
    {
     "ename": "TypeError",
     "evalue": "can only concatenate str (not \"float\") to str",
     "output_type": "error",
     "traceback": [
      "\u001B[0;31m---------------------------------------------------------------------------\u001B[0m",
      "\u001B[0;31mTypeError\u001B[0m                                 Traceback (most recent call last)",
      "Cell \u001B[0;32mIn[60], line 1\u001B[0m\n\u001B[0;32m----> 1\u001B[0m \u001B[43my\u001B[49m\u001B[38;5;241;43m+\u001B[39;49m\u001B[38;5;28;43mfloat\u001B[39;49m\u001B[43m(\u001B[49m\u001B[43mz\u001B[49m\u001B[43m)\u001B[49m\n",
      "\u001B[0;31mTypeError\u001B[0m: can only concatenate str (not \"float\") to str"
     ]
    }
   ],
   "execution_count": 60
  },
  {
   "cell_type": "code",
   "source": [
    "type(2)"
   ],
   "metadata": {
    "collapsed": false,
    "ExecuteTime": {
     "end_time": "2024-04-26T06:06:56.516317Z",
     "start_time": "2024-04-26T06:06:56.513958Z"
    }
   },
   "outputs": [
    {
     "data": {
      "text/plain": [
       "int"
      ]
     },
     "execution_count": 61,
     "metadata": {},
     "output_type": "execute_result"
    }
   ],
   "execution_count": 61
  },
  {
   "cell_type": "code",
   "source": [
    "type(2+2)"
   ],
   "metadata": {
    "collapsed": false,
    "ExecuteTime": {
     "end_time": "2024-04-26T06:06:56.807077Z",
     "start_time": "2024-04-26T06:06:56.804523Z"
    }
   },
   "outputs": [
    {
     "data": {
      "text/plain": [
       "int"
      ]
     },
     "execution_count": 62,
     "metadata": {},
     "output_type": "execute_result"
    }
   ],
   "execution_count": 62
  },
  {
   "cell_type": "code",
   "source": [
    "type(2.5) "
   ],
   "metadata": {
    "collapsed": false,
    "ExecuteTime": {
     "end_time": "2024-04-26T06:06:57.039377Z",
     "start_time": "2024-04-26T06:06:57.037290Z"
    }
   },
   "outputs": [
    {
     "data": {
      "text/plain": [
       "float"
      ]
     },
     "execution_count": 63,
     "metadata": {},
     "output_type": "execute_result"
    }
   ],
   "execution_count": 63
  },
  {
   "cell_type": "code",
   "source": [
    "english_pars_of_sppech = make_array(\"noun\",\"pronoun\",\"verb\",\"adverb\",\"adjective\",\"conjunction\",\"preposition\",\"interjunction\")\n",
    "english_pars_of_sppech"
   ],
   "metadata": {
    "collapsed": false,
    "ExecuteTime": {
     "end_time": "2024-04-26T06:06:57.559570Z",
     "start_time": "2024-04-26T06:06:57.557052Z"
    }
   },
   "outputs": [
    {
     "data": {
      "text/plain": [
       "array(['noun', 'pronoun', 'verb', 'adverb', 'adjective', 'conjunction',\n",
       "       'preposition', 'interjunction'],\n",
       "      dtype='<U13')"
      ]
     },
     "execution_count": 64,
     "metadata": {},
     "output_type": "execute_result"
    }
   ],
   "execution_count": 64
  },
  {
   "cell_type": "code",
   "source": "a = [1,2,3,4] # list 생성해서 a에 할당",
   "metadata": {
    "collapsed": false,
    "ExecuteTime": {
     "end_time": "2024-04-26T06:06:57.658604Z",
     "start_time": "2024-04-26T06:06:57.656914Z"
    }
   },
   "outputs": [],
   "execution_count": 65
  },
  {
   "cell_type": "code",
   "source": [
    "np.array(a) + 2 # 이미 생성된 리스트를 array로 변환후 각각의 값에다 2 더함s"
   ],
   "metadata": {
    "collapsed": false,
    "ExecuteTime": {
     "end_time": "2024-04-26T06:06:57.771973Z",
     "start_time": "2024-04-26T06:06:57.769879Z"
    }
   },
   "outputs": [
    {
     "data": {
      "text/plain": [
       "array([3, 4, 5, 6])"
      ]
     },
     "execution_count": 66,
     "metadata": {},
     "output_type": "execute_result"
    }
   ],
   "execution_count": 66
  },
  {
   "cell_type": "code",
   "source": "",
   "metadata": {
    "collapsed": false,
    "ExecuteTime": {
     "end_time": "2024-04-26T06:06:57.834248Z",
     "start_time": "2024-04-26T06:06:57.832488Z"
    }
   },
   "outputs": [],
   "execution_count": 66
  },
  {
   "cell_type": "code",
   "source": [
    "baseline_high = 14.48\n"
   ],
   "metadata": {
    "collapsed": false,
    "ExecuteTime": {
     "end_time": "2024-04-26T06:06:57.919003Z",
     "start_time": "2024-04-26T06:06:57.917551Z"
    }
   },
   "outputs": [],
   "execution_count": 67
  },
  {
   "cell_type": "code",
   "source": [],
   "metadata": {
    "collapsed": false,
    "ExecuteTime": {
     "end_time": "2024-04-26T06:06:57.999352Z",
     "start_time": "2024-04-26T06:06:57.997994Z"
    }
   },
   "outputs": [],
   "execution_count": 67
  },
  {
   "cell_type": "code",
   "source": [
    "highs = make_array([baseline_high - 0.880, baseline_high - 0.093,\n",
    "baseline_high + 0.105, baseline_high + 0.684])"
   ],
   "metadata": {
    "collapsed": false,
    "ExecuteTime": {
     "end_time": "2024-04-26T06:06:58.090042Z",
     "start_time": "2024-04-26T06:06:58.088385Z"
    }
   },
   "outputs": [],
   "execution_count": 68
  },
  {
   "cell_type": "code",
   "source": [
    "highs"
   ],
   "metadata": {
    "collapsed": false,
    "ExecuteTime": {
     "end_time": "2024-04-26T06:06:58.164552Z",
     "start_time": "2024-04-26T06:06:58.162250Z"
    }
   },
   "outputs": [
    {
     "data": {
      "text/plain": [
       "array([[13.6, 14.387, 14.585, 15.164]], dtype=object)"
      ]
     },
     "execution_count": 69,
     "metadata": {},
     "output_type": "execute_result"
    }
   ],
   "execution_count": 69
  },
  {
   "metadata": {
    "ExecuteTime": {
     "end_time": "2024-04-26T06:06:58.267187Z",
     "start_time": "2024-04-26T06:06:58.264710Z"
    }
   },
   "cell_type": "code",
   "source": [
    "my_array = make_array([0,1,2,3,4,5])\n",
    "my_array2= make_array([5,4,3,2,1,0])\n",
    "my_array+my_array2"
   ],
   "outputs": [
    {
     "data": {
      "text/plain": [
       "array([[5, 5, 5, 5, 5, 5]], dtype=object)"
      ]
     },
     "execution_count": 70,
     "metadata": {},
     "output_type": "execute_result"
    }
   ],
   "execution_count": 70
  },
  {
   "cell_type": "markdown",
   "source": "",
   "metadata": {
    "collapsed": false
   }
  },
  {
   "metadata": {
    "ExecuteTime": {
     "end_time": "2024-04-26T06:06:58.390522Z",
     "start_time": "2024-04-26T06:06:58.388485Z"
    }
   },
   "cell_type": "code",
   "source": "my_np_arr = np.array([5,4,3,2])",
   "outputs": [],
   "execution_count": 71
  },
  {
   "cell_type": "code",
   "source": [
    "baseline_low = 3.00\n"
   ],
   "metadata": {
    "collapsed": false,
    "ExecuteTime": {
     "end_time": "2024-04-26T06:06:58.591058Z",
     "start_time": "2024-04-26T06:06:58.589514Z"
    }
   },
   "outputs": [],
   "execution_count": 72
  },
  {
   "cell_type": "code",
   "source": [
    "lows = np.array([baseline_low - 0.872, baseline_low - 0.629,\n",
    "baseline_low - 0.126, baseline_low + 0.728]) "
   ],
   "metadata": {
    "collapsed": false,
    "ExecuteTime": {
     "end_time": "2024-04-26T06:06:58.702760Z",
     "start_time": "2024-04-26T06:06:58.700818Z"
    }
   },
   "outputs": [],
   "execution_count": 73
  },
  {
   "cell_type": "code",
   "source": [
    "lows"
   ],
   "metadata": {
    "collapsed": false,
    "ExecuteTime": {
     "end_time": "2024-04-26T06:06:58.830842Z",
     "start_time": "2024-04-26T06:06:58.828364Z"
    }
   },
   "outputs": [
    {
     "data": {
      "text/plain": [
       "array([ 2.128,  2.371,  2.874,  3.728])"
      ]
     },
     "execution_count": 74,
     "metadata": {},
     "output_type": "execute_result"
    }
   ],
   "execution_count": 74
  },
  {
   "cell_type": "code",
   "source": [
    "zero_arr = np.array([1,0,0,0])\n",
    "zero_arr.all()"
   ],
   "metadata": {
    "collapsed": false,
    "ExecuteTime": {
     "end_time": "2024-04-26T06:06:58.902458Z",
     "start_time": "2024-04-26T06:06:58.899024Z"
    }
   },
   "outputs": [
    {
     "data": {
      "text/plain": [
       "False"
      ]
     },
     "execution_count": 75,
     "metadata": {},
     "output_type": "execute_result"
    }
   ],
   "execution_count": 75
  },
  {
   "metadata": {
    "ExecuteTime": {
     "end_time": "2024-04-26T06:06:59.016899Z",
     "start_time": "2024-04-26T06:06:59.014688Z"
    }
   },
   "cell_type": "code",
   "source": "np.count_nonzero(zero_arr)",
   "outputs": [
    {
     "data": {
      "text/plain": [
       "1"
      ]
     },
     "execution_count": 76,
     "metadata": {},
     "output_type": "execute_result"
    }
   ],
   "execution_count": 76
  },
  {
   "cell_type": "code",
   "source": [
    "np.all(lows)"
   ],
   "metadata": {
    "collapsed": false,
    "ExecuteTime": {
     "end_time": "2024-04-26T06:06:59.096142Z",
     "start_time": "2024-04-26T06:06:59.094061Z"
    }
   },
   "outputs": [
    {
     "data": {
      "text/plain": [
       "True"
      ]
     },
     "execution_count": 77,
     "metadata": {},
     "output_type": "execute_result"
    }
   ],
   "execution_count": 77
  },
  {
   "cell_type": "code",
   "source": [
    "np.any(lows)"
   ],
   "metadata": {
    "collapsed": false,
    "ExecuteTime": {
     "end_time": "2024-04-26T06:06:59.185735Z",
     "start_time": "2024-04-26T06:06:59.183480Z"
    }
   },
   "outputs": [
    {
     "data": {
      "text/plain": [
       "True"
      ]
     },
     "execution_count": 78,
     "metadata": {},
     "output_type": "execute_result"
    }
   ],
   "execution_count": 78
  },
  {
   "cell_type": "code",
   "source": [
    "np.arange(0,4) # [start, end)"
   ],
   "metadata": {
    "collapsed": false,
    "ExecuteTime": {
     "end_time": "2024-04-26T06:06:59.278010Z",
     "start_time": "2024-04-26T06:06:59.275694Z"
    }
   },
   "outputs": [
    {
     "data": {
      "text/plain": [
       "array([0, 1, 2, 3])"
      ]
     },
     "execution_count": 79,
     "metadata": {},
     "output_type": "execute_result"
    }
   ],
   "execution_count": 79
  },
  {
   "cell_type": "code",
   "source": [
    "np.arange(-1,2.5,0.5)"
   ],
   "metadata": {
    "collapsed": false,
    "ExecuteTime": {
     "end_time": "2024-04-26T06:06:59.367757Z",
     "start_time": "2024-04-26T06:06:59.365520Z"
    }
   },
   "outputs": [
    {
     "data": {
      "text/plain": [
       "array([-1. , -0.5,  0. ,  0.5,  1. ,  1.5,  2. ])"
      ]
     },
     "execution_count": 80,
     "metadata": {},
     "output_type": "execute_result"
    }
   ],
   "execution_count": 80
  },
  {
   "cell_type": "code",
   "source": [
    "highs-lows # np.array([highs.item(0)-lows.item(0) ... ])"
   ],
   "metadata": {
    "collapsed": false,
    "ExecuteTime": {
     "end_time": "2024-04-26T06:06:59.450695Z",
     "start_time": "2024-04-26T06:06:59.448225Z"
    }
   },
   "outputs": [
    {
     "data": {
      "text/plain": [
       "array([[11.472, 12.016, 11.711, 11.436]], dtype=object)"
      ]
     },
     "execution_count": 81,
     "metadata": {},
     "output_type": "execute_result"
    }
   ],
   "execution_count": 81
  },
  {
   "cell_type": "code",
   "source": [
    "by_four_to_20 = np.arange(1,20,4)\n",
    "by_four_to_20"
   ],
   "metadata": {
    "collapsed": false,
    "ExecuteTime": {
     "end_time": "2024-04-26T06:06:59.542921Z",
     "start_time": "2024-04-26T06:06:59.540551Z"
    }
   },
   "outputs": [
    {
     "data": {
      "text/plain": [
       "array([ 1,  5,  9, 13, 17])"
      ]
     },
     "execution_count": 82,
     "metadata": {},
     "output_type": "execute_result"
    }
   ],
   "execution_count": 82
  },
  {
   "cell_type": "code",
   "source": [
    "positive_term_denominators = np.arange(1,10000,4)\n",
    "positive_term_denominators"
   ],
   "metadata": {
    "collapsed": false,
    "ExecuteTime": {
     "end_time": "2024-04-26T06:06:59.614982Z",
     "start_time": "2024-04-26T06:06:59.612636Z"
    }
   },
   "outputs": [
    {
     "data": {
      "text/plain": [
       "array([   1,    5,    9, ..., 9989, 9993, 9997])"
      ]
     },
     "execution_count": 83,
     "metadata": {},
     "output_type": "execute_result"
    }
   ],
   "execution_count": 83
  },
  {
   "cell_type": "code",
   "source": [
    "positive_term = 1 / positive_term_denominators\n",
    "positive_term"
   ],
   "metadata": {
    "collapsed": false,
    "ExecuteTime": {
     "end_time": "2024-04-26T06:08:29.128889Z",
     "start_time": "2024-04-26T06:08:29.126497Z"
    }
   },
   "outputs": [
    {
     "data": {
      "text/plain": [
       "array([  1.00000000e+00,   2.00000000e-01,   1.11111111e-01, ...,\n",
       "         1.00110121e-04,   1.00070049e-04,   1.00030009e-04])"
      ]
     },
     "execution_count": 95,
     "metadata": {},
     "output_type": "execute_result"
    }
   ],
   "execution_count": 95
  },
  {
   "cell_type": "code",
   "source": [
    "negative_term = 1 / (positive_term_denominators+2)\n",
    "negative_term"
   ],
   "metadata": {
    "collapsed": false,
    "ExecuteTime": {
     "end_time": "2024-04-26T06:08:34.164359Z",
     "start_time": "2024-04-26T06:08:34.162022Z"
    }
   },
   "outputs": [
    {
     "data": {
      "text/plain": [
       "array([  3.33333333e-01,   1.42857143e-01,   9.09090909e-02, ...,\n",
       "         1.00090081e-04,   1.00050025e-04,   1.00010001e-04])"
      ]
     },
     "execution_count": 96,
     "metadata": {},
     "output_type": "execute_result"
    }
   ],
   "execution_count": 96
  },
  {
   "cell_type": "code",
   "source": [
    "4 * (sum(positive_term) - sum(negative_term))"
   ],
   "metadata": {
    "collapsed": false,
    "ExecuteTime": {
     "end_time": "2024-04-26T06:08:43.637858Z",
     "start_time": "2024-04-26T06:08:43.633732Z"
    }
   },
   "outputs": [
    {
     "data": {
      "text/plain": [
       "3.1413926535917955"
      ]
     },
     "execution_count": 97,
     "metadata": {},
     "output_type": "execute_result"
    }
   ],
   "execution_count": 97
  },
  {
   "cell_type": "markdown",
   "metadata": {
    "id": "YHO67F7xzIXy"
   },
   "source": [
    "## Tables ##"
   ]
  },
  {
   "cell_type": "code",
   "metadata": {
    "id": "zOrEX4UdzIXy",
    "colab": {
     "base_uri": "https://localhost:8080/",
     "height": 237
    },
    "executionInfo": {
     "status": "ok",
     "timestamp": 1678948412957,
     "user_tz": -540,
     "elapsed": 323,
     "user": {
      "displayName": "이명호",
      "userId": "12463539480991451694"
     }
    },
    "outputId": "08474cfc-cd33-4028-c5af-5fd126f3f06d",
    "ExecuteTime": {
     "end_time": "2024-04-26T06:09:08.141383Z",
     "start_time": "2024-04-26T06:09:08.136031Z"
    }
   },
   "source": [
    "cones = Table.read_table('./documents/cones.csv')\n",
    "cones"
   ],
   "outputs": [
    {
     "data": {
      "text/plain": [
       "Flavor     | Color       | Price | Rating\n",
       "strawberry | pink        | 3.55  | 1\n",
       "chocolate  | light brown | 4.75  | 4\n",
       "chocolate  | dark brown  | 5.25  | 3\n",
       "strawberry | pink        | 5.25  | 2\n",
       "chocolate  | dark brown  | 5.25  | 5\n",
       "bubblegum  | pink        | 4.75  | 1"
      ],
      "text/html": [
       "<table border=\"1\" class=\"dataframe\">\n",
       "    <thead>\n",
       "        <tr>\n",
       "            <th>Flavor</th> <th>Color</th> <th>Price</th> <th>Rating</th>\n",
       "        </tr>\n",
       "    </thead>\n",
       "    <tbody>\n",
       "        <tr>\n",
       "            <td>strawberry</td> <td>pink       </td> <td>3.55 </td> <td>1     </td>\n",
       "        </tr>\n",
       "        <tr>\n",
       "            <td>chocolate </td> <td>light brown</td> <td>4.75 </td> <td>4     </td>\n",
       "        </tr>\n",
       "        <tr>\n",
       "            <td>chocolate </td> <td>dark brown </td> <td>5.25 </td> <td>3     </td>\n",
       "        </tr>\n",
       "        <tr>\n",
       "            <td>strawberry</td> <td>pink       </td> <td>5.25 </td> <td>2     </td>\n",
       "        </tr>\n",
       "        <tr>\n",
       "            <td>chocolate </td> <td>dark brown </td> <td>5.25 </td> <td>5     </td>\n",
       "        </tr>\n",
       "        <tr>\n",
       "            <td>bubblegum </td> <td>pink       </td> <td>4.75 </td> <td>1     </td>\n",
       "        </tr>\n",
       "    </tbody>\n",
       "</table>"
      ]
     },
     "execution_count": 98,
     "metadata": {},
     "output_type": "execute_result"
    }
   ],
   "execution_count": 98
  },
  {
   "cell_type": "code",
   "metadata": {
    "id": "zsbbLzq6zIXy",
    "colab": {
     "base_uri": "https://localhost:8080/",
     "height": 173
    },
    "executionInfo": {
     "status": "ok",
     "timestamp": 1678948535229,
     "user_tz": -540,
     "elapsed": 1452,
     "user": {
      "displayName": "이명호",
      "userId": "12463539480991451694"
     }
    },
    "outputId": "41d34171-bc81-4c72-8ac6-d4f0a0bd3e12",
    "ExecuteTime": {
     "end_time": "2024-04-26T06:09:11.304682Z",
     "start_time": "2024-04-26T06:09:11.301698Z"
    }
   },
   "source": "cones.show(3) # 3개의 row만 출력 ",
   "outputs": [
    {
     "data": {
      "text/plain": [
       "<IPython.core.display.HTML object>"
      ],
      "text/html": [
       "<table border=\"1\" class=\"dataframe\">\n",
       "    <thead>\n",
       "        <tr>\n",
       "            <th>Flavor</th> <th>Color</th> <th>Price</th> <th>Rating</th>\n",
       "        </tr>\n",
       "    </thead>\n",
       "    <tbody>\n",
       "        <tr>\n",
       "            <td>strawberry</td> <td>pink       </td> <td>3.55 </td> <td>1     </td>\n",
       "        </tr>\n",
       "        <tr>\n",
       "            <td>chocolate </td> <td>light brown</td> <td>4.75 </td> <td>4     </td>\n",
       "        </tr>\n",
       "        <tr>\n",
       "            <td>chocolate </td> <td>dark brown </td> <td>5.25 </td> <td>3     </td>\n",
       "        </tr>\n",
       "    </tbody>\n",
       "</table>\n",
       "<p>... (3 rows omitted)</p>"
      ]
     },
     "metadata": {},
     "output_type": "display_data"
    }
   ],
   "execution_count": 99
  },
  {
   "cell_type": "code",
   "metadata": {
    "id": "vnT9sHm9zIXy",
    "colab": {
     "base_uri": "https://localhost:8080/",
     "height": 237
    },
    "executionInfo": {
     "status": "ok",
     "timestamp": 1678948559844,
     "user_tz": -540,
     "elapsed": 327,
     "user": {
      "displayName": "이명호",
      "userId": "12463539480991451694"
     }
    },
    "outputId": "da579054-4006-488f-f93e-88aad219f648",
    "ExecuteTime": {
     "end_time": "2024-04-26T06:07:01.024334Z",
     "start_time": "2024-04-26T06:07:01.022115Z"
    }
   },
   "source": "cones.show() #출력",
   "outputs": [
    {
     "data": {
      "text/plain": [
       "<IPython.core.display.HTML object>"
      ],
      "text/html": [
       "<table border=\"1\" class=\"dataframe\">\n",
       "    <thead>\n",
       "        <tr>\n",
       "            <th>Flavor</th> <th>Color</th> <th>Price</th> <th>Rating</th>\n",
       "        </tr>\n",
       "    </thead>\n",
       "    <tbody>\n",
       "        <tr>\n",
       "            <td>strawberry</td> <td>pink       </td> <td>3.55 </td> <td>1     </td>\n",
       "        </tr>\n",
       "        <tr>\n",
       "            <td>chocolate </td> <td>light brown</td> <td>4.75 </td> <td>4     </td>\n",
       "        </tr>\n",
       "        <tr>\n",
       "            <td>chocolate </td> <td>dark brown </td> <td>5.25 </td> <td>3     </td>\n",
       "        </tr>\n",
       "        <tr>\n",
       "            <td>strawberry</td> <td>pink       </td> <td>5.25 </td> <td>2     </td>\n",
       "        </tr>\n",
       "        <tr>\n",
       "            <td>chocolate </td> <td>dark brown </td> <td>5.25 </td> <td>5     </td>\n",
       "        </tr>\n",
       "        <tr>\n",
       "            <td>bubblegum </td> <td>pink       </td> <td>4.75 </td> <td>1     </td>\n",
       "        </tr>\n",
       "    </tbody>\n",
       "</table>"
      ]
     },
     "metadata": {},
     "output_type": "display_data"
    }
   ],
   "execution_count": 89
  },
  {
   "cell_type": "code",
   "metadata": {
    "id": "66Iws8T5zIXy",
    "colab": {
     "base_uri": "https://localhost:8080/",
     "height": 237
    },
    "executionInfo": {
     "status": "ok",
     "timestamp": 1678948581410,
     "user_tz": -540,
     "elapsed": 327,
     "user": {
      "displayName": "이명호",
      "userId": "12463539480991451694"
     }
    },
    "outputId": "012e58b5-59f1-4245-9323-bc5658001f1b",
    "ExecuteTime": {
     "end_time": "2024-04-26T06:07:01.089205Z",
     "start_time": "2024-04-26T06:07:01.086798Z"
    }
   },
   "source": "cones.select('Flavor') # flavor attrivute(Categroail attribute, Nomial attribute)",
   "outputs": [
    {
     "data": {
      "text/plain": [
       "Flavor\n",
       "strawberry\n",
       "chocolate\n",
       "chocolate\n",
       "strawberry\n",
       "chocolate\n",
       "bubblegum"
      ],
      "text/html": [
       "<table border=\"1\" class=\"dataframe\">\n",
       "    <thead>\n",
       "        <tr>\n",
       "            <th>Flavor</th>\n",
       "        </tr>\n",
       "    </thead>\n",
       "    <tbody>\n",
       "        <tr>\n",
       "            <td>strawberry</td>\n",
       "        </tr>\n",
       "        <tr>\n",
       "            <td>chocolate </td>\n",
       "        </tr>\n",
       "        <tr>\n",
       "            <td>chocolate </td>\n",
       "        </tr>\n",
       "        <tr>\n",
       "            <td>strawberry</td>\n",
       "        </tr>\n",
       "        <tr>\n",
       "            <td>chocolate </td>\n",
       "        </tr>\n",
       "        <tr>\n",
       "            <td>bubblegum </td>\n",
       "        </tr>\n",
       "    </tbody>\n",
       "</table>"
      ]
     },
     "execution_count": 90,
     "metadata": {},
     "output_type": "execute_result"
    }
   ],
   "execution_count": 90
  },
  {
   "cell_type": "code",
   "metadata": {
    "id": "DmAVrgGMzIXy",
    "colab": {
     "base_uri": "https://localhost:8080/",
     "height": 237
    },
    "executionInfo": {
     "status": "ok",
     "timestamp": 1678948595657,
     "user_tz": -540,
     "elapsed": 573,
     "user": {
      "displayName": "이명호",
      "userId": "12463539480991451694"
     }
    },
    "outputId": "41e8119a-2948-4e8a-fd17-b9559f970910",
    "ExecuteTime": {
     "end_time": "2024-04-26T06:07:01.197570Z",
     "start_time": "2024-04-26T06:07:01.194755Z"
    }
   },
   "source": "cones.select('Flavor', 'Price') ",
   "outputs": [
    {
     "data": {
      "text/plain": [
       "Flavor     | Price\n",
       "strawberry | 3.55\n",
       "chocolate  | 4.75\n",
       "chocolate  | 5.25\n",
       "strawberry | 5.25\n",
       "chocolate  | 5.25\n",
       "bubblegum  | 4.75"
      ],
      "text/html": [
       "<table border=\"1\" class=\"dataframe\">\n",
       "    <thead>\n",
       "        <tr>\n",
       "            <th>Flavor</th> <th>Price</th>\n",
       "        </tr>\n",
       "    </thead>\n",
       "    <tbody>\n",
       "        <tr>\n",
       "            <td>strawberry</td> <td>3.55 </td>\n",
       "        </tr>\n",
       "        <tr>\n",
       "            <td>chocolate </td> <td>4.75 </td>\n",
       "        </tr>\n",
       "        <tr>\n",
       "            <td>chocolate </td> <td>5.25 </td>\n",
       "        </tr>\n",
       "        <tr>\n",
       "            <td>strawberry</td> <td>5.25 </td>\n",
       "        </tr>\n",
       "        <tr>\n",
       "            <td>chocolate </td> <td>5.25 </td>\n",
       "        </tr>\n",
       "        <tr>\n",
       "            <td>bubblegum </td> <td>4.75 </td>\n",
       "        </tr>\n",
       "    </tbody>\n",
       "</table>"
      ]
     },
     "execution_count": 91,
     "metadata": {},
     "output_type": "execute_result"
    }
   ],
   "execution_count": 91
  },
  {
   "cell_type": "code",
   "metadata": {
    "id": "m5pualx_zIXy",
    "colab": {
     "base_uri": "https://localhost:8080/",
     "height": 237
    },
    "executionInfo": {
     "status": "ok",
     "timestamp": 1678948609659,
     "user_tz": -540,
     "elapsed": 7,
     "user": {
      "displayName": "이명호",
      "userId": "12463539480991451694"
     }
    },
    "outputId": "87e3fb11-31da-403c-c4cf-92c901061133",
    "ExecuteTime": {
     "end_time": "2024-04-26T06:07:01.323994Z",
     "start_time": "2024-04-26T06:07:01.321817Z"
    }
   },
   "source": "cones.drop('Price') # drop the price attribute",
   "outputs": [
    {
     "data": {
      "text/plain": [
       "Flavor     | Color       | Rating\n",
       "strawberry | pink        | 1\n",
       "chocolate  | light brown | 4\n",
       "chocolate  | dark brown  | 3\n",
       "strawberry | pink        | 2\n",
       "chocolate  | dark brown  | 5\n",
       "bubblegum  | pink        | 1"
      ],
      "text/html": [
       "<table border=\"1\" class=\"dataframe\">\n",
       "    <thead>\n",
       "        <tr>\n",
       "            <th>Flavor</th> <th>Color</th> <th>Rating</th>\n",
       "        </tr>\n",
       "    </thead>\n",
       "    <tbody>\n",
       "        <tr>\n",
       "            <td>strawberry</td> <td>pink       </td> <td>1     </td>\n",
       "        </tr>\n",
       "        <tr>\n",
       "            <td>chocolate </td> <td>light brown</td> <td>4     </td>\n",
       "        </tr>\n",
       "        <tr>\n",
       "            <td>chocolate </td> <td>dark brown </td> <td>3     </td>\n",
       "        </tr>\n",
       "        <tr>\n",
       "            <td>strawberry</td> <td>pink       </td> <td>2     </td>\n",
       "        </tr>\n",
       "        <tr>\n",
       "            <td>chocolate </td> <td>dark brown </td> <td>5     </td>\n",
       "        </tr>\n",
       "        <tr>\n",
       "            <td>bubblegum </td> <td>pink       </td> <td>1     </td>\n",
       "        </tr>\n",
       "    </tbody>\n",
       "</table>"
      ]
     },
     "execution_count": 92,
     "metadata": {},
     "output_type": "execute_result"
    }
   ],
   "execution_count": 92
  },
  {
   "cell_type": "code",
   "metadata": {
    "id": "Rnllbm41zIXy",
    "colab": {
     "base_uri": "https://localhost:8080/",
     "height": 237
    },
    "executionInfo": {
     "status": "ok",
     "timestamp": 1678948622133,
     "user_tz": -540,
     "elapsed": 427,
     "user": {
      "displayName": "이명호",
      "userId": "12463539480991451694"
     }
    },
    "outputId": "50b65c99-6c33-4f00-ab4d-a5eab2193b5d",
    "ExecuteTime": {
     "end_time": "2024-04-26T06:07:01.426179Z",
     "start_time": "2024-04-26T06:07:01.424014Z"
    }
   },
   "source": "cones # 다만 cones 변수에 재할당하지 않았으므로 cones는 그대로이다.",
   "outputs": [
    {
     "data": {
      "text/plain": [
       "Flavor     | Color       | Price | Rating\n",
       "strawberry | pink        | 3.55  | 1\n",
       "chocolate  | light brown | 4.75  | 4\n",
       "chocolate  | dark brown  | 5.25  | 3\n",
       "strawberry | pink        | 5.25  | 2\n",
       "chocolate  | dark brown  | 5.25  | 5\n",
       "bubblegum  | pink        | 4.75  | 1"
      ],
      "text/html": [
       "<table border=\"1\" class=\"dataframe\">\n",
       "    <thead>\n",
       "        <tr>\n",
       "            <th>Flavor</th> <th>Color</th> <th>Price</th> <th>Rating</th>\n",
       "        </tr>\n",
       "    </thead>\n",
       "    <tbody>\n",
       "        <tr>\n",
       "            <td>strawberry</td> <td>pink       </td> <td>3.55 </td> <td>1     </td>\n",
       "        </tr>\n",
       "        <tr>\n",
       "            <td>chocolate </td> <td>light brown</td> <td>4.75 </td> <td>4     </td>\n",
       "        </tr>\n",
       "        <tr>\n",
       "            <td>chocolate </td> <td>dark brown </td> <td>5.25 </td> <td>3     </td>\n",
       "        </tr>\n",
       "        <tr>\n",
       "            <td>strawberry</td> <td>pink       </td> <td>5.25 </td> <td>2     </td>\n",
       "        </tr>\n",
       "        <tr>\n",
       "            <td>chocolate </td> <td>dark brown </td> <td>5.25 </td> <td>5     </td>\n",
       "        </tr>\n",
       "        <tr>\n",
       "            <td>bubblegum </td> <td>pink       </td> <td>4.75 </td> <td>1     </td>\n",
       "        </tr>\n",
       "    </tbody>\n",
       "</table>"
      ]
     },
     "execution_count": 93,
     "metadata": {},
     "output_type": "execute_result"
    }
   ],
   "execution_count": 93
  },
  {
   "cell_type": "code",
   "metadata": {
    "id": "vVSj116pzIXy",
    "colab": {
     "base_uri": "https://localhost:8080/",
     "height": 237
    },
    "executionInfo": {
     "status": "ok",
     "timestamp": 1678948646902,
     "user_tz": -540,
     "elapsed": 300,
     "user": {
      "displayName": "이명호",
      "userId": "12463539480991451694"
     }
    },
    "outputId": "20ca5068-580a-47c5-efd3-cfe2a6181dfc",
    "ExecuteTime": {
     "end_time": "2024-04-26T06:07:01.539582Z",
     "start_time": "2024-04-26T06:07:01.537120Z"
    }
   },
   "source": [
    "cones_without_price = cones.drop('Price') # \n",
    "cones_without_price"
   ],
   "outputs": [
    {
     "data": {
      "text/plain": [
       "Flavor     | Color       | Rating\n",
       "strawberry | pink        | 1\n",
       "chocolate  | light brown | 4\n",
       "chocolate  | dark brown  | 3\n",
       "strawberry | pink        | 2\n",
       "chocolate  | dark brown  | 5\n",
       "bubblegum  | pink        | 1"
      ],
      "text/html": [
       "<table border=\"1\" class=\"dataframe\">\n",
       "    <thead>\n",
       "        <tr>\n",
       "            <th>Flavor</th> <th>Color</th> <th>Rating</th>\n",
       "        </tr>\n",
       "    </thead>\n",
       "    <tbody>\n",
       "        <tr>\n",
       "            <td>strawberry</td> <td>pink       </td> <td>1     </td>\n",
       "        </tr>\n",
       "        <tr>\n",
       "            <td>chocolate </td> <td>light brown</td> <td>4     </td>\n",
       "        </tr>\n",
       "        <tr>\n",
       "            <td>chocolate </td> <td>dark brown </td> <td>3     </td>\n",
       "        </tr>\n",
       "        <tr>\n",
       "            <td>strawberry</td> <td>pink       </td> <td>2     </td>\n",
       "        </tr>\n",
       "        <tr>\n",
       "            <td>chocolate </td> <td>dark brown </td> <td>5     </td>\n",
       "        </tr>\n",
       "        <tr>\n",
       "            <td>bubblegum </td> <td>pink       </td> <td>1     </td>\n",
       "        </tr>\n",
       "    </tbody>\n",
       "</table>"
      ]
     },
     "execution_count": 94,
     "metadata": {},
     "output_type": "execute_result"
    }
   ],
   "execution_count": 94
  },
  {
   "cell_type": "code",
   "metadata": {
    "scrolled": true,
    "id": "WBCoBKaAzIXy",
    "colab": {
     "base_uri": "https://localhost:8080/",
     "height": 143
    },
    "executionInfo": {
     "status": "ok",
     "timestamp": 1678948666986,
     "user_tz": -540,
     "elapsed": 367,
     "user": {
      "displayName": "이명호",
      "userId": "12463539480991451694"
     }
    },
    "outputId": "cba8be40-bc69-4f3f-b41d-2c3c21bc8a63",
    "ExecuteTime": {
     "end_time": "2024-04-09T12:59:29.069915Z",
     "start_time": "2024-04-09T12:59:29.067653Z"
    }
   },
   "source": "cones.where('Flavor', 'chocolate') # flavor attrbute의 value가 chocolate인 row들만 출력 # SELECT * FROM CONES WHERE \"Flavor\" == \"chocolate\"",
   "outputs": [
    {
     "data": {
      "text/plain": [
       "Flavor    | Color       | Price | Rating\n",
       "chocolate | light brown | 4.75  | 4\n",
       "chocolate | dark brown  | 5.25  | 3\n",
       "chocolate | dark brown  | 5.25  | 5"
      ],
      "text/html": [
       "<table border=\"1\" class=\"dataframe\">\n",
       "    <thead>\n",
       "        <tr>\n",
       "            <th>Flavor</th> <th>Color</th> <th>Price</th> <th>Rating</th>\n",
       "        </tr>\n",
       "    </thead>\n",
       "    <tbody>\n",
       "        <tr>\n",
       "            <td>chocolate</td> <td>light brown</td> <td>4.75 </td> <td>4     </td>\n",
       "        </tr>\n",
       "        <tr>\n",
       "            <td>chocolate</td> <td>dark brown </td> <td>5.25 </td> <td>3     </td>\n",
       "        </tr>\n",
       "        <tr>\n",
       "            <td>chocolate</td> <td>dark brown </td> <td>5.25 </td> <td>5     </td>\n",
       "        </tr>\n",
       "    </tbody>\n",
       "</table>"
      ]
     },
     "execution_count": 122,
     "metadata": {},
     "output_type": "execute_result"
    }
   ],
   "execution_count": 122
  },
  {
   "cell_type": "code",
   "metadata": {
    "id": "lqFnIOhAzIXy",
    "colab": {
     "base_uri": "https://localhost:8080/",
     "height": 237
    },
    "executionInfo": {
     "status": "ok",
     "timestamp": 1678948686668,
     "user_tz": -540,
     "elapsed": 978,
     "user": {
      "displayName": "이명호",
      "userId": "12463539480991451694"
     }
    },
    "outputId": "9264322e-b00f-40dd-b002-05a3364c68b2",
    "ExecuteTime": {
     "end_time": "2024-04-09T12:59:29.173137Z",
     "start_time": "2024-04-09T12:59:29.170420Z"
    }
   },
   "source": [
    "cones.sort('Price')"
   ],
   "outputs": [
    {
     "data": {
      "text/plain": [
       "Flavor     | Color       | Price | Rating\n",
       "strawberry | pink        | 3.55  | 1\n",
       "chocolate  | light brown | 4.75  | 4\n",
       "bubblegum  | pink        | 4.75  | 1\n",
       "chocolate  | dark brown  | 5.25  | 3\n",
       "strawberry | pink        | 5.25  | 2\n",
       "chocolate  | dark brown  | 5.25  | 5"
      ],
      "text/html": [
       "<table border=\"1\" class=\"dataframe\">\n",
       "    <thead>\n",
       "        <tr>\n",
       "            <th>Flavor</th> <th>Color</th> <th>Price</th> <th>Rating</th>\n",
       "        </tr>\n",
       "    </thead>\n",
       "    <tbody>\n",
       "        <tr>\n",
       "            <td>strawberry</td> <td>pink       </td> <td>3.55 </td> <td>1     </td>\n",
       "        </tr>\n",
       "        <tr>\n",
       "            <td>chocolate </td> <td>light brown</td> <td>4.75 </td> <td>4     </td>\n",
       "        </tr>\n",
       "        <tr>\n",
       "            <td>bubblegum </td> <td>pink       </td> <td>4.75 </td> <td>1     </td>\n",
       "        </tr>\n",
       "        <tr>\n",
       "            <td>chocolate </td> <td>dark brown </td> <td>5.25 </td> <td>3     </td>\n",
       "        </tr>\n",
       "        <tr>\n",
       "            <td>strawberry</td> <td>pink       </td> <td>5.25 </td> <td>2     </td>\n",
       "        </tr>\n",
       "        <tr>\n",
       "            <td>chocolate </td> <td>dark brown </td> <td>5.25 </td> <td>5     </td>\n",
       "        </tr>\n",
       "    </tbody>\n",
       "</table>"
      ]
     },
     "execution_count": 123,
     "metadata": {},
     "output_type": "execute_result"
    }
   ],
   "execution_count": 123
  },
  {
   "cell_type": "code",
   "metadata": {
    "scrolled": true,
    "id": "-I4HQeW8zIXz",
    "colab": {
     "base_uri": "https://localhost:8080/",
     "height": 237
    },
    "executionInfo": {
     "status": "ok",
     "timestamp": 1678948705753,
     "user_tz": -540,
     "elapsed": 325,
     "user": {
      "displayName": "이명호",
      "userId": "12463539480991451694"
     }
    },
    "outputId": "46ea1171-b39b-43a3-fa2d-91abb0c67516",
    "ExecuteTime": {
     "end_time": "2024-04-09T12:59:29.294107Z",
     "start_time": "2024-04-09T12:59:29.291398Z"
    }
   },
   "source": "cones.sort('Price', descending=True) # descending = False 가 defautl 오름차순을 의미",
   "outputs": [
    {
     "data": {
      "text/plain": [
       "Flavor     | Color       | Price | Rating\n",
       "chocolate  | dark brown  | 5.25  | 3\n",
       "strawberry | pink        | 5.25  | 2\n",
       "chocolate  | dark brown  | 5.25  | 5\n",
       "chocolate  | light brown | 4.75  | 4\n",
       "bubblegum  | pink        | 4.75  | 1\n",
       "strawberry | pink        | 3.55  | 1"
      ],
      "text/html": [
       "<table border=\"1\" class=\"dataframe\">\n",
       "    <thead>\n",
       "        <tr>\n",
       "            <th>Flavor</th> <th>Color</th> <th>Price</th> <th>Rating</th>\n",
       "        </tr>\n",
       "    </thead>\n",
       "    <tbody>\n",
       "        <tr>\n",
       "            <td>chocolate </td> <td>dark brown </td> <td>5.25 </td> <td>3     </td>\n",
       "        </tr>\n",
       "        <tr>\n",
       "            <td>strawberry</td> <td>pink       </td> <td>5.25 </td> <td>2     </td>\n",
       "        </tr>\n",
       "        <tr>\n",
       "            <td>chocolate </td> <td>dark brown </td> <td>5.25 </td> <td>5     </td>\n",
       "        </tr>\n",
       "        <tr>\n",
       "            <td>chocolate </td> <td>light brown</td> <td>4.75 </td> <td>4     </td>\n",
       "        </tr>\n",
       "        <tr>\n",
       "            <td>bubblegum </td> <td>pink       </td> <td>4.75 </td> <td>1     </td>\n",
       "        </tr>\n",
       "        <tr>\n",
       "            <td>strawberry</td> <td>pink       </td> <td>3.55 </td> <td>1     </td>\n",
       "        </tr>\n",
       "    </tbody>\n",
       "</table>"
      ]
     },
     "execution_count": 124,
     "metadata": {},
     "output_type": "execute_result"
    }
   ],
   "execution_count": 124
  },
  {
   "cell_type": "code",
   "metadata": {
    "id": "zVd1G-TLzIXz",
    "colab": {
     "base_uri": "https://localhost:8080/",
     "height": 237
    },
    "executionInfo": {
     "status": "ok",
     "timestamp": 1678948725091,
     "user_tz": -540,
     "elapsed": 314,
     "user": {
      "displayName": "이명호",
      "userId": "12463539480991451694"
     }
    },
    "outputId": "2a07b4ee-b346-4680-a3fa-65e917542dcb",
    "ExecuteTime": {
     "end_time": "2024-04-09T12:59:29.375738Z",
     "start_time": "2024-04-09T12:59:29.372723Z"
    }
   },
   "source": [
    "cones.sort('Flavor', descending=True)"
   ],
   "outputs": [
    {
     "data": {
      "text/plain": [
       "Flavor     | Color       | Price | Rating\n",
       "strawberry | pink        | 3.55  | 1\n",
       "strawberry | pink        | 5.25  | 2\n",
       "chocolate  | light brown | 4.75  | 4\n",
       "chocolate  | dark brown  | 5.25  | 3\n",
       "chocolate  | dark brown  | 5.25  | 5\n",
       "bubblegum  | pink        | 4.75  | 1"
      ],
      "text/html": [
       "<table border=\"1\" class=\"dataframe\">\n",
       "    <thead>\n",
       "        <tr>\n",
       "            <th>Flavor</th> <th>Color</th> <th>Price</th> <th>Rating</th>\n",
       "        </tr>\n",
       "    </thead>\n",
       "    <tbody>\n",
       "        <tr>\n",
       "            <td>strawberry</td> <td>pink       </td> <td>3.55 </td> <td>1     </td>\n",
       "        </tr>\n",
       "        <tr>\n",
       "            <td>strawberry</td> <td>pink       </td> <td>5.25 </td> <td>2     </td>\n",
       "        </tr>\n",
       "        <tr>\n",
       "            <td>chocolate </td> <td>light brown</td> <td>4.75 </td> <td>4     </td>\n",
       "        </tr>\n",
       "        <tr>\n",
       "            <td>chocolate </td> <td>dark brown </td> <td>5.25 </td> <td>3     </td>\n",
       "        </tr>\n",
       "        <tr>\n",
       "            <td>chocolate </td> <td>dark brown </td> <td>5.25 </td> <td>5     </td>\n",
       "        </tr>\n",
       "        <tr>\n",
       "            <td>bubblegum </td> <td>pink       </td> <td>4.75 </td> <td>1     </td>\n",
       "        </tr>\n",
       "    </tbody>\n",
       "</table>"
      ]
     },
     "execution_count": 125,
     "metadata": {},
     "output_type": "execute_result"
    }
   ],
   "execution_count": 125
  },
  {
   "cell_type": "markdown",
   "metadata": {
    "id": "lSJe_EvtzIXz"
   },
   "source": [
    "### A more interesting table"
   ]
  },
  {
   "cell_type": "code",
   "source": "Table.read_table('./documents/nba_salaries.csv')",
   "metadata": {
    "id": "sUc-QlfNppeS",
    "colab": {
     "base_uri": "https://localhost:8080/",
     "height": 392
    },
    "executionInfo": {
     "status": "ok",
     "timestamp": 1678948767211,
     "user_tz": -540,
     "elapsed": 308,
     "user": {
      "displayName": "이명호",
      "userId": "12463539480991451694"
     }
    },
    "outputId": "4f64c33b-e237-4550-c458-7892882554d8",
    "ExecuteTime": {
     "end_time": "2024-04-09T12:59:38.080871Z",
     "start_time": "2024-04-09T12:59:38.060766Z"
    }
   },
   "outputs": [
    {
     "data": {
      "text/plain": [
       "rank | name             | position | team                   | salary   | season\n",
       "1    | Shaquille O'Neal | C        | Los Angeles Lakers     | 17142000 | 2000\n",
       "2    | Kevin Garnett    | PF       | Minnesota Timberwolves | 16806000 | 2000\n",
       "3    | Alonzo Mourning  | C        | Miami Heat             | 15004000 | 2000\n",
       "4    | Juwan Howard     | PF       | Washington Wizards     | 15000000 | 2000\n",
       "5    | Scottie Pippen   | SF       | Portland Trail Blazers | 14795000 | 2000\n",
       "6    | Karl Malone      | PF       | Utah Jazz              | 14000000 | 2000\n",
       "7    | Larry Johnson    | F        | New York Knicks        | 11910000 | 2000\n",
       "8    | Gary Payton      | PG       | Seattle SuperSonics    | 11020000 | 2000\n",
       "9    | Rasheed Wallace  | PF       | Portland Trail Blazers | 10800000 | 2000\n",
       "10   | Shawn Kemp       | C        | Cleveland Cavaliers    | 10780000 | 2000\n",
       "... (9446 rows omitted)"
      ],
      "text/html": [
       "<table border=\"1\" class=\"dataframe\">\n",
       "    <thead>\n",
       "        <tr>\n",
       "            <th>rank</th> <th>name</th> <th>position</th> <th>team</th> <th>salary</th> <th>season</th>\n",
       "        </tr>\n",
       "    </thead>\n",
       "    <tbody>\n",
       "        <tr>\n",
       "            <td>1   </td> <td>Shaquille O'Neal</td> <td>C       </td> <td>Los Angeles Lakers    </td> <td>17142000</td> <td>2000  </td>\n",
       "        </tr>\n",
       "        <tr>\n",
       "            <td>2   </td> <td>Kevin Garnett   </td> <td>PF      </td> <td>Minnesota Timberwolves</td> <td>16806000</td> <td>2000  </td>\n",
       "        </tr>\n",
       "        <tr>\n",
       "            <td>3   </td> <td>Alonzo Mourning </td> <td>C       </td> <td>Miami Heat            </td> <td>15004000</td> <td>2000  </td>\n",
       "        </tr>\n",
       "        <tr>\n",
       "            <td>4   </td> <td>Juwan Howard    </td> <td>PF      </td> <td>Washington Wizards    </td> <td>15000000</td> <td>2000  </td>\n",
       "        </tr>\n",
       "        <tr>\n",
       "            <td>5   </td> <td>Scottie Pippen  </td> <td>SF      </td> <td>Portland Trail Blazers</td> <td>14795000</td> <td>2000  </td>\n",
       "        </tr>\n",
       "        <tr>\n",
       "            <td>6   </td> <td>Karl Malone     </td> <td>PF      </td> <td>Utah Jazz             </td> <td>14000000</td> <td>2000  </td>\n",
       "        </tr>\n",
       "        <tr>\n",
       "            <td>7   </td> <td>Larry Johnson   </td> <td>F       </td> <td>New York Knicks       </td> <td>11910000</td> <td>2000  </td>\n",
       "        </tr>\n",
       "        <tr>\n",
       "            <td>8   </td> <td>Gary Payton     </td> <td>PG      </td> <td>Seattle SuperSonics   </td> <td>11020000</td> <td>2000  </td>\n",
       "        </tr>\n",
       "        <tr>\n",
       "            <td>9   </td> <td>Rasheed Wallace </td> <td>PF      </td> <td>Portland Trail Blazers</td> <td>10800000</td> <td>2000  </td>\n",
       "        </tr>\n",
       "        <tr>\n",
       "            <td>10  </td> <td>Shawn Kemp      </td> <td>C       </td> <td>Cleveland Cavaliers   </td> <td>10780000</td> <td>2000  </td>\n",
       "        </tr>\n",
       "    </tbody>\n",
       "</table>\n",
       "<p>... (9446 rows omitted)</p>"
      ]
     },
     "execution_count": 130,
     "metadata": {},
     "output_type": "execute_result"
    }
   ],
   "execution_count": 130
  },
  {
   "cell_type": "code",
   "metadata": {
    "id": "TleECv0rzIXz",
    "colab": {
     "base_uri": "https://localhost:8080/",
     "height": 392
    },
    "executionInfo": {
     "status": "ok",
     "timestamp": 1678948844778,
     "user_tz": -540,
     "elapsed": 326,
     "user": {
      "displayName": "이명호",
      "userId": "12463539480991451694"
     }
    },
    "outputId": "b9327b37-e69d-4ca1-b36c-c67488a1d911",
    "ExecuteTime": {
     "end_time": "2024-04-09T12:59:45.849938Z",
     "start_time": "2024-04-09T12:59:45.823002Z"
    }
   },
   "source": [
    "nba = Table.read_table('./documents/nba_salaries.csv').relabeled(3, 'SALARY')\n",
    "# 원래 3번 레이블(0부터 시작)을 'SALARY'로 바꿈\n",
    "nba"
   ],
   "outputs": [
    {
     "data": {
      "text/plain": [
       "rank | name             | position | SALARY                 | salary   | season\n",
       "1    | Shaquille O'Neal | C        | Los Angeles Lakers     | 17142000 | 2000\n",
       "2    | Kevin Garnett    | PF       | Minnesota Timberwolves | 16806000 | 2000\n",
       "3    | Alonzo Mourning  | C        | Miami Heat             | 15004000 | 2000\n",
       "4    | Juwan Howard     | PF       | Washington Wizards     | 15000000 | 2000\n",
       "5    | Scottie Pippen   | SF       | Portland Trail Blazers | 14795000 | 2000\n",
       "6    | Karl Malone      | PF       | Utah Jazz              | 14000000 | 2000\n",
       "7    | Larry Johnson    | F        | New York Knicks        | 11910000 | 2000\n",
       "8    | Gary Payton      | PG       | Seattle SuperSonics    | 11020000 | 2000\n",
       "9    | Rasheed Wallace  | PF       | Portland Trail Blazers | 10800000 | 2000\n",
       "10   | Shawn Kemp       | C        | Cleveland Cavaliers    | 10780000 | 2000\n",
       "... (9446 rows omitted)"
      ],
      "text/html": [
       "<table border=\"1\" class=\"dataframe\">\n",
       "    <thead>\n",
       "        <tr>\n",
       "            <th>rank</th> <th>name</th> <th>position</th> <th>SALARY</th> <th>salary</th> <th>season</th>\n",
       "        </tr>\n",
       "    </thead>\n",
       "    <tbody>\n",
       "        <tr>\n",
       "            <td>1   </td> <td>Shaquille O'Neal</td> <td>C       </td> <td>Los Angeles Lakers    </td> <td>17142000</td> <td>2000  </td>\n",
       "        </tr>\n",
       "        <tr>\n",
       "            <td>2   </td> <td>Kevin Garnett   </td> <td>PF      </td> <td>Minnesota Timberwolves</td> <td>16806000</td> <td>2000  </td>\n",
       "        </tr>\n",
       "        <tr>\n",
       "            <td>3   </td> <td>Alonzo Mourning </td> <td>C       </td> <td>Miami Heat            </td> <td>15004000</td> <td>2000  </td>\n",
       "        </tr>\n",
       "        <tr>\n",
       "            <td>4   </td> <td>Juwan Howard    </td> <td>PF      </td> <td>Washington Wizards    </td> <td>15000000</td> <td>2000  </td>\n",
       "        </tr>\n",
       "        <tr>\n",
       "            <td>5   </td> <td>Scottie Pippen  </td> <td>SF      </td> <td>Portland Trail Blazers</td> <td>14795000</td> <td>2000  </td>\n",
       "        </tr>\n",
       "        <tr>\n",
       "            <td>6   </td> <td>Karl Malone     </td> <td>PF      </td> <td>Utah Jazz             </td> <td>14000000</td> <td>2000  </td>\n",
       "        </tr>\n",
       "        <tr>\n",
       "            <td>7   </td> <td>Larry Johnson   </td> <td>F       </td> <td>New York Knicks       </td> <td>11910000</td> <td>2000  </td>\n",
       "        </tr>\n",
       "        <tr>\n",
       "            <td>8   </td> <td>Gary Payton     </td> <td>PG      </td> <td>Seattle SuperSonics   </td> <td>11020000</td> <td>2000  </td>\n",
       "        </tr>\n",
       "        <tr>\n",
       "            <td>9   </td> <td>Rasheed Wallace </td> <td>PF      </td> <td>Portland Trail Blazers</td> <td>10800000</td> <td>2000  </td>\n",
       "        </tr>\n",
       "        <tr>\n",
       "            <td>10  </td> <td>Shawn Kemp      </td> <td>C       </td> <td>Cleveland Cavaliers   </td> <td>10780000</td> <td>2000  </td>\n",
       "        </tr>\n",
       "    </tbody>\n",
       "</table>\n",
       "<p>... (9446 rows omitted)</p>"
      ]
     },
     "execution_count": 139,
     "metadata": {},
     "output_type": "execute_result"
    }
   ],
   "execution_count": 139
  },
  {
   "cell_type": "code",
   "metadata": {
    "id": "FZgNLaEVzIXz",
    "executionInfo": {
     "status": "ok",
     "timestamp": 1678948898646,
     "user_tz": -540,
     "elapsed": 417,
     "user": {
      "displayName": "이명호",
      "userId": "12463539480991451694"
     }
    },
    "ExecuteTime": {
     "end_time": "2024-04-09T12:59:46.521068Z",
     "start_time": "2024-04-09T12:59:46.514921Z"
    }
   },
   "source": [
    "point_guards = nba.where('position', 'PG')\n",
    "# position인 PG인 것만 추출 #PG: point guard"
   ],
   "outputs": [],
   "execution_count": 140
  },
  {
   "cell_type": "code",
   "metadata": {
    "id": "5WDHjbHszIXz",
    "colab": {
     "base_uri": "https://localhost:8080/",
     "height": 392
    },
    "executionInfo": {
     "status": "ok",
     "timestamp": 1678948901500,
     "user_tz": -540,
     "elapsed": 354,
     "user": {
      "displayName": "이명호",
      "userId": "12463539480991451694"
     }
    },
    "outputId": "6bcdd4c8-689b-4938-c60f-8c61550bef6e",
    "ExecuteTime": {
     "end_time": "2024-04-09T12:59:48.067984Z",
     "start_time": "2024-04-09T12:59:48.065307Z"
    }
   },
   "source": [
    "point_guards"
   ],
   "outputs": [
    {
     "data": {
      "text/plain": [
       "rank | name             | position | SALARY                 | salary   | season\n",
       "8    | Gary Payton      | PG       | Seattle SuperSonics    | 11020000 | 2000\n",
       "11   | Damon Stoudamire | PG       | Portland Trail Blazers | 10125000 | 2000\n",
       "20   | Stephon Marbury  | PG       | New Jersey Nets        | 9000000  | 2000\n",
       "24   | Nick Van Exel    | PG       | Denver Nuggets         | 8354000  | 2000\n",
       "26   | Terrell Brandon  | PG       | Minnesota Timberwolves | 7400000  | 2000\n",
       "34   | Jason Kidd       | PG       | Phoenix Suns           | 6858000  | 2000\n",
       "35   | Kenny Anderson   | PG       | Boston Celtics         | 6680000  | 2000\n",
       "39   | Steve Nash       | PG       | Dallas Mavericks       | 5500000  | 2000\n",
       "55   | Charlie Ward     | PG       | New York Knicks        | 4540000  | 2000\n",
       "61   | Darrel Armstrong | PG       | Orlando Magic          | 4125000  | 2000\n",
       "... (1465 rows omitted)"
      ],
      "text/html": [
       "<table border=\"1\" class=\"dataframe\">\n",
       "    <thead>\n",
       "        <tr>\n",
       "            <th>rank</th> <th>name</th> <th>position</th> <th>SALARY</th> <th>salary</th> <th>season</th>\n",
       "        </tr>\n",
       "    </thead>\n",
       "    <tbody>\n",
       "        <tr>\n",
       "            <td>8   </td> <td>Gary Payton     </td> <td>PG      </td> <td>Seattle SuperSonics   </td> <td>11020000</td> <td>2000  </td>\n",
       "        </tr>\n",
       "        <tr>\n",
       "            <td>11  </td> <td>Damon Stoudamire</td> <td>PG      </td> <td>Portland Trail Blazers</td> <td>10125000</td> <td>2000  </td>\n",
       "        </tr>\n",
       "        <tr>\n",
       "            <td>20  </td> <td>Stephon Marbury </td> <td>PG      </td> <td>New Jersey Nets       </td> <td>9000000 </td> <td>2000  </td>\n",
       "        </tr>\n",
       "        <tr>\n",
       "            <td>24  </td> <td>Nick Van Exel   </td> <td>PG      </td> <td>Denver Nuggets        </td> <td>8354000 </td> <td>2000  </td>\n",
       "        </tr>\n",
       "        <tr>\n",
       "            <td>26  </td> <td>Terrell Brandon </td> <td>PG      </td> <td>Minnesota Timberwolves</td> <td>7400000 </td> <td>2000  </td>\n",
       "        </tr>\n",
       "        <tr>\n",
       "            <td>34  </td> <td>Jason Kidd      </td> <td>PG      </td> <td>Phoenix Suns          </td> <td>6858000 </td> <td>2000  </td>\n",
       "        </tr>\n",
       "        <tr>\n",
       "            <td>35  </td> <td>Kenny Anderson  </td> <td>PG      </td> <td>Boston Celtics        </td> <td>6680000 </td> <td>2000  </td>\n",
       "        </tr>\n",
       "        <tr>\n",
       "            <td>39  </td> <td>Steve Nash      </td> <td>PG      </td> <td>Dallas Mavericks      </td> <td>5500000 </td> <td>2000  </td>\n",
       "        </tr>\n",
       "        <tr>\n",
       "            <td>55  </td> <td>Charlie Ward    </td> <td>PG      </td> <td>New York Knicks       </td> <td>4540000 </td> <td>2000  </td>\n",
       "        </tr>\n",
       "        <tr>\n",
       "            <td>61  </td> <td>Darrel Armstrong</td> <td>PG      </td> <td>Orlando Magic         </td> <td>4125000 </td> <td>2000  </td>\n",
       "        </tr>\n",
       "    </tbody>\n",
       "</table>\n",
       "<p>... (1465 rows omitted)</p>"
      ]
     },
     "execution_count": 141,
     "metadata": {},
     "output_type": "execute_result"
    }
   ],
   "execution_count": 141
  },
  {
   "cell_type": "code",
   "metadata": {
    "id": "NmRyB2gjzIXz",
    "colab": {
     "base_uri": "https://localhost:8080/",
     "height": 392
    },
    "executionInfo": {
     "status": "ok",
     "timestamp": 1678948945643,
     "user_tz": -540,
     "elapsed": 490,
     "user": {
      "displayName": "이명호",
      "userId": "12463539480991451694"
     }
    },
    "outputId": "196938ac-8f0f-42a5-bdfe-46885cf5432c",
    "ExecuteTime": {
     "end_time": "2024-04-09T12:59:48.611276Z",
     "start_time": "2024-04-09T12:59:48.608589Z"
    }
   },
   "source": [
    "point_guards.drop('position')\n",
    "# position 열 삭제"
   ],
   "outputs": [
    {
     "data": {
      "text/plain": [
       "rank | name             | SALARY                 | salary   | season\n",
       "8    | Gary Payton      | Seattle SuperSonics    | 11020000 | 2000\n",
       "11   | Damon Stoudamire | Portland Trail Blazers | 10125000 | 2000\n",
       "20   | Stephon Marbury  | New Jersey Nets        | 9000000  | 2000\n",
       "24   | Nick Van Exel    | Denver Nuggets         | 8354000  | 2000\n",
       "26   | Terrell Brandon  | Minnesota Timberwolves | 7400000  | 2000\n",
       "34   | Jason Kidd       | Phoenix Suns           | 6858000  | 2000\n",
       "35   | Kenny Anderson   | Boston Celtics         | 6680000  | 2000\n",
       "39   | Steve Nash       | Dallas Mavericks       | 5500000  | 2000\n",
       "55   | Charlie Ward     | New York Knicks        | 4540000  | 2000\n",
       "61   | Darrel Armstrong | Orlando Magic          | 4125000  | 2000\n",
       "... (1465 rows omitted)"
      ],
      "text/html": [
       "<table border=\"1\" class=\"dataframe\">\n",
       "    <thead>\n",
       "        <tr>\n",
       "            <th>rank</th> <th>name</th> <th>SALARY</th> <th>salary</th> <th>season</th>\n",
       "        </tr>\n",
       "    </thead>\n",
       "    <tbody>\n",
       "        <tr>\n",
       "            <td>8   </td> <td>Gary Payton     </td> <td>Seattle SuperSonics   </td> <td>11020000</td> <td>2000  </td>\n",
       "        </tr>\n",
       "        <tr>\n",
       "            <td>11  </td> <td>Damon Stoudamire</td> <td>Portland Trail Blazers</td> <td>10125000</td> <td>2000  </td>\n",
       "        </tr>\n",
       "        <tr>\n",
       "            <td>20  </td> <td>Stephon Marbury </td> <td>New Jersey Nets       </td> <td>9000000 </td> <td>2000  </td>\n",
       "        </tr>\n",
       "        <tr>\n",
       "            <td>24  </td> <td>Nick Van Exel   </td> <td>Denver Nuggets        </td> <td>8354000 </td> <td>2000  </td>\n",
       "        </tr>\n",
       "        <tr>\n",
       "            <td>26  </td> <td>Terrell Brandon </td> <td>Minnesota Timberwolves</td> <td>7400000 </td> <td>2000  </td>\n",
       "        </tr>\n",
       "        <tr>\n",
       "            <td>34  </td> <td>Jason Kidd      </td> <td>Phoenix Suns          </td> <td>6858000 </td> <td>2000  </td>\n",
       "        </tr>\n",
       "        <tr>\n",
       "            <td>35  </td> <td>Kenny Anderson  </td> <td>Boston Celtics        </td> <td>6680000 </td> <td>2000  </td>\n",
       "        </tr>\n",
       "        <tr>\n",
       "            <td>39  </td> <td>Steve Nash      </td> <td>Dallas Mavericks      </td> <td>5500000 </td> <td>2000  </td>\n",
       "        </tr>\n",
       "        <tr>\n",
       "            <td>55  </td> <td>Charlie Ward    </td> <td>New York Knicks       </td> <td>4540000 </td> <td>2000  </td>\n",
       "        </tr>\n",
       "        <tr>\n",
       "            <td>61  </td> <td>Darrel Armstrong</td> <td>Orlando Magic         </td> <td>4125000 </td> <td>2000  </td>\n",
       "        </tr>\n",
       "    </tbody>\n",
       "</table>\n",
       "<p>... (1465 rows omitted)</p>"
      ]
     },
     "execution_count": 142,
     "metadata": {},
     "output_type": "execute_result"
    }
   ],
   "execution_count": 142
  },
  {
   "cell_type": "code",
   "metadata": {
    "id": "2smLBIL_zIXz",
    "colab": {
     "base_uri": "https://localhost:8080/",
     "height": 392
    },
    "executionInfo": {
     "status": "ok",
     "timestamp": 1678948956547,
     "user_tz": -540,
     "elapsed": 418,
     "user": {
      "displayName": "이명호",
      "userId": "12463539480991451694"
     }
    },
    "outputId": "7b22d633-025c-4126-ab6e-0f58923df14d",
    "ExecuteTime": {
     "end_time": "2024-04-09T12:59:49.113905Z",
     "start_time": "2024-04-09T12:59:49.110615Z"
    }
   },
   "source": [
    "point_guards"
   ],
   "outputs": [
    {
     "data": {
      "text/plain": [
       "rank | name             | position | SALARY                 | salary   | season\n",
       "8    | Gary Payton      | PG       | Seattle SuperSonics    | 11020000 | 2000\n",
       "11   | Damon Stoudamire | PG       | Portland Trail Blazers | 10125000 | 2000\n",
       "20   | Stephon Marbury  | PG       | New Jersey Nets        | 9000000  | 2000\n",
       "24   | Nick Van Exel    | PG       | Denver Nuggets         | 8354000  | 2000\n",
       "26   | Terrell Brandon  | PG       | Minnesota Timberwolves | 7400000  | 2000\n",
       "34   | Jason Kidd       | PG       | Phoenix Suns           | 6858000  | 2000\n",
       "35   | Kenny Anderson   | PG       | Boston Celtics         | 6680000  | 2000\n",
       "39   | Steve Nash       | PG       | Dallas Mavericks       | 5500000  | 2000\n",
       "55   | Charlie Ward     | PG       | New York Knicks        | 4540000  | 2000\n",
       "61   | Darrel Armstrong | PG       | Orlando Magic          | 4125000  | 2000\n",
       "... (1465 rows omitted)"
      ],
      "text/html": [
       "<table border=\"1\" class=\"dataframe\">\n",
       "    <thead>\n",
       "        <tr>\n",
       "            <th>rank</th> <th>name</th> <th>position</th> <th>SALARY</th> <th>salary</th> <th>season</th>\n",
       "        </tr>\n",
       "    </thead>\n",
       "    <tbody>\n",
       "        <tr>\n",
       "            <td>8   </td> <td>Gary Payton     </td> <td>PG      </td> <td>Seattle SuperSonics   </td> <td>11020000</td> <td>2000  </td>\n",
       "        </tr>\n",
       "        <tr>\n",
       "            <td>11  </td> <td>Damon Stoudamire</td> <td>PG      </td> <td>Portland Trail Blazers</td> <td>10125000</td> <td>2000  </td>\n",
       "        </tr>\n",
       "        <tr>\n",
       "            <td>20  </td> <td>Stephon Marbury </td> <td>PG      </td> <td>New Jersey Nets       </td> <td>9000000 </td> <td>2000  </td>\n",
       "        </tr>\n",
       "        <tr>\n",
       "            <td>24  </td> <td>Nick Van Exel   </td> <td>PG      </td> <td>Denver Nuggets        </td> <td>8354000 </td> <td>2000  </td>\n",
       "        </tr>\n",
       "        <tr>\n",
       "            <td>26  </td> <td>Terrell Brandon </td> <td>PG      </td> <td>Minnesota Timberwolves</td> <td>7400000 </td> <td>2000  </td>\n",
       "        </tr>\n",
       "        <tr>\n",
       "            <td>34  </td> <td>Jason Kidd      </td> <td>PG      </td> <td>Phoenix Suns          </td> <td>6858000 </td> <td>2000  </td>\n",
       "        </tr>\n",
       "        <tr>\n",
       "            <td>35  </td> <td>Kenny Anderson  </td> <td>PG      </td> <td>Boston Celtics        </td> <td>6680000 </td> <td>2000  </td>\n",
       "        </tr>\n",
       "        <tr>\n",
       "            <td>39  </td> <td>Steve Nash      </td> <td>PG      </td> <td>Dallas Mavericks      </td> <td>5500000 </td> <td>2000  </td>\n",
       "        </tr>\n",
       "        <tr>\n",
       "            <td>55  </td> <td>Charlie Ward    </td> <td>PG      </td> <td>New York Knicks       </td> <td>4540000 </td> <td>2000  </td>\n",
       "        </tr>\n",
       "        <tr>\n",
       "            <td>61  </td> <td>Darrel Armstrong</td> <td>PG      </td> <td>Orlando Magic         </td> <td>4125000 </td> <td>2000  </td>\n",
       "        </tr>\n",
       "    </tbody>\n",
       "</table>\n",
       "<p>... (1465 rows omitted)</p>"
      ]
     },
     "execution_count": 143,
     "metadata": {},
     "output_type": "execute_result"
    }
   ],
   "execution_count": 143
  },
  {
   "cell_type": "code",
   "metadata": {
    "id": "H--w1r7uzIXz",
    "executionInfo": {
     "status": "ok",
     "timestamp": 1678948969142,
     "user_tz": -540,
     "elapsed": 946,
     "user": {
      "displayName": "이명호",
      "userId": "12463539480991451694"
     }
    },
    "ExecuteTime": {
     "end_time": "2024-04-09T12:59:49.202354Z",
     "start_time": "2024-04-09T12:59:49.199875Z"
    }
   },
   "source": [
    "point_guards = point_guards.drop('position')"
   ],
   "outputs": [],
   "execution_count": 144
  },
  {
   "cell_type": "code",
   "metadata": {
    "id": "apeF6nJYzIXz",
    "ExecuteTime": {
     "end_time": "2024-04-09T13:07:35.081684Z",
     "start_time": "2024-04-09T13:07:35.068569Z"
    }
   },
   "source": [
    "point_guards.sort('salary', descending=True).show()\n",
    "# salary 열을 기준으로 내림차순 정렬 # 고액연봉자부터 출력된다."
   ],
   "outputs": [
    {
     "data": {
      "text/plain": [
       "<IPython.core.display.HTML object>"
      ],
      "text/html": [
       "<table border=\"1\" class=\"dataframe\">\n",
       "    <thead>\n",
       "        <tr>\n",
       "            <th>rank</th> <th>name</th> <th>SALARY</th> <th>salary</th> <th>season</th>\n",
       "        </tr>\n",
       "    </thead>\n",
       "    <tbody>\n",
       "        <tr>\n",
       "            <td>1   </td> <td>Stephen Curry          </td> <td>Golden State Warriors    </td> <td>40231758</td> <td>2020  </td>\n",
       "        </tr>\n",
       "        <tr>\n",
       "            <td>2   </td> <td>Chris Paul             </td> <td>Oklahoma City Thunder    </td> <td>38506482</td> <td>2020  </td>\n",
       "        </tr>\n",
       "        <tr>\n",
       "            <td>3   </td> <td>Russell Westbrook      </td> <td>Houston Rockets          </td> <td>38506482</td> <td>2020  </td>\n",
       "        </tr>\n",
       "        <tr>\n",
       "            <td>4   </td> <td>John Wall              </td> <td>Washington Wizards       </td> <td>38199000</td> <td>2020  </td>\n",
       "        </tr>\n",
       "        <tr>\n",
       "            <td>1   </td> <td>Stephen Curry          </td> <td>Golden State Warriors    </td> <td>37457154</td> <td>2018  </td>\n",
       "        </tr>\n",
       "        <tr>\n",
       "            <td>1   </td> <td>Stephen Curry          </td> <td>Golden State Warriors    </td> <td>37457154</td> <td>2019  </td>\n",
       "        </tr>\n",
       "        <tr>\n",
       "            <td>2   </td> <td>Chris Paul             </td> <td>Houston Rockets          </td> <td>35654150</td> <td>2019  </td>\n",
       "        </tr>\n",
       "        <tr>\n",
       "            <td>4   </td> <td>Russell Westbrook      </td> <td>Oklahoma City Thunder    </td> <td>35654150</td> <td>2019  </td>\n",
       "        </tr>\n",
       "        <tr>\n",
       "            <td>8   </td> <td>Kyle Lowry             </td> <td>Toronto Raptors          </td> <td>34996296</td> <td>2020  </td>\n",
       "        </tr>\n",
       "        <tr>\n",
       "            <td>14  </td> <td>Kemba Walker           </td> <td>Boston Celtics           </td> <td>32742000</td> <td>2020  </td>\n",
       "        </tr>\n",
       "        <tr>\n",
       "            <td>16  </td> <td>Mike Conley            </td> <td>Utah Jazz                </td> <td>32511624</td> <td>2020  </td>\n",
       "        </tr>\n",
       "        <tr>\n",
       "            <td>17  </td> <td>Kyrie Irving           </td> <td>Brooklyn Nets            </td> <td>31742000</td> <td>2020  </td>\n",
       "        </tr>\n",
       "        <tr>\n",
       "            <td>4   </td> <td>Kyle Lowry             </td> <td>Toronto Raptors          </td> <td>31200000</td> <td>2018  </td>\n",
       "        </tr>\n",
       "        <tr>\n",
       "            <td>7   </td> <td>Kyle Lowry             </td> <td>Toronto Raptors          </td> <td>31200000</td> <td>2019  </td>\n",
       "        </tr>\n",
       "        <tr>\n",
       "            <td>9   </td> <td>Mike Conley            </td> <td>Memphis Grizzlies        </td> <td>30521115</td> <td>2019  </td>\n",
       "        </tr>\n",
       "        <tr>\n",
       "            <td>21  </td> <td>Damian Lillard         </td> <td>Portland Trail Blazers   </td> <td>29802321</td> <td>2020  </td>\n",
       "        </tr>\n",
       "        <tr>\n",
       "            <td>6   </td> <td>Mike Conley            </td> <td>Memphis Grizzlies        </td> <td>28530608</td> <td>2018  </td>\n",
       "        </tr>\n",
       "        <tr>\n",
       "            <td>7   </td> <td>Russell Westbrook      </td> <td>Oklahoma City Thunder    </td> <td>28530608</td> <td>2018  </td>\n",
       "        </tr>\n",
       "        <tr>\n",
       "            <td>14  </td> <td>Damian Lillard         </td> <td>Portland Trail Blazers   </td> <td>27977689</td> <td>2019  </td>\n",
       "        </tr>\n",
       "        <tr>\n",
       "            <td>2   </td> <td>Mike Conley            </td> <td>Memphis Grizzlies        </td> <td>26540100</td> <td>2017  </td>\n",
       "        </tr>\n",
       "        <tr>\n",
       "            <td>7   </td> <td>Russell Westbrook      </td> <td>Oklahoma City Thunder    </td> <td>26540100</td> <td>2017  </td>\n",
       "        </tr>\n",
       "        <tr>\n",
       "            <td>12  </td> <td>Damian Lillard         </td> <td>Portland Trail Blazers   </td> <td>26153057</td> <td>2018  </td>\n",
       "        </tr>\n",
       "        <tr>\n",
       "            <td>19  </td> <td>Chris Paul             </td> <td>Houston Rockets          </td> <td>24599495</td> <td>2018  </td>\n",
       "        </tr>\n",
       "        <tr>\n",
       "            <td>10  </td> <td>Damian Lillard         </td> <td>Portland Trail Blazers   </td> <td>24328425</td> <td>2017  </td>\n",
       "        </tr>\n",
       "        <tr>\n",
       "            <td>14  </td> <td>Chris Paul             </td> <td>LA Clippers              </td> <td>22868827</td> <td>2017  </td>\n",
       "        </tr>\n",
       "        <tr>\n",
       "            <td>6   </td> <td>Chris Paul             </td> <td>LA Clippers              </td> <td>21468695</td> <td>2016  </td>\n",
       "        </tr>\n",
       "        <tr>\n",
       "            <td>2   </td> <td>Jason Kidd             </td> <td>Dallas Mavericks         </td> <td>21372000</td> <td>2009  </td>\n",
       "        </tr>\n",
       "        <tr>\n",
       "            <td>21  </td> <td>Derrick Rose           </td> <td>New York Knicks          </td> <td>21323252</td> <td>2017  </td>\n",
       "        </tr>\n",
       "        <tr>\n",
       "            <td>7   </td> <td>Stephon Marbury        </td> <td>Boston Celtics           </td> <td>20840625</td> <td>2009  </td>\n",
       "        </tr>\n",
       "        <tr>\n",
       "            <td>43  </td> <td>Kyrie Irving           </td> <td>Boston Celtics           </td> <td>20099189</td> <td>2019  </td>\n",
       "        </tr>\n",
       "        <tr>\n",
       "            <td>8   </td> <td>Derrick Rose           </td> <td>Chicago Bulls            </td> <td>20093064</td> <td>2016  </td>\n",
       "        </tr>\n",
       "        <tr>\n",
       "            <td>7   </td> <td>Chris Paul             </td> <td>LA Clippers              </td> <td>20068563</td> <td>2015  </td>\n",
       "        </tr>\n",
       "        <tr>\n",
       "            <td>52  </td> <td>Malcolm Brogdon        </td> <td>Indiana Pacers           </td> <td>20000000</td> <td>2020  </td>\n",
       "        </tr>\n",
       "        <tr>\n",
       "            <td>53  </td> <td>Terry Rozier           </td> <td>Charlotte Hornets        </td> <td>19894737</td> <td>2020  </td>\n",
       "        </tr>\n",
       "        <tr>\n",
       "            <td>8   </td> <td>Deron Williams         </td> <td>Brooklyn Nets            </td> <td>19754465</td> <td>2015  </td>\n",
       "        </tr>\n",
       "        <tr>\n",
       "            <td>3   </td> <td>Jason Kidd             </td> <td>New Jersey Nets          </td> <td>19728000</td> <td>2008  </td>\n",
       "        </tr>\n",
       "        <tr>\n",
       "            <td>45  </td> <td>Zach LaVine            </td> <td>Chicago Bulls            </td> <td>19500000</td> <td>2019  </td>\n",
       "        </tr>\n",
       "        <tr>\n",
       "            <td>55  </td> <td>Zach LaVine            </td> <td>Chicago Bulls            </td> <td>19500000</td> <td>2020  </td>\n",
       "        </tr>\n",
       "        <tr>\n",
       "            <td>57  </td> <td>Goran Dragic           </td> <td>Miami Heat               </td> <td>19217900</td> <td>2020  </td>\n",
       "        </tr>\n",
       "        <tr>\n",
       "            <td>41  </td> <td>John Wall              </td> <td>Washington Wizards       </td> <td>19169800</td> <td>2018  </td>\n",
       "        </tr>\n",
       "        <tr>\n",
       "            <td>48  </td> <td>John Wall              </td> <td>Washington Wizards       </td> <td>19169800</td> <td>2019  </td>\n",
       "        </tr>\n",
       "        <tr>\n",
       "            <td>8   </td> <td>Stephon Marbury        </td> <td>New York Knicks          </td> <td>19012500</td> <td>2008  </td>\n",
       "        </tr>\n",
       "        <tr>\n",
       "            <td>42  </td> <td>George Hill            </td> <td>Sacramento Kings         </td> <td>19000000</td> <td>2018  </td>\n",
       "        </tr>\n",
       "        <tr>\n",
       "            <td>43  </td> <td>Jeff Teague            </td> <td>Minnesota Timberwolves   </td> <td>19000000</td> <td>2018  </td>\n",
       "        </tr>\n",
       "        <tr>\n",
       "            <td>49  </td> <td>George Hill            </td> <td>Milwaukee Bucks          </td> <td>19000000</td> <td>2019  </td>\n",
       "        </tr>\n",
       "        <tr>\n",
       "            <td>50  </td> <td>Jeff Teague            </td> <td>Minnesota Timberwolves   </td> <td>19000000</td> <td>2019  </td>\n",
       "        </tr>\n",
       "        <tr>\n",
       "            <td>58  </td> <td>Jeff Teague            </td> <td>Minnesota Timberwolves   </td> <td>19000000</td> <td>2020  </td>\n",
       "        </tr>\n",
       "        <tr>\n",
       "            <td>44  </td> <td>Kyrie Irving           </td> <td>Boston Celtics           </td> <td>18868626</td> <td>2018  </td>\n",
       "        </tr>\n",
       "        <tr>\n",
       "            <td>11  </td> <td>Derrick Rose           </td> <td>Chicago Bulls            </td> <td>18862876</td> <td>2015  </td>\n",
       "        </tr>\n",
       "        <tr>\n",
       "            <td>10  </td> <td>Chris Paul             </td> <td>LA Clippers              </td> <td>18668431</td> <td>2013  </td>\n",
       "        </tr>\n",
       "        <tr>\n",
       "            <td>11  </td> <td>Chris Paul             </td> <td>LA Clippers              </td> <td>18668431</td> <td>2014  </td>\n",
       "        </tr>\n",
       "        <tr>\n",
       "            <td>12  </td> <td>Deron Williams         </td> <td>Brooklyn Nets            </td> <td>18466130</td> <td>2014  </td>\n",
       "        </tr>\n",
       "        <tr>\n",
       "            <td>49  </td> <td>Goran Dragic           </td> <td>Miami Heat               </td> <td>18109175</td> <td>2018  </td>\n",
       "        </tr>\n",
       "        <tr>\n",
       "            <td>53  </td> <td>Goran Dragic           </td> <td>Miami Heat               </td> <td>18109175</td> <td>2019  </td>\n",
       "        </tr>\n",
       "        <tr>\n",
       "            <td>3   </td> <td>Jason Kidd             </td> <td>New Jersey Nets          </td> <td>18084000</td> <td>2007  </td>\n",
       "        </tr>\n",
       "        <tr>\n",
       "            <td>8   </td> <td>Gilbert Arenas         </td> <td>Washington Wizards       </td> <td>17730694</td> <td>2011  </td>\n",
       "        </tr>\n",
       "        <tr>\n",
       "            <td>34  </td> <td>Kyrie Irving           </td> <td>Cleveland Cavaliers      </td> <td>17638063</td> <td>2017  </td>\n",
       "        </tr>\n",
       "        <tr>\n",
       "            <td>12  </td> <td>Derrick Rose           </td> <td>Chicago Bulls            </td> <td>17632688</td> <td>2013  </td>\n",
       "        </tr>\n",
       "        <tr>\n",
       "            <td>16  </td> <td>Derrick Rose           </td> <td>Chicago Bulls            </td> <td>17632688</td> <td>2014  </td>\n",
       "        </tr>\n",
       "        <tr>\n",
       "            <td>8   </td> <td>Stephon Marbury        </td> <td>New York Knicks          </td> <td>17184375</td> <td>2007  </td>\n",
       "        </tr>\n",
       "        <tr>\n",
       "            <td>13  </td> <td>Deron Williams         </td> <td>Brooklyn Nets            </td> <td>17177795</td> <td>2013  </td>\n",
       "        </tr>\n",
       "        <tr>\n",
       "            <td>60  </td> <td>Reggie Jackson         </td> <td>Detroit Pistons          </td> <td>17043478</td> <td>2018  </td>\n",
       "        </tr>\n",
       "        <tr>\n",
       "            <td>59  </td> <td>Reggie Jackson         </td> <td>Detroit Pistons          </td> <td>17043478</td> <td>2019  </td>\n",
       "        </tr>\n",
       "        <tr>\n",
       "            <td>44  </td> <td>John Wall              </td> <td>Washington Wizards       </td> <td>16957900</td> <td>2017  </td>\n",
       "        </tr>\n",
       "        <tr>\n",
       "            <td>18  </td> <td>Russell Westbrook      </td> <td>Oklahoma City Thunder    </td> <td>16744218</td> <td>2016  </td>\n",
       "        </tr>\n",
       "        <tr>\n",
       "            <td>5   </td> <td>Stephon Marbury        </td> <td>New York Knicks          </td> <td>16453125</td> <td>2006  </td>\n",
       "        </tr>\n",
       "        <tr>\n",
       "            <td>6   </td> <td>Jason Kidd             </td> <td>New Jersey Nets          </td> <td>16440000</td> <td>2006  </td>\n",
       "        </tr>\n",
       "        <tr>\n",
       "            <td>10  </td> <td>Baron Davis            </td> <td>Golden State Warriors    </td> <td>16440000</td> <td>2008  </td>\n",
       "        </tr>\n",
       "        <tr>\n",
       "            <td>19  </td> <td>Kyrie Irving           </td> <td>Cleveland Cavaliers      </td> <td>16407501</td> <td>2016  </td>\n",
       "        </tr>\n",
       "        <tr>\n",
       "            <td>15  </td> <td>Chris Paul             </td> <td>LA Clippers              </td> <td>16359805</td> <td>2012  </td>\n",
       "        </tr>\n",
       "        <tr>\n",
       "            <td>16  </td> <td>Deron Williams         </td> <td>New Jersey Nets          </td> <td>16359805</td> <td>2012  </td>\n",
       "        </tr>\n",
       "        <tr>\n",
       "            <td>73  </td> <td>Ricky Rubio            </td> <td>Phoenix Suns             </td> <td>16200000</td> <td>2020  </td>\n",
       "        </tr>\n",
       "        <tr>\n",
       "            <td>16  </td> <td>Gilbert Arenas         </td> <td>Washington Wizards       </td> <td>16192080</td> <td>2010  </td>\n",
       "        </tr>\n",
       "        <tr>\n",
       "            <td>51  </td> <td>Goran Dragic           </td> <td>Miami Heat               </td> <td>15891725</td> <td>2017  </td>\n",
       "        </tr>\n",
       "        <tr>\n",
       "            <td>26  </td> <td>John Wall              </td> <td>Washington Wizards       </td> <td>15851950</td> <td>2016  </td>\n",
       "        </tr>\n",
       "        <tr>\n",
       "            <td>5   </td> <td>Damon Stoudamire       </td> <td>Portland Trail Blazers   </td> <td>15750000</td> <td>2005  </td>\n",
       "        </tr>\n",
       "        <tr>\n",
       "            <td>19  </td> <td>Russell Westbrook      </td> <td>Oklahoma City Thunder    </td> <td>15719062</td> <td>2015  </td>\n",
       "        </tr>\n",
       "        <tr>\n",
       "            <td>76  </td> <td>Brandon Knight         </td> <td>Detroit Pistons          </td> <td>15643750</td> <td>2020  </td>\n",
       "        </tr>\n",
       "        <tr>\n",
       "            <td>78  </td> <td>Eric Bledsoe           </td> <td>Milwaukee Bucks          </td> <td>15625000</td> <td>2020  </td>\n",
       "        </tr>\n",
       "        <tr>\n",
       "            <td>68  </td> <td>Dennis Schroder        </td> <td>Atlanta Hawks            </td> <td>15500000</td> <td>2018  </td>\n",
       "        </tr>\n",
       "        <tr>\n",
       "            <td>67  </td> <td>Dennis Schroder        </td> <td>Oklahoma City Thunder    </td> <td>15500000</td> <td>2019  </td>\n",
       "        </tr>\n",
       "        <tr>\n",
       "            <td>79  </td> <td>Dennis Schroder        </td> <td>Oklahoma City Thunder    </td> <td>15500000</td> <td>2020  </td>\n",
       "        </tr>\n",
       "        <tr>\n",
       "            <td>16  </td> <td>Steve Francis          </td> <td>New York Knicks          </td> <td>15070000</td> <td>2007  </td>\n",
       "        </tr>\n",
       "        <tr>\n",
       "            <td>17  </td> <td>Baron Davis            </td> <td>Golden State Warriors    </td> <td>15070000</td> <td>2007  </td>\n",
       "        </tr>\n",
       "        <tr>\n",
       "            <td>71  </td> <td>Eric Bledsoe           </td> <td>Phoenix Suns             </td> <td>15000000</td> <td>2018  </td>\n",
       "        </tr>\n",
       "        <tr>\n",
       "            <td>71  </td> <td>Eric Bledsoe           </td> <td>Milwaukee Bucks          </td> <td>15000000</td> <td>2019  </td>\n",
       "        </tr>\n",
       "        <tr>\n",
       "            <td>18  </td> <td>Mike Bibby             </td> <td>Sacramento Kings         </td> <td>14983603</td> <td>2008  </td>\n",
       "        </tr>\n",
       "        <tr>\n",
       "            <td>20  </td> <td>Mike Bibby             </td> <td>Atlanta Hawks            </td> <td>14983603</td> <td>2009  </td>\n",
       "        </tr>\n",
       "        <tr>\n",
       "            <td>72  </td> <td>Ricky Rubio            </td> <td>Utah Jazz                </td> <td>14975000</td> <td>2019  </td>\n",
       "        </tr>\n",
       "        <tr>\n",
       "            <td>59  </td> <td>Reggie Jackson         </td> <td>Detroit Pistons          </td> <td>14956522</td> <td>2017  </td>\n",
       "        </tr>\n",
       "        <tr>\n",
       "            <td>19  </td> <td>Chris Paul             </td> <td>New Orleans Hornets      </td> <td>14940153</td> <td>2011  </td>\n",
       "        </tr>\n",
       "        <tr>\n",
       "            <td>20  </td> <td>Deron Williams         </td> <td>Utah Jazz                </td> <td>14940153</td> <td>2011  </td>\n",
       "        </tr>\n",
       "        <tr>\n",
       "            <td>34  </td> <td>Goran Dragic           </td> <td>Miami Heat               </td> <td>14783000</td> <td>2016  </td>\n",
       "        </tr>\n",
       "        <tr>\n",
       "            <td>25  </td> <td>John Wall              </td> <td>Washington Wizards       </td> <td>14746000</td> <td>2015  </td>\n",
       "        </tr>\n",
       "        <tr>\n",
       "            <td>20  </td> <td>Russell Westbrook      </td> <td>Oklahoma City Thunder    </td> <td>14693906</td> <td>2013  </td>\n",
       "        </tr>\n",
       "        <tr>\n",
       "            <td>23  </td> <td>Russell Westbrook      </td> <td>Oklahoma City Thunder    </td> <td>14693906</td> <td>2014  </td>\n",
       "        </tr>\n",
       "        <tr>\n",
       "            <td>23  </td> <td>Gilbert Arenas         </td> <td>Washington Wizards       </td> <td>14653466</td> <td>2009  </td>\n",
       "        </tr>\n",
       "        <tr>\n",
       "            <td>77  </td> <td>Brandon Knight         </td> <td>Houston Rockets          </td> <td>14631250</td> <td>2019  </td>\n",
       "        </tr>\n",
       "        <tr>\n",
       "            <td>7   </td> <td>Damon Stoudamire       </td> <td>Portland Trail Blazers   </td> <td>14625000</td> <td>2004  </td>\n",
       "        </tr>\n",
       "        <tr>\n",
       "            <td>15  </td> <td>Stephon Marbury        </td> <td>New York Knicks          </td> <td>14625000</td> <td>2005  </td>\n",
       "        </tr>\n",
       "        <tr>\n",
       "            <td>76  </td> <td>Ricky Rubio            </td> <td>Utah Jazz                </td> <td>14275000</td> <td>2018  </td>\n",
       "        </tr>\n",
       "        <tr>\n",
       "            <td>26  </td> <td>Baron Davis            </td> <td>LA Clippers              </td> <td>14000000</td> <td>2011  </td>\n",
       "        </tr>\n",
       "        <tr>\n",
       "            <td>65  </td> <td>Eric Bledsoe           </td> <td>Phoenix Suns             </td> <td>14000000</td> <td>2017  </td>\n",
       "        </tr>\n",
       "        <tr>\n",
       "            <td>66  </td> <td>Rajon Rondo            </td> <td>Chicago Bulls            </td> <td>14000000</td> <td>2017  </td>\n",
       "        </tr>\n",
       "        <tr>\n",
       "            <td>39  </td> <td>Reggie Jackson         </td> <td>Detroit Pistons          </td> <td>13913044</td> <td>2016  </td>\n",
       "        </tr>\n",
       "        <tr>\n",
       "            <td>23  </td> <td>Steve Francis          </td> <td>Orlando Magic            </td> <td>13700000</td> <td>2006  </td>\n",
       "        </tr>\n",
       "        <tr>\n",
       "            <td>24  </td> <td>Baron Davis            </td> <td>Golden State Warriors    </td> <td>13700000</td> <td>2006  </td>\n",
       "        </tr>\n",
       "        <tr>\n",
       "            <td>83  </td> <td>Brandon Knight         </td> <td>Detroit Pistons          </td> <td>13618750</td> <td>2018  </td>\n",
       "        </tr>\n",
       "        <tr>\n",
       "            <td>67  </td> <td>Ricky Rubio            </td> <td>Minnesota Timberwolves   </td> <td>13550000</td> <td>2017  </td>\n",
       "        </tr>\n",
       "        <tr>\n",
       "            <td>28  </td> <td>Chris Paul             </td> <td>New Orleans Hornets      </td> <td>13520500</td> <td>2010  </td>\n",
       "        </tr>\n",
       "        <tr>\n",
       "            <td>29  </td> <td>Deron Williams         </td> <td>Utah Jazz                </td> <td>13520500</td> <td>2010  </td>\n",
       "        </tr>\n",
       "        <tr>\n",
       "            <td>10  </td> <td>Damon Stoudamire       </td> <td>Portland Trail Blazers   </td> <td>13500000</td> <td>2003  </td>\n",
       "        </tr>\n",
       "        <tr>\n",
       "            <td>18  </td> <td>Stephon Marbury        </td> <td>Phoenix Suns             </td> <td>13500000</td> <td>2004  </td>\n",
       "        </tr>\n",
       "        <tr>\n",
       "            <td>42  </td> <td>Eric Bledsoe           </td> <td>Phoenix Suns             </td> <td>13500000</td> <td>2016  </td>\n",
       "        </tr>\n",
       "        <tr>\n",
       "            <td>44  </td> <td>Brandon Knight         </td> <td>Phoenix Suns             </td> <td>13500000</td> <td>2016  </td>\n",
       "        </tr>\n",
       "        <tr>\n",
       "            <td>93  </td> <td>Jordan Clarkson        </td> <td>Utah Jazz                </td> <td>13437500</td> <td>2020  </td>\n",
       "        </tr>\n",
       "        <tr>\n",
       "            <td>35  </td> <td>Chauncey Billups       </td> <td>New York Knicks          </td> <td>13150000</td> <td>2011  </td>\n",
       "        </tr>\n",
       "        <tr>\n",
       "            <td>32  </td> <td>Steve Nash             </td> <td>Phoenix Suns             </td> <td>13125000</td> <td>2010  </td>\n",
       "        </tr>\n",
       "        <tr>\n",
       "            <td>11  </td> <td>Gary Payton            </td> <td>Seattle SuperSonics      </td> <td>13080000</td> <td>2003  </td>\n",
       "        </tr>\n",
       "        <tr>\n",
       "            <td>31  </td> <td>Eric Bledsoe           </td> <td>Phoenix Suns             </td> <td>13000000</td> <td>2015  </td>\n",
       "        </tr>\n",
       "        <tr>\n",
       "            <td>9   </td> <td>Gary Payton            </td> <td>Seattle SuperSonics      </td> <td>12926000</td> <td>2002  </td>\n",
       "        </tr>\n",
       "        <tr>\n",
       "            <td>35  </td> <td>Rajon Rondo            </td> <td>Dallas Mavericks         </td> <td>12909090</td> <td>2015  </td>\n",
       "        </tr>\n",
       "        <tr>\n",
       "            <td>50  </td> <td>Ricky Rubio            </td> <td>Minnesota Timberwolves   </td> <td>12700000</td> <td>2016  </td>\n",
       "        </tr>\n",
       "        <tr>\n",
       "            <td>91  </td> <td>Austin Rivers          </td> <td>LA Clippers              </td> <td>12650000</td> <td>2018  </td>\n",
       "        </tr>\n",
       "        <tr>\n",
       "            <td>73  </td> <td>Brandon Knight         </td> <td>Phoenix Suns             </td> <td>12606250</td> <td>2017  </td>\n",
       "        </tr>\n",
       "        <tr>\n",
       "            <td>103 </td> <td>Marcus Smart           </td> <td>Boston Celtics           </td> <td>12553571</td> <td>2020  </td>\n",
       "        </tr>\n",
       "        <tr>\n",
       "            <td>24  </td> <td>Mike Bibby             </td> <td>Sacramento Kings         </td> <td>12500000</td> <td>2007  </td>\n",
       "        </tr>\n",
       "        <tr>\n",
       "            <td>76  </td> <td>Jordan Clarkson        </td> <td>Los Angeles Lakers       </td> <td>12500000</td> <td>2017  </td>\n",
       "        </tr>\n",
       "        <tr>\n",
       "            <td>95  </td> <td>Jordan Clarkson        </td> <td>Los Angeles Lakers       </td> <td>12500000</td> <td>2018  </td>\n",
       "        </tr>\n",
       "        <tr>\n",
       "            <td>94  </td> <td>Jordan Clarkson        </td> <td>Cleveland Cavaliers      </td> <td>12500000</td> <td>2019  </td>\n",
       "        </tr>\n",
       "        <tr>\n",
       "            <td>107 </td> <td>Patty Mills            </td> <td>San Antonio Spurs        </td> <td>12428571</td> <td>2020  </td>\n",
       "        </tr>\n",
       "        <tr>\n",
       "            <td>12  </td> <td>Damon Stoudamire       </td> <td>Portland Trail Blazers   </td> <td>12375000</td> <td>2002  </td>\n",
       "        </tr>\n",
       "        <tr>\n",
       "            <td>21  </td> <td>Stephon Marbury        </td> <td>Phoenix Suns             </td> <td>12375000</td> <td>2003  </td>\n",
       "        </tr>\n",
       "        <tr>\n",
       "            <td>109 </td> <td>Patrick Beverley       </td> <td>LA Clippers              </td> <td>12345680</td> <td>2020  </td>\n",
       "        </tr>\n",
       "        <tr>\n",
       "            <td>40  </td> <td>Steve Nash             </td> <td>Phoenix Suns             </td> <td>12250000</td> <td>2009  </td>\n",
       "        </tr>\n",
       "        <tr>\n",
       "            <td>13  </td> <td>Gary Payton            </td> <td>Seattle SuperSonics      </td> <td>12200000</td> <td>2001  </td>\n",
       "        </tr>\n",
       "        <tr>\n",
       "            <td>82  </td> <td>Stephen Curry          </td> <td>Golden State Warriors    </td> <td>12112359</td> <td>2017  </td>\n",
       "        </tr>\n",
       "        <tr>\n",
       "            <td>39  </td> <td>Baron Davis            </td> <td>LA Clippers              </td> <td>12100000</td> <td>2010  </td>\n",
       "        </tr>\n",
       "        <tr>\n",
       "            <td>40  </td> <td>Chauncey Billups       </td> <td>Denver Nuggets           </td> <td>12100000</td> <td>2010  </td>\n",
       "        </tr>\n",
       "        <tr>\n",
       "            <td>41  </td> <td>Kyle Lowry             </td> <td>Toronto Raptors          </td> <td>12000000</td> <td>2015  </td>\n",
       "        </tr>\n",
       "        <tr>\n",
       "            <td>55  </td> <td>Kyle Lowry             </td> <td>Toronto Raptors          </td> <td>12000000</td> <td>2016  </td>\n",
       "        </tr>\n",
       "        <tr>\n",
       "            <td>59  </td> <td>Kemba Walker           </td> <td>Charlotte Hornets        </td> <td>12000000</td> <td>2016  </td>\n",
       "        </tr>\n",
       "        <tr>\n",
       "            <td>85  </td> <td>Kyle Lowry             </td> <td>Toronto Raptors          </td> <td>12000000</td> <td>2017  </td>\n",
       "        </tr>\n",
       "        <tr>\n",
       "            <td>88  </td> <td>Kemba Walker           </td> <td>Charlotte Hornets        </td> <td>12000000</td> <td>2017  </td>\n",
       "        </tr>\n",
       "        <tr>\n",
       "            <td>103 </td> <td>Kemba Walker           </td> <td>Charlotte Hornets        </td> <td>12000000</td> <td>2018  </td>\n",
       "        </tr>\n",
       "        <tr>\n",
       "            <td>101 </td> <td>Avery Bradley          </td> <td>Memphis Grizzlies        </td> <td>12000000</td> <td>2019  </td>\n",
       "        </tr>\n",
       "        <tr>\n",
       "            <td>102 </td> <td>Kemba Walker           </td> <td>Charlotte Hornets        </td> <td>12000000</td> <td>2019  </td>\n",
       "        </tr>\n",
       "        <tr>\n",
       "            <td>112 </td> <td>Cory Joseph            </td> <td>Sacramento Kings         </td> <td>12000000</td> <td>2020  </td>\n",
       "        </tr>\n",
       "        <tr>\n",
       "            <td>44  </td> <td>Rajon Rondo            </td> <td>Boston Celtics           </td> <td>11954545</td> <td>2014  </td>\n",
       "        </tr>\n",
       "        <tr>\n",
       "            <td>39  </td> <td>Gilbert Arenas         </td> <td>Washington Wizards       </td> <td>11950400</td> <td>2008  </td>\n",
       "        </tr>\n",
       "        <tr>\n",
       "            <td>27  </td> <td>Nick Van Exel          </td> <td>Portland Trail Blazers   </td> <td>11821000</td> <td>2005  </td>\n",
       "        </tr>\n",
       "        <tr>\n",
       "            <td>42  </td> <td>Steve Nash             </td> <td>Phoenix Suns             </td> <td>11689062</td> <td>2012  </td>\n",
       "        </tr>\n",
       "        <tr>\n",
       "            <td>106 </td> <td>Marcus Smart           </td> <td>Boston Celtics           </td> <td>11660716</td> <td>2019  </td>\n",
       "        </tr>\n",
       "        <tr>\n",
       "            <td>107 </td> <td>Patty Mills            </td> <td>San Antonio Spurs        </td> <td>11571429</td> <td>2019  </td>\n",
       "        </tr>\n",
       "        <tr>\n",
       "            <td>31  </td> <td>Mike Bibby             </td> <td>Sacramento Kings         </td> <td>11500000</td> <td>2006  </td>\n",
       "        </tr>\n",
       "        <tr>\n",
       "            <td>42  </td> <td>Steve Nash             </td> <td>Phoenix Suns             </td> <td>11375000</td> <td>2008  </td>\n",
       "        </tr>\n",
       "        <tr>\n",
       "            <td>61  </td> <td>Stephen Curry          </td> <td>Golden State Warriors    </td> <td>11370786</td> <td>2016  </td>\n",
       "        </tr>\n",
       "        <tr>\n",
       "            <td>17  </td> <td>Damon Stoudamire       </td> <td>Portland Trail Blazers   </td> <td>11250000</td> <td>2001  </td>\n",
       "        </tr>\n",
       "        <tr>\n",
       "            <td>24  </td> <td>Stephon Marbury        </td> <td>Phoenix Suns             </td> <td>11250000</td> <td>2002  </td>\n",
       "        </tr>\n",
       "        <tr>\n",
       "            <td>48  </td> <td>Baron Davis            </td> <td>LA Clippers              </td> <td>11250000</td> <td>2009  </td>\n",
       "        </tr>\n",
       "        <tr>\n",
       "            <td>38  </td> <td>Gilbert Arenas         </td> <td>Washington Wizards       </td> <td>11096800</td> <td>2007  </td>\n",
       "        </tr>\n",
       "        <tr>\n",
       "            <td>50  </td> <td>Chauncey Billups       </td> <td>Detroit Pistons          </td> <td>11050000</td> <td>2009  </td>\n",
       "        </tr>\n",
       "        <tr>\n",
       "            <td>8   </td> <td>Gary Payton            </td> <td>Seattle SuperSonics      </td> <td>11020000</td> <td>2000  </td>\n",
       "        </tr>\n",
       "        <tr>\n",
       "            <td>48  </td> <td>Rajon Rondo            </td> <td>Boston Celtics           </td> <td>11000000</td> <td>2013  </td>\n",
       "        </tr>\n",
       "        <tr>\n",
       "            <td>97  </td> <td>Austin Rivers          </td> <td>LA Clippers              </td> <td>11000000</td> <td>2017  </td>\n",
       "        </tr>\n",
       "        <tr>\n",
       "            <td>31  </td> <td>Jason Kidd             </td> <td>New Jersey Nets          </td> <td>10950000</td> <td>2004  </td>\n",
       "        </tr>\n",
       "        <tr>\n",
       "            <td>32  </td> <td>Nick Van Exel          </td> <td>Golden State Warriors    </td> <td>10912000</td> <td>2004  </td>\n",
       "        </tr>\n",
       "        <tr>\n",
       "            <td>109 </td> <td>Patty Mills            </td> <td>San Antonio Spurs        </td> <td>10714286</td> <td>2018  </td>\n",
       "        </tr>\n",
       "        <tr>\n",
       "            <td>53  </td> <td>Stephen Curry          </td> <td>Golden State Warriors    </td> <td>10629213</td> <td>2015  </td>\n",
       "        </tr>\n",
       "        <tr>\n",
       "            <td>122 </td> <td>Spencer Dinwiddie      </td> <td>Brooklyn Nets            </td> <td>10605600</td> <td>2020  </td>\n",
       "        </tr>\n",
       "        <tr>\n",
       "            <td>40  </td> <td>Steve Nash             </td> <td>Phoenix Suns             </td> <td>10500000</td> <td>2007  </td>\n",
       "        </tr>\n",
       "        <tr>\n",
       "            <td>56  </td> <td>Andre Miller           </td> <td>Philadelphia 76ers       </td> <td>10333334</td> <td>2009  </td>\n",
       "        </tr>\n",
       "        <tr>\n",
       "            <td>60  </td> <td>Steve Nash             </td> <td>Phoenix Suns             </td> <td>10310938</td> <td>2011  </td>\n",
       "        </tr>\n",
       "        <tr>\n",
       "            <td>42  </td> <td>Gilbert Arenas         </td> <td>Washington Wizards       </td> <td>10243200</td> <td>2006  </td>\n",
       "        </tr>\n",
       "        <tr>\n",
       "            <td>24  </td> <td>Stephon Marbury        </td> <td>New Jersey Nets          </td> <td>10130000</td> <td>2001  </td>\n",
       "        </tr>\n",
       "        <tr>\n",
       "            <td>11  </td> <td>Damon Stoudamire       </td> <td>Portland Trail Blazers   </td> <td>10125000</td> <td>2000  </td>\n",
       "        </tr>\n",
       "        <tr>\n",
       "            <td>53  </td> <td>Jason Kidd             </td> <td>Dallas Mavericks         </td> <td>10121000</td> <td>2012  </td>\n",
       "        </tr>\n",
       "        <tr>\n",
       "            <td>55  </td> <td>Rajon Rondo            </td> <td>Boston Celtics           </td> <td>10045454</td> <td>2012  </td>\n",
       "        </tr>\n",
       "        <tr>\n",
       "            <td>38  </td> <td>Nick Van Exel          </td> <td>Dallas Mavericks         </td> <td>10003000</td> <td>2003  </td>\n",
       "        </tr>\n",
       "        <tr>\n",
       "            <td>53  </td> <td>Chauncey Billups       </td> <td>Detroit Pistons          </td> <td>10000000</td> <td>2008  </td>\n",
       "        </tr>\n",
       "        <tr>\n",
       "            <td>57  </td> <td>Stephen Curry          </td> <td>Golden State Warriors    </td> <td>9887642 </td> <td>2014  </td>\n",
       "        </tr>\n",
       "        <tr>\n",
       "            <td>131 </td> <td>Markelle Fultz         </td> <td>Orlando Magic            </td> <td>9745200 </td> <td>2020  </td>\n",
       "        </tr>\n",
       "        <tr>\n",
       "            <td>61  </td> <td>Steve Nash             </td> <td>Los Angeles Lakers       </td> <td>9701000 </td> <td>2015  </td>\n",
       "        </tr>\n",
       "        <tr>\n",
       "            <td>45  </td> <td>Steve Nash             </td> <td>Phoenix Suns             </td> <td>9625000 </td> <td>2006  </td>\n",
       "        </tr>\n",
       "        <tr>\n",
       "            <td>111 </td> <td>Matthew Dellavedova    </td> <td>Milwaukee Bucks          </td> <td>9607500 </td> <td>2017  </td>\n",
       "        </tr>\n",
       "        <tr>\n",
       "            <td>123 </td> <td>Matthew Dellavedova    </td> <td>Milwaukee Bucks          </td> <td>9607500 </td> <td>2018  </td>\n",
       "        </tr>\n",
       "        <tr>\n",
       "            <td>126 </td> <td>Matthew Dellavedova    </td> <td>Milwaukee Bucks          </td> <td>9607500 </td> <td>2019  </td>\n",
       "        </tr>\n",
       "        <tr>\n",
       "            <td>133 </td> <td>Matthew Dellavedova    </td> <td>Cleveland Cavaliers      </td> <td>9607500 </td> <td>2020  </td>\n",
       "        </tr>\n",
       "        <tr>\n",
       "            <td>55  </td> <td>Andre Miller           </td> <td>Philadelphia 76ers       </td> <td>9600000 </td> <td>2008  </td>\n",
       "        </tr>\n",
       "        <tr>\n",
       "            <td>127 </td> <td>Dante Exum             </td> <td>Utah Jazz                </td> <td>9600000 </td> <td>2019  </td>\n",
       "        </tr>\n",
       "        <tr>\n",
       "            <td>134 </td> <td>Dante Exum             </td> <td>Utah Jazz                </td> <td>9600000 </td> <td>2020  </td>\n",
       "        </tr>\n",
       "        <tr>\n",
       "            <td>78  </td> <td>Mike Conley            </td> <td>Memphis Grizzlies        </td> <td>9588426 </td> <td>2016  </td>\n",
       "        </tr>\n",
       "        <tr>\n",
       "            <td>79  </td> <td>Rajon Rondo            </td> <td>Sacramento Kings         </td> <td>9500000 </td> <td>2016  </td>\n",
       "        </tr>\n",
       "        <tr>\n",
       "            <td>136 </td> <td>Delon Wright           </td> <td>Dallas Mavericks         </td> <td>9473684 </td> <td>2020  </td>\n",
       "        </tr>\n",
       "        <tr>\n",
       "            <td>64  </td> <td>Steve Nash             </td> <td>Los Angeles Lakers       </td> <td>9300500 </td> <td>2013  </td>\n",
       "        </tr>\n",
       "        <tr>\n",
       "            <td>62  </td> <td>Steve Nash             </td> <td>Los Angeles Lakers       </td> <td>9300500 </td> <td>2014  </td>\n",
       "        </tr>\n",
       "        <tr>\n",
       "            <td>67  </td> <td>Mo Williams            </td> <td>LA Clippers              </td> <td>9300000 </td> <td>2011  </td>\n",
       "        </tr>\n",
       "        <tr>\n",
       "            <td>43  </td> <td>Jason Kidd             </td> <td>New Jersey Nets          </td> <td>9260000 </td> <td>2003  </td>\n",
       "        </tr>\n",
       "        <tr>\n",
       "            <td>139 </td> <td>Tyus Jones             </td> <td>Memphis Grizzlies        </td> <td>9258000 </td> <td>2020  </td>\n",
       "        </tr>\n",
       "        <tr>\n",
       "            <td>39  </td> <td>Terrell Brandon        </td> <td>Minnesota Timberwolves   </td> <td>9250000 </td> <td>2002  </td>\n",
       "        </tr>\n",
       "        <tr>\n",
       "            <td>45  </td> <td>Kenny Anderson         </td> <td>Seattle SuperSonics      </td> <td>9185000 </td> <td>2003  </td>\n",
       "        </tr>\n",
       "        <tr>\n",
       "            <td>141 </td> <td>George Hill            </td> <td>Milwaukee Bucks          </td> <td>9133907 </td> <td>2020  </td>\n",
       "        </tr>\n",
       "        <tr>\n",
       "            <td>40  </td> <td>Nick Van Exel          </td> <td>Denver Nuggets           </td> <td>9093000 </td> <td>2002  </td>\n",
       "        </tr>\n",
       "        <tr>\n",
       "            <td>69  </td> <td>Rajon Rondo            </td> <td>Boston Celtics           </td> <td>9090911 </td> <td>2011  </td>\n",
       "        </tr>\n",
       "        <tr>\n",
       "            <td>20  </td> <td>Stephon Marbury        </td> <td>New Jersey Nets          </td> <td>9000000 </td> <td>2000  </td>\n",
       "        </tr>\n",
       "        <tr>\n",
       "            <td>132 </td> <td>Rajon Rondo            </td> <td>Los Angeles Lakers       </td> <td>9000000 </td> <td>2019  </td>\n",
       "        </tr>\n",
       "        <tr>\n",
       "            <td>51  </td> <td>Andre Miller           </td> <td>Philadelphia 76ers       </td> <td>8966666 </td> <td>2007  </td>\n",
       "        </tr>\n",
       "        <tr>\n",
       "            <td>65  </td> <td>Jason Williams         </td> <td>Miami Heat               </td> <td>8937500 </td> <td>2008  </td>\n",
       "        </tr>\n",
       "        <tr>\n",
       "            <td>78  </td> <td>Mo Williams            </td> <td>Cleveland Cavaliers      </td> <td>8860000 </td> <td>2010  </td>\n",
       "        </tr>\n",
       "        <tr>\n",
       "            <td>130 </td> <td>Avery Bradley          </td> <td>LA Clippers              </td> <td>8808989 </td> <td>2018  </td>\n",
       "        </tr>\n",
       "        <tr>\n",
       "            <td>118 </td> <td>Jeff Teague            </td> <td>Indiana Pacers           </td> <td>8800000 </td> <td>2017  </td>\n",
       "        </tr>\n",
       "        <tr>\n",
       "            <td>144 </td> <td>Ja Morant              </td> <td>Memphis Grizzlies        </td> <td>8730240 </td> <td>2020  </td>\n",
       "        </tr>\n",
       "        <tr>\n",
       "            <td>145 </td> <td>Lonzo Ball             </td> <td>New Orleans Pelicans     </td> <td>8719320 </td> <td>2020  </td>\n",
       "        </tr>\n",
       "        <tr>\n",
       "            <td>68  </td> <td>Mike Conley            </td> <td>Memphis Grizzlies        </td> <td>8694216 </td> <td>2015  </td>\n",
       "        </tr>\n",
       "        <tr>\n",
       "            <td>74  </td> <td>Jason Kidd             </td> <td>Dallas Mavericks         </td> <td>8610500 </td> <td>2011  </td>\n",
       "        </tr>\n",
       "        <tr>\n",
       "            <td>67  </td> <td>Mike Conley            </td> <td>Memphis Grizzlies        </td> <td>8600001 </td> <td>2014  </td>\n",
       "        </tr>\n",
       "        <tr>\n",
       "            <td>81  </td> <td>T.J. Ford              </td> <td>Indiana Pacers           </td> <td>8500000 </td> <td>2010  </td>\n",
       "        </tr>\n",
       "        <tr>\n",
       "            <td>76  </td> <td>T.J. Ford              </td> <td>Indiana Pacers           </td> <td>8500000 </td> <td>2011  </td>\n",
       "        </tr>\n",
       "        <tr>\n",
       "            <td>69  </td> <td>Rodney Stuckey         </td> <td>Detroit Pistons          </td> <td>8500000 </td> <td>2012  </td>\n",
       "        </tr>\n",
       "        <tr>\n",
       "            <td>70  </td> <td>Mo Williams            </td> <td>LA Clippers              </td> <td>8500000 </td> <td>2012  </td>\n",
       "        </tr>\n",
       "        <tr>\n",
       "            <td>70  </td> <td>Rodney Stuckey         </td> <td>Detroit Pistons          </td> <td>8500000 </td> <td>2013  </td>\n",
       "        </tr>\n",
       "        <tr>\n",
       "            <td>71  </td> <td>Mo Williams            </td> <td>Utah Jazz                </td> <td>8500000 </td> <td>2013  </td>\n",
       "        </tr>\n",
       "        <tr>\n",
       "            <td>69  </td> <td>Rodney Stuckey         </td> <td>Detroit Pistons          </td> <td>8500000 </td> <td>2014  </td>\n",
       "        </tr>\n",
       "        <tr>\n",
       "            <td>46  </td> <td>Jason Kidd             </td> <td>New Jersey Nets          </td> <td>8440000 </td> <td>2002  </td>\n",
       "        </tr>\n",
       "        <tr>\n",
       "            <td>24  </td> <td>Nick Van Exel          </td> <td>Denver Nuggets           </td> <td>8354000 </td> <td>2000  </td>\n",
       "        </tr>\n",
       "        <tr>\n",
       "            <td>88  </td> <td>Mo Williams            </td> <td>Cleveland Cavaliers      </td> <td>8353000 </td> <td>2009  </td>\n",
       "        </tr>\n",
       "        <tr>\n",
       "            <td>47  </td> <td>Kenny Anderson         </td> <td>Boston Celtics           </td> <td>8350000 </td> <td>2002  </td>\n",
       "        </tr>\n",
       "        <tr>\n",
       "            <td>138 </td> <td>Markelle Fultz         </td> <td>Philadelphia 76ers       </td> <td>8339880 </td> <td>2018  </td>\n",
       "        </tr>\n",
       "        <tr>\n",
       "            <td>141 </td> <td>Markelle Fultz         </td> <td>Philadelphia 76ers       </td> <td>8339880 </td> <td>2019  </td>\n",
       "        </tr>\n",
       "        <tr>\n",
       "            <td>46  </td> <td>Terrell Brandon        </td> <td>Minnesota Timberwolves   </td> <td>8325000 </td> <td>2001  </td>\n",
       "        </tr>\n",
       "        <tr>\n",
       "            <td>76  </td> <td>T.J. Ford              </td> <td>Toronto Raptors          </td> <td>8275000 </td> <td>2008  </td>\n",
       "        </tr>\n",
       "        <tr>\n",
       "            <td>122 </td> <td>Avery Bradley          </td> <td>Boston Celtics           </td> <td>8269663 </td> <td>2017  </td>\n",
       "        </tr>\n",
       "        <tr>\n",
       "            <td>59  </td> <td>Jason Williams         </td> <td>Miami Heat               </td> <td>8250000 </td> <td>2007  </td>\n",
       "        </tr>\n",
       "        <tr>\n",
       "            <td>47  </td> <td>Nick Van Exel          </td> <td>Denver Nuggets           </td> <td>8184000 </td> <td>2001  </td>\n",
       "        </tr>\n",
       "        <tr>\n",
       "            <td>152 </td> <td>Ben Simmons            </td> <td>Philadelphia 76ers       </td> <td>8113930 </td> <td>2020  </td>\n",
       "        </tr>\n",
       "        <tr>\n",
       "            <td>61  </td> <td>Andre Miller           </td> <td>Denver Nuggets           </td> <td>8100000 </td> <td>2006  </td>\n",
       "        </tr>\n",
       "        <tr>\n",
       "            <td>84  </td> <td>Jason Kidd             </td> <td>Dallas Mavericks         </td> <td>8100000 </td> <td>2010  </td>\n",
       "        </tr>\n",
       "        <tr>\n",
       "            <td>52  </td> <td>Avery Johnson          </td> <td>San Antonio Spurs        </td> <td>8000000 </td> <td>2001  </td>\n",
       "        </tr>\n",
       "        <tr>\n",
       "            <td>91  </td> <td>T.J. Ford              </td> <td>Indiana Pacers           </td> <td>8000000 </td> <td>2009  </td>\n",
       "        </tr>\n",
       "        <tr>\n",
       "            <td>85  </td> <td>George Hill            </td> <td>Indiana Pacers           </td> <td>8000000 </td> <td>2013  </td>\n",
       "        </tr>\n",
       "        <tr>\n",
       "            <td>75  </td> <td>George Hill            </td> <td>Indiana Pacers           </td> <td>8000000 </td> <td>2014  </td>\n",
       "        </tr>\n",
       "        <tr>\n",
       "            <td>77  </td> <td>Jeff Teague            </td> <td>Atlanta Hawks            </td> <td>8000000 </td> <td>2014  </td>\n",
       "        </tr>\n",
       "        <tr>\n",
       "            <td>79  </td> <td>George Hill            </td> <td>Indiana Pacers           </td> <td>8000000 </td> <td>2015  </td>\n",
       "        </tr>\n",
       "        <tr>\n",
       "            <td>80  </td> <td>Jeff Teague            </td> <td>Atlanta Hawks            </td> <td>8000000 </td> <td>2015  </td>\n",
       "        </tr>\n",
       "        <tr>\n",
       "            <td>95  </td> <td>George Hill            </td> <td>Indiana Pacers           </td> <td>8000000 </td> <td>2016  </td>\n",
       "        </tr>\n",
       "        <tr>\n",
       "            <td>97  </td> <td>Jeff Teague            </td> <td>Atlanta Hawks            </td> <td>8000000 </td> <td>2016  </td>\n",
       "        </tr>\n",
       "        <tr>\n",
       "            <td>127 </td> <td>Sergio Rodriguez       </td> <td>Philadelphia 76ers       </td> <td>8000000 </td> <td>2017  </td>\n",
       "        </tr>\n",
       "        <tr>\n",
       "            <td>130 </td> <td>George Hill            </td> <td>Utah Jazz                </td> <td>8000000 </td> <td>2017  </td>\n",
       "        </tr>\n",
       "        <tr>\n",
       "            <td>155 </td> <td>Elfrid Payton          </td> <td>New York Knicks          </td> <td>8000000 </td> <td>2020  </td>\n",
       "        </tr>\n",
       "        <tr>\n",
       "            <td>143 </td> <td>Cory Joseph            </td> <td>Indiana Pacers           </td> <td>7945000 </td> <td>2018  </td>\n",
       "        </tr>\n",
       "        <tr>\n",
       "            <td>149 </td> <td>Cory Joseph            </td> <td>Indiana Pacers           </td> <td>7945000 </td> <td>2019  </td>\n",
       "        </tr>\n",
       "        <tr>\n",
       "            <td>78  </td> <td>Andre Miller           </td> <td>Denver Nuggets           </td> <td>7807728 </td> <td>2012  </td>\n",
       "        </tr>\n",
       "        <tr>\n",
       "            <td>85  </td> <td>Mo Williams            </td> <td>Milwaukee Bucks          </td> <td>7750000 </td> <td>2008  </td>\n",
       "        </tr>\n",
       "        <tr>\n",
       "            <td>99  </td> <td>Avery Bradley          </td> <td>Boston Celtics           </td> <td>7730337 </td> <td>2016  </td>\n",
       "        </tr>\n",
       "        <tr>\n",
       "            <td>55  </td> <td>Jason Kidd             </td> <td>Phoenix Suns             </td> <td>7630000 </td> <td>2001  </td>\n",
       "        </tr>\n",
       "        <tr>\n",
       "            <td>68  </td> <td>Jason Williams         </td> <td>Miami Heat               </td> <td>7562500 </td> <td>2006  </td>\n",
       "        </tr>\n",
       "        <tr>\n",
       "            <td>57  </td> <td>Kenny Anderson         </td> <td>Boston Celtics           </td> <td>7520000 </td> <td>2001  </td>\n",
       "        </tr>\n",
       "        <tr>\n",
       "            <td>94  </td> <td>Mike Conley            </td> <td>Memphis Grizzlies        </td> <td>7505786 </td> <td>2013  </td>\n",
       "        </tr>\n",
       "        <tr>\n",
       "            <td>95  </td> <td>Goran Dragic           </td> <td>Phoenix Suns             </td> <td>7500000 </td> <td>2013  </td>\n",
       "        </tr>\n",
       "        <tr>\n",
       "            <td>87  </td> <td>Goran Dragic           </td> <td>Phoenix Suns             </td> <td>7500000 </td> <td>2014  </td>\n",
       "        </tr>\n",
       "        <tr>\n",
       "            <td>86  </td> <td>Goran Dragic           </td> <td>Phoenix Suns             </td> <td>7500000 </td> <td>2015  </td>\n",
       "        </tr>\n",
       "        <tr>\n",
       "            <td>155 </td> <td>Lonzo Ball             </td> <td>Los Angeles Lakers       </td> <td>7461960 </td> <td>2019  </td>\n",
       "        </tr>\n",
       "        <tr>\n",
       "            <td>96  </td> <td>John Wall              </td> <td>Washington Wizards       </td> <td>7459925 </td> <td>2013  </td>\n",
       "        </tr>\n",
       "        <tr>\n",
       "            <td>88  </td> <td>John Wall              </td> <td>Washington Wizards       </td> <td>7459925 </td> <td>2014  </td>\n",
       "        </tr>\n",
       "        <tr>\n",
       "            <td>26  </td> <td>Terrell Brandon        </td> <td>Minnesota Timberwolves   </td> <td>7400000 </td> <td>2000  </td>\n",
       "        </tr>\n",
       "        <tr>\n",
       "            <td>98  </td> <td>Beno Udrih             </td> <td>Orlando Magic            </td> <td>7372000 </td> <td>2013  </td>\n",
       "        </tr>\n",
       "        <tr>\n",
       "            <td>168 </td> <td>Derrick Rose           </td> <td>Detroit Pistons          </td> <td>7317073 </td> <td>2020  </td>\n",
       "        </tr>\n",
       "        <tr>\n",
       "            <td>141 </td> <td>Cory Joseph            </td> <td>Toronto Raptors          </td> <td>7315000 </td> <td>2017  </td>\n",
       "        </tr>\n",
       "        <tr>\n",
       "            <td>97  </td> <td>Eric Snow              </td> <td>Cleveland Cavaliers      </td> <td>7312500 </td> <td>2009  </td>\n",
       "        </tr>\n",
       "        <tr>\n",
       "            <td>89  </td> <td>Andre Miller           </td> <td>Portland Trail Blazers   </td> <td>7269264 </td> <td>2011  </td>\n",
       "        </tr>\n",
       "        <tr>\n",
       "            <td>142 </td> <td>D.J. Augustin          </td> <td>Orlando Magic            </td> <td>7250000 </td> <td>2017  </td>\n",
       "        </tr>\n",
       "        <tr>\n",
       "            <td>158 </td> <td>D.J. Augustin          </td> <td>Orlando Magic            </td> <td>7250000 </td> <td>2018  </td>\n",
       "        </tr>\n",
       "        <tr>\n",
       "            <td>159 </td> <td>D.J. Augustin          </td> <td>Orlando Magic            </td> <td>7250000 </td> <td>2019  </td>\n",
       "        </tr>\n",
       "        <tr>\n",
       "            <td>170 </td> <td>D.J. Augustin          </td> <td>Orlando Magic            </td> <td>7250000 </td> <td>2020  </td>\n",
       "        </tr>\n",
       "        <tr>\n",
       "            <td>88  </td> <td>Isaiah Thomas          </td> <td>Phoenix Suns             </td> <td>7238606 </td> <td>2015  </td>\n",
       "        </tr>\n",
       "        <tr>\n",
       "            <td>89  </td> <td>Avery Bradley          </td> <td>Boston Celtics           </td> <td>7191011 </td> <td>2015  </td>\n",
       "        </tr>\n",
       "        <tr>\n",
       "            <td>94  </td> <td>Marko Jaric            </td> <td>Brooklyn Nets            </td> <td>7100000 </td> <td>2010  </td>\n",
       "        </tr>\n",
       "        <tr>\n",
       "            <td>95  </td> <td>Marko Jaric            </td> <td>Brooklyn Nets            </td> <td>7100000 </td> <td>2011  </td>\n",
       "        </tr>\n",
       "        <tr>\n",
       "            <td>91  </td> <td>Marko Jaric            </td> <td>Brooklyn Nets            </td> <td>7100000 </td> <td>2012  </td>\n",
       "        </tr>\n",
       "        <tr>\n",
       "            <td>92  </td> <td>Kyrie Irving           </td> <td>Cleveland Cavaliers      </td> <td>7070730 </td> <td>2015  </td>\n",
       "        </tr>\n",
       "        <tr>\n",
       "            <td>106 </td> <td>Cory Joseph            </td> <td>Toronto Raptors          </td> <td>7000000 </td> <td>2016  </td>\n",
       "        </tr>\n",
       "        <tr>\n",
       "            <td>109 </td> <td>Rodney Stuckey         </td> <td>Indiana Pacers           </td> <td>7000000 </td> <td>2016  </td>\n",
       "        </tr>\n",
       "        <tr>\n",
       "            <td>145 </td> <td>Rodney Stuckey         </td> <td>Indiana Pacers           </td> <td>7000000 </td> <td>2017  </td>\n",
       "        </tr>\n",
       "        <tr>\n",
       "            <td>163 </td> <td>Rodney Stuckey         </td> <td>Indiana Pacers           </td> <td>7000000 </td> <td>2018  </td>\n",
       "        </tr>\n",
       "        <tr>\n",
       "            <td>93  </td> <td>Derrick Rose           </td> <td>Chicago Bulls            </td> <td>6993708 </td> <td>2012  </td>\n",
       "        </tr>\n",
       "        <tr>\n",
       "            <td>94  </td> <td>Beno Udrih             </td> <td>Milwaukee Bucks          </td> <td>6925400 </td> <td>2012  </td>\n",
       "        </tr>\n",
       "        <tr>\n",
       "            <td>111 </td> <td>Isaiah Thomas          </td> <td>Boston Celtics           </td> <td>6912869 </td> <td>2016  </td>\n",
       "        </tr>\n",
       "        <tr>\n",
       "            <td>86  </td> <td>Howard Eisley          </td> <td>LA Clippers              </td> <td>6906000 </td> <td>2006  </td>\n",
       "        </tr>\n",
       "        <tr>\n",
       "            <td>34  </td> <td>Jason Kidd             </td> <td>Phoenix Suns             </td> <td>6858000 </td> <td>2000  </td>\n",
       "        </tr>\n",
       "        <tr>\n",
       "            <td>85  </td> <td>Speedy Claxton         </td> <td>Atlanta Hawks            </td> <td>6854546 </td> <td>2007  </td>\n",
       "        </tr>\n",
       "        <tr>\n",
       "            <td>86  </td> <td>Sam Cassell            </td> <td>LA Clippers              </td> <td>6850000 </td> <td>2007  </td>\n",
       "        </tr>\n",
       "        <tr>\n",
       "            <td>104 </td> <td>Jamaal Tinsley         </td> <td>Utah Jazz                </td> <td>6750000 </td> <td>2009  </td>\n",
       "        </tr>\n",
       "        <tr>\n",
       "            <td>100 </td> <td>Andre Miller           </td> <td>Portland Trail Blazers   </td> <td>6730800 </td> <td>2010  </td>\n",
       "        </tr>\n",
       "        <tr>\n",
       "            <td>92  </td> <td>Eric Snow              </td> <td>Cleveland Cavaliers      </td> <td>6703125 </td> <td>2008  </td>\n",
       "        </tr>\n",
       "        <tr>\n",
       "            <td>35  </td> <td>Kenny Anderson         </td> <td>Boston Celtics           </td> <td>6680000 </td> <td>2000  </td>\n",
       "        </tr>\n",
       "        <tr>\n",
       "            <td>102 </td> <td>Mike Conley            </td> <td>Memphis Grizzlies        </td> <td>6611571 </td> <td>2012  </td>\n",
       "        </tr>\n",
       "        <tr>\n",
       "            <td>104 </td> <td>Antonio Daniels        </td> <td>Philadelphia 76ers       </td> <td>6600000 </td> <td>2010  </td>\n",
       "        </tr>\n",
       "        <tr>\n",
       "            <td>113 </td> <td>Greivis Vasquez        </td> <td>Milwaukee Bucks          </td> <td>6600000 </td> <td>2016  </td>\n",
       "        </tr>\n",
       "        <tr>\n",
       "            <td>148 </td> <td>Isaiah Thomas          </td> <td>Boston Celtics           </td> <td>6587132 </td> <td>2017  </td>\n",
       "        </tr>\n",
       "        <tr>\n",
       "            <td>106 </td> <td>Marko Jaric            </td> <td>Memphis Grizzlies        </td> <td>6575000 </td> <td>2009  </td>\n",
       "        </tr>\n",
       "        <tr>\n",
       "            <td>94  </td> <td>Luke Ridnour           </td> <td>Seattle SuperSonics      </td> <td>6500000 </td> <td>2008  </td>\n",
       "        </tr>\n",
       "        <tr>\n",
       "            <td>108 </td> <td>Luke Ridnour           </td> <td>Milwaukee Bucks          </td> <td>6500000 </td> <td>2009  </td>\n",
       "        </tr>\n",
       "        <tr>\n",
       "            <td>107 </td> <td>Luke Ridnour           </td> <td>Milwaukee Bucks          </td> <td>6500000 </td> <td>2010  </td>\n",
       "        </tr>\n",
       "        <tr>\n",
       "            <td>109 </td> <td>Bobby Jackson          </td> <td>Sacramento Kings         </td> <td>6487888 </td> <td>2009  </td>\n",
       "        </tr>\n",
       "        <tr>\n",
       "            <td>116 </td> <td>Patrick Beverley       </td> <td>Houston Rockets          </td> <td>6486486 </td> <td>2016  </td>\n",
       "        </tr>\n",
       "        <tr>\n",
       "            <td>113 </td> <td>Beno Udrih             </td> <td>Sacramento Kings         </td> <td>6478600 </td> <td>2011  </td>\n",
       "        </tr>\n",
       "        <tr>\n",
       "            <td>111 </td> <td>Mike James             </td> <td>Washington Wizards       </td> <td>6466600 </td> <td>2010  </td>\n",
       "        </tr>\n",
       "        <tr>\n",
       "            <td>115 </td> <td>Mike James             </td> <td>Chicago Bulls            </td> <td>6466600 </td> <td>2011  </td>\n",
       "        </tr>\n",
       "        <tr>\n",
       "            <td>168 </td> <td>Ben Simmons            </td> <td>Philadelphia 76ers       </td> <td>6434520 </td> <td>2018  </td>\n",
       "        </tr>\n",
       "        <tr>\n",
       "            <td>172 </td> <td>Ben Simmons            </td> <td>Philadelphia 76ers       </td> <td>6434520 </td> <td>2019  </td>\n",
       "        </tr>\n",
       "        <tr>\n",
       "            <td>182 </td> <td>Darius Garland         </td> <td>Cleveland Cavaliers      </td> <td>6400920 </td> <td>2020  </td>\n",
       "        </tr>\n",
       "        <tr>\n",
       "            <td>103 </td> <td>Greivis Vasquez        </td> <td>Toronto Raptors          </td> <td>6400000 </td> <td>2015  </td>\n",
       "        </tr>\n",
       "        <tr>\n",
       "            <td>183 </td> <td>De'Aaron Fox           </td> <td>Sacramento Kings         </td> <td>6392760 </td> <td>2020  </td>\n",
       "        </tr>\n",
       "        <tr>\n",
       "            <td>44  </td> <td>Howard Eisley          </td> <td>Utah Jazz                </td> <td>6375000 </td> <td>2005  </td>\n",
       "        </tr>\n",
       "        <tr>\n",
       "            <td>96  </td> <td>Chauncey Billups       </td> <td>Detroit Pistons          </td> <td>6364400 </td> <td>2007  </td>\n",
       "        </tr>\n",
       "        <tr>\n",
       "            <td>102 </td> <td>Speedy Claxton         </td> <td>Atlanta Hawks            </td> <td>6306182 </td> <td>2008  </td>\n",
       "        </tr>\n",
       "        <tr>\n",
       "            <td>95  </td> <td>Alvin Williams         </td> <td>Toronto Raptors          </td> <td>6300000 </td> <td>2006  </td>\n",
       "        </tr>\n",
       "        <tr>\n",
       "            <td>103 </td> <td>Jamaal Tinsley         </td> <td>Indiana Pacers           </td> <td>6300000 </td> <td>2008  </td>\n",
       "        </tr>\n",
       "        <tr>\n",
       "            <td>172 </td> <td>Lonzo Ball             </td> <td>Los Angeles Lakers       </td> <td>6286560 </td> <td>2018  </td>\n",
       "        </tr>\n",
       "        <tr>\n",
       "            <td>185 </td> <td>Trae Young             </td> <td>Atlanta Hawks            </td> <td>6273000 </td> <td>2020  </td>\n",
       "        </tr>\n",
       "        <tr>\n",
       "            <td>173 </td> <td>Isaiah Thomas          </td> <td>Los Angeles Lakers       </td> <td>6261395 </td> <td>2018  </td>\n",
       "        </tr>\n",
       "        <tr>\n",
       "            <td>117 </td> <td>Mike James             </td> <td>Washington Wizards       </td> <td>6244093 </td> <td>2009  </td>\n",
       "        </tr>\n",
       "        <tr>\n",
       "            <td>116 </td> <td>Mike Bibby             </td> <td>Atlanta Hawks            </td> <td>6217617 </td> <td>2010  </td>\n",
       "        </tr>\n",
       "        <tr>\n",
       "            <td>104 </td> <td>Kyle Lowry             </td> <td>Toronto Raptors          </td> <td>6210000 </td> <td>2014  </td>\n",
       "        </tr>\n",
       "        <tr>\n",
       "            <td>119 </td> <td>Earl Watson            </td> <td>Oklahoma City Thunder    </td> <td>6200000 </td> <td>2009  </td>\n",
       "        </tr>\n",
       "        <tr>\n",
       "            <td>120 </td> <td>Antonio Daniels        </td> <td>Washington Wizards       </td> <td>6200000 </td> <td>2009  </td>\n",
       "        </tr>\n",
       "        <tr>\n",
       "            <td>98  </td> <td>Sam Cassell            </td> <td>LA Clippers              </td> <td>6187500 </td> <td>2006  </td>\n",
       "        </tr>\n",
       "        <tr>\n",
       "            <td>56  </td> <td>Bob Sura               </td> <td>Detroit Pistons          </td> <td>6166000 </td> <td>2004  </td>\n",
       "        </tr>\n",
       "        <tr>\n",
       "            <td>99  </td> <td>Eric Snow              </td> <td>Cleveland Cavaliers      </td> <td>6093750 </td> <td>2007  </td>\n",
       "        </tr>\n",
       "        <tr>\n",
       "            <td>106 </td> <td>Marko Jaric            </td> <td>Minnesota Timberwolves   </td> <td>6050000 </td> <td>2008  </td>\n",
       "        </tr>\n",
       "        <tr>\n",
       "            <td>120 </td> <td>Chris Duhon            </td> <td>New York Knicks          </td> <td>6031800 </td> <td>2010  </td>\n",
       "        </tr>\n",
       "        <tr>\n",
       "            <td>122 </td> <td>Beno Udrih             </td> <td>Sacramento Kings         </td> <td>6031800 </td> <td>2010  </td>\n",
       "        </tr>\n",
       "        <tr>\n",
       "            <td>57  </td> <td>Charlie Ward           </td> <td>San Antonio Spurs        </td> <td>6030000 </td> <td>2004  </td>\n",
       "        </tr>\n",
       "        <tr>\n",
       "            <td>163 </td> <td>Ish Smith              </td> <td>Detroit Pistons          </td> <td>6000000 </td> <td>2017  </td>\n",
       "        </tr>\n",
       "        <tr>\n",
       "            <td>166 </td> <td>Patrick Beverley       </td> <td>Houston Rockets          </td> <td>6000000 </td> <td>2017  </td>\n",
       "        </tr>\n",
       "        <tr>\n",
       "            <td>179 </td> <td>Ish Smith              </td> <td>Detroit Pistons          </td> <td>6000000 </td> <td>2018  </td>\n",
       "        </tr>\n",
       "        <tr>\n",
       "            <td>178 </td> <td>Ish Smith              </td> <td>Detroit Pistons          </td> <td>6000000 </td> <td>2019  </td>\n",
       "        </tr>\n",
       "        <tr>\n",
       "            <td>187 </td> <td>Ish Smith              </td> <td>Washington Wizards       </td> <td>6000000 </td> <td>2020  </td>\n",
       "        </tr>\n",
       "        <tr>\n",
       "            <td>101 </td> <td>Chauncey Billups       </td> <td>Detroit Pistons          </td> <td>5909800 </td> <td>2006  </td>\n",
       "        </tr>\n",
       "        <tr>\n",
       "            <td>169 </td> <td>Ben Simmons            </td> <td>Philadelphia 76ers       </td> <td>5903160 </td> <td>2017  </td>\n",
       "        </tr>\n",
       "        <tr>\n",
       "            <td>100 </td> <td>Derek Fisher           </td> <td>Utah Jazz                </td> <td>5883600 </td> <td>2007  </td>\n",
       "        </tr>\n",
       "        <tr>\n",
       "            <td>105 </td> <td>Jamaal Tinsley         </td> <td>Indiana Pacers           </td> <td>5850000 </td> <td>2007  </td>\n",
       "        </tr>\n",
       "        <tr>\n",
       "            <td>59  </td> <td>Howard Eisley          </td> <td>Phoenix Suns             </td> <td>5843000 </td> <td>2004  </td>\n",
       "        </tr>\n",
       "        <tr>\n",
       "            <td>111 </td> <td>Mike James             </td> <td>Houston Rockets          </td> <td>5826893 </td> <td>2008  </td>\n",
       "        </tr>\n",
       "        <tr>\n",
       "            <td>113 </td> <td>Earl Watson            </td> <td>Seattle SuperSonics      </td> <td>5800000 </td> <td>2008  </td>\n",
       "        </tr>\n",
       "        <tr>\n",
       "            <td>115 </td> <td>Antonio Daniels        </td> <td>Washington Wizards       </td> <td>5800000 </td> <td>2008  </td>\n",
       "        </tr>\n",
       "        <tr>\n",
       "            <td>132 </td> <td>Speedy Claxton         </td> <td>Atlanta Hawks            </td> <td>5757818 </td> <td>2009  </td>\n",
       "        </tr>\n",
       "        <tr>\n",
       "            <td>72  </td> <td>Steve Nash             </td> <td>Dallas Mavericks         </td> <td>5750000 </td> <td>2002  </td>\n",
       "        </tr>\n",
       "        <tr>\n",
       "            <td>73  </td> <td>Steve Nash             </td> <td>Dallas Mavericks         </td> <td>5750000 </td> <td>2003  </td>\n",
       "        </tr>\n",
       "        <tr>\n",
       "            <td>74  </td> <td>Charlie Ward           </td> <td>New York Knicks          </td> <td>5750000 </td> <td>2003  </td>\n",
       "        </tr>\n",
       "        <tr>\n",
       "            <td>60  </td> <td>Steve Nash             </td> <td>Dallas Mavericks         </td> <td>5750000 </td> <td>2004  </td>\n",
       "        </tr>\n",
       "        <tr>\n",
       "            <td>59  </td> <td>Steve Nash             </td> <td>Phoenix Suns             </td> <td>5750000 </td> <td>2005  </td>\n",
       "        </tr>\n",
       "        <tr>\n",
       "            <td>126 </td> <td>Kyle Lowry             </td> <td>Houston Rockets          </td> <td>5750000 </td> <td>2011  </td>\n",
       "        </tr>\n",
       "        <tr>\n",
       "            <td>119 </td> <td>Kyle Lowry             </td> <td>Houston Rockets          </td> <td>5750000 </td> <td>2012  </td>\n",
       "        </tr>\n",
       "        <tr>\n",
       "            <td>121 </td> <td>Kyle Lowry             </td> <td>Toronto Raptors          </td> <td>5750000 </td> <td>2013  </td>\n",
       "        </tr>\n",
       "        <tr>\n",
       "            <td>61  </td> <td>Steve Francis          </td> <td>Houston Rockets          </td> <td>5720000 </td> <td>2004  </td>\n",
       "        </tr>\n",
       "        <tr>\n",
       "            <td>120 </td> <td>Bobby Jackson          </td> <td>Houston Rockets          </td> <td>5670000 </td> <td>2008  </td>\n",
       "        </tr>\n",
       "        <tr>\n",
       "            <td>112 </td> <td>Kyrie Irving           </td> <td>Cleveland Cavaliers      </td> <td>5607240 </td> <td>2014  </td>\n",
       "        </tr>\n",
       "        <tr>\n",
       "            <td>110 </td> <td>Troy Hudson            </td> <td>Minnesota Timberwolves   </td> <td>5603000 </td> <td>2007  </td>\n",
       "        </tr>\n",
       "        <tr>\n",
       "            <td>137 </td> <td>Chris Duhon            </td> <td>New York Knicks          </td> <td>5585000 </td> <td>2009  </td>\n",
       "        </tr>\n",
       "        <tr>\n",
       "            <td>139 </td> <td>Beno Udrih             </td> <td>Sacramento Kings         </td> <td>5585000 </td> <td>2009  </td>\n",
       "        </tr>\n",
       "        <tr>\n",
       "            <td>127 </td> <td>Derrick Rose           </td> <td>Chicago Bulls            </td> <td>5546160 </td> <td>2011  </td>\n",
       "        </tr>\n",
       "        <tr>\n",
       "            <td>79  </td> <td>Bob Sura               </td> <td>Golden State Warriors    </td> <td>5540000 </td> <td>2003  </td>\n",
       "        </tr>\n",
       "        <tr>\n",
       "            <td>123 </td> <td>John Wall              </td> <td>Washington Wizards       </td> <td>5530080 </td> <td>2012  </td>\n",
       "        </tr>\n",
       "        <tr>\n",
       "            <td>112 </td> <td>Marko Jaric            </td> <td>Minnesota Timberwolves   </td> <td>5525000 </td> <td>2007  </td>\n",
       "        </tr>\n",
       "        <tr>\n",
       "            <td>188 </td> <td>Patrick Beverley       </td> <td>LA Clippers              </td> <td>5513514 </td> <td>2018  </td>\n",
       "        </tr>\n",
       "        <tr>\n",
       "            <td>39  </td> <td>Steve Nash             </td> <td>Dallas Mavericks         </td> <td>5500000 </td> <td>2000  </td>\n",
       "        </tr>\n",
       "        <tr>\n",
       "            <td>79  </td> <td>Steve Nash             </td> <td>Dallas Mavericks         </td> <td>5500000 </td> <td>2001  </td>\n",
       "        </tr>\n",
       "        <tr>\n",
       "            <td>66  </td> <td>Alvin Williams         </td> <td>Toronto Raptors          </td> <td>5500000 </td> <td>2004  </td>\n",
       "        </tr>\n",
       "        <tr>\n",
       "            <td>110 </td> <td>Eric Snow              </td> <td>Cleveland Cavaliers      </td> <td>5484375 </td> <td>2006  </td>\n",
       "        </tr>\n",
       "        <tr>\n",
       "            <td>183 </td> <td>De'Aaron Fox           </td> <td>Sacramento Kings         </td> <td>5470920 </td> <td>2019  </td>\n",
       "        </tr>\n",
       "        <tr>\n",
       "            <td>80  </td> <td>Mike Bibby             </td> <td>Sacramento Kings         </td> <td>5448000 </td> <td>2003  </td>\n",
       "        </tr>\n",
       "        <tr>\n",
       "            <td>72  </td> <td>Avery Johnson          </td> <td>Golden State Warriors    </td> <td>5445000 </td> <td>2004  </td>\n",
       "        </tr>\n",
       "        <tr>\n",
       "            <td>111 </td> <td>Jamaal Tinsley         </td> <td>Indiana Pacers           </td> <td>5400000 </td> <td>2006  </td>\n",
       "        </tr>\n",
       "        <tr>\n",
       "            <td>117 </td> <td>Earl Watson            </td> <td>Seattle SuperSonics      </td> <td>5400000 </td> <td>2007  </td>\n",
       "        </tr>\n",
       "        <tr>\n",
       "            <td>119 </td> <td>Antonio Daniels        </td> <td>Washington Wizards       </td> <td>5400000 </td> <td>2007  </td>\n",
       "        </tr>\n",
       "        <tr>\n",
       "            <td>112 </td> <td>Derek Fisher           </td> <td>Golden State Warriors    </td> <td>5393300 </td> <td>2006  </td>\n",
       "        </tr>\n",
       "        <tr>\n",
       "            <td>137 </td> <td>Deron Williams         </td> <td>Dallas Mavericks         </td> <td>5378974 </td> <td>2016  </td>\n",
       "        </tr>\n",
       "        <tr>\n",
       "            <td>126 </td> <td>Kyrie Irving           </td> <td>Cleveland Cavaliers      </td> <td>5375760 </td> <td>2013  </td>\n",
       "        </tr>\n",
       "        <tr>\n",
       "            <td>189 </td> <td>Trae Young             </td> <td>Atlanta Hawks            </td> <td>5356440 </td> <td>2019  </td>\n",
       "        </tr>\n",
       "        <tr>\n",
       "            <td>80  </td> <td>Alvin Williams         </td> <td>Toronto Raptors          </td> <td>5350000 </td> <td>2002  </td>\n",
       "        </tr>\n",
       "        <tr>\n",
       "            <td>81  </td> <td>Alvin Williams         </td> <td>Toronto Raptors          </td> <td>5350000 </td> <td>2003  </td>\n",
       "        </tr>\n",
       "        <tr>\n",
       "            <td>199 </td> <td>Kris Dunn              </td> <td>Chicago Bulls            </td> <td>5348007 </td> <td>2020  </td>\n",
       "        </tr>\n",
       "        <tr>\n",
       "            <td>82  </td> <td>Howard Eisley          </td> <td>New York Knicks          </td> <td>5312000 </td> <td>2003  </td>\n",
       "        </tr>\n",
       "        <tr>\n",
       "            <td>200 </td> <td>Coby White             </td> <td>Chicago Bulls            </td> <td>5307120 </td> <td>2020  </td>\n",
       "        </tr>\n",
       "        <tr>\n",
       "            <td>117 </td> <td>Marko Jaric            </td> <td>Minnesota Timberwolves   </td> <td>5280528 </td> <td>2006  </td>\n",
       "        </tr>\n",
       "        <tr>\n",
       "            <td>118 </td> <td>Troy Hudson            </td> <td>Minnesota Timberwolves   </td> <td>5253000 </td> <td>2006  </td>\n",
       "        </tr>\n",
       "        <tr>\n",
       "            <td>124 </td> <td>Bobby Jackson          </td> <td>NO/Oklahoma City Hornets </td> <td>5250000 </td> <td>2007  </td>\n",
       "        </tr>\n",
       "        <tr>\n",
       "            <td>130 </td> <td>Mike James             </td> <td>Minnesota Timberwolves   </td> <td>5215000 </td> <td>2007  </td>\n",
       "        </tr>\n",
       "        <tr>\n",
       "            <td>137 </td> <td>Speedy Claxton         </td> <td>Atlanta Hawks            </td> <td>5209454 </td> <td>2010  </td>\n",
       "        </tr>\n",
       "        <tr>\n",
       "            <td>135 </td> <td>Speedy Claxton         </td> <td>Atlanta Hawks            </td> <td>5209454 </td> <td>2011  </td>\n",
       "        </tr>\n",
       "        <tr>\n",
       "            <td>133 </td> <td>Speedy Claxton         </td> <td>Atlanta Hawks            </td> <td>5209454 </td> <td>2012  </td>\n",
       "        </tr>\n",
       "        <tr>\n",
       "            <td>133 </td> <td>Speedy Claxton         </td> <td>Atlanta Hawks            </td> <td>5209454 </td> <td>2013  </td>\n",
       "        </tr>\n",
       "        <tr>\n",
       "            <td>138 </td> <td>Derrick Rose           </td> <td>Chicago Bulls            </td> <td>5184480 </td> <td>2010  </td>\n",
       "        </tr>\n",
       "        <tr>\n",
       "            <td>82  </td> <td>Baron Davis            </td> <td>New Orleans Hornets      </td> <td>5173000 </td> <td>2004  </td>\n",
       "        </tr>\n",
       "        <tr>\n",
       "            <td>137 </td> <td>John Wall              </td> <td>Washington Wizards       </td> <td>5144280 </td> <td>2011  </td>\n",
       "        </tr>\n",
       "        <tr>\n",
       "            <td>135 </td> <td>Kyrie Irving           </td> <td>Cleveland Cavaliers      </td> <td>5144280 </td> <td>2012  </td>\n",
       "        </tr>\n",
       "        <tr>\n",
       "            <td>85  </td> <td>Charlie Ward           </td> <td>New York Knicks          </td> <td>5110000 </td> <td>2002  </td>\n",
       "        </tr>\n",
       "        <tr>\n",
       "            <td>137 </td> <td>Russell Westbrook      </td> <td>Oklahoma City Thunder    </td> <td>5082416 </td> <td>2012  </td>\n",
       "        </tr>\n",
       "        <tr>\n",
       "            <td>146 </td> <td>Deron Williams         </td> <td>Utah Jazz                </td> <td>5069449 </td> <td>2009  </td>\n",
       "        </tr>\n",
       "        <tr>\n",
       "            <td>88  </td> <td>Brevin Knight          </td> <td>Memphis Grizzlies        </td> <td>5062000 </td> <td>2003  </td>\n",
       "        </tr>\n",
       "        <tr>\n",
       "            <td>84  </td> <td>Brevin Knight          </td> <td>Washington Wizards       </td> <td>5062000 </td> <td>2004  </td>\n",
       "        </tr>\n",
       "        <tr>\n",
       "            <td>141 </td> <td>Derek Fisher           </td> <td>Los Angeles Lakers       </td> <td>5048000 </td> <td>2010  </td>\n",
       "        </tr>\n",
       "        <tr>\n",
       "            <td>196 </td> <td>Patrick Beverley       </td> <td>LA Clippers              </td> <td>5027028 </td> <td>2019  </td>\n",
       "        </tr>\n",
       "        <tr>\n",
       "            <td>88  </td> <td>Charlie Ward           </td> <td>New York Knicks          </td> <td>5000000 </td> <td>2001  </td>\n",
       "        </tr>\n",
       "        <tr>\n",
       "            <td>124 </td> <td>Earl Watson            </td> <td>Seattle SuperSonics      </td> <td>5000000 </td> <td>2006  </td>\n",
       "        </tr>\n",
       "        <tr>\n",
       "            <td>127 </td> <td>Antonio Daniels        </td> <td>Washington Wizards       </td> <td>5000000 </td> <td>2006  </td>\n",
       "        </tr>\n",
       "        <tr>\n",
       "            <td>144 </td> <td>Nate Robinson          </td> <td>New York Knicks          </td> <td>5000000 </td> <td>2010  </td>\n",
       "        </tr>\n",
       "        <tr>\n",
       "            <td>140 </td> <td>Andre Miller           </td> <td>Denver Nuggets           </td> <td>5000000 </td> <td>2013  </td>\n",
       "        </tr>\n",
       "        <tr>\n",
       "            <td>125 </td> <td>Andre Miller           </td> <td>Washington Wizards       </td> <td>5000000 </td> <td>2014  </td>\n",
       "        </tr>\n",
       "        <tr>\n",
       "            <td>148 </td> <td>C.J. Watson            </td> <td>Orlando Magic            </td> <td>5000000 </td> <td>2016  </td>\n",
       "        </tr>\n",
       "        <tr>\n",
       "            <td>189 </td> <td>C.J. Watson            </td> <td>Orlando Magic            </td> <td>5000000 </td> <td>2017  </td>\n",
       "        </tr>\n",
       "        <tr>\n",
       "            <td>197 </td> <td>C.J. Watson            </td> <td>Orlando Magic            </td> <td>5000000 </td> <td>2018  </td>\n",
       "        </tr>\n",
       "        <tr>\n",
       "            <td>200 </td> <td>Dante Exum             </td> <td>Utah Jazz                </td> <td>4992385 </td> <td>2018  </td>\n",
       "        </tr>\n",
       "        <tr>\n",
       "            <td>98  </td> <td>Avery Johnson          </td> <td>Dallas Mavericks         </td> <td>4991000 </td> <td>2003  </td>\n",
       "        </tr>\n",
       "        <tr>\n",
       "            <td>146 </td> <td>Mike Conley            </td> <td>Memphis Grizzlies        </td> <td>4913077 </td> <td>2011  </td>\n",
       "        </tr>\n",
       "        <tr>\n",
       "            <td>92  </td> <td>Bob Sura               </td> <td>Golden State Warriors    </td> <td>4913000 </td> <td>2002  </td>\n",
       "        </tr>\n",
       "        <tr>\n",
       "            <td>152 </td> <td>Rafer Alston           </td> <td>Orlando Magic            </td> <td>4900000 </td> <td>2009  </td>\n",
       "        </tr>\n",
       "        <tr>\n",
       "            <td>69  </td> <td>Eric Snow              </td> <td>Cleveland Cavaliers      </td> <td>4875000 </td> <td>2005  </td>\n",
       "        </tr>\n",
       "        <tr>\n",
       "            <td>209 </td> <td>Frank Ntilikina        </td> <td>New York Knicks          </td> <td>4855800 </td> <td>2020  </td>\n",
       "        </tr>\n",
       "        <tr>\n",
       "            <td>148 </td> <td>Marcus Banks           </td> <td>Toronto Raptors          </td> <td>4847586 </td> <td>2011  </td>\n",
       "        </tr>\n",
       "        <tr>\n",
       "            <td>144 </td> <td>Marcus Banks           </td> <td>New Orleans Pelicans     </td> <td>4847586 </td> <td>2012  </td>\n",
       "        </tr>\n",
       "        <tr>\n",
       "            <td>147 </td> <td>Marcus Banks           </td> <td>New Orleans Pelicans     </td> <td>4847586 </td> <td>2013  </td>\n",
       "        </tr>\n",
       "        <tr>\n",
       "            <td>153 </td> <td>Derrick Rose           </td> <td>Chicago Bulls            </td> <td>4822800 </td> <td>2009  </td>\n",
       "        </tr>\n",
       "        <tr>\n",
       "            <td>94  </td> <td>Howard Eisley          </td> <td>New York Knicks          </td> <td>4781000 </td> <td>2002  </td>\n",
       "        </tr>\n",
       "        <tr>\n",
       "            <td>217 </td> <td>Avery Bradley          </td> <td>Los Angeles Lakers       </td> <td>4767000 </td> <td>2020  </td>\n",
       "        </tr>\n",
       "        <tr>\n",
       "            <td>221 </td> <td>Collin Sexton          </td> <td>Cleveland Cavaliers      </td> <td>4764960 </td> <td>2020  </td>\n",
       "        </tr>\n",
       "        <tr>\n",
       "            <td>155 </td> <td>Derek Fisher           </td> <td>Los Angeles Lakers       </td> <td>4700000 </td> <td>2009  </td>\n",
       "        </tr>\n",
       "        <tr>\n",
       "            <td>133 </td> <td>J.J. Barea             </td> <td>Minnesota Timberwolves   </td> <td>4687000 </td> <td>2014  </td>\n",
       "        </tr>\n",
       "        <tr>\n",
       "            <td>148 </td> <td>Ricky Rubio            </td> <td>Minnesota Timberwolves   </td> <td>4660479 </td> <td>2015  </td>\n",
       "        </tr>\n",
       "        <tr>\n",
       "            <td>149 </td> <td>Andre Miller           </td> <td>Washington Wizards       </td> <td>4650000 </td> <td>2015  </td>\n",
       "        </tr>\n",
       "        <tr>\n",
       "            <td>206 </td> <td>De'Aaron Fox           </td> <td>Sacramento Kings         </td> <td>4609200 </td> <td>2018  </td>\n",
       "        </tr>\n",
       "        <tr>\n",
       "            <td>138 </td> <td>Brevin Knight          </td> <td>Charlotte Bobcats        </td> <td>4600000 </td> <td>2006  </td>\n",
       "        </tr>\n",
       "        <tr>\n",
       "            <td>89  </td> <td>Mark Jackson           </td> <td>Houston Rockets          </td> <td>4580000 </td> <td>2004  </td>\n",
       "        </tr>\n",
       "        <tr>\n",
       "            <td>159 </td> <td>Chris Paul             </td> <td>New Orleans Hornets      </td> <td>4574189 </td> <td>2009  </td>\n",
       "        </tr>\n",
       "        <tr>\n",
       "            <td>156 </td> <td>Marcus Banks           </td> <td>Toronto Raptors          </td> <td>4553793 </td> <td>2010  </td>\n",
       "        </tr>\n",
       "        <tr>\n",
       "            <td>145 </td> <td>Rafer Alston           </td> <td>Houston Rockets          </td> <td>4550000 </td> <td>2008  </td>\n",
       "        </tr>\n",
       "        <tr>\n",
       "            <td>55  </td> <td>Charlie Ward           </td> <td>New York Knicks          </td> <td>4540000 </td> <td>2000  </td>\n",
       "        </tr>\n",
       "        <tr>\n",
       "            <td>104 </td> <td>Avery Johnson          </td> <td>Denver Nuggets           </td> <td>4538000 </td> <td>2002  </td>\n",
       "        </tr>\n",
       "        <tr>\n",
       "            <td>110 </td> <td>Darrel Armstrong       </td> <td>Orlando Magic            </td> <td>4506000 </td> <td>2003  </td>\n",
       "        </tr>\n",
       "        <tr>\n",
       "            <td>105 </td> <td>Brevin Knight          </td> <td>Memphis Grizzlies        </td> <td>4500000 </td> <td>2002  </td>\n",
       "        </tr>\n",
       "        <tr>\n",
       "            <td>113 </td> <td>Sam Cassell            </td> <td>Milwaukee Bucks          </td> <td>4500000 </td> <td>2003  </td>\n",
       "        </tr>\n",
       "        <tr>\n",
       "            <td>92  </td> <td>Eric Snow              </td> <td>Philadelphia 76ers       </td> <td>4500000 </td> <td>2004  </td>\n",
       "        </tr>\n",
       "        <tr>\n",
       "            <td>143 </td> <td>Chucky Atkins          </td> <td>Memphis Grizzlies        </td> <td>4500000 </td> <td>2006  </td>\n",
       "        </tr>\n",
       "        <tr>\n",
       "            <td>161 </td> <td>J.J. Barea             </td> <td>Minnesota Timberwolves   </td> <td>4493500 </td> <td>2013  </td>\n",
       "        </tr>\n",
       "        <tr>\n",
       "            <td>224 </td> <td>Dennis Smith Jr.       </td> <td>New York Knicks          </td> <td>4463640 </td> <td>2020  </td>\n",
       "        </tr>\n",
       "        <tr>\n",
       "            <td>166 </td> <td>Damon Jones            </td> <td>Milwaukee Bucks          </td> <td>4460186 </td> <td>2009  </td>\n",
       "        </tr>\n",
       "        <tr>\n",
       "            <td>225 </td> <td>Jamal Murray           </td> <td>Denver Nuggets           </td> <td>4444746 </td> <td>2020  </td>\n",
       "        </tr>\n",
       "        <tr>\n",
       "            <td>140 </td> <td>Luke Ridnour           </td> <td>Charlotte Bobcats        </td> <td>4420000 </td> <td>2014  </td>\n",
       "        </tr>\n",
       "        <tr>\n",
       "            <td>142 </td> <td>Brevin Knight          </td> <td>Charlotte Bobcats        </td> <td>4400000 </td> <td>2007  </td>\n",
       "        </tr>\n",
       "        <tr>\n",
       "            <td>98  </td> <td>Bob Sura               </td> <td>Golden State Warriors    </td> <td>4386000 </td> <td>2001  </td>\n",
       "        </tr>\n",
       "        <tr>\n",
       "            <td>116 </td> <td>Steve Francis          </td> <td>Houston Rockets          </td> <td>4383000 </td> <td>2003  </td>\n",
       "        </tr>\n",
       "        <tr>\n",
       "            <td>150 </td> <td>Derek Fisher           </td> <td>Los Angeles Lakers       </td> <td>4352000 </td> <td>2008  </td>\n",
       "        </tr>\n",
       "        <tr>\n",
       "            <td>206 </td> <td>Greivis Vasquez        </td> <td>Brooklyn Nets            </td> <td>4347826 </td> <td>2017  </td>\n",
       "        </tr>\n",
       "        <tr>\n",
       "            <td>212 </td> <td>Greivis Vasquez        </td> <td>Brooklyn Nets            </td> <td>4347826 </td> <td>2018  </td>\n",
       "        </tr>\n",
       "        <tr>\n",
       "            <td>100 </td> <td>Robert Pack            </td> <td>Denver Nuggets           </td> <td>4320000 </td> <td>2001  </td>\n",
       "        </tr>\n",
       "        <tr>\n",
       "            <td>160 </td> <td>J.J. Barea             </td> <td>Minnesota Timberwolves   </td> <td>4300000 </td> <td>2012  </td>\n",
       "        </tr>\n",
       "        <tr>\n",
       "            <td>214 </td> <td>Emmanuel Mudiay        </td> <td>New York Knicks          </td> <td>4294480 </td> <td>2018  </td>\n",
       "        </tr>\n",
       "        <tr>\n",
       "            <td>216 </td> <td>Emmanuel Mudiay        </td> <td>New York Knicks          </td> <td>4294480 </td> <td>2019  </td>\n",
       "        </tr>\n",
       "        <tr>\n",
       "            <td>167 </td> <td>J.J. Barea             </td> <td>Dallas Mavericks         </td> <td>4290000 </td> <td>2016  </td>\n",
       "        </tr>\n",
       "        <tr>\n",
       "            <td>170 </td> <td>Marcus Banks           </td> <td>Toronto Raptors          </td> <td>4260000 </td> <td>2009  </td>\n",
       "        </tr>\n",
       "        <tr>\n",
       "            <td>103 </td> <td>Brevin Knight          </td> <td>Cleveland Cavaliers      </td> <td>4250000 </td> <td>2001  </td>\n",
       "        </tr>\n",
       "        <tr>\n",
       "            <td>104 </td> <td>Howard Eisley          </td> <td>Dallas Mavericks         </td> <td>4250000 </td> <td>2001  </td>\n",
       "        </tr>\n",
       "        <tr>\n",
       "            <td>149 </td> <td>Damon Stoudamire       </td> <td>Memphis Grizzlies        </td> <td>4250000 </td> <td>2006  </td>\n",
       "        </tr>\n",
       "        <tr>\n",
       "            <td>156 </td> <td>Steve Blake            </td> <td>Portland Trail Blazers   </td> <td>4250000 </td> <td>2008  </td>\n",
       "        </tr>\n",
       "        <tr>\n",
       "            <td>171 </td> <td>Steve Blake            </td> <td>Portland Trail Blazers   </td> <td>4250000 </td> <td>2009  </td>\n",
       "        </tr>\n",
       "        <tr>\n",
       "            <td>167 </td> <td>Jordan Farmar          </td> <td>Sacramento Kings         </td> <td>4250000 </td> <td>2013  </td>\n",
       "        </tr>\n",
       "        <tr>\n",
       "            <td>168 </td> <td>Damian Lillard         </td> <td>Portland Trail Blazers   </td> <td>4236287 </td> <td>2016  </td>\n",
       "        </tr>\n",
       "        <tr>\n",
       "            <td>215 </td> <td>Kris Dunn              </td> <td>Chicago Bulls            </td> <td>4221000 </td> <td>2018  </td>\n",
       "        </tr>\n",
       "        <tr>\n",
       "            <td>217 </td> <td>Kris Dunn              </td> <td>Chicago Bulls            </td> <td>4221000 </td> <td>2019  </td>\n",
       "        </tr>\n",
       "        <tr>\n",
       "            <td>117 </td> <td>Mark Jackson           </td> <td>Utah Jazz                </td> <td>4220000 </td> <td>2003  </td>\n",
       "        </tr>\n",
       "        <tr>\n",
       "            <td>75  </td> <td>Chucky Atkins          </td> <td>Los Angeles Lakers       </td> <td>4200000 </td> <td>2005  </td>\n",
       "        </tr>\n",
       "        <tr>\n",
       "            <td>150 </td> <td>Moochie Norris         </td> <td>Houston Rockets          </td> <td>4200000 </td> <td>2006  </td>\n",
       "        </tr>\n",
       "        <tr>\n",
       "            <td>149 </td> <td>Rafer Alston           </td> <td>Houston Rockets          </td> <td>4200000 </td> <td>2007  </td>\n",
       "        </tr>\n",
       "        <tr>\n",
       "            <td>167 </td> <td>Nate Robinson          </td> <td>Oklahoma City Thunder    </td> <td>4200000 </td> <td>2011  </td>\n",
       "        </tr>\n",
       "        <tr>\n",
       "            <td>119 </td> <td>Mike Bibby             </td> <td>Sacramento Kings         </td> <td>4174000 </td> <td>2002  </td>\n",
       "        </tr>\n",
       "        <tr>\n",
       "            <td>158 </td> <td>Damon Jones            </td> <td>Cleveland Cavaliers      </td> <td>4172432 </td> <td>2008  </td>\n",
       "        </tr>\n",
       "        <tr>\n",
       "            <td>218 </td> <td>Frank Ntilikina        </td> <td>New York Knicks          </td> <td>4155720 </td> <td>2018  </td>\n",
       "        </tr>\n",
       "        <tr>\n",
       "            <td>218 </td> <td>Frank Ntilikina        </td> <td>New York Knicks          </td> <td>4155720 </td> <td>2019  </td>\n",
       "        </tr>\n",
       "        <tr>\n",
       "            <td>121 </td> <td>Darrel Armstrong       </td> <td>Orlando Magic            </td> <td>4130000 </td> <td>2002  </td>\n",
       "        </tr>\n",
       "        <tr>\n",
       "            <td>61  </td> <td>Darrel Armstrong       </td> <td>Orlando Magic            </td> <td>4125000 </td> <td>2000  </td>\n",
       "        </tr>\n",
       "        <tr>\n",
       "            <td>120 </td> <td>Eric Snow              </td> <td>Philadelphia 76ers       </td> <td>4125000 </td> <td>2003  </td>\n",
       "        </tr>\n",
       "        <tr>\n",
       "            <td>153 </td> <td>Carlos Arroyo          </td> <td>Orlando Magic            </td> <td>4100000 </td> <td>2007  </td>\n",
       "        </tr>\n",
       "        <tr>\n",
       "            <td>211 </td> <td>J.J. Barea             </td> <td>Dallas Mavericks         </td> <td>4096950 </td> <td>2017  </td>\n",
       "        </tr>\n",
       "        <tr>\n",
       "            <td>220 </td> <td>Collin Sexton          </td> <td>Cleveland Cavaliers      </td> <td>4068600 </td> <td>2019  </td>\n",
       "        </tr>\n",
       "        <tr>\n",
       "            <td>100 </td> <td>Anthony Carter         </td> <td>San Antonio Spurs        </td> <td>4063000 </td> <td>2004  </td>\n",
       "        </tr>\n",
       "        <tr>\n",
       "            <td>154 </td> <td>Damon Stoudamire       </td> <td>Memphis Grizzlies        </td> <td>4050000 </td> <td>2007  </td>\n",
       "        </tr>\n",
       "        <tr>\n",
       "            <td>173 </td> <td>Russell Westbrook      </td> <td>Oklahoma City Thunder    </td> <td>4017720 </td> <td>2011  </td>\n",
       "        </tr>\n",
       "        <tr>\n",
       "            <td>161 </td> <td>Deron Williams         </td> <td>Utah Jazz                </td> <td>4010640 </td> <td>2008  </td>\n",
       "        </tr>\n",
       "        <tr>\n",
       "            <td>124 </td> <td>Sam Cassell            </td> <td>Milwaukee Bucks          </td> <td>4000000 </td> <td>2002  </td>\n",
       "        </tr>\n",
       "        <tr>\n",
       "            <td>157 </td> <td>Sarunas Jasikevicius   </td> <td>Indiana Pacers           </td> <td>4000000 </td> <td>2006  </td>\n",
       "        </tr>\n",
       "        <tr>\n",
       "            <td>159 </td> <td>Carlos Arroyo          </td> <td>Orlando Magic            </td> <td>4000000 </td> <td>2006  </td>\n",
       "        </tr>\n",
       "        <tr>\n",
       "            <td>159 </td> <td>Sarunas Jasikevicius   </td> <td>Indiana Pacers           </td> <td>4000000 </td> <td>2007  </td>\n",
       "        </tr>\n",
       "        <tr>\n",
       "            <td>164 </td> <td>Sarunas Jasikevicius   </td> <td>Golden State Warriors    </td> <td>4000000 </td> <td>2008  </td>\n",
       "        </tr>\n",
       "        <tr>\n",
       "            <td>167 </td> <td>Carlos Arroyo          </td> <td>Orlando Magic            </td> <td>4000000 </td> <td>2008  </td>\n",
       "        </tr>\n",
       "        <tr>\n",
       "            <td>174 </td> <td>Steve Blake            </td> <td>Portland Trail Blazers   </td> <td>4000000 </td> <td>2010  </td>\n",
       "        </tr>\n",
       "        <tr>\n",
       "            <td>175 </td> <td>Luke Ridnour           </td> <td>Minnesota Timberwolves   </td> <td>4000000 </td> <td>2011  </td>\n",
       "        </tr>\n",
       "        <tr>\n",
       "            <td>179 </td> <td>Steve Blake            </td> <td>Los Angeles Lakers       </td> <td>4000000 </td> <td>2011  </td>\n",
       "        </tr>\n",
       "        <tr>\n",
       "            <td>174 </td> <td>Jordan Farmar          </td> <td>New Jersey Nets          </td> <td>4000000 </td> <td>2012  </td>\n",
       "        </tr>\n",
       "        <tr>\n",
       "            <td>177 </td> <td>Steve Blake            </td> <td>Los Angeles Lakers       </td> <td>4000000 </td> <td>2012  </td>\n",
       "        </tr>\n",
       "        <tr>\n",
       "            <td>178 </td> <td>Luke Ridnour           </td> <td>Minnesota Timberwolves   </td> <td>4000000 </td> <td>2013  </td>\n",
       "        </tr>\n",
       "        <tr>\n",
       "            <td>185 </td> <td>Steve Blake            </td> <td>Los Angeles Lakers       </td> <td>4000000 </td> <td>2013  </td>\n",
       "        </tr>\n",
       "        <tr>\n",
       "            <td>153 </td> <td>Steve Blake            </td> <td>Los Angeles Lakers       </td> <td>4000000 </td> <td>2014  </td>\n",
       "        </tr>\n",
       "        <tr>\n",
       "            <td>169 </td> <td>Marcus Banks           </td> <td>Phoenix Suns             </td> <td>3966207 </td> <td>2008  </td>\n",
       "        </tr>\n",
       "        <tr>\n",
       "            <td>169 </td> <td>Mo Williams            </td> <td>Charlotte Hornets        </td> <td>3965074 </td> <td>2015  </td>\n",
       "        </tr>\n",
       "        <tr>\n",
       "            <td>187 </td> <td>Stephen Curry          </td> <td>Golden State Warriors    </td> <td>3958742 </td> <td>2013  </td>\n",
       "        </tr>\n",
       "        <tr>\n",
       "            <td>126 </td> <td>Baron Davis            </td> <td>New Orleans Hornets      </td> <td>3942000 </td> <td>2003  </td>\n",
       "        </tr>\n",
       "        <tr>\n",
       "            <td>220 </td> <td>Dante Exum             </td> <td>Utah Jazz                </td> <td>3940320 </td> <td>2017  </td>\n",
       "        </tr>\n",
       "        <tr>\n",
       "            <td>225 </td> <td>J.J. Barea             </td> <td>Dallas Mavericks         </td> <td>3903900 </td> <td>2018  </td>\n",
       "        </tr>\n",
       "        <tr>\n",
       "            <td>103 </td> <td>Chucky Atkins          </td> <td>Detroit Pistons          </td> <td>3900000 </td> <td>2004  </td>\n",
       "        </tr>\n",
       "        <tr>\n",
       "            <td>162 </td> <td>Damon Jones            </td> <td>Cleveland Cavaliers      </td> <td>3884678 </td> <td>2007  </td>\n",
       "        </tr>\n",
       "        <tr>\n",
       "            <td>180 </td> <td>Mike Conley            </td> <td>Memphis Grizzlies        </td> <td>3883800 </td> <td>2010  </td>\n",
       "        </tr>\n",
       "        <tr>\n",
       "            <td>223 </td> <td>Kris Dunn              </td> <td>Minnesota Timberwolves   </td> <td>3872520 </td> <td>2017  </td>\n",
       "        </tr>\n",
       "        <tr>\n",
       "            <td>127 </td> <td>Mark Jackson           </td> <td>New York Knicks          </td> <td>3860000 </td> <td>2002  </td>\n",
       "        </tr>\n",
       "        <tr>\n",
       "            <td>162 </td> <td>Rafer Alston           </td> <td>Houston Rockets          </td> <td>3850000 </td> <td>2006  </td>\n",
       "        </tr>\n",
       "        <tr>\n",
       "            <td>174 </td> <td>Patty Mills            </td> <td>San Antonio Spurs        </td> <td>3842105 </td> <td>2015  </td>\n",
       "        </tr>\n",
       "        <tr>\n",
       "            <td>166 </td> <td>Bob Sura               </td> <td>Houston Rockets          </td> <td>3840000 </td> <td>2007  </td>\n",
       "        </tr>\n",
       "        <tr>\n",
       "            <td>172 </td> <td>Bob Sura               </td> <td>Houston Rockets          </td> <td>3840000 </td> <td>2008  </td>\n",
       "        </tr>\n",
       "        <tr>\n",
       "            <td>223 </td> <td>Dennis Smith Jr.       </td> <td>New York Knicks          </td> <td>3819960 </td> <td>2019  </td>\n",
       "        </tr>\n",
       "        <tr>\n",
       "            <td>185 </td> <td>Dante Exum             </td> <td>Cleveland Cavaliers      </td> <td>3777720 </td> <td>2016  </td>\n",
       "        </tr>\n",
       "        <tr>\n",
       "            <td>66  </td> <td>Bob Sura               </td> <td>Cleveland Cavaliers      </td> <td>3760000 </td> <td>2000  </td>\n",
       "        </tr>\n",
       "        <tr>\n",
       "            <td>183 </td> <td>Russell Westbrook      </td> <td>Oklahoma City Thunder    </td> <td>3755640 </td> <td>2010  </td>\n",
       "        </tr>\n",
       "        <tr>\n",
       "            <td>133 </td> <td>Eric Snow              </td> <td>Philadelphia 76ers       </td> <td>3750000 </td> <td>2002  </td>\n",
       "        </tr>\n",
       "        <tr>\n",
       "            <td>185 </td> <td>Jordan Farmar          </td> <td>New Jersey Nets          </td> <td>3750000 </td> <td>2011  </td>\n",
       "        </tr>\n",
       "        <tr>\n",
       "            <td>169 </td> <td>Deron Williams         </td> <td>Utah Jazz                </td> <td>3749040 </td> <td>2007  </td>\n",
       "        </tr>\n",
       "        <tr>\n",
       "            <td>194 </td> <td>Ricky Rubio            </td> <td>Minnesota Timberwolves   </td> <td>3741120 </td> <td>2013  </td>\n",
       "        </tr>\n",
       "        <tr>\n",
       "            <td>225 </td> <td>J.J. Barea             </td> <td>Dallas Mavericks         </td> <td>3710850 </td> <td>2019  </td>\n",
       "        </tr>\n",
       "        <tr>\n",
       "            <td>118 </td> <td>Dana Barros            </td> <td>Detroit Pistons          </td> <td>3700000 </td> <td>2001  </td>\n",
       "        </tr>\n",
       "        <tr>\n",
       "            <td>188 </td> <td>Derek Fisher           </td> <td>Los Angeles Lakers       </td> <td>3700000 </td> <td>2011  </td>\n",
       "        </tr>\n",
       "        <tr>\n",
       "            <td>190 </td> <td>Luke Ridnour           </td> <td>Minnesota Timberwolves   </td> <td>3680000 </td> <td>2012  </td>\n",
       "        </tr>\n",
       "        <tr>\n",
       "            <td>163 </td> <td>Ricky Rubio            </td> <td>Minnesota Timberwolves   </td> <td>3678358 </td> <td>2014  </td>\n",
       "        </tr>\n",
       "        <tr>\n",
       "            <td>132 </td> <td>Anthony Carter         </td> <td>Miami Heat               </td> <td>3656000 </td> <td>2003  </td>\n",
       "        </tr>\n",
       "        <tr>\n",
       "            <td>193 </td> <td>Mike Conley            </td> <td>Memphis Grizzlies        </td> <td>3630480 </td> <td>2009  </td>\n",
       "        </tr>\n",
       "        <tr>\n",
       "            <td>179 </td> <td>Chris Paul             </td> <td>New Orleans Hornets      </td> <td>3615960 </td> <td>2008  </td>\n",
       "        </tr>\n",
       "        <tr>\n",
       "            <td>181 </td> <td>Dante Exum             </td> <td>Utah Jazz                </td> <td>3615000 </td> <td>2015  </td>\n",
       "        </tr>\n",
       "        <tr>\n",
       "            <td>140 </td> <td>Moochie Norris         </td> <td>Houston Rockets          </td> <td>3600000 </td> <td>2002  </td>\n",
       "        </tr>\n",
       "        <tr>\n",
       "            <td>133 </td> <td>Chucky Atkins          </td> <td>Detroit Pistons          </td> <td>3600000 </td> <td>2003  </td>\n",
       "        </tr>\n",
       "        <tr>\n",
       "            <td>135 </td> <td>Moochie Norris         </td> <td>Houston Rockets          </td> <td>3600000 </td> <td>2003  </td>\n",
       "        </tr>\n",
       "        <tr>\n",
       "            <td>108 </td> <td>Moochie Norris         </td> <td>New York Knicks          </td> <td>3600000 </td> <td>2004  </td>\n",
       "        </tr>\n",
       "        <tr>\n",
       "            <td>78  </td> <td>Moochie Norris         </td> <td>New York Knicks          </td> <td>3600000 </td> <td>2005  </td>\n",
       "        </tr>\n",
       "        <tr>\n",
       "            <td>167 </td> <td>Speedy Claxton         </td> <td>NO/Oklahoma City\n",
       " Hornets</td> <td>3600000 </td> <td>2006  </td>\n",
       "        </tr>\n",
       "        <tr>\n",
       "            <td>173 </td> <td>Jeff McInnis           </td> <td>Charlotte Bobcats        </td> <td>3600000 </td> <td>2007  </td>\n",
       "        </tr>\n",
       "        <tr>\n",
       "            <td>174 </td> <td>Marcus Banks           </td> <td>Phoenix Suns             </td> <td>3600000 </td> <td>2007  </td>\n",
       "        </tr>\n",
       "        <tr>\n",
       "            <td>190 </td> <td>C.J. Watson            </td> <td>Chicago Bulls            </td> <td>3600000 </td> <td>2011  </td>\n",
       "        </tr>\n",
       "        <tr>\n",
       "            <td>168 </td> <td>Damon Jones            </td> <td>Cleveland Cavaliers      </td> <td>3596924 </td> <td>2006  </td>\n",
       "        </tr>\n",
       "        <tr>\n",
       "            <td>180 </td> <td>Keyon Dooling          </td> <td>Orlando Magic            </td> <td>3596000 </td> <td>2008  </td>\n",
       "        </tr>\n",
       "        <tr>\n",
       "            <td>230 </td> <td>Patty Mills            </td> <td>San Antonio Spurs        </td> <td>3578948 </td> <td>2017  </td>\n",
       "        </tr>\n",
       "        <tr>\n",
       "            <td>189 </td> <td>Patty Mills            </td> <td>San Antonio Spurs        </td> <td>3578947 </td> <td>2016  </td>\n",
       "        </tr>\n",
       "        <tr>\n",
       "            <td>231 </td> <td>Marcus Smart           </td> <td>Boston Celtics           </td> <td>3578880 </td> <td>2017  </td>\n",
       "        </tr>\n",
       "        <tr>\n",
       "            <td>123 </td> <td>Mark Jackson           </td> <td>Toronto Raptors          </td> <td>3565000 </td> <td>2001  </td>\n",
       "        </tr>\n",
       "        <tr>\n",
       "            <td>194 </td> <td>Keyon Dooling          </td> <td>New Jersey Nets          </td> <td>3564000 </td> <td>2010  </td>\n",
       "        </tr>\n",
       "        <tr>\n",
       "            <td>182 </td> <td>Brandon Knight         </td> <td>Phoenix Suns             </td> <td>3553917 </td> <td>2015  </td>\n",
       "        </tr>\n",
       "        <tr>\n",
       "            <td>170 </td> <td>Bob Sura               </td> <td>Houston Rockets          </td> <td>3520000 </td> <td>2006  </td>\n",
       "        </tr>\n",
       "        <tr>\n",
       "            <td>69  </td> <td>Sam Cassell            </td> <td>Milwaukee Bucks          </td> <td>3500000 </td> <td>2000  </td>\n",
       "        </tr>\n",
       "        <tr>\n",
       "            <td>128 </td> <td>Sam Cassell            </td> <td>Milwaukee Bucks          </td> <td>3500000 </td> <td>2001  </td>\n",
       "        </tr>\n",
       "        <tr>\n",
       "            <td>172 </td> <td>Tyronn Lue             </td> <td>Atlanta Hawks            </td> <td>3500000 </td> <td>2006  </td>\n",
       "        </tr>\n",
       "        <tr>\n",
       "            <td>177 </td> <td>Tyronn Lue             </td> <td>Atlanta Hawks            </td> <td>3500000 </td> <td>2007  </td>\n",
       "        </tr>\n",
       "        <tr>\n",
       "            <td>195 </td> <td>Chris Duhon            </td> <td>Orlando Magic            </td> <td>3500000 </td> <td>2011  </td>\n",
       "        </tr>\n",
       "        <tr>\n",
       "            <td>192 </td> <td>Shannon Brown          </td> <td>Phoenix Suns             </td> <td>3500000 </td> <td>2012  </td>\n",
       "        </tr>\n",
       "        <tr>\n",
       "            <td>199 </td> <td>D.J. Augustin          </td> <td>Indiana Pacers           </td> <td>3500000 </td> <td>2013  </td>\n",
       "        </tr>\n",
       "        <tr>\n",
       "            <td>200 </td> <td>Shannon Brown          </td> <td>Phoenix Suns             </td> <td>3500000 </td> <td>2013  </td>\n",
       "        </tr>\n",
       "        <tr>\n",
       "            <td>202 </td> <td>Chris Duhon            </td> <td>Los Angeles Lakers       </td> <td>3500000 </td> <td>2013  </td>\n",
       "        </tr>\n",
       "        <tr>\n",
       "            <td>255 </td> <td>T.J. McConnell         </td> <td>Indiana Pacers           </td> <td>3500000 </td> <td>2020  </td>\n",
       "        </tr>\n",
       "        <tr>\n",
       "            <td>231 </td> <td>Jamal Murray           </td> <td>Denver Nuggets           </td> <td>3499800 </td> <td>2019  </td>\n",
       "        </tr>\n",
       "        <tr>\n",
       "            <td>200 </td> <td>Russell Westbrook      </td> <td>Oklahoma City Thunder    </td> <td>3493680 </td> <td>2009  </td>\n",
       "        </tr>\n",
       "        <tr>\n",
       "            <td>173 </td> <td>Deron Williams         </td> <td>Utah Jazz                </td> <td>3487440 </td> <td>2006  </td>\n",
       "        </tr>\n",
       "        <tr>\n",
       "            <td>195 </td> <td>Ricky Rubio            </td> <td>Minnesota Timberwolves   </td> <td>3480120 </td> <td>2012  </td>\n",
       "        </tr>\n",
       "        <tr>\n",
       "            <td>142 </td> <td>Steve Francis          </td> <td>Houston Rockets          </td> <td>3473000 </td> <td>2002  </td>\n",
       "        </tr>\n",
       "        <tr>\n",
       "            <td>185 </td> <td>Kevin Ollie            </td> <td>Philadelphia 76ers       </td> <td>3441900 </td> <td>2008  </td>\n",
       "        </tr>\n",
       "        <tr>\n",
       "            <td>194 </td> <td>Marcus Smart           </td> <td>Boston Celtics           </td> <td>3431040 </td> <td>2016  </td>\n",
       "        </tr>\n",
       "        <tr>\n",
       "            <td>138 </td> <td>Jason Williams         </td> <td>Memphis Grizzlies        </td> <td>3425000 </td> <td>2003  </td>\n",
       "        </tr>\n",
       "        <tr>\n",
       "            <td>197 </td> <td>Jonny Flynn            </td> <td>Portland Trail Blazers   </td> <td>3414720 </td> <td>2012  </td>\n",
       "        </tr>\n",
       "        <tr>\n",
       "            <td>174 </td> <td>Mike James             </td> <td>Toronto Raptors          </td> <td>3410000 </td> <td>2006  </td>\n",
       "        </tr>\n",
       "        <tr>\n",
       "            <td>175 </td> <td>Jeff McInnis           </td> <td>New Jersey Nets          </td> <td>3400000 </td> <td>2006  </td>\n",
       "        </tr>\n",
       "        <tr>\n",
       "            <td>198 </td> <td>C.J. Watson            </td> <td>Chicago Bulls            </td> <td>3400000 </td> <td>2012  </td>\n",
       "        </tr>\n",
       "        <tr>\n",
       "            <td>240 </td> <td>Trey Burke             </td> <td>Washington Wizards       </td> <td>3386598 </td> <td>2017  </td>\n",
       "        </tr>\n",
       "        <tr>\n",
       "            <td>179 </td> <td>Chris Paul             </td> <td>NO/Oklahoma City Hornets </td> <td>3380160 </td> <td>2007  </td>\n",
       "        </tr>\n",
       "        <tr>\n",
       "            <td>186 </td> <td>Mike Conley            </td> <td>Memphis Grizzlies        </td> <td>3377160 </td> <td>2008  </td>\n",
       "        </tr>\n",
       "        <tr>\n",
       "            <td>132 </td> <td>Eric Snow              </td> <td>Philadelphia 76ers       </td> <td>3375000 </td> <td>2001  </td>\n",
       "        </tr>\n",
       "        <tr>\n",
       "            <td>139 </td> <td>Antonio Daniels        </td> <td>Portland Trail Blazers   </td> <td>3375000 </td> <td>2003  </td>\n",
       "        </tr>\n",
       "        <tr>\n",
       "            <td>178 </td> <td>Bobby Jackson          </td> <td>Memphis Grizzlies        </td> <td>3375000 </td> <td>2006  </td>\n",
       "        </tr>\n",
       "        <tr>\n",
       "            <td>241 </td> <td>Jamal Murray           </td> <td>Denver Nuggets           </td> <td>3355320 </td> <td>2018  </td>\n",
       "        </tr>\n",
       "        <tr>\n",
       "            <td>180 </td> <td>Keyon Dooling          </td> <td>Orlando Magic            </td> <td>3348000 </td> <td>2007  </td>\n",
       "        </tr>\n",
       "        <tr>\n",
       "            <td>188 </td> <td>Damian Lillard         </td> <td>Portland Trail Blazers   </td> <td>3340920 </td> <td>2015  </td>\n",
       "        </tr>\n",
       "        <tr>\n",
       "            <td>242 </td> <td>Elfrid Payton          </td> <td>Phoenix Suns             </td> <td>3332340 </td> <td>2018  </td>\n",
       "        </tr>\n",
       "        <tr>\n",
       "            <td>112 </td> <td>Andre Miller           </td> <td>Denver Nuggets           </td> <td>3317000 </td> <td>2004  </td>\n",
       "        </tr>\n",
       "        <tr>\n",
       "            <td>134 </td> <td>Mike Bibby             </td> <td>Vancouver Grizzlies      </td> <td>3308000 </td> <td>2001  </td>\n",
       "        </tr>\n",
       "        <tr>\n",
       "            <td>147 </td> <td>Chucky Atkins          </td> <td>Detroit Pistons          </td> <td>3300000 </td> <td>2002  </td>\n",
       "        </tr>\n",
       "        <tr>\n",
       "            <td>205 </td> <td>Keyon Dooling          </td> <td>New Jersey Nets          </td> <td>3300000 </td> <td>2009  </td>\n",
       "        </tr>\n",
       "        <tr>\n",
       "            <td>243 </td> <td>Rajon Rondo            </td> <td>New Orleans Pelicans     </td> <td>3300000 </td> <td>2018  </td>\n",
       "        </tr>\n",
       "        <tr>\n",
       "            <td>194 </td> <td>Marcus Smart           </td> <td>Boston Celtics           </td> <td>3283320 </td> <td>2015  </td>\n",
       "        </tr>\n",
       "        <tr>\n",
       "            <td>195 </td> <td>Alexey Shved           </td> <td>Philadelphia 76ers       </td> <td>3282056 </td> <td>2015  </td>\n",
       "        </tr>\n",
       "        <tr>\n",
       "            <td>199 </td> <td>Kemba Walker           </td> <td>Charlotte Hornets        </td> <td>3272091 </td> <td>2015  </td>\n",
       "        </tr>\n",
       "        <tr>\n",
       "            <td>249 </td> <td>Cameron Payne          </td> <td>Chicago Bulls            </td> <td>3263294 </td> <td>2018  </td>\n",
       "        </tr>\n",
       "        <tr>\n",
       "            <td>244 </td> <td>Cameron Payne          </td> <td>Cleveland Cavaliers      </td> <td>3263294 </td> <td>2019  </td>\n",
       "        </tr>\n",
       "        <tr>\n",
       "            <td>114 </td> <td>Chris Whitney          </td> <td>Washington Wizards       </td> <td>3259000 </td> <td>2004  </td>\n",
       "        </tr>\n",
       "        <tr>\n",
       "            <td>73  </td> <td>Travis Best            </td> <td>Indiana Pacers           </td> <td>3250000 </td> <td>2000  </td>\n",
       "        </tr>\n",
       "        <tr>\n",
       "            <td>136 </td> <td>Travis Best            </td> <td>Indiana Pacers           </td> <td>3250000 </td> <td>2001  </td>\n",
       "        </tr>\n",
       "        <tr>\n",
       "            <td>149 </td> <td>Travis Best            </td> <td>Indiana Pacers           </td> <td>3250000 </td> <td>2002  </td>\n",
       "        </tr>\n",
       "        <tr>\n",
       "            <td>150 </td> <td>Anthony Carter         </td> <td>Miami Heat               </td> <td>3250000 </td> <td>2002  </td>\n",
       "        </tr>\n",
       "        <tr>\n",
       "            <td>205 </td> <td>Will Bynum             </td> <td>Detroit Pistons          </td> <td>3250000 </td> <td>2011  </td>\n",
       "        </tr>\n",
       "        <tr>\n",
       "            <td>206 </td> <td>Chris Duhon            </td> <td>Orlando Magic            </td> <td>3250000 </td> <td>2012  </td>\n",
       "        </tr>\n",
       "        <tr>\n",
       "            <td>207 </td> <td>Will Bynum             </td> <td>Detroit Pistons          </td> <td>3250000 </td> <td>2012  </td>\n",
       "        </tr>\n",
       "        <tr>\n",
       "            <td>216 </td> <td>Will Bynum             </td> <td>Detroit Pistons          </td> <td>3250000 </td> <td>2013  </td>\n",
       "        </tr>\n",
       "        <tr>\n",
       "            <td>178 </td> <td>Gary Neal              </td> <td>Charlotte Bobcats        </td> <td>3250000 </td> <td>2014  </td>\n",
       "        </tr>\n",
       "        <tr>\n",
       "            <td>202 </td> <td>Gary Neal              </td> <td>Charlotte Hornets        </td> <td>3250000 </td> <td>2015  </td>\n",
       "        </tr>\n",
       "        <tr>\n",
       "            <td>193 </td> <td>Chris Duhon            </td> <td>Chicago Bulls            </td> <td>3248000 </td> <td>2008  </td>\n",
       "        </tr>\n",
       "        <tr>\n",
       "            <td>137 </td> <td>Steve Francis          </td> <td>Houston Rockets          </td> <td>3246000 </td> <td>2001  </td>\n",
       "        </tr>\n",
       "        <tr>\n",
       "            <td>245 </td> <td>Emmanuel Mudiay        </td> <td>Denver Nuggets           </td> <td>3241800 </td> <td>2017  </td>\n",
       "        </tr>\n",
       "        <tr>\n",
       "            <td>208 </td> <td>Chucky Atkins          </td> <td>Oklahoma City Thunder    </td> <td>3240000 </td> <td>2009  </td>\n",
       "        </tr>\n",
       "        <tr>\n",
       "            <td>209 </td> <td>D.J. Augustin          </td> <td>Charlotte Bobcats        </td> <td>3236470 </td> <td>2012  </td>\n",
       "        </tr>\n",
       "        <tr>\n",
       "            <td>250 </td> <td>Dennis Smith Jr.       </td> <td>Dallas Mavericks         </td> <td>3218280 </td> <td>2018  </td>\n",
       "        </tr>\n",
       "        <tr>\n",
       "            <td>247 </td> <td>Jamal Murray           </td> <td>Denver Nuggets           </td> <td>3210840 </td> <td>2017  </td>\n",
       "        </tr>\n",
       "        <tr>\n",
       "            <td>182 </td> <td>Damian Lillard         </td> <td>Portland Trail Blazers   </td> <td>3202920 </td> <td>2014  </td>\n",
       "        </tr>\n",
       "        <tr>\n",
       "            <td>187 </td> <td>Kevin Ollie            </td> <td>Philadelphia 76ers       </td> <td>3196050 </td> <td>2007  </td>\n",
       "        </tr>\n",
       "        <tr>\n",
       "            <td>209 </td> <td>Jonny Flynn            </td> <td>Minnesota Timberwolves   </td> <td>3192000 </td> <td>2011  </td>\n",
       "        </tr>\n",
       "        <tr>\n",
       "            <td>248 </td> <td>Michael Carter-Williams</td> <td>Chicago Bulls            </td> <td>3183526 </td> <td>2017  </td>\n",
       "        </tr>\n",
       "        <tr>\n",
       "            <td>84  </td> <td>Tony Delk              </td> <td>Atlanta Hawks            </td> <td>3150000 </td> <td>2005  </td>\n",
       "        </tr>\n",
       "        <tr>\n",
       "            <td>85  </td> <td>Bobby Jackson          </td> <td>Sacramento Kings         </td> <td>3150000 </td> <td>2005  </td>\n",
       "        </tr>\n",
       "        <tr>\n",
       "            <td>190 </td> <td>Alexey Shved           </td> <td>Minnesota Timberwolves   </td> <td>3150000 </td> <td>2014  </td>\n",
       "        </tr>\n",
       "        <tr>\n",
       "            <td>267 </td> <td>Yogi Ferrell           </td> <td>Sacramento Kings         </td> <td>3150000 </td> <td>2020  </td>\n",
       "        </tr>\n",
       "        <tr>\n",
       "            <td>185 </td> <td>Chris Paul             </td> <td>NO/Oklahoma City\n",
       " Hornets</td> <td>3144240 </td> <td>2006  </td>\n",
       "        </tr>\n",
       "        <tr>\n",
       "            <td>156 </td> <td>Baron Davis            </td> <td>Charlotte Hornets        </td> <td>3119000 </td> <td>2002  </td>\n",
       "        </tr>\n",
       "        <tr>\n",
       "            <td>213 </td> <td>Stephen Curry          </td> <td>Golden State Warriors    </td> <td>3117120 </td> <td>2012  </td>\n",
       "        </tr>\n",
       "        <tr>\n",
       "            <td>208 </td> <td>Austin Rivers          </td> <td>LA Clippers              </td> <td>3110796 </td> <td>2016  </td>\n",
       "        </tr>\n",
       "        <tr>\n",
       "            <td>209 </td> <td>Emmanuel Mudiay        </td> <td>Denver Nuggets           </td> <td>3102240 </td> <td>2016  </td>\n",
       "        </tr>\n",
       "        <tr>\n",
       "            <td>142 </td> <td>Darrel Armstrong       </td> <td>Orlando Magic            </td> <td>3100000 </td> <td>2001  </td>\n",
       "        </tr>\n",
       "        <tr>\n",
       "            <td>186 </td> <td>Keyon Dooling          </td> <td>Orlando Magic            </td> <td>3100000 </td> <td>2006  </td>\n",
       "        </tr>\n",
       "        <tr>\n",
       "            <td>76  </td> <td>Mike Bibby             </td> <td>Vancouver Grizzlies      </td> <td>3092000 </td> <td>2000  </td>\n",
       "        </tr>\n",
       "        <tr>\n",
       "            <td>224 </td> <td>Jason Kidd             </td> <td>New York Knicks          </td> <td>3090000 </td> <td>2013  </td>\n",
       "        </tr>\n",
       "        <tr>\n",
       "            <td>86  </td> <td>Keyon Dooling          </td> <td>Miami Heat               </td> <td>3073000 </td> <td>2005  </td>\n",
       "        </tr>\n",
       "        <tr>\n",
       "            <td>227 </td> <td>Damian Lillard         </td> <td>Portland Trail Blazers   </td> <td>3065040 </td> <td>2013  </td>\n",
       "        </tr>\n",
       "        <tr>\n",
       "            <td>252 </td> <td>Terry Rozier           </td> <td>Boston Celtics           </td> <td>3050390 </td> <td>2019  </td>\n",
       "        </tr>\n",
       "        <tr>\n",
       "            <td>196 </td> <td>Chris Duhon            </td> <td>Chicago Bulls            </td> <td>3024000 </td> <td>2007  </td>\n",
       "        </tr>\n",
       "        <tr>\n",
       "            <td>78  </td> <td>Steve Francis          </td> <td>Houston Rockets          </td> <td>3020000 </td> <td>2000  </td>\n",
       "        </tr>\n",
       "        <tr>\n",
       "            <td>79  </td> <td>Derek Fisher           </td> <td>Los Angeles Lakers       </td> <td>3000000 </td> <td>2000  </td>\n",
       "        </tr>\n",
       "        <tr>\n",
       "            <td>81  </td> <td>Eric Snow              </td> <td>Philadelphia 76ers       </td> <td>3000000 </td> <td>2000  </td>\n",
       "        </tr>\n",
       "        <tr>\n",
       "            <td>144 </td> <td>Derek Fisher           </td> <td>Los Angeles Lakers       </td> <td>3000000 </td> <td>2001  </td>\n",
       "        </tr>\n",
       "        <tr>\n",
       "            <td>146 </td> <td>Chucky Atkins          </td> <td>Detroit Pistons          </td> <td>3000000 </td> <td>2001  </td>\n",
       "        </tr>\n",
       "        <tr>\n",
       "            <td>161 </td> <td>Derek Fisher           </td> <td>Los Angeles Lakers       </td> <td>3000000 </td> <td>2002  </td>\n",
       "        </tr>\n",
       "        <tr>\n",
       "            <td>163 </td> <td>Antonio Daniels        </td> <td>San Antonio Spurs        </td> <td>3000000 </td> <td>2002  </td>\n",
       "        </tr>\n",
       "        <tr>\n",
       "            <td>150 </td> <td>Derek Fisher           </td> <td>Los Angeles Lakers       </td> <td>3000000 </td> <td>2003  </td>\n",
       "        </tr>\n",
       "        <tr>\n",
       "            <td>117 </td> <td>Derek Fisher           </td> <td>Los Angeles Lakers       </td> <td>3000000 </td> <td>2004  </td>\n",
       "        </tr>\n",
       "        <tr>\n",
       "            <td>89  </td> <td>Derek Fisher           </td> <td>Golden State Warriors    </td> <td>3000000 </td> <td>2005  </td>\n",
       "        </tr>\n",
       "        <tr>\n",
       "            <td>197 </td> <td>Chucky Atkins          </td> <td>Memphis Grizzlies        </td> <td>3000000 </td> <td>2007  </td>\n",
       "        </tr>\n",
       "        <tr>\n",
       "            <td>202 </td> <td>Chucky Atkins          </td> <td>Denver Nuggets           </td> <td>3000000 </td> <td>2008  </td>\n",
       "        </tr>\n",
       "        <tr>\n",
       "            <td>214 </td> <td>D.J. Augustin          </td> <td>Oklahoma City Thunder    </td> <td>3000000 </td> <td>2015  </td>\n",
       "        </tr>\n",
       "        <tr>\n",
       "            <td>214 </td> <td>D.J. Augustin          </td> <td>Oklahoma City Thunder    </td> <td>3000000 </td> <td>2016  </td>\n",
       "        </tr>\n",
       "        <tr>\n",
       "            <td>254 </td> <td>Yogi Ferrell           </td> <td>Sacramento Kings         </td> <td>3000000 </td> <td>2019  </td>\n",
       "        </tr>\n",
       "        <tr>\n",
       "            <td>255 </td> <td>Elfrid Payton          </td> <td>New Orleans Pelicans     </td> <td>3000000 </td> <td>2019  </td>\n",
       "        </tr>\n",
       "        <tr>\n",
       "            <td>270 </td> <td>Quinn Cook             </td> <td>Los Angeles Lakers       </td> <td>3000000 </td> <td>2020  </td>\n",
       "        </tr>\n",
       "        <tr>\n",
       "            <td>271 </td> <td>Ryan Arcidiacono       </td> <td>Chicago Bulls            </td> <td>3000000 </td> <td>2020  </td>\n",
       "        </tr>\n",
       "        <tr>\n",
       "            <td>215 </td> <td>Jonny Flynn            </td> <td>Minnesota Timberwolves   </td> <td>2969280 </td> <td>2010  </td>\n",
       "        </tr>\n",
       "        <tr>\n",
       "            <td>91  </td> <td>Mateen Cleaves         </td> <td>Seattle SuperSonics      </td> <td>2969000 </td> <td>2005  </td>\n",
       "        </tr>\n",
       "        <tr>\n",
       "            <td>152 </td> <td>Chris Whitney          </td> <td>Orlando Magic            </td> <td>2962000 </td> <td>2003  </td>\n",
       "        </tr>\n",
       "        <tr>\n",
       "            <td>194 </td> <td>Kevin Ollie            </td> <td>Philadelphia 76ers       </td> <td>2950200 </td> <td>2006  </td>\n",
       "        </tr>\n",
       "        <tr>\n",
       "            <td>201 </td> <td>Earl Boykins           </td> <td>Milwaukee Bucks          </td> <td>2950000 </td> <td>2007  </td>\n",
       "        </tr>\n",
       "        <tr>\n",
       "            <td>240 </td> <td>Alexey Shved           </td> <td>Minnesota Timberwolves   </td> <td>2934610 </td> <td>2013  </td>\n",
       "        </tr>\n",
       "        <tr>\n",
       "            <td>202 </td> <td>T.J. Ford              </td> <td>Toronto Raptors          </td> <td>2929467 </td> <td>2007  </td>\n",
       "        </tr>\n",
       "        <tr>\n",
       "            <td>121 </td> <td>Bimbo Coles            </td> <td>Miami Heat               </td> <td>2925000 </td> <td>2004  </td>\n",
       "        </tr>\n",
       "        <tr>\n",
       "            <td>123 </td> <td>Tony Delk              </td> <td>Dallas Mavericks         </td> <td>2925000 </td> <td>2004  </td>\n",
       "        </tr>\n",
       "        <tr>\n",
       "            <td>124 </td> <td>Bobby Jackson          </td> <td>Sacramento Kings         </td> <td>2925000 </td> <td>2004  </td>\n",
       "        </tr>\n",
       "        <tr>\n",
       "            <td>197 </td> <td>Tony Delk              </td> <td>Detroit Pistons          </td> <td>2925000 </td> <td>2006  </td>\n",
       "        </tr>\n",
       "        <tr>\n",
       "            <td>149 </td> <td>Baron Davis            </td> <td>Charlotte Hornets        </td> <td>2916000 </td> <td>2001  </td>\n",
       "        </tr>\n",
       "        <tr>\n",
       "            <td>222 </td> <td>Will Bynum             </td> <td>Washington Wizards       </td> <td>2915908 </td> <td>2015  </td>\n",
       "        </tr>\n",
       "        <tr>\n",
       "            <td>223 </td> <td>Stephen Curry          </td> <td>Golden State Warriors    </td> <td>2913840 </td> <td>2011  </td>\n",
       "        </tr>\n",
       "        <tr>\n",
       "            <td>212 </td> <td>Anthony Johnson        </td> <td>Sacramento Kings         </td> <td>2860000 </td> <td>2008  </td>\n",
       "        </tr>\n",
       "        <tr>\n",
       "            <td>223 </td> <td>Brian Roberts          </td> <td>Charlotte Hornets        </td> <td>2854940 </td> <td>2016  </td>\n",
       "        </tr>\n",
       "        <tr>\n",
       "            <td>156 </td> <td>Antonio Daniels        </td> <td>San Antonio Spurs        </td> <td>2814000 </td> <td>2001  </td>\n",
       "        </tr>\n",
       "        <tr>\n",
       "            <td>202 </td> <td>Chris Duhon            </td> <td>Chicago Bulls            </td> <td>2800000 </td> <td>2006  </td>\n",
       "        </tr>\n",
       "        <tr>\n",
       "            <td>224 </td> <td>Earl Watson            </td> <td>Indiana Pacers           </td> <td>2800000 </td> <td>2010  </td>\n",
       "        </tr>\n",
       "        <tr>\n",
       "            <td>204 </td> <td>Brandon Knight         </td> <td>Milwaukee Bucks          </td> <td>2793960 </td> <td>2014  </td>\n",
       "        </tr>\n",
       "        <tr>\n",
       "            <td>205 </td> <td>Will Bynum             </td> <td>Detroit Pistons          </td> <td>2790343 </td> <td>2014  </td>\n",
       "        </tr>\n",
       "        <tr>\n",
       "            <td>229 </td> <td>Rodney Stuckey         </td> <td>Detroit Pistons          </td> <td>2767126 </td> <td>2011  </td>\n",
       "        </tr>\n",
       "        <tr>\n",
       "            <td>210 </td> <td>Dan Dickau             </td> <td>Portland Trail Blazers   </td> <td>2753218 </td> <td>2007  </td>\n",
       "        </tr>\n",
       "        <tr>\n",
       "            <td>206 </td> <td>Earl Boykins           </td> <td>Denver Nuggets           </td> <td>2750000 </td> <td>2006  </td>\n",
       "        </tr>\n",
       "        <tr>\n",
       "            <td>228 </td> <td>Luke Ridnour           </td> <td>Orlando Magic            </td> <td>2750000 </td> <td>2015  </td>\n",
       "        </tr>\n",
       "        <tr>\n",
       "            <td>235 </td> <td>Luke Ridnour           </td> <td>Toronto Raptors          </td> <td>2750000 </td> <td>2016  </td>\n",
       "        </tr>\n",
       "        <tr>\n",
       "            <td>230 </td> <td>Brian Roberts          </td> <td>Charlotte Hornets        </td> <td>2732000 </td> <td>2015  </td>\n",
       "        </tr>\n",
       "        <tr>\n",
       "            <td>88  </td> <td>Baron Davis            </td> <td>Charlotte Hornets        </td> <td>2712000 </td> <td>2000  </td>\n",
       "        </tr>\n",
       "        <tr>\n",
       "            <td>227 </td> <td>Stephen Curry          </td> <td>Golden State Warriors    </td> <td>2710560 </td> <td>2010  </td>\n",
       "        </tr>\n",
       "        <tr>\n",
       "            <td>269 </td> <td>Dennis Schroder        </td> <td>Atlanta Hawks            </td> <td>2708582 </td> <td>2017  </td>\n",
       "        </tr>\n",
       "        <tr>\n",
       "            <td>165 </td> <td>Bimbo Coles            </td> <td>Cleveland Cavaliers      </td> <td>2700000 </td> <td>2003  </td>\n",
       "        </tr>\n",
       "        <tr>\n",
       "            <td>167 </td> <td>Tony Delk              </td> <td>Boston Celtics           </td> <td>2700000 </td> <td>2003  </td>\n",
       "        </tr>\n",
       "        <tr>\n",
       "            <td>168 </td> <td>Chauncey Billups       </td> <td>Detroit Pistons          </td> <td>2700000 </td> <td>2003  </td>\n",
       "        </tr>\n",
       "        <tr>\n",
       "            <td>169 </td> <td>Bobby Jackson          </td> <td>Sacramento Kings         </td> <td>2700000 </td> <td>2003  </td>\n",
       "        </tr>\n",
       "        <tr>\n",
       "            <td>230 </td> <td>Sebastian Telfair      </td> <td>Minnesota Timberwolves   </td> <td>2700000 </td> <td>2011  </td>\n",
       "        </tr>\n",
       "        <tr>\n",
       "            <td>252 </td> <td>Brandon Knight         </td> <td>Detroit Pistons          </td> <td>2678640 </td> <td>2013  </td>\n",
       "        </tr>\n",
       "        <tr>\n",
       "            <td>176 </td> <td>Chris Whitney          </td> <td>Washington Wizards       </td> <td>2666000 </td> <td>2002  </td>\n",
       "        </tr>\n",
       "        <tr>\n",
       "            <td>236 </td> <td>Trey Burke             </td> <td>Utah Jazz                </td> <td>2658240 </td> <td>2016  </td>\n",
       "        </tr>\n",
       "        <tr>\n",
       "            <td>212 </td> <td>Mo Williams            </td> <td>Portland Trail Blazers   </td> <td>2652000 </td> <td>2014  </td>\n",
       "        </tr>\n",
       "        <tr>\n",
       "            <td>217 </td> <td>Anthony Johnson        </td> <td>Dallas Mavericks         </td> <td>2640000 </td> <td>2007  </td>\n",
       "        </tr>\n",
       "        <tr>\n",
       "            <td>267 </td> <td>Jerian Grant           </td> <td>Chicago Bulls            </td> <td>2639314 </td> <td>2018  </td>\n",
       "        </tr>\n",
       "        <tr>\n",
       "            <td>268 </td> <td>Jerian Grant           </td> <td>Orlando Magic            </td> <td>2639314 </td> <td>2019  </td>\n",
       "        </tr>\n",
       "        <tr>\n",
       "            <td>230 </td> <td>Steve Francis          </td> <td>Houston Rockets          </td> <td>2634480 </td> <td>2009  </td>\n",
       "        </tr>\n",
       "        <tr>\n",
       "            <td>213 </td> <td>Eric Bledsoe           </td> <td>Phoenix Suns             </td> <td>2626474 </td> <td>2014  </td>\n",
       "        </tr>\n",
       "        <tr>\n",
       "            <td>256 </td> <td>Eric Bledsoe           </td> <td>LA Clippers              </td> <td>2626473 </td> <td>2013  </td>\n",
       "        </tr>\n",
       "        <tr>\n",
       "            <td>272 </td> <td>Elfrid Payton          </td> <td>Orlando Magic            </td> <td>2613600 </td> <td>2017  </td>\n",
       "        </tr>\n",
       "        <tr>\n",
       "            <td>89  </td> <td>Vonteego Cummings      </td> <td>Golden State Warriors    </td> <td>2600000 </td> <td>2000  </td>\n",
       "        </tr>\n",
       "        <tr>\n",
       "            <td>261 </td> <td>Kemba Walker           </td> <td>Charlotte Bobcats        </td> <td>2568360 </td> <td>2013  </td>\n",
       "        </tr>\n",
       "        <tr>\n",
       "            <td>215 </td> <td>Kemba Walker           </td> <td>Charlotte Bobcats        </td> <td>2568360 </td> <td>2014  </td>\n",
       "        </tr>\n",
       "        <tr>\n",
       "            <td>291 </td> <td>Rajon Rondo            </td> <td>Los Angeles Lakers       </td> <td>2564753 </td> <td>2020  </td>\n",
       "        </tr>\n",
       "        <tr>\n",
       "            <td>242 </td> <td>Brandon Knight         </td> <td>Detroit Pistons          </td> <td>2563320 </td> <td>2012  </td>\n",
       "        </tr>\n",
       "        <tr>\n",
       "            <td>222 </td> <td>Sebastian Telfair      </td> <td>Minnesota Timberwolves   </td> <td>2562426 </td> <td>2008  </td>\n",
       "        </tr>\n",
       "        <tr>\n",
       "            <td>178 </td> <td>Jason Williams         </td> <td>Memphis Grizzlies        </td> <td>2554000 </td> <td>2002  </td>\n",
       "        </tr>\n",
       "        <tr>\n",
       "            <td>237 </td> <td>Trey Burke             </td> <td>Utah Jazz                </td> <td>2548560 </td> <td>2015  </td>\n",
       "        </tr>\n",
       "        <tr>\n",
       "            <td>234 </td> <td>D.J. Augustin          </td> <td>Charlotte Bobcats        </td> <td>2540000 </td> <td>2011  </td>\n",
       "        </tr>\n",
       "        <tr>\n",
       "            <td>270 </td> <td>Delon Wright           </td> <td>Toronto Raptors          </td> <td>2536898 </td> <td>2018  </td>\n",
       "        </tr>\n",
       "        <tr>\n",
       "            <td>269 </td> <td>Delon Wright           </td> <td>Memphis Grizzlies        </td> <td>2536898 </td> <td>2019  </td>\n",
       "        </tr>\n",
       "        <tr>\n",
       "            <td>217 </td> <td>Avery Bradley          </td> <td>Boston Celtics           </td> <td>2511432 </td> <td>2014  </td>\n",
       "        </tr>\n",
       "        <tr>\n",
       "            <td>242 </td> <td>Elfrid Payton          </td> <td>Orlando Magic            </td> <td>2505720 </td> <td>2016  </td>\n",
       "        </tr>\n",
       "        <tr>\n",
       "            <td>232 </td> <td>Sebastian Telfair      </td> <td>LA Clippers              </td> <td>2500000 </td> <td>2010  </td>\n",
       "        </tr>\n",
       "        <tr>\n",
       "            <td>218 </td> <td>Chauncey Billups       </td> <td>Detroit Pistons          </td> <td>2500000 </td> <td>2014  </td>\n",
       "        </tr>\n",
       "        <tr>\n",
       "            <td>243 </td> <td>Jason Hart             </td> <td>LA Clippers              </td> <td>2484000 </td> <td>2009  </td>\n",
       "        </tr>\n",
       "        <tr>\n",
       "            <td>188 </td> <td>Bimbo Coles            </td> <td>Cleveland Cavaliers      </td> <td>2475000 </td> <td>2002  </td>\n",
       "        </tr>\n",
       "        <tr>\n",
       "            <td>190 </td> <td>Tony Delk              </td> <td>Phoenix Suns             </td> <td>2475000 </td> <td>2002  </td>\n",
       "        </tr>\n",
       "        <tr>\n",
       "            <td>191 </td> <td>Chauncey Billups       </td> <td>Minnesota Timberwolves   </td> <td>2475000 </td> <td>2002  </td>\n",
       "        </tr>\n",
       "        <tr>\n",
       "            <td>192 </td> <td>Bobby Jackson          </td> <td>Sacramento Kings         </td> <td>2475000 </td> <td>2002  </td>\n",
       "        </tr>\n",
       "        <tr>\n",
       "            <td>181 </td> <td>Andre Miller           </td> <td>LA Clippers              </td> <td>2460000 </td> <td>2003  </td>\n",
       "        </tr>\n",
       "        <tr>\n",
       "            <td>283 </td> <td>Tyus Jones             </td> <td>Minnesota Timberwolves   </td> <td>2444053 </td> <td>2019  </td>\n",
       "        </tr>\n",
       "        <tr>\n",
       "            <td>241 </td> <td>Austin Rivers          </td> <td>LA Clippers              </td> <td>2439840 </td> <td>2015  </td>\n",
       "        </tr>\n",
       "        <tr>\n",
       "            <td>233 </td> <td>Steve Francis          </td> <td>Houston Rockets          </td> <td>2439333 </td> <td>2008  </td>\n",
       "        </tr>\n",
       "        <tr>\n",
       "            <td>221 </td> <td>Trey Burke             </td> <td>Utah Jazz                </td> <td>2438760 </td> <td>2014  </td>\n",
       "        </tr>\n",
       "        <tr>\n",
       "            <td>267 </td> <td>Jeff Teague            </td> <td>Atlanta Hawks            </td> <td>2433077 </td> <td>2013  </td>\n",
       "        </tr>\n",
       "        <tr>\n",
       "            <td>232 </td> <td>Luke Ridnour           </td> <td>Seattle SuperSonics      </td> <td>2425878 </td> <td>2007  </td>\n",
       "        </tr>\n",
       "        <tr>\n",
       "            <td>226 </td> <td>Anthony Johnson        </td> <td>Indiana Pacers           </td> <td>2420000 </td> <td>2006  </td>\n",
       "        </tr>\n",
       "        <tr>\n",
       "            <td>249 </td> <td>Michael Carter-Williams</td> <td>Milwaukee Bucks          </td> <td>2399040 </td> <td>2016  </td>\n",
       "        </tr>\n",
       "        <tr>\n",
       "            <td>244 </td> <td>Elfrid Payton          </td> <td>Orlando Magic            </td> <td>2397840 </td> <td>2015  </td>\n",
       "        </tr>\n",
       "        <tr>\n",
       "            <td>100 </td> <td>Speedy Claxton         </td> <td>Golden State Warriors    </td> <td>2390000 </td> <td>2005  </td>\n",
       "        </tr>\n",
       "        <tr>\n",
       "            <td>240 </td> <td>D.J. Augustin          </td> <td>Charlotte Bobcats        </td> <td>2374680 </td> <td>2010  </td>\n",
       "        </tr>\n",
       "        <tr>\n",
       "            <td>172 </td> <td>Chris Whitney          </td> <td>Washington Wizards       </td> <td>2370000 </td> <td>2001  </td>\n",
       "        </tr>\n",
       "        <tr>\n",
       "            <td>284 </td> <td>Shabazz Napier         </td> <td>Portland Trail Blazers   </td> <td>2361360 </td> <td>2018  </td>\n",
       "        </tr>\n",
       "        <tr>\n",
       "            <td>254 </td> <td>Kemba Walker           </td> <td>Charlotte Bobcats        </td> <td>2356320 </td> <td>2012  </td>\n",
       "        </tr>\n",
       "        <tr>\n",
       "            <td>223 </td> <td>Austin Rivers          </td> <td>New Orleans Pelicans     </td> <td>2339040 </td> <td>2014  </td>\n",
       "        </tr>\n",
       "        <tr>\n",
       "            <td>258 </td> <td>Derek Fisher           </td> <td>Oklahoma City Thunder    </td> <td>2329545 </td> <td>2012  </td>\n",
       "        </tr>\n",
       "        <tr>\n",
       "            <td>307 </td> <td>Aaron Holiday          </td> <td>Indiana Pacers           </td> <td>2329200 </td> <td>2020  </td>\n",
       "        </tr>\n",
       "        <tr>\n",
       "            <td>308 </td> <td>Dejounte Murray        </td> <td>San Antonio Spurs        </td> <td>2321735 </td> <td>2020  </td>\n",
       "        </tr>\n",
       "        <tr>\n",
       "            <td>233 </td> <td>T.J. Ford              </td> <td>Milwaukee Bucks          </td> <td>2303040 </td> <td>2006  </td>\n",
       "        </tr>\n",
       "        <tr>\n",
       "            <td>247 </td> <td>Michael Carter-Williams</td> <td>Philadelphia 76ers       </td> <td>2300040 </td> <td>2015  </td>\n",
       "        </tr>\n",
       "        <tr>\n",
       "            <td>242 </td> <td>Jason Hart             </td> <td>Utah Jazz                </td> <td>2300000 </td> <td>2008  </td>\n",
       "        </tr>\n",
       "        <tr>\n",
       "            <td>247 </td> <td>Sebastian Telfair      </td> <td>Minnesota Timberwolves   </td> <td>2300000 </td> <td>2009  </td>\n",
       "        </tr>\n",
       "        <tr>\n",
       "            <td>274 </td> <td>Earl Watson            </td> <td>Utah Jazz                </td> <td>2300000 </td> <td>2013  </td>\n",
       "        </tr>\n",
       "        <tr>\n",
       "            <td>141 </td> <td>Keyon Dooling          </td> <td>LA Clippers              </td> <td>2256000 </td> <td>2004  </td>\n",
       "        </tr>\n",
       "        <tr>\n",
       "            <td>234 </td> <td>Dan Dickau             </td> <td>Boston Celtics           </td> <td>2255350 </td> <td>2006  </td>\n",
       "        </tr>\n",
       "        <tr>\n",
       "            <td>181 </td> <td>Bimbo Coles            </td> <td>Cleveland Cavaliers      </td> <td>2250000 </td> <td>2001  </td>\n",
       "        </tr>\n",
       "        <tr>\n",
       "            <td>185 </td> <td>Rod Strickland         </td> <td>Washington Wizards       </td> <td>2250000 </td> <td>2001  </td>\n",
       "        </tr>\n",
       "        <tr>\n",
       "            <td>186 </td> <td>Tony Delk              </td> <td>Phoenix Suns             </td> <td>2250000 </td> <td>2001  </td>\n",
       "        </tr>\n",
       "        <tr>\n",
       "            <td>187 </td> <td>Chauncey Billups       </td> <td>Minnesota Timberwolves   </td> <td>2250000 </td> <td>2001  </td>\n",
       "        </tr>\n",
       "        <tr>\n",
       "            <td>188 </td> <td>Bobby Jackson          </td> <td>Sacramento Kings         </td> <td>2250000 </td> <td>2001  </td>\n",
       "        </tr>\n",
       "        <tr>\n",
       "            <td>252 </td> <td>Tyronn Lue             </td> <td>Orlando Magic            </td> <td>2250000 </td> <td>2009  </td>\n",
       "        </tr>\n",
       "        <tr>\n",
       "            <td>262 </td> <td>Keyon Dooling          </td> <td>Boston Celtics           </td> <td>2246400 </td> <td>2012  </td>\n",
       "        </tr>\n",
       "        <tr>\n",
       "            <td>290 </td> <td>Zach LaVine            </td> <td>Minnesota Timberwolves   </td> <td>2240880 </td> <td>2017  </td>\n",
       "        </tr>\n",
       "        <tr>\n",
       "            <td>279 </td> <td>Austin Rivers          </td> <td>New Orleans Hornets      </td> <td>2238360 </td> <td>2013  </td>\n",
       "        </tr>\n",
       "        <tr>\n",
       "            <td>280 </td> <td>Rodrigue Beaubois      </td> <td>Dallas Mavericks         </td> <td>2227333 </td> <td>2013  </td>\n",
       "        </tr>\n",
       "        <tr>\n",
       "            <td>246 </td> <td>Acie Law               </td> <td>Charlotte Bobcats        </td> <td>2216160 </td> <td>2010  </td>\n",
       "        </tr>\n",
       "        <tr>\n",
       "            <td>248 </td> <td>D.J. Augustin          </td> <td>Orlando Magic            </td> <td>2208960 </td> <td>2008  </td>\n",
       "        </tr>\n",
       "        <tr>\n",
       "            <td>253 </td> <td>D.J. Augustin          </td> <td>Charlotte Bobcats        </td> <td>2208960 </td> <td>2009  </td>\n",
       "        </tr>\n",
       "        <tr>\n",
       "            <td>252 </td> <td>Reggie Jackson         </td> <td>Oklahoma City Thunder    </td> <td>2204369 </td> <td>2015  </td>\n",
       "        </tr>\n",
       "        <tr>\n",
       "            <td>230 </td> <td>Michael Carter-Williams</td> <td>Philadelphia 76ers       </td> <td>2200920 </td> <td>2014  </td>\n",
       "        </tr>\n",
       "        <tr>\n",
       "            <td>294 </td> <td>Mo Williams            </td> <td>Denver Nuggets           </td> <td>2194500 </td> <td>2017  </td>\n",
       "        </tr>\n",
       "        <tr>\n",
       "            <td>293 </td> <td>Mo Williams            </td> <td>Denver Nuggets           </td> <td>2194500 </td> <td>2018  </td>\n",
       "        </tr>\n",
       "        <tr>\n",
       "            <td>260 </td> <td>Beno Udrih             </td> <td>Memphis Grizzlies        </td> <td>2170465 </td> <td>2016  </td>\n",
       "        </tr>\n",
       "        <tr>\n",
       "            <td>261 </td> <td>Steve Blake            </td> <td>Detroit Pistons          </td> <td>2170465 </td> <td>2016  </td>\n",
       "        </tr>\n",
       "        <tr>\n",
       "            <td>233 </td> <td>Greivis Vasquez        </td> <td>Toronto Raptors          </td> <td>2150188 </td> <td>2014  </td>\n",
       "        </tr>\n",
       "        <tr>\n",
       "            <td>297 </td> <td>Raul Neto              </td> <td>Utah Jazz                </td> <td>2150000 </td> <td>2019  </td>\n",
       "        </tr>\n",
       "        <tr>\n",
       "            <td>258 </td> <td>Shannon Brown          </td> <td>Los Angeles Lakers       </td> <td>2149200 </td> <td>2011  </td>\n",
       "        </tr>\n",
       "        <tr>\n",
       "            <td>263 </td> <td>Zach LaVine            </td> <td>Minnesota Timberwolves   </td> <td>2148360 </td> <td>2016  </td>\n",
       "        </tr>\n",
       "        <tr>\n",
       "            <td>318 </td> <td>Austin Rivers          </td> <td>Houston Rockets          </td> <td>2147317 </td> <td>2020  </td>\n",
       "        </tr>\n",
       "        <tr>\n",
       "            <td>264 </td> <td>Kendall Marshall       </td> <td>Philadelphia 76ers       </td> <td>2144772 </td> <td>2016  </td>\n",
       "        </tr>\n",
       "        <tr>\n",
       "            <td>266 </td> <td>Gary Neal              </td> <td>Washington Wizards       </td> <td>2139000 </td> <td>2016  </td>\n",
       "        </tr>\n",
       "        <tr>\n",
       "            <td>146 </td> <td>Mateen Cleaves         </td> <td>Cleveland Cavaliers      </td> <td>2134000 </td> <td>2004  </td>\n",
       "        </tr>\n",
       "        <tr>\n",
       "            <td>299 </td> <td>Cameron Payne          </td> <td>Oklahoma City Thunder    </td> <td>2112480 </td> <td>2017  </td>\n",
       "        </tr>\n",
       "        <tr>\n",
       "            <td>275 </td> <td>Goran Dragic           </td> <td>Houston Rockets          </td> <td>2108000 </td> <td>2012  </td>\n",
       "        </tr>\n",
       "        <tr>\n",
       "            <td>214 </td> <td>Alvin Williams         </td> <td>Toronto Raptors          </td> <td>2100000 </td> <td>2001  </td>\n",
       "        </tr>\n",
       "        <tr>\n",
       "            <td>269 </td> <td>Mo Williams            </td> <td>Cleveland Cavaliers      </td> <td>2100000 </td> <td>2016  </td>\n",
       "        </tr>\n",
       "        <tr>\n",
       "            <td>254 </td> <td>Rajon Rondo            </td> <td>Boston Celtics           </td> <td>2094923 </td> <td>2010  </td>\n",
       "        </tr>\n",
       "        <tr>\n",
       "            <td>301 </td> <td>Tim Frazier            </td> <td>New Orleans Pelicans     </td> <td>2090000 </td> <td>2017  </td>\n",
       "        </tr>\n",
       "        <tr>\n",
       "            <td>262 </td> <td>Keyon Dooling          </td> <td>Milwaukee Bucks          </td> <td>2080000 </td> <td>2011  </td>\n",
       "        </tr>\n",
       "        <tr>\n",
       "            <td>257 </td> <td>Jordan Farmar          </td> <td>LA Clippers              </td> <td>2077000 </td> <td>2015  </td>\n",
       "        </tr>\n",
       "        <tr>\n",
       "            <td>259 </td> <td>C.J. Watson            </td> <td>Indiana Pacers           </td> <td>2077000 </td> <td>2015  </td>\n",
       "        </tr>\n",
       "        <tr>\n",
       "            <td>261 </td> <td>Beno Udrih             </td> <td>Memphis Grizzlies        </td> <td>2077000 </td> <td>2015  </td>\n",
       "        </tr>\n",
       "        <tr>\n",
       "            <td>262 </td> <td>Steve Blake            </td> <td>Portland Trail Blazers   </td> <td>2077000 </td> <td>2015  </td>\n",
       "        </tr>\n",
       "        <tr>\n",
       "            <td>259 </td> <td>Acie Law               </td> <td>Atlanta Hawks            </td> <td>2071680 </td> <td>2009  </td>\n",
       "        </tr>\n",
       "        <tr>\n",
       "            <td>293 </td> <td>Toney Douglas          </td> <td>Sacramento Kings         </td> <td>2067880 </td> <td>2013  </td>\n",
       "        </tr>\n",
       "        <tr>\n",
       "            <td>255 </td> <td>Anthony Johnson        </td> <td>Orlando Magic            </td> <td>2062800 </td> <td>2010  </td>\n",
       "        </tr>\n",
       "        <tr>\n",
       "            <td>265 </td> <td>Anthony Johnson        </td> <td>Orlando Magic            </td> <td>2062800 </td> <td>2011  </td>\n",
       "        </tr>\n",
       "        <tr>\n",
       "            <td>276 </td> <td>Anthony Johnson        </td> <td>Orlando Magic            </td> <td>2062800 </td> <td>2012  </td>\n",
       "        </tr>\n",
       "        <tr>\n",
       "            <td>294 </td> <td>Anthony Johnson        </td> <td>Orlando Magic            </td> <td>2062800 </td> <td>2013  </td>\n",
       "        </tr>\n",
       "        <tr>\n",
       "            <td>265 </td> <td>Zach LaVine            </td> <td>Minnesota Timberwolves   </td> <td>2055840 </td> <td>2015  </td>\n",
       "        </tr>\n",
       "        <tr>\n",
       "            <td>302 </td> <td>Kendall Marshall       </td> <td>Milwaukee Bucks          </td> <td>2048257 </td> <td>2017  </td>\n",
       "        </tr>\n",
       "        <tr>\n",
       "            <td>298 </td> <td>Kendall Marshall       </td> <td>Milwaukee Bucks          </td> <td>2048257 </td> <td>2018  </td>\n",
       "        </tr>\n",
       "        <tr>\n",
       "            <td>261 </td> <td>Kyle Lowry             </td> <td>Houston Rockets          </td> <td>2034996 </td> <td>2010  </td>\n",
       "        </tr>\n",
       "        <tr>\n",
       "            <td>267 </td> <td>Cory Joseph            </td> <td>San Antonio Spurs        </td> <td>2023261 </td> <td>2015  </td>\n",
       "        </tr>\n",
       "        <tr>\n",
       "            <td>275 </td> <td>Cameron Payne          </td> <td>Oklahoma City Thunder    </td> <td>2021520 </td> <td>2016  </td>\n",
       "        </tr>\n",
       "        <tr>\n",
       "            <td>261 </td> <td>Nate Robinson          </td> <td>New York Knicks          </td> <td>2020179 </td> <td>2009  </td>\n",
       "        </tr>\n",
       "        <tr>\n",
       "            <td>297 </td> <td>Eric Maynor            </td> <td>Oklahoma City Thunder    </td> <td>2016000 </td> <td>2013  </td>\n",
       "        </tr>\n",
       "        <tr>\n",
       "            <td>238 </td> <td>C.J. Watson            </td> <td>Indiana Pacers           </td> <td>2016000 </td> <td>2014  </td>\n",
       "        </tr>\n",
       "        <tr>\n",
       "            <td>239 </td> <td>Nate Robinson          </td> <td>Denver Nuggets           </td> <td>2016000 </td> <td>2014  </td>\n",
       "        </tr>\n",
       "        <tr>\n",
       "            <td>218 </td> <td>Jason Williams         </td> <td>Sacramento Kings         </td> <td>2011000 </td> <td>2001  </td>\n",
       "        </tr>\n",
       "        <tr>\n",
       "            <td>298 </td> <td>Kendall Marshall       </td> <td>Phoenix Suns             </td> <td>2005560 </td> <td>2013  </td>\n",
       "        </tr>\n",
       "        <tr>\n",
       "            <td>283 </td> <td>Chauncey Billups       </td> <td>LA Clippers              </td> <td>2000032 </td> <td>2012  </td>\n",
       "        </tr>\n",
       "        <tr>\n",
       "            <td>263 </td> <td>Brevin Knight          </td> <td>Utah Jazz                </td> <td>2000000 </td> <td>2009  </td>\n",
       "        </tr>\n",
       "        <tr>\n",
       "            <td>285 </td> <td>Earl Watson            </td> <td>Utah Jazz                </td> <td>2000000 </td> <td>2012  </td>\n",
       "        </tr>\n",
       "        <tr>\n",
       "            <td>326 </td> <td>Edmond Sumner          </td> <td>Indiana Pacers           </td> <td>2000000 </td> <td>2020  </td>\n",
       "        </tr>\n",
       "        <tr>\n",
       "            <td>263 </td> <td>Jannero Pargo          </td> <td>Chicago Bulls            </td> <td>1990000 </td> <td>2010  </td>\n",
       "        </tr>\n",
       "        <tr>\n",
       "            <td>268 </td> <td>Shannon Brown          </td> <td>Los Angeles Lakers       </td> <td>1990000 </td> <td>2010  </td>\n",
       "        </tr>\n",
       "        <tr>\n",
       "            <td>301 </td> <td>Terry Rozier           </td> <td>Boston Celtics           </td> <td>1988520 </td> <td>2018  </td>\n",
       "        </tr>\n",
       "        <tr>\n",
       "            <td>196 </td> <td>Shammond Williams      </td> <td>Denver Nuggets           </td> <td>1987000 </td> <td>2003  </td>\n",
       "        </tr>\n",
       "        <tr>\n",
       "            <td>272 </td> <td>Goran Dragic           </td> <td>Phoenix Suns             </td> <td>1972000 </td> <td>2011  </td>\n",
       "        </tr>\n",
       "        <tr>\n",
       "            <td>270 </td> <td>Luther Head            </td> <td>Miami Heat               </td> <td>1962378 </td> <td>2009  </td>\n",
       "        </tr>\n",
       "        <tr>\n",
       "            <td>335 </td> <td>Derrick White          </td> <td>San Antonio Spurs        </td> <td>1948080 </td> <td>2020  </td>\n",
       "        </tr>\n",
       "        <tr>\n",
       "            <td>271 </td> <td>Jordan Farmar          </td> <td>Los Angeles Lakers       </td> <td>1947240 </td> <td>2010  </td>\n",
       "        </tr>\n",
       "        <tr>\n",
       "            <td>258 </td> <td>Vassilis Spanoulis     </td> <td>Houston Rockets          </td> <td>1944000 </td> <td>2008  </td>\n",
       "        </tr>\n",
       "        <tr>\n",
       "            <td>307 </td> <td>Shabazz Napier         </td> <td>Brooklyn Nets            </td> <td>1942422 </td> <td>2019  </td>\n",
       "        </tr>\n",
       "        <tr>\n",
       "            <td>227 </td> <td>Andre Miller           </td> <td>Cleveland Cavaliers      </td> <td>1934000 </td> <td>2002  </td>\n",
       "        </tr>\n",
       "        <tr>\n",
       "            <td>261 </td> <td>Acie Law               </td> <td>Atlanta Hawks            </td> <td>1927080 </td> <td>2008  </td>\n",
       "        </tr>\n",
       "        <tr>\n",
       "            <td>257 </td> <td>Mo Williams            </td> <td>Milwaukee Bucks          </td> <td>1920000 </td> <td>2007  </td>\n",
       "        </tr>\n",
       "        <tr>\n",
       "            <td>308 </td> <td>Aaron Holiday          </td> <td>Indiana Pacers           </td> <td>1911960 </td> <td>2019  </td>\n",
       "        </tr>\n",
       "        <tr>\n",
       "            <td>273 </td> <td>Anthony Johnson        </td> <td>Orlando Magic            </td> <td>1910000 </td> <td>2009  </td>\n",
       "        </tr>\n",
       "        <tr>\n",
       "            <td>308 </td> <td>Terry Rozier           </td> <td>Boston Celtics           </td> <td>1906440 </td> <td>2017  </td>\n",
       "        </tr>\n",
       "        <tr>\n",
       "            <td>199 </td> <td>Tyronn Lue             </td> <td>Washington Wizards       </td> <td>1885000 </td> <td>2003  </td>\n",
       "        </tr>\n",
       "        <tr>\n",
       "            <td>122 </td> <td>Jason Williams         </td> <td>Sacramento Kings         </td> <td>1879000 </td> <td>2000  </td>\n",
       "        </tr>\n",
       "        <tr>\n",
       "            <td>274 </td> <td>Mardy Collins          </td> <td>LA Clippers              </td> <td>1867742 </td> <td>2010  </td>\n",
       "        </tr>\n",
       "        <tr>\n",
       "            <td>262 </td> <td>Zoran Planinic         </td> <td>Brooklyn Nets            </td> <td>1854376 </td> <td>2007  </td>\n",
       "        </tr>\n",
       "        <tr>\n",
       "            <td>341 </td> <td>Shabazz Napier         </td> <td>Washington Wizards       </td> <td>1845301 </td> <td>2020  </td>\n",
       "        </tr>\n",
       "        <tr>\n",
       "            <td>277 </td> <td>Goran Dragic           </td> <td>Phoenix Suns             </td> <td>1836000 </td> <td>2010  </td>\n",
       "        </tr>\n",
       "        <tr>\n",
       "            <td>270 </td> <td>Jannero Pargo          </td> <td>New Orleans Hornets      </td> <td>1830000 </td> <td>2008  </td>\n",
       "        </tr>\n",
       "        <tr>\n",
       "            <td>284 </td> <td>Terry Rozier           </td> <td>Boston Celtics           </td> <td>1824360 </td> <td>2016  </td>\n",
       "        </tr>\n",
       "        <tr>\n",
       "            <td>280 </td> <td>J.J. Barea             </td> <td>Dallas Mavericks         </td> <td>1815000 </td> <td>2011  </td>\n",
       "        </tr>\n",
       "        <tr>\n",
       "            <td>225 </td> <td>Andre Miller           </td> <td>Cleveland Cavaliers      </td> <td>1808000 </td> <td>2001  </td>\n",
       "        </tr>\n",
       "        <tr>\n",
       "            <td>278 </td> <td>Rodney Stuckey         </td> <td>Detroit Pistons          </td> <td>1805040 </td> <td>2010  </td>\n",
       "        </tr>\n",
       "        <tr>\n",
       "            <td>268 </td> <td>Vassilis Spanoulis     </td> <td>Houston Rockets          </td> <td>1800000 </td> <td>2007  </td>\n",
       "        </tr>\n",
       "        <tr>\n",
       "            <td>311 </td> <td>Trey Burke             </td> <td>New York Knicks          </td> <td>1795015 </td> <td>2019  </td>\n",
       "        </tr>\n",
       "        <tr>\n",
       "            <td>270 </td> <td>Sebastian Telfair      </td> <td>Boston Celtics           </td> <td>1793160 </td> <td>2007  </td>\n",
       "        </tr>\n",
       "        <tr>\n",
       "            <td>202 </td> <td>Keyon Dooling          </td> <td>LA Clippers              </td> <td>1769000 </td> <td>2003  </td>\n",
       "        </tr>\n",
       "        <tr>\n",
       "            <td>285 </td> <td>Dennis Schroder        </td> <td>Atlanta Hawks            </td> <td>1763400 </td> <td>2016  </td>\n",
       "        </tr>\n",
       "        <tr>\n",
       "            <td>260 </td> <td>Mo Williams            </td> <td>Milwaukee Bucks          </td> <td>1760000 </td> <td>2006  </td>\n",
       "        </tr>\n",
       "        <tr>\n",
       "            <td>234 </td> <td>Shammond Williams      </td> <td>Seattle SuperSonics      </td> <td>1750000 </td> <td>2002  </td>\n",
       "        </tr>\n",
       "        <tr>\n",
       "            <td>274 </td> <td>Shammond Williams      </td> <td>Los Angeles Lakers       </td> <td>1750000 </td> <td>2007  </td>\n",
       "        </tr>\n",
       "        <tr>\n",
       "            <td>346 </td> <td>Cameron Payne          </td> <td>Phoenix Suns             </td> <td>1737145 </td> <td>2020  </td>\n",
       "        </tr>\n",
       "        <tr>\n",
       "            <td>262 </td> <td>Marcus Banks           </td> <td>Minnesota Timberwolves   </td> <td>1724280 </td> <td>2006  </td>\n",
       "        </tr>\n",
       "        <tr>\n",
       "            <td>237 </td> <td>Tyronn Lue             </td> <td>Washington Wizards       </td> <td>1714000 </td> <td>2002  </td>\n",
       "        </tr>\n",
       "        <tr>\n",
       "            <td>289 </td> <td>Goran Dragic           </td> <td>Phoenix Suns             </td> <td>1700000 </td> <td>2009  </td>\n",
       "        </tr>\n",
       "        <tr>\n",
       "            <td>289 </td> <td>Dennis Schroder        </td> <td>Atlanta Hawks            </td> <td>1690680 </td> <td>2015  </td>\n",
       "        </tr>\n",
       "        <tr>\n",
       "            <td>290 </td> <td>Rodney Stuckey         </td> <td>Detroit Pistons          </td> <td>1687320 </td> <td>2009  </td>\n",
       "        </tr>\n",
       "        <tr>\n",
       "            <td>125 </td> <td>Andre Miller           </td> <td>Cleveland Cavaliers      </td> <td>1682000 </td> <td>2000  </td>\n",
       "        </tr>\n",
       "        <tr>\n",
       "            <td>265 </td> <td>Sebastian Telfair      </td> <td>Portland Trail Blazers   </td> <td>1676280 </td> <td>2006  </td>\n",
       "        </tr>\n",
       "        <tr>\n",
       "            <td>323 </td> <td>Derrick White          </td> <td>San Antonio Spurs        </td> <td>1667160 </td> <td>2019  </td>\n",
       "        </tr>\n",
       "        <tr>\n",
       "            <td>159 </td> <td>Speedy Claxton         </td> <td>Golden State Warriors    </td> <td>1667000 </td> <td>2004  </td>\n",
       "        </tr>\n",
       "        <tr>\n",
       "            <td>291 </td> <td>Pablo Prigioni         </td> <td>New York Knicks          </td> <td>1662961 </td> <td>2015  </td>\n",
       "        </tr>\n",
       "        <tr>\n",
       "            <td>286 </td> <td>J.J. Barea             </td> <td>Dallas Mavericks         </td> <td>1657500 </td> <td>2010  </td>\n",
       "        </tr>\n",
       "        <tr>\n",
       "            <td>314 </td> <td>Spencer Dinwiddie      </td> <td>Brooklyn Nets            </td> <td>1656092 </td> <td>2018  </td>\n",
       "        </tr>\n",
       "        <tr>\n",
       "            <td>324 </td> <td>Spencer Dinwiddie      </td> <td>Brooklyn Nets            </td> <td>1656092 </td> <td>2019  </td>\n",
       "        </tr>\n",
       "        <tr>\n",
       "            <td>240 </td> <td>Keyon Dooling          </td> <td>LA Clippers              </td> <td>1654000 </td> <td>2002  </td>\n",
       "        </tr>\n",
       "        <tr>\n",
       "            <td>319 </td> <td>Jerian Grant           </td> <td>Chicago Bulls            </td> <td>1643040 </td> <td>2017  </td>\n",
       "        </tr>\n",
       "        <tr>\n",
       "            <td>272 </td> <td>Luke Ridnour           </td> <td>Seattle SuperSonics      </td> <td>1638000 </td> <td>2006  </td>\n",
       "        </tr>\n",
       "        <tr>\n",
       "            <td>318 </td> <td>Avery Bradley          </td> <td>Boston Celtics           </td> <td>1630800 </td> <td>2013  </td>\n",
       "        </tr>\n",
       "        <tr>\n",
       "            <td>363 </td> <td>Emmanuel Mudiay        </td> <td>Utah Jazz                </td> <td>1620564 </td> <td>2020  </td>\n",
       "        </tr>\n",
       "        <tr>\n",
       "            <td>368 </td> <td>Raul Neto              </td> <td>Philadelphia 76ers       </td> <td>1620564 </td> <td>2020  </td>\n",
       "        </tr>\n",
       "        <tr>\n",
       "            <td>371 </td> <td>Michael Carter-Williams</td> <td>Orlando Magic            </td> <td>1620564 </td> <td>2020  </td>\n",
       "        </tr>\n",
       "        <tr>\n",
       "            <td>377 </td> <td>Isaiah Thomas          </td> <td>Washington Wizards       </td> <td>1620564 </td> <td>2020  </td>\n",
       "        </tr>\n",
       "        <tr>\n",
       "            <td>384 </td> <td>Tim Frazier            </td> <td>Detroit Pistons          </td> <td>1620564 </td> <td>2020  </td>\n",
       "        </tr>\n",
       "        <tr>\n",
       "            <td>387 </td> <td>Trey Burke             </td> <td>Philadelphia 76ers       </td> <td>1620564 </td> <td>2020  </td>\n",
       "        </tr>\n",
       "        <tr>\n",
       "            <td>388 </td> <td>J.J. Barea             </td> <td>Dallas Mavericks         </td> <td>1620564 </td> <td>2020  </td>\n",
       "        </tr>\n",
       "        <tr>\n",
       "            <td>391 </td> <td>Shaquille Harrison     </td> <td>Chicago Bulls            </td> <td>1620564 </td> <td>2020  </td>\n",
       "        </tr>\n",
       "        <tr>\n",
       "            <td>294 </td> <td>Travis Diener          </td> <td>Indiana Pacers           </td> <td>1620000 </td> <td>2009  </td>\n",
       "        </tr>\n",
       "        <tr>\n",
       "            <td>399 </td> <td>Frank Jackson          </td> <td>New Orleans Pelicans     </td> <td>1618520 </td> <td>2020  </td>\n",
       "        </tr>\n",
       "        <tr>\n",
       "            <td>318 </td> <td>T.J. McConnell         </td> <td>Philadelphia 76ers       </td> <td>1600520 </td> <td>2018  </td>\n",
       "        </tr>\n",
       "        <tr>\n",
       "            <td>338 </td> <td>T.J. McConnell         </td> <td>Philadelphia 76ers       </td> <td>1600520 </td> <td>2019  </td>\n",
       "        </tr>\n",
       "        <tr>\n",
       "            <td>288 </td> <td>Brevin Knight          </td> <td>LA Clippers              </td> <td>1600000 </td> <td>2008  </td>\n",
       "        </tr>\n",
       "        <tr>\n",
       "            <td>259 </td> <td>Toney Douglas          </td> <td>Miami Heat               </td> <td>1600000 </td> <td>2014  </td>\n",
       "        </tr>\n",
       "        <tr>\n",
       "            <td>260 </td> <td>John Lucas III         </td> <td>Utah Jazz                </td> <td>1600000 </td> <td>2014  </td>\n",
       "        </tr>\n",
       "        <tr>\n",
       "            <td>302 </td> <td>Eric Bledsoe           </td> <td>LA Clippers              </td> <td>1596360 </td> <td>2012  </td>\n",
       "        </tr>\n",
       "        <tr>\n",
       "            <td>261 </td> <td>Pablo Prigioni         </td> <td>New York Knicks          </td> <td>1591350 </td> <td>2014  </td>\n",
       "        </tr>\n",
       "        <tr>\n",
       "            <td>406 </td> <td>Monte Morris           </td> <td>Denver Nuggets           </td> <td>1588231 </td> <td>2020  </td>\n",
       "        </tr>\n",
       "        <tr>\n",
       "            <td>303 </td> <td>Jeff Teague            </td> <td>Atlanta Hawks            </td> <td>1579920 </td> <td>2012  </td>\n",
       "        </tr>\n",
       "        <tr>\n",
       "            <td>322 </td> <td>Delon Wright           </td> <td>Toronto Raptors          </td> <td>1577280 </td> <td>2017  </td>\n",
       "        </tr>\n",
       "        <tr>\n",
       "            <td>293 </td> <td>Sergio Rodriguez       </td> <td>Sacramento Kings         </td> <td>1576696 </td> <td>2010  </td>\n",
       "        </tr>\n",
       "        <tr>\n",
       "            <td>297 </td> <td>Jerian Grant           </td> <td>New York Knicks          </td> <td>1572360 </td> <td>2016  </td>\n",
       "        </tr>\n",
       "        <tr>\n",
       "            <td>289 </td> <td>Rodney Stuckey         </td> <td>Indiana Pacers           </td> <td>1569600 </td> <td>2007  </td>\n",
       "        </tr>\n",
       "        <tr>\n",
       "            <td>292 </td> <td>Rodney Stuckey         </td> <td>Detroit Pistons          </td> <td>1569600 </td> <td>2008  </td>\n",
       "        </tr>\n",
       "        <tr>\n",
       "            <td>304 </td> <td>Sebastian Telfair      </td> <td>Phoenix Suns             </td> <td>1567500 </td> <td>2012  </td>\n",
       "        </tr>\n",
       "        <tr>\n",
       "            <td>321 </td> <td>Sebastian Telfair      </td> <td>Toronto Raptors          </td> <td>1567500 </td> <td>2013  </td>\n",
       "        </tr>\n",
       "        <tr>\n",
       "            <td>279 </td> <td>Reece Gaines           </td> <td>Milwaukee Bucks          </td> <td>1556160 </td> <td>2006  </td>\n",
       "        </tr>\n",
       "        <tr>\n",
       "            <td>117 </td> <td>Jamaal Tinsley         </td> <td>Indiana Pacers           </td> <td>1554000 </td> <td>2005  </td>\n",
       "        </tr>\n",
       "        <tr>\n",
       "            <td>331 </td> <td>Quinn Cook             </td> <td>Golden State Warriors    </td> <td>1544951 </td> <td>2018  </td>\n",
       "        </tr>\n",
       "        <tr>\n",
       "            <td>333 </td> <td>Malcolm Brogdon        </td> <td>Milwaukee Bucks          </td> <td>1544951 </td> <td>2018  </td>\n",
       "        </tr>\n",
       "        <tr>\n",
       "            <td>334 </td> <td>Trey Burke             </td> <td>New York Knicks          </td> <td>1544951 </td> <td>2018  </td>\n",
       "        </tr>\n",
       "        <tr>\n",
       "            <td>344 </td> <td>Dejounte Murray        </td> <td>San Antonio Spurs        </td> <td>1544951 </td> <td>2019  </td>\n",
       "        </tr>\n",
       "        <tr>\n",
       "            <td>350 </td> <td>Quinn Cook             </td> <td>Golden State Warriors    </td> <td>1544951 </td> <td>2019  </td>\n",
       "        </tr>\n",
       "        <tr>\n",
       "            <td>354 </td> <td>Malcolm Brogdon        </td> <td>Milwaukee Bucks          </td> <td>1544951 </td> <td>2019  </td>\n",
       "        </tr>\n",
       "        <tr>\n",
       "            <td>307 </td> <td>George Hill            </td> <td>Indiana Pacers           </td> <td>1540493 </td> <td>2012  </td>\n",
       "        </tr>\n",
       "        <tr>\n",
       "            <td>280 </td> <td>Jason Hart             </td> <td>Sacramento Kings         </td> <td>1540000 </td> <td>2006  </td>\n",
       "        </tr>\n",
       "        <tr>\n",
       "            <td>234 </td> <td>Keyon Dooling          </td> <td>Los Angeles Clippers     </td> <td>1538000 </td> <td>2001  </td>\n",
       "        </tr>\n",
       "        <tr>\n",
       "            <td>308 </td> <td>Avery Bradley          </td> <td>Boston Celtics           </td> <td>1524480 </td> <td>2012  </td>\n",
       "        </tr>\n",
       "        <tr>\n",
       "            <td>309 </td> <td>Eric Maynor            </td> <td>Oklahoma City Thunder    </td> <td>1516680 </td> <td>2012  </td>\n",
       "        </tr>\n",
       "        <tr>\n",
       "            <td>378 </td> <td>Isaiah Thomas          </td> <td>Denver Nuggets           </td> <td>1512601 </td> <td>2019  </td>\n",
       "        </tr>\n",
       "        <tr>\n",
       "            <td>383 </td> <td>Derrick Rose           </td> <td>Minnesota Timberwolves   </td> <td>1512601 </td> <td>2019  </td>\n",
       "        </tr>\n",
       "        <tr>\n",
       "            <td>300 </td> <td>Delon Wright           </td> <td>Toronto Raptors          </td> <td>1509360 </td> <td>2016  </td>\n",
       "        </tr>\n",
       "        <tr>\n",
       "            <td>236 </td> <td>Jacque Vaughn          </td> <td>Utah Jazz                </td> <td>1500000 </td> <td>2001  </td>\n",
       "        </tr>\n",
       "        <tr>\n",
       "            <td>250 </td> <td>Dana Barros            </td> <td>Detroit Pistons          </td> <td>1500000 </td> <td>2002  </td>\n",
       "        </tr>\n",
       "        <tr>\n",
       "            <td>296 </td> <td>Travis Diener          </td> <td>Indiana Pacers           </td> <td>1500000 </td> <td>2008  </td>\n",
       "        </tr>\n",
       "        <tr>\n",
       "            <td>302 </td> <td>J.J. Barea             </td> <td>Dallas Mavericks         </td> <td>1500000 </td> <td>2009  </td>\n",
       "        </tr>\n",
       "        <tr>\n",
       "            <td>326 </td> <td>John Lucas III         </td> <td>Toronto Raptors          </td> <td>1500000 </td> <td>2013  </td>\n",
       "        </tr>\n",
       "        <tr>\n",
       "            <td>328 </td> <td>Marcelinho Huertas     </td> <td>Los Angeles Lakers       </td> <td>1500000 </td> <td>2017  </td>\n",
       "        </tr>\n",
       "        <tr>\n",
       "            <td>341 </td> <td>Marcelinho Huertas     </td> <td>Houston Rockets          </td> <td>1500000 </td> <td>2018  </td>\n",
       "        </tr>\n",
       "        <tr>\n",
       "            <td>420 </td> <td>Nigel Williams-Goss    </td> <td>Utah Jazz                </td> <td>1500000 </td> <td>2020  </td>\n",
       "        </tr>\n",
       "        <tr>\n",
       "            <td>300 </td> <td>Eric Bledsoe           </td> <td>LA Clippers              </td> <td>1485000 </td> <td>2011  </td>\n",
       "        </tr>\n",
       "        <tr>\n",
       "            <td>300 </td> <td>Javaris Crittenton     </td> <td>Washington Wizards       </td> <td>1477920 </td> <td>2010  </td>\n",
       "        </tr>\n",
       "        <tr>\n",
       "            <td>301 </td> <td>Jeff Teague            </td> <td>Atlanta Hawks            </td> <td>1476840 </td> <td>2011  </td>\n",
       "        </tr>\n",
       "        <tr>\n",
       "            <td>342 </td> <td>Tyus Jones             </td> <td>Minnesota Timberwolves   </td> <td>1471382 </td> <td>2018  </td>\n",
       "        </tr>\n",
       "        <tr>\n",
       "            <td>350 </td> <td>Raul Neto              </td> <td>Utah Jazz                </td> <td>1471382 </td> <td>2018  </td>\n",
       "        </tr>\n",
       "        <tr>\n",
       "            <td>365 </td> <td>Beno Udrih             </td> <td>Detroit Pistons          </td> <td>1471382 </td> <td>2018  </td>\n",
       "        </tr>\n",
       "        <tr>\n",
       "            <td>370 </td> <td>Maalik Wayns           </td> <td>Dallas Mavericks         </td> <td>1471382 </td> <td>2018  </td>\n",
       "        </tr>\n",
       "        <tr>\n",
       "            <td>308 </td> <td>Mike James             </td> <td>Chicago Bulls            </td> <td>1448490 </td> <td>2015  </td>\n",
       "        </tr>\n",
       "        <tr>\n",
       "            <td>428 </td> <td>Brad Wanamaker         </td> <td>Boston Celtics           </td> <td>1445697 </td> <td>2020  </td>\n",
       "        </tr>\n",
       "        <tr>\n",
       "            <td>218 </td> <td>Mateen Cleaves         </td> <td>Sacramento Kings         </td> <td>1441000 </td> <td>2003  </td>\n",
       "        </tr>\n",
       "        <tr>\n",
       "            <td>303 </td> <td>Avery Bradley          </td> <td>Boston Celtics           </td> <td>1418160 </td> <td>2011  </td>\n",
       "        </tr>\n",
       "        <tr>\n",
       "            <td>304 </td> <td>Eric Maynor            </td> <td>Oklahoma City Thunder    </td> <td>1417800 </td> <td>2011  </td>\n",
       "        </tr>\n",
       "        <tr>\n",
       "            <td>430 </td> <td>Devonte' Graham        </td> <td>Charlotte Hornets        </td> <td>1416852 </td> <td>2020  </td>\n",
       "        </tr>\n",
       "        <tr>\n",
       "            <td>438 </td> <td>Jevon Carter           </td> <td>Phoenix Suns             </td> <td>1416852 </td> <td>2020  </td>\n",
       "        </tr>\n",
       "        <tr>\n",
       "            <td>450 </td> <td>Jalen Brunson          </td> <td>Dallas Mavericks         </td> <td>1416852 </td> <td>2020  </td>\n",
       "        </tr>\n",
       "        <tr>\n",
       "            <td>383 </td> <td>Derrick White          </td> <td>San Antonio Spurs        </td> <td>1404600 </td> <td>2018  </td>\n",
       "        </tr>\n",
       "        <tr>\n",
       "            <td>287 </td> <td>Milt Palacio           </td> <td>Utah Jazz                </td> <td>1400000 </td> <td>2006  </td>\n",
       "        </tr>\n",
       "        <tr>\n",
       "            <td>309 </td> <td>Javaris Crittenton     </td> <td>Memphis Grizzlies        </td> <td>1381560 </td> <td>2009  </td>\n",
       "        </tr>\n",
       "        <tr>\n",
       "            <td>307 </td> <td>Ronnie Price           </td> <td>Utah Jazz                </td> <td>1381250 </td> <td>2011  </td>\n",
       "        </tr>\n",
       "        <tr>\n",
       "            <td>409 </td> <td>Frank Mason III        </td> <td>Sacramento Kings         </td> <td>1378242 </td> <td>2019  </td>\n",
       "        </tr>\n",
       "        <tr>\n",
       "            <td>418 </td> <td>Frank Jackson          </td> <td>New Orleans Pelicans     </td> <td>1378242 </td> <td>2019  </td>\n",
       "        </tr>\n",
       "        <tr>\n",
       "            <td>304 </td> <td>Jeff Teague            </td> <td>Atlanta Hawks            </td> <td>1373880 </td> <td>2010  </td>\n",
       "        </tr>\n",
       "        <tr>\n",
       "            <td>323 </td> <td>Nolan Smith            </td> <td>Portland Trail Blazers   </td> <td>1365720 </td> <td>2012  </td>\n",
       "        </tr>\n",
       "        <tr>\n",
       "            <td>344 </td> <td>Nolan Smith            </td> <td>Portland Trail Blazers   </td> <td>1365720 </td> <td>2013  </td>\n",
       "        </tr>\n",
       "        <tr>\n",
       "            <td>324 </td> <td>Jamaal Tinsley         </td> <td>Utah Jazz                </td> <td>1352181 </td> <td>2012  </td>\n",
       "        </tr>\n",
       "        <tr>\n",
       "            <td>347 </td> <td>Jamaal Tinsley         </td> <td>Utah Jazz                </td> <td>1352181 </td> <td>2013  </td>\n",
       "        </tr>\n",
       "        <tr>\n",
       "            <td>341 </td> <td>Shabazz Napier         </td> <td>Portland Trail Blazers   </td> <td>1350120 </td> <td>2017  </td>\n",
       "        </tr>\n",
       "        <tr>\n",
       "            <td>304 </td> <td>Keith McLeod           </td> <td>Indiana Pacers           </td> <td>1350000 </td> <td>2007  </td>\n",
       "        </tr>\n",
       "        <tr>\n",
       "            <td>307 </td> <td>Roko-Leni Ukic         </td> <td>Milwaukee Bucks          </td> <td>1350000 </td> <td>2010  </td>\n",
       "        </tr>\n",
       "        <tr>\n",
       "            <td>314 </td> <td>Roko-Leni Ukic         </td> <td>Milwaukee Bucks          </td> <td>1350000 </td> <td>2011  </td>\n",
       "        </tr>\n",
       "        <tr>\n",
       "            <td>327 </td> <td>Roko-Leni Ukic         </td> <td>Milwaukee Bucks          </td> <td>1350000 </td> <td>2012  </td>\n",
       "        </tr>\n",
       "        <tr>\n",
       "            <td>349 </td> <td>Roko-Leni Ukic         </td> <td>Milwaukee Bucks          </td> <td>1350000 </td> <td>2013  </td>\n",
       "        </tr>\n",
       "        <tr>\n",
       "            <td>424 </td> <td>Monte Morris           </td> <td>Denver Nuggets           </td> <td>1349383 </td> <td>2019  </td>\n",
       "        </tr>\n",
       "        <tr>\n",
       "            <td>428 </td> <td>Ryan Arcidiacono       </td> <td>Chicago Bulls            </td> <td>1349383 </td> <td>2019  </td>\n",
       "        </tr>\n",
       "        <tr>\n",
       "            <td>284 </td> <td>Dennis Schroder        </td> <td>Atlanta Hawks            </td> <td>1348200 </td> <td>2014  </td>\n",
       "        </tr>\n",
       "        <tr>\n",
       "            <td>262 </td> <td>Mateen Cleaves         </td> <td>Sacramento Kings         </td> <td>1347000 </td> <td>2002  </td>\n",
       "        </tr>\n",
       "        <tr>\n",
       "            <td>344 </td> <td>Tyus Jones             </td> <td>Minnesota Timberwolves   </td> <td>1339680 </td> <td>2017  </td>\n",
       "        </tr>\n",
       "        <tr>\n",
       "            <td>306 </td> <td>Steve Blake            </td> <td>Milwaukee Bucks          </td> <td>1330000 </td> <td>2007  </td>\n",
       "        </tr>\n",
       "        <tr>\n",
       "            <td>308 </td> <td>Eric Maynor            </td> <td>Utah Jazz                </td> <td>1318920 </td> <td>2010  </td>\n",
       "        </tr>\n",
       "        <tr>\n",
       "            <td>314 </td> <td>Rajon Rondo            </td> <td>Boston Celtics           </td> <td>1315080 </td> <td>2009  </td>\n",
       "        </tr>\n",
       "        <tr>\n",
       "            <td>409 </td> <td>Semaj Christon         </td> <td>Oklahoma City Thunder    </td> <td>1312611 </td> <td>2018  </td>\n",
       "        </tr>\n",
       "        <tr>\n",
       "            <td>410 </td> <td>Dejounte Murray        </td> <td>San Antonio Spurs        </td> <td>1312611 </td> <td>2018  </td>\n",
       "        </tr>\n",
       "        <tr>\n",
       "            <td>413 </td> <td>Yogi Ferrell           </td> <td>Dallas Mavericks         </td> <td>1312611 </td> <td>2018  </td>\n",
       "        </tr>\n",
       "        <tr>\n",
       "            <td>431 </td> <td>Shaquille Harrison     </td> <td>Chicago Bulls            </td> <td>1311265 </td> <td>2019  </td>\n",
       "        </tr>\n",
       "        <tr>\n",
       "            <td>265 </td> <td>Bryce Drew             </td> <td>Charlotte Hornets        </td> <td>1300000 </td> <td>2002  </td>\n",
       "        </tr>\n",
       "        <tr>\n",
       "            <td>228 </td> <td>Bryce Drew             </td> <td>New Orleans Hornets      </td> <td>1300000 </td> <td>2003  </td>\n",
       "        </tr>\n",
       "        <tr>\n",
       "            <td>168 </td> <td>Bryce Drew             </td> <td>New Orleans Hornets      </td> <td>1300000 </td> <td>2004  </td>\n",
       "        </tr>\n",
       "        <tr>\n",
       "            <td>318 </td> <td>Shabazz Napier         </td> <td>Orlando Magic            </td> <td>1294440 </td> <td>2016  </td>\n",
       "        </tr>\n",
       "        <tr>\n",
       "            <td>306 </td> <td>Javaris Crittenton     </td> <td>Memphis Grizzlies        </td> <td>1285200 </td> <td>2008  </td>\n",
       "        </tr>\n",
       "        <tr>\n",
       "            <td>319 </td> <td>Tyus Jones             </td> <td>Minnesota Timberwolves   </td> <td>1282080 </td> <td>2016  </td>\n",
       "        </tr>\n",
       "        <tr>\n",
       "            <td>309 </td> <td>Nate Robinson          </td> <td>New York Knicks          </td> <td>1268160 </td> <td>2008  </td>\n",
       "        </tr>\n",
       "        <tr>\n",
       "            <td>318 </td> <td>Marcus Williams        </td> <td>Golden State Warriors    </td> <td>1262520 </td> <td>2009  </td>\n",
       "        </tr>\n",
       "        <tr>\n",
       "            <td>320 </td> <td>Jacque Vaughn          </td> <td>San Antonio Spurs        </td> <td>1262275 </td> <td>2009  </td>\n",
       "        </tr>\n",
       "        <tr>\n",
       "            <td>355 </td> <td>Reggie Jackson         </td> <td>Oklahoma City Thunder    </td> <td>1260360 </td> <td>2013  </td>\n",
       "        </tr>\n",
       "        <tr>\n",
       "            <td>288 </td> <td>Reggie Jackson         </td> <td>Oklahoma City Thunder    </td> <td>1260360 </td> <td>2014  </td>\n",
       "        </tr>\n",
       "        <tr>\n",
       "            <td>250 </td> <td>Mateen Cleaves         </td> <td>Detroit Pistons          </td> <td>1253000 </td> <td>2001  </td>\n",
       "        </tr>\n",
       "        <tr>\n",
       "            <td>321 </td> <td>Roko-Leni Ukic         </td> <td>Toronto Raptors          </td> <td>1250000 </td> <td>2009  </td>\n",
       "        </tr>\n",
       "        <tr>\n",
       "            <td>315 </td> <td>Ronnie Price           </td> <td>Utah Jazz                </td> <td>1250000 </td> <td>2010  </td>\n",
       "        </tr>\n",
       "        <tr>\n",
       "            <td>325 </td> <td>Shabazz Napier         </td> <td>Miami Heat               </td> <td>1238640 </td> <td>2015  </td>\n",
       "        </tr>\n",
       "        <tr>\n",
       "            <td>335 </td> <td>Rodrigue Beaubois      </td> <td>Dallas Mavericks         </td> <td>1236720 </td> <td>2012  </td>\n",
       "        </tr>\n",
       "        <tr>\n",
       "            <td>433 </td> <td>Jalen Brunson          </td> <td>Dallas Mavericks         </td> <td>1230000 </td> <td>2019  </td>\n",
       "        </tr>\n",
       "        <tr>\n",
       "            <td>311 </td> <td>Rajon Rondo            </td> <td>Boston Celtics           </td> <td>1229280 </td> <td>2008  </td>\n",
       "        </tr>\n",
       "        <tr>\n",
       "            <td>472 </td> <td>Carsen Edwards         </td> <td>Boston Celtics           </td> <td>1228026 </td> <td>2020  </td>\n",
       "        </tr>\n",
       "        <tr>\n",
       "            <td>312 </td> <td>Jacque Vaughn          </td> <td>San Antonio Spurs        </td> <td>1219590 </td> <td>2008  </td>\n",
       "        </tr>\n",
       "        <tr>\n",
       "            <td>254 </td> <td>Anthony Johnson        </td> <td>Cleveland Cavaliers      </td> <td>1200000 </td> <td>2001  </td>\n",
       "        </tr>\n",
       "        <tr>\n",
       "            <td>258 </td> <td>Anthony Carter         </td> <td>Miami Heat               </td> <td>1200000 </td> <td>2001  </td>\n",
       "        </tr>\n",
       "        <tr>\n",
       "            <td>323 </td> <td>Royal Ivey             </td> <td>Oklahoma City Thunder    </td> <td>1200000 </td> <td>2011  </td>\n",
       "        </tr>\n",
       "        <tr>\n",
       "            <td>337 </td> <td>Royal Ivey             </td> <td>Oklahoma City Thunder    </td> <td>1200000 </td> <td>2012  </td>\n",
       "        </tr>\n",
       "        <tr>\n",
       "            <td>362 </td> <td>Greivis Vasquez        </td> <td>New Orleans Hornets      </td> <td>1191240 </td> <td>2013  </td>\n",
       "        </tr>\n",
       "        <tr>\n",
       "            <td>326 </td> <td>Ronnie Price           </td> <td>Utah Jazz                </td> <td>1188000 </td> <td>2009  </td>\n",
       "        </tr>\n",
       "        <tr>\n",
       "            <td>317 </td> <td>Nate Robinson          </td> <td>New York Knicks          </td> <td>1185480 </td> <td>2007  </td>\n",
       "        </tr>\n",
       "        <tr>\n",
       "            <td>442 </td> <td>Frank Mason III        </td> <td>Sacramento Kings         </td> <td>1184385 </td> <td>2018  </td>\n",
       "        </tr>\n",
       "        <tr>\n",
       "            <td>319 </td> <td>Marcus Williams        </td> <td>New Jersey Nets          </td> <td>1180200 </td> <td>2008  </td>\n",
       "        </tr>\n",
       "        <tr>\n",
       "            <td>362 </td> <td>Dejounte Murray        </td> <td>San Antonio Spurs        </td> <td>1180080 </td> <td>2017  </td>\n",
       "        </tr>\n",
       "        <tr>\n",
       "            <td>319 </td> <td>Darrel Armstrong       </td> <td>Indiana Pacers           </td> <td>1178348 </td> <td>2007  </td>\n",
       "        </tr>\n",
       "        <tr>\n",
       "            <td>334 </td> <td>Toney Douglas          </td> <td>New Orleans Pelicans     </td> <td>1164858 </td> <td>2016  </td>\n",
       "        </tr>\n",
       "        <tr>\n",
       "            <td>330 </td> <td>Kyle Lowry             </td> <td>Memphis Grizzlies        </td> <td>1163520 </td> <td>2009  </td>\n",
       "        </tr>\n",
       "        <tr>\n",
       "            <td>342 </td> <td>Reggie Jackson         </td> <td>Oklahoma City Thunder    </td> <td>1156320 </td> <td>2012  </td>\n",
       "        </tr>\n",
       "        <tr>\n",
       "            <td>326 </td> <td>Rodrigue Beaubois      </td> <td>Dallas Mavericks         </td> <td>1156080 </td> <td>2011  </td>\n",
       "        </tr>\n",
       "        <tr>\n",
       "            <td>341 </td> <td>Matthew Dellavedova    </td> <td>Cleveland Cavaliers      </td> <td>1147276 </td> <td>2016  </td>\n",
       "        </tr>\n",
       "        <tr>\n",
       "            <td>367 </td> <td>Ronnie Price           </td> <td>Portland Trail Blazers   </td> <td>1146337 </td> <td>2013  </td>\n",
       "        </tr>\n",
       "        <tr>\n",
       "            <td>345 </td> <td>Toney Douglas          </td> <td>New York Knicks          </td> <td>1145640 </td> <td>2012  </td>\n",
       "        </tr>\n",
       "        <tr>\n",
       "            <td>321 </td> <td>Rajon Rondo            </td> <td>Boston Celtics           </td> <td>1143600 </td> <td>2007  </td>\n",
       "        </tr>\n",
       "        <tr>\n",
       "            <td>298 </td> <td>Patty Mills            </td> <td>San Antonio Spurs        </td> <td>1133950 </td> <td>2014  </td>\n",
       "        </tr>\n",
       "        <tr>\n",
       "            <td>306 </td> <td>Zoran Planinic         </td> <td>New Jersey Nets          </td> <td>1127280 </td> <td>2006  </td>\n",
       "        </tr>\n",
       "        <tr>\n",
       "            <td>307 </td> <td>Keith McLeod           </td> <td>Utah Jazz                </td> <td>1125000 </td> <td>2006  </td>\n",
       "        </tr>\n",
       "        <tr>\n",
       "            <td>324 </td> <td>Luther Head            </td> <td>Houston Rockets          </td> <td>1122000 </td> <td>2008  </td>\n",
       "        </tr>\n",
       "        <tr>\n",
       "            <td>301 </td> <td>Cory Joseph            </td> <td>San Antonio Spurs        </td> <td>1120920 </td> <td>2014  </td>\n",
       "        </tr>\n",
       "        <tr>\n",
       "            <td>348 </td> <td>Greivis Vasquez        </td> <td>New Orleans Hornets      </td> <td>1113600 </td> <td>2012  </td>\n",
       "        </tr>\n",
       "        <tr>\n",
       "            <td>345 </td> <td>Nemanja Nedovic        </td> <td>Golden State Warriors    </td> <td>1104240 </td> <td>2015  </td>\n",
       "        </tr>\n",
       "        <tr>\n",
       "            <td>309 </td> <td>Nate Robinson          </td> <td>New York Knicks          </td> <td>1102680 </td> <td>2006  </td>\n",
       "        </tr>\n",
       "        <tr>\n",
       "            <td>326 </td> <td>Ronnie Price           </td> <td>Utah Jazz                </td> <td>1100000 </td> <td>2008  </td>\n",
       "        </tr>\n",
       "        <tr>\n",
       "            <td>323 </td> <td>Marcus Williams        </td> <td>New Jersey Nets          </td> <td>1097880 </td> <td>2007  </td>\n",
       "        </tr>\n",
       "        <tr>\n",
       "            <td>328 </td> <td>Kyle Lowry             </td> <td>Memphis Grizzlies        </td> <td>1087680 </td> <td>2008  </td>\n",
       "        </tr>\n",
       "        <tr>\n",
       "            <td>376 </td> <td>Patty Mills            </td> <td>San Antonio Spurs        </td> <td>1085120 </td> <td>2013  </td>\n",
       "        </tr>\n",
       "        <tr>\n",
       "            <td>325 </td> <td>George Hill            </td> <td>San Antonio Spurs        </td> <td>1081680 </td> <td>2010  </td>\n",
       "        </tr>\n",
       "        <tr>\n",
       "            <td>314 </td> <td>Darrick Martin         </td> <td>Toronto Raptors          </td> <td>1081575 </td> <td>2006  </td>\n",
       "        </tr>\n",
       "        <tr>\n",
       "            <td>240 </td> <td>Speedy Claxton         </td> <td>San Antonio Spurs        </td> <td>1081000 </td> <td>2003  </td>\n",
       "        </tr>\n",
       "        <tr>\n",
       "            <td>334 </td> <td>Jordan Farmar          </td> <td>Los Angeles Lakers       </td> <td>1080000 </td> <td>2009  </td>\n",
       "        </tr>\n",
       "        <tr>\n",
       "            <td>326 </td> <td>Rodrigue Beaubois      </td> <td>Dallas Mavericks         </td> <td>1075440 </td> <td>2010  </td>\n",
       "        </tr>\n",
       "        <tr>\n",
       "            <td>355 </td> <td>Cory Joseph            </td> <td>San Antonio Spurs        </td> <td>1074720 </td> <td>2012  </td>\n",
       "        </tr>\n",
       "        <tr>\n",
       "            <td>379 </td> <td>Cory Joseph            </td> <td>San Antonio Spurs        </td> <td>1074720 </td> <td>2013  </td>\n",
       "        </tr>\n",
       "        <tr>\n",
       "            <td>338 </td> <td>Toney Douglas          </td> <td>New York Knicks          </td> <td>1071000 </td> <td>2011  </td>\n",
       "        </tr>\n",
       "        <tr>\n",
       "            <td>310 </td> <td>Nemanja Nedovic        </td> <td>Golden State Warriors    </td> <td>1056720 </td> <td>2014  </td>\n",
       "        </tr>\n",
       "        <tr>\n",
       "            <td>475 </td> <td>Gary Payton II         </td> <td>Washington Wizards       </td> <td>1052909 </td> <td>2020  </td>\n",
       "        </tr>\n",
       "        <tr>\n",
       "            <td>329 </td> <td>Chris Quinn            </td> <td>New Jersey Nets          </td> <td>1050387 </td> <td>2010  </td>\n",
       "        </tr>\n",
       "        <tr>\n",
       "            <td>330 </td> <td>Royal Ivey             </td> <td>Philadelphia 76ers       </td> <td>1050000 </td> <td>2010  </td>\n",
       "        </tr>\n",
       "        <tr>\n",
       "            <td>329 </td> <td>Luther Head            </td> <td>Houston Rockets          </td> <td>1048800 </td> <td>2007  </td>\n",
       "        </tr>\n",
       "        <tr>\n",
       "            <td>332 </td> <td>Shannon Brown          </td> <td>Cleveland Cavaliers      </td> <td>1044120 </td> <td>2008  </td>\n",
       "        </tr>\n",
       "        <tr>\n",
       "            <td>340 </td> <td>Greivis Vasquez        </td> <td>Memphis Grizzlies        </td> <td>1035960 </td> <td>2011  </td>\n",
       "        </tr>\n",
       "        <tr>\n",
       "            <td>338 </td> <td>Mardy Collins          </td> <td>New York Knicks          </td> <td>1034760 </td> <td>2009  </td>\n",
       "        </tr>\n",
       "        <tr>\n",
       "            <td>318 </td> <td>Jacque Vaughn          </td> <td>New Jersey Nets          </td> <td>1029873 </td> <td>2006  </td>\n",
       "        </tr>\n",
       "        <tr>\n",
       "            <td>381 </td> <td>Andrew Goudelock       </td> <td>Houston Rockets          </td> <td>1015696 </td> <td>2017  </td>\n",
       "        </tr>\n",
       "        <tr>\n",
       "            <td>448 </td> <td>Andrew Goudelock       </td> <td>Houston Rockets          </td> <td>1015696 </td> <td>2018  </td>\n",
       "        </tr>\n",
       "        <tr>\n",
       "            <td>332 </td> <td>Kyle Lowry             </td> <td>Memphis Grizzlies        </td> <td>1011720 </td> <td>2007  </td>\n",
       "        </tr>\n",
       "        <tr>\n",
       "            <td>335 </td> <td>Jordan Farmar          </td> <td>Los Angeles Lakers       </td> <td>1009560 </td> <td>2008  </td>\n",
       "        </tr>\n",
       "        <tr>\n",
       "            <td>340 </td> <td>George Hill            </td> <td>San Antonio Spurs        </td> <td>1006200 </td> <td>2009  </td>\n",
       "        </tr>\n",
       "        <tr>\n",
       "            <td>284 </td> <td>Speedy Claxton         </td> <td>Philadelphia 76ers       </td> <td>1006000 </td> <td>2002  </td>\n",
       "        </tr>\n",
       "        <tr>\n",
       "            <td>339 </td> <td>C.J. Watson            </td> <td>Golden State Warriors    </td> <td>1000497 </td> <td>2010  </td>\n",
       "        </tr>\n",
       "        <tr>\n",
       "            <td>325 </td> <td>Steve Blake            </td> <td>Portland Trail Blazers   </td> <td>1000000 </td> <td>2006  </td>\n",
       "        </tr>\n",
       "        <tr>\n",
       "            <td>335 </td> <td>Jannero Pargo          </td> <td>NO/Oklahoma City Hornets </td> <td>1000000 </td> <td>2007  </td>\n",
       "        </tr>\n",
       "        <tr>\n",
       "            <td>367 </td> <td>Jeremy Pargo           </td> <td>Memphis Grizzlies        </td> <td>1000000 </td> <td>2012  </td>\n",
       "        </tr>\n",
       "        <tr>\n",
       "            <td>341 </td> <td>Toney Douglas          </td> <td>New York Knicks          </td> <td>996240  </td> <td>2010  </td>\n",
       "        </tr>\n",
       "        <tr>\n",
       "            <td>392 </td> <td>C.J. Watson            </td> <td>Brooklyn Nets            </td> <td>992680  </td> <td>2013  </td>\n",
       "        </tr>\n",
       "        <tr>\n",
       "            <td>439 </td> <td>Devonte' Graham        </td> <td>Charlotte Hornets        </td> <td>988464  </td> <td>2019  </td>\n",
       "        </tr>\n",
       "        <tr>\n",
       "            <td>385 </td> <td>Brian Roberts          </td> <td>Charlotte Hornets        </td> <td>980431  </td> <td>2017  </td>\n",
       "        </tr>\n",
       "        <tr>\n",
       "            <td>388 </td> <td>Nate Wolters           </td> <td>Utah Jazz                </td> <td>980431  </td> <td>2017  </td>\n",
       "        </tr>\n",
       "        <tr>\n",
       "            <td>394 </td> <td>Jordan Farmar          </td> <td>Sacramento Kings         </td> <td>980431  </td> <td>2017  </td>\n",
       "        </tr>\n",
       "        <tr>\n",
       "            <td>406 </td> <td>John Lucas III         </td> <td>Minnesota Timberwolves   </td> <td>980431  </td> <td>2017  </td>\n",
       "        </tr>\n",
       "        <tr>\n",
       "            <td>420 </td> <td>Pablo Prigioni         </td> <td>Houston Rockets          </td> <td>980431  </td> <td>2017  </td>\n",
       "        </tr>\n",
       "        <tr>\n",
       "            <td>421 </td> <td>Phil Pressey           </td> <td>Golden State Warriors    </td> <td>980431  </td> <td>2017  </td>\n",
       "        </tr>\n",
       "        <tr>\n",
       "            <td>427 </td> <td>Beno Udrih             </td> <td>Detroit Pistons          </td> <td>980431  </td> <td>2017  </td>\n",
       "        </tr>\n",
       "        <tr>\n",
       "            <td>438 </td> <td>Will Bynum             </td> <td>Atlanta Hawks            </td> <td>980431  </td> <td>2017  </td>\n",
       "        </tr>\n",
       "        <tr>\n",
       "            <td>453 </td> <td>Jordan Farmar          </td> <td>Sacramento Kings         </td> <td>980431  </td> <td>2018  </td>\n",
       "        </tr>\n",
       "        <tr>\n",
       "            <td>461 </td> <td>John Lucas III         </td> <td>Minnesota Timberwolves   </td> <td>980431  </td> <td>2018  </td>\n",
       "        </tr>\n",
       "        <tr>\n",
       "            <td>469 </td> <td>Pablo Prigioni         </td> <td>Houston Rockets          </td> <td>980431  </td> <td>2018  </td>\n",
       "        </tr>\n",
       "        <tr>\n",
       "            <td>470 </td> <td>Phil Pressey           </td> <td>Golden State Warriors    </td> <td>980431  </td> <td>2018  </td>\n",
       "        </tr>\n",
       "        <tr>\n",
       "            <td>479 </td> <td>Will Bynum             </td> <td>Atlanta Hawks            </td> <td>980431  </td> <td>2018  </td>\n",
       "        </tr>\n",
       "        <tr>\n",
       "            <td>326 </td> <td>Luther Head            </td> <td>Houston Rockets          </td> <td>975600  </td> <td>2006  </td>\n",
       "        </tr>\n",
       "        <tr>\n",
       "            <td>347 </td> <td>Chris Quinn            </td> <td>Miami Heat               </td> <td>972581  </td> <td>2009  </td>\n",
       "        </tr>\n",
       "        <tr>\n",
       "            <td>341 </td> <td>Shannon Brown          </td> <td>Cleveland Cavaliers      </td> <td>971280  </td> <td>2007  </td>\n",
       "        </tr>\n",
       "        <tr>\n",
       "            <td>342 </td> <td>Beno Udrih             </td> <td>San Antonio Spurs        </td> <td>967920  </td> <td>2007  </td>\n",
       "        </tr>\n",
       "        <tr>\n",
       "            <td>343 </td> <td>Mardy Collins          </td> <td>New York Knicks          </td> <td>967320  </td> <td>2008  </td>\n",
       "        </tr>\n",
       "        <tr>\n",
       "            <td>329 </td> <td>Anthony Carter         </td> <td>Minnesota Timberwolves   </td> <td>965185  </td> <td>2006  </td>\n",
       "        </tr>\n",
       "        <tr>\n",
       "            <td>315 </td> <td>Ish Smith              </td> <td>Phoenix Suns             </td> <td>951463  </td> <td>2014  </td>\n",
       "        </tr>\n",
       "        <tr>\n",
       "            <td>374 </td> <td>Pablo Prigioni         </td> <td>LA Clippers              </td> <td>947726  </td> <td>2016  </td>\n",
       "        </tr>\n",
       "        <tr>\n",
       "            <td>376 </td> <td>Ish Smith              </td> <td>Philadelphia 76ers       </td> <td>947276  </td> <td>2016  </td>\n",
       "        </tr>\n",
       "        <tr>\n",
       "            <td>382 </td> <td>Ronnie Price           </td> <td>Phoenix Suns             </td> <td>947276  </td> <td>2016  </td>\n",
       "        </tr>\n",
       "        <tr>\n",
       "            <td>386 </td> <td>John Lucas III         </td> <td>Minnesota Timberwolves   </td> <td>947276  </td> <td>2016  </td>\n",
       "        </tr>\n",
       "        <tr>\n",
       "            <td>415 </td> <td>Nate Robinson          </td> <td>New Orleans Pelicans     </td> <td>947276  </td> <td>2016  </td>\n",
       "        </tr>\n",
       "        <tr>\n",
       "            <td>344 </td> <td>Donell Taylor          </td> <td>Washington Wizards       </td> <td>945610  </td> <td>2008  </td>\n",
       "        </tr>\n",
       "        <tr>\n",
       "            <td>346 </td> <td>Jordan Farmar          </td> <td>Los Angeles Lakers       </td> <td>939120  </td> <td>2007  </td>\n",
       "        </tr>\n",
       "        <tr>\n",
       "            <td>441 </td> <td>Raul Neto              </td> <td>Utah Jazz                </td> <td>937800  </td> <td>2017  </td>\n",
       "        </tr>\n",
       "        <tr>\n",
       "            <td>352 </td> <td>Patty Mills            </td> <td>Portland Trail Blazers   </td> <td>937195  </td> <td>2011  </td>\n",
       "        </tr>\n",
       "        <tr>\n",
       "            <td>442 </td> <td>Malcolm Brogdon        </td> <td>Milwaukee Bucks          </td> <td>925000  </td> <td>2017  </td>\n",
       "        </tr>\n",
       "        <tr>\n",
       "            <td>442 </td> <td>Austin Rivers          </td> <td>Washington Wizards       </td> <td>922943  </td> <td>2019  </td>\n",
       "        </tr>\n",
       "        <tr>\n",
       "            <td>370 </td> <td>John Lucas III         </td> <td>Chicago Bulls            </td> <td>915852  </td> <td>2012  </td>\n",
       "        </tr>\n",
       "        <tr>\n",
       "            <td>365 </td> <td>Jannero Pargo          </td> <td>Charlotte Hornets        </td> <td>915243  </td> <td>2015  </td>\n",
       "        </tr>\n",
       "        <tr>\n",
       "            <td>374 </td> <td>Sebastian Telfair      </td> <td>Oklahoma City Thunder    </td> <td>915243  </td> <td>2015  </td>\n",
       "        </tr>\n",
       "        <tr>\n",
       "            <td>377 </td> <td>Diante Garrett         </td> <td>Portland Trail Blazers   </td> <td>915243  </td> <td>2015  </td>\n",
       "        </tr>\n",
       "        <tr>\n",
       "            <td>381 </td> <td>Ronnie Price           </td> <td>Los Angeles Lakers       </td> <td>915243  </td> <td>2015  </td>\n",
       "        </tr>\n",
       "        <tr>\n",
       "            <td>390 </td> <td>Kendall Marshall       </td> <td>Milwaukee Bucks          </td> <td>915243  </td> <td>2015  </td>\n",
       "        </tr>\n",
       "        <tr>\n",
       "            <td>393 </td> <td>Shannon Brown          </td> <td>Miami Heat               </td> <td>915243  </td> <td>2015  </td>\n",
       "        </tr>\n",
       "        <tr>\n",
       "            <td>394 </td> <td>Patrick Beverley       </td> <td>Houston Rockets          </td> <td>915243  </td> <td>2015  </td>\n",
       "        </tr>\n",
       "        <tr>\n",
       "            <td>397 </td> <td>Rodney Stuckey         </td> <td>Indiana Pacers           </td> <td>915243  </td> <td>2015  </td>\n",
       "        </tr>\n",
       "        <tr>\n",
       "            <td>397 </td> <td>Ish Smith              </td> <td>Orlando Magic            </td> <td>910941  </td> <td>2013  </td>\n",
       "        </tr>\n",
       "        <tr>\n",
       "            <td>413 </td> <td>J.J. Barea             </td> <td>Dallas Mavericks         </td> <td>909859  </td> <td>2015  </td>\n",
       "        </tr>\n",
       "        <tr>\n",
       "            <td>337 </td> <td>Beno Udrih             </td> <td>San Antonio Spurs        </td> <td>904800  </td> <td>2006  </td>\n",
       "        </tr>\n",
       "        <tr>\n",
       "            <td>419 </td> <td>Raul Neto              </td> <td>Utah Jazz                </td> <td>900000  </td> <td>2016  </td>\n",
       "        </tr>\n",
       "        <tr>\n",
       "            <td>351 </td> <td>Mardy Collins          </td> <td>New York Knicks          </td> <td>899880  </td> <td>2007  </td>\n",
       "        </tr>\n",
       "        <tr>\n",
       "            <td>486 </td> <td>Justin Robinson        </td> <td>Washington Wizards       </td> <td>898310  </td> <td>2020  </td>\n",
       "        </tr>\n",
       "        <tr>\n",
       "            <td>490 </td> <td>Jalen Lecque           </td> <td>Phoenix Suns             </td> <td>898310  </td> <td>2020  </td>\n",
       "        </tr>\n",
       "        <tr>\n",
       "            <td>341 </td> <td>Jannero Pargo          </td> <td>Chicago Bulls            </td> <td>895248  </td> <td>2006  </td>\n",
       "        </tr>\n",
       "        <tr>\n",
       "            <td>324 </td> <td>Jannero Pargo          </td> <td>Charlotte Bobcats        </td> <td>884293  </td> <td>2014  </td>\n",
       "        </tr>\n",
       "        <tr>\n",
       "            <td>330 </td> <td>Jordan Farmar          </td> <td>Los Angeles Lakers       </td> <td>884293  </td> <td>2014  </td>\n",
       "        </tr>\n",
       "        <tr>\n",
       "            <td>331 </td> <td>Earl Watson            </td> <td>Portland Trail Blazers   </td> <td>884293  </td> <td>2014  </td>\n",
       "        </tr>\n",
       "        <tr>\n",
       "            <td>339 </td> <td>Isaiah Thomas          </td> <td>Sacramento Kings         </td> <td>884293  </td> <td>2014  </td>\n",
       "        </tr>\n",
       "        <tr>\n",
       "            <td>342 </td> <td>Beno Udrih             </td> <td>Memphis Grizzlies        </td> <td>884293  </td> <td>2014  </td>\n",
       "        </tr>\n",
       "        <tr>\n",
       "            <td>449 </td> <td>Casper Ware            </td> <td>Washington Wizards       </td> <td>874636  </td> <td>2017  </td>\n",
       "        </tr>\n",
       "        <tr>\n",
       "            <td>463 </td> <td>T.J. McConnell         </td> <td>Philadelphia 76ers       </td> <td>874636  </td> <td>2017  </td>\n",
       "        </tr>\n",
       "        <tr>\n",
       "            <td>485 </td> <td>Casper Ware            </td> <td>Washington Wizards       </td> <td>874636  </td> <td>2018  </td>\n",
       "        </tr>\n",
       "        <tr>\n",
       "            <td>353 </td> <td>Sergio Rodriguez       </td> <td>Portland Trail Blazers   </td> <td>874000  </td> <td>2009  </td>\n",
       "        </tr>\n",
       "        <tr>\n",
       "            <td>282 </td> <td>Tyronn Lue             </td> <td>Los Angeles Lakers       </td> <td>865000  </td> <td>2001  </td>\n",
       "        </tr>\n",
       "        <tr>\n",
       "            <td>419 </td> <td>Ish Smith              </td> <td>Oklahoma City Thunder    </td> <td>861405  </td> <td>2015  </td>\n",
       "        </tr>\n",
       "        <tr>\n",
       "            <td>176 </td> <td>Jamaal Tinsley         </td> <td>Indiana Pacers           </td> <td>861000  </td> <td>2004  </td>\n",
       "        </tr>\n",
       "        <tr>\n",
       "            <td>354 </td> <td>Royal Ivey             </td> <td>Philadelphia 76ers       </td> <td>854957  </td> <td>2009  </td>\n",
       "        </tr>\n",
       "        <tr>\n",
       "            <td>366 </td> <td>Javaris Crittenton     </td> <td>Washington Wizards       </td> <td>854389  </td> <td>2011  </td>\n",
       "        </tr>\n",
       "        <tr>\n",
       "            <td>380 </td> <td>Luther Head            </td> <td>Sacramento Kings         </td> <td>854389  </td> <td>2011  </td>\n",
       "        </tr>\n",
       "        <tr>\n",
       "            <td>381 </td> <td>Coby Karl              </td> <td>Denver Nuggets           </td> <td>854389  </td> <td>2011  </td>\n",
       "        </tr>\n",
       "        <tr>\n",
       "            <td>383 </td> <td>Earl Watson            </td> <td>Utah Jazz                </td> <td>854389  </td> <td>2011  </td>\n",
       "        </tr>\n",
       "        <tr>\n",
       "            <td>397 </td> <td>George Hill            </td> <td>San Antonio Spurs        </td> <td>854389  </td> <td>2011  </td>\n",
       "        </tr>\n",
       "        <tr>\n",
       "            <td>406 </td> <td>Earl Boykins           </td> <td>Milwaukee Bucks          </td> <td>854389  </td> <td>2011  </td>\n",
       "        </tr>\n",
       "        <tr>\n",
       "            <td>411 </td> <td>Anthony Carter         </td> <td>New York Knicks          </td> <td>854389  </td> <td>2011  </td>\n",
       "        </tr>\n",
       "        <tr>\n",
       "            <td>383 </td> <td>Javaris Crittenton     </td> <td>Washington Wizards       </td> <td>854389  </td> <td>2012  </td>\n",
       "        </tr>\n",
       "        <tr>\n",
       "            <td>384 </td> <td>Jannero Pargo          </td> <td>Atlanta Hawks            </td> <td>854389  </td> <td>2012  </td>\n",
       "        </tr>\n",
       "        <tr>\n",
       "            <td>405 </td> <td>Luther Head            </td> <td>Sacramento Kings         </td> <td>854389  </td> <td>2012  </td>\n",
       "        </tr>\n",
       "        <tr>\n",
       "            <td>409 </td> <td>Coby Karl              </td> <td>Denver Nuggets           </td> <td>854389  </td> <td>2012  </td>\n",
       "        </tr>\n",
       "        <tr>\n",
       "            <td>414 </td> <td>A.J. Price             </td> <td>Indiana Pacers           </td> <td>854389  </td> <td>2012  </td>\n",
       "        </tr>\n",
       "        <tr>\n",
       "            <td>415 </td> <td>Ronnie Price           </td> <td>Phoenix Suns             </td> <td>854389  </td> <td>2012  </td>\n",
       "        </tr>\n",
       "        <tr>\n",
       "            <td>424 </td> <td>Baron Davis            </td> <td>New York Knicks          </td> <td>854389  </td> <td>2012  </td>\n",
       "        </tr>\n",
       "        <tr>\n",
       "            <td>425 </td> <td>Mike Bibby             </td> <td>New York Knicks          </td> <td>854389  </td> <td>2012  </td>\n",
       "        </tr>\n",
       "        <tr>\n",
       "            <td>439 </td> <td>Sundiata Gaines        </td> <td>New Jersey Nets          </td> <td>854389  </td> <td>2012  </td>\n",
       "        </tr>\n",
       "        <tr>\n",
       "            <td>445 </td> <td>T.J. Ford              </td> <td>San Antonio Spurs        </td> <td>854389  </td> <td>2012  </td>\n",
       "        </tr>\n",
       "        <tr>\n",
       "            <td>448 </td> <td>Anthony Carter         </td> <td>Toronto Raptors          </td> <td>854389  </td> <td>2012  </td>\n",
       "        </tr>\n",
       "        <tr>\n",
       "            <td>459 </td> <td>Gary Neal              </td> <td>San Antonio Spurs        </td> <td>854389  </td> <td>2012  </td>\n",
       "        </tr>\n",
       "        <tr>\n",
       "            <td>419 </td> <td>Javaris Crittenton     </td> <td>Washington Wizards       </td> <td>854389  </td> <td>2013  </td>\n",
       "        </tr>\n",
       "        <tr>\n",
       "            <td>432 </td> <td>Royal Ivey             </td> <td>Philadelphia 76ers       </td> <td>854389  </td> <td>2013  </td>\n",
       "        </tr>\n",
       "        <tr>\n",
       "            <td>439 </td> <td>Luther Head            </td> <td>Sacramento Kings         </td> <td>854389  </td> <td>2013  </td>\n",
       "        </tr>\n",
       "        <tr>\n",
       "            <td>442 </td> <td>Coby Karl              </td> <td>Denver Nuggets           </td> <td>854389  </td> <td>2013  </td>\n",
       "        </tr>\n",
       "        <tr>\n",
       "            <td>445 </td> <td>A.J. Price             </td> <td>Washington Wizards       </td> <td>854389  </td> <td>2013  </td>\n",
       "        </tr>\n",
       "        <tr>\n",
       "            <td>456 </td> <td>Baron Davis            </td> <td>New York Knicks          </td> <td>854389  </td> <td>2013  </td>\n",
       "        </tr>\n",
       "        <tr>\n",
       "            <td>457 </td> <td>Mike Bibby             </td> <td>Memphis Grizzlies        </td> <td>854389  </td> <td>2013  </td>\n",
       "        </tr>\n",
       "        <tr>\n",
       "            <td>461 </td> <td>Marko Jaric            </td> <td>Brooklyn Nets            </td> <td>854389  </td> <td>2013  </td>\n",
       "        </tr>\n",
       "        <tr>\n",
       "            <td>473 </td> <td>Sundiata Gaines        </td> <td>Indiana Pacers           </td> <td>854389  </td> <td>2013  </td>\n",
       "        </tr>\n",
       "        <tr>\n",
       "            <td>479 </td> <td>T.J. Ford              </td> <td>Golden State Warriors    </td> <td>854389  </td> <td>2013  </td>\n",
       "        </tr>\n",
       "        <tr>\n",
       "            <td>481 </td> <td>Jonny Flynn            </td> <td>Portland Trail Blazers   </td> <td>854389  </td> <td>2013  </td>\n",
       "        </tr>\n",
       "        <tr>\n",
       "            <td>486 </td> <td>Anthony Carter         </td> <td>Denver Nuggets           </td> <td>854389  </td> <td>2013  </td>\n",
       "        </tr>\n",
       "        <tr>\n",
       "            <td>498 </td> <td>Nate Robinson          </td> <td>Chicago Bulls            </td> <td>854389  </td> <td>2013  </td>\n",
       "        </tr>\n",
       "        <tr>\n",
       "            <td>501 </td> <td>Gary Neal              </td> <td>San Antonio Spurs        </td> <td>854389  </td> <td>2013  </td>\n",
       "        </tr>\n",
       "        <tr>\n",
       "            <td>423 </td> <td>Russ Smith             </td> <td>Memphis Grizzlies        </td> <td>845059  </td> <td>2016  </td>\n",
       "        </tr>\n",
       "        <tr>\n",
       "            <td>424 </td> <td>Jordan Clarkson        </td> <td>Los Angeles Lakers       </td> <td>845059  </td> <td>2016  </td>\n",
       "        </tr>\n",
       "        <tr>\n",
       "            <td>434 </td> <td>Spencer Dinwiddie      </td> <td>Detroit Pistons          </td> <td>845059  </td> <td>2016  </td>\n",
       "        </tr>\n",
       "        <tr>\n",
       "            <td>448 </td> <td>Tim Frazier            </td> <td>Portland Trail Blazers   </td> <td>845059  </td> <td>2016  </td>\n",
       "        </tr>\n",
       "        <tr>\n",
       "            <td>447 </td> <td>Jevon Carter           </td> <td>Memphis Grizzlies        </td> <td>838464  </td> <td>2019  </td>\n",
       "        </tr>\n",
       "        <tr>\n",
       "            <td>457 </td> <td>Brad Wanamaker         </td> <td>Boston Celtics           </td> <td>838464  </td> <td>2019  </td>\n",
       "        </tr>\n",
       "        <tr>\n",
       "            <td>353 </td> <td>Mateen Cleaves         </td> <td>Seattle SuperSonics      </td> <td>835810  </td> <td>2006  </td>\n",
       "        </tr>\n",
       "        <tr>\n",
       "            <td>354 </td> <td>Eddie Gill             </td> <td>Indiana Pacers           </td> <td>835810  </td> <td>2006  </td>\n",
       "        </tr>\n",
       "        <tr>\n",
       "            <td>362 </td> <td>Jason Williams         </td> <td>Orlando Magic            </td> <td>825497  </td> <td>2010  </td>\n",
       "        </tr>\n",
       "        <tr>\n",
       "            <td>367 </td> <td>Kevin Ollie            </td> <td>Oklahoma City Thunder    </td> <td>825497  </td> <td>2010  </td>\n",
       "        </tr>\n",
       "        <tr>\n",
       "            <td>369 </td> <td>Marcus Williams        </td> <td>Memphis Grizzlies        </td> <td>825497  </td> <td>2010  </td>\n",
       "        </tr>\n",
       "        <tr>\n",
       "            <td>370 </td> <td>Luther Head            </td> <td>Indiana Pacers           </td> <td>825497  </td> <td>2010  </td>\n",
       "        </tr>\n",
       "        <tr>\n",
       "            <td>373 </td> <td>Chucky Atkins          </td> <td>Detroit Pistons          </td> <td>825497  </td> <td>2010  </td>\n",
       "        </tr>\n",
       "        <tr>\n",
       "            <td>382 </td> <td>Jason Hart             </td> <td>Minnesota Timberwolves   </td> <td>825497  </td> <td>2010  </td>\n",
       "        </tr>\n",
       "        <tr>\n",
       "            <td>394 </td> <td>Anthony Carter         </td> <td>Denver Nuggets           </td> <td>825497  </td> <td>2010  </td>\n",
       "        </tr>\n",
       "        <tr>\n",
       "            <td>400 </td> <td>Gabe Pruitt            </td> <td>Boston Celtics           </td> <td>825497  </td> <td>2010  </td>\n",
       "        </tr>\n",
       "        <tr>\n",
       "            <td>401 </td> <td>Carlos Arroyo          </td> <td>Miami Heat               </td> <td>825497  </td> <td>2010  </td>\n",
       "        </tr>\n",
       "        <tr>\n",
       "            <td>402 </td> <td>Will Bynum             </td> <td>Detroit Pistons          </td> <td>825497  </td> <td>2010  </td>\n",
       "        </tr>\n",
       "        <tr>\n",
       "            <td>421 </td> <td>Kevin Ollie            </td> <td>Oklahoma City Thunder    </td> <td>825497  </td> <td>2011  </td>\n",
       "        </tr>\n",
       "        <tr>\n",
       "            <td>427 </td> <td>Jason Hart             </td> <td>New Orleans Pelicans     </td> <td>825497  </td> <td>2011  </td>\n",
       "        </tr>\n",
       "        <tr>\n",
       "            <td>432 </td> <td>Gabe Pruitt            </td> <td>Boston Celtics           </td> <td>825497  </td> <td>2011  </td>\n",
       "        </tr>\n",
       "        <tr>\n",
       "            <td>465 </td> <td>Kevin Ollie            </td> <td>Oklahoma City Thunder    </td> <td>825497  </td> <td>2012  </td>\n",
       "        </tr>\n",
       "        <tr>\n",
       "            <td>470 </td> <td>Jason Hart             </td> <td>New Orleans Pelicans     </td> <td>825497  </td> <td>2012  </td>\n",
       "        </tr>\n",
       "        <tr>\n",
       "            <td>475 </td> <td>Gabe Pruitt            </td> <td>Boston Celtics           </td> <td>825497  </td> <td>2012  </td>\n",
       "        </tr>\n",
       "        <tr>\n",
       "            <td>510 </td> <td>Kevin Ollie            </td> <td>Oklahoma City Thunder    </td> <td>825497  </td> <td>2013  </td>\n",
       "        </tr>\n",
       "        <tr>\n",
       "            <td>514 </td> <td>Jason Hart             </td> <td>New Orleans Pelicans     </td> <td>825497  </td> <td>2013  </td>\n",
       "        </tr>\n",
       "        <tr>\n",
       "            <td>354 </td> <td>Sergio Rodriguez       </td> <td>Portland Trail Blazers   </td> <td>817000  </td> <td>2008  </td>\n",
       "        </tr>\n",
       "        <tr>\n",
       "            <td>422 </td> <td>Ray McCallum           </td> <td>Sacramento Kings         </td> <td>816482  </td> <td>2015  </td>\n",
       "        </tr>\n",
       "        <tr>\n",
       "            <td>427 </td> <td>Casper Ware            </td> <td>Washington Wizards       </td> <td>816482  </td> <td>2015  </td>\n",
       "        </tr>\n",
       "        <tr>\n",
       "            <td>428 </td> <td>Nate Wolters           </td> <td>Milwaukee Bucks          </td> <td>816482  </td> <td>2015  </td>\n",
       "        </tr>\n",
       "        <tr>\n",
       "            <td>433 </td> <td>Peyton Siva            </td> <td>Orlando Magic            </td> <td>816482  </td> <td>2015  </td>\n",
       "        </tr>\n",
       "        <tr>\n",
       "            <td>437 </td> <td>Phil Pressey           </td> <td>Boston Celtics           </td> <td>816482  </td> <td>2015  </td>\n",
       "        </tr>\n",
       "        <tr>\n",
       "            <td>444 </td> <td>Matthew Dellavedova    </td> <td>Cleveland Cavaliers      </td> <td>816482  </td> <td>2015  </td>\n",
       "        </tr>\n",
       "        <tr>\n",
       "            <td>498 </td> <td>T.J. Williams          </td> <td>Charlotte Hornets        </td> <td>815615  </td> <td>2018  </td>\n",
       "        </tr>\n",
       "        <tr>\n",
       "            <td>517 </td> <td>Melo Trimble           </td> <td>Minnesota Timberwolves   </td> <td>815615  </td> <td>2018  </td>\n",
       "        </tr>\n",
       "        <tr>\n",
       "            <td>518 </td> <td>JeQuan Lewis           </td> <td>Milwaukee Bucks          </td> <td>815615  </td> <td>2018  </td>\n",
       "        </tr>\n",
       "        <tr>\n",
       "            <td>528 </td> <td>Frank Jackson          </td> <td>New Orleans Pelicans     </td> <td>815615  </td> <td>2018  </td>\n",
       "        </tr>\n",
       "        <tr>\n",
       "            <td>305 </td> <td>Vonteego Cummings      </td> <td>Philadelphia 76ers       </td> <td>810000  </td> <td>2002  </td>\n",
       "        </tr>\n",
       "        <tr>\n",
       "            <td>257 </td> <td>Jamaal Tinsley         </td> <td>Indiana Pacers           </td> <td>805000  </td> <td>2003  </td>\n",
       "        </tr>\n",
       "        <tr>\n",
       "            <td>433 </td> <td>Chris Quinn            </td> <td>San Antonio Spurs        </td> <td>804131  </td> <td>2011  </td>\n",
       "        </tr>\n",
       "        <tr>\n",
       "            <td>478 </td> <td>Chris Quinn            </td> <td>Cleveland Cavaliers      </td> <td>804131  </td> <td>2012  </td>\n",
       "        </tr>\n",
       "        <tr>\n",
       "            <td>356 </td> <td>Smush Parker           </td> <td>Los Angeles Lakers       </td> <td>798112  </td> <td>2007  </td>\n",
       "        </tr>\n",
       "        <tr>\n",
       "            <td>369 </td> <td>Jason Williams         </td> <td>Orlando Magic            </td> <td>797581  </td> <td>2009  </td>\n",
       "        </tr>\n",
       "        <tr>\n",
       "            <td>373 </td> <td>Mike Wilks             </td> <td>Oklahoma City Thunder    </td> <td>797581  </td> <td>2009  </td>\n",
       "        </tr>\n",
       "        <tr>\n",
       "            <td>375 </td> <td>Kevin Ollie            </td> <td>Minnesota Timberwolves   </td> <td>797581  </td> <td>2009  </td>\n",
       "        </tr>\n",
       "        <tr>\n",
       "            <td>380 </td> <td>Dan Dickau             </td> <td>LA Clippers              </td> <td>797581  </td> <td>2009  </td>\n",
       "        </tr>\n",
       "        <tr>\n",
       "            <td>388 </td> <td>John Lucas III         </td> <td>Minnesota Timberwolves   </td> <td>797581  </td> <td>2009  </td>\n",
       "        </tr>\n",
       "        <tr>\n",
       "            <td>390 </td> <td>Shannon Brown          </td> <td>Charlotte Bobcats        </td> <td>797581  </td> <td>2009  </td>\n",
       "        </tr>\n",
       "        <tr>\n",
       "            <td>395 </td> <td>Keith McLeod           </td> <td>Golden State Warriors    </td> <td>797581  </td> <td>2009  </td>\n",
       "        </tr>\n",
       "        <tr>\n",
       "            <td>403 </td> <td>Anthony Carter         </td> <td>Denver Nuggets           </td> <td>797581  </td> <td>2009  </td>\n",
       "        </tr>\n",
       "        <tr>\n",
       "            <td>408 </td> <td>Sam Cassell            </td> <td>Boston Celtics           </td> <td>797581  </td> <td>2009  </td>\n",
       "        </tr>\n",
       "        <tr>\n",
       "            <td>486 </td> <td>Zabian Dowdell         </td> <td>Phoenix Suns             </td> <td>788872  </td> <td>2012  </td>\n",
       "        </tr>\n",
       "        <tr>\n",
       "            <td>528 </td> <td>Zabian Dowdell         </td> <td>Phoenix Suns             </td> <td>788872  </td> <td>2013  </td>\n",
       "        </tr>\n",
       "        <tr>\n",
       "            <td>535 </td> <td>Maalik Wayns           </td> <td>Philadelphia 76ers       </td> <td>788872  </td> <td>2013  </td>\n",
       "        </tr>\n",
       "        <tr>\n",
       "            <td>352 </td> <td>Brian Roberts          </td> <td>New Orleans Pelicans     </td> <td>788872  </td> <td>2014  </td>\n",
       "        </tr>\n",
       "        <tr>\n",
       "            <td>363 </td> <td>Patrick Beverley       </td> <td>Houston Rockets          </td> <td>788872  </td> <td>2014  </td>\n",
       "        </tr>\n",
       "        <tr>\n",
       "            <td>493 </td> <td>Nate Robinson          </td> <td>Golden State Warriors    </td> <td>785487  </td> <td>2012  </td>\n",
       "        </tr>\n",
       "        <tr>\n",
       "            <td>358 </td> <td>Mike Wilks             </td> <td>Seattle SuperSonics      </td> <td>771123  </td> <td>2006  </td>\n",
       "        </tr>\n",
       "        <tr>\n",
       "            <td>359 </td> <td>Jeff McInnis           </td> <td>Charlotte Bobcats        </td> <td>770610  </td> <td>2008  </td>\n",
       "        </tr>\n",
       "        <tr>\n",
       "            <td>364 </td> <td>Darrick Martin         </td> <td>Toronto Raptors          </td> <td>770610  </td> <td>2008  </td>\n",
       "        </tr>\n",
       "        <tr>\n",
       "            <td>367 </td> <td>Royal Ivey             </td> <td>Milwaukee Bucks          </td> <td>770610  </td> <td>2008  </td>\n",
       "        </tr>\n",
       "        <tr>\n",
       "            <td>372 </td> <td>Dan Dickau             </td> <td>LA Clippers              </td> <td>770610  </td> <td>2008  </td>\n",
       "        </tr>\n",
       "        <tr>\n",
       "            <td>377 </td> <td>John Lucas III         </td> <td>Minnesota Timberwolves   </td> <td>770610  </td> <td>2008  </td>\n",
       "        </tr>\n",
       "        <tr>\n",
       "            <td>379 </td> <td>Orien Greene           </td> <td>Sacramento Kings         </td> <td>770610  </td> <td>2008  </td>\n",
       "        </tr>\n",
       "        <tr>\n",
       "            <td>381 </td> <td>Lynn Greer             </td> <td>Milwaukee Bucks          </td> <td>770610  </td> <td>2008  </td>\n",
       "        </tr>\n",
       "        <tr>\n",
       "            <td>385 </td> <td>Daniel Ewing           </td> <td>LA Clippers              </td> <td>770610  </td> <td>2008  </td>\n",
       "        </tr>\n",
       "        <tr>\n",
       "            <td>391 </td> <td>Anthony Carter         </td> <td>Denver Nuggets           </td> <td>770610  </td> <td>2008  </td>\n",
       "        </tr>\n",
       "        <tr>\n",
       "            <td>394 </td> <td>Darrel Armstrong       </td> <td>New Jersey Nets          </td> <td>770610  </td> <td>2008  </td>\n",
       "        </tr>\n",
       "        <tr>\n",
       "            <td>444 </td> <td>A.J. Price             </td> <td>Indiana Pacers           </td> <td>762195  </td> <td>2011  </td>\n",
       "        </tr>\n",
       "        <tr>\n",
       "            <td>507 </td> <td>Isaiah Thomas          </td> <td>Sacramento Kings         </td> <td>762195  </td> <td>2012  </td>\n",
       "        </tr>\n",
       "        <tr>\n",
       "            <td>544 </td> <td>Cory Higgins           </td> <td>Charlotte Bobcats        </td> <td>762195  </td> <td>2013  </td>\n",
       "        </tr>\n",
       "        <tr>\n",
       "            <td>546 </td> <td>Travis Leslie          </td> <td>Utah Jazz                </td> <td>762195  </td> <td>2013  </td>\n",
       "        </tr>\n",
       "        <tr>\n",
       "            <td>549 </td> <td>Jerome Dyson           </td> <td>Phoenix Suns             </td> <td>762195  </td> <td>2013  </td>\n",
       "        </tr>\n",
       "        <tr>\n",
       "            <td>552 </td> <td>Charles Jenkins        </td> <td>Philadelphia 76ers       </td> <td>762195  </td> <td>2013  </td>\n",
       "        </tr>\n",
       "        <tr>\n",
       "            <td>564 </td> <td>Isaiah Thomas          </td> <td>Sacramento Kings         </td> <td>762195  </td> <td>2013  </td>\n",
       "        </tr>\n",
       "        <tr>\n",
       "            <td>565 </td> <td>Courtney Fortson       </td> <td>Houston Rockets          </td> <td>762195  </td> <td>2013  </td>\n",
       "        </tr>\n",
       "        <tr>\n",
       "            <td>569 </td> <td>Josh Selby             </td> <td>Memphis Grizzlies        </td> <td>762195  </td> <td>2013  </td>\n",
       "        </tr>\n",
       "        <tr>\n",
       "            <td>362 </td> <td>Sergio Rodriguez       </td> <td>Portland Trail Blazers   </td> <td>760000  </td> <td>2007  </td>\n",
       "        </tr>\n",
       "        <tr>\n",
       "            <td>292 </td> <td>Vonteego Cummings      </td> <td>Golden State Warriors    </td> <td>757000  </td> <td>2001  </td>\n",
       "        </tr>\n",
       "        <tr>\n",
       "            <td>408 </td> <td>Earl Boykins           </td> <td>Washington Wizards       </td> <td>752659  </td> <td>2010  </td>\n",
       "        </tr>\n",
       "        <tr>\n",
       "            <td>312 </td> <td>Jamaal Tinsley         </td> <td>Indiana Pacers           </td> <td>749000  </td> <td>2002  </td>\n",
       "        </tr>\n",
       "        <tr>\n",
       "            <td>260 </td> <td>Milt Palacio           </td> <td>Cleveland Cavaliers      </td> <td>749000  </td> <td>2003  </td>\n",
       "        </tr>\n",
       "        <tr>\n",
       "            <td>365 </td> <td>Smush Parker           </td> <td>Los Angeles Lakers       </td> <td>745248  </td> <td>2006  </td>\n",
       "        </tr>\n",
       "        <tr>\n",
       "            <td>368 </td> <td>Darrick Martin         </td> <td>Toronto Raptors          </td> <td>744551  </td> <td>2007  </td>\n",
       "        </tr>\n",
       "        <tr>\n",
       "            <td>371 </td> <td>Jacque Vaughn          </td> <td>San Antonio Spurs        </td> <td>744551  </td> <td>2007  </td>\n",
       "        </tr>\n",
       "        <tr>\n",
       "            <td>372 </td> <td>Royal Ivey             </td> <td>Atlanta Hawks            </td> <td>744551  </td> <td>2007  </td>\n",
       "        </tr>\n",
       "        <tr>\n",
       "            <td>373 </td> <td>Mike Wilks             </td> <td>Seattle SuperSonics      </td> <td>744551  </td> <td>2007  </td>\n",
       "        </tr>\n",
       "        <tr>\n",
       "            <td>383 </td> <td>Gary Payton            </td> <td>Miami Heat               </td> <td>744551  </td> <td>2007  </td>\n",
       "        </tr>\n",
       "        <tr>\n",
       "            <td>409 </td> <td>Jamaal Tinsley         </td> <td>Memphis Grizzlies        </td> <td>738091  </td> <td>2010  </td>\n",
       "        </tr>\n",
       "        <tr>\n",
       "            <td>411 </td> <td>Mike Taylor            </td> <td>LA Clippers              </td> <td>736420  </td> <td>2010  </td>\n",
       "        </tr>\n",
       "        <tr>\n",
       "            <td>422 </td> <td>Bobby Brown            </td> <td>LA Clippers              </td> <td>736420  </td> <td>2010  </td>\n",
       "        </tr>\n",
       "        <tr>\n",
       "            <td>456 </td> <td>Mike Taylor            </td> <td>LA Clippers              </td> <td>736420  </td> <td>2011  </td>\n",
       "        </tr>\n",
       "        <tr>\n",
       "            <td>519 </td> <td>Mike Taylor            </td> <td>LA Clippers              </td> <td>736420  </td> <td>2012  </td>\n",
       "        </tr>\n",
       "        <tr>\n",
       "            <td>575 </td> <td>Mike Taylor            </td> <td>LA Clippers              </td> <td>736420  </td> <td>2013  </td>\n",
       "        </tr>\n",
       "        <tr>\n",
       "            <td>474 </td> <td>Spencer Dinwiddie      </td> <td>Brooklyn Nets            </td> <td>726672  </td> <td>2017  </td>\n",
       "        </tr>\n",
       "        <tr>\n",
       "            <td>369 </td> <td>Nick Van Exel          </td> <td>San Antonio Spurs        </td> <td>719373  </td> <td>2006  </td>\n",
       "        </tr>\n",
       "        <tr>\n",
       "            <td>373 </td> <td>Rick Brunson           </td> <td>Seattle SuperSonics      </td> <td>719373  </td> <td>2006  </td>\n",
       "        </tr>\n",
       "        <tr>\n",
       "            <td>378 </td> <td>Gary Payton            </td> <td>Miami Heat               </td> <td>719373  </td> <td>2006  </td>\n",
       "        </tr>\n",
       "        <tr>\n",
       "            <td>382 </td> <td>Darrel Armstrong       </td> <td>Dallas Mavericks         </td> <td>719373  </td> <td>2006  </td>\n",
       "        </tr>\n",
       "        <tr>\n",
       "            <td>369 </td> <td>Diante Garrett         </td> <td>Utah Jazz                </td> <td>719266  </td> <td>2014  </td>\n",
       "        </tr>\n",
       "        <tr>\n",
       "            <td>299 </td> <td>Damon Jones            </td> <td>Vancouver Grizzlies      </td> <td>714000  </td> <td>2001  </td>\n",
       "        </tr>\n",
       "        <tr>\n",
       "            <td>422 </td> <td>Will Solomon           </td> <td>Toronto Raptors          </td> <td>711517  </td> <td>2009  </td>\n",
       "        </tr>\n",
       "        <tr>\n",
       "            <td>423 </td> <td>Coby Karl              </td> <td>Denver Nuggets           </td> <td>711517  </td> <td>2009  </td>\n",
       "        </tr>\n",
       "        <tr>\n",
       "            <td>424 </td> <td>C.J. Watson            </td> <td>Golden State Warriors    </td> <td>711517  </td> <td>2009  </td>\n",
       "        </tr>\n",
       "        <tr>\n",
       "            <td>429 </td> <td>JamesOn Curry          </td> <td>LA Clippers              </td> <td>711517  </td> <td>2009  </td>\n",
       "        </tr>\n",
       "        <tr>\n",
       "            <td>434 </td> <td>Taurean Green          </td> <td>Denver Nuggets           </td> <td>711517  </td> <td>2009  </td>\n",
       "        </tr>\n",
       "        <tr>\n",
       "            <td>436 </td> <td>Dee Brown              </td> <td>Washington Wizards       </td> <td>711517  </td> <td>2009  </td>\n",
       "        </tr>\n",
       "        <tr>\n",
       "            <td>438 </td> <td>Gabe Pruitt            </td> <td>Boston Celtics           </td> <td>711517  </td> <td>2009  </td>\n",
       "        </tr>\n",
       "        <tr>\n",
       "            <td>440 </td> <td>Will Bynum             </td> <td>Detroit Pistons          </td> <td>711517  </td> <td>2009  </td>\n",
       "        </tr>\n",
       "        <tr>\n",
       "            <td>453 </td> <td>Bryce Cotton           </td> <td>Memphis Grizzlies        </td> <td>700902  </td> <td>2016  </td>\n",
       "        </tr>\n",
       "        <tr>\n",
       "            <td>262 </td> <td>Jacque Vaughn          </td> <td>Orlando Magic            </td> <td>700000  </td> <td>2003  </td>\n",
       "        </tr>\n",
       "        <tr>\n",
       "            <td>263 </td> <td>Earl Boykins           </td> <td>Golden State Warriors    </td> <td>700000  </td> <td>2003  </td>\n",
       "        </tr>\n",
       "        <tr>\n",
       "            <td>391 </td> <td>John Lucas III         </td> <td>Houston Rockets          </td> <td>700000  </td> <td>2007  </td>\n",
       "        </tr>\n",
       "        <tr>\n",
       "            <td>456 </td> <td>Spencer Dinwiddie      </td> <td>Detroit Pistons          </td> <td>700000  </td> <td>2015  </td>\n",
       "        </tr>\n",
       "        <tr>\n",
       "            <td>383 </td> <td>Jermaine Jackson       </td> <td>Milwaukee Bucks          </td> <td>696508  </td> <td>2006  </td>\n",
       "        </tr>\n",
       "        <tr>\n",
       "            <td>400 </td> <td>Eddie Gill             </td> <td>Seattle SuperSonics      </td> <td>693549  </td> <td>2008  </td>\n",
       "        </tr>\n",
       "        <tr>\n",
       "            <td>318 </td> <td>Milt Palacio           </td> <td>Phoenix Suns             </td> <td>690000  </td> <td>2002  </td>\n",
       "        </tr>\n",
       "        <tr>\n",
       "            <td>411 </td> <td>Will Conroy            </td> <td>Minnesota Timberwolves   </td> <td>687456  </td> <td>2008  </td>\n",
       "        </tr>\n",
       "        <tr>\n",
       "            <td>418 </td> <td>J.J. Barea             </td> <td>Dallas Mavericks         </td> <td>687456  </td> <td>2008  </td>\n",
       "        </tr>\n",
       "        <tr>\n",
       "            <td>419 </td> <td>Chris Quinn            </td> <td>Miami Heat               </td> <td>687456  </td> <td>2008  </td>\n",
       "        </tr>\n",
       "        <tr>\n",
       "            <td>475 </td> <td>Bobby Brown            </td> <td>Houston Rockets          </td> <td>680534  </td> <td>2017  </td>\n",
       "        </tr>\n",
       "        <tr>\n",
       "            <td>430 </td> <td>Mike Wilks             </td> <td>Oklahoma City Thunder    </td> <td>679821  </td> <td>2010  </td>\n",
       "        </tr>\n",
       "        <tr>\n",
       "            <td>465 </td> <td>Mike Wilks             </td> <td>Oklahoma City Thunder    </td> <td>679821  </td> <td>2011  </td>\n",
       "        </tr>\n",
       "        <tr>\n",
       "            <td>526 </td> <td>Mike Wilks             </td> <td>Oklahoma City Thunder    </td> <td>679821  </td> <td>2012  </td>\n",
       "        </tr>\n",
       "        <tr>\n",
       "            <td>582 </td> <td>Mike Wilks             </td> <td>Oklahoma City Thunder    </td> <td>679821  </td> <td>2013  </td>\n",
       "        </tr>\n",
       "        <tr>\n",
       "            <td>302 </td> <td>Darrick Martin         </td> <td>Sacramento Kings         </td> <td>673000  </td> <td>2001  </td>\n",
       "        </tr>\n",
       "        <tr>\n",
       "            <td>394 </td> <td>Donell Taylor          </td> <td>Washington Wizards       </td> <td>664209  </td> <td>2007  </td>\n",
       "        </tr>\n",
       "        <tr>\n",
       "            <td>397 </td> <td>Travis Diener          </td> <td>Orlando Magic            </td> <td>664209  </td> <td>2007  </td>\n",
       "        </tr>\n",
       "        <tr>\n",
       "            <td>399 </td> <td>Ronnie Price           </td> <td>Sacramento Kings         </td> <td>664209  </td> <td>2007  </td>\n",
       "        </tr>\n",
       "        <tr>\n",
       "            <td>406 </td> <td>Orien Greene           </td> <td>Indiana Pacers           </td> <td>664209  </td> <td>2007  </td>\n",
       "        </tr>\n",
       "        <tr>\n",
       "            <td>407 </td> <td>Lynn Greer             </td> <td>Milwaukee Bucks          </td> <td>664209  </td> <td>2007  </td>\n",
       "        </tr>\n",
       "        <tr>\n",
       "            <td>409 </td> <td>Daniel Ewing           </td> <td>LA Clippers              </td> <td>664209  </td> <td>2007  </td>\n",
       "        </tr>\n",
       "        <tr>\n",
       "            <td>374 </td> <td>D.J. Augustin          </td> <td>Toronto Raptors          </td> <td>650215  </td> <td>2014  </td>\n",
       "        </tr>\n",
       "        <tr>\n",
       "            <td>320 </td> <td>Earl Boykins           </td> <td>LA Clippers              </td> <td>650000  </td> <td>2002  </td>\n",
       "        </tr>\n",
       "        <tr>\n",
       "            <td>422 </td> <td>Gabe Pruitt            </td> <td>Boston Celtics           </td> <td>650000  </td> <td>2008  </td>\n",
       "        </tr>\n",
       "        <tr>\n",
       "            <td>387 </td> <td>Antonio Burks          </td> <td>Memphis Grizzlies        </td> <td>641748  </td> <td>2006  </td>\n",
       "        </tr>\n",
       "        <tr>\n",
       "            <td>389 </td> <td>Royal Ivey             </td> <td>Atlanta Hawks            </td> <td>641748  </td> <td>2006  </td>\n",
       "        </tr>\n",
       "        <tr>\n",
       "            <td>458 </td> <td>Gal Mekel              </td> <td>New Orleans Pelicans     </td> <td>633974  </td> <td>2015  </td>\n",
       "        </tr>\n",
       "        <tr>\n",
       "            <td>470 </td> <td>Acie Law               </td> <td>Memphis Grizzlies        </td> <td>633253  </td> <td>2011  </td>\n",
       "        </tr>\n",
       "        <tr>\n",
       "            <td>530 </td> <td>Acie Law               </td> <td>Golden State Warriors    </td> <td>633253  </td> <td>2012  </td>\n",
       "        </tr>\n",
       "        <tr>\n",
       "            <td>586 </td> <td>Acie Law               </td> <td>Golden State Warriors    </td> <td>633253  </td> <td>2013  </td>\n",
       "        </tr>\n",
       "        <tr>\n",
       "            <td>460 </td> <td>Brandon Goodwin        </td> <td>Denver Nuggets           </td> <td>630032  </td> <td>2019  </td>\n",
       "        </tr>\n",
       "        <tr>\n",
       "            <td>323 </td> <td>Rafer Alston           </td> <td>Milwaukee Bucks          </td> <td>625000  </td> <td>2002  </td>\n",
       "        </tr>\n",
       "        <tr>\n",
       "            <td>326 </td> <td>Kevin Ollie            </td> <td>Indiana Pacers           </td> <td>591000  </td> <td>2002  </td>\n",
       "        </tr>\n",
       "        <tr>\n",
       "            <td>328 </td> <td>Rick Brunson           </td> <td>Portland Trail Blazers   </td> <td>591000  </td> <td>2002  </td>\n",
       "        </tr>\n",
       "        <tr>\n",
       "            <td>334 </td> <td>Erick Strickland       </td> <td>Boston Celtics           </td> <td>591000  </td> <td>2002  </td>\n",
       "        </tr>\n",
       "        <tr>\n",
       "            <td>336 </td> <td>Rod Strickland         </td> <td>Miami Heat               </td> <td>591000  </td> <td>2002  </td>\n",
       "        </tr>\n",
       "        <tr>\n",
       "            <td>337 </td> <td>Troy Hudson            </td> <td>Orlando Magic            </td> <td>591000  </td> <td>2002  </td>\n",
       "        </tr>\n",
       "        <tr>\n",
       "            <td>343 </td> <td>Jeff McInnis           </td> <td>LA Clippers              </td> <td>590000  </td> <td>2002  </td>\n",
       "        </tr>\n",
       "        <tr>\n",
       "            <td>344 </td> <td>Darrick Martin         </td> <td>Dallas Mavericks         </td> <td>590000  </td> <td>2002  </td>\n",
       "        </tr>\n",
       "        <tr>\n",
       "            <td>345 </td> <td>Jacque Vaughn          </td> <td>Atlanta Hawks            </td> <td>590000  </td> <td>2002  </td>\n",
       "        </tr>\n",
       "        <tr>\n",
       "            <td>351 </td> <td>Damon Jones            </td> <td>Detroit Pistons          </td> <td>566000  </td> <td>2002  </td>\n",
       "        </tr>\n",
       "        <tr>\n",
       "            <td>510 </td> <td>Chris Clemons          </td> <td>Houston Rockets          </td> <td>563347  </td> <td>2020  </td>\n",
       "        </tr>\n",
       "        <tr>\n",
       "            <td>427 </td> <td>Beno Udrih             </td> <td>Sacramento Kings         </td> <td>561544  </td> <td>2008  </td>\n",
       "        </tr>\n",
       "        <tr>\n",
       "            <td>306 </td> <td>Shammond Williams      </td> <td>Seattle SuperSonics      </td> <td>550000  </td> <td>2001  </td>\n",
       "        </tr>\n",
       "        <tr>\n",
       "            <td>531 </td> <td>Josh Selby             </td> <td>Memphis Grizzlies        </td> <td>550000  </td> <td>2012  </td>\n",
       "        </tr>\n",
       "        <tr>\n",
       "            <td>379 </td> <td>Kendall Marshall       </td> <td>Los Angeles Lakers       </td> <td>547570  </td> <td>2014  </td>\n",
       "        </tr>\n",
       "        <tr>\n",
       "            <td>501 </td> <td>Semaj Christon         </td> <td>Oklahoma City Thunder    </td> <td>543471  </td> <td>2017  </td>\n",
       "        </tr>\n",
       "        <tr>\n",
       "            <td>512 </td> <td>Anthony Barber         </td> <td>Philadelphia 76ers       </td> <td>543471  </td> <td>2017  </td>\n",
       "        </tr>\n",
       "        <tr>\n",
       "            <td>522 </td> <td>Julian Jacobs          </td> <td>Los Angeles Lakers       </td> <td>543471  </td> <td>2017  </td>\n",
       "        </tr>\n",
       "        <tr>\n",
       "            <td>533 </td> <td>Trey Freeman           </td> <td>Detroit Pistons          </td> <td>543471  </td> <td>2017  </td>\n",
       "        </tr>\n",
       "        <tr>\n",
       "            <td>540 </td> <td>D'Vauntes Smith-Rivera </td> <td>Chicago Bulls            </td> <td>543471  </td> <td>2017  </td>\n",
       "        </tr>\n",
       "        <tr>\n",
       "            <td>541 </td> <td>Shaquille Harrison     </td> <td>Chicago Bulls            </td> <td>543471  </td> <td>2017  </td>\n",
       "        </tr>\n",
       "        <tr>\n",
       "            <td>542 </td> <td>Ryan Arcidiacono       </td> <td>Chicago Bulls            </td> <td>543471  </td> <td>2017  </td>\n",
       "        </tr>\n",
       "        <tr>\n",
       "            <td>549 </td> <td>Anthony Barber         </td> <td>Philadelphia 76ers       </td> <td>543471  </td> <td>2018  </td>\n",
       "        </tr>\n",
       "        <tr>\n",
       "            <td>555 </td> <td>Julian Jacobs          </td> <td>Los Angeles Lakers       </td> <td>543471  </td> <td>2018  </td>\n",
       "        </tr>\n",
       "        <tr>\n",
       "            <td>562 </td> <td>Trey Freeman           </td> <td>Detroit Pistons          </td> <td>543471  </td> <td>2018  </td>\n",
       "        </tr>\n",
       "        <tr>\n",
       "            <td>566 </td> <td>D'Vauntes Smith-Rivera </td> <td>Chicago Bulls            </td> <td>543471  </td> <td>2018  </td>\n",
       "        </tr>\n",
       "        <tr>\n",
       "            <td>428 </td> <td>Juan Carlos Navarro    </td> <td>Memphis Grizzlies        </td> <td>538090  </td> <td>2008  </td>\n",
       "        </tr>\n",
       "        <tr>\n",
       "            <td>463 </td> <td>Deonte Burton          </td> <td>Phoenix Suns             </td> <td>525093  </td> <td>2016  </td>\n",
       "        </tr>\n",
       "        <tr>\n",
       "            <td>466 </td> <td>Scottie Wilbekin       </td> <td>Philadelphia 76ers       </td> <td>525093  </td> <td>2016  </td>\n",
       "        </tr>\n",
       "        <tr>\n",
       "            <td>473 </td> <td>Corey Hawkins          </td> <td>Miami Heat               </td> <td>525093  </td> <td>2016  </td>\n",
       "        </tr>\n",
       "        <tr>\n",
       "            <td>476 </td> <td>T.J. McConnell         </td> <td>Philadelphia 76ers       </td> <td>525093  </td> <td>2016  </td>\n",
       "        </tr>\n",
       "        <tr>\n",
       "            <td>478 </td> <td>Marcelinho Huertas     </td> <td>Los Angeles Lakers       </td> <td>525093  </td> <td>2016  </td>\n",
       "        </tr>\n",
       "        <tr>\n",
       "            <td>484 </td> <td>Pierre Jackson         </td> <td>Dallas Mavericks         </td> <td>525093  </td> <td>2016  </td>\n",
       "        </tr>\n",
       "        <tr>\n",
       "            <td>487 </td> <td>Bo McCalebb            </td> <td>New Orleans Pelicans     </td> <td>525093  </td> <td>2016  </td>\n",
       "        </tr>\n",
       "        <tr>\n",
       "            <td>473 </td> <td>Gary Neal              </td> <td>San Antonio Spurs        </td> <td>525000  </td> <td>2011  </td>\n",
       "        </tr>\n",
       "        <tr>\n",
       "            <td>474 </td> <td>Jason Williams         </td> <td>Memphis Grizzlies        </td> <td>524964  </td> <td>2011  </td>\n",
       "        </tr>\n",
       "        <tr>\n",
       "            <td>534 </td> <td>Jason Williams         </td> <td>Orlando Magic            </td> <td>524964  </td> <td>2012  </td>\n",
       "        </tr>\n",
       "        <tr>\n",
       "            <td>593 </td> <td>Jason Williams         </td> <td>Orlando Magic            </td> <td>524964  </td> <td>2013  </td>\n",
       "        </tr>\n",
       "        <tr>\n",
       "            <td>382 </td> <td>Ray McCallum           </td> <td>Sacramento Kings         </td> <td>524616  </td> <td>2014  </td>\n",
       "        </tr>\n",
       "        <tr>\n",
       "            <td>321 </td> <td>Jeff McInnis           </td> <td>Los Angeles Clippers     </td> <td>523000  </td> <td>2001  </td>\n",
       "        </tr>\n",
       "        <tr>\n",
       "            <td>323 </td> <td>Troy Hudson            </td> <td>Orlando Magic            </td> <td>523000  </td> <td>2001  </td>\n",
       "        </tr>\n",
       "        <tr>\n",
       "            <td>324 </td> <td>Moochie Norris         </td> <td>Houston Rockets          </td> <td>523000  </td> <td>2001  </td>\n",
       "        </tr>\n",
       "        <tr>\n",
       "            <td>512 </td> <td>Brandon Goodwin        </td> <td>Atlanta Hawks            </td> <td>522738  </td> <td>2020  </td>\n",
       "        </tr>\n",
       "        <tr>\n",
       "            <td>535 </td> <td>Ish Smith              </td> <td>Orlando Magic            </td> <td>522472  </td> <td>2012  </td>\n",
       "        </tr>\n",
       "        <tr>\n",
       "            <td>513 </td> <td>Reggie Jackson         </td> <td>LA Clippers              </td> <td>512721  </td> <td>2020  </td>\n",
       "        </tr>\n",
       "        <tr>\n",
       "            <td>273 </td> <td>Gilbert Arenas         </td> <td>Golden State Warriors    </td> <td>512000  </td> <td>2003  </td>\n",
       "        </tr>\n",
       "        <tr>\n",
       "            <td>276 </td> <td>Jamison Brewer         </td> <td>Indiana Pacers           </td> <td>512000  </td> <td>2003  </td>\n",
       "        </tr>\n",
       "        <tr>\n",
       "            <td>460 </td> <td>Russ Smith             </td> <td>Memphis Grizzlies        </td> <td>507336  </td> <td>2015  </td>\n",
       "        </tr>\n",
       "        <tr>\n",
       "            <td>464 </td> <td>Jordan Clarkson        </td> <td>Los Angeles Lakers       </td> <td>507336  </td> <td>2015  </td>\n",
       "        </tr>\n",
       "        <tr>\n",
       "            <td>465 </td> <td>Erick Green            </td> <td>Denver Nuggets           </td> <td>507336  </td> <td>2015  </td>\n",
       "        </tr>\n",
       "        <tr>\n",
       "            <td>475 </td> <td>Keith Appling          </td> <td>Orlando Magic            </td> <td>507336  </td> <td>2015  </td>\n",
       "        </tr>\n",
       "        <tr>\n",
       "            <td>483 </td> <td>Pierre Jackson         </td> <td>Dallas Mavericks         </td> <td>507336  </td> <td>2015  </td>\n",
       "        </tr>\n",
       "        <tr>\n",
       "            <td>327 </td> <td>Rick Brunson           </td> <td>New York Knicks          </td> <td>507000  </td> <td>2001  </td>\n",
       "        </tr>\n",
       "        <tr>\n",
       "            <td>595 </td> <td>Mike James             </td> <td>Dallas Mavericks         </td> <td>502581  </td> <td>2013  </td>\n",
       "        </tr>\n",
       "        <tr>\n",
       "            <td>451 </td> <td>Mike Taylor            </td> <td>LA Clippers              </td> <td>500000  </td> <td>2009  </td>\n",
       "        </tr>\n",
       "        <tr>\n",
       "            <td>536 </td> <td>Travis Leslie          </td> <td>LA Clippers              </td> <td>500000  </td> <td>2012  </td>\n",
       "        </tr>\n",
       "        <tr>\n",
       "            <td>384 </td> <td>Nate Wolters           </td> <td>Milwaukee Bucks          </td> <td>500000  </td> <td>2014  </td>\n",
       "        </tr>\n",
       "        <tr>\n",
       "            <td>389 </td> <td>Peyton Siva            </td> <td>Detroit Pistons          </td> <td>490180  </td> <td>2014  </td>\n",
       "        </tr>\n",
       "        <tr>\n",
       "            <td>394 </td> <td>Phil Pressey           </td> <td>Boston Celtics           </td> <td>490180  </td> <td>2014  </td>\n",
       "        </tr>\n",
       "        <tr>\n",
       "            <td>398 </td> <td>Matthew Dellavedova    </td> <td>Cleveland Cavaliers      </td> <td>490180  </td> <td>2014  </td>\n",
       "        </tr>\n",
       "        <tr>\n",
       "            <td>401 </td> <td>Gal Mekel              </td> <td>Dallas Mavericks         </td> <td>490180  </td> <td>2014  </td>\n",
       "        </tr>\n",
       "        <tr>\n",
       "            <td>435 </td> <td>Rafer Alston           </td> <td>New Jersey Nets          </td> <td>475875  </td> <td>2010  </td>\n",
       "        </tr>\n",
       "        <tr>\n",
       "            <td>479 </td> <td>Sherron Collins        </td> <td>Charlotte Bobcats        </td> <td>473604  </td> <td>2011  </td>\n",
       "        </tr>\n",
       "        <tr>\n",
       "            <td>482 </td> <td>Ish Smith              </td> <td>Memphis Grizzlies        </td> <td>473604  </td> <td>2011  </td>\n",
       "        </tr>\n",
       "        <tr>\n",
       "            <td>484 </td> <td>Pooh Jeter             </td> <td>Sacramento Kings         </td> <td>473604  </td> <td>2011  </td>\n",
       "        </tr>\n",
       "        <tr>\n",
       "            <td>488 </td> <td>Armon Johnson          </td> <td>Portland Trail Blazers   </td> <td>473604  </td> <td>2011  </td>\n",
       "        </tr>\n",
       "        <tr>\n",
       "            <td>494 </td> <td>Patrick Beverley       </td> <td>LA Clippers              </td> <td>473604  </td> <td>2011  </td>\n",
       "        </tr>\n",
       "        <tr>\n",
       "            <td>498 </td> <td>Ben Uzoh               </td> <td>New Jersey Nets          </td> <td>473604  </td> <td>2011  </td>\n",
       "        </tr>\n",
       "        <tr>\n",
       "            <td>499 </td> <td>Manny Harris           </td> <td>Cleveland Cavaliers      </td> <td>473604  </td> <td>2011  </td>\n",
       "        </tr>\n",
       "        <tr>\n",
       "            <td>539 </td> <td>Cory Higgins           </td> <td>Charlotte Bobcats        </td> <td>473604  </td> <td>2012  </td>\n",
       "        </tr>\n",
       "        <tr>\n",
       "            <td>541 </td> <td>Sherron Collins        </td> <td>Charlotte Hornets        </td> <td>473604  </td> <td>2012  </td>\n",
       "        </tr>\n",
       "        <tr>\n",
       "            <td>545 </td> <td>Pooh Jeter             </td> <td>Sacramento Kings         </td> <td>473604  </td> <td>2012  </td>\n",
       "        </tr>\n",
       "        <tr>\n",
       "            <td>547 </td> <td>Charles Jenkins        </td> <td>Golden State Warriors    </td> <td>473604  </td> <td>2012  </td>\n",
       "        </tr>\n",
       "        <tr>\n",
       "            <td>558 </td> <td>Patrick Beverley       </td> <td>LA Clippers              </td> <td>473604  </td> <td>2012  </td>\n",
       "        </tr>\n",
       "        <tr>\n",
       "            <td>559 </td> <td>Andrew Goudelock       </td> <td>Los Angeles Lakers       </td> <td>473604  </td> <td>2012  </td>\n",
       "        </tr>\n",
       "        <tr>\n",
       "            <td>563 </td> <td>Tyshawn Taylor         </td> <td>New Orleans Pelicans     </td> <td>473604  </td> <td>2012  </td>\n",
       "        </tr>\n",
       "        <tr>\n",
       "            <td>568 </td> <td>Carldell Johnson       </td> <td>New Orleans Hornets      </td> <td>473604  </td> <td>2012  </td>\n",
       "        </tr>\n",
       "        <tr>\n",
       "            <td>599 </td> <td>Brian Roberts          </td> <td>New Orleans Hornets      </td> <td>473604  </td> <td>2013  </td>\n",
       "        </tr>\n",
       "        <tr>\n",
       "            <td>600 </td> <td>Sherron Collins        </td> <td>Charlotte Hornets        </td> <td>473604  </td> <td>2013  </td>\n",
       "        </tr>\n",
       "        <tr>\n",
       "            <td>601 </td> <td>Josh Akognon           </td> <td>Dallas Mavericks         </td> <td>473604  </td> <td>2013  </td>\n",
       "        </tr>\n",
       "        <tr>\n",
       "            <td>606 </td> <td>Pooh Jeter             </td> <td>Sacramento Kings         </td> <td>473604  </td> <td>2013  </td>\n",
       "        </tr>\n",
       "        <tr>\n",
       "            <td>607 </td> <td>Diante Garrett         </td> <td>Phoenix Suns             </td> <td>473604  </td> <td>2013  </td>\n",
       "        </tr>\n",
       "        <tr>\n",
       "            <td>614 </td> <td>Oscar Bellfield        </td> <td>New York Knicks          </td> <td>473604  </td> <td>2013  </td>\n",
       "        </tr>\n",
       "        <tr>\n",
       "            <td>615 </td> <td>Chris Smith            </td> <td>New York Knicks          </td> <td>473604  </td> <td>2013  </td>\n",
       "        </tr>\n",
       "        <tr>\n",
       "            <td>619 </td> <td>Stephen Dennis         </td> <td>Brooklyn Nets            </td> <td>473604  </td> <td>2013  </td>\n",
       "        </tr>\n",
       "        <tr>\n",
       "            <td>632 </td> <td>Pablo Prigioni         </td> <td>New York Knicks          </td> <td>473604  </td> <td>2013  </td>\n",
       "        </tr>\n",
       "        <tr>\n",
       "            <td>637 </td> <td>Ben Hansbrough         </td> <td>Indiana Pacers           </td> <td>473604  </td> <td>2013  </td>\n",
       "        </tr>\n",
       "        <tr>\n",
       "            <td>641 </td> <td>Tyshawn Taylor         </td> <td>Brooklyn Nets            </td> <td>473604  </td> <td>2013  </td>\n",
       "        </tr>\n",
       "        <tr>\n",
       "            <td>646 </td> <td>Carldell Johnson       </td> <td>Atlanta Hawks            </td> <td>473604  </td> <td>2013  </td>\n",
       "        </tr>\n",
       "        <tr>\n",
       "            <td>376 </td> <td>Jason Hart             </td> <td>San Antonio Spurs        </td> <td>465000  </td> <td>2002  </td>\n",
       "        </tr>\n",
       "        <tr>\n",
       "            <td>379 </td> <td>Eddie Gill             </td> <td>Memphis Grizzlies        </td> <td>465000  </td> <td>2002  </td>\n",
       "        </tr>\n",
       "        <tr>\n",
       "            <td>438 </td> <td>Patty Mills            </td> <td>Portland Trail Blazers   </td> <td>457588  </td> <td>2010  </td>\n",
       "        </tr>\n",
       "        <tr>\n",
       "            <td>441 </td> <td>A.J. Price             </td> <td>Indiana Pacers           </td> <td>457588  </td> <td>2010  </td>\n",
       "        </tr>\n",
       "        <tr>\n",
       "            <td>405 </td> <td>Daniel Ewing           </td> <td>LA Clippers              </td> <td>450000  </td> <td>2006  </td>\n",
       "        </tr>\n",
       "        <tr>\n",
       "            <td>461 </td> <td>Sean Singletary        </td> <td>Charlotte Bobcats        </td> <td>442114  </td> <td>2009  </td>\n",
       "        </tr>\n",
       "        <tr>\n",
       "            <td>469 </td> <td>Bobby Brown            </td> <td>Sacramento Kings         </td> <td>442114  </td> <td>2009  </td>\n",
       "        </tr>\n",
       "        <tr>\n",
       "            <td>425 </td> <td>Taurean Green          </td> <td>Denver Nuggets           </td> <td>427163  </td> <td>2007  </td>\n",
       "        </tr>\n",
       "        <tr>\n",
       "            <td>436 </td> <td>Mustafa Shakur         </td> <td>Sacramento Kings         </td> <td>427163  </td> <td>2008  </td>\n",
       "        </tr>\n",
       "        <tr>\n",
       "            <td>438 </td> <td>Coby Karl              </td> <td>Los Angeles Lakers       </td> <td>427163  </td> <td>2008  </td>\n",
       "        </tr>\n",
       "        <tr>\n",
       "            <td>448 </td> <td>JamesOn Curry          </td> <td>Chicago Bulls            </td> <td>427163  </td> <td>2008  </td>\n",
       "        </tr>\n",
       "        <tr>\n",
       "            <td>453 </td> <td>Taurean Green          </td> <td>Portland Trail Blazers   </td> <td>427163  </td> <td>2008  </td>\n",
       "        </tr>\n",
       "        <tr>\n",
       "            <td>336 </td> <td>Rafer Alston           </td> <td>Milwaukee Bucks          </td> <td>423000  </td> <td>2001  </td>\n",
       "        </tr>\n",
       "        <tr>\n",
       "            <td>448 </td> <td>J.J. Barea             </td> <td>Dallas Mavericks         </td> <td>412718  </td> <td>2007  </td>\n",
       "        </tr>\n",
       "        <tr>\n",
       "            <td>449 </td> <td>Dee Brown              </td> <td>Utah Jazz                </td> <td>412718  </td> <td>2007  </td>\n",
       "        </tr>\n",
       "        <tr>\n",
       "            <td>450 </td> <td>Chris Quinn            </td> <td>Miami Heat               </td> <td>412718  </td> <td>2007  </td>\n",
       "        </tr>\n",
       "        <tr>\n",
       "            <td>409 </td> <td>Kevin Burleson         </td> <td>Charlotte Bobcats        </td> <td>398762  </td> <td>2006  </td>\n",
       "        </tr>\n",
       "        <tr>\n",
       "            <td>412 </td> <td>Travis Diener          </td> <td>Orlando Magic            </td> <td>398762  </td> <td>2006  </td>\n",
       "        </tr>\n",
       "        <tr>\n",
       "            <td>414 </td> <td>Ronnie Price           </td> <td>Sacramento Kings         </td> <td>398762  </td> <td>2006  </td>\n",
       "        </tr>\n",
       "        <tr>\n",
       "            <td>421 </td> <td>Orien Greene           </td> <td>Boston Celtics           </td> <td>398762  </td> <td>2006  </td>\n",
       "        </tr>\n",
       "        <tr>\n",
       "            <td>435 </td> <td>Donell Taylor          </td> <td>Washington Wizards       </td> <td>398672  </td> <td>2006  </td>\n",
       "        </tr>\n",
       "        <tr>\n",
       "            <td>551 </td> <td>Toney Douglas          </td> <td>Memphis Grizzlies        </td> <td>379159  </td> <td>2017  </td>\n",
       "        </tr>\n",
       "        <tr>\n",
       "            <td>573 </td> <td>Toney Douglas          </td> <td>Memphis Grizzlies        </td> <td>379159  </td> <td>2018  </td>\n",
       "        </tr>\n",
       "        <tr>\n",
       "            <td>576 </td> <td>Walker Russell Jr.     </td> <td>Detroit Pistons          </td> <td>374300  </td> <td>2012  </td>\n",
       "        </tr>\n",
       "        <tr>\n",
       "            <td>652 </td> <td>Walker Russell Jr.     </td> <td>Oklahoma City Thunder    </td> <td>374300  </td> <td>2013  </td>\n",
       "        </tr>\n",
       "        <tr>\n",
       "            <td>340 </td> <td>Kevin Ollie            </td> <td>Philadelphia 76ers       </td> <td>363000  </td> <td>2001  </td>\n",
       "        </tr>\n",
       "        <tr>\n",
       "            <td>522 </td> <td>Ky Bowman              </td> <td>Golden State Warriors    </td> <td>350189  </td> <td>2020  </td>\n",
       "        </tr>\n",
       "        <tr>\n",
       "            <td>462 </td> <td>Earl Boykins           </td> <td>Charlotte Bobcats        </td> <td>349041  </td> <td>2008  </td>\n",
       "        </tr>\n",
       "        <tr>\n",
       "            <td>463 </td> <td>Damon Stoudamire       </td> <td>Memphis Grizzlies        </td> <td>335442  </td> <td>2008  </td>\n",
       "        </tr>\n",
       "        <tr>\n",
       "            <td>390 </td> <td>Gilbert Arenas         </td> <td>Golden State Warriors    </td> <td>333000  </td> <td>2002  </td>\n",
       "        </tr>\n",
       "        <tr>\n",
       "            <td>392 </td> <td>Earl Watson            </td> <td>Seattle SuperSonics      </td> <td>333000  </td> <td>2002  </td>\n",
       "        </tr>\n",
       "        <tr>\n",
       "            <td>396 </td> <td>Jamison Brewer         </td> <td>Indiana Pacers           </td> <td>333000  </td> <td>2002  </td>\n",
       "        </tr>\n",
       "        <tr>\n",
       "            <td>398 </td> <td>Tierre Brown           </td> <td>Houston Rockets          </td> <td>333000  </td> <td>2002  </td>\n",
       "        </tr>\n",
       "        <tr>\n",
       "            <td>404 </td> <td>Carlos Arroyo          </td> <td>Toronto Raptors          </td> <td>333000  </td> <td>2002  </td>\n",
       "        </tr>\n",
       "        <tr>\n",
       "            <td>409 </td> <td>Will Solomon           </td> <td>Memphis Grizzlies        </td> <td>332000  </td> <td>2002  </td>\n",
       "        </tr>\n",
       "        <tr>\n",
       "            <td>341 </td> <td>Milt Palacio           </td> <td>Boston Celtics           </td> <td>326000  </td> <td>2001  </td>\n",
       "        </tr>\n",
       "        <tr>\n",
       "            <td>346 </td> <td>Jason Hart             </td> <td>Milwaukee Bucks          </td> <td>316000  </td> <td>2001  </td>\n",
       "        </tr>\n",
       "        <tr>\n",
       "            <td>458 </td> <td>Junior Harrington      </td> <td>Memphis Grizzlies        </td> <td>302200  </td> <td>2007  </td>\n",
       "        </tr>\n",
       "        <tr>\n",
       "            <td>157 </td> <td>Rafer Alston           </td> <td>Milwaukee Bucks          </td> <td>301000  </td> <td>2000  </td>\n",
       "        </tr>\n",
       "        <tr>\n",
       "            <td>575 </td> <td>Derrick Rose           </td> <td>Minnesota Timberwolves   </td> <td>290951  </td> <td>2018  </td>\n",
       "        </tr>\n",
       "        <tr>\n",
       "            <td>655 </td> <td>Patrick Beverley       </td> <td>Houston Rockets          </td> <td>281376  </td> <td>2013  </td>\n",
       "        </tr>\n",
       "        <tr>\n",
       "            <td>554 </td> <td>Ronnie Price           </td> <td>Phoenix Suns             </td> <td>276828  </td> <td>2017  </td>\n",
       "        </tr>\n",
       "        <tr>\n",
       "            <td>475 </td> <td>Jaylen Adams           </td> <td>Atlanta Hawks            </td> <td>270014  </td> <td>2019  </td>\n",
       "        </tr>\n",
       "        <tr>\n",
       "            <td>499 </td> <td>John Lucas III         </td> <td>Detroit Pistons          </td> <td>269189  </td> <td>2015  </td>\n",
       "        </tr>\n",
       "        <tr>\n",
       "            <td>456 </td> <td>Sundiata Gaines        </td> <td>Utah Jazz                </td> <td>269169  </td> <td>2010  </td>\n",
       "        </tr>\n",
       "        <tr>\n",
       "            <td>656 </td> <td>Jeremy Pargo           </td> <td>Philadelphia 76ers       </td> <td>264527  </td> <td>2013  </td>\n",
       "        </tr>\n",
       "        <tr>\n",
       "            <td>580 </td> <td>Gilbert Arenas         </td> <td>Memphis Grizzlies        </td> <td>261829  </td> <td>2012  </td>\n",
       "        </tr>\n",
       "        <tr>\n",
       "            <td>657 </td> <td>Gilbert Arenas         </td> <td>Memphis Grizzlies        </td> <td>261829  </td> <td>2013  </td>\n",
       "        </tr>\n",
       "        <tr>\n",
       "            <td>658 </td> <td>Derek Fisher           </td> <td>Oklahoma City Thunder    </td> <td>261343  </td> <td>2013  </td>\n",
       "        </tr>\n",
       "        <tr>\n",
       "            <td>555 </td> <td>Deron Williams         </td> <td>Dallas Mavericks         </td> <td>259526  </td> <td>2017  </td>\n",
       "        </tr>\n",
       "        <tr>\n",
       "            <td>582 </td> <td>Manny Harris           </td> <td>Cleveland Cavaliers      </td> <td>252016  </td> <td>2012  </td>\n",
       "        </tr>\n",
       "        <tr>\n",
       "            <td>659 </td> <td>Manny Harris           </td> <td>Dallas Mavericks         </td> <td>252016  </td> <td>2013  </td>\n",
       "        </tr>\n",
       "        <tr>\n",
       "            <td>466 </td> <td>C.J. Watson            </td> <td>Golden State Warriors    </td> <td>251272  </td> <td>2008  </td>\n",
       "        </tr>\n",
       "        <tr>\n",
       "            <td>498 </td> <td>Andre Miller           </td> <td>San Antonio Spurs        </td> <td>250750  </td> <td>2016  </td>\n",
       "        </tr>\n",
       "        <tr>\n",
       "            <td>362 </td> <td>Anthony Goldwire       </td> <td>Denver Nuggets           </td> <td>243000  </td> <td>2001  </td>\n",
       "        </tr>\n",
       "        <tr>\n",
       "            <td>416 </td> <td>Mike James             </td> <td>Miami Heat               </td> <td>237000  </td> <td>2002  </td>\n",
       "        </tr>\n",
       "        <tr>\n",
       "            <td>512 </td> <td>Mustafa Shakur         </td> <td>Washington Wizards       </td> <td>226162  </td> <td>2011  </td>\n",
       "        </tr>\n",
       "        <tr>\n",
       "            <td>586 </td> <td>Mustafa Shakur         </td> <td>Oklahoma City Thunder    </td> <td>226162  </td> <td>2012  </td>\n",
       "        </tr>\n",
       "        <tr>\n",
       "            <td>663 </td> <td>Mustafa Shakur         </td> <td>Oklahoma City Thunder    </td> <td>226162  </td> <td>2013  </td>\n",
       "        </tr>\n",
       "        <tr>\n",
       "            <td>587 </td> <td>Earl Boykins           </td> <td>Houston Rockets          </td> <td>220487  </td> <td>2012  </td>\n",
       "        </tr>\n",
       "        <tr>\n",
       "            <td>588 </td> <td>Mike James             </td> <td>Chicago Bulls            </td> <td>220487  </td> <td>2012  </td>\n",
       "        </tr>\n",
       "        <tr>\n",
       "            <td>664 </td> <td>Earl Boykins           </td> <td>Houston Rockets          </td> <td>220487  </td> <td>2013  </td>\n",
       "        </tr>\n",
       "        <tr>\n",
       "            <td>514 </td> <td>Mike Bibby             </td> <td>Washington Wizards       </td> <td>216110  </td> <td>2011  </td>\n",
       "        </tr>\n",
       "        <tr>\n",
       "            <td>590 </td> <td>Patty Mills            </td> <td>San Antonio Spurs        </td> <td>213517  </td> <td>2012  </td>\n",
       "        </tr>\n",
       "        <tr>\n",
       "            <td>458 </td> <td>Travis Diener          </td> <td>Portland Trail Blazers   </td> <td>208802  </td> <td>2010  </td>\n",
       "        </tr>\n",
       "        <tr>\n",
       "            <td>520 </td> <td>Travis Diener          </td> <td>Portland Trail Blazers   </td> <td>208802  </td> <td>2011  </td>\n",
       "        </tr>\n",
       "        <tr>\n",
       "            <td>592 </td> <td>Travis Diener          </td> <td>Portland Trail Blazers   </td> <td>208802  </td> <td>2012  </td>\n",
       "        </tr>\n",
       "        <tr>\n",
       "            <td>666 </td> <td>Travis Diener          </td> <td>Portland Trail Blazers   </td> <td>208802  </td> <td>2013  </td>\n",
       "        </tr>\n",
       "        <tr>\n",
       "            <td>563 </td> <td>Yogi Ferrell           </td> <td>Brooklyn Nets            </td> <td>207798  </td> <td>2017  </td>\n",
       "        </tr>\n",
       "        <tr>\n",
       "            <td>506 </td> <td>Andrew Goudelock       </td> <td>Houston Rockets          </td> <td>200600  </td> <td>2016  </td>\n",
       "        </tr>\n",
       "        <tr>\n",
       "            <td>473 </td> <td>Sam Cassell            </td> <td>LA Clippers              </td> <td>199452  </td> <td>2008  </td>\n",
       "        </tr>\n",
       "        <tr>\n",
       "            <td>474 </td> <td>Tyronn Lue             </td> <td>Sacramento Kings         </td> <td>199452  </td> <td>2008  </td>\n",
       "        </tr>\n",
       "        <tr>\n",
       "            <td>462 </td> <td>Jason Hart             </td> <td>Sacramento Kings         </td> <td>197087  </td> <td>2007  </td>\n",
       "        </tr>\n",
       "        <tr>\n",
       "            <td>478 </td> <td>Tim Frazier            </td> <td>Milwaukee Bucks          </td> <td>196553  </td> <td>2019  </td>\n",
       "        </tr>\n",
       "        <tr>\n",
       "            <td>522 </td> <td>Carlos Arroyo          </td> <td>Miami Heat               </td> <td>196007  </td> <td>2011  </td>\n",
       "        </tr>\n",
       "        <tr>\n",
       "            <td>595 </td> <td>Carlos Arroyo          </td> <td>Boston Celtics           </td> <td>196007  </td> <td>2012  </td>\n",
       "        </tr>\n",
       "        <tr>\n",
       "            <td>596 </td> <td>Ben Uzoh               </td> <td>Toronto Raptors          </td> <td>190548  </td> <td>2012  </td>\n",
       "        </tr>\n",
       "        <tr>\n",
       "            <td>668 </td> <td>Ben Uzoh               </td> <td>Denver Nuggets           </td> <td>190548  </td> <td>2013  </td>\n",
       "        </tr>\n",
       "        <tr>\n",
       "            <td>414 </td> <td>Shannon Brown          </td> <td>San Antonio Spurs        </td> <td>188438  </td> <td>2014  </td>\n",
       "        </tr>\n",
       "        <tr>\n",
       "            <td>523 </td> <td>Zabian Dowdell         </td> <td>Phoenix Suns             </td> <td>186656  </td> <td>2011  </td>\n",
       "        </tr>\n",
       "        <tr>\n",
       "            <td>475 </td> <td>Smush Parker           </td> <td>Miami Heat               </td> <td>181320  </td> <td>2008  </td>\n",
       "        </tr>\n",
       "        <tr>\n",
       "            <td>580 </td> <td>Shaquille Harrison     </td> <td>Phoenix Suns             </td> <td>175000  </td> <td>2018  </td>\n",
       "        </tr>\n",
       "        <tr>\n",
       "            <td>671 </td> <td>Chris Quinn            </td> <td>Cleveland Cavaliers      </td> <td>169340  </td> <td>2013  </td>\n",
       "        </tr>\n",
       "        <tr>\n",
       "            <td>524 </td> <td>Jannero Pargo          </td> <td>Charlotte Hornets        </td> <td>168579  </td> <td>2011  </td>\n",
       "        </tr>\n",
       "        <tr>\n",
       "            <td>598 </td> <td>Courtney Fortson       </td> <td>LA Clippers              </td> <td>156595  </td> <td>2012  </td>\n",
       "        </tr>\n",
       "        <tr>\n",
       "            <td>526 </td> <td>John Lucas III         </td> <td>Chicago Bulls            </td> <td>130165  </td> <td>2011  </td>\n",
       "        </tr>\n",
       "        <tr>\n",
       "            <td>570 </td> <td>Ray McCallum           </td> <td>Charlotte Hornets        </td> <td>121112  </td> <td>2017  </td>\n",
       "        </tr>\n",
       "        <tr>\n",
       "            <td>582 </td> <td>Ray McCallum           </td> <td>Charlotte Hornets        </td> <td>121112  </td> <td>2018  </td>\n",
       "        </tr>\n",
       "        <tr>\n",
       "            <td>573 </td> <td>Manny Harris           </td> <td>Dallas Mavericks         </td> <td>115344  </td> <td>2017  </td>\n",
       "        </tr>\n",
       "        <tr>\n",
       "            <td>583 </td> <td>Manny Harris           </td> <td>Dallas Mavericks         </td> <td>115344  </td> <td>2018  </td>\n",
       "        </tr>\n",
       "        <tr>\n",
       "            <td>529 </td> <td>Sundiata Gaines        </td> <td>Toronto Raptors          </td> <td>112088  </td> <td>2011  </td>\n",
       "        </tr>\n",
       "        <tr>\n",
       "            <td>511 </td> <td>Toney Douglas          </td> <td>New Orleans Pelicans     </td> <td>107676  </td> <td>2015  </td>\n",
       "        </tr>\n",
       "        <tr>\n",
       "            <td>514 </td> <td>Nate Robinson          </td> <td>LA Clippers              </td> <td>107676  </td> <td>2015  </td>\n",
       "        </tr>\n",
       "        <tr>\n",
       "            <td>602 </td> <td>Armon Johnson          </td> <td>Portland Trail Blazers   </td> <td>104494  </td> <td>2012  </td>\n",
       "        </tr>\n",
       "        <tr>\n",
       "            <td>677 </td> <td>Armon Johnson          </td> <td>Brooklyn Nets            </td> <td>104494  </td> <td>2013  </td>\n",
       "        </tr>\n",
       "        <tr>\n",
       "            <td>514 </td> <td>Erick Green            </td> <td>Utah Jazz                </td> <td>99418   </td> <td>2016  </td>\n",
       "        </tr>\n",
       "        <tr>\n",
       "            <td>517 </td> <td>Bryce Cotton           </td> <td>Utah Jazz                </td> <td>92514   </td> <td>2015  </td>\n",
       "        </tr>\n",
       "        <tr>\n",
       "            <td>483 </td> <td>Chris Chiozza          </td> <td>Houston Rockets          </td> <td>90005   </td> <td>2019  </td>\n",
       "        </tr>\n",
       "        <tr>\n",
       "            <td>365 </td> <td>Doug Overton           </td> <td>New Jersey Nets          </td> <td>90000   </td> <td>2001  </td>\n",
       "        </tr>\n",
       "        <tr>\n",
       "            <td>682 </td> <td>Keyon Dooling          </td> <td>Memphis Grizzlies        </td> <td>75387   </td> <td>2013  </td>\n",
       "        </tr>\n",
       "        <tr>\n",
       "            <td>608 </td> <td>Jerome Dyson           </td> <td>New Orleans Hornets      </td> <td>64930   </td> <td>2012  </td>\n",
       "        </tr>\n",
       "        <tr>\n",
       "            <td>516 </td> <td>Keith Appling          </td> <td>Orlando Magic            </td> <td>61776   </td> <td>2016  </td>\n",
       "        </tr>\n",
       "        <tr>\n",
       "            <td>487 </td> <td>Michael Carter-Williams</td> <td>Orlando Magic            </td> <td>59820   </td> <td>2019  </td>\n",
       "        </tr>\n",
       "        <tr>\n",
       "            <td>520 </td> <td>Tim Frazier            </td> <td>Portland Trail Blazers   </td> <td>59686   </td> <td>2015  </td>\n",
       "        </tr>\n",
       "        <tr>\n",
       "            <td>424 </td> <td>Mike James             </td> <td>Chicago Bulls            </td> <td>57627   </td> <td>2014  </td>\n",
       "        </tr>\n",
       "        <tr>\n",
       "            <td>468 </td> <td>Will Conroy            </td> <td>Memphis Grizzlies        </td> <td>55839   </td> <td>2007  </td>\n",
       "        </tr>\n",
       "        <tr>\n",
       "            <td>518 </td> <td>Phil Pressey           </td> <td>Phoenix Suns             </td> <td>55722   </td> <td>2016  </td>\n",
       "        </tr>\n",
       "        <tr>\n",
       "            <td>522 </td> <td>A.J. Price             </td> <td>Phoenix Suns             </td> <td>53838   </td> <td>2015  </td>\n",
       "        </tr>\n",
       "        <tr>\n",
       "            <td>485 </td> <td>Eddie Gill             </td> <td>Milwaukee Bucks          </td> <td>46917   </td> <td>2009  </td>\n",
       "        </tr>\n",
       "        <tr>\n",
       "            <td>474 </td> <td>Mustafa Shakur         </td> <td>Oklahoma City Thunder    </td> <td>40375   </td> <td>2010  </td>\n",
       "        </tr>\n",
       "        <tr>\n",
       "            <td>469 </td> <td>Anthony Carter         </td> <td>Denver Nuggets           </td> <td>37620   </td> <td>2007  </td>\n",
       "        </tr>\n",
       "        <tr>\n",
       "            <td>587 </td> <td>Gary Payton II         </td> <td>Milwaukee Bucks          </td> <td>35116   </td> <td>2017  </td>\n",
       "        </tr>\n",
       "        <tr>\n",
       "            <td>369 </td> <td>Eddie Gill             </td> <td>New Jersey Nets          </td> <td>34000   </td> <td>2001  </td>\n",
       "        </tr>\n",
       "        <tr>\n",
       "            <td>589 </td> <td>Pierre Jackson         </td> <td>Dallas Mavericks         </td> <td>31969   </td> <td>2017  </td>\n",
       "        </tr>\n",
       "        <tr>\n",
       "            <td>595 </td> <td>Pierre Jackson         </td> <td>Dallas Mavericks         </td> <td>31969   </td> <td>2018  </td>\n",
       "        </tr>\n",
       "        <tr>\n",
       "            <td>697 </td> <td>Chris Wright           </td> <td>Dallas Mavericks         </td> <td>27859   </td> <td>2013  </td>\n",
       "        </tr>\n",
       "        <tr>\n",
       "            <td>478 </td> <td>Coby Karl              </td> <td>Golden State Warriors    </td> <td>17328   </td> <td>2010  </td>\n",
       "        </tr>\n",
       "        <tr>\n",
       "            <td>592 </td> <td>Quinn Cook             </td> <td>Dallas Mavericks         </td> <td>15984   </td> <td>2017  </td>\n",
       "        </tr>\n",
       "    </tbody>\n",
       "</table>"
      ]
     },
     "metadata": {},
     "output_type": "display_data"
    }
   ],
   "execution_count": 155
  },
  {
   "cell_type": "code",
   "metadata": {
    "id": "XGs9dipuzIXz",
    "colab": {
     "base_uri": "https://localhost:8080/",
     "height": 549
    },
    "executionInfo": {
     "status": "ok",
     "timestamp": 1678949083142,
     "user_tz": -540,
     "elapsed": 537,
     "user": {
      "displayName": "이명호",
      "userId": "12463539480991451694"
     }
    },
    "outputId": "e4f89291-2b31-4d20-b2b7-a7c5d32a5f34",
    "ExecuteTime": {
     "end_time": "2024-04-09T13:06:36.032234Z",
     "start_time": "2024-04-09T13:06:36.029694Z"
    }
   },
   "source": [
    "point_guards.sort('salary', descending=True).show(15)"
   ],
   "outputs": [
    {
     "data": {
      "text/plain": [
       "<IPython.core.display.HTML object>"
      ],
      "text/html": [
       "<table border=\"1\" class=\"dataframe\">\n",
       "    <thead>\n",
       "        <tr>\n",
       "            <th>rank</th> <th>name</th> <th>SALARY</th> <th>salary</th> <th>season</th>\n",
       "        </tr>\n",
       "    </thead>\n",
       "    <tbody>\n",
       "        <tr>\n",
       "            <td>1   </td> <td>Stephen Curry    </td> <td>Golden State Warriors</td> <td>40231758</td> <td>2020  </td>\n",
       "        </tr>\n",
       "        <tr>\n",
       "            <td>2   </td> <td>Chris Paul       </td> <td>Oklahoma City Thunder</td> <td>38506482</td> <td>2020  </td>\n",
       "        </tr>\n",
       "        <tr>\n",
       "            <td>3   </td> <td>Russell Westbrook</td> <td>Houston Rockets      </td> <td>38506482</td> <td>2020  </td>\n",
       "        </tr>\n",
       "        <tr>\n",
       "            <td>4   </td> <td>John Wall        </td> <td>Washington Wizards   </td> <td>38199000</td> <td>2020  </td>\n",
       "        </tr>\n",
       "        <tr>\n",
       "            <td>1   </td> <td>Stephen Curry    </td> <td>Golden State Warriors</td> <td>37457154</td> <td>2018  </td>\n",
       "        </tr>\n",
       "        <tr>\n",
       "            <td>1   </td> <td>Stephen Curry    </td> <td>Golden State Warriors</td> <td>37457154</td> <td>2019  </td>\n",
       "        </tr>\n",
       "        <tr>\n",
       "            <td>2   </td> <td>Chris Paul       </td> <td>Houston Rockets      </td> <td>35654150</td> <td>2019  </td>\n",
       "        </tr>\n",
       "        <tr>\n",
       "            <td>4   </td> <td>Russell Westbrook</td> <td>Oklahoma City Thunder</td> <td>35654150</td> <td>2019  </td>\n",
       "        </tr>\n",
       "        <tr>\n",
       "            <td>8   </td> <td>Kyle Lowry       </td> <td>Toronto Raptors      </td> <td>34996296</td> <td>2020  </td>\n",
       "        </tr>\n",
       "        <tr>\n",
       "            <td>14  </td> <td>Kemba Walker     </td> <td>Boston Celtics       </td> <td>32742000</td> <td>2020  </td>\n",
       "        </tr>\n",
       "        <tr>\n",
       "            <td>16  </td> <td>Mike Conley      </td> <td>Utah Jazz            </td> <td>32511624</td> <td>2020  </td>\n",
       "        </tr>\n",
       "        <tr>\n",
       "            <td>17  </td> <td>Kyrie Irving     </td> <td>Brooklyn Nets        </td> <td>31742000</td> <td>2020  </td>\n",
       "        </tr>\n",
       "        <tr>\n",
       "            <td>4   </td> <td>Kyle Lowry       </td> <td>Toronto Raptors      </td> <td>31200000</td> <td>2018  </td>\n",
       "        </tr>\n",
       "        <tr>\n",
       "            <td>7   </td> <td>Kyle Lowry       </td> <td>Toronto Raptors      </td> <td>31200000</td> <td>2019  </td>\n",
       "        </tr>\n",
       "        <tr>\n",
       "            <td>9   </td> <td>Mike Conley      </td> <td>Memphis Grizzlies    </td> <td>30521115</td> <td>2019  </td>\n",
       "        </tr>\n",
       "    </tbody>\n",
       "</table>\n",
       "<p>... (1460 rows omitted)</p>"
      ]
     },
     "metadata": {},
     "output_type": "display_data"
    }
   ],
   "execution_count": 151
  },
  {
   "cell_type": "code",
   "source": [
    "nba.where('position')"
   ],
   "metadata": {
    "id": "ztyqwkUTzXzH",
    "colab": {
     "base_uri": "https://localhost:8080/",
     "height": 392
    },
    "executionInfo": {
     "status": "ok",
     "timestamp": 1678949109895,
     "user_tz": -540,
     "elapsed": 316,
     "user": {
      "displayName": "이명호",
      "userId": "12463539480991451694"
     }
    },
    "outputId": "34fa5d46-3442-49c4-c72e-90fe381a5884",
    "ExecuteTime": {
     "end_time": "2024-04-09T12:59:49.580274Z",
     "start_time": "2024-04-09T12:59:49.577169Z"
    }
   },
   "outputs": [
    {
     "data": {
      "text/plain": [
       "rank | name             | position | SALARY                 | salary   | season\n",
       "1    | Shaquille O'Neal | C        | Los Angeles Lakers     | 17142000 | 2000\n",
       "2    | Kevin Garnett    | PF       | Minnesota Timberwolves | 16806000 | 2000\n",
       "3    | Alonzo Mourning  | C        | Miami Heat             | 15004000 | 2000\n",
       "4    | Juwan Howard     | PF       | Washington Wizards     | 15000000 | 2000\n",
       "5    | Scottie Pippen   | SF       | Portland Trail Blazers | 14795000 | 2000\n",
       "6    | Karl Malone      | PF       | Utah Jazz              | 14000000 | 2000\n",
       "7    | Larry Johnson    | F        | New York Knicks        | 11910000 | 2000\n",
       "8    | Gary Payton      | PG       | Seattle SuperSonics    | 11020000 | 2000\n",
       "9    | Rasheed Wallace  | PF       | Portland Trail Blazers | 10800000 | 2000\n",
       "10   | Shawn Kemp       | C        | Cleveland Cavaliers    | 10780000 | 2000\n",
       "... (9446 rows omitted)"
      ],
      "text/html": [
       "<table border=\"1\" class=\"dataframe\">\n",
       "    <thead>\n",
       "        <tr>\n",
       "            <th>rank</th> <th>name</th> <th>position</th> <th>SALARY</th> <th>salary</th> <th>season</th>\n",
       "        </tr>\n",
       "    </thead>\n",
       "    <tbody>\n",
       "        <tr>\n",
       "            <td>1   </td> <td>Shaquille O'Neal</td> <td>C       </td> <td>Los Angeles Lakers    </td> <td>17142000</td> <td>2000  </td>\n",
       "        </tr>\n",
       "        <tr>\n",
       "            <td>2   </td> <td>Kevin Garnett   </td> <td>PF      </td> <td>Minnesota Timberwolves</td> <td>16806000</td> <td>2000  </td>\n",
       "        </tr>\n",
       "        <tr>\n",
       "            <td>3   </td> <td>Alonzo Mourning </td> <td>C       </td> <td>Miami Heat            </td> <td>15004000</td> <td>2000  </td>\n",
       "        </tr>\n",
       "        <tr>\n",
       "            <td>4   </td> <td>Juwan Howard    </td> <td>PF      </td> <td>Washington Wizards    </td> <td>15000000</td> <td>2000  </td>\n",
       "        </tr>\n",
       "        <tr>\n",
       "            <td>5   </td> <td>Scottie Pippen  </td> <td>SF      </td> <td>Portland Trail Blazers</td> <td>14795000</td> <td>2000  </td>\n",
       "        </tr>\n",
       "        <tr>\n",
       "            <td>6   </td> <td>Karl Malone     </td> <td>PF      </td> <td>Utah Jazz             </td> <td>14000000</td> <td>2000  </td>\n",
       "        </tr>\n",
       "        <tr>\n",
       "            <td>7   </td> <td>Larry Johnson   </td> <td>F       </td> <td>New York Knicks       </td> <td>11910000</td> <td>2000  </td>\n",
       "        </tr>\n",
       "        <tr>\n",
       "            <td>8   </td> <td>Gary Payton     </td> <td>PG      </td> <td>Seattle SuperSonics   </td> <td>11020000</td> <td>2000  </td>\n",
       "        </tr>\n",
       "        <tr>\n",
       "            <td>9   </td> <td>Rasheed Wallace </td> <td>PF      </td> <td>Portland Trail Blazers</td> <td>10800000</td> <td>2000  </td>\n",
       "        </tr>\n",
       "        <tr>\n",
       "            <td>10  </td> <td>Shawn Kemp      </td> <td>C       </td> <td>Cleveland Cavaliers   </td> <td>10780000</td> <td>2000  </td>\n",
       "        </tr>\n",
       "    </tbody>\n",
       "</table>\n",
       "<p>... (9446 rows omitted)</p>"
      ]
     },
     "execution_count": 147,
     "metadata": {},
     "output_type": "execute_result"
    }
   ],
   "execution_count": 147
  },
  {
   "cell_type": "code",
   "metadata": {
    "id": "r0rbhFwszIXz",
    "colab": {
     "base_uri": "https://localhost:8080/",
     "height": 378
    },
    "executionInfo": {
     "status": "error",
     "timestamp": 1678949129141,
     "user_tz": -540,
     "elapsed": 302,
     "user": {
      "displayName": "이명호",
      "userId": "12463539480991451694"
     }
    },
    "outputId": "89fa2dc1-a473-46ca-ce01-6899b69d45c8",
    "ExecuteTime": {
     "end_time": "2024-04-09T13:07:12.301348Z",
     "start_time": "2024-04-09T13:07:12.294578Z"
    }
   },
   "source": "nba.where('position', 'PG').drop('position')",
   "outputs": [
    {
     "data": {
      "text/plain": [
       "rank | name             | SALARY                 | salary   | season\n",
       "8    | Gary Payton      | Seattle SuperSonics    | 11020000 | 2000\n",
       "11   | Damon Stoudamire | Portland Trail Blazers | 10125000 | 2000\n",
       "20   | Stephon Marbury  | New Jersey Nets        | 9000000  | 2000\n",
       "24   | Nick Van Exel    | Denver Nuggets         | 8354000  | 2000\n",
       "26   | Terrell Brandon  | Minnesota Timberwolves | 7400000  | 2000\n",
       "34   | Jason Kidd       | Phoenix Suns           | 6858000  | 2000\n",
       "35   | Kenny Anderson   | Boston Celtics         | 6680000  | 2000\n",
       "39   | Steve Nash       | Dallas Mavericks       | 5500000  | 2000\n",
       "55   | Charlie Ward     | New York Knicks        | 4540000  | 2000\n",
       "61   | Darrel Armstrong | Orlando Magic          | 4125000  | 2000\n",
       "... (1465 rows omitted)"
      ],
      "text/html": [
       "<table border=\"1\" class=\"dataframe\">\n",
       "    <thead>\n",
       "        <tr>\n",
       "            <th>rank</th> <th>name</th> <th>SALARY</th> <th>salary</th> <th>season</th>\n",
       "        </tr>\n",
       "    </thead>\n",
       "    <tbody>\n",
       "        <tr>\n",
       "            <td>8   </td> <td>Gary Payton     </td> <td>Seattle SuperSonics   </td> <td>11020000</td> <td>2000  </td>\n",
       "        </tr>\n",
       "        <tr>\n",
       "            <td>11  </td> <td>Damon Stoudamire</td> <td>Portland Trail Blazers</td> <td>10125000</td> <td>2000  </td>\n",
       "        </tr>\n",
       "        <tr>\n",
       "            <td>20  </td> <td>Stephon Marbury </td> <td>New Jersey Nets       </td> <td>9000000 </td> <td>2000  </td>\n",
       "        </tr>\n",
       "        <tr>\n",
       "            <td>24  </td> <td>Nick Van Exel   </td> <td>Denver Nuggets        </td> <td>8354000 </td> <td>2000  </td>\n",
       "        </tr>\n",
       "        <tr>\n",
       "            <td>26  </td> <td>Terrell Brandon </td> <td>Minnesota Timberwolves</td> <td>7400000 </td> <td>2000  </td>\n",
       "        </tr>\n",
       "        <tr>\n",
       "            <td>34  </td> <td>Jason Kidd      </td> <td>Phoenix Suns          </td> <td>6858000 </td> <td>2000  </td>\n",
       "        </tr>\n",
       "        <tr>\n",
       "            <td>35  </td> <td>Kenny Anderson  </td> <td>Boston Celtics        </td> <td>6680000 </td> <td>2000  </td>\n",
       "        </tr>\n",
       "        <tr>\n",
       "            <td>39  </td> <td>Steve Nash      </td> <td>Dallas Mavericks      </td> <td>5500000 </td> <td>2000  </td>\n",
       "        </tr>\n",
       "        <tr>\n",
       "            <td>55  </td> <td>Charlie Ward    </td> <td>New York Knicks       </td> <td>4540000 </td> <td>2000  </td>\n",
       "        </tr>\n",
       "        <tr>\n",
       "            <td>61  </td> <td>Darrel Armstrong</td> <td>Orlando Magic         </td> <td>4125000 </td> <td>2000  </td>\n",
       "        </tr>\n",
       "    </tbody>\n",
       "</table>\n",
       "<p>... (1465 rows omitted)</p>"
      ]
     },
     "execution_count": 153,
     "metadata": {},
     "output_type": "execute_result"
    }
   ],
   "execution_count": 153
  },
  {
   "metadata": {
    "ExecuteTime": {
     "end_time": "2024-04-09T12:59:49.800240Z",
     "start_time": "2024-04-09T12:59:49.798924Z"
    }
   },
   "cell_type": "code",
   "source": "",
   "outputs": [],
   "execution_count": 148
  },
  {
   "metadata": {
    "ExecuteTime": {
     "end_time": "2024-04-09T12:59:49.849285Z",
     "start_time": "2024-04-09T12:59:49.848057Z"
    }
   },
   "cell_type": "code",
   "source": "",
   "outputs": [],
   "execution_count": 148
  },
  {
   "metadata": {},
   "cell_type": "code",
   "outputs": [],
   "execution_count": null,
   "source": ""
  }
 ],
 "metadata": {
  "anaconda-cloud": {},
  "kernelspec": {
   "display_name": "Python 3 (ipykernel)",
   "language": "python",
   "name": "python3"
  },
  "language_info": {
   "codemirror_mode": {
    "name": "ipython",
    "version": 3
   },
   "file_extension": ".py",
   "mimetype": "text/x-python",
   "name": "python",
   "nbconvert_exporter": "python",
   "pygments_lexer": "ipython3",
   "version": "3.9.7"
  },
  "colab": {
   "provenance": []
  }
 },
 "nbformat": 4,
 "nbformat_minor": 0
}
