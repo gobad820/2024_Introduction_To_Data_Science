{
 "cells": [
  {
   "cell_type": "markdown",
   "source": [],
   "metadata": {
    "collapsed": false
   }
  },
  {
   "cell_type": "code",
   "execution_count": 73,
   "metadata": {
    "id": "q7rgyVXGzIXt",
    "executionInfo": {
     "status": "ok",
     "timestamp": 1678947506793,
     "user_tz": -540,
     "elapsed": 3009,
     "user": {
      "displayName": "이명호",
      "userId": "12463539480991451694"
     }
    },
    "ExecuteTime": {
     "end_time": "2024-03-25T08:25:00.168729Z",
     "start_time": "2024-03-25T08:25:00.166184Z"
    }
   },
   "outputs": [],
   "source": [
    "from datascience import *\n",
    "import numpy as np\n"
   ]
  },
  {
   "cell_type": "markdown",
   "metadata": {
    "id": "QikFNXHlzIXu"
   },
   "source": [
    "## Words of Caution ##\n",
    "- Remember to run the cell above. It's for setting up the environment so you can have access to what's needed for this lecture. For now, don't worry about what it means: we'll learn more about what's inside of it in the next few lectures.\n",
    "- Data science is not just about code, so please don't go over this notebook by itself. Have the relevant textbook sections or lecture video at hand so that you can go over the discussion along with the code. Thank you! "
   ]
  },
  {
   "cell_type": "markdown",
   "metadata": {
    "id": "XvDQ02vqzIXv"
   },
   "source": [
    "## Python ##"
   ]
  },
  {
   "cell_type": "code",
   "execution_count": 2,
   "metadata": {
    "scrolled": true,
    "id": "uo8yTUj2zIXv",
    "colab": {
     "base_uri": "https://localhost:8080/"
    },
    "executionInfo": {
     "status": "ok",
     "timestamp": 1678947519432,
     "user_tz": -540,
     "elapsed": 430,
     "user": {
      "displayName": "이명호",
      "userId": "12463539480991451694"
     }
    },
    "outputId": "928f6b99-b993-46ff-847a-201307563b75",
    "ExecuteTime": {
     "end_time": "2024-03-25T07:57:02.896051Z",
     "start_time": "2024-03-25T07:57:02.892868Z"
    }
   },
   "outputs": [
    {
     "data": {
      "text/plain": "11"
     },
     "execution_count": 2,
     "metadata": {},
     "output_type": "execute_result"
    }
   ],
   "source": [
    "2 + 9"
   ]
  },
  {
   "cell_type": "code",
   "execution_count": 3,
   "metadata": {
    "id": "j7bpcL8CzIXv",
    "colab": {
     "base_uri": "https://localhost:8080/"
    },
    "executionInfo": {
     "status": "ok",
     "timestamp": 1678947522507,
     "user_tz": -540,
     "elapsed": 4,
     "user": {
      "displayName": "이명호",
      "userId": "12463539480991451694"
     }
    },
    "outputId": "41c222d9-2a30-42d6-ff76-70d192bfbe15",
    "ExecuteTime": {
     "end_time": "2024-03-25T07:57:02.898369Z",
     "start_time": "2024-03-25T07:57:02.896484Z"
    }
   },
   "outputs": [
    {
     "data": {
      "text/plain": "18"
     },
     "execution_count": 3,
     "metadata": {},
     "output_type": "execute_result"
    }
   ],
   "source": [
    "2 * 9"
   ]
  },
  {
   "cell_type": "code",
   "execution_count": 4,
   "metadata": {
    "id": "xFaXOLqbzIXv",
    "colab": {
     "base_uri": "https://localhost:8080/"
    },
    "executionInfo": {
     "status": "ok",
     "timestamp": 1678947524577,
     "user_tz": -540,
     "elapsed": 3,
     "user": {
      "displayName": "이명호",
      "userId": "12463539480991451694"
     }
    },
    "outputId": "172dc6dc-d019-4860-efda-5849228738a0",
    "ExecuteTime": {
     "end_time": "2024-03-25T07:57:02.901309Z",
     "start_time": "2024-03-25T07:57:02.899452Z"
    }
   },
   "outputs": [
    {
     "data": {
      "text/plain": "0.2222222222222222"
     },
     "execution_count": 4,
     "metadata": {},
     "output_type": "execute_result"
    }
   ],
   "source": [
    "2 / 9"
   ]
  },
  {
   "cell_type": "code",
   "execution_count": 5,
   "metadata": {
    "id": "wKKI3AZCzIXw",
    "colab": {
     "base_uri": "https://localhost:8080/"
    },
    "executionInfo": {
     "status": "ok",
     "timestamp": 1678947530720,
     "user_tz": -540,
     "elapsed": 305,
     "user": {
      "displayName": "이명호",
      "userId": "12463539480991451694"
     }
    },
    "outputId": "3cc8302b-5f42-4e5d-e06d-12fdebe49fb6",
    "ExecuteTime": {
     "end_time": "2024-03-25T07:57:02.960539Z",
     "start_time": "2024-03-25T07:57:02.958198Z"
    }
   },
   "outputs": [
    {
     "data": {
      "text/plain": "29"
     },
     "execution_count": 5,
     "metadata": {},
     "output_type": "execute_result"
    }
   ],
   "source": [
    "2 + 3 * 9"
   ]
  },
  {
   "cell_type": "code",
   "execution_count": 6,
   "metadata": {
    "id": "iDaYaQ9IzIXw",
    "colab": {
     "base_uri": "https://localhost:8080/"
    },
    "executionInfo": {
     "status": "ok",
     "timestamp": 1678947540559,
     "user_tz": -540,
     "elapsed": 636,
     "user": {
      "displayName": "이명호",
      "userId": "12463539480991451694"
     }
    },
    "outputId": "4dd0b214-5426-410e-ba39-98a4d256cc13",
    "ExecuteTime": {
     "end_time": "2024-03-25T07:57:03.047509Z",
     "start_time": "2024-03-25T07:57:03.044927Z"
    }
   },
   "outputs": [
    {
     "data": {
      "text/plain": "45"
     },
     "execution_count": 6,
     "metadata": {},
     "output_type": "execute_result"
    }
   ],
   "source": [
    "(2 + 3) * 9"
   ]
  },
  {
   "cell_type": "code",
   "execution_count": 7,
   "metadata": {
    "id": "EfRHO9yRzIXw",
    "colab": {
     "base_uri": "https://localhost:8080/"
    },
    "executionInfo": {
     "status": "ok",
     "timestamp": 1678947547073,
     "user_tz": -540,
     "elapsed": 352,
     "user": {
      "displayName": "이명호",
      "userId": "12463539480991451694"
     }
    },
    "outputId": "d2902156-3468-46aa-d1f7-59090144211f",
    "ExecuteTime": {
     "end_time": "2024-03-25T07:57:03.107752Z",
     "start_time": "2024-03-25T07:57:03.105374Z"
    }
   },
   "outputs": [
    {
     "data": {
      "text/plain": "16"
     },
     "execution_count": 7,
     "metadata": {},
     "output_type": "execute_result"
    }
   ],
   "source": [
    "# two to the power of four: 2 * 2 * 2 * 2\n",
    "2 ** 4"
   ]
  },
  {
   "cell_type": "code",
   "execution_count": 8,
   "metadata": {
    "id": "C5sy-TTWzIXw",
    "colab": {
     "base_uri": "https://localhost:8080/",
     "height": 35
    },
    "executionInfo": {
     "status": "ok",
     "timestamp": 1678947552804,
     "user_tz": -540,
     "elapsed": 370,
     "user": {
      "displayName": "이명호",
      "userId": "12463539480991451694"
     }
    },
    "outputId": "f92ca653-d186-4259-b8b9-2f03d6cb172a",
    "ExecuteTime": {
     "end_time": "2024-03-25T07:57:03.191360Z",
     "start_time": "2024-03-25T07:57:03.189092Z"
    }
   },
   "outputs": [
    {
     "data": {
      "text/plain": "'hello'"
     },
     "execution_count": 8,
     "metadata": {},
     "output_type": "execute_result"
    }
   ],
   "source": [
    "'hello'"
   ]
  },
  {
   "cell_type": "code",
   "outputs": [
    {
     "data": {
      "text/plain": "\"Hello in 'Busan'\""
     },
     "execution_count": 9,
     "metadata": {},
     "output_type": "execute_result"
    }
   ],
   "source": [
    "\"Hello in 'Busan'\""
   ],
   "metadata": {
    "collapsed": false,
    "ExecuteTime": {
     "end_time": "2024-03-25T07:57:03.277264Z",
     "start_time": "2024-03-25T07:57:03.274848Z"
    }
   },
   "execution_count": 9
  },
  {
   "cell_type": "markdown",
   "metadata": {
    "id": "HMXDoDGPzIXw"
   },
   "source": [
    "## Names ##"
   ]
  },
  {
   "cell_type": "code",
   "execution_count": 10,
   "metadata": {
    "id": "lEq38DMZzIXw",
    "executionInfo": {
     "status": "ok",
     "timestamp": 1678947559201,
     "user_tz": -540,
     "elapsed": 3,
     "user": {
      "displayName": "이명호",
      "userId": "12463539480991451694"
     }
    },
    "ExecuteTime": {
     "end_time": "2024-03-25T07:57:03.438186Z",
     "start_time": "2024-03-25T07:57:03.436316Z"
    }
   },
   "outputs": [],
   "source": [
    "a = 4"
   ]
  },
  {
   "cell_type": "code",
   "execution_count": 11,
   "metadata": {
    "id": "PBesrevTzIXw",
    "colab": {
     "base_uri": "https://localhost:8080/"
    },
    "executionInfo": {
     "status": "ok",
     "timestamp": 1678947561198,
     "user_tz": -540,
     "elapsed": 2,
     "user": {
      "displayName": "이명호",
      "userId": "12463539480991451694"
     }
    },
    "outputId": "dee0087c-f05b-4fa1-8e06-5080ebd19e31",
    "ExecuteTime": {
     "end_time": "2024-03-25T07:57:03.526178Z",
     "start_time": "2024-03-25T07:57:03.523062Z"
    }
   },
   "outputs": [
    {
     "data": {
      "text/plain": "4"
     },
     "execution_count": 11,
     "metadata": {},
     "output_type": "execute_result"
    }
   ],
   "source": [
    "a"
   ]
  },
  {
   "cell_type": "code",
   "execution_count": 12,
   "metadata": {
    "id": "7u2nMC0vzIXw",
    "executionInfo": {
     "status": "ok",
     "timestamp": 1678947564557,
     "user_tz": -540,
     "elapsed": 3,
     "user": {
      "displayName": "이명호",
      "userId": "12463539480991451694"
     }
    },
    "ExecuteTime": {
     "end_time": "2024-03-25T07:57:03.606980Z",
     "start_time": "2024-03-25T07:57:03.605213Z"
    }
   },
   "outputs": [],
   "source": [
    "b = 9"
   ]
  },
  {
   "cell_type": "code",
   "execution_count": 13,
   "metadata": {
    "id": "LZlvGm06zIXw",
    "colab": {
     "base_uri": "https://localhost:8080/"
    },
    "executionInfo": {
     "status": "ok",
     "timestamp": 1678947566759,
     "user_tz": -540,
     "elapsed": 4,
     "user": {
      "displayName": "이명호",
      "userId": "12463539480991451694"
     }
    },
    "outputId": "49e8798b-988c-4563-9b08-0f9d28c3c88c",
    "ExecuteTime": {
     "end_time": "2024-03-25T07:57:03.691408Z",
     "start_time": "2024-03-25T07:57:03.688998Z"
    }
   },
   "outputs": [
    {
     "data": {
      "text/plain": "9"
     },
     "execution_count": 13,
     "metadata": {},
     "output_type": "execute_result"
    }
   ],
   "source": [
    "b"
   ]
  },
  {
   "cell_type": "code",
   "execution_count": 14,
   "metadata": {
    "id": "FZwlF9a5zIXw",
    "colab": {
     "base_uri": "https://localhost:8080/"
    },
    "executionInfo": {
     "status": "ok",
     "timestamp": 1678947574783,
     "user_tz": -540,
     "elapsed": 6,
     "user": {
      "displayName": "이명호",
      "userId": "12463539480991451694"
     }
    },
    "outputId": "69b9ee3e-27e3-4090-c03b-f191f31c547d",
    "ExecuteTime": {
     "end_time": "2024-03-25T07:57:03.775680Z",
     "start_time": "2024-03-25T07:57:03.773368Z"
    }
   },
   "outputs": [
    {
     "data": {
      "text/plain": "12"
     },
     "execution_count": 14,
     "metadata": {},
     "output_type": "execute_result"
    }
   ],
   "source": [
    "a * 3"
   ]
  },
  {
   "cell_type": "code",
   "execution_count": 15,
   "metadata": {
    "id": "XX7RKCUFzIXx",
    "executionInfo": {
     "status": "ok",
     "timestamp": 1678947583297,
     "user_tz": -540,
     "elapsed": 338,
     "user": {
      "displayName": "이명호",
      "userId": "12463539480991451694"
     }
    },
    "ExecuteTime": {
     "end_time": "2024-03-25T07:57:03.856679Z",
     "start_time": "2024-03-25T07:57:03.855129Z"
    }
   },
   "outputs": [],
   "source": [
    "total = a + b # a 는 여전히 4"
   ]
  },
  {
   "cell_type": "code",
   "execution_count": 16,
   "metadata": {
    "scrolled": true,
    "id": "3HjOhOnOzIXx",
    "colab": {
     "base_uri": "https://localhost:8080/"
    },
    "executionInfo": {
     "status": "ok",
     "timestamp": 1678947592681,
     "user_tz": -540,
     "elapsed": 2,
     "user": {
      "displayName": "이명호",
      "userId": "12463539480991451694"
     }
    },
    "outputId": "c1e34e80-c8aa-4e6e-ea01-895981f38ae4",
    "ExecuteTime": {
     "end_time": "2024-03-25T07:57:03.940199Z",
     "start_time": "2024-03-25T07:57:03.938112Z"
    }
   },
   "outputs": [
    {
     "data": {
      "text/plain": "13"
     },
     "execution_count": 16,
     "metadata": {},
     "output_type": "execute_result"
    }
   ],
   "source": [
    "total"
   ]
  },
  {
   "cell_type": "code",
   "execution_count": 17,
   "metadata": {
    "id": "dZ-SOvpezIXx",
    "executionInfo": {
     "status": "ok",
     "timestamp": 1678947596648,
     "user_tz": -540,
     "elapsed": 416,
     "user": {
      "displayName": "이명호",
      "userId": "12463539480991451694"
     }
    },
    "ExecuteTime": {
     "end_time": "2024-03-25T07:57:04.022915Z",
     "start_time": "2024-03-25T07:57:04.021328Z"
    }
   },
   "outputs": [],
   "source": [
    "a = 10"
   ]
  },
  {
   "cell_type": "code",
   "execution_count": 18,
   "metadata": {
    "id": "_vdX-0-4zIXx",
    "colab": {
     "base_uri": "https://localhost:8080/"
    },
    "executionInfo": {
     "status": "ok",
     "timestamp": 1678947600045,
     "user_tz": -540,
     "elapsed": 315,
     "user": {
      "displayName": "이명호",
      "userId": "12463539480991451694"
     }
    },
    "outputId": "da7001b4-081e-4216-ec40-f778450ddb2f",
    "ExecuteTime": {
     "end_time": "2024-03-25T07:57:04.106926Z",
     "start_time": "2024-03-25T07:57:04.104771Z"
    }
   },
   "outputs": [
    {
     "data": {
      "text/plain": "13"
     },
     "execution_count": 18,
     "metadata": {},
     "output_type": "execute_result"
    }
   ],
   "source": [
    "total"
   ]
  },
  {
   "cell_type": "code",
   "execution_count": 19,
   "metadata": {
    "id": "TviW7_jLzIXx",
    "executionInfo": {
     "status": "ok",
     "timestamp": 1678947626438,
     "user_tz": -540,
     "elapsed": 303,
     "user": {
      "displayName": "이명호",
      "userId": "12463539480991451694"
     }
    },
    "ExecuteTime": {
     "end_time": "2024-03-25T07:57:04.607269Z",
     "start_time": "2024-03-25T07:57:04.605620Z"
    }
   },
   "outputs": [],
   "source": [
    "total = a + b"
   ]
  },
  {
   "cell_type": "code",
   "execution_count": 20,
   "metadata": {
    "id": "OAARAapTzIXx",
    "colab": {
     "base_uri": "https://localhost:8080/"
    },
    "executionInfo": {
     "status": "ok",
     "timestamp": 1678947636832,
     "user_tz": -540,
     "elapsed": 515,
     "user": {
      "displayName": "이명호",
      "userId": "12463539480991451694"
     }
    },
    "outputId": "5f5c7961-d78f-4155-bfcc-a7d99707fcf9",
    "ExecuteTime": {
     "end_time": "2024-03-25T07:57:04.764124Z",
     "start_time": "2024-03-25T07:57:04.761912Z"
    }
   },
   "outputs": [
    {
     "data": {
      "text/plain": "19"
     },
     "execution_count": 20,
     "metadata": {},
     "output_type": "execute_result"
    }
   ],
   "source": [
    "total"
   ]
  },
  {
   "cell_type": "code",
   "execution_count": 21,
   "metadata": {
    "id": "902munsAzIXx",
    "colab": {
     "base_uri": "https://localhost:8080/",
     "height": 35
    },
    "executionInfo": {
     "status": "ok",
     "timestamp": 1678947647642,
     "user_tz": -540,
     "elapsed": 320,
     "user": {
      "displayName": "이명호",
      "userId": "12463539480991451694"
     }
    },
    "outputId": "9c4bd723-d2e7-41c1-dd70-528f1fbb2599",
    "ExecuteTime": {
     "end_time": "2024-03-25T07:57:04.916254Z",
     "start_time": "2024-03-25T07:57:04.914184Z"
    }
   },
   "outputs": [
    {
     "data": {
      "text/plain": "'total'"
     },
     "execution_count": 21,
     "metadata": {},
     "output_type": "execute_result"
    }
   ],
   "source": [
    "'total'"
   ]
  },
  {
   "cell_type": "markdown",
   "metadata": {
    "id": "Bcua25BVzIXx"
   },
   "source": [
    "### Why Names? "
   ]
  },
  {
   "cell_type": "markdown",
   "source": [
    "변수에 대한 설명"
   ],
   "metadata": {
    "collapsed": false
   }
  },
  {
   "cell_type": "code",
   "execution_count": 22,
   "metadata": {
    "id": "Td-x4UmkzIXx",
    "colab": {
     "base_uri": "https://localhost:8080/"
    },
    "executionInfo": {
     "status": "ok",
     "timestamp": 1678947658015,
     "user_tz": -540,
     "elapsed": 404,
     "user": {
      "displayName": "이명호",
      "userId": "12463539480991451694"
     }
    },
    "outputId": "f2bf0841-474e-4cb6-d72f-e121d105f8d6",
    "ExecuteTime": {
     "end_time": "2024-03-25T07:57:06.390013Z",
     "start_time": "2024-03-25T07:57:06.387935Z"
    }
   },
   "outputs": [
    {
     "data": {
      "text/plain": "560.0"
     },
     "execution_count": 22,
     "metadata": {},
     "output_type": "execute_result"
    }
   ],
   "source": [
    "# Option 1\n",
    "40 * 14.00"
   ]
  },
  {
   "cell_type": "code",
   "execution_count": 23,
   "metadata": {
    "id": "hSeukEWmzIXx",
    "colab": {
     "base_uri": "https://localhost:8080/"
    },
    "executionInfo": {
     "status": "ok",
     "timestamp": 1678947661405,
     "user_tz": -540,
     "elapsed": 5,
     "user": {
      "displayName": "이명호",
      "userId": "12463539480991451694"
     }
    },
    "outputId": "22c304ed-c530-4832-f1e8-592791faf91c",
    "ExecuteTime": {
     "end_time": "2024-03-25T07:57:06.699798Z",
     "start_time": "2024-03-25T07:57:06.697617Z"
    }
   },
   "outputs": [
    {
     "data": {
      "text/plain": "29120.0"
     },
     "execution_count": 23,
     "metadata": {},
     "output_type": "execute_result"
    }
   ],
   "source": [
    "40 * 52 * 14.00"
   ]
  },
  {
   "cell_type": "code",
   "execution_count": 24,
   "metadata": {
    "id": "GGEDgVkzzIXx",
    "executionInfo": {
     "status": "ok",
     "timestamp": 1678947719504,
     "user_tz": -540,
     "elapsed": 317,
     "user": {
      "displayName": "이명호",
      "userId": "12463539480991451694"
     }
    },
    "ExecuteTime": {
     "end_time": "2024-03-25T07:57:06.852899Z",
     "start_time": "2024-03-25T07:57:06.851180Z"
    }
   },
   "outputs": [],
   "source": [
    "# Option 2\n",
    "ca_hourly_minimum_wage = 14.00\n",
    "hours_per_week = 40\n",
    "weeks_per_year = 52"
   ]
  },
  {
   "cell_type": "code",
   "execution_count": 25,
   "metadata": {
    "id": "Eq8-PAupzIXx",
    "executionInfo": {
     "status": "ok",
     "timestamp": 1678947733214,
     "user_tz": -540,
     "elapsed": 2,
     "user": {
      "displayName": "이명호",
      "userId": "12463539480991451694"
     }
    },
    "ExecuteTime": {
     "end_time": "2024-03-25T07:57:07.010514Z",
     "start_time": "2024-03-25T07:57:07.008196Z"
    }
   },
   "outputs": [],
   "source": [
    "hours_per_year = hours_per_week * weeks_per_year"
   ]
  },
  {
   "cell_type": "code",
   "execution_count": 26,
   "metadata": {
    "id": "ykv4vJCXzIXx",
    "colab": {
     "base_uri": "https://localhost:8080/"
    },
    "executionInfo": {
     "status": "ok",
     "timestamp": 1678947736473,
     "user_tz": -540,
     "elapsed": 6,
     "user": {
      "displayName": "이명호",
      "userId": "12463539480991451694"
     }
    },
    "outputId": "8fedfa09-6634-48b2-e594-506d2a8d8c92",
    "ExecuteTime": {
     "end_time": "2024-03-25T07:57:07.176290Z",
     "start_time": "2024-03-25T07:57:07.173858Z"
    }
   },
   "outputs": [
    {
     "data": {
      "text/plain": "2080"
     },
     "execution_count": 26,
     "metadata": {},
     "output_type": "execute_result"
    }
   ],
   "source": [
    "hours_per_year"
   ]
  },
  {
   "cell_type": "code",
   "execution_count": 27,
   "metadata": {
    "id": "nx2Ky31OzIXx",
    "colab": {
     "base_uri": "https://localhost:8080/"
    },
    "executionInfo": {
     "status": "ok",
     "timestamp": 1678947754366,
     "user_tz": -540,
     "elapsed": 7,
     "user": {
      "displayName": "이명호",
      "userId": "12463539480991451694"
     }
    },
    "outputId": "3a8bebff-961e-43f8-d014-0aaac23f1194",
    "ExecuteTime": {
     "end_time": "2024-03-25T07:57:07.311630Z",
     "start_time": "2024-03-25T07:57:07.309393Z"
    }
   },
   "outputs": [
    {
     "data": {
      "text/plain": "560.0"
     },
     "execution_count": 27,
     "metadata": {},
     "output_type": "execute_result"
    }
   ],
   "source": [
    "weekly_wages = hours_per_week * ca_hourly_minimum_wage\n",
    "weekly_wages"
   ]
  },
  {
   "cell_type": "code",
   "execution_count": 28,
   "metadata": {
    "id": "rBJAQKIIzIXy",
    "colab": {
     "base_uri": "https://localhost:8080/"
    },
    "executionInfo": {
     "status": "ok",
     "timestamp": 1678947760327,
     "user_tz": -540,
     "elapsed": 325,
     "user": {
      "displayName": "이명호",
      "userId": "12463539480991451694"
     }
    },
    "outputId": "c360afd2-293b-49c3-9e25-2313d774349a",
    "ExecuteTime": {
     "end_time": "2024-03-25T07:57:07.580516Z",
     "start_time": "2024-03-25T07:57:07.577662Z"
    }
   },
   "outputs": [
    {
     "data": {
      "text/plain": "29120.0"
     },
     "execution_count": 28,
     "metadata": {},
     "output_type": "execute_result"
    }
   ],
   "source": [
    "yearly_wages = hours_per_year * ca_hourly_minimum_wage\n",
    "yearly_wages"
   ]
  },
  {
   "cell_type": "markdown",
   "metadata": {
    "id": "ZK0tlrFhzIXy"
   },
   "source": [
    "## Functions and Call Expressions"
   ]
  },
  {
   "cell_type": "code",
   "execution_count": 29,
   "metadata": {
    "id": "jmsvDtVzzIXy",
    "colab": {
     "base_uri": "https://localhost:8080/"
    },
    "executionInfo": {
     "status": "ok",
     "timestamp": 1678947844040,
     "user_tz": -540,
     "elapsed": 328,
     "user": {
      "displayName": "이명호",
      "userId": "12463539480991451694"
     }
    },
    "outputId": "aa5a5126-10d2-4adf-9eac-1289ee48c0ee",
    "ExecuteTime": {
     "end_time": "2024-03-25T07:57:07.897979Z",
     "start_time": "2024-03-25T07:57:07.895717Z"
    }
   },
   "outputs": [
    {
     "data": {
      "text/plain": "5"
     },
     "execution_count": 29,
     "metadata": {},
     "output_type": "execute_result"
    }
   ],
   "source": [
    "abs(-5)"
   ]
  },
  {
   "cell_type": "code",
   "execution_count": 30,
   "metadata": {
    "id": "KIyfXNapzIXy",
    "colab": {
     "base_uri": "https://localhost:8080/"
    },
    "executionInfo": {
     "status": "ok",
     "timestamp": 1678947848367,
     "user_tz": -540,
     "elapsed": 465,
     "user": {
      "displayName": "이명호",
      "userId": "12463539480991451694"
     }
    },
    "outputId": "8ee690d6-6e30-4da2-affd-6cf63940848c",
    "ExecuteTime": {
     "end_time": "2024-03-25T07:57:08.047977Z",
     "start_time": "2024-03-25T07:57:08.045697Z"
    }
   },
   "outputs": [
    {
     "data": {
      "text/plain": "2"
     },
     "execution_count": 30,
     "metadata": {},
     "output_type": "execute_result"
    }
   ],
   "source": [
    "abs(1 - 3)"
   ]
  },
  {
   "cell_type": "code",
   "execution_count": 31,
   "metadata": {
    "id": "GsVNskZqzIXy",
    "colab": {
     "base_uri": "https://localhost:8080/"
    },
    "executionInfo": {
     "status": "ok",
     "timestamp": 1678947856158,
     "user_tz": -540,
     "elapsed": 345,
     "user": {
      "displayName": "이명호",
      "userId": "12463539480991451694"
     }
    },
    "outputId": "30bda959-d0df-4cbe-97f1-5934a60131df",
    "ExecuteTime": {
     "end_time": "2024-03-25T07:57:08.200623Z",
     "start_time": "2024-03-25T07:57:08.198129Z"
    }
   },
   "outputs": [
    {
     "data": {
      "text/plain": "5"
     },
     "execution_count": 31,
     "metadata": {},
     "output_type": "execute_result"
    }
   ],
   "source": [
    "day_temp = 52\n",
    "night_temp = 47\n",
    "abs(night_temp - day_temp)"
   ]
  },
  {
   "cell_type": "code",
   "execution_count": 32,
   "metadata": {
    "id": "N-RSYtHazIXy",
    "colab": {
     "base_uri": "https://localhost:8080/"
    },
    "executionInfo": {
     "status": "ok",
     "timestamp": 1678947858358,
     "user_tz": -540,
     "elapsed": 325,
     "user": {
      "displayName": "이명호",
      "userId": "12463539480991451694"
     }
    },
    "outputId": "3afa862f-8b0c-479b-964b-1e22e23eb984",
    "ExecuteTime": {
     "end_time": "2024-03-25T07:57:08.348665Z",
     "start_time": "2024-03-25T07:57:08.346269Z"
    }
   },
   "outputs": [
    {
     "data": {
      "text/plain": "14"
     },
     "execution_count": 32,
     "metadata": {},
     "output_type": "execute_result"
    }
   ],
   "source": [
    "min(14, 15)"
   ]
  },
  {
   "cell_type": "code",
   "execution_count": 33,
   "metadata": {
    "id": "c7p_2HiEzIXy",
    "colab": {
     "base_uri": "https://localhost:8080/"
    },
    "executionInfo": {
     "status": "ok",
     "timestamp": 1678947862022,
     "user_tz": -540,
     "elapsed": 323,
     "user": {
      "displayName": "이명호",
      "userId": "12463539480991451694"
     }
    },
    "outputId": "8d0cac25-b358-457a-ebb1-e899ab420ae2",
    "ExecuteTime": {
     "end_time": "2024-03-25T07:57:08.744845Z",
     "start_time": "2024-03-25T07:57:08.742362Z"
    }
   },
   "outputs": [
    {
     "data": {
      "text/plain": "123"
     },
     "execution_count": 33,
     "metadata": {},
     "output_type": "execute_result"
    }
   ],
   "source": [
    "round(123.456)"
   ]
  },
  {
   "cell_type": "code",
   "execution_count": 34,
   "metadata": {
    "id": "8uYPLX9mzIXy",
    "colab": {
     "base_uri": "https://localhost:8080/"
    },
    "executionInfo": {
     "status": "ok",
     "timestamp": 1678947868361,
     "user_tz": -540,
     "elapsed": 494,
     "user": {
      "displayName": "이명호",
      "userId": "12463539480991451694"
     }
    },
    "outputId": "594e6025-a356-4be0-e72a-1c46e1bffd61",
    "ExecuteTime": {
     "end_time": "2024-03-25T07:57:08.999981Z",
     "start_time": "2024-03-25T07:57:08.997699Z"
    }
   },
   "outputs": [
    {
     "data": {
      "text/plain": "123.5"
     },
     "execution_count": 34,
     "metadata": {},
     "output_type": "execute_result"
    }
   ],
   "source": [
    "round(123.456, 1)"
   ]
  },
  {
   "cell_type": "code",
   "execution_count": 35,
   "metadata": {
    "id": "iJRYp-KlzIXy",
    "colab": {
     "base_uri": "https://localhost:8080/"
    },
    "executionInfo": {
     "status": "ok",
     "timestamp": 1678947915073,
     "user_tz": -540,
     "elapsed": 461,
     "user": {
      "displayName": "이명호",
      "userId": "12463539480991451694"
     }
    },
    "outputId": "9379a873-0c86-444f-c672-c2e24a825512",
    "ExecuteTime": {
     "end_time": "2024-03-25T07:57:09.164362Z",
     "start_time": "2024-03-25T07:57:09.162287Z"
    }
   },
   "outputs": [
    {
     "data": {
      "text/plain": "123.5"
     },
     "execution_count": 35,
     "metadata": {},
     "output_type": "execute_result"
    }
   ],
   "source": [
    "round(123.456, ndigits=1)"
   ]
  },
  {
   "cell_type": "code",
   "source": [
    "help(round)"
   ],
   "metadata": {
    "colab": {
     "base_uri": "https://localhost:8080/"
    },
    "id": "nztM6i4QGCYL",
    "executionInfo": {
     "status": "ok",
     "timestamp": 1678947928706,
     "user_tz": -540,
     "elapsed": 863,
     "user": {
      "displayName": "이명호",
      "userId": "12463539480991451694"
     }
    },
    "outputId": "a35fa729-106d-46e8-8d08-465893f9f78c",
    "ExecuteTime": {
     "end_time": "2024-03-25T07:57:09.639211Z",
     "start_time": "2024-03-25T07:57:09.637060Z"
    }
   },
   "execution_count": 36,
   "outputs": [
    {
     "name": "stdout",
     "output_type": "stream",
     "text": [
      "Help on built-in function round in module builtins:\n",
      "\n",
      "round(number, ndigits=None)\n",
      "    Round a number to a given precision in decimal digits.\n",
      "    \n",
      "    The return value is an integer if ndigits is omitted or None.  Otherwise\n",
      "    the return value has the same type as the number.  ndigits may be negative.\n"
     ]
    }
   ]
  },
  {
   "cell_type": "markdown",
   "source": [
    "## Scientific notation \n",
    "=> 1.0*10^500 = 1.0e+500"
   ],
   "metadata": {
    "collapsed": false
   }
  },
  {
   "cell_type": "code",
   "outputs": [],
   "source": [
    "round?"
   ],
   "metadata": {
    "collapsed": false,
    "ExecuteTime": {
     "end_time": "2024-03-25T07:57:34.295740Z",
     "start_time": "2024-03-25T07:57:34.244095Z"
    }
   },
   "execution_count": 37
  },
  {
   "cell_type": "code",
   "outputs": [
    {
     "data": {
      "text/plain": "12"
     },
     "execution_count": 39,
     "metadata": {},
     "output_type": "execute_result"
    }
   ],
   "source": [
    "int('12')"
   ],
   "metadata": {
    "collapsed": false,
    "ExecuteTime": {
     "end_time": "2024-03-25T08:06:02.698497Z",
     "start_time": "2024-03-25T08:06:02.696153Z"
    }
   },
   "execution_count": 39
  },
  {
   "cell_type": "code",
   "outputs": [],
   "source": [
    "x = 3\n",
    "y = '4'\n",
    "z = '5.6'"
   ],
   "metadata": {
    "collapsed": false,
    "ExecuteTime": {
     "end_time": "2024-03-25T08:09:09.349022Z",
     "start_time": "2024-03-25T08:09:09.347445Z"
    }
   },
   "execution_count": 41
  },
  {
   "cell_type": "code",
   "outputs": [
    {
     "ename": "TypeError",
     "evalue": "unsupported operand type(s) for +: 'int' and 'str'",
     "output_type": "error",
     "traceback": [
      "\u001B[0;31m---------------------------------------------------------------------------\u001B[0m",
      "\u001B[0;31mTypeError\u001B[0m                                 Traceback (most recent call last)",
      "Cell \u001B[0;32mIn[49], line 1\u001B[0m\n\u001B[0;32m----> 1\u001B[0m \u001B[43mx\u001B[49m\u001B[38;5;241;43m+\u001B[39;49m\u001B[43my\u001B[49m\n",
      "\u001B[0;31mTypeError\u001B[0m: unsupported operand type(s) for +: 'int' and 'str'"
     ]
    }
   ],
   "source": [
    "x+y"
   ],
   "metadata": {
    "collapsed": false,
    "ExecuteTime": {
     "end_time": "2024-03-25T08:10:36.830918Z",
     "start_time": "2024-03-25T08:10:36.780978Z"
    }
   },
   "execution_count": 49
  },
  {
   "cell_type": "code",
   "outputs": [
    {
     "ename": "ValueError",
     "evalue": "invalid literal for int() with base 10: '45.6'",
     "output_type": "error",
     "traceback": [
      "\u001B[0;31m---------------------------------------------------------------------------\u001B[0m",
      "\u001B[0;31mValueError\u001B[0m                                Traceback (most recent call last)",
      "Cell \u001B[0;32mIn[59], line 1\u001B[0m\n\u001B[0;32m----> 1\u001B[0m x\u001B[38;5;241m+\u001B[39m\u001B[38;5;28;43mint\u001B[39;49m\u001B[43m(\u001B[49m\u001B[43m(\u001B[49m\u001B[43my\u001B[49m\u001B[43m)\u001B[49m\u001B[38;5;241;43m+\u001B[39;49m\u001B[43m(\u001B[49m\u001B[43mz\u001B[49m\u001B[43m)\u001B[49m\u001B[43m)\u001B[49m\n",
      "\u001B[0;31mValueError\u001B[0m: invalid literal for int() with base 10: '45.6'"
     ]
    }
   ],
   "source": [
    "x+int((y)+(z))"
   ],
   "metadata": {
    "collapsed": false,
    "ExecuteTime": {
     "end_time": "2024-03-25T08:11:27.979097Z",
     "start_time": "2024-03-25T08:11:27.971358Z"
    }
   },
   "execution_count": 59
  },
  {
   "cell_type": "code",
   "outputs": [
    {
     "ename": "TypeError",
     "evalue": "can only concatenate str (not \"int\") to str",
     "output_type": "error",
     "traceback": [
      "\u001B[0;31m---------------------------------------------------------------------------\u001B[0m",
      "\u001B[0;31mTypeError\u001B[0m                                 Traceback (most recent call last)",
      "Cell \u001B[0;32mIn[58], line 1\u001B[0m\n\u001B[0;32m----> 1\u001B[0m \u001B[38;5;28;43mstr\u001B[39;49m\u001B[43m(\u001B[49m\u001B[43mx\u001B[49m\u001B[43m)\u001B[49m\u001B[38;5;241;43m+\u001B[39;49m\u001B[38;5;28;43mint\u001B[39;49m\u001B[43m(\u001B[49m\u001B[43my\u001B[49m\u001B[43m)\u001B[49m\n",
      "\u001B[0;31mTypeError\u001B[0m: can only concatenate str (not \"int\") to str"
     ]
    }
   ],
   "source": [
    "str(x)+int(y) # string은 오직 string과만 concatenate(이어붙이기)가 가능하다."
   ],
   "metadata": {
    "collapsed": false,
    "ExecuteTime": {
     "end_time": "2024-03-25T08:11:26.825750Z",
     "start_time": "2024-03-25T08:11:26.818693Z"
    }
   },
   "execution_count": 58
  },
  {
   "cell_type": "code",
   "outputs": [],
   "source": [],
   "metadata": {
    "collapsed": false
   }
  },
  {
   "cell_type": "code",
   "outputs": [
    {
     "ename": "TypeError",
     "evalue": "can only concatenate str (not \"float\") to str",
     "output_type": "error",
     "traceback": [
      "\u001B[0;31m---------------------------------------------------------------------------\u001B[0m",
      "\u001B[0;31mTypeError\u001B[0m                                 Traceback (most recent call last)",
      "Cell \u001B[0;32mIn[46], line 1\u001B[0m\n\u001B[0;32m----> 1\u001B[0m \u001B[43my\u001B[49m\u001B[38;5;241;43m+\u001B[39;49m\u001B[38;5;28;43mfloat\u001B[39;49m\u001B[43m(\u001B[49m\u001B[43mz\u001B[49m\u001B[43m)\u001B[49m\n",
      "\u001B[0;31mTypeError\u001B[0m: can only concatenate str (not \"float\") to str"
     ]
    }
   ],
   "source": [
    "y+float(z)"
   ],
   "metadata": {
    "collapsed": false,
    "ExecuteTime": {
     "end_time": "2024-03-25T08:09:49.278730Z",
     "start_time": "2024-03-25T08:09:49.270825Z"
    }
   },
   "execution_count": 46
  },
  {
   "cell_type": "code",
   "outputs": [
    {
     "data": {
      "text/plain": "int"
     },
     "execution_count": 63,
     "metadata": {},
     "output_type": "execute_result"
    }
   ],
   "source": [
    "type(2)"
   ],
   "metadata": {
    "collapsed": false,
    "ExecuteTime": {
     "end_time": "2024-03-25T08:14:04.850961Z",
     "start_time": "2024-03-25T08:14:04.848558Z"
    }
   },
   "execution_count": 63
  },
  {
   "cell_type": "code",
   "outputs": [
    {
     "data": {
      "text/plain": "int"
     },
     "execution_count": 65,
     "metadata": {},
     "output_type": "execute_result"
    }
   ],
   "source": [
    "type(2+2)"
   ],
   "metadata": {
    "collapsed": false,
    "ExecuteTime": {
     "end_time": "2024-03-25T08:14:09.879402Z",
     "start_time": "2024-03-25T08:14:09.877080Z"
    }
   },
   "execution_count": 65
  },
  {
   "cell_type": "code",
   "outputs": [
    {
     "data": {
      "text/plain": "float"
     },
     "execution_count": 67,
     "metadata": {},
     "output_type": "execute_result"
    }
   ],
   "source": [
    "type(2.5) "
   ],
   "metadata": {
    "collapsed": false,
    "ExecuteTime": {
     "end_time": "2024-03-25T08:14:23.065499Z",
     "start_time": "2024-03-25T08:14:23.063092Z"
    }
   },
   "execution_count": 67
  },
  {
   "cell_type": "code",
   "outputs": [
    {
     "data": {
      "text/plain": "array(['noun', 'pronoun', 'verb', 'adverb', 'adjective', 'conjunction',\n       'preposition', 'interjunction'],\n      dtype='<U13')"
     },
     "execution_count": 69,
     "metadata": {},
     "output_type": "execute_result"
    }
   ],
   "source": [
    "english_pars_of_sppech = make_array(\"noun\",\"pronoun\",\"verb\",\"adverb\",\"adjective\",\"conjunction\",\"preposition\",\"interjunction\")\n",
    "english_pars_of_sppech"
   ],
   "metadata": {
    "collapsed": false,
    "ExecuteTime": {
     "end_time": "2024-03-25T08:24:04.226930Z",
     "start_time": "2024-03-25T08:24:04.223093Z"
    }
   },
   "execution_count": 69
  },
  {
   "cell_type": "code",
   "outputs": [],
   "source": [
    "a = [1,2,3,4]"
   ],
   "metadata": {
    "collapsed": false,
    "ExecuteTime": {
     "end_time": "2024-03-25T08:24:35.836856Z",
     "start_time": "2024-03-25T08:24:35.834816Z"
    }
   },
   "execution_count": 70
  },
  {
   "cell_type": "code",
   "outputs": [
    {
     "data": {
      "text/plain": "array([3, 4, 5, 6])"
     },
     "execution_count": 79,
     "metadata": {},
     "output_type": "execute_result"
    }
   ],
   "source": [
    "np.array(a) + 2 # 이미 생성된 리스트를 array로 변환후 각각의 값에다 2 더함s"
   ],
   "metadata": {
    "collapsed": false,
    "ExecuteTime": {
     "end_time": "2024-03-25T08:26:12.923244Z",
     "start_time": "2024-03-25T08:26:12.919878Z"
    }
   },
   "execution_count": 79
  },
  {
   "cell_type": "code",
   "outputs": [],
   "source": [],
   "metadata": {
    "collapsed": false,
    "ExecuteTime": {
     "end_time": "2024-03-25T08:26:13.851370Z",
     "start_time": "2024-03-25T08:26:13.849843Z"
    }
   },
   "execution_count": 79
  },
  {
   "cell_type": "code",
   "outputs": [],
   "source": [
    "baseline_high = 14.48\n"
   ],
   "metadata": {
    "collapsed": false,
    "ExecuteTime": {
     "end_time": "2024-03-25T08:28:06.933854Z",
     "start_time": "2024-03-25T08:28:06.931363Z"
    }
   },
   "execution_count": 90
  },
  {
   "cell_type": "code",
   "outputs": [],
   "source": [],
   "metadata": {
    "collapsed": false
   }
  },
  {
   "cell_type": "code",
   "outputs": [],
   "source": [
    "highs = make_array([baseline_high - 0.880, baseline_high - 0.093,\n",
    "baseline_high + 0.105, baseline_high + 0.684])"
   ],
   "metadata": {
    "collapsed": false,
    "ExecuteTime": {
     "end_time": "2024-03-25T08:29:42.925821Z",
     "start_time": "2024-03-25T08:29:42.923215Z"
    }
   },
   "execution_count": 101
  },
  {
   "cell_type": "code",
   "outputs": [
    {
     "data": {
      "text/plain": "array([[13.6, 14.387, 14.585, 15.164]], dtype=object)"
     },
     "execution_count": 106,
     "metadata": {},
     "output_type": "execute_result"
    }
   ],
   "source": [
    "highs"
   ],
   "metadata": {
    "collapsed": false,
    "ExecuteTime": {
     "end_time": "2024-03-25T08:30:06.958494Z",
     "start_time": "2024-03-25T08:30:06.955160Z"
    }
   },
   "execution_count": 106
  },
  {
   "cell_type": "markdown",
   "source": [],
   "metadata": {
    "collapsed": false
   }
  },
  {
   "cell_type": "code",
   "outputs": [],
   "source": [
    "baseline_low = 3.00\n"
   ],
   "metadata": {
    "collapsed": false,
    "ExecuteTime": {
     "end_time": "2024-03-25T08:27:39.776325Z",
     "start_time": "2024-03-25T08:27:39.773615Z"
    }
   },
   "execution_count": 86
  },
  {
   "cell_type": "code",
   "outputs": [],
   "source": [
    "lows = np.array([baseline_low - 0.872, baseline_low - 0.629,\n",
    "baseline_low - 0.126, baseline_low + 0.728]) "
   ],
   "metadata": {
    "collapsed": false,
    "ExecuteTime": {
     "end_time": "2024-03-25T08:29:40.300547Z",
     "start_time": "2024-03-25T08:29:40.297628Z"
    }
   },
   "execution_count": 100
  },
  {
   "cell_type": "code",
   "outputs": [
    {
     "data": {
      "text/plain": "array([ 2.128,  2.371,  2.874,  3.728])"
     },
     "execution_count": 107,
     "metadata": {},
     "output_type": "execute_result"
    }
   ],
   "source": [
    "lows"
   ],
   "metadata": {
    "collapsed": false,
    "ExecuteTime": {
     "end_time": "2024-03-25T08:30:11.014687Z",
     "start_time": "2024-03-25T08:30:11.011353Z"
    }
   },
   "execution_count": 107
  },
  {
   "cell_type": "code",
   "outputs": [],
   "source": [],
   "metadata": {
    "collapsed": false
   }
  },
  {
   "cell_type": "code",
   "outputs": [
    {
     "data": {
      "text/plain": "True"
     },
     "execution_count": 110,
     "metadata": {},
     "output_type": "execute_result"
    }
   ],
   "source": [
    "np.all(lows)"
   ],
   "metadata": {
    "collapsed": false,
    "ExecuteTime": {
     "end_time": "2024-03-25T08:31:44.221405Z",
     "start_time": "2024-03-25T08:31:44.218963Z"
    }
   },
   "execution_count": 110
  },
  {
   "cell_type": "code",
   "outputs": [
    {
     "data": {
      "text/plain": "True"
     },
     "execution_count": 111,
     "metadata": {},
     "output_type": "execute_result"
    }
   ],
   "source": [
    "np.any(lows)"
   ],
   "metadata": {
    "collapsed": false,
    "ExecuteTime": {
     "end_time": "2024-03-25T08:31:50.175343Z",
     "start_time": "2024-03-25T08:31:50.172335Z"
    }
   },
   "execution_count": 111
  },
  {
   "cell_type": "code",
   "outputs": [
    {
     "data": {
      "text/plain": "array([0, 1, 2, 3])"
     },
     "execution_count": 118,
     "metadata": {},
     "output_type": "execute_result"
    }
   ],
   "source": [
    "np.arange(0,4) # [start, end)"
   ],
   "metadata": {
    "collapsed": false,
    "ExecuteTime": {
     "end_time": "2024-03-25T08:33:21.386173Z",
     "start_time": "2024-03-25T08:33:21.382605Z"
    }
   },
   "execution_count": 118
  },
  {
   "cell_type": "code",
   "outputs": [
    {
     "data": {
      "text/plain": "array([-1. , -0.5,  0. ,  0.5,  1. ,  1.5,  2. ])"
     },
     "execution_count": 119,
     "metadata": {},
     "output_type": "execute_result"
    }
   ],
   "source": [
    "np.arange(-1,2.5,0.5)"
   ],
   "metadata": {
    "collapsed": false,
    "ExecuteTime": {
     "end_time": "2024-03-25T08:34:43.546350Z",
     "start_time": "2024-03-25T08:34:43.542852Z"
    }
   },
   "execution_count": 119
  },
  {
   "cell_type": "code",
   "outputs": [
    {
     "data": {
      "text/plain": "array([[11.472, 12.016, 11.711, 11.436]], dtype=object)"
     },
     "execution_count": 98,
     "metadata": {},
     "output_type": "execute_result"
    }
   ],
   "source": [
    "highs-lows # np.array([highs.item(0)-lows.item(0) ... ])"
   ],
   "metadata": {
    "collapsed": false,
    "ExecuteTime": {
     "end_time": "2024-03-25T08:29:27.526198Z",
     "start_time": "2024-03-25T08:29:27.522480Z"
    }
   },
   "execution_count": 98
  },
  {
   "cell_type": "code",
   "outputs": [
    {
     "data": {
      "text/plain": "array([ 1,  5,  9, 13, 17])"
     },
     "execution_count": 120,
     "metadata": {},
     "output_type": "execute_result"
    }
   ],
   "source": [
    "by_four_to_20 = np.arange(1,20,4)\n",
    "by_four_to_20"
   ],
   "metadata": {
    "collapsed": false,
    "ExecuteTime": {
     "end_time": "2024-03-25T08:36:59.269703Z",
     "start_time": "2024-03-25T08:36:59.267338Z"
    }
   },
   "execution_count": 120
  },
  {
   "cell_type": "code",
   "outputs": [
    {
     "data": {
      "text/plain": "array([   1,    5,    9, ..., 9989, 9993, 9997])"
     },
     "execution_count": 121,
     "metadata": {},
     "output_type": "execute_result"
    }
   ],
   "source": [
    "positive_term_denominators = np.arange(1,10000,4)\n",
    "positive_term_denominators"
   ],
   "metadata": {
    "collapsed": false,
    "ExecuteTime": {
     "end_time": "2024-03-25T08:38:04.593411Z",
     "start_time": "2024-03-25T08:38:04.589809Z"
    }
   },
   "execution_count": 121
  },
  {
   "cell_type": "code",
   "outputs": [],
   "source": [
    "positive_term = 1 / positive_term_denominators"
   ],
   "metadata": {
    "collapsed": false,
    "ExecuteTime": {
     "end_time": "2024-03-25T08:38:05.591171Z",
     "start_time": "2024-03-25T08:38:05.588948Z"
    }
   },
   "execution_count": 122
  },
  {
   "cell_type": "code",
   "outputs": [],
   "source": [
    "negative_term = 1 / (positive_term_denominators+2)"
   ],
   "metadata": {
    "collapsed": false,
    "ExecuteTime": {
     "end_time": "2024-03-25T08:38:06.430921Z",
     "start_time": "2024-03-25T08:38:06.428524Z"
    }
   },
   "execution_count": 123
  },
  {
   "cell_type": "code",
   "outputs": [
    {
     "data": {
      "text/plain": "3.1413926535917955"
     },
     "execution_count": 124,
     "metadata": {},
     "output_type": "execute_result"
    }
   ],
   "source": [
    "4 * (sum(positive_term) - sum(negative_term))"
   ],
   "metadata": {
    "collapsed": false,
    "ExecuteTime": {
     "end_time": "2024-03-25T08:38:07.063610Z",
     "start_time": "2024-03-25T08:38:07.060272Z"
    }
   },
   "execution_count": 124
  },
  {
   "cell_type": "markdown",
   "metadata": {
    "id": "YHO67F7xzIXy"
   },
   "source": [
    "## Tables ##"
   ]
  },
  {
   "cell_type": "code",
   "execution_count": null,
   "metadata": {
    "id": "zOrEX4UdzIXy",
    "colab": {
     "base_uri": "https://localhost:8080/",
     "height": 237
    },
    "executionInfo": {
     "status": "ok",
     "timestamp": 1678948412957,
     "user_tz": -540,
     "elapsed": 323,
     "user": {
      "displayName": "이명호",
      "userId": "12463539480991451694"
     }
    },
    "outputId": "08474cfc-cd33-4028-c5af-5fd126f3f06d"
   },
   "outputs": [],
   "source": [
    "cones = Table.read_table('cones.csv')\n",
    "cones"
   ]
  },
  {
   "cell_type": "code",
   "execution_count": null,
   "metadata": {
    "id": "zsbbLzq6zIXy",
    "colab": {
     "base_uri": "https://localhost:8080/",
     "height": 173
    },
    "executionInfo": {
     "status": "ok",
     "timestamp": 1678948535229,
     "user_tz": -540,
     "elapsed": 1452,
     "user": {
      "displayName": "이명호",
      "userId": "12463539480991451694"
     }
    },
    "outputId": "41d34171-bc81-4c72-8ac6-d4f0a0bd3e12"
   },
   "outputs": [],
   "source": [
    "cones.show(3)"
   ]
  },
  {
   "cell_type": "code",
   "execution_count": null,
   "metadata": {
    "id": "vnT9sHm9zIXy",
    "colab": {
     "base_uri": "https://localhost:8080/",
     "height": 237
    },
    "executionInfo": {
     "status": "ok",
     "timestamp": 1678948559844,
     "user_tz": -540,
     "elapsed": 327,
     "user": {
      "displayName": "이명호",
      "userId": "12463539480991451694"
     }
    },
    "outputId": "da579054-4006-488f-f93e-88aad219f648"
   },
   "outputs": [],
   "source": [
    "cones.show()"
   ]
  },
  {
   "cell_type": "code",
   "execution_count": null,
   "metadata": {
    "id": "66Iws8T5zIXy",
    "colab": {
     "base_uri": "https://localhost:8080/",
     "height": 237
    },
    "executionInfo": {
     "status": "ok",
     "timestamp": 1678948581410,
     "user_tz": -540,
     "elapsed": 327,
     "user": {
      "displayName": "이명호",
      "userId": "12463539480991451694"
     }
    },
    "outputId": "012e58b5-59f1-4245-9323-bc5658001f1b"
   },
   "outputs": [],
   "source": [
    "cones.select('Flavor')"
   ]
  },
  {
   "cell_type": "code",
   "execution_count": null,
   "metadata": {
    "id": "DmAVrgGMzIXy",
    "colab": {
     "base_uri": "https://localhost:8080/",
     "height": 237
    },
    "executionInfo": {
     "status": "ok",
     "timestamp": 1678948595657,
     "user_tz": -540,
     "elapsed": 573,
     "user": {
      "displayName": "이명호",
      "userId": "12463539480991451694"
     }
    },
    "outputId": "41e8119a-2948-4e8a-fd17-b9559f970910"
   },
   "outputs": [],
   "source": [
    "cones.select('Flavor', 'Price')"
   ]
  },
  {
   "cell_type": "code",
   "execution_count": null,
   "metadata": {
    "id": "m5pualx_zIXy",
    "colab": {
     "base_uri": "https://localhost:8080/",
     "height": 237
    },
    "executionInfo": {
     "status": "ok",
     "timestamp": 1678948609659,
     "user_tz": -540,
     "elapsed": 7,
     "user": {
      "displayName": "이명호",
      "userId": "12463539480991451694"
     }
    },
    "outputId": "87e3fb11-31da-403c-c4cf-92c901061133"
   },
   "outputs": [],
   "source": [
    "cones.drop('Price')"
   ]
  },
  {
   "cell_type": "code",
   "execution_count": null,
   "metadata": {
    "id": "Rnllbm41zIXy",
    "colab": {
     "base_uri": "https://localhost:8080/",
     "height": 237
    },
    "executionInfo": {
     "status": "ok",
     "timestamp": 1678948622133,
     "user_tz": -540,
     "elapsed": 427,
     "user": {
      "displayName": "이명호",
      "userId": "12463539480991451694"
     }
    },
    "outputId": "50b65c99-6c33-4f00-ab4d-a5eab2193b5d"
   },
   "outputs": [],
   "source": [
    "cones"
   ]
  },
  {
   "cell_type": "code",
   "execution_count": null,
   "metadata": {
    "id": "vVSj116pzIXy",
    "colab": {
     "base_uri": "https://localhost:8080/",
     "height": 237
    },
    "executionInfo": {
     "status": "ok",
     "timestamp": 1678948646902,
     "user_tz": -540,
     "elapsed": 300,
     "user": {
      "displayName": "이명호",
      "userId": "12463539480991451694"
     }
    },
    "outputId": "20ca5068-580a-47c5-efd3-cfe2a6181dfc"
   },
   "outputs": [],
   "source": [
    "cones_without_price = cones.drop('Price')\n",
    "cones_without_price"
   ]
  },
  {
   "cell_type": "code",
   "execution_count": null,
   "metadata": {
    "scrolled": true,
    "id": "WBCoBKaAzIXy",
    "colab": {
     "base_uri": "https://localhost:8080/",
     "height": 143
    },
    "executionInfo": {
     "status": "ok",
     "timestamp": 1678948666986,
     "user_tz": -540,
     "elapsed": 367,
     "user": {
      "displayName": "이명호",
      "userId": "12463539480991451694"
     }
    },
    "outputId": "cba8be40-bc69-4f3f-b41d-2c3c21bc8a63"
   },
   "outputs": [],
   "source": [
    "cones.where('Flavor', 'chocolate')"
   ]
  },
  {
   "cell_type": "code",
   "execution_count": null,
   "metadata": {
    "id": "lqFnIOhAzIXy",
    "colab": {
     "base_uri": "https://localhost:8080/",
     "height": 237
    },
    "executionInfo": {
     "status": "ok",
     "timestamp": 1678948686668,
     "user_tz": -540,
     "elapsed": 978,
     "user": {
      "displayName": "이명호",
      "userId": "12463539480991451694"
     }
    },
    "outputId": "9264322e-b00f-40dd-b002-05a3364c68b2"
   },
   "outputs": [],
   "source": [
    "cones.sort('Price')"
   ]
  },
  {
   "cell_type": "code",
   "execution_count": null,
   "metadata": {
    "scrolled": true,
    "id": "-I4HQeW8zIXz",
    "colab": {
     "base_uri": "https://localhost:8080/",
     "height": 237
    },
    "executionInfo": {
     "status": "ok",
     "timestamp": 1678948705753,
     "user_tz": -540,
     "elapsed": 325,
     "user": {
      "displayName": "이명호",
      "userId": "12463539480991451694"
     }
    },
    "outputId": "46ea1171-b39b-43a3-fa2d-91abb0c67516"
   },
   "outputs": [],
   "source": [
    "cones.sort('Price', descending=True)"
   ]
  },
  {
   "cell_type": "code",
   "execution_count": null,
   "metadata": {
    "id": "zVd1G-TLzIXz",
    "colab": {
     "base_uri": "https://localhost:8080/",
     "height": 237
    },
    "executionInfo": {
     "status": "ok",
     "timestamp": 1678948725091,
     "user_tz": -540,
     "elapsed": 314,
     "user": {
      "displayName": "이명호",
      "userId": "12463539480991451694"
     }
    },
    "outputId": "2a07b4ee-b346-4680-a3fa-65e917542dcb"
   },
   "outputs": [],
   "source": [
    "cones.sort('Flavor', descending=True)"
   ]
  },
  {
   "cell_type": "markdown",
   "metadata": {
    "id": "lSJe_EvtzIXz"
   },
   "source": [
    "### A more interesting table"
   ]
  },
  {
   "cell_type": "code",
   "source": [
    "Table.read_table('nba_salaries.csv')"
   ],
   "metadata": {
    "id": "sUc-QlfNppeS",
    "colab": {
     "base_uri": "https://localhost:8080/",
     "height": 392
    },
    "executionInfo": {
     "status": "ok",
     "timestamp": 1678948767211,
     "user_tz": -540,
     "elapsed": 308,
     "user": {
      "displayName": "이명호",
      "userId": "12463539480991451694"
     }
    },
    "outputId": "4f64c33b-e237-4550-c458-7892882554d8"
   },
   "execution_count": null,
   "outputs": []
  },
  {
   "cell_type": "code",
   "execution_count": null,
   "metadata": {
    "id": "TleECv0rzIXz",
    "colab": {
     "base_uri": "https://localhost:8080/",
     "height": 392
    },
    "executionInfo": {
     "status": "ok",
     "timestamp": 1678948844778,
     "user_tz": -540,
     "elapsed": 326,
     "user": {
      "displayName": "이명호",
      "userId": "12463539480991451694"
     }
    },
    "outputId": "b9327b37-e69d-4ca1-b36c-c67488a1d911"
   },
   "outputs": [],
   "source": [
    "nba = Table.read_table('nba_salaries.csv').relabeled(3, 'SALARY')\n",
    "nba"
   ]
  },
  {
   "cell_type": "code",
   "execution_count": null,
   "metadata": {
    "id": "FZgNLaEVzIXz",
    "executionInfo": {
     "status": "ok",
     "timestamp": 1678948898646,
     "user_tz": -540,
     "elapsed": 417,
     "user": {
      "displayName": "이명호",
      "userId": "12463539480991451694"
     }
    }
   },
   "outputs": [],
   "source": [
    "point_guards = nba.where('position', 'PG')"
   ]
  },
  {
   "cell_type": "code",
   "execution_count": null,
   "metadata": {
    "id": "5WDHjbHszIXz",
    "colab": {
     "base_uri": "https://localhost:8080/",
     "height": 392
    },
    "executionInfo": {
     "status": "ok",
     "timestamp": 1678948901500,
     "user_tz": -540,
     "elapsed": 354,
     "user": {
      "displayName": "이명호",
      "userId": "12463539480991451694"
     }
    },
    "outputId": "6bcdd4c8-689b-4938-c60f-8c61550bef6e"
   },
   "outputs": [],
   "source": [
    "point_guards"
   ]
  },
  {
   "cell_type": "code",
   "execution_count": null,
   "metadata": {
    "id": "NmRyB2gjzIXz",
    "colab": {
     "base_uri": "https://localhost:8080/",
     "height": 392
    },
    "executionInfo": {
     "status": "ok",
     "timestamp": 1678948945643,
     "user_tz": -540,
     "elapsed": 490,
     "user": {
      "displayName": "이명호",
      "userId": "12463539480991451694"
     }
    },
    "outputId": "196938ac-8f0f-42a5-bdfe-46885cf5432c"
   },
   "outputs": [],
   "source": [
    "point_guards.drop('position')"
   ]
  },
  {
   "cell_type": "code",
   "execution_count": null,
   "metadata": {
    "id": "2smLBIL_zIXz",
    "colab": {
     "base_uri": "https://localhost:8080/",
     "height": 392
    },
    "executionInfo": {
     "status": "ok",
     "timestamp": 1678948956547,
     "user_tz": -540,
     "elapsed": 418,
     "user": {
      "displayName": "이명호",
      "userId": "12463539480991451694"
     }
    },
    "outputId": "7b22d633-025c-4126-ab6e-0f58923df14d"
   },
   "outputs": [],
   "source": [
    "point_guards"
   ]
  },
  {
   "cell_type": "code",
   "execution_count": null,
   "metadata": {
    "id": "H--w1r7uzIXz",
    "executionInfo": {
     "status": "ok",
     "timestamp": 1678948969142,
     "user_tz": -540,
     "elapsed": 946,
     "user": {
      "displayName": "이명호",
      "userId": "12463539480991451694"
     }
    }
   },
   "outputs": [],
   "source": [
    "point_guards = point_guards.drop('position')"
   ]
  },
  {
   "cell_type": "code",
   "execution_count": null,
   "metadata": {
    "id": "apeF6nJYzIXz"
   },
   "outputs": [],
   "source": [
    "point_guards.sort('SALARY', descending=True).show()"
   ]
  },
  {
   "cell_type": "code",
   "execution_count": null,
   "metadata": {
    "id": "XGs9dipuzIXz",
    "colab": {
     "base_uri": "https://localhost:8080/",
     "height": 549
    },
    "executionInfo": {
     "status": "ok",
     "timestamp": 1678949083142,
     "user_tz": -540,
     "elapsed": 537,
     "user": {
      "displayName": "이명호",
      "userId": "12463539480991451694"
     }
    },
    "outputId": "e4f89291-2b31-4d20-b2b7-a7c5d32a5f34"
   },
   "outputs": [],
   "source": [
    "point_guards.sort('salary', descending=True).show(15)"
   ]
  },
  {
   "cell_type": "code",
   "source": [
    "nba.where('position')"
   ],
   "metadata": {
    "id": "ztyqwkUTzXzH",
    "colab": {
     "base_uri": "https://localhost:8080/",
     "height": 392
    },
    "executionInfo": {
     "status": "ok",
     "timestamp": 1678949109895,
     "user_tz": -540,
     "elapsed": 316,
     "user": {
      "displayName": "이명호",
      "userId": "12463539480991451694"
     }
    },
    "outputId": "34fa5d46-3442-49c4-c72e-90fe381a5884"
   },
   "execution_count": null,
   "outputs": []
  },
  {
   "cell_type": "code",
   "execution_count": null,
   "metadata": {
    "id": "r0rbhFwszIXz",
    "colab": {
     "base_uri": "https://localhost:8080/",
     "height": 378
    },
    "executionInfo": {
     "status": "error",
     "timestamp": 1678949129141,
     "user_tz": -540,
     "elapsed": 302,
     "user": {
      "displayName": "이명호",
      "userId": "12463539480991451694"
     }
    },
    "outputId": "89fa2dc1-a473-46ca-ce01-6899b69d45c8"
   },
   "outputs": [],
   "source": [
    "nba.drop('position').where('position', 'PG')"
   ]
  }
 ],
 "metadata": {
  "anaconda-cloud": {},
  "kernelspec": {
   "display_name": "Python 3 (ipykernel)",
   "language": "python",
   "name": "python3"
  },
  "language_info": {
   "codemirror_mode": {
    "name": "ipython",
    "version": 3
   },
   "file_extension": ".py",
   "mimetype": "text/x-python",
   "name": "python",
   "nbconvert_exporter": "python",
   "pygments_lexer": "ipython3",
   "version": "3.9.7"
  },
  "colab": {
   "provenance": []
  }
 },
 "nbformat": 4,
 "nbformat_minor": 0
}
