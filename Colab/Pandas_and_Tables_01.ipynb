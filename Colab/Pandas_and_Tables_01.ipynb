{
 "nbformat": 4,
 "nbformat_minor": 0,
 "metadata": {
  "colab": {
   "provenance": [],
   "toc_visible": true
  },
  "kernelspec": {
   "name": "python3",
   "language": "python",
   "display_name": "Python 3 (ipykernel)"
  },
  "language_info": {
   "name": "python"
  }
 },
 "cells": [
  {
   "cell_type": "code",
   "execution_count": 43,
   "metadata": {
    "id": "0wGYMUps9o49",
    "ExecuteTime": {
     "end_time": "2024-03-27T07:55:18.150573Z",
     "start_time": "2024-03-27T07:55:18.147638Z"
    }
   },
   "outputs": [],
   "source": [
    "import datetime as dt\n",
    "import numpy as np\n",
    "import pandas as pd"
   ]
  },
  {
   "cell_type": "code",
   "source": [
    "pd.__version__"
   ],
   "metadata": {
    "id": "5ynGtbvmD1_Z",
    "ExecuteTime": {
     "end_time": "2024-03-27T07:55:23.217382Z",
     "start_time": "2024-03-27T07:55:23.214Z"
    }
   },
   "execution_count": 44,
   "outputs": [
    {
     "data": {
      "text/plain": "'2.2.1'"
     },
     "execution_count": 44,
     "metadata": {},
     "output_type": "execute_result"
    }
   ]
  },
  {
   "cell_type": "markdown",
   "source": [
    "# Creating a DataFrame object"
   ],
   "metadata": {
    "id": "yZim1C6bTIli"
   }
  },
  {
   "cell_type": "markdown",
   "source": [
    "Creating a DataFrame object from a Series object"
   ],
   "metadata": {
    "id": "oWG4nQ_9Ed-Q"
   }
  },
  {
   "cell_type": "code",
   "source": [
    "np.random.seed(0) # set a seed for reproducibility\n",
    "# index를 manual하게 넣어줌. 안 넣었으면 자동으로 0,1,2,3,4\n",
    "s = pd.Series(np.random.rand(5), index = [\"a\",\"b\",\"c\",\"d\",\"e\"],name=\"Column_name\")\n",
    "# google colab에서 column명은 0으로 들어간다.\n",
    "s"
   ],
   "metadata": {
    "id": "pbTygACaEios",
    "ExecuteTime": {
     "end_time": "2024-03-27T07:58:03.961883Z",
     "start_time": "2024-03-27T07:58:03.957411Z"
    }
   },
   "execution_count": 48,
   "outputs": [
    {
     "data": {
      "text/plain": "a    0.548814\nb    0.715189\nc    0.602763\nd    0.544883\ne    0.423655\nName: Column_name, dtype: float64"
     },
     "execution_count": 48,
     "metadata": {},
     "output_type": "execute_result"
    }
   ]
  },
  {
   "cell_type": "code",
   "source": [
    "s.to_frame()"
   ],
   "metadata": {
    "id": "qMX6FVr-Fm5p",
    "ExecuteTime": {
     "end_time": "2024-03-27T07:58:05.766218Z",
     "start_time": "2024-03-27T07:58:05.761091Z"
    }
   },
   "execution_count": 49,
   "outputs": [
    {
     "data": {
      "text/plain": "   Column_name\na     0.548814\nb     0.715189\nc     0.602763\nd     0.544883\ne     0.423655",
      "text/html": "<div>\n<style scoped>\n    .dataframe tbody tr th:only-of-type {\n        vertical-align: middle;\n    }\n\n    .dataframe tbody tr th {\n        vertical-align: top;\n    }\n\n    .dataframe thead th {\n        text-align: right;\n    }\n</style>\n<table border=\"1\" class=\"dataframe\">\n  <thead>\n    <tr style=\"text-align: right;\">\n      <th></th>\n      <th>Column_name</th>\n    </tr>\n  </thead>\n  <tbody>\n    <tr>\n      <th>a</th>\n      <td>0.548814</td>\n    </tr>\n    <tr>\n      <th>b</th>\n      <td>0.715189</td>\n    </tr>\n    <tr>\n      <th>c</th>\n      <td>0.602763</td>\n    </tr>\n    <tr>\n      <th>d</th>\n      <td>0.544883</td>\n    </tr>\n    <tr>\n      <th>e</th>\n      <td>0.423655</td>\n    </tr>\n  </tbody>\n</table>\n</div>"
     },
     "execution_count": 49,
     "metadata": {},
     "output_type": "execute_result"
    }
   ]
  },
  {
   "cell_type": "code",
   "source": [
    "pd.Series(np.linspace(0,10,num=5))"
   ],
   "metadata": {
    "id": "m56jyubCE1KR",
    "ExecuteTime": {
     "end_time": "2024-03-27T07:58:30.078041Z",
     "start_time": "2024-03-27T07:58:30.073404Z"
    }
   },
   "execution_count": 51,
   "outputs": [
    {
     "data": {
      "text/plain": "0     0.0\n1     2.5\n2     5.0\n3     7.5\n4    10.0\ndtype: float64"
     },
     "execution_count": 51,
     "metadata": {},
     "output_type": "execute_result"
    }
   ]
  },
  {
   "cell_type": "code",
   "source": [
    "pd.Series(np.linspace(0,10,num=5)).to_frame()"
   ],
   "metadata": {
    "id": "KFLnC2tpFd7d",
    "ExecuteTime": {
     "end_time": "2024-03-27T07:59:00.553626Z",
     "start_time": "2024-03-27T07:59:00.548130Z"
    }
   },
   "execution_count": 53,
   "outputs": [
    {
     "data": {
      "text/plain": "      0\n0   0.0\n1   2.5\n2   5.0\n3   7.5\n4  10.0",
      "text/html": "<div>\n<style scoped>\n    .dataframe tbody tr th:only-of-type {\n        vertical-align: middle;\n    }\n\n    .dataframe tbody tr th {\n        vertical-align: top;\n    }\n\n    .dataframe thead th {\n        text-align: right;\n    }\n</style>\n<table border=\"1\" class=\"dataframe\">\n  <thead>\n    <tr style=\"text-align: right;\">\n      <th></th>\n      <th>0</th>\n    </tr>\n  </thead>\n  <tbody>\n    <tr>\n      <th>0</th>\n      <td>0.0</td>\n    </tr>\n    <tr>\n      <th>1</th>\n      <td>2.5</td>\n    </tr>\n    <tr>\n      <th>2</th>\n      <td>5.0</td>\n    </tr>\n    <tr>\n      <th>3</th>\n      <td>7.5</td>\n    </tr>\n    <tr>\n      <th>4</th>\n      <td>10.0</td>\n    </tr>\n  </tbody>\n</table>\n</div>"
     },
     "execution_count": 53,
     "metadata": {},
     "output_type": "execute_result"
    }
   ]
  },
  {
   "cell_type": "markdown",
   "source": [
    "Creating a DataFrame from Dict"
   ],
   "metadata": {
    "id": "V6GRTzJOFxk_"
   }
  },
  {
   "cell_type": "code",
   "source": [
    "data = {'apples':[3,2,0,1], 'orange':[0,3,7,2]}\n",
    "type(data)"
   ],
   "metadata": {
    "id": "o0tjRxywFw7k",
    "ExecuteTime": {
     "end_time": "2024-03-27T07:59:01.879964Z",
     "start_time": "2024-03-27T07:59:01.875827Z"
    }
   },
   "execution_count": 54,
   "outputs": [
    {
     "data": {
      "text/plain": "dict"
     },
     "execution_count": 54,
     "metadata": {},
     "output_type": "execute_result"
    }
   ]
  },
  {
   "cell_type": "code",
   "source": [
    "df = pd.DataFrame(data)\n",
    "df"
   ],
   "metadata": {
    "id": "lvhSFi4AGAnE",
    "ExecuteTime": {
     "end_time": "2024-03-27T07:59:02.768313Z",
     "start_time": "2024-03-27T07:59:02.763438Z"
    }
   },
   "execution_count": 55,
   "outputs": [
    {
     "data": {
      "text/plain": "   apples  orange\n0       3       0\n1       2       3\n2       0       7\n3       1       2",
      "text/html": "<div>\n<style scoped>\n    .dataframe tbody tr th:only-of-type {\n        vertical-align: middle;\n    }\n\n    .dataframe tbody tr th {\n        vertical-align: top;\n    }\n\n    .dataframe thead th {\n        text-align: right;\n    }\n</style>\n<table border=\"1\" class=\"dataframe\">\n  <thead>\n    <tr style=\"text-align: right;\">\n      <th></th>\n      <th>apples</th>\n      <th>orange</th>\n    </tr>\n  </thead>\n  <tbody>\n    <tr>\n      <th>0</th>\n      <td>3</td>\n      <td>0</td>\n    </tr>\n    <tr>\n      <th>1</th>\n      <td>2</td>\n      <td>3</td>\n    </tr>\n    <tr>\n      <th>2</th>\n      <td>0</td>\n      <td>7</td>\n    </tr>\n    <tr>\n      <th>3</th>\n      <td>1</td>\n      <td>2</td>\n    </tr>\n  </tbody>\n</table>\n</div>"
     },
     "execution_count": 55,
     "metadata": {},
     "output_type": "execute_result"
    }
   ]
  },
  {
   "cell_type": "code",
   "source": [
    "df.index = ['Ace', 'Baloon', 'Coco', 'Data']\n",
    "df"
   ],
   "metadata": {
    "id": "N54zYcYRKq0c",
    "ExecuteTime": {
     "end_time": "2024-03-27T07:59:05.849047Z",
     "start_time": "2024-03-27T07:59:05.845815Z"
    }
   },
   "execution_count": 56,
   "outputs": [
    {
     "data": {
      "text/plain": "        apples  orange\nAce          3       0\nBaloon       2       3\nCoco         0       7\nData         1       2",
      "text/html": "<div>\n<style scoped>\n    .dataframe tbody tr th:only-of-type {\n        vertical-align: middle;\n    }\n\n    .dataframe tbody tr th {\n        vertical-align: top;\n    }\n\n    .dataframe thead th {\n        text-align: right;\n    }\n</style>\n<table border=\"1\" class=\"dataframe\">\n  <thead>\n    <tr style=\"text-align: right;\">\n      <th></th>\n      <th>apples</th>\n      <th>orange</th>\n    </tr>\n  </thead>\n  <tbody>\n    <tr>\n      <th>Ace</th>\n      <td>3</td>\n      <td>0</td>\n    </tr>\n    <tr>\n      <th>Baloon</th>\n      <td>2</td>\n      <td>3</td>\n    </tr>\n    <tr>\n      <th>Coco</th>\n      <td>0</td>\n      <td>7</td>\n    </tr>\n    <tr>\n      <th>Data</th>\n      <td>1</td>\n      <td>2</td>\n    </tr>\n  </tbody>\n</table>\n</div>"
     },
     "execution_count": 56,
     "metadata": {},
     "output_type": "execute_result"
    }
   ]
  },
  {
   "cell_type": "code",
   "source": [
    "df2 = pd.DataFrame(data, index =['Ace', 'Baloon', 'Coco', 'Data'])\n",
    "df2"
   ],
   "metadata": {
    "id": "Rl581tILK2rd",
    "ExecuteTime": {
     "end_time": "2024-03-27T08:03:23.357859Z",
     "start_time": "2024-03-27T08:03:23.351584Z"
    }
   },
   "execution_count": 57,
   "outputs": [
    {
     "data": {
      "text/plain": "        apples  orange\nAce          3       0\nBaloon       2       3\nCoco         0       7\nData         1       2",
      "text/html": "<div>\n<style scoped>\n    .dataframe tbody tr th:only-of-type {\n        vertical-align: middle;\n    }\n\n    .dataframe tbody tr th {\n        vertical-align: top;\n    }\n\n    .dataframe thead th {\n        text-align: right;\n    }\n</style>\n<table border=\"1\" class=\"dataframe\">\n  <thead>\n    <tr style=\"text-align: right;\">\n      <th></th>\n      <th>apples</th>\n      <th>orange</th>\n    </tr>\n  </thead>\n  <tbody>\n    <tr>\n      <th>Ace</th>\n      <td>3</td>\n      <td>0</td>\n    </tr>\n    <tr>\n      <th>Baloon</th>\n      <td>2</td>\n      <td>3</td>\n    </tr>\n    <tr>\n      <th>Coco</th>\n      <td>0</td>\n      <td>7</td>\n    </tr>\n    <tr>\n      <th>Data</th>\n      <td>1</td>\n      <td>2</td>\n    </tr>\n  </tbody>\n</table>\n</div>"
     },
     "execution_count": 57,
     "metadata": {},
     "output_type": "execute_result"
    }
   ]
  },
  {
   "cell_type": "code",
   "source": [
    "pd.DataFrame(\n",
    "    {\n",
    "        'random':np.random.rand(5),\n",
    "        'text':['hot','warm','cool','cold',None],\n",
    "        'truth':[np.random.choice([True,False]) for _ in range(5)]\n",
    "    },\n",
    "    index= pd.date_range(\n",
    "        end=dt.date(2019, 4, 21),\n",
    "        freq='1D',\n",
    "        periods=5,\n",
    "        name='date'\n",
    "    )\n",
    ")"
   ],
   "metadata": {
    "id": "iNGIT43TMPzX",
    "ExecuteTime": {
     "end_time": "2024-03-27T08:03:57.621268Z",
     "start_time": "2024-03-27T08:03:57.613635Z"
    }
   },
   "execution_count": 58,
   "outputs": [
    {
     "data": {
      "text/plain": "              random  text  truth\ndate                             \n2019-04-17  0.645894   hot   True\n2019-04-18  0.437587  warm  False\n2019-04-19  0.891773  cool  False\n2019-04-20  0.963663  cold   True\n2019-04-21  0.383442  None   True",
      "text/html": "<div>\n<style scoped>\n    .dataframe tbody tr th:only-of-type {\n        vertical-align: middle;\n    }\n\n    .dataframe tbody tr th {\n        vertical-align: top;\n    }\n\n    .dataframe thead th {\n        text-align: right;\n    }\n</style>\n<table border=\"1\" class=\"dataframe\">\n  <thead>\n    <tr style=\"text-align: right;\">\n      <th></th>\n      <th>random</th>\n      <th>text</th>\n      <th>truth</th>\n    </tr>\n    <tr>\n      <th>date</th>\n      <th></th>\n      <th></th>\n      <th></th>\n    </tr>\n  </thead>\n  <tbody>\n    <tr>\n      <th>2019-04-17</th>\n      <td>0.645894</td>\n      <td>hot</td>\n      <td>True</td>\n    </tr>\n    <tr>\n      <th>2019-04-18</th>\n      <td>0.437587</td>\n      <td>warm</td>\n      <td>False</td>\n    </tr>\n    <tr>\n      <th>2019-04-19</th>\n      <td>0.891773</td>\n      <td>cool</td>\n      <td>False</td>\n    </tr>\n    <tr>\n      <th>2019-04-20</th>\n      <td>0.963663</td>\n      <td>cold</td>\n      <td>True</td>\n    </tr>\n    <tr>\n      <th>2019-04-21</th>\n      <td>0.383442</td>\n      <td>None</td>\n      <td>True</td>\n    </tr>\n  </tbody>\n</table>\n</div>"
     },
     "execution_count": 58,
     "metadata": {},
     "output_type": "execute_result"
    }
   ]
  },
  {
   "cell_type": "markdown",
   "source": [
    "from_dict() method"
   ],
   "metadata": {
    "id": "ZABUSNi1Oxkz"
   }
  },
  {
   "cell_type": "code",
   "source": [
    "data = {'col_1': [3, 2, 1, 0], 'col_2': ['a', 'b', 'c', 'd']}\n",
    "data"
   ],
   "metadata": {
    "id": "HtsFt0IuOtiK",
    "ExecuteTime": {
     "end_time": "2024-03-27T08:05:55.254281Z",
     "start_time": "2024-03-27T08:05:55.250018Z"
    }
   },
   "execution_count": 59,
   "outputs": [
    {
     "data": {
      "text/plain": "{'col_1': [3, 2, 1, 0], 'col_2': ['a', 'b', 'c', 'd']}"
     },
     "execution_count": 59,
     "metadata": {},
     "output_type": "execute_result"
    }
   ]
  },
  {
   "cell_type": "code",
   "source": [
    "pd.DataFrame.from_dict(data)"
   ],
   "metadata": {
    "id": "q2ALFFFUO-RI",
    "ExecuteTime": {
     "end_time": "2024-03-27T08:05:57.200684Z",
     "start_time": "2024-03-27T08:05:57.196325Z"
    }
   },
   "execution_count": 60,
   "outputs": [
    {
     "data": {
      "text/plain": "   col_1 col_2\n0      3     a\n1      2     b\n2      1     c\n3      0     d",
      "text/html": "<div>\n<style scoped>\n    .dataframe tbody tr th:only-of-type {\n        vertical-align: middle;\n    }\n\n    .dataframe tbody tr th {\n        vertical-align: top;\n    }\n\n    .dataframe thead th {\n        text-align: right;\n    }\n</style>\n<table border=\"1\" class=\"dataframe\">\n  <thead>\n    <tr style=\"text-align: right;\">\n      <th></th>\n      <th>col_1</th>\n      <th>col_2</th>\n    </tr>\n  </thead>\n  <tbody>\n    <tr>\n      <th>0</th>\n      <td>3</td>\n      <td>a</td>\n    </tr>\n    <tr>\n      <th>1</th>\n      <td>2</td>\n      <td>b</td>\n    </tr>\n    <tr>\n      <th>2</th>\n      <td>1</td>\n      <td>c</td>\n    </tr>\n    <tr>\n      <th>3</th>\n      <td>0</td>\n      <td>d</td>\n    </tr>\n  </tbody>\n</table>\n</div>"
     },
     "execution_count": 60,
     "metadata": {},
     "output_type": "execute_result"
    }
   ]
  },
  {
   "cell_type": "code",
   "source": [
    "pd.DataFrame.from_dict(data, orient='index') # 전치된 행렬이 나온다."
   ],
   "metadata": {
    "id": "2aSZKH9TPC4J",
    "ExecuteTime": {
     "end_time": "2024-03-27T08:07:15.421983Z",
     "start_time": "2024-03-27T08:07:15.416182Z"
    }
   },
   "execution_count": 62,
   "outputs": [
    {
     "data": {
      "text/plain": "       0  1  2  3\ncol_1  3  2  1  0\ncol_2  a  b  c  d",
      "text/html": "<div>\n<style scoped>\n    .dataframe tbody tr th:only-of-type {\n        vertical-align: middle;\n    }\n\n    .dataframe tbody tr th {\n        vertical-align: top;\n    }\n\n    .dataframe thead th {\n        text-align: right;\n    }\n</style>\n<table border=\"1\" class=\"dataframe\">\n  <thead>\n    <tr style=\"text-align: right;\">\n      <th></th>\n      <th>0</th>\n      <th>1</th>\n      <th>2</th>\n      <th>3</th>\n    </tr>\n  </thead>\n  <tbody>\n    <tr>\n      <th>col_1</th>\n      <td>3</td>\n      <td>2</td>\n      <td>1</td>\n      <td>0</td>\n    </tr>\n    <tr>\n      <th>col_2</th>\n      <td>a</td>\n      <td>b</td>\n      <td>c</td>\n      <td>d</td>\n    </tr>\n  </tbody>\n</table>\n</div>"
     },
     "execution_count": 62,
     "metadata": {},
     "output_type": "execute_result"
    }
   ]
  },
  {
   "cell_type": "code",
   "source": [
    "df3 = pd.DataFrame.from_dict(data, orient='index')\n",
    "df3.index = ['row1','row2']\n",
    "df3"
   ],
   "metadata": {
    "id": "tqZCfcF7PKrQ",
    "ExecuteTime": {
     "end_time": "2024-03-27T08:07:16.364271Z",
     "start_time": "2024-03-27T08:07:16.360806Z"
    }
   },
   "execution_count": 63,
   "outputs": [
    {
     "data": {
      "text/plain": "      0  1  2  3\nrow1  3  2  1  0\nrow2  a  b  c  d",
      "text/html": "<div>\n<style scoped>\n    .dataframe tbody tr th:only-of-type {\n        vertical-align: middle;\n    }\n\n    .dataframe tbody tr th {\n        vertical-align: top;\n    }\n\n    .dataframe thead th {\n        text-align: right;\n    }\n</style>\n<table border=\"1\" class=\"dataframe\">\n  <thead>\n    <tr style=\"text-align: right;\">\n      <th></th>\n      <th>0</th>\n      <th>1</th>\n      <th>2</th>\n      <th>3</th>\n    </tr>\n  </thead>\n  <tbody>\n    <tr>\n      <th>row1</th>\n      <td>3</td>\n      <td>2</td>\n      <td>1</td>\n      <td>0</td>\n    </tr>\n    <tr>\n      <th>row2</th>\n      <td>a</td>\n      <td>b</td>\n      <td>c</td>\n      <td>d</td>\n    </tr>\n  </tbody>\n</table>\n</div>"
     },
     "execution_count": 63,
     "metadata": {},
     "output_type": "execute_result"
    }
   ]
  },
  {
   "cell_type": "code",
   "source": [
    "df4 = pd.DataFrame.from_dict(data, orient='index', columns = ['A','B','C','D'])\n",
    "df4"
   ],
   "metadata": {
    "id": "9uq1v4RuQMhw",
    "ExecuteTime": {
     "end_time": "2024-03-27T08:07:18.497717Z",
     "start_time": "2024-03-27T08:07:18.491934Z"
    }
   },
   "execution_count": 64,
   "outputs": [
    {
     "data": {
      "text/plain": "       A  B  C  D\ncol_1  3  2  1  0\ncol_2  a  b  c  d",
      "text/html": "<div>\n<style scoped>\n    .dataframe tbody tr th:only-of-type {\n        vertical-align: middle;\n    }\n\n    .dataframe tbody tr th {\n        vertical-align: top;\n    }\n\n    .dataframe thead th {\n        text-align: right;\n    }\n</style>\n<table border=\"1\" class=\"dataframe\">\n  <thead>\n    <tr style=\"text-align: right;\">\n      <th></th>\n      <th>A</th>\n      <th>B</th>\n      <th>C</th>\n      <th>D</th>\n    </tr>\n  </thead>\n  <tbody>\n    <tr>\n      <th>col_1</th>\n      <td>3</td>\n      <td>2</td>\n      <td>1</td>\n      <td>0</td>\n    </tr>\n    <tr>\n      <th>col_2</th>\n      <td>a</td>\n      <td>b</td>\n      <td>c</td>\n      <td>d</td>\n    </tr>\n  </tbody>\n</table>\n</div>"
     },
     "execution_count": 64,
     "metadata": {},
     "output_type": "execute_result"
    }
   ]
  },
  {
   "cell_type": "code",
   "source": [
    "pd.DataFrame([\n",
    "    {'mag':5.2, 'place':'California'},\n",
    "    {'mag':1.2, 'place':'Alaska'},\n",
    "    {'mag':0.2, 'place':'California'}\n",
    "])"
   ],
   "metadata": {
    "id": "8qvveYbXRF0V",
    "ExecuteTime": {
     "end_time": "2024-03-27T08:07:27.217843Z",
     "start_time": "2024-03-27T08:07:27.211494Z"
    }
   },
   "execution_count": 65,
   "outputs": [
    {
     "data": {
      "text/plain": "   mag       place\n0  5.2  California\n1  1.2      Alaska\n2  0.2  California",
      "text/html": "<div>\n<style scoped>\n    .dataframe tbody tr th:only-of-type {\n        vertical-align: middle;\n    }\n\n    .dataframe tbody tr th {\n        vertical-align: top;\n    }\n\n    .dataframe thead th {\n        text-align: right;\n    }\n</style>\n<table border=\"1\" class=\"dataframe\">\n  <thead>\n    <tr style=\"text-align: right;\">\n      <th></th>\n      <th>mag</th>\n      <th>place</th>\n    </tr>\n  </thead>\n  <tbody>\n    <tr>\n      <th>0</th>\n      <td>5.2</td>\n      <td>California</td>\n    </tr>\n    <tr>\n      <th>1</th>\n      <td>1.2</td>\n      <td>Alaska</td>\n    </tr>\n    <tr>\n      <th>2</th>\n      <td>0.2</td>\n      <td>California</td>\n    </tr>\n  </tbody>\n</table>\n</div>"
     },
     "execution_count": 65,
     "metadata": {},
     "output_type": "execute_result"
    }
   ]
  },
  {
   "cell_type": "code",
   "source": [
    "list_of_tuples = [(n, n**2, n**3) for n in range(5)]\n",
    "list_of_tuples"
   ],
   "metadata": {
    "id": "Jzus7fkBSFut",
    "ExecuteTime": {
     "end_time": "2024-03-27T08:07:37.957725Z",
     "start_time": "2024-03-27T08:07:37.954178Z"
    }
   },
   "execution_count": 66,
   "outputs": [
    {
     "data": {
      "text/plain": "[(0, 0, 0), (1, 1, 1), (2, 4, 8), (3, 9, 27), (4, 16, 64)]"
     },
     "execution_count": 66,
     "metadata": {},
     "output_type": "execute_result"
    }
   ]
  },
  {
   "cell_type": "code",
   "source": [
    "df1 = pd.DataFrame(\n",
    "    list_of_tuples,\n",
    "    #columns = ['n', 'n_squared', 'n_cubed'],\n",
    ")\n",
    "df1"
   ],
   "metadata": {
    "id": "zFu6QJNsSQkR",
    "ExecuteTime": {
     "end_time": "2024-03-27T08:11:21.398849Z",
     "start_time": "2024-03-27T08:11:21.394956Z"
    }
   },
   "execution_count": 74,
   "outputs": [
    {
     "data": {
      "text/plain": "   0   1   2\n0  0   0   0\n1  1   1   1\n2  2   4   8\n3  3   9  27\n4  4  16  64",
      "text/html": "<div>\n<style scoped>\n    .dataframe tbody tr th:only-of-type {\n        vertical-align: middle;\n    }\n\n    .dataframe tbody tr th {\n        vertical-align: top;\n    }\n\n    .dataframe thead th {\n        text-align: right;\n    }\n</style>\n<table border=\"1\" class=\"dataframe\">\n  <thead>\n    <tr style=\"text-align: right;\">\n      <th></th>\n      <th>0</th>\n      <th>1</th>\n      <th>2</th>\n    </tr>\n  </thead>\n  <tbody>\n    <tr>\n      <th>0</th>\n      <td>0</td>\n      <td>0</td>\n      <td>0</td>\n    </tr>\n    <tr>\n      <th>1</th>\n      <td>1</td>\n      <td>1</td>\n      <td>1</td>\n    </tr>\n    <tr>\n      <th>2</th>\n      <td>2</td>\n      <td>4</td>\n      <td>8</td>\n    </tr>\n    <tr>\n      <th>3</th>\n      <td>3</td>\n      <td>9</td>\n      <td>27</td>\n    </tr>\n    <tr>\n      <th>4</th>\n      <td>4</td>\n      <td>16</td>\n      <td>64</td>\n    </tr>\n  </tbody>\n</table>\n</div>"
     },
     "execution_count": 74,
     "metadata": {},
     "output_type": "execute_result"
    }
   ]
  },
  {
   "cell_type": "code",
   "outputs": [
    {
     "data": {
      "text/plain": "   n  n^2  n^2\n0  0    0    0\n1  1    1    1\n2  2    4    8\n3  3    9   27\n4  4   16   64",
      "text/html": "<div>\n<style scoped>\n    .dataframe tbody tr th:only-of-type {\n        vertical-align: middle;\n    }\n\n    .dataframe tbody tr th {\n        vertical-align: top;\n    }\n\n    .dataframe thead th {\n        text-align: right;\n    }\n</style>\n<table border=\"1\" class=\"dataframe\">\n  <thead>\n    <tr style=\"text-align: right;\">\n      <th></th>\n      <th>n</th>\n      <th>n^2</th>\n      <th>n^2</th>\n    </tr>\n  </thead>\n  <tbody>\n    <tr>\n      <th>0</th>\n      <td>0</td>\n      <td>0</td>\n      <td>0</td>\n    </tr>\n    <tr>\n      <th>1</th>\n      <td>1</td>\n      <td>1</td>\n      <td>1</td>\n    </tr>\n    <tr>\n      <th>2</th>\n      <td>2</td>\n      <td>4</td>\n      <td>8</td>\n    </tr>\n    <tr>\n      <th>3</th>\n      <td>3</td>\n      <td>9</td>\n      <td>27</td>\n    </tr>\n    <tr>\n      <th>4</th>\n      <td>4</td>\n      <td>16</td>\n      <td>64</td>\n    </tr>\n  </tbody>\n</table>\n</div>"
     },
     "execution_count": 75,
     "metadata": {},
     "output_type": "execute_result"
    }
   ],
   "source": [
    "df1.columns =['n','n^2','n^2']\n",
    "df1"
   ],
   "metadata": {
    "collapsed": false,
    "ExecuteTime": {
     "end_time": "2024-03-27T08:11:21.839272Z",
     "start_time": "2024-03-27T08:11:21.836214Z"
    }
   },
   "execution_count": 75
  },
  {
   "cell_type": "markdown",
   "source": [
    "# Reading data from a CSV file"
   ],
   "metadata": {
    "id": "qaF63AigTCFR"
   }
  },
  {
   "cell_type": "code",
   "source": [
    "#from google.colab import files\n",
    "#file_uploaded = files.upload()"
   ],
   "metadata": {
    "id": "QCMYLRGnV2MW"
   },
   "execution_count": null,
   "outputs": []
  },
  {
   "cell_type": "code",
   "source": [
    "df = pd.read_csv('dataset.csv')\n",
    "df"
   ],
   "metadata": {
    "id": "j5EeRsbIZZd5",
    "ExecuteTime": {
     "end_time": "2024-03-27T08:18:19.768918Z",
     "start_time": "2024-03-27T08:18:19.763907Z"
    }
   },
   "execution_count": 80,
   "outputs": [
    {
     "data": {
      "text/plain": "        apples   oranges\nAce          3         0\nBaloon       2         3\nCoco         0         7\nData         1         2",
      "text/html": "<div>\n<style scoped>\n    .dataframe tbody tr th:only-of-type {\n        vertical-align: middle;\n    }\n\n    .dataframe tbody tr th {\n        vertical-align: top;\n    }\n\n    .dataframe thead th {\n        text-align: right;\n    }\n</style>\n<table border=\"1\" class=\"dataframe\">\n  <thead>\n    <tr style=\"text-align: right;\">\n      <th></th>\n      <th>apples</th>\n      <th>oranges</th>\n    </tr>\n  </thead>\n  <tbody>\n    <tr>\n      <th>Ace</th>\n      <td>3</td>\n      <td>0</td>\n    </tr>\n    <tr>\n      <th>Baloon</th>\n      <td>2</td>\n      <td>3</td>\n    </tr>\n    <tr>\n      <th>Coco</th>\n      <td>0</td>\n      <td>7</td>\n    </tr>\n    <tr>\n      <th>Data</th>\n      <td>1</td>\n      <td>2</td>\n    </tr>\n  </tbody>\n</table>\n</div>"
     },
     "execution_count": 80,
     "metadata": {},
     "output_type": "execute_result"
    }
   ]
  },
  {
   "cell_type": "code",
   "source": [
    "df = pd.read_csv('dataset.csv', index_col=0)\n",
    "df"
   ],
   "metadata": {
    "id": "JuWi_rlzZkUA",
    "ExecuteTime": {
     "end_time": "2024-03-27T08:18:20.561555Z",
     "start_time": "2024-03-27T08:18:20.555243Z"
    }
   },
   "execution_count": 81,
   "outputs": [
    {
     "data": {
      "text/plain": "        apples   oranges\nAce          3         0\nBaloon       2         3\nCoco         0         7\nData         1         2",
      "text/html": "<div>\n<style scoped>\n    .dataframe tbody tr th:only-of-type {\n        vertical-align: middle;\n    }\n\n    .dataframe tbody tr th {\n        vertical-align: top;\n    }\n\n    .dataframe thead th {\n        text-align: right;\n    }\n</style>\n<table border=\"1\" class=\"dataframe\">\n  <thead>\n    <tr style=\"text-align: right;\">\n      <th></th>\n      <th>apples</th>\n      <th>oranges</th>\n    </tr>\n  </thead>\n  <tbody>\n    <tr>\n      <th>Ace</th>\n      <td>3</td>\n      <td>0</td>\n    </tr>\n    <tr>\n      <th>Baloon</th>\n      <td>2</td>\n      <td>3</td>\n    </tr>\n    <tr>\n      <th>Coco</th>\n      <td>0</td>\n      <td>7</td>\n    </tr>\n    <tr>\n      <th>Data</th>\n      <td>1</td>\n      <td>2</td>\n    </tr>\n  </tbody>\n</table>\n</div>"
     },
     "execution_count": 81,
     "metadata": {},
     "output_type": "execute_result"
    }
   ]
  },
  {
   "cell_type": "code",
   "source": [
    "df.to_csv('./output.csv', index=False)"
   ],
   "metadata": {
    "id": "RWLbjQtgZy4j",
    "ExecuteTime": {
     "end_time": "2024-03-27T08:20:11.338358Z",
     "start_time": "2024-03-27T08:20:11.334571Z"
    }
   },
   "execution_count": 87,
   "outputs": []
  },
  {
   "cell_type": "markdown",
   "source": [
    "Drag and Drop"
   ],
   "metadata": {
    "id": "Qq7SpFfLbe50"
   }
  },
  {
   "cell_type": "code",
   "source": [
    "movies_df = pd.read_csv(\"./IMDB-Movie-Data.csv\", index_col=\"Title\") # Movie Ranking from 2006 to 2016\n",
    "movies_df"
   ],
   "metadata": {
    "id": "yJDrxvBSbeIy",
    "ExecuteTime": {
     "end_time": "2024-03-27T08:26:52.348032Z",
     "start_time": "2024-03-27T08:26:52.334765Z"
    }
   },
   "execution_count": 98,
   "outputs": [
    {
     "data": {
      "text/plain": "                         Rank                     Genre  \\\nTitle                                                     \nGuardians of the Galaxy     1   Action,Adventure,Sci-Fi   \nPrometheus                  2  Adventure,Mystery,Sci-Fi   \nSplit                       3           Horror,Thriller   \nSing                        4   Animation,Comedy,Family   \nSuicide Squad               5  Action,Adventure,Fantasy   \n...                       ...                       ...   \nSecret in Their Eyes      996       Crime,Drama,Mystery   \nHostel: Part II           997                    Horror   \nStep Up 2: The Streets    998       Drama,Music,Romance   \nSearch Party              999          Adventure,Comedy   \nNine Lives               1000     Comedy,Family,Fantasy   \n\n                                                               Description  \\\nTitle                                                                        \nGuardians of the Galaxy  A group of intergalactic criminals are forced ...   \nPrometheus               Following clues to the origin of mankind, a te...   \nSplit                    Three girls are kidnapped by a man with a diag...   \nSing                     In a city of humanoid animals, a hustling thea...   \nSuicide Squad            A secret government agency recruits some of th...   \n...                                                                    ...   \nSecret in Their Eyes     A tight-knit team of rising investigators, alo...   \nHostel: Part II          Three American college students studying abroa...   \nStep Up 2: The Streets   Romantic sparks occur between two dance studen...   \nSearch Party             A pair of friends embark on a mission to reuni...   \nNine Lives               A stuffy businessman finds himself trapped ins...   \n\n                                     Director  \\\nTitle                                           \nGuardians of the Galaxy            James Gunn   \nPrometheus                       Ridley Scott   \nSplit                      M. Night Shyamalan   \nSing                     Christophe Lourdelet   \nSuicide Squad                      David Ayer   \n...                                       ...   \nSecret in Their Eyes                Billy Ray   \nHostel: Part II                      Eli Roth   \nStep Up 2: The Streets             Jon M. Chu   \nSearch Party                   Scot Armstrong   \nNine Lives                   Barry Sonnenfeld   \n\n                                                                    Actors  \\\nTitle                                                                        \nGuardians of the Galaxy  Chris Pratt, Vin Diesel, Bradley Cooper, Zoe S...   \nPrometheus               Noomi Rapace, Logan Marshall-Green, Michael Fa...   \nSplit                    James McAvoy, Anya Taylor-Joy, Haley Lu Richar...   \nSing                     Matthew McConaughey,Reese Witherspoon, Seth Ma...   \nSuicide Squad            Will Smith, Jared Leto, Margot Robbie, Viola D...   \n...                                                                    ...   \nSecret in Their Eyes     Chiwetel Ejiofor, Nicole Kidman, Julia Roberts...   \nHostel: Part II          Lauren German, Heather Matarazzo, Bijou Philli...   \nStep Up 2: The Streets   Robert Hoffman, Briana Evigan, Cassie Ventura,...   \nSearch Party             Adam Pally, T.J. Miller, Thomas Middleditch,Sh...   \nNine Lives               Kevin Spacey, Jennifer Garner, Robbie Amell,Ch...   \n\n                         Year  Runtime (Minutes)  Rating   Votes  \\\nTitle                                                              \nGuardians of the Galaxy  2014                121     8.1  757074   \nPrometheus               2012                124     7.0  485820   \nSplit                    2016                117     7.3  157606   \nSing                     2016                108     7.2   60545   \nSuicide Squad            2016                123     6.2  393727   \n...                       ...                ...     ...     ...   \nSecret in Their Eyes     2015                111     6.2   27585   \nHostel: Part II          2007                 94     5.5   73152   \nStep Up 2: The Streets   2008                 98     6.2   70699   \nSearch Party             2014                 93     5.6    4881   \nNine Lives               2016                 87     5.3   12435   \n\n                         Revenue (Millions)  Metascore  \nTitle                                                   \nGuardians of the Galaxy              333.13       76.0  \nPrometheus                           126.46       65.0  \nSplit                                138.12       62.0  \nSing                                 270.32       59.0  \nSuicide Squad                        325.02       40.0  \n...                                     ...        ...  \nSecret in Their Eyes                    NaN       45.0  \nHostel: Part II                       17.54       46.0  \nStep Up 2: The Streets                58.01       50.0  \nSearch Party                            NaN       22.0  \nNine Lives                            19.64       11.0  \n\n[1000 rows x 11 columns]",
      "text/html": "<div>\n<style scoped>\n    .dataframe tbody tr th:only-of-type {\n        vertical-align: middle;\n    }\n\n    .dataframe tbody tr th {\n        vertical-align: top;\n    }\n\n    .dataframe thead th {\n        text-align: right;\n    }\n</style>\n<table border=\"1\" class=\"dataframe\">\n  <thead>\n    <tr style=\"text-align: right;\">\n      <th></th>\n      <th>Rank</th>\n      <th>Genre</th>\n      <th>Description</th>\n      <th>Director</th>\n      <th>Actors</th>\n      <th>Year</th>\n      <th>Runtime (Minutes)</th>\n      <th>Rating</th>\n      <th>Votes</th>\n      <th>Revenue (Millions)</th>\n      <th>Metascore</th>\n    </tr>\n    <tr>\n      <th>Title</th>\n      <th></th>\n      <th></th>\n      <th></th>\n      <th></th>\n      <th></th>\n      <th></th>\n      <th></th>\n      <th></th>\n      <th></th>\n      <th></th>\n      <th></th>\n    </tr>\n  </thead>\n  <tbody>\n    <tr>\n      <th>Guardians of the Galaxy</th>\n      <td>1</td>\n      <td>Action,Adventure,Sci-Fi</td>\n      <td>A group of intergalactic criminals are forced ...</td>\n      <td>James Gunn</td>\n      <td>Chris Pratt, Vin Diesel, Bradley Cooper, Zoe S...</td>\n      <td>2014</td>\n      <td>121</td>\n      <td>8.1</td>\n      <td>757074</td>\n      <td>333.13</td>\n      <td>76.0</td>\n    </tr>\n    <tr>\n      <th>Prometheus</th>\n      <td>2</td>\n      <td>Adventure,Mystery,Sci-Fi</td>\n      <td>Following clues to the origin of mankind, a te...</td>\n      <td>Ridley Scott</td>\n      <td>Noomi Rapace, Logan Marshall-Green, Michael Fa...</td>\n      <td>2012</td>\n      <td>124</td>\n      <td>7.0</td>\n      <td>485820</td>\n      <td>126.46</td>\n      <td>65.0</td>\n    </tr>\n    <tr>\n      <th>Split</th>\n      <td>3</td>\n      <td>Horror,Thriller</td>\n      <td>Three girls are kidnapped by a man with a diag...</td>\n      <td>M. Night Shyamalan</td>\n      <td>James McAvoy, Anya Taylor-Joy, Haley Lu Richar...</td>\n      <td>2016</td>\n      <td>117</td>\n      <td>7.3</td>\n      <td>157606</td>\n      <td>138.12</td>\n      <td>62.0</td>\n    </tr>\n    <tr>\n      <th>Sing</th>\n      <td>4</td>\n      <td>Animation,Comedy,Family</td>\n      <td>In a city of humanoid animals, a hustling thea...</td>\n      <td>Christophe Lourdelet</td>\n      <td>Matthew McConaughey,Reese Witherspoon, Seth Ma...</td>\n      <td>2016</td>\n      <td>108</td>\n      <td>7.2</td>\n      <td>60545</td>\n      <td>270.32</td>\n      <td>59.0</td>\n    </tr>\n    <tr>\n      <th>Suicide Squad</th>\n      <td>5</td>\n      <td>Action,Adventure,Fantasy</td>\n      <td>A secret government agency recruits some of th...</td>\n      <td>David Ayer</td>\n      <td>Will Smith, Jared Leto, Margot Robbie, Viola D...</td>\n      <td>2016</td>\n      <td>123</td>\n      <td>6.2</td>\n      <td>393727</td>\n      <td>325.02</td>\n      <td>40.0</td>\n    </tr>\n    <tr>\n      <th>...</th>\n      <td>...</td>\n      <td>...</td>\n      <td>...</td>\n      <td>...</td>\n      <td>...</td>\n      <td>...</td>\n      <td>...</td>\n      <td>...</td>\n      <td>...</td>\n      <td>...</td>\n      <td>...</td>\n    </tr>\n    <tr>\n      <th>Secret in Their Eyes</th>\n      <td>996</td>\n      <td>Crime,Drama,Mystery</td>\n      <td>A tight-knit team of rising investigators, alo...</td>\n      <td>Billy Ray</td>\n      <td>Chiwetel Ejiofor, Nicole Kidman, Julia Roberts...</td>\n      <td>2015</td>\n      <td>111</td>\n      <td>6.2</td>\n      <td>27585</td>\n      <td>NaN</td>\n      <td>45.0</td>\n    </tr>\n    <tr>\n      <th>Hostel: Part II</th>\n      <td>997</td>\n      <td>Horror</td>\n      <td>Three American college students studying abroa...</td>\n      <td>Eli Roth</td>\n      <td>Lauren German, Heather Matarazzo, Bijou Philli...</td>\n      <td>2007</td>\n      <td>94</td>\n      <td>5.5</td>\n      <td>73152</td>\n      <td>17.54</td>\n      <td>46.0</td>\n    </tr>\n    <tr>\n      <th>Step Up 2: The Streets</th>\n      <td>998</td>\n      <td>Drama,Music,Romance</td>\n      <td>Romantic sparks occur between two dance studen...</td>\n      <td>Jon M. Chu</td>\n      <td>Robert Hoffman, Briana Evigan, Cassie Ventura,...</td>\n      <td>2008</td>\n      <td>98</td>\n      <td>6.2</td>\n      <td>70699</td>\n      <td>58.01</td>\n      <td>50.0</td>\n    </tr>\n    <tr>\n      <th>Search Party</th>\n      <td>999</td>\n      <td>Adventure,Comedy</td>\n      <td>A pair of friends embark on a mission to reuni...</td>\n      <td>Scot Armstrong</td>\n      <td>Adam Pally, T.J. Miller, Thomas Middleditch,Sh...</td>\n      <td>2014</td>\n      <td>93</td>\n      <td>5.6</td>\n      <td>4881</td>\n      <td>NaN</td>\n      <td>22.0</td>\n    </tr>\n    <tr>\n      <th>Nine Lives</th>\n      <td>1000</td>\n      <td>Comedy,Family,Fantasy</td>\n      <td>A stuffy businessman finds himself trapped ins...</td>\n      <td>Barry Sonnenfeld</td>\n      <td>Kevin Spacey, Jennifer Garner, Robbie Amell,Ch...</td>\n      <td>2016</td>\n      <td>87</td>\n      <td>5.3</td>\n      <td>12435</td>\n      <td>19.64</td>\n      <td>11.0</td>\n    </tr>\n  </tbody>\n</table>\n<p>1000 rows × 11 columns</p>\n</div>"
     },
     "execution_count": 98,
     "metadata": {},
     "output_type": "execute_result"
    }
   ]
  },
  {
   "cell_type": "code",
   "source": [
    "movies_df.head()"
   ],
   "metadata": {
    "id": "bQkg8Tgbb7vC",
    "ExecuteTime": {
     "end_time": "2024-03-27T08:31:49.023341Z",
     "start_time": "2024-03-27T08:31:49.018117Z"
    }
   },
   "execution_count": 112,
   "outputs": [
    {
     "data": {
      "text/plain": "   Rank                    Title                     Genre  \\\n0     1  Guardians of the Galaxy   Action,Adventure,Sci-Fi   \n1     2               Prometheus  Adventure,Mystery,Sci-Fi   \n2     3                    Split           Horror,Thriller   \n3     4                     Sing   Animation,Comedy,Family   \n4     5            Suicide Squad  Action,Adventure,Fantasy   \n\n                                         Description              Director  \\\n0  A group of intergalactic criminals are forced ...            James Gunn   \n1  Following clues to the origin of mankind, a te...          Ridley Scott   \n2  Three girls are kidnapped by a man with a diag...    M. Night Shyamalan   \n3  In a city of humanoid animals, a hustling thea...  Christophe Lourdelet   \n4  A secret government agency recruits some of th...            David Ayer   \n\n                                              Actors  Year  Runtime (Minutes)  \\\n0  Chris Pratt, Vin Diesel, Bradley Cooper, Zoe S...  2014                121   \n1  Noomi Rapace, Logan Marshall-Green, Michael Fa...  2012                124   \n2  James McAvoy, Anya Taylor-Joy, Haley Lu Richar...  2016                117   \n3  Matthew McConaughey,Reese Witherspoon, Seth Ma...  2016                108   \n4  Will Smith, Jared Leto, Margot Robbie, Viola D...  2016                123   \n\n   Rating   Votes  Revenue (Millions)  Metascore  \n0     8.1  757074              333.13       76.0  \n1     7.0  485820              126.46       65.0  \n2     7.3  157606              138.12       62.0  \n3     7.2   60545              270.32       59.0  \n4     6.2  393727              325.02       40.0  ",
      "text/html": "<div>\n<style scoped>\n    .dataframe tbody tr th:only-of-type {\n        vertical-align: middle;\n    }\n\n    .dataframe tbody tr th {\n        vertical-align: top;\n    }\n\n    .dataframe thead th {\n        text-align: right;\n    }\n</style>\n<table border=\"1\" class=\"dataframe\">\n  <thead>\n    <tr style=\"text-align: right;\">\n      <th></th>\n      <th>Rank</th>\n      <th>Title</th>\n      <th>Genre</th>\n      <th>Description</th>\n      <th>Director</th>\n      <th>Actors</th>\n      <th>Year</th>\n      <th>Runtime (Minutes)</th>\n      <th>Rating</th>\n      <th>Votes</th>\n      <th>Revenue (Millions)</th>\n      <th>Metascore</th>\n    </tr>\n  </thead>\n  <tbody>\n    <tr>\n      <th>0</th>\n      <td>1</td>\n      <td>Guardians of the Galaxy</td>\n      <td>Action,Adventure,Sci-Fi</td>\n      <td>A group of intergalactic criminals are forced ...</td>\n      <td>James Gunn</td>\n      <td>Chris Pratt, Vin Diesel, Bradley Cooper, Zoe S...</td>\n      <td>2014</td>\n      <td>121</td>\n      <td>8.1</td>\n      <td>757074</td>\n      <td>333.13</td>\n      <td>76.0</td>\n    </tr>\n    <tr>\n      <th>1</th>\n      <td>2</td>\n      <td>Prometheus</td>\n      <td>Adventure,Mystery,Sci-Fi</td>\n      <td>Following clues to the origin of mankind, a te...</td>\n      <td>Ridley Scott</td>\n      <td>Noomi Rapace, Logan Marshall-Green, Michael Fa...</td>\n      <td>2012</td>\n      <td>124</td>\n      <td>7.0</td>\n      <td>485820</td>\n      <td>126.46</td>\n      <td>65.0</td>\n    </tr>\n    <tr>\n      <th>2</th>\n      <td>3</td>\n      <td>Split</td>\n      <td>Horror,Thriller</td>\n      <td>Three girls are kidnapped by a man with a diag...</td>\n      <td>M. Night Shyamalan</td>\n      <td>James McAvoy, Anya Taylor-Joy, Haley Lu Richar...</td>\n      <td>2016</td>\n      <td>117</td>\n      <td>7.3</td>\n      <td>157606</td>\n      <td>138.12</td>\n      <td>62.0</td>\n    </tr>\n    <tr>\n      <th>3</th>\n      <td>4</td>\n      <td>Sing</td>\n      <td>Animation,Comedy,Family</td>\n      <td>In a city of humanoid animals, a hustling thea...</td>\n      <td>Christophe Lourdelet</td>\n      <td>Matthew McConaughey,Reese Witherspoon, Seth Ma...</td>\n      <td>2016</td>\n      <td>108</td>\n      <td>7.2</td>\n      <td>60545</td>\n      <td>270.32</td>\n      <td>59.0</td>\n    </tr>\n    <tr>\n      <th>4</th>\n      <td>5</td>\n      <td>Suicide Squad</td>\n      <td>Action,Adventure,Fantasy</td>\n      <td>A secret government agency recruits some of th...</td>\n      <td>David Ayer</td>\n      <td>Will Smith, Jared Leto, Margot Robbie, Viola D...</td>\n      <td>2016</td>\n      <td>123</td>\n      <td>6.2</td>\n      <td>393727</td>\n      <td>325.02</td>\n      <td>40.0</td>\n    </tr>\n  </tbody>\n</table>\n</div>"
     },
     "execution_count": 112,
     "metadata": {},
     "output_type": "execute_result"
    }
   ]
  },
  {
   "cell_type": "code",
   "source": [
    "movies_df.head(10)"
   ],
   "metadata": {
    "id": "ZCSJgfKHcDic",
    "ExecuteTime": {
     "end_time": "2024-03-27T08:31:49.517412Z",
     "start_time": "2024-03-27T08:31:49.511527Z"
    }
   },
   "execution_count": 113,
   "outputs": [
    {
     "data": {
      "text/plain": "   Rank                    Title                       Genre  \\\n0     1  Guardians of the Galaxy     Action,Adventure,Sci-Fi   \n1     2               Prometheus    Adventure,Mystery,Sci-Fi   \n2     3                    Split             Horror,Thriller   \n3     4                     Sing     Animation,Comedy,Family   \n4     5            Suicide Squad    Action,Adventure,Fantasy   \n5     6           The Great Wall    Action,Adventure,Fantasy   \n6     7               La La Land          Comedy,Drama,Music   \n7     8                 Mindhorn                      Comedy   \n8     9       The Lost City of Z  Action,Adventure,Biography   \n9    10               Passengers     Adventure,Drama,Romance   \n\n                                         Description              Director  \\\n0  A group of intergalactic criminals are forced ...            James Gunn   \n1  Following clues to the origin of mankind, a te...          Ridley Scott   \n2  Three girls are kidnapped by a man with a diag...    M. Night Shyamalan   \n3  In a city of humanoid animals, a hustling thea...  Christophe Lourdelet   \n4  A secret government agency recruits some of th...            David Ayer   \n5  European mercenaries searching for black powde...           Yimou Zhang   \n6  A jazz pianist falls for an aspiring actress i...       Damien Chazelle   \n7  A has-been actor best known for playing the ti...            Sean Foley   \n8  A true-life drama, centering on British explor...            James Gray   \n9  A spacecraft traveling to a distant colony pla...         Morten Tyldum   \n\n                                              Actors  Year  Runtime (Minutes)  \\\n0  Chris Pratt, Vin Diesel, Bradley Cooper, Zoe S...  2014                121   \n1  Noomi Rapace, Logan Marshall-Green, Michael Fa...  2012                124   \n2  James McAvoy, Anya Taylor-Joy, Haley Lu Richar...  2016                117   \n3  Matthew McConaughey,Reese Witherspoon, Seth Ma...  2016                108   \n4  Will Smith, Jared Leto, Margot Robbie, Viola D...  2016                123   \n5      Matt Damon, Tian Jing, Willem Dafoe, Andy Lau  2016                103   \n6  Ryan Gosling, Emma Stone, Rosemarie DeWitt, J....  2016                128   \n7  Essie Davis, Andrea Riseborough, Julian Barrat...  2016                 89   \n8  Charlie Hunnam, Robert Pattinson, Sienna Mille...  2016                141   \n9  Jennifer Lawrence, Chris Pratt, Michael Sheen,...  2016                116   \n\n   Rating   Votes  Revenue (Millions)  Metascore  \n0     8.1  757074              333.13       76.0  \n1     7.0  485820              126.46       65.0  \n2     7.3  157606              138.12       62.0  \n3     7.2   60545              270.32       59.0  \n4     6.2  393727              325.02       40.0  \n5     6.1   56036               45.13       42.0  \n6     8.3  258682              151.06       93.0  \n7     6.4    2490                 NaN       71.0  \n8     7.1    7188                8.01       78.0  \n9     7.0  192177              100.01       41.0  ",
      "text/html": "<div>\n<style scoped>\n    .dataframe tbody tr th:only-of-type {\n        vertical-align: middle;\n    }\n\n    .dataframe tbody tr th {\n        vertical-align: top;\n    }\n\n    .dataframe thead th {\n        text-align: right;\n    }\n</style>\n<table border=\"1\" class=\"dataframe\">\n  <thead>\n    <tr style=\"text-align: right;\">\n      <th></th>\n      <th>Rank</th>\n      <th>Title</th>\n      <th>Genre</th>\n      <th>Description</th>\n      <th>Director</th>\n      <th>Actors</th>\n      <th>Year</th>\n      <th>Runtime (Minutes)</th>\n      <th>Rating</th>\n      <th>Votes</th>\n      <th>Revenue (Millions)</th>\n      <th>Metascore</th>\n    </tr>\n  </thead>\n  <tbody>\n    <tr>\n      <th>0</th>\n      <td>1</td>\n      <td>Guardians of the Galaxy</td>\n      <td>Action,Adventure,Sci-Fi</td>\n      <td>A group of intergalactic criminals are forced ...</td>\n      <td>James Gunn</td>\n      <td>Chris Pratt, Vin Diesel, Bradley Cooper, Zoe S...</td>\n      <td>2014</td>\n      <td>121</td>\n      <td>8.1</td>\n      <td>757074</td>\n      <td>333.13</td>\n      <td>76.0</td>\n    </tr>\n    <tr>\n      <th>1</th>\n      <td>2</td>\n      <td>Prometheus</td>\n      <td>Adventure,Mystery,Sci-Fi</td>\n      <td>Following clues to the origin of mankind, a te...</td>\n      <td>Ridley Scott</td>\n      <td>Noomi Rapace, Logan Marshall-Green, Michael Fa...</td>\n      <td>2012</td>\n      <td>124</td>\n      <td>7.0</td>\n      <td>485820</td>\n      <td>126.46</td>\n      <td>65.0</td>\n    </tr>\n    <tr>\n      <th>2</th>\n      <td>3</td>\n      <td>Split</td>\n      <td>Horror,Thriller</td>\n      <td>Three girls are kidnapped by a man with a diag...</td>\n      <td>M. Night Shyamalan</td>\n      <td>James McAvoy, Anya Taylor-Joy, Haley Lu Richar...</td>\n      <td>2016</td>\n      <td>117</td>\n      <td>7.3</td>\n      <td>157606</td>\n      <td>138.12</td>\n      <td>62.0</td>\n    </tr>\n    <tr>\n      <th>3</th>\n      <td>4</td>\n      <td>Sing</td>\n      <td>Animation,Comedy,Family</td>\n      <td>In a city of humanoid animals, a hustling thea...</td>\n      <td>Christophe Lourdelet</td>\n      <td>Matthew McConaughey,Reese Witherspoon, Seth Ma...</td>\n      <td>2016</td>\n      <td>108</td>\n      <td>7.2</td>\n      <td>60545</td>\n      <td>270.32</td>\n      <td>59.0</td>\n    </tr>\n    <tr>\n      <th>4</th>\n      <td>5</td>\n      <td>Suicide Squad</td>\n      <td>Action,Adventure,Fantasy</td>\n      <td>A secret government agency recruits some of th...</td>\n      <td>David Ayer</td>\n      <td>Will Smith, Jared Leto, Margot Robbie, Viola D...</td>\n      <td>2016</td>\n      <td>123</td>\n      <td>6.2</td>\n      <td>393727</td>\n      <td>325.02</td>\n      <td>40.0</td>\n    </tr>\n    <tr>\n      <th>5</th>\n      <td>6</td>\n      <td>The Great Wall</td>\n      <td>Action,Adventure,Fantasy</td>\n      <td>European mercenaries searching for black powde...</td>\n      <td>Yimou Zhang</td>\n      <td>Matt Damon, Tian Jing, Willem Dafoe, Andy Lau</td>\n      <td>2016</td>\n      <td>103</td>\n      <td>6.1</td>\n      <td>56036</td>\n      <td>45.13</td>\n      <td>42.0</td>\n    </tr>\n    <tr>\n      <th>6</th>\n      <td>7</td>\n      <td>La La Land</td>\n      <td>Comedy,Drama,Music</td>\n      <td>A jazz pianist falls for an aspiring actress i...</td>\n      <td>Damien Chazelle</td>\n      <td>Ryan Gosling, Emma Stone, Rosemarie DeWitt, J....</td>\n      <td>2016</td>\n      <td>128</td>\n      <td>8.3</td>\n      <td>258682</td>\n      <td>151.06</td>\n      <td>93.0</td>\n    </tr>\n    <tr>\n      <th>7</th>\n      <td>8</td>\n      <td>Mindhorn</td>\n      <td>Comedy</td>\n      <td>A has-been actor best known for playing the ti...</td>\n      <td>Sean Foley</td>\n      <td>Essie Davis, Andrea Riseborough, Julian Barrat...</td>\n      <td>2016</td>\n      <td>89</td>\n      <td>6.4</td>\n      <td>2490</td>\n      <td>NaN</td>\n      <td>71.0</td>\n    </tr>\n    <tr>\n      <th>8</th>\n      <td>9</td>\n      <td>The Lost City of Z</td>\n      <td>Action,Adventure,Biography</td>\n      <td>A true-life drama, centering on British explor...</td>\n      <td>James Gray</td>\n      <td>Charlie Hunnam, Robert Pattinson, Sienna Mille...</td>\n      <td>2016</td>\n      <td>141</td>\n      <td>7.1</td>\n      <td>7188</td>\n      <td>8.01</td>\n      <td>78.0</td>\n    </tr>\n    <tr>\n      <th>9</th>\n      <td>10</td>\n      <td>Passengers</td>\n      <td>Adventure,Drama,Romance</td>\n      <td>A spacecraft traveling to a distant colony pla...</td>\n      <td>Morten Tyldum</td>\n      <td>Jennifer Lawrence, Chris Pratt, Michael Sheen,...</td>\n      <td>2016</td>\n      <td>116</td>\n      <td>7.0</td>\n      <td>192177</td>\n      <td>100.01</td>\n      <td>41.0</td>\n    </tr>\n  </tbody>\n</table>\n</div>"
     },
     "execution_count": 113,
     "metadata": {},
     "output_type": "execute_result"
    }
   ]
  },
  {
   "cell_type": "code",
   "source": [
    "movies_df.tail() # NaN : Not a Number"
   ],
   "metadata": {
    "id": "IviOTh6ncFqe",
    "ExecuteTime": {
     "end_time": "2024-03-27T08:31:49.621703Z",
     "start_time": "2024-03-27T08:31:49.617414Z"
    }
   },
   "execution_count": 114,
   "outputs": [
    {
     "data": {
      "text/plain": "     Rank                   Title                  Genre  \\\n995   996    Secret in Their Eyes    Crime,Drama,Mystery   \n996   997         Hostel: Part II                 Horror   \n997   998  Step Up 2: The Streets    Drama,Music,Romance   \n998   999            Search Party       Adventure,Comedy   \n999  1000              Nine Lives  Comedy,Family,Fantasy   \n\n                                           Description          Director  \\\n995  A tight-knit team of rising investigators, alo...         Billy Ray   \n996  Three American college students studying abroa...          Eli Roth   \n997  Romantic sparks occur between two dance studen...        Jon M. Chu   \n998  A pair of friends embark on a mission to reuni...    Scot Armstrong   \n999  A stuffy businessman finds himself trapped ins...  Barry Sonnenfeld   \n\n                                                Actors  Year  \\\n995  Chiwetel Ejiofor, Nicole Kidman, Julia Roberts...  2015   \n996  Lauren German, Heather Matarazzo, Bijou Philli...  2007   \n997  Robert Hoffman, Briana Evigan, Cassie Ventura,...  2008   \n998  Adam Pally, T.J. Miller, Thomas Middleditch,Sh...  2014   \n999  Kevin Spacey, Jennifer Garner, Robbie Amell,Ch...  2016   \n\n     Runtime (Minutes)  Rating  Votes  Revenue (Millions)  Metascore  \n995                111     6.2  27585                 NaN       45.0  \n996                 94     5.5  73152               17.54       46.0  \n997                 98     6.2  70699               58.01       50.0  \n998                 93     5.6   4881                 NaN       22.0  \n999                 87     5.3  12435               19.64       11.0  ",
      "text/html": "<div>\n<style scoped>\n    .dataframe tbody tr th:only-of-type {\n        vertical-align: middle;\n    }\n\n    .dataframe tbody tr th {\n        vertical-align: top;\n    }\n\n    .dataframe thead th {\n        text-align: right;\n    }\n</style>\n<table border=\"1\" class=\"dataframe\">\n  <thead>\n    <tr style=\"text-align: right;\">\n      <th></th>\n      <th>Rank</th>\n      <th>Title</th>\n      <th>Genre</th>\n      <th>Description</th>\n      <th>Director</th>\n      <th>Actors</th>\n      <th>Year</th>\n      <th>Runtime (Minutes)</th>\n      <th>Rating</th>\n      <th>Votes</th>\n      <th>Revenue (Millions)</th>\n      <th>Metascore</th>\n    </tr>\n  </thead>\n  <tbody>\n    <tr>\n      <th>995</th>\n      <td>996</td>\n      <td>Secret in Their Eyes</td>\n      <td>Crime,Drama,Mystery</td>\n      <td>A tight-knit team of rising investigators, alo...</td>\n      <td>Billy Ray</td>\n      <td>Chiwetel Ejiofor, Nicole Kidman, Julia Roberts...</td>\n      <td>2015</td>\n      <td>111</td>\n      <td>6.2</td>\n      <td>27585</td>\n      <td>NaN</td>\n      <td>45.0</td>\n    </tr>\n    <tr>\n      <th>996</th>\n      <td>997</td>\n      <td>Hostel: Part II</td>\n      <td>Horror</td>\n      <td>Three American college students studying abroa...</td>\n      <td>Eli Roth</td>\n      <td>Lauren German, Heather Matarazzo, Bijou Philli...</td>\n      <td>2007</td>\n      <td>94</td>\n      <td>5.5</td>\n      <td>73152</td>\n      <td>17.54</td>\n      <td>46.0</td>\n    </tr>\n    <tr>\n      <th>997</th>\n      <td>998</td>\n      <td>Step Up 2: The Streets</td>\n      <td>Drama,Music,Romance</td>\n      <td>Romantic sparks occur between two dance studen...</td>\n      <td>Jon M. Chu</td>\n      <td>Robert Hoffman, Briana Evigan, Cassie Ventura,...</td>\n      <td>2008</td>\n      <td>98</td>\n      <td>6.2</td>\n      <td>70699</td>\n      <td>58.01</td>\n      <td>50.0</td>\n    </tr>\n    <tr>\n      <th>998</th>\n      <td>999</td>\n      <td>Search Party</td>\n      <td>Adventure,Comedy</td>\n      <td>A pair of friends embark on a mission to reuni...</td>\n      <td>Scot Armstrong</td>\n      <td>Adam Pally, T.J. Miller, Thomas Middleditch,Sh...</td>\n      <td>2014</td>\n      <td>93</td>\n      <td>5.6</td>\n      <td>4881</td>\n      <td>NaN</td>\n      <td>22.0</td>\n    </tr>\n    <tr>\n      <th>999</th>\n      <td>1000</td>\n      <td>Nine Lives</td>\n      <td>Comedy,Family,Fantasy</td>\n      <td>A stuffy businessman finds himself trapped ins...</td>\n      <td>Barry Sonnenfeld</td>\n      <td>Kevin Spacey, Jennifer Garner, Robbie Amell,Ch...</td>\n      <td>2016</td>\n      <td>87</td>\n      <td>5.3</td>\n      <td>12435</td>\n      <td>19.64</td>\n      <td>11.0</td>\n    </tr>\n  </tbody>\n</table>\n</div>"
     },
     "execution_count": 114,
     "metadata": {},
     "output_type": "execute_result"
    }
   ]
  },
  {
   "cell_type": "code",
   "source": [
    "movies_df.info()"
   ],
   "metadata": {
    "id": "aQvAOEzWcJ_C",
    "ExecuteTime": {
     "end_time": "2024-03-27T08:31:49.706707Z",
     "start_time": "2024-03-27T08:31:49.703178Z"
    }
   },
   "execution_count": 115,
   "outputs": [
    {
     "name": "stdout",
     "output_type": "stream",
     "text": [
      "<class 'pandas.core.frame.DataFrame'>\n",
      "RangeIndex: 1000 entries, 0 to 999\n",
      "Data columns (total 12 columns):\n",
      " #   Column              Non-Null Count  Dtype  \n",
      "---  ------              --------------  -----  \n",
      " 0   Rank                1000 non-null   int64  \n",
      " 1   Title               1000 non-null   object \n",
      " 2   Genre               1000 non-null   object \n",
      " 3   Description         1000 non-null   object \n",
      " 4   Director            1000 non-null   object \n",
      " 5   Actors              1000 non-null   object \n",
      " 6   Year                1000 non-null   int64  \n",
      " 7   Runtime (Minutes)   1000 non-null   int64  \n",
      " 8   Rating              1000 non-null   float64\n",
      " 9   Votes               1000 non-null   int64  \n",
      " 10  Revenue (Millions)  872 non-null    float64\n",
      " 11  Metascore           936 non-null    float64\n",
      "dtypes: float64(3), int64(4), object(5)\n",
      "memory usage: 93.9+ KB\n"
     ]
    }
   ]
  },
  {
   "cell_type": "code",
   "outputs": [
    {
     "data": {
      "text/plain": "              Rank         Year  Runtime (Minutes)       Rating         Votes  \\\ncount  1000.000000  1000.000000        1000.000000  1000.000000  1.000000e+03   \nmean    500.500000  2012.783000         113.172000     6.723200  1.698083e+05   \nstd     288.819436     3.205962          18.810908     0.945429  1.887626e+05   \nmin       1.000000  2006.000000          66.000000     1.900000  6.100000e+01   \n25%     250.750000  2010.000000         100.000000     6.200000  3.630900e+04   \n50%     500.500000  2014.000000         111.000000     6.800000  1.107990e+05   \n75%     750.250000  2016.000000         123.000000     7.400000  2.399098e+05   \nmax    1000.000000  2016.000000         191.000000     9.000000  1.791916e+06   \n\n       Revenue (Millions)   Metascore  \ncount          872.000000  936.000000  \nmean            82.956376   58.985043  \nstd            103.253540   17.194757  \nmin              0.000000   11.000000  \n25%             13.270000   47.000000  \n50%             47.985000   59.500000  \n75%            113.715000   72.000000  \nmax            936.630000  100.000000  ",
      "text/html": "<div>\n<style scoped>\n    .dataframe tbody tr th:only-of-type {\n        vertical-align: middle;\n    }\n\n    .dataframe tbody tr th {\n        vertical-align: top;\n    }\n\n    .dataframe thead th {\n        text-align: right;\n    }\n</style>\n<table border=\"1\" class=\"dataframe\">\n  <thead>\n    <tr style=\"text-align: right;\">\n      <th></th>\n      <th>Rank</th>\n      <th>Year</th>\n      <th>Runtime (Minutes)</th>\n      <th>Rating</th>\n      <th>Votes</th>\n      <th>Revenue (Millions)</th>\n      <th>Metascore</th>\n    </tr>\n  </thead>\n  <tbody>\n    <tr>\n      <th>count</th>\n      <td>1000.000000</td>\n      <td>1000.000000</td>\n      <td>1000.000000</td>\n      <td>1000.000000</td>\n      <td>1.000000e+03</td>\n      <td>872.000000</td>\n      <td>936.000000</td>\n    </tr>\n    <tr>\n      <th>mean</th>\n      <td>500.500000</td>\n      <td>2012.783000</td>\n      <td>113.172000</td>\n      <td>6.723200</td>\n      <td>1.698083e+05</td>\n      <td>82.956376</td>\n      <td>58.985043</td>\n    </tr>\n    <tr>\n      <th>std</th>\n      <td>288.819436</td>\n      <td>3.205962</td>\n      <td>18.810908</td>\n      <td>0.945429</td>\n      <td>1.887626e+05</td>\n      <td>103.253540</td>\n      <td>17.194757</td>\n    </tr>\n    <tr>\n      <th>min</th>\n      <td>1.000000</td>\n      <td>2006.000000</td>\n      <td>66.000000</td>\n      <td>1.900000</td>\n      <td>6.100000e+01</td>\n      <td>0.000000</td>\n      <td>11.000000</td>\n    </tr>\n    <tr>\n      <th>25%</th>\n      <td>250.750000</td>\n      <td>2010.000000</td>\n      <td>100.000000</td>\n      <td>6.200000</td>\n      <td>3.630900e+04</td>\n      <td>13.270000</td>\n      <td>47.000000</td>\n    </tr>\n    <tr>\n      <th>50%</th>\n      <td>500.500000</td>\n      <td>2014.000000</td>\n      <td>111.000000</td>\n      <td>6.800000</td>\n      <td>1.107990e+05</td>\n      <td>47.985000</td>\n      <td>59.500000</td>\n    </tr>\n    <tr>\n      <th>75%</th>\n      <td>750.250000</td>\n      <td>2016.000000</td>\n      <td>123.000000</td>\n      <td>7.400000</td>\n      <td>2.399098e+05</td>\n      <td>113.715000</td>\n      <td>72.000000</td>\n    </tr>\n    <tr>\n      <th>max</th>\n      <td>1000.000000</td>\n      <td>2016.000000</td>\n      <td>191.000000</td>\n      <td>9.000000</td>\n      <td>1.791916e+06</td>\n      <td>936.630000</td>\n      <td>100.000000</td>\n    </tr>\n  </tbody>\n</table>\n</div>"
     },
     "execution_count": 116,
     "metadata": {},
     "output_type": "execute_result"
    }
   ],
   "source": [
    "movies_df.describe() # object 제외 columns들 분석"
   ],
   "metadata": {
    "collapsed": false,
    "ExecuteTime": {
     "end_time": "2024-03-27T08:31:49.832232Z",
     "start_time": "2024-03-27T08:31:49.824252Z"
    }
   },
   "execution_count": 116
  },
  {
   "cell_type": "code",
   "outputs": [
    {
     "data": {
      "text/plain": "        Rank     Title                    Genre  \\\ncount   1000      1000                     1000   \nunique  1000       999                      207   \ntop        1  The Host  Action,Adventure,Sci-Fi   \nfreq       1         2                       50   \n\n                                              Description      Director  \\\ncount                                                1000          1000   \nunique                                               1000           644   \ntop     A group of intergalactic criminals are forced ...  Ridley Scott   \nfreq                                                    1             8   \n\n                                                   Actors  Year  \\\ncount                                                1000  1000   \nunique                                                996    11   \ntop     Jennifer Lawrence, Josh Hutcherson, Liam Hemsw...  2016   \nfreq                                                    2   297   \n\n        Runtime (Minutes)  Rating  Votes  Revenue (Millions)  Metascore  \ncount                1000  1000.0   1000              872.00      936.0  \nunique                 94    55.0    997              814.00       84.0  \ntop                   108     7.1  97141                0.03       72.0  \nfreq                   31    52.0      2                7.00       25.0  ",
      "text/html": "<div>\n<style scoped>\n    .dataframe tbody tr th:only-of-type {\n        vertical-align: middle;\n    }\n\n    .dataframe tbody tr th {\n        vertical-align: top;\n    }\n\n    .dataframe thead th {\n        text-align: right;\n    }\n</style>\n<table border=\"1\" class=\"dataframe\">\n  <thead>\n    <tr style=\"text-align: right;\">\n      <th></th>\n      <th>Rank</th>\n      <th>Title</th>\n      <th>Genre</th>\n      <th>Description</th>\n      <th>Director</th>\n      <th>Actors</th>\n      <th>Year</th>\n      <th>Runtime (Minutes)</th>\n      <th>Rating</th>\n      <th>Votes</th>\n      <th>Revenue (Millions)</th>\n      <th>Metascore</th>\n    </tr>\n  </thead>\n  <tbody>\n    <tr>\n      <th>count</th>\n      <td>1000</td>\n      <td>1000</td>\n      <td>1000</td>\n      <td>1000</td>\n      <td>1000</td>\n      <td>1000</td>\n      <td>1000</td>\n      <td>1000</td>\n      <td>1000.0</td>\n      <td>1000</td>\n      <td>872.00</td>\n      <td>936.0</td>\n    </tr>\n    <tr>\n      <th>unique</th>\n      <td>1000</td>\n      <td>999</td>\n      <td>207</td>\n      <td>1000</td>\n      <td>644</td>\n      <td>996</td>\n      <td>11</td>\n      <td>94</td>\n      <td>55.0</td>\n      <td>997</td>\n      <td>814.00</td>\n      <td>84.0</td>\n    </tr>\n    <tr>\n      <th>top</th>\n      <td>1</td>\n      <td>The Host</td>\n      <td>Action,Adventure,Sci-Fi</td>\n      <td>A group of intergalactic criminals are forced ...</td>\n      <td>Ridley Scott</td>\n      <td>Jennifer Lawrence, Josh Hutcherson, Liam Hemsw...</td>\n      <td>2016</td>\n      <td>108</td>\n      <td>7.1</td>\n      <td>97141</td>\n      <td>0.03</td>\n      <td>72.0</td>\n    </tr>\n    <tr>\n      <th>freq</th>\n      <td>1</td>\n      <td>2</td>\n      <td>50</td>\n      <td>1</td>\n      <td>8</td>\n      <td>2</td>\n      <td>297</td>\n      <td>31</td>\n      <td>52.0</td>\n      <td>2</td>\n      <td>7.00</td>\n      <td>25.0</td>\n    </tr>\n  </tbody>\n</table>\n</div>"
     },
     "execution_count": 117,
     "metadata": {},
     "output_type": "execute_result"
    }
   ],
   "source": [
    "movies_df.astype('object').describe() # 수치형 카테고리컬 데이터의 분석"
   ],
   "metadata": {
    "collapsed": false,
    "ExecuteTime": {
     "end_time": "2024-03-27T08:31:49.898976Z",
     "start_time": "2024-03-27T08:31:49.888425Z"
    }
   },
   "execution_count": 117
  },
  {
   "cell_type": "code",
   "source": [
    "movies_df = pd.read_csv(\"IMDB-Movie-Data.csv\")\n",
    "movies_df"
   ],
   "metadata": {
    "id": "rXqJIDuAcVFQ",
    "ExecuteTime": {
     "end_time": "2024-03-27T08:31:50.272452Z",
     "start_time": "2024-03-27T08:31:50.262084Z"
    }
   },
   "execution_count": 118,
   "outputs": [
    {
     "data": {
      "text/plain": "     Rank                    Title                     Genre  \\\n0       1  Guardians of the Galaxy   Action,Adventure,Sci-Fi   \n1       2               Prometheus  Adventure,Mystery,Sci-Fi   \n2       3                    Split           Horror,Thriller   \n3       4                     Sing   Animation,Comedy,Family   \n4       5            Suicide Squad  Action,Adventure,Fantasy   \n..    ...                      ...                       ...   \n995   996     Secret in Their Eyes       Crime,Drama,Mystery   \n996   997          Hostel: Part II                    Horror   \n997   998   Step Up 2: The Streets       Drama,Music,Romance   \n998   999             Search Party          Adventure,Comedy   \n999  1000               Nine Lives     Comedy,Family,Fantasy   \n\n                                           Description              Director  \\\n0    A group of intergalactic criminals are forced ...            James Gunn   \n1    Following clues to the origin of mankind, a te...          Ridley Scott   \n2    Three girls are kidnapped by a man with a diag...    M. Night Shyamalan   \n3    In a city of humanoid animals, a hustling thea...  Christophe Lourdelet   \n4    A secret government agency recruits some of th...            David Ayer   \n..                                                 ...                   ...   \n995  A tight-knit team of rising investigators, alo...             Billy Ray   \n996  Three American college students studying abroa...              Eli Roth   \n997  Romantic sparks occur between two dance studen...            Jon M. Chu   \n998  A pair of friends embark on a mission to reuni...        Scot Armstrong   \n999  A stuffy businessman finds himself trapped ins...      Barry Sonnenfeld   \n\n                                                Actors  Year  \\\n0    Chris Pratt, Vin Diesel, Bradley Cooper, Zoe S...  2014   \n1    Noomi Rapace, Logan Marshall-Green, Michael Fa...  2012   \n2    James McAvoy, Anya Taylor-Joy, Haley Lu Richar...  2016   \n3    Matthew McConaughey,Reese Witherspoon, Seth Ma...  2016   \n4    Will Smith, Jared Leto, Margot Robbie, Viola D...  2016   \n..                                                 ...   ...   \n995  Chiwetel Ejiofor, Nicole Kidman, Julia Roberts...  2015   \n996  Lauren German, Heather Matarazzo, Bijou Philli...  2007   \n997  Robert Hoffman, Briana Evigan, Cassie Ventura,...  2008   \n998  Adam Pally, T.J. Miller, Thomas Middleditch,Sh...  2014   \n999  Kevin Spacey, Jennifer Garner, Robbie Amell,Ch...  2016   \n\n     Runtime (Minutes)  Rating   Votes  Revenue (Millions)  Metascore  \n0                  121     8.1  757074              333.13       76.0  \n1                  124     7.0  485820              126.46       65.0  \n2                  117     7.3  157606              138.12       62.0  \n3                  108     7.2   60545              270.32       59.0  \n4                  123     6.2  393727              325.02       40.0  \n..                 ...     ...     ...                 ...        ...  \n995                111     6.2   27585                 NaN       45.0  \n996                 94     5.5   73152               17.54       46.0  \n997                 98     6.2   70699               58.01       50.0  \n998                 93     5.6    4881                 NaN       22.0  \n999                 87     5.3   12435               19.64       11.0  \n\n[1000 rows x 12 columns]",
      "text/html": "<div>\n<style scoped>\n    .dataframe tbody tr th:only-of-type {\n        vertical-align: middle;\n    }\n\n    .dataframe tbody tr th {\n        vertical-align: top;\n    }\n\n    .dataframe thead th {\n        text-align: right;\n    }\n</style>\n<table border=\"1\" class=\"dataframe\">\n  <thead>\n    <tr style=\"text-align: right;\">\n      <th></th>\n      <th>Rank</th>\n      <th>Title</th>\n      <th>Genre</th>\n      <th>Description</th>\n      <th>Director</th>\n      <th>Actors</th>\n      <th>Year</th>\n      <th>Runtime (Minutes)</th>\n      <th>Rating</th>\n      <th>Votes</th>\n      <th>Revenue (Millions)</th>\n      <th>Metascore</th>\n    </tr>\n  </thead>\n  <tbody>\n    <tr>\n      <th>0</th>\n      <td>1</td>\n      <td>Guardians of the Galaxy</td>\n      <td>Action,Adventure,Sci-Fi</td>\n      <td>A group of intergalactic criminals are forced ...</td>\n      <td>James Gunn</td>\n      <td>Chris Pratt, Vin Diesel, Bradley Cooper, Zoe S...</td>\n      <td>2014</td>\n      <td>121</td>\n      <td>8.1</td>\n      <td>757074</td>\n      <td>333.13</td>\n      <td>76.0</td>\n    </tr>\n    <tr>\n      <th>1</th>\n      <td>2</td>\n      <td>Prometheus</td>\n      <td>Adventure,Mystery,Sci-Fi</td>\n      <td>Following clues to the origin of mankind, a te...</td>\n      <td>Ridley Scott</td>\n      <td>Noomi Rapace, Logan Marshall-Green, Michael Fa...</td>\n      <td>2012</td>\n      <td>124</td>\n      <td>7.0</td>\n      <td>485820</td>\n      <td>126.46</td>\n      <td>65.0</td>\n    </tr>\n    <tr>\n      <th>2</th>\n      <td>3</td>\n      <td>Split</td>\n      <td>Horror,Thriller</td>\n      <td>Three girls are kidnapped by a man with a diag...</td>\n      <td>M. Night Shyamalan</td>\n      <td>James McAvoy, Anya Taylor-Joy, Haley Lu Richar...</td>\n      <td>2016</td>\n      <td>117</td>\n      <td>7.3</td>\n      <td>157606</td>\n      <td>138.12</td>\n      <td>62.0</td>\n    </tr>\n    <tr>\n      <th>3</th>\n      <td>4</td>\n      <td>Sing</td>\n      <td>Animation,Comedy,Family</td>\n      <td>In a city of humanoid animals, a hustling thea...</td>\n      <td>Christophe Lourdelet</td>\n      <td>Matthew McConaughey,Reese Witherspoon, Seth Ma...</td>\n      <td>2016</td>\n      <td>108</td>\n      <td>7.2</td>\n      <td>60545</td>\n      <td>270.32</td>\n      <td>59.0</td>\n    </tr>\n    <tr>\n      <th>4</th>\n      <td>5</td>\n      <td>Suicide Squad</td>\n      <td>Action,Adventure,Fantasy</td>\n      <td>A secret government agency recruits some of th...</td>\n      <td>David Ayer</td>\n      <td>Will Smith, Jared Leto, Margot Robbie, Viola D...</td>\n      <td>2016</td>\n      <td>123</td>\n      <td>6.2</td>\n      <td>393727</td>\n      <td>325.02</td>\n      <td>40.0</td>\n    </tr>\n    <tr>\n      <th>...</th>\n      <td>...</td>\n      <td>...</td>\n      <td>...</td>\n      <td>...</td>\n      <td>...</td>\n      <td>...</td>\n      <td>...</td>\n      <td>...</td>\n      <td>...</td>\n      <td>...</td>\n      <td>...</td>\n      <td>...</td>\n    </tr>\n    <tr>\n      <th>995</th>\n      <td>996</td>\n      <td>Secret in Their Eyes</td>\n      <td>Crime,Drama,Mystery</td>\n      <td>A tight-knit team of rising investigators, alo...</td>\n      <td>Billy Ray</td>\n      <td>Chiwetel Ejiofor, Nicole Kidman, Julia Roberts...</td>\n      <td>2015</td>\n      <td>111</td>\n      <td>6.2</td>\n      <td>27585</td>\n      <td>NaN</td>\n      <td>45.0</td>\n    </tr>\n    <tr>\n      <th>996</th>\n      <td>997</td>\n      <td>Hostel: Part II</td>\n      <td>Horror</td>\n      <td>Three American college students studying abroa...</td>\n      <td>Eli Roth</td>\n      <td>Lauren German, Heather Matarazzo, Bijou Philli...</td>\n      <td>2007</td>\n      <td>94</td>\n      <td>5.5</td>\n      <td>73152</td>\n      <td>17.54</td>\n      <td>46.0</td>\n    </tr>\n    <tr>\n      <th>997</th>\n      <td>998</td>\n      <td>Step Up 2: The Streets</td>\n      <td>Drama,Music,Romance</td>\n      <td>Romantic sparks occur between two dance studen...</td>\n      <td>Jon M. Chu</td>\n      <td>Robert Hoffman, Briana Evigan, Cassie Ventura,...</td>\n      <td>2008</td>\n      <td>98</td>\n      <td>6.2</td>\n      <td>70699</td>\n      <td>58.01</td>\n      <td>50.0</td>\n    </tr>\n    <tr>\n      <th>998</th>\n      <td>999</td>\n      <td>Search Party</td>\n      <td>Adventure,Comedy</td>\n      <td>A pair of friends embark on a mission to reuni...</td>\n      <td>Scot Armstrong</td>\n      <td>Adam Pally, T.J. Miller, Thomas Middleditch,Sh...</td>\n      <td>2014</td>\n      <td>93</td>\n      <td>5.6</td>\n      <td>4881</td>\n      <td>NaN</td>\n      <td>22.0</td>\n    </tr>\n    <tr>\n      <th>999</th>\n      <td>1000</td>\n      <td>Nine Lives</td>\n      <td>Comedy,Family,Fantasy</td>\n      <td>A stuffy businessman finds himself trapped ins...</td>\n      <td>Barry Sonnenfeld</td>\n      <td>Kevin Spacey, Jennifer Garner, Robbie Amell,Ch...</td>\n      <td>2016</td>\n      <td>87</td>\n      <td>5.3</td>\n      <td>12435</td>\n      <td>19.64</td>\n      <td>11.0</td>\n    </tr>\n  </tbody>\n</table>\n<p>1000 rows × 12 columns</p>\n</div>"
     },
     "execution_count": 118,
     "metadata": {},
     "output_type": "execute_result"
    }
   ]
  },
  {
   "cell_type": "code",
   "source": [
    "movies_df.info()"
   ],
   "metadata": {
    "id": "6OoG69I4cbIl",
    "ExecuteTime": {
     "end_time": "2024-03-27T08:31:50.857985Z",
     "start_time": "2024-03-27T08:31:50.853148Z"
    }
   },
   "execution_count": 119,
   "outputs": [
    {
     "name": "stdout",
     "output_type": "stream",
     "text": [
      "<class 'pandas.core.frame.DataFrame'>\n",
      "RangeIndex: 1000 entries, 0 to 999\n",
      "Data columns (total 12 columns):\n",
      " #   Column              Non-Null Count  Dtype  \n",
      "---  ------              --------------  -----  \n",
      " 0   Rank                1000 non-null   int64  \n",
      " 1   Title               1000 non-null   object \n",
      " 2   Genre               1000 non-null   object \n",
      " 3   Description         1000 non-null   object \n",
      " 4   Director            1000 non-null   object \n",
      " 5   Actors              1000 non-null   object \n",
      " 6   Year                1000 non-null   int64  \n",
      " 7   Runtime (Minutes)   1000 non-null   int64  \n",
      " 8   Rating              1000 non-null   float64\n",
      " 9   Votes               1000 non-null   int64  \n",
      " 10  Revenue (Millions)  872 non-null    float64\n",
      " 11  Metascore           936 non-null    float64\n",
      "dtypes: float64(3), int64(4), object(5)\n",
      "memory usage: 93.9+ KB\n"
     ]
    }
   ]
  },
  {
   "cell_type": "code",
   "source": [
    "movies_df.shape"
   ],
   "metadata": {
    "id": "aFtc6nXCcf_N",
    "ExecuteTime": {
     "end_time": "2024-03-27T08:31:51.112136Z",
     "start_time": "2024-03-27T08:31:51.109507Z"
    }
   },
   "execution_count": 120,
   "outputs": [
    {
     "data": {
      "text/plain": "(1000, 12)"
     },
     "execution_count": 120,
     "metadata": {},
     "output_type": "execute_result"
    }
   ]
  },
  {
   "cell_type": "code",
   "source": [
    "# temp_df = movies_df.append(movies_df) # in Version 2 append is deleted, using concat\n",
    "temp_df = pd.concat([movies_df,movies_df])\n",
    "temp_df.shape"
   ],
   "metadata": {
    "id": "KEciZeswconO",
    "ExecuteTime": {
     "end_time": "2024-03-27T08:33:24.325148Z",
     "start_time": "2024-03-27T08:33:24.321311Z"
    }
   },
   "execution_count": 125,
   "outputs": [
    {
     "data": {
      "text/plain": "(2000, 12)"
     },
     "execution_count": 125,
     "metadata": {},
     "output_type": "execute_result"
    }
   ]
  },
  {
   "cell_type": "code",
   "source": [
    "temp_df = temp_df.drop_duplicates()\n",
    "temp_df.shape"
   ],
   "metadata": {
    "id": "EIakpZ1kdFb-",
    "ExecuteTime": {
     "end_time": "2024-03-27T08:33:25.098426Z",
     "start_time": "2024-03-27T08:33:25.093881Z"
    }
   },
   "execution_count": 126,
   "outputs": [
    {
     "data": {
      "text/plain": "(1000, 12)"
     },
     "execution_count": 126,
     "metadata": {},
     "output_type": "execute_result"
    }
   ]
  },
  {
   "cell_type": "code",
   "source": [
    "movies_df.describe()"
   ],
   "metadata": {
    "id": "iZDtpdWZdRfL",
    "ExecuteTime": {
     "end_time": "2024-03-27T08:33:28.885195Z",
     "start_time": "2024-03-27T08:33:28.873742Z"
    }
   },
   "execution_count": 127,
   "outputs": [
    {
     "data": {
      "text/plain": "              Rank         Year  Runtime (Minutes)       Rating         Votes  \\\ncount  1000.000000  1000.000000        1000.000000  1000.000000  1.000000e+03   \nmean    500.500000  2012.783000         113.172000     6.723200  1.698083e+05   \nstd     288.819436     3.205962          18.810908     0.945429  1.887626e+05   \nmin       1.000000  2006.000000          66.000000     1.900000  6.100000e+01   \n25%     250.750000  2010.000000         100.000000     6.200000  3.630900e+04   \n50%     500.500000  2014.000000         111.000000     6.800000  1.107990e+05   \n75%     750.250000  2016.000000         123.000000     7.400000  2.399098e+05   \nmax    1000.000000  2016.000000         191.000000     9.000000  1.791916e+06   \n\n       Revenue (Millions)   Metascore  \ncount          872.000000  936.000000  \nmean            82.956376   58.985043  \nstd            103.253540   17.194757  \nmin              0.000000   11.000000  \n25%             13.270000   47.000000  \n50%             47.985000   59.500000  \n75%            113.715000   72.000000  \nmax            936.630000  100.000000  ",
      "text/html": "<div>\n<style scoped>\n    .dataframe tbody tr th:only-of-type {\n        vertical-align: middle;\n    }\n\n    .dataframe tbody tr th {\n        vertical-align: top;\n    }\n\n    .dataframe thead th {\n        text-align: right;\n    }\n</style>\n<table border=\"1\" class=\"dataframe\">\n  <thead>\n    <tr style=\"text-align: right;\">\n      <th></th>\n      <th>Rank</th>\n      <th>Year</th>\n      <th>Runtime (Minutes)</th>\n      <th>Rating</th>\n      <th>Votes</th>\n      <th>Revenue (Millions)</th>\n      <th>Metascore</th>\n    </tr>\n  </thead>\n  <tbody>\n    <tr>\n      <th>count</th>\n      <td>1000.000000</td>\n      <td>1000.000000</td>\n      <td>1000.000000</td>\n      <td>1000.000000</td>\n      <td>1.000000e+03</td>\n      <td>872.000000</td>\n      <td>936.000000</td>\n    </tr>\n    <tr>\n      <th>mean</th>\n      <td>500.500000</td>\n      <td>2012.783000</td>\n      <td>113.172000</td>\n      <td>6.723200</td>\n      <td>1.698083e+05</td>\n      <td>82.956376</td>\n      <td>58.985043</td>\n    </tr>\n    <tr>\n      <th>std</th>\n      <td>288.819436</td>\n      <td>3.205962</td>\n      <td>18.810908</td>\n      <td>0.945429</td>\n      <td>1.887626e+05</td>\n      <td>103.253540</td>\n      <td>17.194757</td>\n    </tr>\n    <tr>\n      <th>min</th>\n      <td>1.000000</td>\n      <td>2006.000000</td>\n      <td>66.000000</td>\n      <td>1.900000</td>\n      <td>6.100000e+01</td>\n      <td>0.000000</td>\n      <td>11.000000</td>\n    </tr>\n    <tr>\n      <th>25%</th>\n      <td>250.750000</td>\n      <td>2010.000000</td>\n      <td>100.000000</td>\n      <td>6.200000</td>\n      <td>3.630900e+04</td>\n      <td>13.270000</td>\n      <td>47.000000</td>\n    </tr>\n    <tr>\n      <th>50%</th>\n      <td>500.500000</td>\n      <td>2014.000000</td>\n      <td>111.000000</td>\n      <td>6.800000</td>\n      <td>1.107990e+05</td>\n      <td>47.985000</td>\n      <td>59.500000</td>\n    </tr>\n    <tr>\n      <th>75%</th>\n      <td>750.250000</td>\n      <td>2016.000000</td>\n      <td>123.000000</td>\n      <td>7.400000</td>\n      <td>2.399098e+05</td>\n      <td>113.715000</td>\n      <td>72.000000</td>\n    </tr>\n    <tr>\n      <th>max</th>\n      <td>1000.000000</td>\n      <td>2016.000000</td>\n      <td>191.000000</td>\n      <td>9.000000</td>\n      <td>1.791916e+06</td>\n      <td>936.630000</td>\n      <td>100.000000</td>\n    </tr>\n  </tbody>\n</table>\n</div>"
     },
     "execution_count": 127,
     "metadata": {},
     "output_type": "execute_result"
    }
   ]
  },
  {
   "cell_type": "code",
   "source": [
    "movies_df['Genre'].describe()"
   ],
   "metadata": {
    "id": "pMXO3bKxdW7p",
    "ExecuteTime": {
     "end_time": "2024-03-27T08:40:29.399300Z",
     "start_time": "2024-03-27T08:40:29.395311Z"
    }
   },
   "execution_count": 132,
   "outputs": [
    {
     "data": {
      "text/plain": "count                        1000\nunique                        207\ntop       Action,Adventure,Sci-Fi\nfreq                           50\nName: Genre, dtype: object"
     },
     "execution_count": 132,
     "metadata": {},
     "output_type": "execute_result"
    }
   ]
  },
  {
   "cell_type": "code",
   "source": [
    "movies_df.astype('object').describe()"
   ],
   "metadata": {
    "id": "7PR8k1lqeB5C",
    "ExecuteTime": {
     "end_time": "2024-03-27T08:40:29.906935Z",
     "start_time": "2024-03-27T08:40:29.897374Z"
    }
   },
   "execution_count": 133,
   "outputs": [
    {
     "data": {
      "text/plain": "        Rank     Title                    Genre  \\\ncount   1000      1000                     1000   \nunique  1000       999                      207   \ntop        1  The Host  Action,Adventure,Sci-Fi   \nfreq       1         2                       50   \n\n                                              Description      Director  \\\ncount                                                1000          1000   \nunique                                               1000           644   \ntop     A group of intergalactic criminals are forced ...  Ridley Scott   \nfreq                                                    1             8   \n\n                                                   Actors  Year  \\\ncount                                                1000  1000   \nunique                                                996    11   \ntop     Jennifer Lawrence, Josh Hutcherson, Liam Hemsw...  2016   \nfreq                                                    2   297   \n\n        Runtime (Minutes)  Rating  Votes  Revenue (Millions)  Metascore  \ncount                1000  1000.0   1000              872.00      936.0  \nunique                 94    55.0    997              814.00       84.0  \ntop                   108     7.1  97141                0.03       72.0  \nfreq                   31    52.0      2                7.00       25.0  ",
      "text/html": "<div>\n<style scoped>\n    .dataframe tbody tr th:only-of-type {\n        vertical-align: middle;\n    }\n\n    .dataframe tbody tr th {\n        vertical-align: top;\n    }\n\n    .dataframe thead th {\n        text-align: right;\n    }\n</style>\n<table border=\"1\" class=\"dataframe\">\n  <thead>\n    <tr style=\"text-align: right;\">\n      <th></th>\n      <th>Rank</th>\n      <th>Title</th>\n      <th>Genre</th>\n      <th>Description</th>\n      <th>Director</th>\n      <th>Actors</th>\n      <th>Year</th>\n      <th>Runtime (Minutes)</th>\n      <th>Rating</th>\n      <th>Votes</th>\n      <th>Revenue (Millions)</th>\n      <th>Metascore</th>\n    </tr>\n  </thead>\n  <tbody>\n    <tr>\n      <th>count</th>\n      <td>1000</td>\n      <td>1000</td>\n      <td>1000</td>\n      <td>1000</td>\n      <td>1000</td>\n      <td>1000</td>\n      <td>1000</td>\n      <td>1000</td>\n      <td>1000.0</td>\n      <td>1000</td>\n      <td>872.00</td>\n      <td>936.0</td>\n    </tr>\n    <tr>\n      <th>unique</th>\n      <td>1000</td>\n      <td>999</td>\n      <td>207</td>\n      <td>1000</td>\n      <td>644</td>\n      <td>996</td>\n      <td>11</td>\n      <td>94</td>\n      <td>55.0</td>\n      <td>997</td>\n      <td>814.00</td>\n      <td>84.0</td>\n    </tr>\n    <tr>\n      <th>top</th>\n      <td>1</td>\n      <td>The Host</td>\n      <td>Action,Adventure,Sci-Fi</td>\n      <td>A group of intergalactic criminals are forced ...</td>\n      <td>Ridley Scott</td>\n      <td>Jennifer Lawrence, Josh Hutcherson, Liam Hemsw...</td>\n      <td>2016</td>\n      <td>108</td>\n      <td>7.1</td>\n      <td>97141</td>\n      <td>0.03</td>\n      <td>72.0</td>\n    </tr>\n    <tr>\n      <th>freq</th>\n      <td>1</td>\n      <td>2</td>\n      <td>50</td>\n      <td>1</td>\n      <td>8</td>\n      <td>2</td>\n      <td>297</td>\n      <td>31</td>\n      <td>52.0</td>\n      <td>2</td>\n      <td>7.00</td>\n      <td>25.0</td>\n    </tr>\n  </tbody>\n</table>\n</div>"
     },
     "execution_count": 133,
     "metadata": {},
     "output_type": "execute_result"
    }
   ]
  },
  {
   "cell_type": "markdown",
   "source": [
    "# Tables"
   ],
   "metadata": {
    "id": "DKxhzHaefIvy"
   }
  },
  {
   "cell_type": "markdown",
   "source": [],
   "metadata": {
    "collapsed": false
   }
  },
  {
   "cell_type": "code",
   "source": [
    "from datascience import *"
   ],
   "metadata": {
    "id": "irnv7bdgfKjR",
    "ExecuteTime": {
     "end_time": "2024-03-27T08:40:33.154048Z",
     "start_time": "2024-03-27T08:40:30.515707Z"
    }
   },
   "execution_count": 134,
   "outputs": []
  },
  {
   "cell_type": "code",
   "source": [
    "movie_t = Table.read_table('IMDB-Movie-Data.csv')\n",
    "movie_t"
   ],
   "metadata": {
    "id": "6wN4_gjrfREQ",
    "ExecuteTime": {
     "end_time": "2024-03-27T08:40:33.165175Z",
     "start_time": "2024-03-27T08:40:33.154950Z"
    }
   },
   "execution_count": 135,
   "outputs": [
    {
     "data": {
      "text/plain": "Rank | Title                   | Genre                      | Description                                                  | Director             | Actors                                                       | Year | Runtime (Minutes) | Rating | Votes  | Revenue (Millions) | Metascore\n1    | Guardians of the Galaxy | Action,Adventure,Sci-Fi    | A group of intergalactic criminals are forced to work to ... | James Gunn           | Chris Pratt, Vin Diesel, Bradley Cooper, Zoe Saldana         | 2014 | 121               | 8.1    | 757074 | 333.13             | 76\n2    | Prometheus              | Adventure,Mystery,Sci-Fi   | Following clues to the origin of mankind, a team finds a ... | Ridley Scott         | Noomi Rapace, Logan Marshall-Green, Michael Fassbender,  ... | 2012 | 124               | 7      | 485820 | 126.46             | 65\n3    | Split                   | Horror,Thriller            | Three girls are kidnapped by a man with a diagnosed 23 d ... | M. Night Shyamalan   | James McAvoy, Anya Taylor-Joy, Haley Lu Richardson, Jess ... | 2016 | 117               | 7.3    | 157606 | 138.12             | 62\n4    | Sing                    | Animation,Comedy,Family    | In a city of humanoid animals, a hustling theater impres ... | Christophe Lourdelet | Matthew McConaughey,Reese Witherspoon, Seth MacFarlane,  ... | 2016 | 108               | 7.2    | 60545  | 270.32             | 59\n5    | Suicide Squad           | Action,Adventure,Fantasy   | A secret government agency recruits some of the most dan ... | David Ayer           | Will Smith, Jared Leto, Margot Robbie, Viola Davis           | 2016 | 123               | 6.2    | 393727 | 325.02             | 40\n6    | The Great Wall          | Action,Adventure,Fantasy   | European mercenaries searching for black powder become e ... | Yimou Zhang          | Matt Damon, Tian Jing, Willem Dafoe, Andy Lau                | 2016 | 103               | 6.1    | 56036  | 45.13              | 42\n7    | La La Land              | Comedy,Drama,Music         | A jazz pianist falls for an aspiring actress in Los Angeles. | Damien Chazelle      | Ryan Gosling, Emma Stone, Rosemarie DeWitt, J.K. Simmons     | 2016 | 128               | 8.3    | 258682 | 151.06             | 93\n8    | Mindhorn                | Comedy                     | A has-been actor best known for playing the title charac ... | Sean Foley           | Essie Davis, Andrea Riseborough, Julian Barratt,Kenneth  ... | 2016 | 89                | 6.4    | 2490   | nan                | 71\n9    | The Lost City of Z      | Action,Adventure,Biography | A true-life drama, centering on British explorer Col. Pe ... | James Gray           | Charlie Hunnam, Robert Pattinson, Sienna Miller, Tom Holland | 2016 | 141               | 7.1    | 7188   | 8.01               | 78\n10   | Passengers              | Adventure,Drama,Romance    | A spacecraft traveling to a distant colony planet and tr ... | Morten Tyldum        | Jennifer Lawrence, Chris Pratt, Michael Sheen,Laurence F ... | 2016 | 116               | 7      | 192177 | 100.01             | 41\n... (990 rows omitted)",
      "text/html": "<table border=\"1\" class=\"dataframe\">\n    <thead>\n        <tr>\n            <th>Rank</th> <th>Title</th> <th>Genre</th> <th>Description</th> <th>Director</th> <th>Actors</th> <th>Year</th> <th>Runtime (Minutes)</th> <th>Rating</th> <th>Votes</th> <th>Revenue (Millions)</th> <th>Metascore</th>\n        </tr>\n    </thead>\n    <tbody>\n        <tr>\n            <td>1   </td> <td>Guardians of the Galaxy</td> <td>Action,Adventure,Sci-Fi   </td> <td>A group of intergalactic criminals are forced to work to ...</td> <td>James Gunn          </td> <td>Chris Pratt, Vin Diesel, Bradley Cooper, Zoe Saldana        </td> <td>2014</td> <td>121              </td> <td>8.1   </td> <td>757074</td> <td>333.13            </td> <td>76       </td>\n        </tr>\n        <tr>\n            <td>2   </td> <td>Prometheus             </td> <td>Adventure,Mystery,Sci-Fi  </td> <td>Following clues to the origin of mankind, a team finds a ...</td> <td>Ridley Scott        </td> <td>Noomi Rapace, Logan Marshall-Green, Michael Fassbender,  ...</td> <td>2012</td> <td>124              </td> <td>7     </td> <td>485820</td> <td>126.46            </td> <td>65       </td>\n        </tr>\n        <tr>\n            <td>3   </td> <td>Split                  </td> <td>Horror,Thriller           </td> <td>Three girls are kidnapped by a man with a diagnosed 23 d ...</td> <td>M. Night Shyamalan  </td> <td>James McAvoy, Anya Taylor-Joy, Haley Lu Richardson, Jess ...</td> <td>2016</td> <td>117              </td> <td>7.3   </td> <td>157606</td> <td>138.12            </td> <td>62       </td>\n        </tr>\n        <tr>\n            <td>4   </td> <td>Sing                   </td> <td>Animation,Comedy,Family   </td> <td>In a city of humanoid animals, a hustling theater impres ...</td> <td>Christophe Lourdelet</td> <td>Matthew McConaughey,Reese Witherspoon, Seth MacFarlane,  ...</td> <td>2016</td> <td>108              </td> <td>7.2   </td> <td>60545 </td> <td>270.32            </td> <td>59       </td>\n        </tr>\n        <tr>\n            <td>5   </td> <td>Suicide Squad          </td> <td>Action,Adventure,Fantasy  </td> <td>A secret government agency recruits some of the most dan ...</td> <td>David Ayer          </td> <td>Will Smith, Jared Leto, Margot Robbie, Viola Davis          </td> <td>2016</td> <td>123              </td> <td>6.2   </td> <td>393727</td> <td>325.02            </td> <td>40       </td>\n        </tr>\n        <tr>\n            <td>6   </td> <td>The Great Wall         </td> <td>Action,Adventure,Fantasy  </td> <td>European mercenaries searching for black powder become e ...</td> <td>Yimou Zhang         </td> <td>Matt Damon, Tian Jing, Willem Dafoe, Andy Lau               </td> <td>2016</td> <td>103              </td> <td>6.1   </td> <td>56036 </td> <td>45.13             </td> <td>42       </td>\n        </tr>\n        <tr>\n            <td>7   </td> <td>La La Land             </td> <td>Comedy,Drama,Music        </td> <td>A jazz pianist falls for an aspiring actress in Los Angeles.</td> <td>Damien Chazelle     </td> <td>Ryan Gosling, Emma Stone, Rosemarie DeWitt, J.K. Simmons    </td> <td>2016</td> <td>128              </td> <td>8.3   </td> <td>258682</td> <td>151.06            </td> <td>93       </td>\n        </tr>\n        <tr>\n            <td>8   </td> <td>Mindhorn               </td> <td>Comedy                    </td> <td>A has-been actor best known for playing the title charac ...</td> <td>Sean Foley          </td> <td>Essie Davis, Andrea Riseborough, Julian Barratt,Kenneth  ...</td> <td>2016</td> <td>89               </td> <td>6.4   </td> <td>2490  </td> <td>nan               </td> <td>71       </td>\n        </tr>\n        <tr>\n            <td>9   </td> <td>The Lost City of Z     </td> <td>Action,Adventure,Biography</td> <td>A true-life drama, centering on British explorer Col. Pe ...</td> <td>James Gray          </td> <td>Charlie Hunnam, Robert Pattinson, Sienna Miller, Tom Holland</td> <td>2016</td> <td>141              </td> <td>7.1   </td> <td>7188  </td> <td>8.01              </td> <td>78       </td>\n        </tr>\n        <tr>\n            <td>10  </td> <td>Passengers             </td> <td>Adventure,Drama,Romance   </td> <td>A spacecraft traveling to a distant colony planet and tr ...</td> <td>Morten Tyldum       </td> <td>Jennifer Lawrence, Chris Pratt, Michael Sheen,Laurence F ...</td> <td>2016</td> <td>116              </td> <td>7     </td> <td>192177</td> <td>100.01            </td> <td>41       </td>\n        </tr>\n    </tbody>\n</table>\n<p>... (990 rows omitted)</p>"
     },
     "execution_count": 135,
     "metadata": {},
     "output_type": "execute_result"
    }
   ]
  },
  {
   "cell_type": "code",
   "source": [
    "type(movie_t)"
   ],
   "metadata": {
    "id": "4pg7l8rGfgfA",
    "ExecuteTime": {
     "end_time": "2024-03-27T08:40:33.167605Z",
     "start_time": "2024-03-27T08:40:33.165742Z"
    }
   },
   "execution_count": 136,
   "outputs": [
    {
     "data": {
      "text/plain": "datascience.tables.Table"
     },
     "execution_count": 136,
     "metadata": {},
     "output_type": "execute_result"
    }
   ]
  },
  {
   "cell_type": "markdown",
   "source": [
    "drag and drop \"cones.csv\", \"nba_salaries.csv\""
   ],
   "metadata": {
    "id": "T4hdSFrskqCQ"
   }
  },
  {
   "cell_type": "code",
   "source": [
    "cones = Table.read_table('cones.csv')\n",
    "cones"
   ],
   "metadata": {
    "id": "YsxzGA1Zknff",
    "ExecuteTime": {
     "end_time": "2024-03-27T08:40:40.688268Z",
     "start_time": "2024-03-27T08:40:40.682788Z"
    }
   },
   "execution_count": 137,
   "outputs": [
    {
     "data": {
      "text/plain": "Flavor     | Color       | Price | Rating\nstrawberry | pink        | 3.55  | 1\nchocolate  | light brown | 4.75  | 4\nchocolate  | dark brown  | 5.25  | 3\nstrawberry | pink        | 5.25  | 2\nchocolate  | dark brown  | 5.25  | 5\nbubblegum  | pink        | 4.75  | 1",
      "text/html": "<table border=\"1\" class=\"dataframe\">\n    <thead>\n        <tr>\n            <th>Flavor</th> <th>Color</th> <th>Price</th> <th>Rating</th>\n        </tr>\n    </thead>\n    <tbody>\n        <tr>\n            <td>strawberry</td> <td>pink       </td> <td>3.55 </td> <td>1     </td>\n        </tr>\n        <tr>\n            <td>chocolate </td> <td>light brown</td> <td>4.75 </td> <td>4     </td>\n        </tr>\n        <tr>\n            <td>chocolate </td> <td>dark brown </td> <td>5.25 </td> <td>3     </td>\n        </tr>\n        <tr>\n            <td>strawberry</td> <td>pink       </td> <td>5.25 </td> <td>2     </td>\n        </tr>\n        <tr>\n            <td>chocolate </td> <td>dark brown </td> <td>5.25 </td> <td>5     </td>\n        </tr>\n        <tr>\n            <td>bubblegum </td> <td>pink       </td> <td>4.75 </td> <td>1     </td>\n        </tr>\n    </tbody>\n</table>"
     },
     "execution_count": 137,
     "metadata": {},
     "output_type": "execute_result"
    }
   ]
  },
  {
   "cell_type": "code",
   "source": [
    "# Define cones' attributes\n",
    "conesAttributes = [\"Flavor\", \"Color\", \"Price\"]\n",
    "# Define cones' data, must be same sequence as attributes\n",
    "conesData = [\n",
    "    [\"strawberry\", \"pink\", 3.55],\n",
    "    [\"chocolate\", \"light brown\", 4.75],\n",
    "    [\"chocolate\", \"dark brown\", 5.25],\n",
    "    [\"strawberry\", \"pink\", 5.25],\n",
    "    [\"chocolate\", \"dark brown\", 5.25],\n",
    "    [\"bubblegem\", \"pink\", 4.75]\n",
    "]"
   ],
   "metadata": {
    "id": "w6_EptM2mcfg",
    "ExecuteTime": {
     "end_time": "2024-03-27T08:40:41.545078Z",
     "start_time": "2024-03-27T08:40:41.543018Z"
    }
   },
   "execution_count": 138,
   "outputs": []
  },
  {
   "cell_type": "code",
   "source": [
    "df = pd.DataFrame(data=conesData, columns=conesAttributes)\n",
    "df"
   ],
   "metadata": {
    "id": "CklW2ynImiCo",
    "ExecuteTime": {
     "end_time": "2024-03-27T08:40:42.137348Z",
     "start_time": "2024-03-27T08:40:42.132166Z"
    }
   },
   "execution_count": 139,
   "outputs": [
    {
     "data": {
      "text/plain": "       Flavor        Color  Price\n0  strawberry         pink   3.55\n1   chocolate  light brown   4.75\n2   chocolate   dark brown   5.25\n3  strawberry         pink   5.25\n4   chocolate   dark brown   5.25\n5   bubblegem         pink   4.75",
      "text/html": "<div>\n<style scoped>\n    .dataframe tbody tr th:only-of-type {\n        vertical-align: middle;\n    }\n\n    .dataframe tbody tr th {\n        vertical-align: top;\n    }\n\n    .dataframe thead th {\n        text-align: right;\n    }\n</style>\n<table border=\"1\" class=\"dataframe\">\n  <thead>\n    <tr style=\"text-align: right;\">\n      <th></th>\n      <th>Flavor</th>\n      <th>Color</th>\n      <th>Price</th>\n    </tr>\n  </thead>\n  <tbody>\n    <tr>\n      <th>0</th>\n      <td>strawberry</td>\n      <td>pink</td>\n      <td>3.55</td>\n    </tr>\n    <tr>\n      <th>1</th>\n      <td>chocolate</td>\n      <td>light brown</td>\n      <td>4.75</td>\n    </tr>\n    <tr>\n      <th>2</th>\n      <td>chocolate</td>\n      <td>dark brown</td>\n      <td>5.25</td>\n    </tr>\n    <tr>\n      <th>3</th>\n      <td>strawberry</td>\n      <td>pink</td>\n      <td>5.25</td>\n    </tr>\n    <tr>\n      <th>4</th>\n      <td>chocolate</td>\n      <td>dark brown</td>\n      <td>5.25</td>\n    </tr>\n    <tr>\n      <th>5</th>\n      <td>bubblegem</td>\n      <td>pink</td>\n      <td>4.75</td>\n    </tr>\n  </tbody>\n</table>\n</div>"
     },
     "execution_count": 139,
     "metadata": {},
     "output_type": "execute_result"
    }
   ]
  },
  {
   "cell_type": "code",
   "source": [
    "cones_tbl = Table().from_df(df)\n",
    "cones_tbl"
   ],
   "metadata": {
    "id": "eGb_7RLsmqpN",
    "ExecuteTime": {
     "end_time": "2024-03-27T08:40:42.631338Z",
     "start_time": "2024-03-27T08:40:42.628808Z"
    }
   },
   "execution_count": 140,
   "outputs": [
    {
     "data": {
      "text/plain": "Flavor     | Color       | Price\nstrawberry | pink        | 3.55\nchocolate  | light brown | 4.75\nchocolate  | dark brown  | 5.25\nstrawberry | pink        | 5.25\nchocolate  | dark brown  | 5.25\nbubblegem  | pink        | 4.75",
      "text/html": "<table border=\"1\" class=\"dataframe\">\n    <thead>\n        <tr>\n            <th>Flavor</th> <th>Color</th> <th>Price</th>\n        </tr>\n    </thead>\n    <tbody>\n        <tr>\n            <td>strawberry</td> <td>pink       </td> <td>3.55 </td>\n        </tr>\n        <tr>\n            <td>chocolate </td> <td>light brown</td> <td>4.75 </td>\n        </tr>\n        <tr>\n            <td>chocolate </td> <td>dark brown </td> <td>5.25 </td>\n        </tr>\n        <tr>\n            <td>strawberry</td> <td>pink       </td> <td>5.25 </td>\n        </tr>\n        <tr>\n            <td>chocolate </td> <td>dark brown </td> <td>5.25 </td>\n        </tr>\n        <tr>\n            <td>bubblegem </td> <td>pink       </td> <td>4.75 </td>\n        </tr>\n    </tbody>\n</table>"
     },
     "execution_count": 140,
     "metadata": {},
     "output_type": "execute_result"
    }
   ]
  },
  {
   "cell_type": "code",
   "source": [
    "cones.show(3)"
   ],
   "metadata": {
    "id": "UxysjGePk6zf",
    "ExecuteTime": {
     "end_time": "2024-03-27T08:40:43.079922Z",
     "start_time": "2024-03-27T08:40:43.077088Z"
    }
   },
   "execution_count": 141,
   "outputs": [
    {
     "data": {
      "text/plain": "<IPython.core.display.HTML object>",
      "text/html": "<table border=\"1\" class=\"dataframe\">\n    <thead>\n        <tr>\n            <th>Flavor</th> <th>Color</th> <th>Price</th> <th>Rating</th>\n        </tr>\n    </thead>\n    <tbody>\n        <tr>\n            <td>strawberry</td> <td>pink       </td> <td>3.55 </td> <td>1     </td>\n        </tr>\n        <tr>\n            <td>chocolate </td> <td>light brown</td> <td>4.75 </td> <td>4     </td>\n        </tr>\n        <tr>\n            <td>chocolate </td> <td>dark brown </td> <td>5.25 </td> <td>3     </td>\n        </tr>\n    </tbody>\n</table>\n<p>... (3 rows omitted)</p>"
     },
     "metadata": {},
     "output_type": "display_data"
    }
   ]
  },
  {
   "cell_type": "code",
   "source": [
    "cones.show()"
   ],
   "metadata": {
    "id": "pDVEarWSk8id",
    "ExecuteTime": {
     "end_time": "2024-03-27T08:40:43.678602Z",
     "start_time": "2024-03-27T08:40:43.676167Z"
    }
   },
   "execution_count": 142,
   "outputs": [
    {
     "data": {
      "text/plain": "<IPython.core.display.HTML object>",
      "text/html": "<table border=\"1\" class=\"dataframe\">\n    <thead>\n        <tr>\n            <th>Flavor</th> <th>Color</th> <th>Price</th> <th>Rating</th>\n        </tr>\n    </thead>\n    <tbody>\n        <tr>\n            <td>strawberry</td> <td>pink       </td> <td>3.55 </td> <td>1     </td>\n        </tr>\n        <tr>\n            <td>chocolate </td> <td>light brown</td> <td>4.75 </td> <td>4     </td>\n        </tr>\n        <tr>\n            <td>chocolate </td> <td>dark brown </td> <td>5.25 </td> <td>3     </td>\n        </tr>\n        <tr>\n            <td>strawberry</td> <td>pink       </td> <td>5.25 </td> <td>2     </td>\n        </tr>\n        <tr>\n            <td>chocolate </td> <td>dark brown </td> <td>5.25 </td> <td>5     </td>\n        </tr>\n        <tr>\n            <td>bubblegum </td> <td>pink       </td> <td>4.75 </td> <td>1     </td>\n        </tr>\n    </tbody>\n</table>"
     },
     "metadata": {},
     "output_type": "display_data"
    }
   ]
  },
  {
   "cell_type": "code",
   "source": [
    "cones.select('Flavor')"
   ],
   "metadata": {
    "id": "VuW_JYY3k_-h",
    "ExecuteTime": {
     "end_time": "2024-03-27T08:40:44.162679Z",
     "start_time": "2024-03-27T08:40:44.159657Z"
    }
   },
   "execution_count": 143,
   "outputs": [
    {
     "data": {
      "text/plain": "Flavor\nstrawberry\nchocolate\nchocolate\nstrawberry\nchocolate\nbubblegum",
      "text/html": "<table border=\"1\" class=\"dataframe\">\n    <thead>\n        <tr>\n            <th>Flavor</th>\n        </tr>\n    </thead>\n    <tbody>\n        <tr>\n            <td>strawberry</td>\n        </tr>\n        <tr>\n            <td>chocolate </td>\n        </tr>\n        <tr>\n            <td>chocolate </td>\n        </tr>\n        <tr>\n            <td>strawberry</td>\n        </tr>\n        <tr>\n            <td>chocolate </td>\n        </tr>\n        <tr>\n            <td>bubblegum </td>\n        </tr>\n    </tbody>\n</table>"
     },
     "execution_count": 143,
     "metadata": {},
     "output_type": "execute_result"
    }
   ]
  },
  {
   "cell_type": "code",
   "source": [
    "cones.select('Flavor', 'Price')"
   ],
   "metadata": {
    "id": "LzhDOdCvoMhG",
    "ExecuteTime": {
     "end_time": "2024-03-27T08:40:44.449588Z",
     "start_time": "2024-03-27T08:40:44.446332Z"
    }
   },
   "execution_count": 144,
   "outputs": [
    {
     "data": {
      "text/plain": "Flavor     | Price\nstrawberry | 3.55\nchocolate  | 4.75\nchocolate  | 5.25\nstrawberry | 5.25\nchocolate  | 5.25\nbubblegum  | 4.75",
      "text/html": "<table border=\"1\" class=\"dataframe\">\n    <thead>\n        <tr>\n            <th>Flavor</th> <th>Price</th>\n        </tr>\n    </thead>\n    <tbody>\n        <tr>\n            <td>strawberry</td> <td>3.55 </td>\n        </tr>\n        <tr>\n            <td>chocolate </td> <td>4.75 </td>\n        </tr>\n        <tr>\n            <td>chocolate </td> <td>5.25 </td>\n        </tr>\n        <tr>\n            <td>strawberry</td> <td>5.25 </td>\n        </tr>\n        <tr>\n            <td>chocolate </td> <td>5.25 </td>\n        </tr>\n        <tr>\n            <td>bubblegum </td> <td>4.75 </td>\n        </tr>\n    </tbody>\n</table>"
     },
     "execution_count": 144,
     "metadata": {},
     "output_type": "execute_result"
    }
   ]
  },
  {
   "cell_type": "code",
   "source": [
    "cones.drop('Price')"
   ],
   "metadata": {
    "id": "vWCb42VjoPFb",
    "ExecuteTime": {
     "end_time": "2024-03-27T08:40:44.907267Z",
     "start_time": "2024-03-27T08:40:44.904963Z"
    }
   },
   "execution_count": 145,
   "outputs": [
    {
     "data": {
      "text/plain": "Flavor     | Color       | Rating\nstrawberry | pink        | 1\nchocolate  | light brown | 4\nchocolate  | dark brown  | 3\nstrawberry | pink        | 2\nchocolate  | dark brown  | 5\nbubblegum  | pink        | 1",
      "text/html": "<table border=\"1\" class=\"dataframe\">\n    <thead>\n        <tr>\n            <th>Flavor</th> <th>Color</th> <th>Rating</th>\n        </tr>\n    </thead>\n    <tbody>\n        <tr>\n            <td>strawberry</td> <td>pink       </td> <td>1     </td>\n        </tr>\n        <tr>\n            <td>chocolate </td> <td>light brown</td> <td>4     </td>\n        </tr>\n        <tr>\n            <td>chocolate </td> <td>dark brown </td> <td>3     </td>\n        </tr>\n        <tr>\n            <td>strawberry</td> <td>pink       </td> <td>2     </td>\n        </tr>\n        <tr>\n            <td>chocolate </td> <td>dark brown </td> <td>5     </td>\n        </tr>\n        <tr>\n            <td>bubblegum </td> <td>pink       </td> <td>1     </td>\n        </tr>\n    </tbody>\n</table>"
     },
     "execution_count": 145,
     "metadata": {},
     "output_type": "execute_result"
    }
   ]
  },
  {
   "cell_type": "code",
   "source": [
    "cones"
   ],
   "metadata": {
    "id": "J0seVv7LoRRd",
    "ExecuteTime": {
     "end_time": "2024-03-27T08:40:48.397338Z",
     "start_time": "2024-03-27T08:40:48.393682Z"
    }
   },
   "execution_count": 146,
   "outputs": [
    {
     "data": {
      "text/plain": "Flavor     | Color       | Price | Rating\nstrawberry | pink        | 3.55  | 1\nchocolate  | light brown | 4.75  | 4\nchocolate  | dark brown  | 5.25  | 3\nstrawberry | pink        | 5.25  | 2\nchocolate  | dark brown  | 5.25  | 5\nbubblegum  | pink        | 4.75  | 1",
      "text/html": "<table border=\"1\" class=\"dataframe\">\n    <thead>\n        <tr>\n            <th>Flavor</th> <th>Color</th> <th>Price</th> <th>Rating</th>\n        </tr>\n    </thead>\n    <tbody>\n        <tr>\n            <td>strawberry</td> <td>pink       </td> <td>3.55 </td> <td>1     </td>\n        </tr>\n        <tr>\n            <td>chocolate </td> <td>light brown</td> <td>4.75 </td> <td>4     </td>\n        </tr>\n        <tr>\n            <td>chocolate </td> <td>dark brown </td> <td>5.25 </td> <td>3     </td>\n        </tr>\n        <tr>\n            <td>strawberry</td> <td>pink       </td> <td>5.25 </td> <td>2     </td>\n        </tr>\n        <tr>\n            <td>chocolate </td> <td>dark brown </td> <td>5.25 </td> <td>5     </td>\n        </tr>\n        <tr>\n            <td>bubblegum </td> <td>pink       </td> <td>4.75 </td> <td>1     </td>\n        </tr>\n    </tbody>\n</table>"
     },
     "execution_count": 146,
     "metadata": {},
     "output_type": "execute_result"
    }
   ]
  },
  {
   "cell_type": "code",
   "source": [
    "cones_without_price = cones.drop('Price')\n",
    "cones_without_price"
   ],
   "metadata": {
    "id": "ljycG4ajoSTt",
    "ExecuteTime": {
     "end_time": "2024-03-27T08:41:39.244094Z",
     "start_time": "2024-03-27T08:41:39.240229Z"
    }
   },
   "execution_count": 165,
   "outputs": [
    {
     "data": {
      "text/plain": "Flavor     | Color       | Rating\nstrawberry | pink        | 1\nchocolate  | light brown | 4\nchocolate  | dark brown  | 3\nstrawberry | pink        | 2\nchocolate  | dark brown  | 5\nbubblegum  | pink        | 1",
      "text/html": "<table border=\"1\" class=\"dataframe\">\n    <thead>\n        <tr>\n            <th>Flavor</th> <th>Color</th> <th>Rating</th>\n        </tr>\n    </thead>\n    <tbody>\n        <tr>\n            <td>strawberry</td> <td>pink       </td> <td>1     </td>\n        </tr>\n        <tr>\n            <td>chocolate </td> <td>light brown</td> <td>4     </td>\n        </tr>\n        <tr>\n            <td>chocolate </td> <td>dark brown </td> <td>3     </td>\n        </tr>\n        <tr>\n            <td>strawberry</td> <td>pink       </td> <td>2     </td>\n        </tr>\n        <tr>\n            <td>chocolate </td> <td>dark brown </td> <td>5     </td>\n        </tr>\n        <tr>\n            <td>bubblegum </td> <td>pink       </td> <td>1     </td>\n        </tr>\n    </tbody>\n</table>"
     },
     "execution_count": 165,
     "metadata": {},
     "output_type": "execute_result"
    }
   ]
  },
  {
   "cell_type": "code",
   "source": [
    "cones.where('Flavor', 'chocolate')"
   ],
   "metadata": {
    "id": "7AVzY0U5oUk_",
    "ExecuteTime": {
     "end_time": "2024-03-27T08:40:49.023957Z",
     "start_time": "2024-03-27T08:40:49.021092Z"
    }
   },
   "execution_count": 148,
   "outputs": [
    {
     "data": {
      "text/plain": "Flavor    | Color       | Price | Rating\nchocolate | light brown | 4.75  | 4\nchocolate | dark brown  | 5.25  | 3\nchocolate | dark brown  | 5.25  | 5",
      "text/html": "<table border=\"1\" class=\"dataframe\">\n    <thead>\n        <tr>\n            <th>Flavor</th> <th>Color</th> <th>Price</th> <th>Rating</th>\n        </tr>\n    </thead>\n    <tbody>\n        <tr>\n            <td>chocolate</td> <td>light brown</td> <td>4.75 </td> <td>4     </td>\n        </tr>\n        <tr>\n            <td>chocolate</td> <td>dark brown </td> <td>5.25 </td> <td>3     </td>\n        </tr>\n        <tr>\n            <td>chocolate</td> <td>dark brown </td> <td>5.25 </td> <td>5     </td>\n        </tr>\n    </tbody>\n</table>"
     },
     "execution_count": 148,
     "metadata": {},
     "output_type": "execute_result"
    }
   ]
  },
  {
   "cell_type": "code",
   "source": [
    "cones.sort('Price')"
   ],
   "metadata": {
    "id": "S7pXkVoaoXcB",
    "ExecuteTime": {
     "end_time": "2024-03-27T08:40:49.128943Z",
     "start_time": "2024-03-27T08:40:49.126162Z"
    }
   },
   "execution_count": 149,
   "outputs": [
    {
     "data": {
      "text/plain": "Flavor     | Color       | Price | Rating\nstrawberry | pink        | 3.55  | 1\nchocolate  | light brown | 4.75  | 4\nbubblegum  | pink        | 4.75  | 1\nchocolate  | dark brown  | 5.25  | 3\nstrawberry | pink        | 5.25  | 2\nchocolate  | dark brown  | 5.25  | 5",
      "text/html": "<table border=\"1\" class=\"dataframe\">\n    <thead>\n        <tr>\n            <th>Flavor</th> <th>Color</th> <th>Price</th> <th>Rating</th>\n        </tr>\n    </thead>\n    <tbody>\n        <tr>\n            <td>strawberry</td> <td>pink       </td> <td>3.55 </td> <td>1     </td>\n        </tr>\n        <tr>\n            <td>chocolate </td> <td>light brown</td> <td>4.75 </td> <td>4     </td>\n        </tr>\n        <tr>\n            <td>bubblegum </td> <td>pink       </td> <td>4.75 </td> <td>1     </td>\n        </tr>\n        <tr>\n            <td>chocolate </td> <td>dark brown </td> <td>5.25 </td> <td>3     </td>\n        </tr>\n        <tr>\n            <td>strawberry</td> <td>pink       </td> <td>5.25 </td> <td>2     </td>\n        </tr>\n        <tr>\n            <td>chocolate </td> <td>dark brown </td> <td>5.25 </td> <td>5     </td>\n        </tr>\n    </tbody>\n</table>"
     },
     "execution_count": 149,
     "metadata": {},
     "output_type": "execute_result"
    }
   ]
  },
  {
   "cell_type": "code",
   "source": [
    "cones.sort('Price', descending=True)"
   ],
   "metadata": {
    "id": "LQVeMS7boZCe",
    "ExecuteTime": {
     "end_time": "2024-03-27T08:40:49.204482Z",
     "start_time": "2024-03-27T08:40:49.201169Z"
    }
   },
   "execution_count": 150,
   "outputs": [
    {
     "data": {
      "text/plain": "Flavor     | Color       | Price | Rating\nchocolate  | dark brown  | 5.25  | 3\nstrawberry | pink        | 5.25  | 2\nchocolate  | dark brown  | 5.25  | 5\nchocolate  | light brown | 4.75  | 4\nbubblegum  | pink        | 4.75  | 1\nstrawberry | pink        | 3.55  | 1",
      "text/html": "<table border=\"1\" class=\"dataframe\">\n    <thead>\n        <tr>\n            <th>Flavor</th> <th>Color</th> <th>Price</th> <th>Rating</th>\n        </tr>\n    </thead>\n    <tbody>\n        <tr>\n            <td>chocolate </td> <td>dark brown </td> <td>5.25 </td> <td>3     </td>\n        </tr>\n        <tr>\n            <td>strawberry</td> <td>pink       </td> <td>5.25 </td> <td>2     </td>\n        </tr>\n        <tr>\n            <td>chocolate </td> <td>dark brown </td> <td>5.25 </td> <td>5     </td>\n        </tr>\n        <tr>\n            <td>chocolate </td> <td>light brown</td> <td>4.75 </td> <td>4     </td>\n        </tr>\n        <tr>\n            <td>bubblegum </td> <td>pink       </td> <td>4.75 </td> <td>1     </td>\n        </tr>\n        <tr>\n            <td>strawberry</td> <td>pink       </td> <td>3.55 </td> <td>1     </td>\n        </tr>\n    </tbody>\n</table>"
     },
     "execution_count": 150,
     "metadata": {},
     "output_type": "execute_result"
    }
   ]
  },
  {
   "cell_type": "code",
   "source": [
    "cones.sort('Flavor', descending=True)"
   ],
   "metadata": {
    "id": "0Y_i1XZxobAk",
    "ExecuteTime": {
     "end_time": "2024-03-27T08:40:49.306875Z",
     "start_time": "2024-03-27T08:40:49.303960Z"
    }
   },
   "execution_count": 151,
   "outputs": [
    {
     "data": {
      "text/plain": "Flavor     | Color       | Price | Rating\nstrawberry | pink        | 3.55  | 1\nstrawberry | pink        | 5.25  | 2\nchocolate  | light brown | 4.75  | 4\nchocolate  | dark brown  | 5.25  | 3\nchocolate  | dark brown  | 5.25  | 5\nbubblegum  | pink        | 4.75  | 1",
      "text/html": "<table border=\"1\" class=\"dataframe\">\n    <thead>\n        <tr>\n            <th>Flavor</th> <th>Color</th> <th>Price</th> <th>Rating</th>\n        </tr>\n    </thead>\n    <tbody>\n        <tr>\n            <td>strawberry</td> <td>pink       </td> <td>3.55 </td> <td>1     </td>\n        </tr>\n        <tr>\n            <td>strawberry</td> <td>pink       </td> <td>5.25 </td> <td>2     </td>\n        </tr>\n        <tr>\n            <td>chocolate </td> <td>light brown</td> <td>4.75 </td> <td>4     </td>\n        </tr>\n        <tr>\n            <td>chocolate </td> <td>dark brown </td> <td>5.25 </td> <td>3     </td>\n        </tr>\n        <tr>\n            <td>chocolate </td> <td>dark brown </td> <td>5.25 </td> <td>5     </td>\n        </tr>\n        <tr>\n            <td>bubblegum </td> <td>pink       </td> <td>4.75 </td> <td>1     </td>\n        </tr>\n    </tbody>\n</table>"
     },
     "execution_count": 151,
     "metadata": {},
     "output_type": "execute_result"
    }
   ]
  },
  {
   "cell_type": "code",
   "source": [
    "type(cones)"
   ],
   "metadata": {
    "id": "DPtsJCmAo7KI",
    "ExecuteTime": {
     "end_time": "2024-03-27T08:40:49.377584Z",
     "start_time": "2024-03-27T08:40:49.375591Z"
    }
   },
   "execution_count": 152,
   "outputs": [
    {
     "data": {
      "text/plain": "datascience.tables.Table"
     },
     "execution_count": 152,
     "metadata": {},
     "output_type": "execute_result"
    }
   ]
  },
  {
   "cell_type": "code",
   "source": [
    "cones_df = cones.to_df()\n",
    "cones_df"
   ],
   "metadata": {
    "id": "oXmuIYNLpAv_",
    "ExecuteTime": {
     "end_time": "2024-03-27T08:40:49.485429Z",
     "start_time": "2024-03-27T08:40:49.481904Z"
    }
   },
   "execution_count": 153,
   "outputs": [
    {
     "data": {
      "text/plain": "       Flavor        Color  Price  Rating\n0  strawberry         pink   3.55       1\n1   chocolate  light brown   4.75       4\n2   chocolate   dark brown   5.25       3\n3  strawberry         pink   5.25       2\n4   chocolate   dark brown   5.25       5\n5   bubblegum         pink   4.75       1",
      "text/html": "<div>\n<style scoped>\n    .dataframe tbody tr th:only-of-type {\n        vertical-align: middle;\n    }\n\n    .dataframe tbody tr th {\n        vertical-align: top;\n    }\n\n    .dataframe thead th {\n        text-align: right;\n    }\n</style>\n<table border=\"1\" class=\"dataframe\">\n  <thead>\n    <tr style=\"text-align: right;\">\n      <th></th>\n      <th>Flavor</th>\n      <th>Color</th>\n      <th>Price</th>\n      <th>Rating</th>\n    </tr>\n  </thead>\n  <tbody>\n    <tr>\n      <th>0</th>\n      <td>strawberry</td>\n      <td>pink</td>\n      <td>3.55</td>\n      <td>1</td>\n    </tr>\n    <tr>\n      <th>1</th>\n      <td>chocolate</td>\n      <td>light brown</td>\n      <td>4.75</td>\n      <td>4</td>\n    </tr>\n    <tr>\n      <th>2</th>\n      <td>chocolate</td>\n      <td>dark brown</td>\n      <td>5.25</td>\n      <td>3</td>\n    </tr>\n    <tr>\n      <th>3</th>\n      <td>strawberry</td>\n      <td>pink</td>\n      <td>5.25</td>\n      <td>2</td>\n    </tr>\n    <tr>\n      <th>4</th>\n      <td>chocolate</td>\n      <td>dark brown</td>\n      <td>5.25</td>\n      <td>5</td>\n    </tr>\n    <tr>\n      <th>5</th>\n      <td>bubblegum</td>\n      <td>pink</td>\n      <td>4.75</td>\n      <td>1</td>\n    </tr>\n  </tbody>\n</table>\n</div>"
     },
     "execution_count": 153,
     "metadata": {},
     "output_type": "execute_result"
    }
   ]
  },
  {
   "cell_type": "code",
   "source": [
    "cones_df.drop(columns='Color')"
   ],
   "metadata": {
    "id": "Dmg95yvQpIUF",
    "ExecuteTime": {
     "end_time": "2024-03-27T08:40:49.562995Z",
     "start_time": "2024-03-27T08:40:49.559486Z"
    }
   },
   "execution_count": 154,
   "outputs": [
    {
     "data": {
      "text/plain": "       Flavor  Price  Rating\n0  strawberry   3.55       1\n1   chocolate   4.75       4\n2   chocolate   5.25       3\n3  strawberry   5.25       2\n4   chocolate   5.25       5\n5   bubblegum   4.75       1",
      "text/html": "<div>\n<style scoped>\n    .dataframe tbody tr th:only-of-type {\n        vertical-align: middle;\n    }\n\n    .dataframe tbody tr th {\n        vertical-align: top;\n    }\n\n    .dataframe thead th {\n        text-align: right;\n    }\n</style>\n<table border=\"1\" class=\"dataframe\">\n  <thead>\n    <tr style=\"text-align: right;\">\n      <th></th>\n      <th>Flavor</th>\n      <th>Price</th>\n      <th>Rating</th>\n    </tr>\n  </thead>\n  <tbody>\n    <tr>\n      <th>0</th>\n      <td>strawberry</td>\n      <td>3.55</td>\n      <td>1</td>\n    </tr>\n    <tr>\n      <th>1</th>\n      <td>chocolate</td>\n      <td>4.75</td>\n      <td>4</td>\n    </tr>\n    <tr>\n      <th>2</th>\n      <td>chocolate</td>\n      <td>5.25</td>\n      <td>3</td>\n    </tr>\n    <tr>\n      <th>3</th>\n      <td>strawberry</td>\n      <td>5.25</td>\n      <td>2</td>\n    </tr>\n    <tr>\n      <th>4</th>\n      <td>chocolate</td>\n      <td>5.25</td>\n      <td>5</td>\n    </tr>\n    <tr>\n      <th>5</th>\n      <td>bubblegum</td>\n      <td>4.75</td>\n      <td>1</td>\n    </tr>\n  </tbody>\n</table>\n</div>"
     },
     "execution_count": 154,
     "metadata": {},
     "output_type": "execute_result"
    }
   ]
  },
  {
   "cell_type": "code",
   "source": [
    "cones_df.drop(labels='Price',axis=1)"
   ],
   "metadata": {
    "id": "d5ay1MzCpRWk",
    "ExecuteTime": {
     "end_time": "2024-03-27T08:40:49.647649Z",
     "start_time": "2024-03-27T08:40:49.644300Z"
    }
   },
   "execution_count": 155,
   "outputs": [
    {
     "data": {
      "text/plain": "       Flavor        Color  Rating\n0  strawberry         pink       1\n1   chocolate  light brown       4\n2   chocolate   dark brown       3\n3  strawberry         pink       2\n4   chocolate   dark brown       5\n5   bubblegum         pink       1",
      "text/html": "<div>\n<style scoped>\n    .dataframe tbody tr th:only-of-type {\n        vertical-align: middle;\n    }\n\n    .dataframe tbody tr th {\n        vertical-align: top;\n    }\n\n    .dataframe thead th {\n        text-align: right;\n    }\n</style>\n<table border=\"1\" class=\"dataframe\">\n  <thead>\n    <tr style=\"text-align: right;\">\n      <th></th>\n      <th>Flavor</th>\n      <th>Color</th>\n      <th>Rating</th>\n    </tr>\n  </thead>\n  <tbody>\n    <tr>\n      <th>0</th>\n      <td>strawberry</td>\n      <td>pink</td>\n      <td>1</td>\n    </tr>\n    <tr>\n      <th>1</th>\n      <td>chocolate</td>\n      <td>light brown</td>\n      <td>4</td>\n    </tr>\n    <tr>\n      <th>2</th>\n      <td>chocolate</td>\n      <td>dark brown</td>\n      <td>3</td>\n    </tr>\n    <tr>\n      <th>3</th>\n      <td>strawberry</td>\n      <td>pink</td>\n      <td>2</td>\n    </tr>\n    <tr>\n      <th>4</th>\n      <td>chocolate</td>\n      <td>dark brown</td>\n      <td>5</td>\n    </tr>\n    <tr>\n      <th>5</th>\n      <td>bubblegum</td>\n      <td>pink</td>\n      <td>1</td>\n    </tr>\n  </tbody>\n</table>\n</div>"
     },
     "execution_count": 155,
     "metadata": {},
     "output_type": "execute_result"
    }
   ]
  },
  {
   "cell_type": "code",
   "source": [
    "cones_df.drop(labels=2,axis=0)"
   ],
   "metadata": {
    "id": "-b32LPAwpoqr",
    "ExecuteTime": {
     "end_time": "2024-03-27T08:40:49.743672Z",
     "start_time": "2024-03-27T08:40:49.739974Z"
    }
   },
   "execution_count": 156,
   "outputs": [
    {
     "data": {
      "text/plain": "       Flavor        Color  Price  Rating\n0  strawberry         pink   3.55       1\n1   chocolate  light brown   4.75       4\n3  strawberry         pink   5.25       2\n4   chocolate   dark brown   5.25       5\n5   bubblegum         pink   4.75       1",
      "text/html": "<div>\n<style scoped>\n    .dataframe tbody tr th:only-of-type {\n        vertical-align: middle;\n    }\n\n    .dataframe tbody tr th {\n        vertical-align: top;\n    }\n\n    .dataframe thead th {\n        text-align: right;\n    }\n</style>\n<table border=\"1\" class=\"dataframe\">\n  <thead>\n    <tr style=\"text-align: right;\">\n      <th></th>\n      <th>Flavor</th>\n      <th>Color</th>\n      <th>Price</th>\n      <th>Rating</th>\n    </tr>\n  </thead>\n  <tbody>\n    <tr>\n      <th>0</th>\n      <td>strawberry</td>\n      <td>pink</td>\n      <td>3.55</td>\n      <td>1</td>\n    </tr>\n    <tr>\n      <th>1</th>\n      <td>chocolate</td>\n      <td>light brown</td>\n      <td>4.75</td>\n      <td>4</td>\n    </tr>\n    <tr>\n      <th>3</th>\n      <td>strawberry</td>\n      <td>pink</td>\n      <td>5.25</td>\n      <td>2</td>\n    </tr>\n    <tr>\n      <th>4</th>\n      <td>chocolate</td>\n      <td>dark brown</td>\n      <td>5.25</td>\n      <td>5</td>\n    </tr>\n    <tr>\n      <th>5</th>\n      <td>bubblegum</td>\n      <td>pink</td>\n      <td>4.75</td>\n      <td>1</td>\n    </tr>\n  </tbody>\n</table>\n</div>"
     },
     "execution_count": 156,
     "metadata": {},
     "output_type": "execute_result"
    }
   ]
  },
  {
   "cell_type": "code",
   "source": [
    "cones.sort('Price')"
   ],
   "metadata": {
    "id": "q8XZffP5p6_u",
    "ExecuteTime": {
     "end_time": "2024-03-27T08:40:49.843097Z",
     "start_time": "2024-03-27T08:40:49.840620Z"
    }
   },
   "execution_count": 157,
   "outputs": [
    {
     "data": {
      "text/plain": "Flavor     | Color       | Price | Rating\nstrawberry | pink        | 3.55  | 1\nchocolate  | light brown | 4.75  | 4\nbubblegum  | pink        | 4.75  | 1\nchocolate  | dark brown  | 5.25  | 3\nstrawberry | pink        | 5.25  | 2\nchocolate  | dark brown  | 5.25  | 5",
      "text/html": "<table border=\"1\" class=\"dataframe\">\n    <thead>\n        <tr>\n            <th>Flavor</th> <th>Color</th> <th>Price</th> <th>Rating</th>\n        </tr>\n    </thead>\n    <tbody>\n        <tr>\n            <td>strawberry</td> <td>pink       </td> <td>3.55 </td> <td>1     </td>\n        </tr>\n        <tr>\n            <td>chocolate </td> <td>light brown</td> <td>4.75 </td> <td>4     </td>\n        </tr>\n        <tr>\n            <td>bubblegum </td> <td>pink       </td> <td>4.75 </td> <td>1     </td>\n        </tr>\n        <tr>\n            <td>chocolate </td> <td>dark brown </td> <td>5.25 </td> <td>3     </td>\n        </tr>\n        <tr>\n            <td>strawberry</td> <td>pink       </td> <td>5.25 </td> <td>2     </td>\n        </tr>\n        <tr>\n            <td>chocolate </td> <td>dark brown </td> <td>5.25 </td> <td>5     </td>\n        </tr>\n    </tbody>\n</table>"
     },
     "execution_count": 157,
     "metadata": {},
     "output_type": "execute_result"
    }
   ]
  },
  {
   "cell_type": "code",
   "source": [
    "cones.sort('Price', descending=True)"
   ],
   "metadata": {
    "id": "HlDSWA_-qHat",
    "ExecuteTime": {
     "end_time": "2024-03-27T08:40:49.903709Z",
     "start_time": "2024-03-27T08:40:49.901361Z"
    }
   },
   "execution_count": 158,
   "outputs": [
    {
     "data": {
      "text/plain": "Flavor     | Color       | Price | Rating\nchocolate  | dark brown  | 5.25  | 3\nstrawberry | pink        | 5.25  | 2\nchocolate  | dark brown  | 5.25  | 5\nchocolate  | light brown | 4.75  | 4\nbubblegum  | pink        | 4.75  | 1\nstrawberry | pink        | 3.55  | 1",
      "text/html": "<table border=\"1\" class=\"dataframe\">\n    <thead>\n        <tr>\n            <th>Flavor</th> <th>Color</th> <th>Price</th> <th>Rating</th>\n        </tr>\n    </thead>\n    <tbody>\n        <tr>\n            <td>chocolate </td> <td>dark brown </td> <td>5.25 </td> <td>3     </td>\n        </tr>\n        <tr>\n            <td>strawberry</td> <td>pink       </td> <td>5.25 </td> <td>2     </td>\n        </tr>\n        <tr>\n            <td>chocolate </td> <td>dark brown </td> <td>5.25 </td> <td>5     </td>\n        </tr>\n        <tr>\n            <td>chocolate </td> <td>light brown</td> <td>4.75 </td> <td>4     </td>\n        </tr>\n        <tr>\n            <td>bubblegum </td> <td>pink       </td> <td>4.75 </td> <td>1     </td>\n        </tr>\n        <tr>\n            <td>strawberry</td> <td>pink       </td> <td>3.55 </td> <td>1     </td>\n        </tr>\n    </tbody>\n</table>"
     },
     "execution_count": 158,
     "metadata": {},
     "output_type": "execute_result"
    }
   ]
  },
  {
   "cell_type": "code",
   "source": [
    "cones_df.sort_values(by=['Price'])"
   ],
   "metadata": {
    "id": "teExf5xrp-2j",
    "ExecuteTime": {
     "end_time": "2024-03-27T08:40:50.032178Z",
     "start_time": "2024-03-27T08:40:50.028444Z"
    }
   },
   "execution_count": 159,
   "outputs": [
    {
     "data": {
      "text/plain": "       Flavor        Color  Price  Rating\n0  strawberry         pink   3.55       1\n1   chocolate  light brown   4.75       4\n5   bubblegum         pink   4.75       1\n2   chocolate   dark brown   5.25       3\n3  strawberry         pink   5.25       2\n4   chocolate   dark brown   5.25       5",
      "text/html": "<div>\n<style scoped>\n    .dataframe tbody tr th:only-of-type {\n        vertical-align: middle;\n    }\n\n    .dataframe tbody tr th {\n        vertical-align: top;\n    }\n\n    .dataframe thead th {\n        text-align: right;\n    }\n</style>\n<table border=\"1\" class=\"dataframe\">\n  <thead>\n    <tr style=\"text-align: right;\">\n      <th></th>\n      <th>Flavor</th>\n      <th>Color</th>\n      <th>Price</th>\n      <th>Rating</th>\n    </tr>\n  </thead>\n  <tbody>\n    <tr>\n      <th>0</th>\n      <td>strawberry</td>\n      <td>pink</td>\n      <td>3.55</td>\n      <td>1</td>\n    </tr>\n    <tr>\n      <th>1</th>\n      <td>chocolate</td>\n      <td>light brown</td>\n      <td>4.75</td>\n      <td>4</td>\n    </tr>\n    <tr>\n      <th>5</th>\n      <td>bubblegum</td>\n      <td>pink</td>\n      <td>4.75</td>\n      <td>1</td>\n    </tr>\n    <tr>\n      <th>2</th>\n      <td>chocolate</td>\n      <td>dark brown</td>\n      <td>5.25</td>\n      <td>3</td>\n    </tr>\n    <tr>\n      <th>3</th>\n      <td>strawberry</td>\n      <td>pink</td>\n      <td>5.25</td>\n      <td>2</td>\n    </tr>\n    <tr>\n      <th>4</th>\n      <td>chocolate</td>\n      <td>dark brown</td>\n      <td>5.25</td>\n      <td>5</td>\n    </tr>\n  </tbody>\n</table>\n</div>"
     },
     "execution_count": 159,
     "metadata": {},
     "output_type": "execute_result"
    }
   ]
  },
  {
   "cell_type": "code",
   "source": [
    "cones_df.sort_values(by=['Price'], ascending=False)"
   ],
   "metadata": {
    "id": "097WiO3GqLBZ",
    "ExecuteTime": {
     "end_time": "2024-03-27T08:40:50.093948Z",
     "start_time": "2024-03-27T08:40:50.090253Z"
    }
   },
   "execution_count": 160,
   "outputs": [
    {
     "data": {
      "text/plain": "       Flavor        Color  Price  Rating\n2   chocolate   dark brown   5.25       3\n3  strawberry         pink   5.25       2\n4   chocolate   dark brown   5.25       5\n1   chocolate  light brown   4.75       4\n5   bubblegum         pink   4.75       1\n0  strawberry         pink   3.55       1",
      "text/html": "<div>\n<style scoped>\n    .dataframe tbody tr th:only-of-type {\n        vertical-align: middle;\n    }\n\n    .dataframe tbody tr th {\n        vertical-align: top;\n    }\n\n    .dataframe thead th {\n        text-align: right;\n    }\n</style>\n<table border=\"1\" class=\"dataframe\">\n  <thead>\n    <tr style=\"text-align: right;\">\n      <th></th>\n      <th>Flavor</th>\n      <th>Color</th>\n      <th>Price</th>\n      <th>Rating</th>\n    </tr>\n  </thead>\n  <tbody>\n    <tr>\n      <th>2</th>\n      <td>chocolate</td>\n      <td>dark brown</td>\n      <td>5.25</td>\n      <td>3</td>\n    </tr>\n    <tr>\n      <th>3</th>\n      <td>strawberry</td>\n      <td>pink</td>\n      <td>5.25</td>\n      <td>2</td>\n    </tr>\n    <tr>\n      <th>4</th>\n      <td>chocolate</td>\n      <td>dark brown</td>\n      <td>5.25</td>\n      <td>5</td>\n    </tr>\n    <tr>\n      <th>1</th>\n      <td>chocolate</td>\n      <td>light brown</td>\n      <td>4.75</td>\n      <td>4</td>\n    </tr>\n    <tr>\n      <th>5</th>\n      <td>bubblegum</td>\n      <td>pink</td>\n      <td>4.75</td>\n      <td>1</td>\n    </tr>\n    <tr>\n      <th>0</th>\n      <td>strawberry</td>\n      <td>pink</td>\n      <td>3.55</td>\n      <td>1</td>\n    </tr>\n  </tbody>\n</table>\n</div>"
     },
     "execution_count": 160,
     "metadata": {},
     "output_type": "execute_result"
    }
   ]
  },
  {
   "cell_type": "code",
   "source": [
    "cones.where('Flavor', 'chocolate')"
   ],
   "metadata": {
    "id": "wbcSIi1-qQ89",
    "ExecuteTime": {
     "end_time": "2024-03-27T08:40:50.169944Z",
     "start_time": "2024-03-27T08:40:50.167532Z"
    }
   },
   "execution_count": 161,
   "outputs": [
    {
     "data": {
      "text/plain": "Flavor    | Color       | Price | Rating\nchocolate | light brown | 4.75  | 4\nchocolate | dark brown  | 5.25  | 3\nchocolate | dark brown  | 5.25  | 5",
      "text/html": "<table border=\"1\" class=\"dataframe\">\n    <thead>\n        <tr>\n            <th>Flavor</th> <th>Color</th> <th>Price</th> <th>Rating</th>\n        </tr>\n    </thead>\n    <tbody>\n        <tr>\n            <td>chocolate</td> <td>light brown</td> <td>4.75 </td> <td>4     </td>\n        </tr>\n        <tr>\n            <td>chocolate</td> <td>dark brown </td> <td>5.25 </td> <td>3     </td>\n        </tr>\n        <tr>\n            <td>chocolate</td> <td>dark brown </td> <td>5.25 </td> <td>5     </td>\n        </tr>\n    </tbody>\n</table>"
     },
     "execution_count": 161,
     "metadata": {},
     "output_type": "execute_result"
    }
   ]
  },
  {
   "cell_type": "code",
   "source": [
    "filter = cones_df['Flavor'] == 'chocolate'\n",
    "cones_df.loc[filter]"
   ],
   "metadata": {
    "id": "cc8pIjUdqdsN",
    "ExecuteTime": {
     "end_time": "2024-03-27T08:40:50.284469Z",
     "start_time": "2024-03-27T08:40:50.280900Z"
    }
   },
   "execution_count": 162,
   "outputs": [
    {
     "data": {
      "text/plain": "      Flavor        Color  Price  Rating\n1  chocolate  light brown   4.75       4\n2  chocolate   dark brown   5.25       3\n4  chocolate   dark brown   5.25       5",
      "text/html": "<div>\n<style scoped>\n    .dataframe tbody tr th:only-of-type {\n        vertical-align: middle;\n    }\n\n    .dataframe tbody tr th {\n        vertical-align: top;\n    }\n\n    .dataframe thead th {\n        text-align: right;\n    }\n</style>\n<table border=\"1\" class=\"dataframe\">\n  <thead>\n    <tr style=\"text-align: right;\">\n      <th></th>\n      <th>Flavor</th>\n      <th>Color</th>\n      <th>Price</th>\n      <th>Rating</th>\n    </tr>\n  </thead>\n  <tbody>\n    <tr>\n      <th>1</th>\n      <td>chocolate</td>\n      <td>light brown</td>\n      <td>4.75</td>\n      <td>4</td>\n    </tr>\n    <tr>\n      <th>2</th>\n      <td>chocolate</td>\n      <td>dark brown</td>\n      <td>5.25</td>\n      <td>3</td>\n    </tr>\n    <tr>\n      <th>4</th>\n      <td>chocolate</td>\n      <td>dark brown</td>\n      <td>5.25</td>\n      <td>5</td>\n    </tr>\n  </tbody>\n</table>\n</div>"
     },
     "execution_count": 162,
     "metadata": {},
     "output_type": "execute_result"
    }
   ]
  },
  {
   "cell_type": "code",
   "source": [
    "cones_df.where(cones_df['Flavor']=='chocolate')"
   ],
   "metadata": {
    "id": "3Y7yV6Qiqrhc",
    "ExecuteTime": {
     "end_time": "2024-03-27T08:40:50.408712Z",
     "start_time": "2024-03-27T08:40:50.404209Z"
    }
   },
   "execution_count": 163,
   "outputs": [
    {
     "data": {
      "text/plain": "      Flavor        Color  Price  Rating\n0        NaN          NaN    NaN     NaN\n1  chocolate  light brown   4.75     4.0\n2  chocolate   dark brown   5.25     3.0\n3        NaN          NaN    NaN     NaN\n4  chocolate   dark brown   5.25     5.0\n5        NaN          NaN    NaN     NaN",
      "text/html": "<div>\n<style scoped>\n    .dataframe tbody tr th:only-of-type {\n        vertical-align: middle;\n    }\n\n    .dataframe tbody tr th {\n        vertical-align: top;\n    }\n\n    .dataframe thead th {\n        text-align: right;\n    }\n</style>\n<table border=\"1\" class=\"dataframe\">\n  <thead>\n    <tr style=\"text-align: right;\">\n      <th></th>\n      <th>Flavor</th>\n      <th>Color</th>\n      <th>Price</th>\n      <th>Rating</th>\n    </tr>\n  </thead>\n  <tbody>\n    <tr>\n      <th>0</th>\n      <td>NaN</td>\n      <td>NaN</td>\n      <td>NaN</td>\n      <td>NaN</td>\n    </tr>\n    <tr>\n      <th>1</th>\n      <td>chocolate</td>\n      <td>light brown</td>\n      <td>4.75</td>\n      <td>4.0</td>\n    </tr>\n    <tr>\n      <th>2</th>\n      <td>chocolate</td>\n      <td>dark brown</td>\n      <td>5.25</td>\n      <td>3.0</td>\n    </tr>\n    <tr>\n      <th>3</th>\n      <td>NaN</td>\n      <td>NaN</td>\n      <td>NaN</td>\n      <td>NaN</td>\n    </tr>\n    <tr>\n      <th>4</th>\n      <td>chocolate</td>\n      <td>dark brown</td>\n      <td>5.25</td>\n      <td>5.0</td>\n    </tr>\n    <tr>\n      <th>5</th>\n      <td>NaN</td>\n      <td>NaN</td>\n      <td>NaN</td>\n      <td>NaN</td>\n    </tr>\n  </tbody>\n</table>\n</div>"
     },
     "execution_count": 163,
     "metadata": {},
     "output_type": "execute_result"
    }
   ]
  },
  {
   "cell_type": "code",
   "source": [
    "cones.column(2).mean()"
   ],
   "metadata": {
    "id": "tY-zfVQurRFA",
    "ExecuteTime": {
     "end_time": "2024-03-27T08:40:50.490040Z",
     "start_time": "2024-03-27T08:40:50.487796Z"
    }
   },
   "execution_count": 164,
   "outputs": [
    {
     "data": {
      "text/plain": "4.7999999999999998"
     },
     "execution_count": 164,
     "metadata": {},
     "output_type": "execute_result"
    }
   ]
  },
  {
   "cell_type": "code",
   "outputs": [],
   "source": [],
   "metadata": {
    "collapsed": false,
    "ExecuteTime": {
     "end_time": "2024-03-27T08:40:50.556419Z",
     "start_time": "2024-03-27T08:40:50.555104Z"
    }
   },
   "execution_count": 164
  },
  {
   "cell_type": "code",
   "outputs": [],
   "source": [],
   "metadata": {
    "collapsed": false,
    "ExecuteTime": {
     "end_time": "2024-03-27T08:40:50.651548Z",
     "start_time": "2024-03-27T08:40:50.650248Z"
    }
   },
   "execution_count": 164
  },
  {
   "cell_type": "code",
   "outputs": [],
   "source": [],
   "metadata": {
    "collapsed": false,
    "ExecuteTime": {
     "end_time": "2024-03-27T08:40:50.718471Z",
     "start_time": "2024-03-27T08:40:50.717116Z"
    }
   },
   "execution_count": 164
  },
  {
   "cell_type": "code",
   "outputs": [],
   "source": [],
   "metadata": {
    "collapsed": false,
    "ExecuteTime": {
     "end_time": "2024-03-27T08:40:50.770197Z",
     "start_time": "2024-03-27T08:40:50.768715Z"
    }
   },
   "execution_count": 164
  },
  {
   "cell_type": "code",
   "outputs": [],
   "source": [],
   "metadata": {
    "collapsed": false
   }
  }
 ]
}
