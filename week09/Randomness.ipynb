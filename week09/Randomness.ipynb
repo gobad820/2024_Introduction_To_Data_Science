{
 "cells": [
  {
   "cell_type": "code",
   "id": "initial_id",
   "metadata": {
    "collapsed": true,
    "ExecuteTime": {
     "end_time": "2024-05-01T07:39:05.993735Z",
     "start_time": "2024-05-01T07:39:05.990588Z"
    }
   },
   "source": "sum([True, False, True])",
   "outputs": [
    {
     "data": {
      "text/plain": [
       "2"
      ]
     },
     "execution_count": 2,
     "metadata": {},
     "output_type": "execute_result"
    }
   ],
   "execution_count": 2
  },
  {
   "metadata": {
    "ExecuteTime": {
     "end_time": "2024-05-01T07:39:06.231301Z",
     "start_time": "2024-05-01T07:39:05.996950Z"
    }
   },
   "cell_type": "code",
   "source": [
    "import numpy as np\n",
    "\n",
    "tosses = np.array(['Tails', 'Head', 'Tails', 'Heads', 'Heads'])\n",
    "tosses == 'Tails'"
   ],
   "id": "c038031cbbc62833",
   "outputs": [
    {
     "data": {
      "text/plain": [
       "array([ True, False,  True, False, False])"
      ]
     },
     "execution_count": 3,
     "metadata": {},
     "output_type": "execute_result"
    }
   ],
   "execution_count": 3
  },
  {
   "metadata": {
    "ExecuteTime": {
     "end_time": "2024-05-01T07:39:06.236478Z",
     "start_time": "2024-05-01T07:39:06.233150Z"
    }
   },
   "cell_type": "code",
   "source": "np.count_nonzero(tosses == 'Tails')",
   "id": "bbcb5fad16dcdc61",
   "outputs": [
    {
     "data": {
      "text/plain": [
       "2"
      ]
     },
     "execution_count": 4,
     "metadata": {},
     "output_type": "execute_result"
    }
   ],
   "execution_count": 4
  },
  {
   "metadata": {
    "ExecuteTime": {
     "end_time": "2024-05-01T07:39:06.242328Z",
     "start_time": "2024-05-01T07:39:06.239416Z"
    }
   },
   "cell_type": "code",
   "source": "sum(tosses == 'Tails')",
   "id": "1b54affd61b81217",
   "outputs": [
    {
     "data": {
      "text/plain": [
       "2"
      ]
     },
     "execution_count": 5,
     "metadata": {},
     "output_type": "execute_result"
    }
   ],
   "execution_count": 5
  },
  {
   "metadata": {
    "ExecuteTime": {
     "end_time": "2024-05-01T07:39:06.254518Z",
     "start_time": "2024-05-01T07:39:06.248416Z"
    }
   },
   "cell_type": "code",
   "source": [
    "two_groups = np.array(['treatment', 'control'])\n",
    "sum(np.random.choice(two_groups, size=5, replace=True, p=[.6, .4]) == 'control')\n"
   ],
   "id": "e938dcd3b4bcb594",
   "outputs": [
    {
     "data": {
      "text/plain": [
       "1"
      ]
     },
     "execution_count": 6,
     "metadata": {},
     "output_type": "execute_result"
    }
   ],
   "execution_count": 6
  },
  {
   "metadata": {
    "ExecuteTime": {
     "end_time": "2024-05-01T07:39:06.257619Z",
     "start_time": "2024-05-01T07:39:06.255739Z"
    }
   },
   "cell_type": "code",
   "source": [
    "def one_bet(x):\n",
    "    \"\"\"returns my net gain if the die shows  spots\"\"\"\n",
    "    if x <= 2:\n",
    "        return -1  # return이 여기서 되지 않는다면 swtich문처럼 계속 내려갈 수도 있다.\n",
    "    elif x <= 4:\n",
    "        return 0\n",
    "    elif x <= 6:\n",
    "        return 1"
   ],
   "id": "6c2153542f11af04",
   "outputs": [],
   "execution_count": 7
  },
  {
   "metadata": {
    "ExecuteTime": {
     "end_time": "2024-05-01T07:39:06.262349Z",
     "start_time": "2024-05-01T07:39:06.259276Z"
    }
   },
   "cell_type": "code",
   "source": [
    "def bet_on_one_roll():\n",
    "    \"\"\"returns my net gain if the die shows  spots\"\"\"\n",
    "    x = np.random.choice(np.arange(1, 7))\n",
    "    if x <= 2:\n",
    "        return -1  # return이 여기서 되지 않는다면 swtich문처럼 계속 내려갈 수도 있다.\n",
    "    elif x <= 4:\n",
    "        return 0\n",
    "    elif x <= 6:\n",
    "        return 1"
   ],
   "id": "72ef7cb32a04ceef",
   "outputs": [],
   "execution_count": 8
  },
  {
   "metadata": {
    "ExecuteTime": {
     "end_time": "2024-05-01T07:39:06.274674Z",
     "start_time": "2024-05-01T07:39:06.263279Z"
    }
   },
   "cell_type": "code",
   "source": [
    "outcomes = np.array([])\n",
    "\n",
    "for i in range(300):\n",
    "    outcomes = np.append(outcomes, bet_on_one_roll())\n",
    "\n",
    "sum(outcomes)"
   ],
   "id": "2cb0fd1fc7b68a0b",
   "outputs": [
    {
     "data": {
      "text/plain": [
       "11.0"
      ]
     },
     "execution_count": 9,
     "metadata": {},
     "output_type": "execute_result"
    }
   ],
   "execution_count": 9
  },
  {
   "metadata": {
    "ExecuteTime": {
     "end_time": "2024-05-01T07:39:06.912466Z",
     "start_time": "2024-05-01T07:39:06.276782Z"
    }
   },
   "cell_type": "code",
   "source": [
    "import pandas as pd\n",
    "\n",
    "outcome_table = pd.DataFrame({'Outcome': outcomes})\n",
    "outcome_table = outcome_table.groupby('Outcome')['Outcome'].count()\n",
    "outcome_table = outcome_table.reset_index(name='count')\n",
    "fig = outcome_table.plot.barh(x='Outcome', y='count')"
   ],
   "id": "12ab913f6ad55783",
   "outputs": [
    {
     "data": {
      "text/plain": [
       "<Figure size 640x480 with 1 Axes>"
      ],
      "image/png": "[encoded data removed]"
     },
     "metadata": {},
     "output_type": "display_data"
    }
   ],
   "execution_count": 10
  },
  {
   "metadata": {
    "ExecuteTime": {
     "end_time": "2024-05-01T07:39:06.916518Z",
     "start_time": "2024-05-01T07:39:06.913139Z"
    }
   },
   "cell_type": "code",
   "source": [
    "coin = np.array(['Heads', 'Tails'])\n",
    "np.random.choice(coin, 10)\n"
   ],
   "id": "7786a74353cfb271",
   "outputs": [
    {
     "data": {
      "text/plain": [
       "array(['Heads', 'Heads', 'Tails', 'Tails', 'Heads', 'Heads', 'Heads',\n",
       "       'Tails', 'Heads', 'Heads'], dtype='<U5')"
      ]
     },
     "execution_count": 11,
     "metadata": {},
     "output_type": "execute_result"
    }
   ],
   "execution_count": 11
  },
  {
   "metadata": {
    "ExecuteTime": {
     "end_time": "2024-05-01T07:39:06.920800Z",
     "start_time": "2024-05-01T07:39:06.918349Z"
    }
   },
   "cell_type": "code",
   "source": [
    "outcomes = np.random.choice(coin, 100)\n",
    "num_heads= np.count_nonzero(outcomes == 'Heads')\n",
    "num_heads\n",
    "def one_simulated_value():\n",
    "    outcomes = np.random.choice(coin, 100)\n",
    "    return np.count_nonzero(outcomes == 'Heads')\n"
   ],
   "id": "726ed789514ba71",
   "outputs": [],
   "execution_count": 12
  },
  {
   "metadata": {
    "ExecuteTime": {
     "end_time": "2024-05-01T07:39:07.069330Z",
     "start_time": "2024-05-01T07:39:06.921429Z"
    }
   },
   "cell_type": "code",
   "source": [
    "num_repetitions= 20000# number of repetitions\n",
    "# repeat the process num_repetitionstimes\n",
    "for i in np.arange(num_repetitions):\n",
    "    # simulate one value using the function defined\n",
    "    new_value= one_simulated_value()\n"
   ],
   "id": "c890bfb10eda6d9b",
   "outputs": [],
   "execution_count": 13
  },
  {
   "metadata": {
    "ExecuteTime": {
     "end_time": "2024-05-01T07:39:07.288864Z",
     "start_time": "2024-05-01T07:39:07.069916Z"
    }
   },
   "cell_type": "code",
   "source": [
    "num_repetitions= 20000# number of repetitions\n",
    "heads = np.array([])\n",
    "# repeat the process num_repetitionstimes\n",
    "for i in np.arange(num_repetitions):\n",
    "# simulate one value using the function defined\n",
    "    new_value= one_simulated_value()# augment the collection array with the simulated value\n",
    "    heads = np.append(heads, new_value)"
   ],
   "id": "ec92ed94e273fc48",
   "outputs": [],
   "execution_count": 14
  },
  {
   "metadata": {
    "ExecuteTime": {
     "end_time": "2024-05-01T07:39:07.359048Z",
     "start_time": "2024-05-01T07:39:07.289507Z"
    }
   },
   "cell_type": "code",
   "source": [
    "rst_pd= pd.DataFrame({'Repetition': np.arange(1, num_repetitions+ 1),'Number of Heads': heads})\n",
    "fig = rst_pd['Number of Heads'].hist(bins=np.arange(30.5, 69.6, 1), density = True, width=.9)\n"
   ],
   "id": "7da237cab2e9513e",
   "outputs": [
    {
     "data": {
      "text/plain": [
       "<Figure size 640x480 with 1 Axes>"
      ],
      "image/png": "[encoded data removed]"
     },
     "metadata": {},
     "output_type": "display_data"
    }
   ],
   "execution_count": 15
  },
  {
   "metadata": {
    "ExecuteTime": {
     "end_time": "2024-05-01T07:39:26.492773Z",
     "start_time": "2024-05-01T07:39:26.487918Z"
    }
   },
   "cell_type": "code",
   "source": [
    "tosses = np.arange(1, 51, 1)\n",
    "results = pd.DataFrame({'Tosses': tosses, 'Chance of at least one H': 1-(1/2)**tosses})\n",
    "results.head(10)\n"
   ],
   "id": "b5bb56ed5188c49d",
   "outputs": [
    {
     "data": {
      "text/plain": [
       "   Tosses  Chance of at least one H\n",
       "0       1                  0.500000\n",
       "1       2                  0.750000\n",
       "2       3                  0.875000\n",
       "3       4                  0.937500\n",
       "4       5                  0.968750\n",
       "5       6                  0.984375\n",
       "6       7                  0.992188\n",
       "7       8                  0.996094\n",
       "8       9                  0.998047\n",
       "9      10                  0.999023"
      ],
      "text/html": [
       "<div>\n",
       "<style scoped>\n",
       "    .dataframe tbody tr th:only-of-type {\n",
       "        vertical-align: middle;\n",
       "    }\n",
       "\n",
       "    .dataframe tbody tr th {\n",
       "        vertical-align: top;\n",
       "    }\n",
       "\n",
       "    .dataframe thead th {\n",
       "        text-align: right;\n",
       "    }\n",
       "</style>\n",
       "<table border=\"1\" class=\"dataframe\">\n",
       "  <thead>\n",
       "    <tr style=\"text-align: right;\">\n",
       "      <th></th>\n",
       "      <th>Tosses</th>\n",
       "      <th>Chance of at least one H</th>\n",
       "    </tr>\n",
       "  </thead>\n",
       "  <tbody>\n",
       "    <tr>\n",
       "      <th>0</th>\n",
       "      <td>1</td>\n",
       "      <td>0.500000</td>\n",
       "    </tr>\n",
       "    <tr>\n",
       "      <th>1</th>\n",
       "      <td>2</td>\n",
       "      <td>0.750000</td>\n",
       "    </tr>\n",
       "    <tr>\n",
       "      <th>2</th>\n",
       "      <td>3</td>\n",
       "      <td>0.875000</td>\n",
       "    </tr>\n",
       "    <tr>\n",
       "      <th>3</th>\n",
       "      <td>4</td>\n",
       "      <td>0.937500</td>\n",
       "    </tr>\n",
       "    <tr>\n",
       "      <th>4</th>\n",
       "      <td>5</td>\n",
       "      <td>0.968750</td>\n",
       "    </tr>\n",
       "    <tr>\n",
       "      <th>5</th>\n",
       "      <td>6</td>\n",
       "      <td>0.984375</td>\n",
       "    </tr>\n",
       "    <tr>\n",
       "      <th>6</th>\n",
       "      <td>7</td>\n",
       "      <td>0.992188</td>\n",
       "    </tr>\n",
       "    <tr>\n",
       "      <th>7</th>\n",
       "      <td>8</td>\n",
       "      <td>0.996094</td>\n",
       "    </tr>\n",
       "    <tr>\n",
       "      <th>8</th>\n",
       "      <td>9</td>\n",
       "      <td>0.998047</td>\n",
       "    </tr>\n",
       "    <tr>\n",
       "      <th>9</th>\n",
       "      <td>10</td>\n",
       "      <td>0.999023</td>\n",
       "    </tr>\n",
       "  </tbody>\n",
       "</table>\n",
       "</div>"
      ]
     },
     "execution_count": 16,
     "metadata": {},
     "output_type": "execute_result"
    }
   ],
   "execution_count": 16
  },
  {
   "metadata": {
    "ExecuteTime": {
     "end_time": "2024-05-01T08:03:09.922377Z",
     "start_time": "2024-05-01T08:03:07.307982Z"
    }
   },
   "cell_type": "code",
   "source": [
    "goats = np.array(['first goat','second goat'])\n",
    "hidden_behind_door = np.append(goats,\"car\")\n",
    "\n",
    "def other_goat(x):\n",
    "    if x == 'first goat':\n",
    "        return 'second goat'\n",
    "    elif x == 'second goat':\n",
    "        return 'first goat'\n",
    "    \n",
    "\n",
    "def monty_hall_game():\n",
    "    # 나머지 파라미터 없으므로 복원 추출을 한다\n",
    "    contestant_guess = np.random.choice(hidden_behind_door)\n",
    "    if contestant_guess== 'first goat':\n",
    "        return[contestant_guess, 'second goat', 'car']\n",
    "    if contestant_guess == 'second goat':\n",
    "        return[contestant_guess, 'first goat', 'car']\n",
    "    if contestant_guess== 'car':\n",
    "        revealed= np.random.choice(goats)\n",
    "        return[contestant_guess, revealed, other_goat(revealed)]\n",
    "    \n",
    "\n",
    "# empty collection table\n",
    "games= pd.DataFrame(columns=['Guess', 'Revealed', 'Remaining'])\n",
    "# Play the game 10000 times and \n",
    "# record the results in the table games\n",
    "for i in np.arange(10000):\n",
    "    games.loc[i] = monty_hall_game()\n",
    "\n",
    "games.head()\n"
   ],
   "id": "251d228bbfd6fd53",
   "outputs": [
    {
     "data": {
      "text/plain": [
       "         Guess     Revealed   Remaining\n",
       "0   first goat  second goat         car\n",
       "1   first goat  second goat         car\n",
       "2          car  second goat  first goat\n",
       "3  second goat   first goat         car\n",
       "4   first goat  second goat         car"
      ],
      "text/html": [
       "<div>\n",
       "<style scoped>\n",
       "    .dataframe tbody tr th:only-of-type {\n",
       "        vertical-align: middle;\n",
       "    }\n",
       "\n",
       "    .dataframe tbody tr th {\n",
       "        vertical-align: top;\n",
       "    }\n",
       "\n",
       "    .dataframe thead th {\n",
       "        text-align: right;\n",
       "    }\n",
       "</style>\n",
       "<table border=\"1\" class=\"dataframe\">\n",
       "  <thead>\n",
       "    <tr style=\"text-align: right;\">\n",
       "      <th></th>\n",
       "      <th>Guess</th>\n",
       "      <th>Revealed</th>\n",
       "      <th>Remaining</th>\n",
       "    </tr>\n",
       "  </thead>\n",
       "  <tbody>\n",
       "    <tr>\n",
       "      <th>0</th>\n",
       "      <td>first goat</td>\n",
       "      <td>second goat</td>\n",
       "      <td>car</td>\n",
       "    </tr>\n",
       "    <tr>\n",
       "      <th>1</th>\n",
       "      <td>first goat</td>\n",
       "      <td>second goat</td>\n",
       "      <td>car</td>\n",
       "    </tr>\n",
       "    <tr>\n",
       "      <th>2</th>\n",
       "      <td>car</td>\n",
       "      <td>second goat</td>\n",
       "      <td>first goat</td>\n",
       "    </tr>\n",
       "    <tr>\n",
       "      <th>3</th>\n",
       "      <td>second goat</td>\n",
       "      <td>first goat</td>\n",
       "      <td>car</td>\n",
       "    </tr>\n",
       "    <tr>\n",
       "      <th>4</th>\n",
       "      <td>first goat</td>\n",
       "      <td>second goat</td>\n",
       "      <td>car</td>\n",
       "    </tr>\n",
       "  </tbody>\n",
       "</table>\n",
       "</div>"
      ]
     },
     "execution_count": 28,
     "metadata": {},
     "output_type": "execute_result"
    }
   ],
   "execution_count": 28
  },
  {
   "metadata": {
    "ExecuteTime": {
     "end_time": "2024-05-01T08:03:09.982521Z",
     "start_time": "2024-05-01T08:03:09.923376Z"
    }
   },
   "cell_type": "code",
   "source": [
    "original_choice = games.groupby('Guess')['Guess'].count().reset_index(name='orig_count')\n",
    "remaining_choice = games.groupby('Remaining')['Remaining'].count().reset_index(name='rema_count')\n",
    "\n",
    "joined = original_choice.join(remaining_choice.set_index('Remaining'),on='Guess')\n",
    "joined\n",
    "\n",
    "\n",
    "fig = joined.set_index('Guess').plot.barh(ylabel= 'Item')\n"
   ],
   "id": "40b5db734a4f87e4",
   "outputs": [
    {
     "data": {
      "text/plain": [
       "<Figure size 640x480 with 1 Axes>"
      ],
      "image/png": "[encoded data removed]"
     },
     "metadata": {},
     "output_type": "display_data"
    }
   ],
   "execution_count": 29
  },
  {
   "metadata": {
    "ExecuteTime": {
     "end_time": "2024-05-01T08:02:12.921395Z",
     "start_time": "2024-05-01T08:02:12.919995Z"
    }
   },
   "cell_type": "code",
   "source": "",
   "id": "132e686d6bd2e5c2",
   "outputs": [],
   "execution_count": 27
  },
  {
   "metadata": {},
   "cell_type": "code",
   "outputs": [],
   "execution_count": null,
   "source": "",
   "id": "dc7775d3bf5c0299"
  }
 ],
 "metadata": {
  "kernelspec": {
   "display_name": "Python 3",
   "language": "python",
   "name": "python3"
  },
  "language_info": {
   "codemirror_mode": {
    "name": "ipython",
    "version": 2
   },
   "file_extension": ".py",
   "mimetype": "text/x-python",
   "name": "python",
   "nbconvert_exporter": "python",
   "pygments_lexer": "ipython2",
   "version": "2.7.6"
  }
 },
 "nbformat": 4,
 "nbformat_minor": 5
}
