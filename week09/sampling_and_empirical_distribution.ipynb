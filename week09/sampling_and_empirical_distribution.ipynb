{
 "cells": [
  {
   "cell_type": "code",
   "id": "initial_id",
   "metadata": {
    "collapsed": true,
    "ExecuteTime": {
     "end_time": "2024-05-01T08:10:15.317420Z",
     "start_time": "2024-05-01T08:10:15.309231Z"
    }
   },
   "source": [
    "import pandas as pd\n",
    "import numpy as np\n",
    "\n",
    "top = pd.read_csv('top_movies_2017.csv')\n",
    "top"
   ],
   "outputs": [
    {
     "data": {
      "text/plain": [
       "                                  Title           Studio      Gross  \\\n",
       "0                    Gone with the Wind              MGM  198676459   \n",
       "1                             Star Wars              Fox  460998007   \n",
       "2                    The Sound of Music              Fox  158671368   \n",
       "3           E.T.: The Extra-Terrestrial        Universal  435110554   \n",
       "4                               Titanic        Paramount  658672302   \n",
       "..                                  ...              ...        ...   \n",
       "195                              9 to 5              Fox  103290500   \n",
       "196  Batman v Superman: Dawn of Justice  Warner Brothers  330360194   \n",
       "197                            The Firm        Paramount  158348367   \n",
       "198                       Suicide Squad  Warner Brothers  325100054   \n",
       "199             Who Framed Roger Rabbit      Buena Vista  156452370   \n",
       "\n",
       "     Gross (Adjusted)  Year  \n",
       "0          1796176700  1939  \n",
       "1          1583483200  1977  \n",
       "2          1266072700  1965  \n",
       "3          1261085000  1982  \n",
       "4          1204368000  1997  \n",
       "..                ...   ...  \n",
       "195         341357800  1980  \n",
       "196         340137000  2016  \n",
       "197         340028200  1993  \n",
       "198         339411900  2016  \n",
       "199         338409100  1988  \n",
       "\n",
       "[200 rows x 5 columns]"
      ],
      "text/html": [
       "<div>\n",
       "<style scoped>\n",
       "    .dataframe tbody tr th:only-of-type {\n",
       "        vertical-align: middle;\n",
       "    }\n",
       "\n",
       "    .dataframe tbody tr th {\n",
       "        vertical-align: top;\n",
       "    }\n",
       "\n",
       "    .dataframe thead th {\n",
       "        text-align: right;\n",
       "    }\n",
       "</style>\n",
       "<table border=\"1\" class=\"dataframe\">\n",
       "  <thead>\n",
       "    <tr style=\"text-align: right;\">\n",
       "      <th></th>\n",
       "      <th>Title</th>\n",
       "      <th>Studio</th>\n",
       "      <th>Gross</th>\n",
       "      <th>Gross (Adjusted)</th>\n",
       "      <th>Year</th>\n",
       "    </tr>\n",
       "  </thead>\n",
       "  <tbody>\n",
       "    <tr>\n",
       "      <th>0</th>\n",
       "      <td>Gone with the Wind</td>\n",
       "      <td>MGM</td>\n",
       "      <td>198676459</td>\n",
       "      <td>1796176700</td>\n",
       "      <td>1939</td>\n",
       "    </tr>\n",
       "    <tr>\n",
       "      <th>1</th>\n",
       "      <td>Star Wars</td>\n",
       "      <td>Fox</td>\n",
       "      <td>460998007</td>\n",
       "      <td>1583483200</td>\n",
       "      <td>1977</td>\n",
       "    </tr>\n",
       "    <tr>\n",
       "      <th>2</th>\n",
       "      <td>The Sound of Music</td>\n",
       "      <td>Fox</td>\n",
       "      <td>158671368</td>\n",
       "      <td>1266072700</td>\n",
       "      <td>1965</td>\n",
       "    </tr>\n",
       "    <tr>\n",
       "      <th>3</th>\n",
       "      <td>E.T.: The Extra-Terrestrial</td>\n",
       "      <td>Universal</td>\n",
       "      <td>435110554</td>\n",
       "      <td>1261085000</td>\n",
       "      <td>1982</td>\n",
       "    </tr>\n",
       "    <tr>\n",
       "      <th>4</th>\n",
       "      <td>Titanic</td>\n",
       "      <td>Paramount</td>\n",
       "      <td>658672302</td>\n",
       "      <td>1204368000</td>\n",
       "      <td>1997</td>\n",
       "    </tr>\n",
       "    <tr>\n",
       "      <th>...</th>\n",
       "      <td>...</td>\n",
       "      <td>...</td>\n",
       "      <td>...</td>\n",
       "      <td>...</td>\n",
       "      <td>...</td>\n",
       "    </tr>\n",
       "    <tr>\n",
       "      <th>195</th>\n",
       "      <td>9 to 5</td>\n",
       "      <td>Fox</td>\n",
       "      <td>103290500</td>\n",
       "      <td>341357800</td>\n",
       "      <td>1980</td>\n",
       "    </tr>\n",
       "    <tr>\n",
       "      <th>196</th>\n",
       "      <td>Batman v Superman: Dawn of Justice</td>\n",
       "      <td>Warner Brothers</td>\n",
       "      <td>330360194</td>\n",
       "      <td>340137000</td>\n",
       "      <td>2016</td>\n",
       "    </tr>\n",
       "    <tr>\n",
       "      <th>197</th>\n",
       "      <td>The Firm</td>\n",
       "      <td>Paramount</td>\n",
       "      <td>158348367</td>\n",
       "      <td>340028200</td>\n",
       "      <td>1993</td>\n",
       "    </tr>\n",
       "    <tr>\n",
       "      <th>198</th>\n",
       "      <td>Suicide Squad</td>\n",
       "      <td>Warner Brothers</td>\n",
       "      <td>325100054</td>\n",
       "      <td>339411900</td>\n",
       "      <td>2016</td>\n",
       "    </tr>\n",
       "    <tr>\n",
       "      <th>199</th>\n",
       "      <td>Who Framed Roger Rabbit</td>\n",
       "      <td>Buena Vista</td>\n",
       "      <td>156452370</td>\n",
       "      <td>338409100</td>\n",
       "      <td>1988</td>\n",
       "    </tr>\n",
       "  </tbody>\n",
       "</table>\n",
       "<p>200 rows × 5 columns</p>\n",
       "</div>"
      ]
     },
     "execution_count": 2,
     "metadata": {},
     "output_type": "execute_result"
    }
   ],
   "execution_count": 2
  },
  {
   "metadata": {
    "ExecuteTime": {
     "end_time": "2024-05-01T08:11:14.531759Z",
     "start_time": "2024-05-01T08:11:14.525914Z"
    }
   },
   "cell_type": "code",
   "source": [
    "# NOTE: Deterministic sample \n",
    "\n",
    "top.iloc[[3,18,100],:] # NOTE: 전체에서 3, 18, 100번 인덱스만 추출\n",
    "\n",
    "# NOTE: 제목에서 'Harry Potter'가 들어간 object들만 추출하라!\n",
    "top.loc[top.Title.str.contains('Harry Potter', regex=False)]\n"
   ],
   "id": "cce76986b9c90dc4",
   "outputs": [
    {
     "data": {
      "text/plain": [
       "                           Title       Studio      Gross  Gross (Adjusted)  \\\n",
       "3    E.T.: The Extra-Terrestrial    Universal  435110554        1261085000   \n",
       "18                 The Lion King  Buena Vista  422783777         792511700   \n",
       "100             The Hunger Games    Lionsgate  408010692         452174400   \n",
       "\n",
       "     Year  \n",
       "3    1982  \n",
       "18   1994  \n",
       "100  2012  "
      ],
      "text/html": [
       "<div>\n",
       "<style scoped>\n",
       "    .dataframe tbody tr th:only-of-type {\n",
       "        vertical-align: middle;\n",
       "    }\n",
       "\n",
       "    .dataframe tbody tr th {\n",
       "        vertical-align: top;\n",
       "    }\n",
       "\n",
       "    .dataframe thead th {\n",
       "        text-align: right;\n",
       "    }\n",
       "</style>\n",
       "<table border=\"1\" class=\"dataframe\">\n",
       "  <thead>\n",
       "    <tr style=\"text-align: right;\">\n",
       "      <th></th>\n",
       "      <th>Title</th>\n",
       "      <th>Studio</th>\n",
       "      <th>Gross</th>\n",
       "      <th>Gross (Adjusted)</th>\n",
       "      <th>Year</th>\n",
       "    </tr>\n",
       "  </thead>\n",
       "  <tbody>\n",
       "    <tr>\n",
       "      <th>3</th>\n",
       "      <td>E.T.: The Extra-Terrestrial</td>\n",
       "      <td>Universal</td>\n",
       "      <td>435110554</td>\n",
       "      <td>1261085000</td>\n",
       "      <td>1982</td>\n",
       "    </tr>\n",
       "    <tr>\n",
       "      <th>18</th>\n",
       "      <td>The Lion King</td>\n",
       "      <td>Buena Vista</td>\n",
       "      <td>422783777</td>\n",
       "      <td>792511700</td>\n",
       "      <td>1994</td>\n",
       "    </tr>\n",
       "    <tr>\n",
       "      <th>100</th>\n",
       "      <td>The Hunger Games</td>\n",
       "      <td>Lionsgate</td>\n",
       "      <td>408010692</td>\n",
       "      <td>452174400</td>\n",
       "      <td>2012</td>\n",
       "    </tr>\n",
       "  </tbody>\n",
       "</table>\n",
       "</div>"
      ]
     },
     "execution_count": 4,
     "metadata": {},
     "output_type": "execute_result"
    }
   ],
   "execution_count": 4
  },
  {
   "metadata": {
    "ExecuteTime": {
     "end_time": "2024-05-01T08:19:09.733835Z",
     "start_time": "2024-05-01T08:19:09.729086Z"
    }
   },
   "cell_type": "code",
   "source": [
    "# NOTE: Random Sample\n",
    "start = np.random.choice(np.arange(10)) # start가 random하게 선택된다.\n",
    "\n",
    "\n",
    "# 랜덤하게 선택된 ㄴtart부터 10의 step으로 len(top)까지 구간별로 하나씩 선택이된다.\n",
    "# np.arange(start,len(top),10)\n",
    "# NOTE: array([  1,  11,  21,  31,  41,  51,  61,  71,  81,  91, 101, 111, 121, 131, 141, 151, 161, 171, 181, 191])\n",
    "\n",
    "top.iloc[np.arange(start,len(top),10), :]\n",
    "# NOTE: iloc을 통해 10,20,30,  40,50,.. 등의 구간은 10을 stpe으로 나누어서 random choice\n",
    "\"\"\"Choose a random start among rows 0 through 9;\n",
    "then take every 10th row.\"\"\"\n"
   ],
   "id": "e3c9f6a345a4e201",
   "outputs": [
    {
     "data": {
      "text/plain": [
       "array([  7,  17,  27,  37,  47,  57,  67,  77,  87,  97, 107, 117, 127,\n",
       "       137, 147, 157, 167, 177, 187, 197])"
      ]
     },
     "execution_count": 33,
     "metadata": {},
     "output_type": "execute_result"
    }
   ],
   "execution_count": 33
  },
  {
   "metadata": {
    "ExecuteTime": {
     "end_time": "2024-05-01T08:20:21.017451Z",
     "start_time": "2024-05-01T08:20:21.014796Z"
    }
   },
   "cell_type": "code",
   "source": "# NOTE: 길가다가 지나가는 사람 5명 잡는 것은 Random이라고 보기 어렵다. 모집단도 알 수 없고, 그에 따라 선택될 확률도 모르기 때문이다.",
   "id": "18492c52066901c8",
   "outputs": [],
   "execution_count": 34
  },
  {
   "metadata": {
    "ExecuteTime": {
     "end_time": "2024-05-01T08:27:33.463850Z",
     "start_time": "2024-05-01T08:27:33.461813Z"
    }
   },
   "cell_type": "code",
   "source": [
    "# NOTE: Probability Sampling\n",
    "# NOTE: Non-Probability Sampling"
   ],
   "id": "fe23700ebe8f8b3f",
   "outputs": [],
   "execution_count": 35
  },
  {
   "metadata": {
    "ExecuteTime": {
     "end_time": "2024-05-01T08:27:58.371066Z",
     "start_time": "2024-05-01T08:27:58.366846Z"
    }
   },
   "cell_type": "code",
   "source": [
    "dice = pd.DataFrame({'Face': np.arange(1,7,1)})\n",
    "dice"
   ],
   "id": "262253b98c233b45",
   "outputs": [
    {
     "data": {
      "text/plain": [
       "   Face\n",
       "0     1\n",
       "1     2\n",
       "2     3\n",
       "3     4\n",
       "4     5\n",
       "5     6"
      ],
      "text/html": [
       "<div>\n",
       "<style scoped>\n",
       "    .dataframe tbody tr th:only-of-type {\n",
       "        vertical-align: middle;\n",
       "    }\n",
       "\n",
       "    .dataframe tbody tr th {\n",
       "        vertical-align: top;\n",
       "    }\n",
       "\n",
       "    .dataframe thead th {\n",
       "        text-align: right;\n",
       "    }\n",
       "</style>\n",
       "<table border=\"1\" class=\"dataframe\">\n",
       "  <thead>\n",
       "    <tr style=\"text-align: right;\">\n",
       "      <th></th>\n",
       "      <th>Face</th>\n",
       "    </tr>\n",
       "  </thead>\n",
       "  <tbody>\n",
       "    <tr>\n",
       "      <th>0</th>\n",
       "      <td>1</td>\n",
       "    </tr>\n",
       "    <tr>\n",
       "      <th>1</th>\n",
       "      <td>2</td>\n",
       "    </tr>\n",
       "    <tr>\n",
       "      <th>2</th>\n",
       "      <td>3</td>\n",
       "    </tr>\n",
       "    <tr>\n",
       "      <th>3</th>\n",
       "      <td>4</td>\n",
       "    </tr>\n",
       "    <tr>\n",
       "      <th>4</th>\n",
       "      <td>5</td>\n",
       "    </tr>\n",
       "    <tr>\n",
       "      <th>5</th>\n",
       "      <td>6</td>\n",
       "    </tr>\n",
       "  </tbody>\n",
       "</table>\n",
       "</div>"
      ]
     },
     "execution_count": 37,
     "metadata": {},
     "output_type": "execute_result"
    }
   ],
   "execution_count": 37
  },
  {
   "metadata": {
    "ExecuteTime": {
     "end_time": "2024-05-01T08:29:41.077509Z",
     "start_time": "2024-05-01T08:29:40.995690Z"
    }
   },
   "cell_type": "code",
   "source": [
    "import matplotlib.pyplot as plt\n",
    "import seaborn as sns\n",
    "\n",
    "sns.set_theme(style='darkgrid')\n",
    "fig, ax = plt.subplots()\n",
    "ax = sns.histplot(data=dice,x=\"Face\",bins=1, stat='percent',discrete=True)\n",
    "ax.set_title(\"Percent per unit\",size=20,color=\"red\")\n",
    "plt.show()\n"
   ],
   "id": "1b221f9fc561abdf",
   "outputs": [
    {
     "data": {
      "text/plain": [
       "<Figure size 640x480 with 1 Axes>"
      ],
      "image/png": "[encoded data removed]"
     },
     "metadata": {},
     "output_type": "display_data"
    }
   ],
   "execution_count": 40
  },
  {
   "metadata": {
    "ExecuteTime": {
     "end_time": "2024-05-01T08:30:30.186552Z",
     "start_time": "2024-05-01T08:30:30.180676Z"
    }
   },
   "cell_type": "code",
   "source": [
    "random_number_generator = np.random.default_rng(2023)\n",
    "random_number_generator.choice(dice.Face,10,replace=True)\n"
   ],
   "id": "2eba75cc6e6c43a4",
   "outputs": [
    {
     "data": {
      "text/plain": [
       "array([3, 1, 1, 2, 2, 1, 4, 3, 2, 5])"
      ]
     },
     "execution_count": 41,
     "metadata": {},
     "output_type": "execute_result"
    }
   ],
   "execution_count": 41
  },
  {
   "metadata": {
    "ExecuteTime": {
     "end_time": "2024-05-01T08:30:57.765327Z",
     "start_time": "2024-05-01T08:30:57.759467Z"
    }
   },
   "cell_type": "code",
   "source": "dice.sample(n=10,replace=True,random_state=2023)",
   "id": "307f7248cb94a853",
   "outputs": [
    {
     "data": {
      "text/plain": [
       "   Face\n",
       "1     2\n",
       "1     2\n",
       "4     5\n",
       "3     4\n",
       "4     5\n",
       "4     5\n",
       "5     6\n",
       "0     1\n",
       "1     2\n",
       "5     6"
      ],
      "text/html": [
       "<div>\n",
       "<style scoped>\n",
       "    .dataframe tbody tr th:only-of-type {\n",
       "        vertical-align: middle;\n",
       "    }\n",
       "\n",
       "    .dataframe tbody tr th {\n",
       "        vertical-align: top;\n",
       "    }\n",
       "\n",
       "    .dataframe thead th {\n",
       "        text-align: right;\n",
       "    }\n",
       "</style>\n",
       "<table border=\"1\" class=\"dataframe\">\n",
       "  <thead>\n",
       "    <tr style=\"text-align: right;\">\n",
       "      <th></th>\n",
       "      <th>Face</th>\n",
       "    </tr>\n",
       "  </thead>\n",
       "  <tbody>\n",
       "    <tr>\n",
       "      <th>1</th>\n",
       "      <td>2</td>\n",
       "    </tr>\n",
       "    <tr>\n",
       "      <th>1</th>\n",
       "      <td>2</td>\n",
       "    </tr>\n",
       "    <tr>\n",
       "      <th>4</th>\n",
       "      <td>5</td>\n",
       "    </tr>\n",
       "    <tr>\n",
       "      <th>3</th>\n",
       "      <td>4</td>\n",
       "    </tr>\n",
       "    <tr>\n",
       "      <th>4</th>\n",
       "      <td>5</td>\n",
       "    </tr>\n",
       "    <tr>\n",
       "      <th>4</th>\n",
       "      <td>5</td>\n",
       "    </tr>\n",
       "    <tr>\n",
       "      <th>5</th>\n",
       "      <td>6</td>\n",
       "    </tr>\n",
       "    <tr>\n",
       "      <th>0</th>\n",
       "      <td>1</td>\n",
       "    </tr>\n",
       "    <tr>\n",
       "      <th>1</th>\n",
       "      <td>2</td>\n",
       "    </tr>\n",
       "    <tr>\n",
       "      <th>5</th>\n",
       "      <td>6</td>\n",
       "    </tr>\n",
       "  </tbody>\n",
       "</table>\n",
       "</div>"
      ]
     },
     "execution_count": 45,
     "metadata": {},
     "output_type": "execute_result"
    }
   ],
   "execution_count": 45
  },
  {
   "metadata": {
    "ExecuteTime": {
     "end_time": "2024-05-01T08:39:48.805361Z",
     "start_time": "2024-05-01T08:39:48.803013Z"
    }
   },
   "cell_type": "code",
   "source": [
    "#Define Empirical Histogram Function \n",
    "def empirical_hist_die(n):\n",
    "#Runoneexperiment\n",
    "    die_sample=dice.sample(n=n,replace=True,random_state=2023)#;o;ooooo\n",
    "# setdiebinsdie_bins=np.arange(0.5,6.6,1)#DefineEmpiricalHistogramsns.set_theme(style=\"darkgrid\")fig,ax=plt.subplots()ax=sns.histplot(data=die_sample,x=\"Face\",bins=die_bins,stat=\"percent\",discrete=True)ax.set_title(\"Samplesize=\"+str(n))plt.show()"
   ],
   "id": "944eb03614a70156",
   "outputs": [],
   "execution_count": 46
  },
  {
   "metadata": {
    "ExecuteTime": {
     "end_time": "2024-05-01T08:41:42.165729Z",
     "start_time": "2024-05-01T08:41:42.153023Z"
    }
   },
   "cell_type": "code",
   "source": [
    "united= pd.read_csv('united_summer2015.csv')\n",
    "united"
   ],
   "id": "b965dcd1275ee3aa",
   "outputs": [
    {
     "data": {
      "text/plain": [
       "          Date  Flight Number Destination  Delay\n",
       "0       6/1/15             73         HNL    257\n",
       "1       6/1/15            217         EWR     28\n",
       "2       6/1/15            237         STL     -3\n",
       "3       6/1/15            250         SAN      0\n",
       "4       6/1/15            267         PHL     64\n",
       "...        ...            ...         ...    ...\n",
       "13820  8/31/15           1978         LAS     -4\n",
       "13821  8/31/15           1993         IAD      8\n",
       "13822  8/31/15           1994         ORD      3\n",
       "13823  8/31/15           2000         PHX     -1\n",
       "13824  8/31/15           2013         EWR     -2\n",
       "\n",
       "[13825 rows x 4 columns]"
      ],
      "text/html": [
       "<div>\n",
       "<style scoped>\n",
       "    .dataframe tbody tr th:only-of-type {\n",
       "        vertical-align: middle;\n",
       "    }\n",
       "\n",
       "    .dataframe tbody tr th {\n",
       "        vertical-align: top;\n",
       "    }\n",
       "\n",
       "    .dataframe thead th {\n",
       "        text-align: right;\n",
       "    }\n",
       "</style>\n",
       "<table border=\"1\" class=\"dataframe\">\n",
       "  <thead>\n",
       "    <tr style=\"text-align: right;\">\n",
       "      <th></th>\n",
       "      <th>Date</th>\n",
       "      <th>Flight Number</th>\n",
       "      <th>Destination</th>\n",
       "      <th>Delay</th>\n",
       "    </tr>\n",
       "  </thead>\n",
       "  <tbody>\n",
       "    <tr>\n",
       "      <th>0</th>\n",
       "      <td>6/1/15</td>\n",
       "      <td>73</td>\n",
       "      <td>HNL</td>\n",
       "      <td>257</td>\n",
       "    </tr>\n",
       "    <tr>\n",
       "      <th>1</th>\n",
       "      <td>6/1/15</td>\n",
       "      <td>217</td>\n",
       "      <td>EWR</td>\n",
       "      <td>28</td>\n",
       "    </tr>\n",
       "    <tr>\n",
       "      <th>2</th>\n",
       "      <td>6/1/15</td>\n",
       "      <td>237</td>\n",
       "      <td>STL</td>\n",
       "      <td>-3</td>\n",
       "    </tr>\n",
       "    <tr>\n",
       "      <th>3</th>\n",
       "      <td>6/1/15</td>\n",
       "      <td>250</td>\n",
       "      <td>SAN</td>\n",
       "      <td>0</td>\n",
       "    </tr>\n",
       "    <tr>\n",
       "      <th>4</th>\n",
       "      <td>6/1/15</td>\n",
       "      <td>267</td>\n",
       "      <td>PHL</td>\n",
       "      <td>64</td>\n",
       "    </tr>\n",
       "    <tr>\n",
       "      <th>...</th>\n",
       "      <td>...</td>\n",
       "      <td>...</td>\n",
       "      <td>...</td>\n",
       "      <td>...</td>\n",
       "    </tr>\n",
       "    <tr>\n",
       "      <th>13820</th>\n",
       "      <td>8/31/15</td>\n",
       "      <td>1978</td>\n",
       "      <td>LAS</td>\n",
       "      <td>-4</td>\n",
       "    </tr>\n",
       "    <tr>\n",
       "      <th>13821</th>\n",
       "      <td>8/31/15</td>\n",
       "      <td>1993</td>\n",
       "      <td>IAD</td>\n",
       "      <td>8</td>\n",
       "    </tr>\n",
       "    <tr>\n",
       "      <th>13822</th>\n",
       "      <td>8/31/15</td>\n",
       "      <td>1994</td>\n",
       "      <td>ORD</td>\n",
       "      <td>3</td>\n",
       "    </tr>\n",
       "    <tr>\n",
       "      <th>13823</th>\n",
       "      <td>8/31/15</td>\n",
       "      <td>2000</td>\n",
       "      <td>PHX</td>\n",
       "      <td>-1</td>\n",
       "    </tr>\n",
       "    <tr>\n",
       "      <th>13824</th>\n",
       "      <td>8/31/15</td>\n",
       "      <td>2013</td>\n",
       "      <td>EWR</td>\n",
       "      <td>-2</td>\n",
       "    </tr>\n",
       "  </tbody>\n",
       "</table>\n",
       "<p>13825 rows × 4 columns</p>\n",
       "</div>"
      ]
     },
     "execution_count": 56,
     "metadata": {},
     "output_type": "execute_result"
    }
   ],
   "execution_count": 56
  },
  {
   "metadata": {
    "ExecuteTime": {
     "end_time": "2024-05-01T08:41:42.659056Z",
     "start_time": "2024-05-01T08:41:42.655091Z"
    }
   },
   "cell_type": "code",
   "source": "united.min",
   "id": "498ec03f3fe7b546",
   "outputs": [
    {
     "data": {
      "text/plain": [
       "<bound method DataFrame.min of           Date  Flight Number Destination  Delay\n",
       "0       6/1/15             73         HNL    257\n",
       "1       6/1/15            217         EWR     28\n",
       "2       6/1/15            237         STL     -3\n",
       "3       6/1/15            250         SAN      0\n",
       "4       6/1/15            267         PHL     64\n",
       "...        ...            ...         ...    ...\n",
       "13820  8/31/15           1978         LAS     -4\n",
       "13821  8/31/15           1993         IAD      8\n",
       "13822  8/31/15           1994         ORD      3\n",
       "13823  8/31/15           2000         PHX     -1\n",
       "13824  8/31/15           2013         EWR     -2\n",
       "\n",
       "[13825 rows x 4 columns]>"
      ]
     },
     "execution_count": 57,
     "metadata": {},
     "output_type": "execute_result"
    }
   ],
   "execution_count": 57
  },
  {
   "metadata": {
    "ExecuteTime": {
     "end_time": "2024-05-01T08:41:43.044215Z",
     "start_time": "2024-05-01T08:41:43.038749Z"
    }
   },
   "cell_type": "code",
   "source": "united.max",
   "id": "2e8fe5e2036eaa7a",
   "outputs": [
    {
     "data": {
      "text/plain": [
       "<bound method DataFrame.max of           Date  Flight Number Destination  Delay\n",
       "0       6/1/15             73         HNL    257\n",
       "1       6/1/15            217         EWR     28\n",
       "2       6/1/15            237         STL     -3\n",
       "3       6/1/15            250         SAN      0\n",
       "4       6/1/15            267         PHL     64\n",
       "...        ...            ...         ...    ...\n",
       "13820  8/31/15           1978         LAS     -4\n",
       "13821  8/31/15           1993         IAD      8\n",
       "13822  8/31/15           1994         ORD      3\n",
       "13823  8/31/15           2000         PHX     -1\n",
       "13824  8/31/15           2013         EWR     -2\n",
       "\n",
       "[13825 rows x 4 columns]>"
      ]
     },
     "execution_count": 58,
     "metadata": {},
     "output_type": "execute_result"
    }
   ],
   "execution_count": 58
  },
  {
   "metadata": {
    "ExecuteTime": {
     "end_time": "2024-05-01T08:41:43.594608Z",
     "start_time": "2024-05-01T08:41:43.590901Z"
    }
   },
   "cell_type": "code",
   "source": [
    "delay_bins = np.append(np.arange(-20,301,10),600)\n",
    "delay_bins  "
   ],
   "id": "63c25a4297b13f7c",
   "outputs": [
    {
     "data": {
      "text/plain": [
       "array([-20, -10,   0,  10,  20,  30,  40,  50,  60,  70,  80,  90, 100,\n",
       "       110, 120, 130, 140, 150, 160, 170, 180, 190, 200, 210, 220, 230,\n",
       "       240, 250, 260, 270, 280, 290, 300, 600])"
      ]
     },
     "execution_count": 59,
     "metadata": {},
     "output_type": "execute_result"
    }
   ],
   "execution_count": 59
  },
  {
   "metadata": {
    "ExecuteTime": {
     "end_time": "2024-05-01T08:42:17.004651Z",
     "start_time": "2024-05-01T08:42:17.002418Z"
    }
   },
   "cell_type": "code",
   "source": " # NOTE: Manual Histogram2는 중요하지 않음",
   "id": "d6ecc0ddc07a8380",
   "outputs": [],
   "execution_count": 60
  },
  {
   "metadata": {},
   "cell_type": "code",
   "outputs": [],
   "execution_count": null,
   "source": [
    "# NOTE: Distribution of smaple(1/2)에서 왜 replace가 True인가? 복원 추출을 해야 모집단에서의 확률과 동일하기 때문이다.\n",
    "\n",
    "# Sample이 계속 커지면 모집단의 중앙값과 유사해질 수 있다(random choice이기 때문에 조금은 다를것)"
   ],
   "id": "bd089a21f53d1487"
  }
 ],
 "metadata": {
  "kernelspec": {
   "display_name": "Python 3",
   "language": "python",
   "name": "python3"
  },
  "language_info": {
   "codemirror_mode": {
    "name": "ipython",
    "version": 2
   },
   "file_extension": ".py",
   "mimetype": "text/x-python",
   "name": "python",
   "nbconvert_exporter": "python",
   "pygments_lexer": "ipython2",
   "version": "2.7.6"
  }
 },
 "nbformat": 4,
 "nbformat_minor": 5
}
