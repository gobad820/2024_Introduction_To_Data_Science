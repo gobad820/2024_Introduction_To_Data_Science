{
  "nbformat": 4,
  "nbformat_minor": 0,
  "metadata": {
    "colab": {
      "provenance": [],
      "toc_visible": true
    },
    "kernelspec": {
      "name": "python3",
      "display_name": "Python 3"
    },
    "language_info": {
      "name": "python"
    }
  },
  "cells": [
    {
      "cell_type": "markdown",
      "source": [
        "# Chapter 3.4 Introduction to Tables (Pandas ver.)"
      ],
      "metadata": {
        "id": "_ajAUFkxWdOz"
      }
    },
    {
      "cell_type": "markdown",
      "source": [
        "## Create a DataFrame"
      ],
      "metadata": {
        "id": "L1HcxnUCWo0I"
      }
    },
    {
      "cell_type": "code",
      "source": [
        "import pandas as pd\n",
        "\n",
        "# Define cones' attributes\n",
        "conesAttributes = [\"Flavor\", \"Color\", \"Price\"]\n",
        "\n",
        "# Define cones' data, must be same sequence as attributes\n",
        "conesData = [[\"strawberry\", \"pink\", 3.55],\n",
        "        [\"chocolate\", \"light brown\", 4.75],\n",
        "        [\"chocolate\", \"dark brown\", 5.25],\n",
        "        [\"strawberry\", \"pink\", 5.25],\n",
        "        [\"chocolate\", \"dark brown\", 5.25],\n",
        "        [\"bubblegem\", \"pink\", 4.75]]\n",
        "\n",
        "# Define cones\n",
        "cones = pd.DataFrame(data=conesData, columns=conesAttributes)"
      ],
      "metadata": {
        "id": "bw86uoEdVmUG"
      },
      "execution_count": null,
      "outputs": []
    },
    {
      "cell_type": "code",
      "source": [
        "cones"
      ],
      "metadata": {
        "id": "UM_CJ0jgVvVl"
      },
      "execution_count": null,
      "outputs": []
    },
    {
      "cell_type": "markdown",
      "source": [
        "## Display rows"
      ],
      "metadata": {
        "id": "HK95U1LwV1s1"
      }
    },
    {
      "cell_type": "code",
      "source": [
        "# Show first two rows\n",
        "cones[:2]"
      ],
      "metadata": {
        "id": "sPH_nnULV5G2"
      },
      "execution_count": null,
      "outputs": []
    },
    {
      "cell_type": "code",
      "source": [
        "cones.iloc[:2]"
      ],
      "metadata": {
        "id": "G8_z_zEWXqs2"
      },
      "execution_count": null,
      "outputs": []
    },
    {
      "cell_type": "code",
      "source": [
        "cones.iloc[0:2, :]"
      ],
      "metadata": {
        "id": "goreUXTuXuOk"
      },
      "execution_count": null,
      "outputs": []
    },
    {
      "cell_type": "markdown",
      "source": [
        "## Choosing Sets of Columns"
      ],
      "metadata": {
        "id": "XtRuBmTWWaaB"
      }
    },
    {
      "cell_type": "code",
      "source": [
        "# Show Flavor\n",
        "cones.loc[:, ['Flavor']]"
      ],
      "metadata": {
        "id": "jYbkUlQqWXWm"
      },
      "execution_count": null,
      "outputs": []
    },
    {
      "cell_type": "code",
      "source": [
        "cones['Flavor']"
      ],
      "metadata": {
        "id": "MkoIJxMHX4zN"
      },
      "execution_count": null,
      "outputs": []
    },
    {
      "cell_type": "code",
      "source": [
        "type(cones.loc[:, ['Flavor']])"
      ],
      "metadata": {
        "id": "sJSYANTMX0m6"
      },
      "execution_count": null,
      "outputs": []
    },
    {
      "cell_type": "code",
      "source": [
        "type(cones['Flavor'])"
      ],
      "metadata": {
        "id": "2q_ZgtLNXWIM"
      },
      "execution_count": null,
      "outputs": []
    },
    {
      "cell_type": "code",
      "source": [
        "cones['Flavor'].to_frame()"
      ],
      "metadata": {
        "id": "vzNfvbZ_W990"
      },
      "execution_count": null,
      "outputs": []
    },
    {
      "cell_type": "code",
      "source": [
        "cones # original DataFrame not changed"
      ],
      "metadata": {
        "id": "wxwbwpCRYBMx"
      },
      "execution_count": null,
      "outputs": []
    },
    {
      "cell_type": "code",
      "source": [
        "# Show Flavor, Price\n",
        "cones.loc[:, ['Flavor', 'Price']]"
      ],
      "metadata": {
        "id": "-DWbAkEhYH6u"
      },
      "execution_count": null,
      "outputs": []
    },
    {
      "cell_type": "code",
      "source": [
        "# Drop Color\n",
        "cones.drop(columns='Color')\n"
      ],
      "metadata": {
        "id": "FlqwxtkXYLbh"
      },
      "execution_count": null,
      "outputs": []
    },
    {
      "cell_type": "code",
      "source": [
        "cones"
      ],
      "metadata": {
        "id": "nEjpYK6lZKIR"
      },
      "execution_count": null,
      "outputs": []
    },
    {
      "cell_type": "code",
      "source": [
        "cones_without_color = cones.drop(columns='Color')\n",
        "cones_without_color"
      ],
      "metadata": {
        "id": "bczWVlwfZMp-"
      },
      "execution_count": null,
      "outputs": []
    },
    {
      "cell_type": "markdown",
      "source": [
        "## Sorting Rows"
      ],
      "metadata": {
        "id": "b1tZiHylZkTa"
      }
    },
    {
      "cell_type": "code",
      "source": [
        "# Sort Price\n",
        "cones.sort_values(by=[\"Price\"])"
      ],
      "metadata": {
        "id": "eU9JWBY5Zjec"
      },
      "execution_count": null,
      "outputs": []
    },
    {
      "cell_type": "code",
      "source": [
        "# Sort Price Descending\n",
        "cones.sort_values(by=[\"Price\"], ascending=False)"
      ],
      "metadata": {
        "id": "GN8MU7bTZo-n"
      },
      "execution_count": null,
      "outputs": []
    },
    {
      "cell_type": "code",
      "source": [
        "cones.sort_values(by=[\"Flavor\",\"Price\"], ascending=[True, True])"
      ],
      "metadata": {
        "id": "Gte0Rjj7Zt5g"
      },
      "execution_count": null,
      "outputs": []
    },
    {
      "cell_type": "markdown",
      "source": [
        "## Selecting Rows that Satisfy a Condition"
      ],
      "metadata": {
        "id": "-SB3QJmlabUO"
      }
    },
    {
      "cell_type": "code",
      "source": [
        "# Making boolean series for a cones\n",
        "filter = cones['Flavor'] == \"chocolate\"\n",
        "\n",
        "# Pass filter to cones\n",
        "cones.where(filter, inplace=False)"
      ],
      "metadata": {
        "id": "x_x7VRMZafP2"
      },
      "execution_count": null,
      "outputs": []
    },
    {
      "cell_type": "code",
      "source": [
        "filter"
      ],
      "metadata": {
        "id": "VqMwVBDYa4Sx"
      },
      "execution_count": null,
      "outputs": []
    },
    {
      "cell_type": "code",
      "source": [
        "cones.where(cones['Flavor']=='chocolate')"
      ],
      "metadata": {
        "id": "87mj3UBPbbwL"
      },
      "execution_count": null,
      "outputs": []
    },
    {
      "cell_type": "code",
      "source": [
        "# cones.where(filter, inplace=True)"
      ],
      "metadata": {
        "id": "KaD9Fl06bG-z"
      },
      "execution_count": null,
      "outputs": []
    },
    {
      "cell_type": "code",
      "source": [
        "# Making boolean series for a cones\n",
        "filter = cones['Flavor'] == \"chocolate\"\n",
        "\n",
        "# Pass filter to cones\n",
        "cones.loc[filter]"
      ],
      "metadata": {
        "id": "vQAjzEXgagsp"
      },
      "execution_count": null,
      "outputs": []
    },
    {
      "cell_type": "code",
      "source": [
        "# Making boolean series for a cones\n",
        "filter = cones['Flavor'] == \"Chocolate\"\n",
        "\n",
        "# Pass filter to cones\n",
        "cones.loc[filter]"
      ],
      "metadata": {
        "id": "Ny2RYvCBb7tC"
      },
      "execution_count": null,
      "outputs": []
    },
    {
      "cell_type": "markdown",
      "source": [
        "## Example: Salaries in the NBA"
      ],
      "metadata": {
        "id": "1Dqd1UOCdHIa"
      }
    },
    {
      "cell_type": "code",
      "source": [
        "# Read nba csv\n",
        "nba = pd.read_csv('nba_salaries_3.4.4.csv')\n",
        "\n",
        "# Show nba\n",
        "nba"
      ],
      "metadata": {
        "id": "ag_kytOPdKd6"
      },
      "execution_count": null,
      "outputs": []
    },
    {
      "cell_type": "code",
      "source": [
        "nba.head()"
      ],
      "metadata": {
        "id": "YPnNWr9LeEnw"
      },
      "execution_count": null,
      "outputs": []
    },
    {
      "cell_type": "code",
      "source": [
        "nba.tail()"
      ],
      "metadata": {
        "id": "YvjffVgxeHzH"
      },
      "execution_count": null,
      "outputs": []
    },
    {
      "cell_type": "code",
      "source": [
        "# Filter \"Stephen Curry\"\n",
        "filter = nba[\"PLAYER\"] == \"Stephen Curry\"\n",
        "nba.loc[filter]"
      ],
      "metadata": {
        "id": "ezJkxKnMePSm"
      },
      "execution_count": null,
      "outputs": []
    },
    {
      "cell_type": "code",
      "source": [
        "nba[\"PLAYER\"]==\"Stephen Curry\""
      ],
      "metadata": {
        "id": "CQRdF5wzeiMR"
      },
      "execution_count": null,
      "outputs": []
    },
    {
      "cell_type": "code",
      "source": [
        "nba[nba[\"PLAYER\"]==\"Stephen Curry\"]"
      ],
      "metadata": {
        "id": "-fQu0r0Sezlo"
      },
      "execution_count": null,
      "outputs": []
    },
    {
      "cell_type": "code",
      "source": [
        "nba[121:123]"
      ],
      "metadata": {
        "id": "_A9hzxCqfIZe"
      },
      "execution_count": null,
      "outputs": []
    },
    {
      "cell_type": "markdown",
      "source": [
        "### Find players by a team name"
      ],
      "metadata": {
        "id": "OYZRTDv8Eika"
      }
    },
    {
      "cell_type": "code",
      "source": [
        "# Filter \"Golden State Warriors\"\n",
        "filter = nba[\"TEAM\"] == \"Golden State Warriors\"\n",
        "warriors = nba.loc[filter]\n",
        "warriors"
      ],
      "metadata": {
        "id": "bno2YkPFEdKZ"
      },
      "execution_count": null,
      "outputs": []
    },
    {
      "cell_type": "markdown",
      "source": [
        "#### Renaming columns"
      ],
      "metadata": {
        "id": "6pKK8_FhFXEc"
      }
    },
    {
      "cell_type": "code",
      "source": [
        "nba.columns"
      ],
      "metadata": {
        "id": "5cVmLq_-Fl3v"
      },
      "execution_count": null,
      "outputs": []
    },
    {
      "cell_type": "code",
      "source": [
        "nba_renamed = nba.copy(deep='all') # deep=True only works for the data"
      ],
      "metadata": {
        "id": "5t55TqiJFrOO"
      },
      "execution_count": null,
      "outputs": []
    },
    {
      "cell_type": "code",
      "source": [
        "nba_renamed[:2]"
      ],
      "metadata": {
        "id": "2yuAgYBGHIXp"
      },
      "execution_count": null,
      "outputs": []
    },
    {
      "cell_type": "code",
      "source": [
        "nba_renamed.columns.values[3] = 'SALARY2'\n",
        "nba_renamed[:2]"
      ],
      "metadata": {
        "id": "hX_uXKrSGB3r"
      },
      "execution_count": null,
      "outputs": []
    },
    {
      "cell_type": "code",
      "source": [
        "nba_renamed = nba_renamed.rename(columns={'SALARY2':'SALARY'})\n",
        "nba_renamed[:2]"
      ],
      "metadata": {
        "id": "xy1ncWLnKkn_"
      },
      "execution_count": null,
      "outputs": []
    },
    {
      "cell_type": "code",
      "source": [
        "nba.head(2)"
      ],
      "metadata": {
        "id": "4oVHjdgMLmtt"
      },
      "execution_count": null,
      "outputs": []
    },
    {
      "cell_type": "code",
      "source": [
        "nba = nba.rename(columns={'2025-2016 SALARY':'SALARY'})\n",
        "nba.head(2)"
      ],
      "metadata": {
        "id": "c-ojj1SMLpLL"
      },
      "execution_count": null,
      "outputs": []
    },
    {
      "cell_type": "code",
      "source": [
        "col_name = nba.columns.values[3]\n",
        "nba=nba.rename(columns={col_name:'SALARY ($M)'})\n",
        "nba.head(2)"
      ],
      "metadata": {
        "id": "lrFSh0vpMIyN"
      },
      "execution_count": null,
      "outputs": []
    },
    {
      "cell_type": "code",
      "source": [
        "# Sort nba based on SALARY, ascending=True\n",
        "nba.sort_values(by=[\"SALARY ($M)\"], ascending=True)"
      ],
      "metadata": {
        "id": "UzX21wgEMo9Y"
      },
      "execution_count": null,
      "outputs": []
    },
    {
      "cell_type": "code",
      "source": [
        "# Sort nba based on SALARY, ascending=False\n",
        "nba.sort_values(by=[\"SALARY ($M)\"], ascending=False)"
      ],
      "metadata": {
        "id": "gkRjfNIfM9Bv"
      },
      "execution_count": null,
      "outputs": []
    },
    {
      "cell_type": "code",
      "source": [
        "# Sort nba first by 'TEAM', then by 'SALARY'\n",
        "nba.sort_values(by=['TEAM', 'SALARY ($M)'], ascending=False)"
      ],
      "metadata": {
        "id": "mvWktzgMPJG2"
      },
      "execution_count": null,
      "outputs": []
    },
    {
      "cell_type": "markdown",
      "source": [
        "# Chapter 6 Tables (Pandas ver.)"
      ],
      "metadata": {
        "id": "Ylon21BdN6Yz"
      }
    },
    {
      "cell_type": "markdown",
      "source": [
        "## Creating DataFrame revisited"
      ],
      "metadata": {
        "id": "DStXzYQvfJe_"
      }
    },
    {
      "cell_type": "code",
      "source": [
        "import numpy as np"
      ],
      "metadata": {
        "id": "Rl1jiLxKfphl"
      },
      "execution_count": null,
      "outputs": []
    },
    {
      "cell_type": "code",
      "source": [
        "pd.DataFrame()"
      ],
      "metadata": {
        "id": "PSaQ1jeifIbS"
      },
      "execution_count": null,
      "outputs": []
    },
    {
      "cell_type": "code",
      "source": [
        "pd.DataFrame(data=np.array([8, 34, 5]), columns=['Number of petals'])"
      ],
      "metadata": {
        "id": "LRzCW-0ie9xA"
      },
      "execution_count": null,
      "outputs": []
    },
    {
      "cell_type": "code",
      "source": [
        "pd.DataFrame({'Number of petals': np.array([8, 34, 5]),\n",
        "              'Name': np.array(['lotus', 'sunflower', 'rose'])})"
      ],
      "metadata": {
        "id": "wNI4Pncift80"
      },
      "execution_count": null,
      "outputs": []
    },
    {
      "cell_type": "markdown",
      "source": [
        "### Adding a new column to an existing DataFrame"
      ],
      "metadata": {
        "id": "-fUkRzoXfzsZ"
      }
    },
    {
      "cell_type": "code",
      "source": [
        "flowers = pd.DataFrame({'Number of petals': np.array([8, 34, 5]),\n",
        "                        'Name': np.array(['lotus', 'sunflower', 'rose'])})\n",
        "flowers['Color'] = np.array(['pink', 'yellow', 'red'])\n",
        "flowers"
      ],
      "metadata": {
        "id": "Y3R8QO3hf3FB"
      },
      "execution_count": null,
      "outputs": []
    },
    {
      "cell_type": "markdown",
      "source": [
        "### minard data"
      ],
      "metadata": {
        "id": "ZzCVUF1iiUdK"
      }
    },
    {
      "cell_type": "code",
      "source": [
        "# Read CSV\n",
        "minard_cities = pd.read_csv('https://vincentarelbundock.github.io/Rdatasets/csv/HistData/Minard.cities.csv')\n",
        "minard_temp = pd.read_csv('https://vincentarelbundock.github.io/Rdatasets/csv/HistData/Minard.temp.csv')\n",
        "minard_troops = pd.read_csv('https://vincentarelbundock.github.io/Rdatasets/csv/HistData/Minard.troops.csv')"
      ],
      "metadata": {
        "id": "2LiegVHjh2Cl"
      },
      "execution_count": null,
      "outputs": []
    },
    {
      "cell_type": "code",
      "source": [
        "minard_cities.info()"
      ],
      "metadata": {
        "id": "5AI-ZbEpieCc"
      },
      "execution_count": null,
      "outputs": []
    },
    {
      "cell_type": "code",
      "source": [
        "minard_cities.head()"
      ],
      "metadata": {
        "id": "7nM0WVSIjcAQ"
      },
      "execution_count": null,
      "outputs": []
    },
    {
      "cell_type": "code",
      "source": [
        "minard_temp.info()"
      ],
      "metadata": {
        "id": "Y_CBltXSimCf"
      },
      "execution_count": null,
      "outputs": []
    },
    {
      "cell_type": "code",
      "source": [
        "minard_temp.head()"
      ],
      "metadata": {
        "id": "4LXYUnmcjemt"
      },
      "execution_count": null,
      "outputs": []
    },
    {
      "cell_type": "code",
      "source": [
        "minard_troops.info()"
      ],
      "metadata": {
        "id": "JfRi8fInirMH"
      },
      "execution_count": null,
      "outputs": []
    },
    {
      "cell_type": "code",
      "source": [
        "minard_troops.head()"
      ],
      "metadata": {
        "id": "RbdBbeVAiyu8"
      },
      "execution_count": null,
      "outputs": []
    },
    {
      "cell_type": "markdown",
      "source": [
        "Remove rownames"
      ],
      "metadata": {
        "id": "bkWtw3AcjojW"
      }
    },
    {
      "cell_type": "code",
      "source": [
        "# Remove the 1st column which is rank\n",
        "minard_cities = minard_cities.iloc[:, 1:]\n",
        "minard_temp = minard_temp.iloc[:, 1:]\n",
        "minard_troops = minard_troops.iloc[:, 1:]"
      ],
      "metadata": {
        "id": "AmZBVKqcicG_"
      },
      "execution_count": null,
      "outputs": []
    },
    {
      "cell_type": "code",
      "source": [
        "# Join minard_troops and minard_cities\n",
        "minard = minard_troops.join(minard_cities.set_index(['long', 'lat']), on=['long', 'lat'])\n",
        "minard.head(20)"
      ],
      "metadata": {
        "id": "hbHhLmfgkGgx"
      },
      "execution_count": null,
      "outputs": []
    },
    {
      "cell_type": "code",
      "source": [
        "# Filter the NaN(Null) value in city column\n",
        "filter = minard['city'].notnull()\n",
        "minard = minard[filter]\n",
        "minard"
      ],
      "metadata": {
        "id": "N8zkTdSBkiE_"
      },
      "execution_count": null,
      "outputs": []
    },
    {
      "cell_type": "code",
      "source": [
        "# The columns of the Table\n",
        "minard.columns"
      ],
      "metadata": {
        "id": "fX1-fgIXkzep"
      },
      "execution_count": null,
      "outputs": []
    },
    {
      "cell_type": "code",
      "source": [
        "# Rename column 'city' to 'city name', inplace=False\n",
        "minard.rename(columns={'city': 'city name'})"
      ],
      "metadata": {
        "id": "2Ucw5QItk4B2"
      },
      "execution_count": null,
      "outputs": []
    },
    {
      "cell_type": "code",
      "source": [
        "minard"
      ],
      "metadata": {
        "id": "PVeccrRwlKJO"
      },
      "execution_count": null,
      "outputs": []
    },
    {
      "cell_type": "code",
      "source": [
        "# minard.rename(columns={'city': 'city name'}, inplace=True)\n",
        "minard = minard.rename(columns={'city': 'city name'})\n",
        "minard"
      ],
      "metadata": {
        "id": "_-v8o98dk7aX"
      },
      "execution_count": null,
      "outputs": []
    },
    {
      "cell_type": "code",
      "source": [
        "minard.shape"
      ],
      "metadata": {
        "id": "fAQLwTO7mCwD"
      },
      "execution_count": null,
      "outputs": []
    },
    {
      "cell_type": "code",
      "source": [
        "len(minard)"
      ],
      "metadata": {
        "id": "tm3pUwZTmFEd"
      },
      "execution_count": null,
      "outputs": []
    },
    {
      "cell_type": "code",
      "source": [
        "# Accessing the Data in a Column\n",
        "minard['survivors']"
      ],
      "metadata": {
        "id": "WB6f5nBxmKsB"
      },
      "execution_count": null,
      "outputs": []
    },
    {
      "cell_type": "code",
      "source": [
        "# OR\n",
        "minard.survivors"
      ],
      "metadata": {
        "id": "KUfk02DMmTLy"
      },
      "execution_count": null,
      "outputs": []
    },
    {
      "cell_type": "code",
      "source": [
        "type(minard.survivors)"
      ],
      "metadata": {
        "id": "b80JT0M7mc6p"
      },
      "execution_count": null,
      "outputs": []
    },
    {
      "cell_type": "code",
      "source": [
        "# OR\n",
        "minard.iloc[:,2]\n",
        "# iloc[row index, column index]"
      ],
      "metadata": {
        "id": "Eryt8w56mkme"
      },
      "execution_count": null,
      "outputs": []
    },
    {
      "cell_type": "code",
      "source": [
        "minard.iloc[2]\n",
        "# return i-th row"
      ],
      "metadata": {
        "id": "86VP70fYmzZ5"
      },
      "execution_count": null,
      "outputs": []
    },
    {
      "cell_type": "code",
      "source": [
        "minard"
      ],
      "metadata": {
        "id": "ZeMpO7d5rSLX"
      },
      "execution_count": null,
      "outputs": []
    },
    {
      "cell_type": "code",
      "source": [
        "minard.reset_index(drop=True, inplace=True)"
      ],
      "metadata": {
        "id": "3pXEe3Izpx5J"
      },
      "execution_count": null,
      "outputs": []
    },
    {
      "cell_type": "code",
      "source": [
        "minard"
      ],
      "metadata": {
        "id": "d2gpIKqGq7y2"
      },
      "execution_count": null,
      "outputs": []
    },
    {
      "cell_type": "code",
      "source": [
        "minard.loc[5]"
      ],
      "metadata": {
        "id": "_aUkqgvosJeW"
      },
      "execution_count": null,
      "outputs": []
    },
    {
      "cell_type": "code",
      "source": [
        "minard.iloc[5]"
      ],
      "metadata": {
        "id": "d0en_utusP75"
      },
      "execution_count": null,
      "outputs": []
    },
    {
      "cell_type": "code",
      "source": [
        "# Working with the Data in a Column\n",
        "initial = minard['survivors'].iloc[0]\n",
        "minard['percent surviving'] = minard['survivors']/initial\n",
        "minard"
      ],
      "metadata": {
        "id": "JnrFLLXhsj0b"
      },
      "execution_count": null,
      "outputs": []
    },
    {
      "cell_type": "code",
      "source": [
        "# Formart columns 'percent surviving'\n",
        "minard2 = minard.style.format({'percent surviving': '{:.2%}'})"
      ],
      "metadata": {
        "id": "UNNwSu4Wsq8v"
      },
      "execution_count": null,
      "outputs": []
    },
    {
      "cell_type": "code",
      "source": [
        "minard2 # this is not a dataframe"
      ],
      "metadata": {
        "id": "xq2ddrXgtH8X"
      },
      "execution_count": null,
      "outputs": []
    },
    {
      "cell_type": "code",
      "source": [
        "minard"
      ],
      "metadata": {
        "id": "ZUZNq6LztN1c"
      },
      "execution_count": null,
      "outputs": []
    },
    {
      "cell_type": "markdown",
      "source": [
        "The method loc creates a new table that contains only the specified columns."
      ],
      "metadata": {
        "id": "qcrMwH08tpxw"
      }
    },
    {
      "cell_type": "code",
      "source": [
        "minard[['long', 'lat']]"
      ],
      "metadata": {
        "id": "_AmbkxaztsXt"
      },
      "execution_count": null,
      "outputs": []
    },
    {
      "cell_type": "code",
      "source": [
        "minard.loc[:, ['long', 'lat']]"
      ],
      "metadata": {
        "id": "NebDxvwatw5I"
      },
      "execution_count": null,
      "outputs": []
    },
    {
      "cell_type": "code",
      "source": [
        "minard['long'] # returns an array"
      ],
      "metadata": {
        "id": "VLkuepb6uE-A"
      },
      "execution_count": null,
      "outputs": []
    },
    {
      "cell_type": "code",
      "source": [
        "minard[['long']] # returns a DataFrame"
      ],
      "metadata": {
        "id": "urL8AxgcuXne"
      },
      "execution_count": null,
      "outputs": []
    },
    {
      "cell_type": "code",
      "source": [
        "minard.loc[:,['long']]"
      ],
      "metadata": {
        "id": "f0dVTXtjuwMd"
      },
      "execution_count": null,
      "outputs": []
    },
    {
      "cell_type": "code",
      "source": [
        "minard.iloc[:,:1]"
      ],
      "metadata": {
        "id": "ExirEHL_uind"
      },
      "execution_count": null,
      "outputs": []
    },
    {
      "cell_type": "code",
      "source": [
        "minard.drop(columns=['long', 'lat', 'direction'])"
      ],
      "metadata": {
        "id": "4WTpG13GvTSC"
      },
      "execution_count": null,
      "outputs": []
    },
    {
      "cell_type": "code",
      "source": [
        "minard # applying iloc, loc, drop won't change the original table"
      ],
      "metadata": {
        "id": "ouT3_1SKvdZj"
      },
      "execution_count": null,
      "outputs": []
    },
    {
      "cell_type": "code",
      "source": [
        "minard = minard.drop(columns=['long', 'lat', 'direction'])"
      ],
      "metadata": {
        "id": "QlQAYkoCvgMI"
      },
      "execution_count": null,
      "outputs": []
    },
    {
      "cell_type": "code",
      "source": [
        "minard"
      ],
      "metadata": {
        "id": "TTEzw2I6vh3o"
      },
      "execution_count": null,
      "outputs": []
    },
    {
      "cell_type": "markdown",
      "source": [
        "## selecting rows"
      ],
      "metadata": {
        "id": "r6K9vrUpRHAc"
      }
    },
    {
      "cell_type": "markdown",
      "source": [
        "### See {x} Tab"
      ],
      "metadata": {
        "id": "kFCruAlO0PGH"
      }
    },
    {
      "cell_type": "code",
      "source": [
        "%reset"
      ],
      "metadata": {
        "id": "O8qIUow00Fjj"
      },
      "execution_count": null,
      "outputs": []
    },
    {
      "cell_type": "code",
      "source": [
        "import pandas as pd\n",
        "nba = pd.read_csv('nba_salaries_3.4.4.csv')"
      ],
      "metadata": {
        "id": "EJysy7SiwBwY"
      },
      "execution_count": null,
      "outputs": []
    },
    {
      "cell_type": "code",
      "source": [
        "# Show the 1st row\n",
        "nba.iloc[[0]]"
      ],
      "metadata": {
        "id": "RllOTaT8N56m"
      },
      "execution_count": null,
      "outputs": []
    },
    {
      "cell_type": "code",
      "source": [
        "nba[:1]"
      ],
      "metadata": {
        "id": "vTx-aB9VOj7b"
      },
      "execution_count": null,
      "outputs": []
    },
    {
      "cell_type": "code",
      "source": [
        "# Show rows between 3 to 5\n",
        "nba.iloc[3:6]"
      ],
      "metadata": {
        "id": "RLiu0hh0OmlY"
      },
      "execution_count": null,
      "outputs": []
    },
    {
      "cell_type": "code",
      "source": [
        "nba = nba.rename(columns={'2015-2016 SALARY':'SALARY'})"
      ],
      "metadata": {
        "id": "ReXAxyyr0-NW"
      },
      "execution_count": null,
      "outputs": []
    },
    {
      "cell_type": "code",
      "source": [
        "nba"
      ],
      "metadata": {
        "id": "Q6hkqtxA1MrZ"
      },
      "execution_count": null,
      "outputs": []
    },
    {
      "cell_type": "markdown",
      "source": [
        "## sorting rows"
      ],
      "metadata": {
        "id": "GzsV3LcIRMUs"
      }
    },
    {
      "cell_type": "code",
      "source": [
        "# top 5 hiest paid players\n",
        "nba.sort_values(by=[\"SALARY\"], ascending=False).iloc[:5]"
      ],
      "metadata": {
        "id": "bpipHJotNa1u"
      },
      "execution_count": null,
      "outputs": []
    },
    {
      "cell_type": "code",
      "source": [
        "nba.sort_values(by=[\"SALARY\"], ascending=False)[:5]"
      ],
      "metadata": {
        "id": "akPt6ZzpO-6O"
      },
      "execution_count": null,
      "outputs": []
    },
    {
      "cell_type": "markdown",
      "source": [
        "## selecting rows by values"
      ],
      "metadata": {
        "id": "rBICRA3rROUJ"
      }
    },
    {
      "cell_type": "code",
      "source": [
        "# Filter the rows where 'SALARY' >= 10\n",
        "nba[nba['SALARY']>10]"
      ],
      "metadata": {
        "id": "qxwlmq4DPUL8"
      },
      "execution_count": null,
      "outputs": []
    },
    {
      "cell_type": "code",
      "source": [
        "# Filter the rows where 'SALARY' >= 10, then sort by 'SALARY', ascending=False\n",
        "nba[nba['SALARY']>10].sort_values('SALARY', ascending=False)"
      ],
      "metadata": {
        "id": "MxwJBMf1PfUa"
      },
      "execution_count": null,
      "outputs": []
    },
    {
      "cell_type": "code",
      "source": [
        "# Filter the rows where 'PLARYER' == 'Stephen Curry'\n",
        "nba[nba['PLAYER']=='Stephen Curry']"
      ],
      "metadata": {
        "id": "r40IxV5jPxHf"
      },
      "execution_count": null,
      "outputs": []
    },
    {
      "cell_type": "code",
      "source": [
        "nba['PLAYER']=='Stephen Curry'"
      ],
      "metadata": {
        "id": "OGt5KEpJ1tAl"
      },
      "execution_count": null,
      "outputs": []
    },
    {
      "cell_type": "code",
      "source": [
        "nba.sample(n=5)"
      ],
      "metadata": {
        "id": "SgjvnL4d2IVY"
      },
      "execution_count": null,
      "outputs": []
    },
    {
      "cell_type": "code",
      "source": [
        "# Get a table of all the Warriors\n",
        "nba[nba['TEAM']=='Golden State Warriors']"
      ],
      "metadata": {
        "id": "JN7caEfKPzIz"
      },
      "execution_count": null,
      "outputs": []
    },
    {
      "cell_type": "code",
      "source": [
        "# Fuzzy search for records in 'TEAM' columns containing 'Warriors'\n",
        "nba[nba['TEAM'].str.contains('Warriors', regex=False)]"
      ],
      "metadata": {
        "id": "mlQik0QDRae0"
      },
      "execution_count": null,
      "outputs": []
    },
    {
      "cell_type": "code",
      "source": [
        "nba[nba['TEAM'].str.contains('New', regex=False)]"
      ],
      "metadata": {
        "id": "oRgny6kJ2zmi"
      },
      "execution_count": null,
      "outputs": []
    },
    {
      "cell_type": "markdown",
      "source": [
        "## selecting rows by multiple features"
      ],
      "metadata": {
        "id": "tfKstHLhRgZQ"
      }
    },
    {
      "cell_type": "code",
      "source": [
        "# Filter 'POSITION' == 'PG' & 'SALARY' > 15\n",
        "nba[(nba['POSITION']=='PG') & (nba['SALARY']>15)]"
      ],
      "metadata": {
        "id": "spCQHTgfRmLg"
      },
      "execution_count": null,
      "outputs": []
    },
    {
      "cell_type": "code",
      "source": [
        "# Filter a SALARY range\n",
        "nba[(nba['SALARY']<10.3) & (nba['SALARY']>=10)]"
      ],
      "metadata": {
        "id": "vNDIG6ikRuf5"
      },
      "execution_count": null,
      "outputs": []
    },
    {
      "cell_type": "code",
      "source": [
        "nba[nba['PLAYER']=='Barack Obama']"
      ],
      "metadata": {
        "id": "pVBff24oR1XV"
      },
      "execution_count": null,
      "outputs": []
    },
    {
      "cell_type": "markdown",
      "source": [
        "## Example Population Trends"
      ],
      "metadata": {
        "id": "qlVcj5njR6dj"
      }
    },
    {
      "cell_type": "code",
      "source": [
        "# As of Jan 2017, this census file is online here:\n",
        "data = 'http://www2.census.gov/programs-surveys/popest/datasets/2010-2015/national/asrh/nc-est2015-agesex-res.csv'\n",
        "\n",
        "# A local copy can be accessed here in case census.gov moves the file:\n",
        "# data = path_data + 'nc-est2015-agesex-res.csv'\n",
        "\n",
        "full_census_table = pd.read_csv(data)\n",
        "full_census_table"
      ],
      "metadata": {
        "id": "jSLh_CD6ShDg"
      },
      "execution_count": null,
      "outputs": []
    },
    {
      "cell_type": "code",
      "source": [
        "# Select relevant columns\n",
        "partial_census_table = full_census_table[['SEX', 'AGE', 'POPESTIMATE2010', 'POPESTIMATE2014']]\n",
        "partial_census_table"
      ],
      "metadata": {
        "id": "jXETQpiFSpeS"
      },
      "execution_count": null,
      "outputs": []
    },
    {
      "cell_type": "code",
      "source": [
        "# Simplify the columns name\n",
        "us_pop = partial_census_table.rename(columns={'POPESTIMATE2010': '2010', 'POPESTIMATE2014': '2014'})\n",
        "us_pop"
      ],
      "metadata": {
        "id": "bNg6p-Q_TDss"
      },
      "execution_count": null,
      "outputs": []
    },
    {
      "cell_type": "code",
      "source": [
        "# The change in population between 2010 and 2014\n",
        "change = us_pop['2014'] - us_pop['2010']"
      ],
      "metadata": {
        "id": "OCvT3N1TTXV8"
      },
      "execution_count": null,
      "outputs": []
    },
    {
      "cell_type": "code",
      "source": [
        "# Make a new df census from us_pop, then add two new columns\n",
        "census = us_pop.copy()\n",
        "census['Change']=change\n",
        "census['Percent Change']=change/census['2010']\n",
        "census"
      ],
      "metadata": {
        "id": "uQU0VcBbTb5M"
      },
      "execution_count": null,
      "outputs": []
    },
    {
      "cell_type": "code",
      "source": [
        "census.head().style.format({'Percent Change': '{:.2%}'})"
      ],
      "metadata": {
        "id": "jsfkKgC34Ffs"
      },
      "execution_count": null,
      "outputs": []
    },
    {
      "cell_type": "code",
      "source": [
        "# Sort census by Change, ascending=False\n",
        "census.sort_values(by='Change', ascending=False)"
      ],
      "metadata": {
        "id": "7pXpcLDiTvdV"
      },
      "execution_count": null,
      "outputs": []
    },
    {
      "cell_type": "code",
      "source": [
        "census_mf = census[(census['SEX']==0) & (census['AGE'] < 999)]\n",
        "census_mf[['AGE','Percent Change']]"
      ],
      "metadata": {
        "id": "QOOvEGcrVDoB"
      },
      "execution_count": null,
      "outputs": []
    },
    {
      "cell_type": "code",
      "source": [
        "census_mf['age group'] = pd.qcut(census_mf.AGE, q=5, labels=['0-20','21-40','41-60','61-80','81-100'])"
      ],
      "metadata": {
        "id": "rNagFOqMDL8M"
      },
      "execution_count": null,
      "outputs": []
    },
    {
      "cell_type": "code",
      "source": [
        "agg_df = census_mf.groupby('age group').sum()"
      ],
      "metadata": {
        "id": "YZVaZDohEEdH"
      },
      "execution_count": null,
      "outputs": []
    },
    {
      "cell_type": "code",
      "source": [
        "agg_df"
      ],
      "metadata": {
        "id": "qJM0zc3dF23y"
      },
      "execution_count": null,
      "outputs": []
    },
    {
      "cell_type": "code",
      "source": [
        "change = agg_df['2014'] - agg_df['2010']\n",
        "agg_df['Change'] = change\n",
        "agg_df['Percent Change'] = change/agg_df['2010']\n",
        "agg_df"
      ],
      "metadata": {
        "id": "bd0a6Tn9Fwrs"
      },
      "execution_count": null,
      "outputs": []
    },
    {
      "cell_type": "markdown",
      "source": [
        "## Example Sex Ratios"
      ],
      "metadata": {
        "id": "kckEwJsfHOun"
      }
    },
    {
      "cell_type": "code",
      "source": [
        "us_pop #1 for male, 2 for female"
      ],
      "metadata": {
        "id": "y1-J03mXHTVR"
      },
      "execution_count": null,
      "outputs": []
    },
    {
      "cell_type": "code",
      "source": [
        "us_pop[us_pop.AGE==999]"
      ],
      "metadata": {
        "id": "jROPr7HSHxns"
      },
      "execution_count": null,
      "outputs": []
    },
    {
      "cell_type": "code",
      "source": [
        "# Drop column '2010' then filter 'AGE'==999\n",
        "us_pop_2014 = us_pop.drop(columns='2010')\n",
        "all_ages = us_pop_2014[us_pop_2014['AGE']==999]\n",
        "all_ages"
      ],
      "metadata": {
        "id": "-HzEYATnIIX8"
      },
      "execution_count": null,
      "outputs": []
    },
    {
      "cell_type": "code",
      "source": [
        "# Add a column Proportion\n",
        "all_ages['Proportion'] = all_ages['2014']/(list(all_ages[all_ages['SEX']==0]['2014'])*3)\n",
        "all_ages"
      ],
      "metadata": {
        "id": "IHDleyjCIUKb"
      },
      "execution_count": null,
      "outputs": []
    }
  ]
}