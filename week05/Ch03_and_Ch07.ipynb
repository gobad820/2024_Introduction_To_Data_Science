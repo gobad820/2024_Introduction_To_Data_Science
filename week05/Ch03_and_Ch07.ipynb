{
 "nbformat": 4,
 "nbformat_minor": 0,
 "metadata": {
  "colab": {
   "provenance": [],
   "toc_visible": true
  },
  "kernelspec": {
   "name": "python3",
   "language": "python",
   "display_name": "Python 3 (ipykernel)"
  },
  "language_info": {
   "name": "python"
  }
 },
 "cells": [
  {
   "cell_type": "markdown",
   "source": [
    "# Chapter 3.4 Introduction to Tables (Pandas ver.)"
   ],
   "metadata": {
    "id": "_ajAUFkxWdOz"
   }
  },
  {
   "cell_type": "markdown",
   "source": [
    "# 코딩 문제 시험에 나옴(e.g. 여기서 제일 몸 값이 비싼 사람은?, 코드를 보고 해석이 되는지 질문, sort by 문제)"
   ],
   "metadata": {
    "collapsed": false
   }
  },
  {
   "cell_type": "markdown",
   "source": [
    "## Create a DataFrame"
   ],
   "metadata": {
    "id": "L1HcxnUCWo0I"
   }
  },
  {
   "cell_type": "code",
   "source": [
    "import pandas as pd\n",
    "\n",
    "# Define cones' attributes\n",
    "conesAttributes = [\"Flavor\", \"Color\", \"Price\"]\n",
    "\n",
    "# Define cones' data, must be same sequence as attributes\n",
    "conesData = [[\"strawberry\", \"pink\", 3.55],\n",
    "             [\"chocolate\", \"light brown\", 4.75],\n",
    "             [\"chocolate\", \"dark brown\", 5.25],\n",
    "             [\"strawberry\", \"pink\", 5.25],\n",
    "             [\"chocolate\", \"dark brown\", 5.25],\n",
    "             [\"bubblegem\", \"pink\", 4.75]]\n",
    "\n",
    "# Define cones\n",
    "cones = pd.DataFrame(data=conesData, columns=conesAttributes)"
   ],
   "metadata": {
    "id": "bw86uoEdVmUG",
    "ExecuteTime": {
     "end_time": "2024-04-03T08:45:55.911009Z",
     "start_time": "2024-04-03T08:45:55.908152Z"
    }
   },
   "execution_count": 6,
   "outputs": []
  },
  {
   "cell_type": "code",
   "source": [
    "cones  # icecream cones"
   ],
   "metadata": {
    "id": "UM_CJ0jgVvVl",
    "ExecuteTime": {
     "end_time": "2024-04-03T08:45:56.212427Z",
     "start_time": "2024-04-03T08:45:56.203251Z"
    }
   },
   "execution_count": 7,
   "outputs": [
    {
     "data": {
      "text/plain": "       Flavor        Color  Price\n0  strawberry         pink   3.55\n1   chocolate  light brown   4.75\n2   chocolate   dark brown   5.25\n3  strawberry         pink   5.25\n4   chocolate   dark brown   5.25\n5   bubblegem         pink   4.75",
      "text/html": "<div>\n<style scoped>\n    .dataframe tbody tr th:only-of-type {\n        vertical-align: middle;\n    }\n\n    .dataframe tbody tr th {\n        vertical-align: top;\n    }\n\n    .dataframe thead th {\n        text-align: right;\n    }\n</style>\n<table border=\"1\" class=\"dataframe\">\n  <thead>\n    <tr style=\"text-align: right;\">\n      <th></th>\n      <th>Flavor</th>\n      <th>Color</th>\n      <th>Price</th>\n    </tr>\n  </thead>\n  <tbody>\n    <tr>\n      <th>0</th>\n      <td>strawberry</td>\n      <td>pink</td>\n      <td>3.55</td>\n    </tr>\n    <tr>\n      <th>1</th>\n      <td>chocolate</td>\n      <td>light brown</td>\n      <td>4.75</td>\n    </tr>\n    <tr>\n      <th>2</th>\n      <td>chocolate</td>\n      <td>dark brown</td>\n      <td>5.25</td>\n    </tr>\n    <tr>\n      <th>3</th>\n      <td>strawberry</td>\n      <td>pink</td>\n      <td>5.25</td>\n    </tr>\n    <tr>\n      <th>4</th>\n      <td>chocolate</td>\n      <td>dark brown</td>\n      <td>5.25</td>\n    </tr>\n    <tr>\n      <th>5</th>\n      <td>bubblegem</td>\n      <td>pink</td>\n      <td>4.75</td>\n    </tr>\n  </tbody>\n</table>\n</div>"
     },
     "execution_count": 7,
     "metadata": {},
     "output_type": "execute_result"
    }
   ]
  },
  {
   "cell_type": "markdown",
   "source": [
    "## Display rows"
   ],
   "metadata": {
    "id": "HK95U1LwV1s1"
   }
  },
  {
   "cell_type": "code",
   "source": [
    "# Show first two rows\n",
    "cones[:2]"
   ],
   "metadata": {
    "id": "sPH_nnULV5G2",
    "ExecuteTime": {
     "end_time": "2024-04-03T08:45:56.624851Z",
     "start_time": "2024-04-03T08:45:56.620861Z"
    }
   },
   "execution_count": 8,
   "outputs": [
    {
     "data": {
      "text/plain": "       Flavor        Color  Price\n0  strawberry         pink   3.55\n1   chocolate  light brown   4.75",
      "text/html": "<div>\n<style scoped>\n    .dataframe tbody tr th:only-of-type {\n        vertical-align: middle;\n    }\n\n    .dataframe tbody tr th {\n        vertical-align: top;\n    }\n\n    .dataframe thead th {\n        text-align: right;\n    }\n</style>\n<table border=\"1\" class=\"dataframe\">\n  <thead>\n    <tr style=\"text-align: right;\">\n      <th></th>\n      <th>Flavor</th>\n      <th>Color</th>\n      <th>Price</th>\n    </tr>\n  </thead>\n  <tbody>\n    <tr>\n      <th>0</th>\n      <td>strawberry</td>\n      <td>pink</td>\n      <td>3.55</td>\n    </tr>\n    <tr>\n      <th>1</th>\n      <td>chocolate</td>\n      <td>light brown</td>\n      <td>4.75</td>\n    </tr>\n  </tbody>\n</table>\n</div>"
     },
     "execution_count": 8,
     "metadata": {},
     "output_type": "execute_result"
    }
   ]
  },
  {
   "cell_type": "code",
   "source": [
    "cones.iloc[:2]"
   ],
   "metadata": {
    "id": "G8_z_zEWXqs2",
    "ExecuteTime": {
     "end_time": "2024-04-03T08:45:56.948552Z",
     "start_time": "2024-04-03T08:45:56.941734Z"
    }
   },
   "execution_count": 9,
   "outputs": [
    {
     "data": {
      "text/plain": "       Flavor        Color  Price\n0  strawberry         pink   3.55\n1   chocolate  light brown   4.75",
      "text/html": "<div>\n<style scoped>\n    .dataframe tbody tr th:only-of-type {\n        vertical-align: middle;\n    }\n\n    .dataframe tbody tr th {\n        vertical-align: top;\n    }\n\n    .dataframe thead th {\n        text-align: right;\n    }\n</style>\n<table border=\"1\" class=\"dataframe\">\n  <thead>\n    <tr style=\"text-align: right;\">\n      <th></th>\n      <th>Flavor</th>\n      <th>Color</th>\n      <th>Price</th>\n    </tr>\n  </thead>\n  <tbody>\n    <tr>\n      <th>0</th>\n      <td>strawberry</td>\n      <td>pink</td>\n      <td>3.55</td>\n    </tr>\n    <tr>\n      <th>1</th>\n      <td>chocolate</td>\n      <td>light brown</td>\n      <td>4.75</td>\n    </tr>\n  </tbody>\n</table>\n</div>"
     },
     "execution_count": 9,
     "metadata": {},
     "output_type": "execute_result"
    }
   ]
  },
  {
   "cell_type": "code",
   "source": [
    "cones.iloc[0:2, :]"
   ],
   "metadata": {
    "id": "goreUXTuXuOk",
    "ExecuteTime": {
     "end_time": "2024-04-03T08:45:57.183896Z",
     "start_time": "2024-04-03T08:45:57.177357Z"
    }
   },
   "execution_count": 10,
   "outputs": [
    {
     "data": {
      "text/plain": "       Flavor        Color  Price\n0  strawberry         pink   3.55\n1   chocolate  light brown   4.75",
      "text/html": "<div>\n<style scoped>\n    .dataframe tbody tr th:only-of-type {\n        vertical-align: middle;\n    }\n\n    .dataframe tbody tr th {\n        vertical-align: top;\n    }\n\n    .dataframe thead th {\n        text-align: right;\n    }\n</style>\n<table border=\"1\" class=\"dataframe\">\n  <thead>\n    <tr style=\"text-align: right;\">\n      <th></th>\n      <th>Flavor</th>\n      <th>Color</th>\n      <th>Price</th>\n    </tr>\n  </thead>\n  <tbody>\n    <tr>\n      <th>0</th>\n      <td>strawberry</td>\n      <td>pink</td>\n      <td>3.55</td>\n    </tr>\n    <tr>\n      <th>1</th>\n      <td>chocolate</td>\n      <td>light brown</td>\n      <td>4.75</td>\n    </tr>\n  </tbody>\n</table>\n</div>"
     },
     "execution_count": 10,
     "metadata": {},
     "output_type": "execute_result"
    }
   ]
  },
  {
   "cell_type": "markdown",
   "source": [
    "## Choosing Sets of Columns"
   ],
   "metadata": {
    "id": "XtRuBmTWWaaB"
   }
  },
  {
   "cell_type": "code",
   "source": [
    "# Show Flavor\n",
    "cones.loc[:, ['Flavor']]"
   ],
   "metadata": {
    "id": "jYbkUlQqWXWm",
    "ExecuteTime": {
     "end_time": "2024-04-03T08:45:57.519304Z",
     "start_time": "2024-04-03T08:45:57.514693Z"
    }
   },
   "execution_count": 11,
   "outputs": [
    {
     "data": {
      "text/plain": "       Flavor\n0  strawberry\n1   chocolate\n2   chocolate\n3  strawberry\n4   chocolate\n5   bubblegem",
      "text/html": "<div>\n<style scoped>\n    .dataframe tbody tr th:only-of-type {\n        vertical-align: middle;\n    }\n\n    .dataframe tbody tr th {\n        vertical-align: top;\n    }\n\n    .dataframe thead th {\n        text-align: right;\n    }\n</style>\n<table border=\"1\" class=\"dataframe\">\n  <thead>\n    <tr style=\"text-align: right;\">\n      <th></th>\n      <th>Flavor</th>\n    </tr>\n  </thead>\n  <tbody>\n    <tr>\n      <th>0</th>\n      <td>strawberry</td>\n    </tr>\n    <tr>\n      <th>1</th>\n      <td>chocolate</td>\n    </tr>\n    <tr>\n      <th>2</th>\n      <td>chocolate</td>\n    </tr>\n    <tr>\n      <th>3</th>\n      <td>strawberry</td>\n    </tr>\n    <tr>\n      <th>4</th>\n      <td>chocolate</td>\n    </tr>\n    <tr>\n      <th>5</th>\n      <td>bubblegem</td>\n    </tr>\n  </tbody>\n</table>\n</div>"
     },
     "execution_count": 11,
     "metadata": {},
     "output_type": "execute_result"
    }
   ]
  },
  {
   "cell_type": "code",
   "source": [
    "cones['Flavor']"
   ],
   "metadata": {
    "id": "MkoIJxMHX4zN",
    "ExecuteTime": {
     "end_time": "2024-04-03T08:45:57.860006Z",
     "start_time": "2024-04-03T08:45:57.856872Z"
    }
   },
   "execution_count": 12,
   "outputs": [
    {
     "data": {
      "text/plain": "0    strawberry\n1     chocolate\n2     chocolate\n3    strawberry\n4     chocolate\n5     bubblegem\nName: Flavor, dtype: object"
     },
     "execution_count": 12,
     "metadata": {},
     "output_type": "execute_result"
    }
   ]
  },
  {
   "cell_type": "code",
   "source": [
    "type(cones.loc[:, ['Flavor']])"
   ],
   "metadata": {
    "id": "sJSYANTMX0m6",
    "ExecuteTime": {
     "end_time": "2024-04-03T08:45:58.305429Z",
     "start_time": "2024-04-03T08:45:58.301865Z"
    }
   },
   "execution_count": 13,
   "outputs": [
    {
     "data": {
      "text/plain": "pandas.core.frame.DataFrame"
     },
     "execution_count": 13,
     "metadata": {},
     "output_type": "execute_result"
    }
   ]
  },
  {
   "cell_type": "code",
   "source": [
    "type(cones['Flavor'])"
   ],
   "metadata": {
    "id": "2q_ZgtLNXWIM",
    "ExecuteTime": {
     "end_time": "2024-04-03T08:45:58.811005Z",
     "start_time": "2024-04-03T08:45:58.807154Z"
    }
   },
   "execution_count": 14,
   "outputs": [
    {
     "data": {
      "text/plain": "pandas.core.series.Series"
     },
     "execution_count": 14,
     "metadata": {},
     "output_type": "execute_result"
    }
   ]
  },
  {
   "cell_type": "code",
   "source": [
    "cones['Flavor'].to_frame()"
   ],
   "metadata": {
    "id": "vzNfvbZ_W990",
    "ExecuteTime": {
     "end_time": "2024-04-03T08:45:59.112121Z",
     "start_time": "2024-04-03T08:45:59.108409Z"
    }
   },
   "execution_count": 15,
   "outputs": [
    {
     "data": {
      "text/plain": "       Flavor\n0  strawberry\n1   chocolate\n2   chocolate\n3  strawberry\n4   chocolate\n5   bubblegem",
      "text/html": "<div>\n<style scoped>\n    .dataframe tbody tr th:only-of-type {\n        vertical-align: middle;\n    }\n\n    .dataframe tbody tr th {\n        vertical-align: top;\n    }\n\n    .dataframe thead th {\n        text-align: right;\n    }\n</style>\n<table border=\"1\" class=\"dataframe\">\n  <thead>\n    <tr style=\"text-align: right;\">\n      <th></th>\n      <th>Flavor</th>\n    </tr>\n  </thead>\n  <tbody>\n    <tr>\n      <th>0</th>\n      <td>strawberry</td>\n    </tr>\n    <tr>\n      <th>1</th>\n      <td>chocolate</td>\n    </tr>\n    <tr>\n      <th>2</th>\n      <td>chocolate</td>\n    </tr>\n    <tr>\n      <th>3</th>\n      <td>strawberry</td>\n    </tr>\n    <tr>\n      <th>4</th>\n      <td>chocolate</td>\n    </tr>\n    <tr>\n      <th>5</th>\n      <td>bubblegem</td>\n    </tr>\n  </tbody>\n</table>\n</div>"
     },
     "execution_count": 15,
     "metadata": {},
     "output_type": "execute_result"
    }
   ]
  },
  {
   "cell_type": "code",
   "source": [
    "cones  # original DataFrame not changed"
   ],
   "metadata": {
    "id": "wxwbwpCRYBMx",
    "ExecuteTime": {
     "end_time": "2024-04-03T08:45:59.585876Z",
     "start_time": "2024-04-03T08:45:59.575991Z"
    }
   },
   "execution_count": 16,
   "outputs": [
    {
     "data": {
      "text/plain": "       Flavor        Color  Price\n0  strawberry         pink   3.55\n1   chocolate  light brown   4.75\n2   chocolate   dark brown   5.25\n3  strawberry         pink   5.25\n4   chocolate   dark brown   5.25\n5   bubblegem         pink   4.75",
      "text/html": "<div>\n<style scoped>\n    .dataframe tbody tr th:only-of-type {\n        vertical-align: middle;\n    }\n\n    .dataframe tbody tr th {\n        vertical-align: top;\n    }\n\n    .dataframe thead th {\n        text-align: right;\n    }\n</style>\n<table border=\"1\" class=\"dataframe\">\n  <thead>\n    <tr style=\"text-align: right;\">\n      <th></th>\n      <th>Flavor</th>\n      <th>Color</th>\n      <th>Price</th>\n    </tr>\n  </thead>\n  <tbody>\n    <tr>\n      <th>0</th>\n      <td>strawberry</td>\n      <td>pink</td>\n      <td>3.55</td>\n    </tr>\n    <tr>\n      <th>1</th>\n      <td>chocolate</td>\n      <td>light brown</td>\n      <td>4.75</td>\n    </tr>\n    <tr>\n      <th>2</th>\n      <td>chocolate</td>\n      <td>dark brown</td>\n      <td>5.25</td>\n    </tr>\n    <tr>\n      <th>3</th>\n      <td>strawberry</td>\n      <td>pink</td>\n      <td>5.25</td>\n    </tr>\n    <tr>\n      <th>4</th>\n      <td>chocolate</td>\n      <td>dark brown</td>\n      <td>5.25</td>\n    </tr>\n    <tr>\n      <th>5</th>\n      <td>bubblegem</td>\n      <td>pink</td>\n      <td>4.75</td>\n    </tr>\n  </tbody>\n</table>\n</div>"
     },
     "execution_count": 16,
     "metadata": {},
     "output_type": "execute_result"
    }
   ]
  },
  {
   "cell_type": "code",
   "source": [
    "# Show Flavor, Price\n",
    "cones.loc[:, ['Flavor', 'Price']]"
   ],
   "metadata": {
    "id": "-DWbAkEhYH6u",
    "ExecuteTime": {
     "end_time": "2024-04-03T08:45:59.951601Z",
     "start_time": "2024-04-03T08:45:59.943895Z"
    }
   },
   "execution_count": 17,
   "outputs": [
    {
     "data": {
      "text/plain": "       Flavor  Price\n0  strawberry   3.55\n1   chocolate   4.75\n2   chocolate   5.25\n3  strawberry   5.25\n4   chocolate   5.25\n5   bubblegem   4.75",
      "text/html": "<div>\n<style scoped>\n    .dataframe tbody tr th:only-of-type {\n        vertical-align: middle;\n    }\n\n    .dataframe tbody tr th {\n        vertical-align: top;\n    }\n\n    .dataframe thead th {\n        text-align: right;\n    }\n</style>\n<table border=\"1\" class=\"dataframe\">\n  <thead>\n    <tr style=\"text-align: right;\">\n      <th></th>\n      <th>Flavor</th>\n      <th>Price</th>\n    </tr>\n  </thead>\n  <tbody>\n    <tr>\n      <th>0</th>\n      <td>strawberry</td>\n      <td>3.55</td>\n    </tr>\n    <tr>\n      <th>1</th>\n      <td>chocolate</td>\n      <td>4.75</td>\n    </tr>\n    <tr>\n      <th>2</th>\n      <td>chocolate</td>\n      <td>5.25</td>\n    </tr>\n    <tr>\n      <th>3</th>\n      <td>strawberry</td>\n      <td>5.25</td>\n    </tr>\n    <tr>\n      <th>4</th>\n      <td>chocolate</td>\n      <td>5.25</td>\n    </tr>\n    <tr>\n      <th>5</th>\n      <td>bubblegem</td>\n      <td>4.75</td>\n    </tr>\n  </tbody>\n</table>\n</div>"
     },
     "execution_count": 17,
     "metadata": {},
     "output_type": "execute_result"
    }
   ]
  },
  {
   "cell_type": "code",
   "source": [
    "# Drop Color\n",
    "cones.drop(columns='Color')\n"
   ],
   "metadata": {
    "id": "FlqwxtkXYLbh",
    "ExecuteTime": {
     "end_time": "2024-04-03T08:46:00.302500Z",
     "start_time": "2024-04-03T08:46:00.297146Z"
    }
   },
   "execution_count": 18,
   "outputs": [
    {
     "data": {
      "text/plain": "       Flavor  Price\n0  strawberry   3.55\n1   chocolate   4.75\n2   chocolate   5.25\n3  strawberry   5.25\n4   chocolate   5.25\n5   bubblegem   4.75",
      "text/html": "<div>\n<style scoped>\n    .dataframe tbody tr th:only-of-type {\n        vertical-align: middle;\n    }\n\n    .dataframe tbody tr th {\n        vertical-align: top;\n    }\n\n    .dataframe thead th {\n        text-align: right;\n    }\n</style>\n<table border=\"1\" class=\"dataframe\">\n  <thead>\n    <tr style=\"text-align: right;\">\n      <th></th>\n      <th>Flavor</th>\n      <th>Price</th>\n    </tr>\n  </thead>\n  <tbody>\n    <tr>\n      <th>0</th>\n      <td>strawberry</td>\n      <td>3.55</td>\n    </tr>\n    <tr>\n      <th>1</th>\n      <td>chocolate</td>\n      <td>4.75</td>\n    </tr>\n    <tr>\n      <th>2</th>\n      <td>chocolate</td>\n      <td>5.25</td>\n    </tr>\n    <tr>\n      <th>3</th>\n      <td>strawberry</td>\n      <td>5.25</td>\n    </tr>\n    <tr>\n      <th>4</th>\n      <td>chocolate</td>\n      <td>5.25</td>\n    </tr>\n    <tr>\n      <th>5</th>\n      <td>bubblegem</td>\n      <td>4.75</td>\n    </tr>\n  </tbody>\n</table>\n</div>"
     },
     "execution_count": 18,
     "metadata": {},
     "output_type": "execute_result"
    }
   ]
  },
  {
   "cell_type": "code",
   "source": [
    "cones"
   ],
   "metadata": {
    "id": "nEjpYK6lZKIR",
    "ExecuteTime": {
     "end_time": "2024-04-03T08:46:00.834245Z",
     "start_time": "2024-04-03T08:46:00.827430Z"
    }
   },
   "execution_count": 19,
   "outputs": [
    {
     "data": {
      "text/plain": "       Flavor        Color  Price\n0  strawberry         pink   3.55\n1   chocolate  light brown   4.75\n2   chocolate   dark brown   5.25\n3  strawberry         pink   5.25\n4   chocolate   dark brown   5.25\n5   bubblegem         pink   4.75",
      "text/html": "<div>\n<style scoped>\n    .dataframe tbody tr th:only-of-type {\n        vertical-align: middle;\n    }\n\n    .dataframe tbody tr th {\n        vertical-align: top;\n    }\n\n    .dataframe thead th {\n        text-align: right;\n    }\n</style>\n<table border=\"1\" class=\"dataframe\">\n  <thead>\n    <tr style=\"text-align: right;\">\n      <th></th>\n      <th>Flavor</th>\n      <th>Color</th>\n      <th>Price</th>\n    </tr>\n  </thead>\n  <tbody>\n    <tr>\n      <th>0</th>\n      <td>strawberry</td>\n      <td>pink</td>\n      <td>3.55</td>\n    </tr>\n    <tr>\n      <th>1</th>\n      <td>chocolate</td>\n      <td>light brown</td>\n      <td>4.75</td>\n    </tr>\n    <tr>\n      <th>2</th>\n      <td>chocolate</td>\n      <td>dark brown</td>\n      <td>5.25</td>\n    </tr>\n    <tr>\n      <th>3</th>\n      <td>strawberry</td>\n      <td>pink</td>\n      <td>5.25</td>\n    </tr>\n    <tr>\n      <th>4</th>\n      <td>chocolate</td>\n      <td>dark brown</td>\n      <td>5.25</td>\n    </tr>\n    <tr>\n      <th>5</th>\n      <td>bubblegem</td>\n      <td>pink</td>\n      <td>4.75</td>\n    </tr>\n  </tbody>\n</table>\n</div>"
     },
     "execution_count": 19,
     "metadata": {},
     "output_type": "execute_result"
    }
   ]
  },
  {
   "cell_type": "code",
   "source": [
    "cones_without_color = cones.drop(columns='Color')\n",
    "cones_without_color"
   ],
   "metadata": {
    "id": "bczWVlwfZMp-",
    "ExecuteTime": {
     "end_time": "2024-04-03T08:46:01.251088Z",
     "start_time": "2024-04-03T08:46:01.245309Z"
    }
   },
   "execution_count": 20,
   "outputs": [
    {
     "data": {
      "text/plain": "       Flavor  Price\n0  strawberry   3.55\n1   chocolate   4.75\n2   chocolate   5.25\n3  strawberry   5.25\n4   chocolate   5.25\n5   bubblegem   4.75",
      "text/html": "<div>\n<style scoped>\n    .dataframe tbody tr th:only-of-type {\n        vertical-align: middle;\n    }\n\n    .dataframe tbody tr th {\n        vertical-align: top;\n    }\n\n    .dataframe thead th {\n        text-align: right;\n    }\n</style>\n<table border=\"1\" class=\"dataframe\">\n  <thead>\n    <tr style=\"text-align: right;\">\n      <th></th>\n      <th>Flavor</th>\n      <th>Price</th>\n    </tr>\n  </thead>\n  <tbody>\n    <tr>\n      <th>0</th>\n      <td>strawberry</td>\n      <td>3.55</td>\n    </tr>\n    <tr>\n      <th>1</th>\n      <td>chocolate</td>\n      <td>4.75</td>\n    </tr>\n    <tr>\n      <th>2</th>\n      <td>chocolate</td>\n      <td>5.25</td>\n    </tr>\n    <tr>\n      <th>3</th>\n      <td>strawberry</td>\n      <td>5.25</td>\n    </tr>\n    <tr>\n      <th>4</th>\n      <td>chocolate</td>\n      <td>5.25</td>\n    </tr>\n    <tr>\n      <th>5</th>\n      <td>bubblegem</td>\n      <td>4.75</td>\n    </tr>\n  </tbody>\n</table>\n</div>"
     },
     "execution_count": 20,
     "metadata": {},
     "output_type": "execute_result"
    }
   ]
  },
  {
   "cell_type": "markdown",
   "source": [
    "## Sorting Rows"
   ],
   "metadata": {
    "id": "b1tZiHylZkTa"
   }
  },
  {
   "cell_type": "code",
   "source": [
    "# Sort Price\n",
    "cones.sort_values(by=[\"Price\"])"
   ],
   "metadata": {
    "id": "eU9JWBY5Zjec",
    "ExecuteTime": {
     "end_time": "2024-04-03T08:46:01.642170Z",
     "start_time": "2024-04-03T08:46:01.633754Z"
    }
   },
   "execution_count": 21,
   "outputs": [
    {
     "data": {
      "text/plain": "       Flavor        Color  Price\n0  strawberry         pink   3.55\n1   chocolate  light brown   4.75\n5   bubblegem         pink   4.75\n2   chocolate   dark brown   5.25\n3  strawberry         pink   5.25\n4   chocolate   dark brown   5.25",
      "text/html": "<div>\n<style scoped>\n    .dataframe tbody tr th:only-of-type {\n        vertical-align: middle;\n    }\n\n    .dataframe tbody tr th {\n        vertical-align: top;\n    }\n\n    .dataframe thead th {\n        text-align: right;\n    }\n</style>\n<table border=\"1\" class=\"dataframe\">\n  <thead>\n    <tr style=\"text-align: right;\">\n      <th></th>\n      <th>Flavor</th>\n      <th>Color</th>\n      <th>Price</th>\n    </tr>\n  </thead>\n  <tbody>\n    <tr>\n      <th>0</th>\n      <td>strawberry</td>\n      <td>pink</td>\n      <td>3.55</td>\n    </tr>\n    <tr>\n      <th>1</th>\n      <td>chocolate</td>\n      <td>light brown</td>\n      <td>4.75</td>\n    </tr>\n    <tr>\n      <th>5</th>\n      <td>bubblegem</td>\n      <td>pink</td>\n      <td>4.75</td>\n    </tr>\n    <tr>\n      <th>2</th>\n      <td>chocolate</td>\n      <td>dark brown</td>\n      <td>5.25</td>\n    </tr>\n    <tr>\n      <th>3</th>\n      <td>strawberry</td>\n      <td>pink</td>\n      <td>5.25</td>\n    </tr>\n    <tr>\n      <th>4</th>\n      <td>chocolate</td>\n      <td>dark brown</td>\n      <td>5.25</td>\n    </tr>\n  </tbody>\n</table>\n</div>"
     },
     "execution_count": 21,
     "metadata": {},
     "output_type": "execute_result"
    }
   ]
  },
  {
   "cell_type": "code",
   "source": [
    "# Sort Price Descending\n",
    "cones.sort_values(by=[\"Price\"], ascending=False)"
   ],
   "metadata": {
    "id": "GN8MU7bTZo-n",
    "ExecuteTime": {
     "end_time": "2024-04-03T08:46:02.184456Z",
     "start_time": "2024-04-03T08:46:02.177546Z"
    }
   },
   "execution_count": 22,
   "outputs": [
    {
     "data": {
      "text/plain": "       Flavor        Color  Price\n2   chocolate   dark brown   5.25\n3  strawberry         pink   5.25\n4   chocolate   dark brown   5.25\n1   chocolate  light brown   4.75\n5   bubblegem         pink   4.75\n0  strawberry         pink   3.55",
      "text/html": "<div>\n<style scoped>\n    .dataframe tbody tr th:only-of-type {\n        vertical-align: middle;\n    }\n\n    .dataframe tbody tr th {\n        vertical-align: top;\n    }\n\n    .dataframe thead th {\n        text-align: right;\n    }\n</style>\n<table border=\"1\" class=\"dataframe\">\n  <thead>\n    <tr style=\"text-align: right;\">\n      <th></th>\n      <th>Flavor</th>\n      <th>Color</th>\n      <th>Price</th>\n    </tr>\n  </thead>\n  <tbody>\n    <tr>\n      <th>2</th>\n      <td>chocolate</td>\n      <td>dark brown</td>\n      <td>5.25</td>\n    </tr>\n    <tr>\n      <th>3</th>\n      <td>strawberry</td>\n      <td>pink</td>\n      <td>5.25</td>\n    </tr>\n    <tr>\n      <th>4</th>\n      <td>chocolate</td>\n      <td>dark brown</td>\n      <td>5.25</td>\n    </tr>\n    <tr>\n      <th>1</th>\n      <td>chocolate</td>\n      <td>light brown</td>\n      <td>4.75</td>\n    </tr>\n    <tr>\n      <th>5</th>\n      <td>bubblegem</td>\n      <td>pink</td>\n      <td>4.75</td>\n    </tr>\n    <tr>\n      <th>0</th>\n      <td>strawberry</td>\n      <td>pink</td>\n      <td>3.55</td>\n    </tr>\n  </tbody>\n</table>\n</div>"
     },
     "execution_count": 22,
     "metadata": {},
     "output_type": "execute_result"
    }
   ]
  },
  {
   "cell_type": "code",
   "source": [
    "cones.sort_values(by=[\"Flavor\", \"Price\"],\n",
    "                  ascending=[True, True])  # alphabetical한 순서로 정렬된다.같은 맛이라면 값을 기준으로 ascending # 첫번째 인덱스가 우선 기준이 된다."
   ],
   "metadata": {
    "id": "Gte0Rjj7Zt5g",
    "ExecuteTime": {
     "end_time": "2024-04-03T08:46:02.635739Z",
     "start_time": "2024-04-03T08:46:02.623376Z"
    }
   },
   "execution_count": 23,
   "outputs": [
    {
     "data": {
      "text/plain": "       Flavor        Color  Price\n5   bubblegem         pink   4.75\n1   chocolate  light brown   4.75\n2   chocolate   dark brown   5.25\n4   chocolate   dark brown   5.25\n0  strawberry         pink   3.55\n3  strawberry         pink   5.25",
      "text/html": "<div>\n<style scoped>\n    .dataframe tbody tr th:only-of-type {\n        vertical-align: middle;\n    }\n\n    .dataframe tbody tr th {\n        vertical-align: top;\n    }\n\n    .dataframe thead th {\n        text-align: right;\n    }\n</style>\n<table border=\"1\" class=\"dataframe\">\n  <thead>\n    <tr style=\"text-align: right;\">\n      <th></th>\n      <th>Flavor</th>\n      <th>Color</th>\n      <th>Price</th>\n    </tr>\n  </thead>\n  <tbody>\n    <tr>\n      <th>5</th>\n      <td>bubblegem</td>\n      <td>pink</td>\n      <td>4.75</td>\n    </tr>\n    <tr>\n      <th>1</th>\n      <td>chocolate</td>\n      <td>light brown</td>\n      <td>4.75</td>\n    </tr>\n    <tr>\n      <th>2</th>\n      <td>chocolate</td>\n      <td>dark brown</td>\n      <td>5.25</td>\n    </tr>\n    <tr>\n      <th>4</th>\n      <td>chocolate</td>\n      <td>dark brown</td>\n      <td>5.25</td>\n    </tr>\n    <tr>\n      <th>0</th>\n      <td>strawberry</td>\n      <td>pink</td>\n      <td>3.55</td>\n    </tr>\n    <tr>\n      <th>3</th>\n      <td>strawberry</td>\n      <td>pink</td>\n      <td>5.25</td>\n    </tr>\n  </tbody>\n</table>\n</div>"
     },
     "execution_count": 23,
     "metadata": {},
     "output_type": "execute_result"
    }
   ]
  },
  {
   "cell_type": "markdown",
   "source": [
    "## Selecting Rows that Satisfy a Condition"
   ],
   "metadata": {
    "id": "-SB3QJmlabUO"
   }
  },
  {
   "cell_type": "code",
   "source": [
    "# Making boolean series for a cones\n",
    "filter = cones['Flavor'] == \"chocolate\"\n",
    "\n",
    "# Pass filter to cones\n",
    "cones.where(filter, inplace=False)  # 원본 데이터 파일에 적용할지말지 => inplace, 원본이 바뀐다. 추천 X"
   ],
   "metadata": {
    "id": "x_x7VRMZafP2",
    "ExecuteTime": {
     "end_time": "2024-04-03T08:46:02.949907Z",
     "start_time": "2024-04-03T08:46:02.939938Z"
    }
   },
   "execution_count": 24,
   "outputs": [
    {
     "data": {
      "text/plain": "      Flavor        Color  Price\n0        NaN          NaN    NaN\n1  chocolate  light brown   4.75\n2  chocolate   dark brown   5.25\n3        NaN          NaN    NaN\n4  chocolate   dark brown   5.25\n5        NaN          NaN    NaN",
      "text/html": "<div>\n<style scoped>\n    .dataframe tbody tr th:only-of-type {\n        vertical-align: middle;\n    }\n\n    .dataframe tbody tr th {\n        vertical-align: top;\n    }\n\n    .dataframe thead th {\n        text-align: right;\n    }\n</style>\n<table border=\"1\" class=\"dataframe\">\n  <thead>\n    <tr style=\"text-align: right;\">\n      <th></th>\n      <th>Flavor</th>\n      <th>Color</th>\n      <th>Price</th>\n    </tr>\n  </thead>\n  <tbody>\n    <tr>\n      <th>0</th>\n      <td>NaN</td>\n      <td>NaN</td>\n      <td>NaN</td>\n    </tr>\n    <tr>\n      <th>1</th>\n      <td>chocolate</td>\n      <td>light brown</td>\n      <td>4.75</td>\n    </tr>\n    <tr>\n      <th>2</th>\n      <td>chocolate</td>\n      <td>dark brown</td>\n      <td>5.25</td>\n    </tr>\n    <tr>\n      <th>3</th>\n      <td>NaN</td>\n      <td>NaN</td>\n      <td>NaN</td>\n    </tr>\n    <tr>\n      <th>4</th>\n      <td>chocolate</td>\n      <td>dark brown</td>\n      <td>5.25</td>\n    </tr>\n    <tr>\n      <th>5</th>\n      <td>NaN</td>\n      <td>NaN</td>\n      <td>NaN</td>\n    </tr>\n  </tbody>\n</table>\n</div>"
     },
     "execution_count": 24,
     "metadata": {},
     "output_type": "execute_result"
    }
   ]
  },
  {
   "cell_type": "code",
   "source": [
    "filter"
   ],
   "metadata": {
    "id": "VqMwVBDYa4Sx",
    "ExecuteTime": {
     "end_time": "2024-04-03T08:46:03.257598Z",
     "start_time": "2024-04-03T08:46:03.252392Z"
    }
   },
   "execution_count": 25,
   "outputs": [
    {
     "data": {
      "text/plain": "0    False\n1     True\n2     True\n3    False\n4     True\n5    False\nName: Flavor, dtype: bool"
     },
     "execution_count": 25,
     "metadata": {},
     "output_type": "execute_result"
    }
   ]
  },
  {
   "cell_type": "code",
   "source": [
    "cones.where(cones['Flavor'] == 'chocolate')"
   ],
   "metadata": {
    "id": "87mj3UBPbbwL",
    "ExecuteTime": {
     "end_time": "2024-04-03T08:46:03.653539Z",
     "start_time": "2024-04-03T08:46:03.648398Z"
    }
   },
   "execution_count": 26,
   "outputs": [
    {
     "data": {
      "text/plain": "      Flavor        Color  Price\n0        NaN          NaN    NaN\n1  chocolate  light brown   4.75\n2  chocolate   dark brown   5.25\n3        NaN          NaN    NaN\n4  chocolate   dark brown   5.25\n5        NaN          NaN    NaN",
      "text/html": "<div>\n<style scoped>\n    .dataframe tbody tr th:only-of-type {\n        vertical-align: middle;\n    }\n\n    .dataframe tbody tr th {\n        vertical-align: top;\n    }\n\n    .dataframe thead th {\n        text-align: right;\n    }\n</style>\n<table border=\"1\" class=\"dataframe\">\n  <thead>\n    <tr style=\"text-align: right;\">\n      <th></th>\n      <th>Flavor</th>\n      <th>Color</th>\n      <th>Price</th>\n    </tr>\n  </thead>\n  <tbody>\n    <tr>\n      <th>0</th>\n      <td>NaN</td>\n      <td>NaN</td>\n      <td>NaN</td>\n    </tr>\n    <tr>\n      <th>1</th>\n      <td>chocolate</td>\n      <td>light brown</td>\n      <td>4.75</td>\n    </tr>\n    <tr>\n      <th>2</th>\n      <td>chocolate</td>\n      <td>dark brown</td>\n      <td>5.25</td>\n    </tr>\n    <tr>\n      <th>3</th>\n      <td>NaN</td>\n      <td>NaN</td>\n      <td>NaN</td>\n    </tr>\n    <tr>\n      <th>4</th>\n      <td>chocolate</td>\n      <td>dark brown</td>\n      <td>5.25</td>\n    </tr>\n    <tr>\n      <th>5</th>\n      <td>NaN</td>\n      <td>NaN</td>\n      <td>NaN</td>\n    </tr>\n  </tbody>\n</table>\n</div>"
     },
     "execution_count": 26,
     "metadata": {},
     "output_type": "execute_result"
    }
   ]
  },
  {
   "cell_type": "code",
   "source": [
    "# cones.where(filter, inplace=True)"
   ],
   "metadata": {
    "id": "KaD9Fl06bG-z",
    "ExecuteTime": {
     "end_time": "2024-04-03T08:46:04.320132Z",
     "start_time": "2024-04-03T08:46:04.317673Z"
    }
   },
   "execution_count": 27,
   "outputs": []
  },
  {
   "cell_type": "code",
   "source": [
    "# Making boolean series for a cones\n",
    "filter = cones['Flavor'] == \"chocolate\"\n",
    "\n",
    "# Pass filter to cones\n",
    "cones.loc[filter]  # loc을 써서 flavour가 chocolate인 icecream만 가져온다. "
   ],
   "metadata": {
    "id": "vQAjzEXgagsp",
    "ExecuteTime": {
     "end_time": "2024-04-03T08:46:04.636204Z",
     "start_time": "2024-04-03T08:46:04.631001Z"
    }
   },
   "execution_count": 28,
   "outputs": [
    {
     "data": {
      "text/plain": "      Flavor        Color  Price\n1  chocolate  light brown   4.75\n2  chocolate   dark brown   5.25\n4  chocolate   dark brown   5.25",
      "text/html": "<div>\n<style scoped>\n    .dataframe tbody tr th:only-of-type {\n        vertical-align: middle;\n    }\n\n    .dataframe tbody tr th {\n        vertical-align: top;\n    }\n\n    .dataframe thead th {\n        text-align: right;\n    }\n</style>\n<table border=\"1\" class=\"dataframe\">\n  <thead>\n    <tr style=\"text-align: right;\">\n      <th></th>\n      <th>Flavor</th>\n      <th>Color</th>\n      <th>Price</th>\n    </tr>\n  </thead>\n  <tbody>\n    <tr>\n      <th>1</th>\n      <td>chocolate</td>\n      <td>light brown</td>\n      <td>4.75</td>\n    </tr>\n    <tr>\n      <th>2</th>\n      <td>chocolate</td>\n      <td>dark brown</td>\n      <td>5.25</td>\n    </tr>\n    <tr>\n      <th>4</th>\n      <td>chocolate</td>\n      <td>dark brown</td>\n      <td>5.25</td>\n    </tr>\n  </tbody>\n</table>\n</div>"
     },
     "execution_count": 28,
     "metadata": {},
     "output_type": "execute_result"
    }
   ]
  },
  {
   "cell_type": "markdown",
   "source": [
    "**Index가 1, 2, 3이 아니라 1, 2, 4가 나온다**"
   ],
   "metadata": {
    "collapsed": false
   }
  },
  {
   "cell_type": "code",
   "source": [
    "# Making boolean series for a cones\n",
    "filter = cones['Flavor'] == \"Chocolate\" # case sensitive\n",
    "\n",
    "# Pass filter to cones\n",
    "cones.loc[filter]\n",
    "\n",
    "#cones.where(filter)"
   ],
   "metadata": {
    "id": "Ny2RYvCBb7tC",
    "ExecuteTime": {
     "end_time": "2024-04-03T08:46:04.848533Z",
     "start_time": "2024-04-03T08:46:04.842269Z"
    }
   },
   "execution_count": 29,
   "outputs": [
    {
     "data": {
      "text/plain": "Empty DataFrame\nColumns: [Flavor, Color, Price]\nIndex: []",
      "text/html": "<div>\n<style scoped>\n    .dataframe tbody tr th:only-of-type {\n        vertical-align: middle;\n    }\n\n    .dataframe tbody tr th {\n        vertical-align: top;\n    }\n\n    .dataframe thead th {\n        text-align: right;\n    }\n</style>\n<table border=\"1\" class=\"dataframe\">\n  <thead>\n    <tr style=\"text-align: right;\">\n      <th></th>\n      <th>Flavor</th>\n      <th>Color</th>\n      <th>Price</th>\n    </tr>\n  </thead>\n  <tbody>\n  </tbody>\n</table>\n</div>"
     },
     "execution_count": 29,
     "metadata": {},
     "output_type": "execute_result"
    }
   ]
  },
  {
   "cell_type": "markdown",
   "source": [
    "**Case Sensitive**"
   ],
   "metadata": {
    "collapsed": false
   }
  },
  {
   "cell_type": "markdown",
   "source": [
    "## Example: Salaries in the NBA"
   ],
   "metadata": {
    "id": "1Dqd1UOCdHIa"
   }
  },
  {
   "cell_type": "code",
   "source": [
    "# Read nba csv\n",
    "nba = pd.read_csv('nba_salaries_3.4.4.csv')\n",
    "\n",
    "# Show nba\n",
    "nba"
   ],
   "metadata": {
    "id": "ag_kytOPdKd6",
    "ExecuteTime": {
     "end_time": "2024-04-03T08:46:05.237613Z",
     "start_time": "2024-04-03T08:46:05.228544Z"
    }
   },
   "execution_count": 30,
   "outputs": [
    {
     "data": {
      "text/plain": "              PLAYER POSITION                TEAM  2015-2016 SALARY\n0       Paul Millsap       PF       Atlanta Hawks         18.671659\n1         Al Horford        C       Atlanta Hawks         12.000000\n2     Tiago Splitter        C       Atlanta Hawks          9.756250\n3        Jeff Teague       PG       Atlanta Hawks          8.000000\n4        Kyle Korver       SG       Atlanta Hawks          5.746479\n..               ...      ...                 ...               ...\n412        Gary Neal       PG  Washington Wizards          2.139000\n413     DeJuan Blair        C  Washington Wizards          2.000000\n414  Kelly Oubre Jr.       SF  Washington Wizards          1.920240\n415   Garrett Temple       SG  Washington Wizards          1.100602\n416     Jarell Eddie       SG  Washington Wizards          0.561716\n\n[417 rows x 4 columns]",
      "text/html": "<div>\n<style scoped>\n    .dataframe tbody tr th:only-of-type {\n        vertical-align: middle;\n    }\n\n    .dataframe tbody tr th {\n        vertical-align: top;\n    }\n\n    .dataframe thead th {\n        text-align: right;\n    }\n</style>\n<table border=\"1\" class=\"dataframe\">\n  <thead>\n    <tr style=\"text-align: right;\">\n      <th></th>\n      <th>PLAYER</th>\n      <th>POSITION</th>\n      <th>TEAM</th>\n      <th>2015-2016 SALARY</th>\n    </tr>\n  </thead>\n  <tbody>\n    <tr>\n      <th>0</th>\n      <td>Paul Millsap</td>\n      <td>PF</td>\n      <td>Atlanta Hawks</td>\n      <td>18.671659</td>\n    </tr>\n    <tr>\n      <th>1</th>\n      <td>Al Horford</td>\n      <td>C</td>\n      <td>Atlanta Hawks</td>\n      <td>12.000000</td>\n    </tr>\n    <tr>\n      <th>2</th>\n      <td>Tiago Splitter</td>\n      <td>C</td>\n      <td>Atlanta Hawks</td>\n      <td>9.756250</td>\n    </tr>\n    <tr>\n      <th>3</th>\n      <td>Jeff Teague</td>\n      <td>PG</td>\n      <td>Atlanta Hawks</td>\n      <td>8.000000</td>\n    </tr>\n    <tr>\n      <th>4</th>\n      <td>Kyle Korver</td>\n      <td>SG</td>\n      <td>Atlanta Hawks</td>\n      <td>5.746479</td>\n    </tr>\n    <tr>\n      <th>...</th>\n      <td>...</td>\n      <td>...</td>\n      <td>...</td>\n      <td>...</td>\n    </tr>\n    <tr>\n      <th>412</th>\n      <td>Gary Neal</td>\n      <td>PG</td>\n      <td>Washington Wizards</td>\n      <td>2.139000</td>\n    </tr>\n    <tr>\n      <th>413</th>\n      <td>DeJuan Blair</td>\n      <td>C</td>\n      <td>Washington Wizards</td>\n      <td>2.000000</td>\n    </tr>\n    <tr>\n      <th>414</th>\n      <td>Kelly Oubre Jr.</td>\n      <td>SF</td>\n      <td>Washington Wizards</td>\n      <td>1.920240</td>\n    </tr>\n    <tr>\n      <th>415</th>\n      <td>Garrett Temple</td>\n      <td>SG</td>\n      <td>Washington Wizards</td>\n      <td>1.100602</td>\n    </tr>\n    <tr>\n      <th>416</th>\n      <td>Jarell Eddie</td>\n      <td>SG</td>\n      <td>Washington Wizards</td>\n      <td>0.561716</td>\n    </tr>\n  </tbody>\n</table>\n<p>417 rows × 4 columns</p>\n</div>"
     },
     "execution_count": 30,
     "metadata": {},
     "output_type": "execute_result"
    }
   ]
  },
  {
   "cell_type": "code",
   "source": [
    "nba.head()"
   ],
   "metadata": {
    "id": "YPnNWr9LeEnw",
    "ExecuteTime": {
     "end_time": "2024-04-03T08:46:05.468893Z",
     "start_time": "2024-04-03T08:46:05.461546Z"
    }
   },
   "execution_count": 31,
   "outputs": [
    {
     "data": {
      "text/plain": "           PLAYER POSITION           TEAM  2015-2016 SALARY\n0    Paul Millsap       PF  Atlanta Hawks         18.671659\n1      Al Horford        C  Atlanta Hawks         12.000000\n2  Tiago Splitter        C  Atlanta Hawks          9.756250\n3     Jeff Teague       PG  Atlanta Hawks          8.000000\n4     Kyle Korver       SG  Atlanta Hawks          5.746479",
      "text/html": "<div>\n<style scoped>\n    .dataframe tbody tr th:only-of-type {\n        vertical-align: middle;\n    }\n\n    .dataframe tbody tr th {\n        vertical-align: top;\n    }\n\n    .dataframe thead th {\n        text-align: right;\n    }\n</style>\n<table border=\"1\" class=\"dataframe\">\n  <thead>\n    <tr style=\"text-align: right;\">\n      <th></th>\n      <th>PLAYER</th>\n      <th>POSITION</th>\n      <th>TEAM</th>\n      <th>2015-2016 SALARY</th>\n    </tr>\n  </thead>\n  <tbody>\n    <tr>\n      <th>0</th>\n      <td>Paul Millsap</td>\n      <td>PF</td>\n      <td>Atlanta Hawks</td>\n      <td>18.671659</td>\n    </tr>\n    <tr>\n      <th>1</th>\n      <td>Al Horford</td>\n      <td>C</td>\n      <td>Atlanta Hawks</td>\n      <td>12.000000</td>\n    </tr>\n    <tr>\n      <th>2</th>\n      <td>Tiago Splitter</td>\n      <td>C</td>\n      <td>Atlanta Hawks</td>\n      <td>9.756250</td>\n    </tr>\n    <tr>\n      <th>3</th>\n      <td>Jeff Teague</td>\n      <td>PG</td>\n      <td>Atlanta Hawks</td>\n      <td>8.000000</td>\n    </tr>\n    <tr>\n      <th>4</th>\n      <td>Kyle Korver</td>\n      <td>SG</td>\n      <td>Atlanta Hawks</td>\n      <td>5.746479</td>\n    </tr>\n  </tbody>\n</table>\n</div>"
     },
     "execution_count": 31,
     "metadata": {},
     "output_type": "execute_result"
    }
   ]
  },
  {
   "cell_type": "code",
   "source": [
    "nba.tail()"
   ],
   "metadata": {
    "id": "YvjffVgxeHzH",
    "ExecuteTime": {
     "end_time": "2024-04-03T08:46:05.772244Z",
     "start_time": "2024-04-03T08:46:05.764932Z"
    }
   },
   "execution_count": 32,
   "outputs": [
    {
     "data": {
      "text/plain": "              PLAYER POSITION                TEAM  2015-2016 SALARY\n412        Gary Neal       PG  Washington Wizards          2.139000\n413     DeJuan Blair        C  Washington Wizards          2.000000\n414  Kelly Oubre Jr.       SF  Washington Wizards          1.920240\n415   Garrett Temple       SG  Washington Wizards          1.100602\n416     Jarell Eddie       SG  Washington Wizards          0.561716",
      "text/html": "<div>\n<style scoped>\n    .dataframe tbody tr th:only-of-type {\n        vertical-align: middle;\n    }\n\n    .dataframe tbody tr th {\n        vertical-align: top;\n    }\n\n    .dataframe thead th {\n        text-align: right;\n    }\n</style>\n<table border=\"1\" class=\"dataframe\">\n  <thead>\n    <tr style=\"text-align: right;\">\n      <th></th>\n      <th>PLAYER</th>\n      <th>POSITION</th>\n      <th>TEAM</th>\n      <th>2015-2016 SALARY</th>\n    </tr>\n  </thead>\n  <tbody>\n    <tr>\n      <th>412</th>\n      <td>Gary Neal</td>\n      <td>PG</td>\n      <td>Washington Wizards</td>\n      <td>2.139000</td>\n    </tr>\n    <tr>\n      <th>413</th>\n      <td>DeJuan Blair</td>\n      <td>C</td>\n      <td>Washington Wizards</td>\n      <td>2.000000</td>\n    </tr>\n    <tr>\n      <th>414</th>\n      <td>Kelly Oubre Jr.</td>\n      <td>SF</td>\n      <td>Washington Wizards</td>\n      <td>1.920240</td>\n    </tr>\n    <tr>\n      <th>415</th>\n      <td>Garrett Temple</td>\n      <td>SG</td>\n      <td>Washington Wizards</td>\n      <td>1.100602</td>\n    </tr>\n    <tr>\n      <th>416</th>\n      <td>Jarell Eddie</td>\n      <td>SG</td>\n      <td>Washington Wizards</td>\n      <td>0.561716</td>\n    </tr>\n  </tbody>\n</table>\n</div>"
     },
     "execution_count": 32,
     "metadata": {},
     "output_type": "execute_result"
    }
   ]
  },
  {
   "cell_type": "code",
   "source": [
    "# Filter \"Stephen Curry\"\n",
    "filter = nba[\"PLAYER\"] == \"Stephen Curry\" # 커리를 필터로 생성\n",
    "nba.loc[filter] # location으로 찾아낸다"
   ],
   "metadata": {
    "id": "ezJkxKnMePSm",
    "ExecuteTime": {
     "end_time": "2024-04-03T08:46:06.167369Z",
     "start_time": "2024-04-03T08:46:06.161508Z"
    }
   },
   "execution_count": 33,
   "outputs": [
    {
     "data": {
      "text/plain": "            PLAYER POSITION                   TEAM  2015-2016 SALARY\n121  Stephen Curry       PG  Golden State Warriors         11.370786",
      "text/html": "<div>\n<style scoped>\n    .dataframe tbody tr th:only-of-type {\n        vertical-align: middle;\n    }\n\n    .dataframe tbody tr th {\n        vertical-align: top;\n    }\n\n    .dataframe thead th {\n        text-align: right;\n    }\n</style>\n<table border=\"1\" class=\"dataframe\">\n  <thead>\n    <tr style=\"text-align: right;\">\n      <th></th>\n      <th>PLAYER</th>\n      <th>POSITION</th>\n      <th>TEAM</th>\n      <th>2015-2016 SALARY</th>\n    </tr>\n  </thead>\n  <tbody>\n    <tr>\n      <th>121</th>\n      <td>Stephen Curry</td>\n      <td>PG</td>\n      <td>Golden State Warriors</td>\n      <td>11.370786</td>\n    </tr>\n  </tbody>\n</table>\n</div>"
     },
     "execution_count": 33,
     "metadata": {},
     "output_type": "execute_result"
    }
   ]
  },
  {
   "cell_type": "code",
   "source": [
    "nba[\"PLAYER\"] == \"Stephen Curry\""
   ],
   "metadata": {
    "id": "CQRdF5wzeiMR",
    "ExecuteTime": {
     "end_time": "2024-04-03T08:46:06.317144Z",
     "start_time": "2024-04-03T08:46:06.307926Z"
    }
   },
   "execution_count": 34,
   "outputs": [
    {
     "data": {
      "text/plain": "0      False\n1      False\n2      False\n3      False\n4      False\n       ...  \n412    False\n413    False\n414    False\n415    False\n416    False\nName: PLAYER, Length: 417, dtype: bool"
     },
     "execution_count": 34,
     "metadata": {},
     "output_type": "execute_result"
    }
   ]
  },
  {
   "cell_type": "code",
   "source": [
    "nba[nba[\"PLAYER\"] == \"Stephen Curry\"] # 직관적이고 편한 방법이다."
   ],
   "metadata": {
    "id": "-fQu0r0Sezlo",
    "ExecuteTime": {
     "end_time": "2024-04-03T08:46:06.535043Z",
     "start_time": "2024-04-03T08:46:06.525268Z"
    }
   },
   "execution_count": 35,
   "outputs": [
    {
     "data": {
      "text/plain": "            PLAYER POSITION                   TEAM  2015-2016 SALARY\n121  Stephen Curry       PG  Golden State Warriors         11.370786",
      "text/html": "<div>\n<style scoped>\n    .dataframe tbody tr th:only-of-type {\n        vertical-align: middle;\n    }\n\n    .dataframe tbody tr th {\n        vertical-align: top;\n    }\n\n    .dataframe thead th {\n        text-align: right;\n    }\n</style>\n<table border=\"1\" class=\"dataframe\">\n  <thead>\n    <tr style=\"text-align: right;\">\n      <th></th>\n      <th>PLAYER</th>\n      <th>POSITION</th>\n      <th>TEAM</th>\n      <th>2015-2016 SALARY</th>\n    </tr>\n  </thead>\n  <tbody>\n    <tr>\n      <th>121</th>\n      <td>Stephen Curry</td>\n      <td>PG</td>\n      <td>Golden State Warriors</td>\n      <td>11.370786</td>\n    </tr>\n  </tbody>\n</table>\n</div>"
     },
     "execution_count": 35,
     "metadata": {},
     "output_type": "execute_result"
    }
   ]
  },
  {
   "cell_type": "code",
   "source": [
    "nba[121:123]"
   ],
   "metadata": {
    "id": "_A9hzxCqfIZe",
    "ExecuteTime": {
     "end_time": "2024-04-03T08:46:06.696104Z",
     "start_time": "2024-04-03T08:46:06.691618Z"
    }
   },
   "execution_count": 36,
   "outputs": [
    {
     "data": {
      "text/plain": "             PLAYER POSITION                   TEAM  2015-2016 SALARY\n121   Stephen Curry       PG  Golden State Warriors         11.370786\n122  Jason Thompson       PF  Golden State Warriors          7.008475",
      "text/html": "<div>\n<style scoped>\n    .dataframe tbody tr th:only-of-type {\n        vertical-align: middle;\n    }\n\n    .dataframe tbody tr th {\n        vertical-align: top;\n    }\n\n    .dataframe thead th {\n        text-align: right;\n    }\n</style>\n<table border=\"1\" class=\"dataframe\">\n  <thead>\n    <tr style=\"text-align: right;\">\n      <th></th>\n      <th>PLAYER</th>\n      <th>POSITION</th>\n      <th>TEAM</th>\n      <th>2015-2016 SALARY</th>\n    </tr>\n  </thead>\n  <tbody>\n    <tr>\n      <th>121</th>\n      <td>Stephen Curry</td>\n      <td>PG</td>\n      <td>Golden State Warriors</td>\n      <td>11.370786</td>\n    </tr>\n    <tr>\n      <th>122</th>\n      <td>Jason Thompson</td>\n      <td>PF</td>\n      <td>Golden State Warriors</td>\n      <td>7.008475</td>\n    </tr>\n  </tbody>\n</table>\n</div>"
     },
     "execution_count": 36,
     "metadata": {},
     "output_type": "execute_result"
    }
   ]
  },
  {
   "cell_type": "markdown",
   "source": [
    "### Find players by a team name"
   ],
   "metadata": {
    "id": "OYZRTDv8Eika"
   }
  },
  {
   "cell_type": "code",
   "source": [
    "# Filter \"Golden State Warriors\"\n",
    "filter = nba[\"TEAM\"] == \"Golden State Warriors\"\n",
    "warriors = nba.loc[filter]\n",
    "warriors"
   ],
   "metadata": {
    "id": "bno2YkPFEdKZ",
    "ExecuteTime": {
     "end_time": "2024-04-03T08:46:06.951222Z",
     "start_time": "2024-04-03T08:46:06.942449Z"
    }
   },
   "execution_count": 37,
   "outputs": [
    {
     "data": {
      "text/plain": "                PLAYER POSITION                   TEAM  2015-2016 SALARY\n117      Klay Thompson       SG  Golden State Warriors         15.501000\n118     Draymond Green       PF  Golden State Warriors         14.260870\n119       Andrew Bogut        C  Golden State Warriors         13.800000\n120     Andre Iguodala       SF  Golden State Warriors         11.710456\n121      Stephen Curry       PG  Golden State Warriors         11.370786\n122     Jason Thompson       PF  Golden State Warriors          7.008475\n123   Shaun Livingston       PG  Golden State Warriors          5.543725\n124    Harrison Barnes       SF  Golden State Warriors          3.873398\n125  Marreese Speights        C  Golden State Warriors          3.815000\n126    Leandro Barbosa       SG  Golden State Warriors          2.500000\n127       Festus Ezeli        C  Golden State Warriors          2.008748\n128       Brandon Rush       SF  Golden State Warriors          1.270964\n129       Kevon Looney       SF  Golden State Warriors          1.131960\n130   Anderson Varejao       PF  Golden State Warriors          0.289755",
      "text/html": "<div>\n<style scoped>\n    .dataframe tbody tr th:only-of-type {\n        vertical-align: middle;\n    }\n\n    .dataframe tbody tr th {\n        vertical-align: top;\n    }\n\n    .dataframe thead th {\n        text-align: right;\n    }\n</style>\n<table border=\"1\" class=\"dataframe\">\n  <thead>\n    <tr style=\"text-align: right;\">\n      <th></th>\n      <th>PLAYER</th>\n      <th>POSITION</th>\n      <th>TEAM</th>\n      <th>2015-2016 SALARY</th>\n    </tr>\n  </thead>\n  <tbody>\n    <tr>\n      <th>117</th>\n      <td>Klay Thompson</td>\n      <td>SG</td>\n      <td>Golden State Warriors</td>\n      <td>15.501000</td>\n    </tr>\n    <tr>\n      <th>118</th>\n      <td>Draymond Green</td>\n      <td>PF</td>\n      <td>Golden State Warriors</td>\n      <td>14.260870</td>\n    </tr>\n    <tr>\n      <th>119</th>\n      <td>Andrew Bogut</td>\n      <td>C</td>\n      <td>Golden State Warriors</td>\n      <td>13.800000</td>\n    </tr>\n    <tr>\n      <th>120</th>\n      <td>Andre Iguodala</td>\n      <td>SF</td>\n      <td>Golden State Warriors</td>\n      <td>11.710456</td>\n    </tr>\n    <tr>\n      <th>121</th>\n      <td>Stephen Curry</td>\n      <td>PG</td>\n      <td>Golden State Warriors</td>\n      <td>11.370786</td>\n    </tr>\n    <tr>\n      <th>122</th>\n      <td>Jason Thompson</td>\n      <td>PF</td>\n      <td>Golden State Warriors</td>\n      <td>7.008475</td>\n    </tr>\n    <tr>\n      <th>123</th>\n      <td>Shaun Livingston</td>\n      <td>PG</td>\n      <td>Golden State Warriors</td>\n      <td>5.543725</td>\n    </tr>\n    <tr>\n      <th>124</th>\n      <td>Harrison Barnes</td>\n      <td>SF</td>\n      <td>Golden State Warriors</td>\n      <td>3.873398</td>\n    </tr>\n    <tr>\n      <th>125</th>\n      <td>Marreese Speights</td>\n      <td>C</td>\n      <td>Golden State Warriors</td>\n      <td>3.815000</td>\n    </tr>\n    <tr>\n      <th>126</th>\n      <td>Leandro Barbosa</td>\n      <td>SG</td>\n      <td>Golden State Warriors</td>\n      <td>2.500000</td>\n    </tr>\n    <tr>\n      <th>127</th>\n      <td>Festus Ezeli</td>\n      <td>C</td>\n      <td>Golden State Warriors</td>\n      <td>2.008748</td>\n    </tr>\n    <tr>\n      <th>128</th>\n      <td>Brandon Rush</td>\n      <td>SF</td>\n      <td>Golden State Warriors</td>\n      <td>1.270964</td>\n    </tr>\n    <tr>\n      <th>129</th>\n      <td>Kevon Looney</td>\n      <td>SF</td>\n      <td>Golden State Warriors</td>\n      <td>1.131960</td>\n    </tr>\n    <tr>\n      <th>130</th>\n      <td>Anderson Varejao</td>\n      <td>PF</td>\n      <td>Golden State Warriors</td>\n      <td>0.289755</td>\n    </tr>\n  </tbody>\n</table>\n</div>"
     },
     "execution_count": 37,
     "metadata": {},
     "output_type": "execute_result"
    }
   ]
  },
  {
   "cell_type": "markdown",
   "source": [
    "#### Renaming columns"
   ],
   "metadata": {
    "id": "6pKK8_FhFXEc"
   }
  },
  {
   "cell_type": "code",
   "source": [
    "nba.columns"
   ],
   "metadata": {
    "id": "5cVmLq_-Fl3v",
    "ExecuteTime": {
     "end_time": "2024-04-03T08:46:07.065607Z",
     "start_time": "2024-04-03T08:46:07.058966Z"
    }
   },
   "execution_count": 38,
   "outputs": [
    {
     "data": {
      "text/plain": "Index(['PLAYER', 'POSITION', 'TEAM', '2015-2016 SALARY'], dtype='object')"
     },
     "execution_count": 38,
     "metadata": {},
     "output_type": "execute_result"
    }
   ]
  },
  {
   "cell_type": "code",
   "source": [
    "nba_renamed = nba.copy(deep='all') # deep = True가 아니라 'all'로 주어야 한다. # deep=True only works for the data # deep copy, shallow copy"
   ],
   "metadata": {
    "id": "5t55TqiJFrOO",
    "ExecuteTime": {
     "end_time": "2024-04-03T08:46:07.228207Z",
     "start_time": "2024-04-03T08:46:07.223934Z"
    }
   },
   "execution_count": 39,
   "outputs": []
  },
  {
   "cell_type": "markdown",
   "source": [
    "### deep = True X, deep = 'all'이어야 한다. "
   ],
   "metadata": {
    "collapsed": false
   }
  },
  {
   "cell_type": "code",
   "source": [
    "nba_renamed[:2]"
   ],
   "metadata": {
    "id": "2yuAgYBGHIXp",
    "ExecuteTime": {
     "end_time": "2024-04-03T08:46:07.341669Z",
     "start_time": "2024-04-03T08:46:07.336711Z"
    }
   },
   "execution_count": 40,
   "outputs": [
    {
     "data": {
      "text/plain": "         PLAYER POSITION           TEAM  2015-2016 SALARY\n0  Paul Millsap       PF  Atlanta Hawks         18.671659\n1    Al Horford        C  Atlanta Hawks         12.000000",
      "text/html": "<div>\n<style scoped>\n    .dataframe tbody tr th:only-of-type {\n        vertical-align: middle;\n    }\n\n    .dataframe tbody tr th {\n        vertical-align: top;\n    }\n\n    .dataframe thead th {\n        text-align: right;\n    }\n</style>\n<table border=\"1\" class=\"dataframe\">\n  <thead>\n    <tr style=\"text-align: right;\">\n      <th></th>\n      <th>PLAYER</th>\n      <th>POSITION</th>\n      <th>TEAM</th>\n      <th>2015-2016 SALARY</th>\n    </tr>\n  </thead>\n  <tbody>\n    <tr>\n      <th>0</th>\n      <td>Paul Millsap</td>\n      <td>PF</td>\n      <td>Atlanta Hawks</td>\n      <td>18.671659</td>\n    </tr>\n    <tr>\n      <th>1</th>\n      <td>Al Horford</td>\n      <td>C</td>\n      <td>Atlanta Hawks</td>\n      <td>12.000000</td>\n    </tr>\n  </tbody>\n</table>\n</div>"
     },
     "execution_count": 40,
     "metadata": {},
     "output_type": "execute_result"
    }
   ]
  },
  {
   "cell_type": "code",
   "source": [
    "nba_renamed.columns.values[3] = 'SALARY2'\n",
    "nba_renamed[:2]"
   ],
   "metadata": {
    "id": "hX_uXKrSGB3r",
    "ExecuteTime": {
     "end_time": "2024-04-03T08:46:07.516082Z",
     "start_time": "2024-04-03T08:46:07.509961Z"
    }
   },
   "execution_count": 41,
   "outputs": [
    {
     "data": {
      "text/plain": "         PLAYER POSITION           TEAM    SALARY2\n0  Paul Millsap       PF  Atlanta Hawks  18.671659\n1    Al Horford        C  Atlanta Hawks  12.000000",
      "text/html": "<div>\n<style scoped>\n    .dataframe tbody tr th:only-of-type {\n        vertical-align: middle;\n    }\n\n    .dataframe tbody tr th {\n        vertical-align: top;\n    }\n\n    .dataframe thead th {\n        text-align: right;\n    }\n</style>\n<table border=\"1\" class=\"dataframe\">\n  <thead>\n    <tr style=\"text-align: right;\">\n      <th></th>\n      <th>PLAYER</th>\n      <th>POSITION</th>\n      <th>TEAM</th>\n      <th>SALARY2</th>\n    </tr>\n  </thead>\n  <tbody>\n    <tr>\n      <th>0</th>\n      <td>Paul Millsap</td>\n      <td>PF</td>\n      <td>Atlanta Hawks</td>\n      <td>18.671659</td>\n    </tr>\n    <tr>\n      <th>1</th>\n      <td>Al Horford</td>\n      <td>C</td>\n      <td>Atlanta Hawks</td>\n      <td>12.000000</td>\n    </tr>\n  </tbody>\n</table>\n</div>"
     },
     "execution_count": 41,
     "metadata": {},
     "output_type": "execute_result"
    }
   ]
  },
  {
   "cell_type": "code",
   "source": [
    "nba_renamed = nba_renamed.rename(columns={'SALARY2': 'SALARY'}) # rename method을 이용하여 columsn argument에 'oldname' : 'newname'을 넣어주면 'newname'으로 변경됨\n",
    "nba_renamed[:2]"
   ],
   "metadata": {
    "id": "xy1ncWLnKkn_",
    "ExecuteTime": {
     "end_time": "2024-04-03T08:46:07.590841Z",
     "start_time": "2024-04-03T08:46:07.584146Z"
    }
   },
   "execution_count": 42,
   "outputs": [
    {
     "data": {
      "text/plain": "         PLAYER POSITION           TEAM     SALARY\n0  Paul Millsap       PF  Atlanta Hawks  18.671659\n1    Al Horford        C  Atlanta Hawks  12.000000",
      "text/html": "<div>\n<style scoped>\n    .dataframe tbody tr th:only-of-type {\n        vertical-align: middle;\n    }\n\n    .dataframe tbody tr th {\n        vertical-align: top;\n    }\n\n    .dataframe thead th {\n        text-align: right;\n    }\n</style>\n<table border=\"1\" class=\"dataframe\">\n  <thead>\n    <tr style=\"text-align: right;\">\n      <th></th>\n      <th>PLAYER</th>\n      <th>POSITION</th>\n      <th>TEAM</th>\n      <th>SALARY</th>\n    </tr>\n  </thead>\n  <tbody>\n    <tr>\n      <th>0</th>\n      <td>Paul Millsap</td>\n      <td>PF</td>\n      <td>Atlanta Hawks</td>\n      <td>18.671659</td>\n    </tr>\n    <tr>\n      <th>1</th>\n      <td>Al Horford</td>\n      <td>C</td>\n      <td>Atlanta Hawks</td>\n      <td>12.000000</td>\n    </tr>\n  </tbody>\n</table>\n</div>"
     },
     "execution_count": 42,
     "metadata": {},
     "output_type": "execute_result"
    }
   ]
  },
  {
   "cell_type": "code",
   "source": [
    "nba.head(2)"
   ],
   "metadata": {
    "id": "4oVHjdgMLmtt",
    "ExecuteTime": {
     "end_time": "2024-04-03T08:46:07.721599Z",
     "start_time": "2024-04-03T08:46:07.715268Z"
    }
   },
   "execution_count": 43,
   "outputs": [
    {
     "data": {
      "text/plain": "         PLAYER POSITION           TEAM  2015-2016 SALARY\n0  Paul Millsap       PF  Atlanta Hawks         18.671659\n1    Al Horford        C  Atlanta Hawks         12.000000",
      "text/html": "<div>\n<style scoped>\n    .dataframe tbody tr th:only-of-type {\n        vertical-align: middle;\n    }\n\n    .dataframe tbody tr th {\n        vertical-align: top;\n    }\n\n    .dataframe thead th {\n        text-align: right;\n    }\n</style>\n<table border=\"1\" class=\"dataframe\">\n  <thead>\n    <tr style=\"text-align: right;\">\n      <th></th>\n      <th>PLAYER</th>\n      <th>POSITION</th>\n      <th>TEAM</th>\n      <th>2015-2016 SALARY</th>\n    </tr>\n  </thead>\n  <tbody>\n    <tr>\n      <th>0</th>\n      <td>Paul Millsap</td>\n      <td>PF</td>\n      <td>Atlanta Hawks</td>\n      <td>18.671659</td>\n    </tr>\n    <tr>\n      <th>1</th>\n      <td>Al Horford</td>\n      <td>C</td>\n      <td>Atlanta Hawks</td>\n      <td>12.000000</td>\n    </tr>\n  </tbody>\n</table>\n</div>"
     },
     "execution_count": 43,
     "metadata": {},
     "output_type": "execute_result"
    }
   ]
  },
  {
   "cell_type": "code",
   "source": [
    "nba = nba.rename(columns={'2025-2016 SALARY': 'SALARY'})\n",
    "nba.head(2)"
   ],
   "metadata": {
    "id": "c-ojj1SMLpLL",
    "ExecuteTime": {
     "end_time": "2024-04-03T08:46:07.815786Z",
     "start_time": "2024-04-03T08:46:07.811245Z"
    }
   },
   "execution_count": 44,
   "outputs": [
    {
     "data": {
      "text/plain": "         PLAYER POSITION           TEAM  2015-2016 SALARY\n0  Paul Millsap       PF  Atlanta Hawks         18.671659\n1    Al Horford        C  Atlanta Hawks         12.000000",
      "text/html": "<div>\n<style scoped>\n    .dataframe tbody tr th:only-of-type {\n        vertical-align: middle;\n    }\n\n    .dataframe tbody tr th {\n        vertical-align: top;\n    }\n\n    .dataframe thead th {\n        text-align: right;\n    }\n</style>\n<table border=\"1\" class=\"dataframe\">\n  <thead>\n    <tr style=\"text-align: right;\">\n      <th></th>\n      <th>PLAYER</th>\n      <th>POSITION</th>\n      <th>TEAM</th>\n      <th>2015-2016 SALARY</th>\n    </tr>\n  </thead>\n  <tbody>\n    <tr>\n      <th>0</th>\n      <td>Paul Millsap</td>\n      <td>PF</td>\n      <td>Atlanta Hawks</td>\n      <td>18.671659</td>\n    </tr>\n    <tr>\n      <th>1</th>\n      <td>Al Horford</td>\n      <td>C</td>\n      <td>Atlanta Hawks</td>\n      <td>12.000000</td>\n    </tr>\n  </tbody>\n</table>\n</div>"
     },
     "execution_count": 44,
     "metadata": {},
     "output_type": "execute_result"
    }
   ]
  },
  {
   "cell_type": "code",
   "source": [
    "col_name = nba.columns.values[3]\n",
    "nba = nba.rename(columns={col_name: 'SALARY ($M)'})\n",
    "nba.head(2)"
   ],
   "metadata": {
    "id": "lrFSh0vpMIyN",
    "ExecuteTime": {
     "end_time": "2024-04-03T08:46:08.006999Z",
     "start_time": "2024-04-03T08:46:07.998414Z"
    }
   },
   "execution_count": 45,
   "outputs": [
    {
     "data": {
      "text/plain": "         PLAYER POSITION           TEAM  SALARY ($M)\n0  Paul Millsap       PF  Atlanta Hawks    18.671659\n1    Al Horford        C  Atlanta Hawks    12.000000",
      "text/html": "<div>\n<style scoped>\n    .dataframe tbody tr th:only-of-type {\n        vertical-align: middle;\n    }\n\n    .dataframe tbody tr th {\n        vertical-align: top;\n    }\n\n    .dataframe thead th {\n        text-align: right;\n    }\n</style>\n<table border=\"1\" class=\"dataframe\">\n  <thead>\n    <tr style=\"text-align: right;\">\n      <th></th>\n      <th>PLAYER</th>\n      <th>POSITION</th>\n      <th>TEAM</th>\n      <th>SALARY ($M)</th>\n    </tr>\n  </thead>\n  <tbody>\n    <tr>\n      <th>0</th>\n      <td>Paul Millsap</td>\n      <td>PF</td>\n      <td>Atlanta Hawks</td>\n      <td>18.671659</td>\n    </tr>\n    <tr>\n      <th>1</th>\n      <td>Al Horford</td>\n      <td>C</td>\n      <td>Atlanta Hawks</td>\n      <td>12.000000</td>\n    </tr>\n  </tbody>\n</table>\n</div>"
     },
     "execution_count": 45,
     "metadata": {},
     "output_type": "execute_result"
    }
   ]
  },
  {
   "cell_type": "code",
   "source": [
    "# Sort nba based on SALARY, ascending=True\n",
    "nba.sort_values(by=[\"SALARY ($M)\"], ascending=True)"
   ],
   "metadata": {
    "id": "UzX21wgEMo9Y",
    "ExecuteTime": {
     "end_time": "2024-04-03T08:46:08.138182Z",
     "start_time": "2024-04-03T08:46:08.131258Z"
    }
   },
   "execution_count": 46,
   "outputs": [
    {
     "data": {
      "text/plain": "                     PLAYER POSITION                 TEAM  SALARY ($M)\n267  Thanasis Antetokounmpo       SF      New York Knicks     0.030888\n327          Cory Jefferson       PF         Phoenix Suns     0.049709\n326            Jordan McRae       SG         Phoenix Suns     0.049709\n324         Orlando Johnson       SG         Phoenix Suns     0.055722\n325            Phil Pressey       PG         Phoenix Suns     0.055722\n..                      ...      ...                  ...          ...\n131           Dwight Howard        C      Houston Rockets    22.359364\n255         Carmelo Anthony       SF      New York Knicks    22.875000\n72             LeBron James       SF  Cleveland Cavaliers    22.970500\n29              Joe Johnson       SF        Brooklyn Nets    24.894863\n169             Kobe Bryant       SF   Los Angeles Lakers    25.000000\n\n[417 rows x 4 columns]",
      "text/html": "<div>\n<style scoped>\n    .dataframe tbody tr th:only-of-type {\n        vertical-align: middle;\n    }\n\n    .dataframe tbody tr th {\n        vertical-align: top;\n    }\n\n    .dataframe thead th {\n        text-align: right;\n    }\n</style>\n<table border=\"1\" class=\"dataframe\">\n  <thead>\n    <tr style=\"text-align: right;\">\n      <th></th>\n      <th>PLAYER</th>\n      <th>POSITION</th>\n      <th>TEAM</th>\n      <th>SALARY ($M)</th>\n    </tr>\n  </thead>\n  <tbody>\n    <tr>\n      <th>267</th>\n      <td>Thanasis Antetokounmpo</td>\n      <td>SF</td>\n      <td>New York Knicks</td>\n      <td>0.030888</td>\n    </tr>\n    <tr>\n      <th>327</th>\n      <td>Cory Jefferson</td>\n      <td>PF</td>\n      <td>Phoenix Suns</td>\n      <td>0.049709</td>\n    </tr>\n    <tr>\n      <th>326</th>\n      <td>Jordan McRae</td>\n      <td>SG</td>\n      <td>Phoenix Suns</td>\n      <td>0.049709</td>\n    </tr>\n    <tr>\n      <th>324</th>\n      <td>Orlando Johnson</td>\n      <td>SG</td>\n      <td>Phoenix Suns</td>\n      <td>0.055722</td>\n    </tr>\n    <tr>\n      <th>325</th>\n      <td>Phil Pressey</td>\n      <td>PG</td>\n      <td>Phoenix Suns</td>\n      <td>0.055722</td>\n    </tr>\n    <tr>\n      <th>...</th>\n      <td>...</td>\n      <td>...</td>\n      <td>...</td>\n      <td>...</td>\n    </tr>\n    <tr>\n      <th>131</th>\n      <td>Dwight Howard</td>\n      <td>C</td>\n      <td>Houston Rockets</td>\n      <td>22.359364</td>\n    </tr>\n    <tr>\n      <th>255</th>\n      <td>Carmelo Anthony</td>\n      <td>SF</td>\n      <td>New York Knicks</td>\n      <td>22.875000</td>\n    </tr>\n    <tr>\n      <th>72</th>\n      <td>LeBron James</td>\n      <td>SF</td>\n      <td>Cleveland Cavaliers</td>\n      <td>22.970500</td>\n    </tr>\n    <tr>\n      <th>29</th>\n      <td>Joe Johnson</td>\n      <td>SF</td>\n      <td>Brooklyn Nets</td>\n      <td>24.894863</td>\n    </tr>\n    <tr>\n      <th>169</th>\n      <td>Kobe Bryant</td>\n      <td>SF</td>\n      <td>Los Angeles Lakers</td>\n      <td>25.000000</td>\n    </tr>\n  </tbody>\n</table>\n<p>417 rows × 4 columns</p>\n</div>"
     },
     "execution_count": 46,
     "metadata": {},
     "output_type": "execute_result"
    }
   ]
  },
  {
   "cell_type": "code",
   "source": [
    "# Sort nba based on SALARY, ascending=False\n",
    "nba.sort_values(by=[\"SALARY ($M)\"], ascending=False)"
   ],
   "metadata": {
    "id": "gkRjfNIfM9Bv",
    "ExecuteTime": {
     "end_time": "2024-04-03T08:46:08.309253Z",
     "start_time": "2024-04-03T08:46:08.301763Z"
    }
   },
   "execution_count": 47,
   "outputs": [
    {
     "data": {
      "text/plain": "                     PLAYER POSITION                 TEAM  SALARY ($M)\n169             Kobe Bryant       SF   Los Angeles Lakers    25.000000\n29              Joe Johnson       SF        Brooklyn Nets    24.894863\n72             LeBron James       SF  Cleveland Cavaliers    22.970500\n255         Carmelo Anthony       SF      New York Knicks    22.875000\n131           Dwight Howard        C      Houston Rockets    22.359364\n..                      ...      ...                  ...          ...\n200         Elliot Williams       SG    Memphis Grizzlies     0.055722\n324         Orlando Johnson       SG         Phoenix Suns     0.055722\n327          Cory Jefferson       PF         Phoenix Suns     0.049709\n326            Jordan McRae       SG         Phoenix Suns     0.049709\n267  Thanasis Antetokounmpo       SF      New York Knicks     0.030888\n\n[417 rows x 4 columns]",
      "text/html": "<div>\n<style scoped>\n    .dataframe tbody tr th:only-of-type {\n        vertical-align: middle;\n    }\n\n    .dataframe tbody tr th {\n        vertical-align: top;\n    }\n\n    .dataframe thead th {\n        text-align: right;\n    }\n</style>\n<table border=\"1\" class=\"dataframe\">\n  <thead>\n    <tr style=\"text-align: right;\">\n      <th></th>\n      <th>PLAYER</th>\n      <th>POSITION</th>\n      <th>TEAM</th>\n      <th>SALARY ($M)</th>\n    </tr>\n  </thead>\n  <tbody>\n    <tr>\n      <th>169</th>\n      <td>Kobe Bryant</td>\n      <td>SF</td>\n      <td>Los Angeles Lakers</td>\n      <td>25.000000</td>\n    </tr>\n    <tr>\n      <th>29</th>\n      <td>Joe Johnson</td>\n      <td>SF</td>\n      <td>Brooklyn Nets</td>\n      <td>24.894863</td>\n    </tr>\n    <tr>\n      <th>72</th>\n      <td>LeBron James</td>\n      <td>SF</td>\n      <td>Cleveland Cavaliers</td>\n      <td>22.970500</td>\n    </tr>\n    <tr>\n      <th>255</th>\n      <td>Carmelo Anthony</td>\n      <td>SF</td>\n      <td>New York Knicks</td>\n      <td>22.875000</td>\n    </tr>\n    <tr>\n      <th>131</th>\n      <td>Dwight Howard</td>\n      <td>C</td>\n      <td>Houston Rockets</td>\n      <td>22.359364</td>\n    </tr>\n    <tr>\n      <th>...</th>\n      <td>...</td>\n      <td>...</td>\n      <td>...</td>\n      <td>...</td>\n    </tr>\n    <tr>\n      <th>200</th>\n      <td>Elliot Williams</td>\n      <td>SG</td>\n      <td>Memphis Grizzlies</td>\n      <td>0.055722</td>\n    </tr>\n    <tr>\n      <th>324</th>\n      <td>Orlando Johnson</td>\n      <td>SG</td>\n      <td>Phoenix Suns</td>\n      <td>0.055722</td>\n    </tr>\n    <tr>\n      <th>327</th>\n      <td>Cory Jefferson</td>\n      <td>PF</td>\n      <td>Phoenix Suns</td>\n      <td>0.049709</td>\n    </tr>\n    <tr>\n      <th>326</th>\n      <td>Jordan McRae</td>\n      <td>SG</td>\n      <td>Phoenix Suns</td>\n      <td>0.049709</td>\n    </tr>\n    <tr>\n      <th>267</th>\n      <td>Thanasis Antetokounmpo</td>\n      <td>SF</td>\n      <td>New York Knicks</td>\n      <td>0.030888</td>\n    </tr>\n  </tbody>\n</table>\n<p>417 rows × 4 columns</p>\n</div>"
     },
     "execution_count": 47,
     "metadata": {},
     "output_type": "execute_result"
    }
   ]
  },
  {
   "cell_type": "code",
   "source": [
    "# Sort nba first by 'TEAM', then by 'SALARY'\n",
    "nba.sort_values(by=['TEAM', 'SALARY ($M)'], ascending=False)"
   ],
   "metadata": {
    "id": "mvWktzgMPJG2",
    "ExecuteTime": {
     "end_time": "2024-04-03T08:46:08.412941Z",
     "start_time": "2024-04-03T08:46:08.403122Z"
    }
   },
   "execution_count": 48,
   "outputs": [
    {
     "data": {
      "text/plain": "               PLAYER POSITION                TEAM  SALARY ($M)\n400         John Wall       PG  Washington Wizards    15.851950\n401      Nene Hilario        C  Washington Wizards    13.000000\n402     Marcin Gortat        C  Washington Wizards    11.217391\n403   Markieff Morris       PF  Washington Wizards     8.000000\n404      Bradley Beal       SG  Washington Wizards     5.694674\n..                ...      ...                 ...          ...\n9    Tim Hardaway Jr.       SG       Atlanta Hawks     1.304520\n10     Walter Tavares        C       Atlanta Hawks     1.000000\n11   Jason Richardson       SG       Atlanta Hawks     0.947276\n12    Lamar Patterson       SG       Atlanta Hawks     0.525093\n13    Terran Petteway       SG       Atlanta Hawks     0.525093\n\n[417 rows x 4 columns]",
      "text/html": "<div>\n<style scoped>\n    .dataframe tbody tr th:only-of-type {\n        vertical-align: middle;\n    }\n\n    .dataframe tbody tr th {\n        vertical-align: top;\n    }\n\n    .dataframe thead th {\n        text-align: right;\n    }\n</style>\n<table border=\"1\" class=\"dataframe\">\n  <thead>\n    <tr style=\"text-align: right;\">\n      <th></th>\n      <th>PLAYER</th>\n      <th>POSITION</th>\n      <th>TEAM</th>\n      <th>SALARY ($M)</th>\n    </tr>\n  </thead>\n  <tbody>\n    <tr>\n      <th>400</th>\n      <td>John Wall</td>\n      <td>PG</td>\n      <td>Washington Wizards</td>\n      <td>15.851950</td>\n    </tr>\n    <tr>\n      <th>401</th>\n      <td>Nene Hilario</td>\n      <td>C</td>\n      <td>Washington Wizards</td>\n      <td>13.000000</td>\n    </tr>\n    <tr>\n      <th>402</th>\n      <td>Marcin Gortat</td>\n      <td>C</td>\n      <td>Washington Wizards</td>\n      <td>11.217391</td>\n    </tr>\n    <tr>\n      <th>403</th>\n      <td>Markieff Morris</td>\n      <td>PF</td>\n      <td>Washington Wizards</td>\n      <td>8.000000</td>\n    </tr>\n    <tr>\n      <th>404</th>\n      <td>Bradley Beal</td>\n      <td>SG</td>\n      <td>Washington Wizards</td>\n      <td>5.694674</td>\n    </tr>\n    <tr>\n      <th>...</th>\n      <td>...</td>\n      <td>...</td>\n      <td>...</td>\n      <td>...</td>\n    </tr>\n    <tr>\n      <th>9</th>\n      <td>Tim Hardaway Jr.</td>\n      <td>SG</td>\n      <td>Atlanta Hawks</td>\n      <td>1.304520</td>\n    </tr>\n    <tr>\n      <th>10</th>\n      <td>Walter Tavares</td>\n      <td>C</td>\n      <td>Atlanta Hawks</td>\n      <td>1.000000</td>\n    </tr>\n    <tr>\n      <th>11</th>\n      <td>Jason Richardson</td>\n      <td>SG</td>\n      <td>Atlanta Hawks</td>\n      <td>0.947276</td>\n    </tr>\n    <tr>\n      <th>12</th>\n      <td>Lamar Patterson</td>\n      <td>SG</td>\n      <td>Atlanta Hawks</td>\n      <td>0.525093</td>\n    </tr>\n    <tr>\n      <th>13</th>\n      <td>Terran Petteway</td>\n      <td>SG</td>\n      <td>Atlanta Hawks</td>\n      <td>0.525093</td>\n    </tr>\n  </tbody>\n</table>\n<p>417 rows × 4 columns</p>\n</div>"
     },
     "execution_count": 48,
     "metadata": {},
     "output_type": "execute_result"
    }
   ]
  },
  {
   "cell_type": "markdown",
   "source": [
    "# Chapter 6 Tables (Pandas ver.)"
   ],
   "metadata": {
    "id": "Ylon21BdN6Yz"
   }
  },
  {
   "cell_type": "markdown",
   "source": [
    "## Creating DataFrame revisited"
   ],
   "metadata": {
    "id": "DStXzYQvfJe_"
   }
  },
  {
   "cell_type": "code",
   "source": [
    "import numpy as np"
   ],
   "metadata": {
    "id": "Rl1jiLxKfphl",
    "ExecuteTime": {
     "end_time": "2024-04-03T08:46:08.597397Z",
     "start_time": "2024-04-03T08:46:08.594814Z"
    }
   },
   "execution_count": 49,
   "outputs": []
  },
  {
   "cell_type": "code",
   "source": [
    "pd.DataFrame()"
   ],
   "metadata": {
    "id": "PSaQ1jeifIbS",
    "ExecuteTime": {
     "end_time": "2024-04-03T08:46:08.754826Z",
     "start_time": "2024-04-03T08:46:08.749024Z"
    }
   },
   "execution_count": 50,
   "outputs": [
    {
     "data": {
      "text/plain": "Empty DataFrame\nColumns: []\nIndex: []",
      "text/html": "<div>\n<style scoped>\n    .dataframe tbody tr th:only-of-type {\n        vertical-align: middle;\n    }\n\n    .dataframe tbody tr th {\n        vertical-align: top;\n    }\n\n    .dataframe thead th {\n        text-align: right;\n    }\n</style>\n<table border=\"1\" class=\"dataframe\">\n  <thead>\n    <tr style=\"text-align: right;\">\n      <th></th>\n    </tr>\n  </thead>\n  <tbody>\n  </tbody>\n</table>\n</div>"
     },
     "execution_count": 50,
     "metadata": {},
     "output_type": "execute_result"
    }
   ]
  },
  {
   "cell_type": "code",
   "source": [
    "pd.DataFrame(data=np.array([8, 34, 5]), columns=['Number of petals'])"
   ],
   "metadata": {
    "id": "LRzCW-0ie9xA",
    "ExecuteTime": {
     "end_time": "2024-04-03T08:46:08.944062Z",
     "start_time": "2024-04-03T08:46:08.938134Z"
    }
   },
   "execution_count": 51,
   "outputs": [
    {
     "data": {
      "text/plain": "   Number of petals\n0                 8\n1                34\n2                 5",
      "text/html": "<div>\n<style scoped>\n    .dataframe tbody tr th:only-of-type {\n        vertical-align: middle;\n    }\n\n    .dataframe tbody tr th {\n        vertical-align: top;\n    }\n\n    .dataframe thead th {\n        text-align: right;\n    }\n</style>\n<table border=\"1\" class=\"dataframe\">\n  <thead>\n    <tr style=\"text-align: right;\">\n      <th></th>\n      <th>Number of petals</th>\n    </tr>\n  </thead>\n  <tbody>\n    <tr>\n      <th>0</th>\n      <td>8</td>\n    </tr>\n    <tr>\n      <th>1</th>\n      <td>34</td>\n    </tr>\n    <tr>\n      <th>2</th>\n      <td>5</td>\n    </tr>\n  </tbody>\n</table>\n</div>"
     },
     "execution_count": 51,
     "metadata": {},
     "output_type": "execute_result"
    }
   ]
  },
  {
   "cell_type": "code",
   "source": [
    "pd.DataFrame({'Number of petals': np.array([8, 34, 5]),\n",
    "              'Name': np.array(['lotus', 'sunflower', 'rose'])})"
   ],
   "metadata": {
    "id": "wNI4Pncift80",
    "ExecuteTime": {
     "end_time": "2024-04-03T08:46:09.017433Z",
     "start_time": "2024-04-03T08:46:09.012547Z"
    }
   },
   "execution_count": 52,
   "outputs": [
    {
     "data": {
      "text/plain": "   Number of petals       Name\n0                 8      lotus\n1                34  sunflower\n2                 5       rose",
      "text/html": "<div>\n<style scoped>\n    .dataframe tbody tr th:only-of-type {\n        vertical-align: middle;\n    }\n\n    .dataframe tbody tr th {\n        vertical-align: top;\n    }\n\n    .dataframe thead th {\n        text-align: right;\n    }\n</style>\n<table border=\"1\" class=\"dataframe\">\n  <thead>\n    <tr style=\"text-align: right;\">\n      <th></th>\n      <th>Number of petals</th>\n      <th>Name</th>\n    </tr>\n  </thead>\n  <tbody>\n    <tr>\n      <th>0</th>\n      <td>8</td>\n      <td>lotus</td>\n    </tr>\n    <tr>\n      <th>1</th>\n      <td>34</td>\n      <td>sunflower</td>\n    </tr>\n    <tr>\n      <th>2</th>\n      <td>5</td>\n      <td>rose</td>\n    </tr>\n  </tbody>\n</table>\n</div>"
     },
     "execution_count": 52,
     "metadata": {},
     "output_type": "execute_result"
    }
   ]
  },
  {
   "cell_type": "markdown",
   "source": [
    "### Adding a new column to an existing DataFrame"
   ],
   "metadata": {
    "id": "-fUkRzoXfzsZ"
   }
  },
  {
   "cell_type": "code",
   "source": [
    "flowers = pd.DataFrame({'Number of petals': np.array([8, 34, 5]),\n",
    "                        'Name': np.array(['lotus', 'sunflower', 'rose'])})\n",
    "flowers['Color'] = np.array(['pink', 'yellow', 'red'])\n",
    "flowers"
   ],
   "metadata": {
    "id": "Y3R8QO3hf3FB",
    "ExecuteTime": {
     "end_time": "2024-04-03T08:46:09.181050Z",
     "start_time": "2024-04-03T08:46:09.170651Z"
    }
   },
   "execution_count": 53,
   "outputs": [
    {
     "data": {
      "text/plain": "   Number of petals       Name   Color\n0                 8      lotus    pink\n1                34  sunflower  yellow\n2                 5       rose     red",
      "text/html": "<div>\n<style scoped>\n    .dataframe tbody tr th:only-of-type {\n        vertical-align: middle;\n    }\n\n    .dataframe tbody tr th {\n        vertical-align: top;\n    }\n\n    .dataframe thead th {\n        text-align: right;\n    }\n</style>\n<table border=\"1\" class=\"dataframe\">\n  <thead>\n    <tr style=\"text-align: right;\">\n      <th></th>\n      <th>Number of petals</th>\n      <th>Name</th>\n      <th>Color</th>\n    </tr>\n  </thead>\n  <tbody>\n    <tr>\n      <th>0</th>\n      <td>8</td>\n      <td>lotus</td>\n      <td>pink</td>\n    </tr>\n    <tr>\n      <th>1</th>\n      <td>34</td>\n      <td>sunflower</td>\n      <td>yellow</td>\n    </tr>\n    <tr>\n      <th>2</th>\n      <td>5</td>\n      <td>rose</td>\n      <td>red</td>\n    </tr>\n  </tbody>\n</table>\n</div>"
     },
     "execution_count": 53,
     "metadata": {},
     "output_type": "execute_result"
    }
   ]
  },
  {
   "cell_type": "markdown",
   "source": [
    "### minard data"
   ],
   "metadata": {
    "id": "ZzCVUF1iiUdK"
   }
  },
  {
   "cell_type": "code",
   "source": [
    "# Read CSV\n",
    "minard_cities = pd.read_csv('https://vincentarelbundock.github.io/Rdatasets/csv/HistData/Minard.cities.csv')\n",
    "minard_temp = pd.read_csv('https://vincentarelbundock.github.io/Rdatasets/csv/HistData/Minard.temp.csv')\n",
    "minard_troops = pd.read_csv('https://vincentarelbundock.github.io/Rdatasets/csv/HistData/Minard.troops.csv')"
   ],
   "metadata": {
    "id": "2LiegVHjh2Cl",
    "ExecuteTime": {
     "end_time": "2024-04-03T08:46:09.575240Z",
     "start_time": "2024-04-03T08:46:09.289907Z"
    }
   },
   "execution_count": 54,
   "outputs": [
    {
     "ename": "URLError",
     "evalue": "<urlopen error [SSL: CERTIFICATE_VERIFY_FAILED] certificate verify failed: unable to get local issuer certificate (_ssl.c:1000)>",
     "output_type": "error",
     "traceback": [
      "\u001B[0;31m---------------------------------------------------------------------------\u001B[0m",
      "\u001B[0;31mSSLCertVerificationError\u001B[0m                  Traceback (most recent call last)",
      "File \u001B[0;32m/Library/Frameworks/Python.framework/Versions/3.12/lib/python3.12/urllib/request.py:1344\u001B[0m, in \u001B[0;36mAbstractHTTPHandler.do_open\u001B[0;34m(self, http_class, req, **http_conn_args)\u001B[0m\n\u001B[1;32m   1343\u001B[0m \u001B[38;5;28;01mtry\u001B[39;00m:\n\u001B[0;32m-> 1344\u001B[0m     \u001B[43mh\u001B[49m\u001B[38;5;241;43m.\u001B[39;49m\u001B[43mrequest\u001B[49m\u001B[43m(\u001B[49m\u001B[43mreq\u001B[49m\u001B[38;5;241;43m.\u001B[39;49m\u001B[43mget_method\u001B[49m\u001B[43m(\u001B[49m\u001B[43m)\u001B[49m\u001B[43m,\u001B[49m\u001B[43m \u001B[49m\u001B[43mreq\u001B[49m\u001B[38;5;241;43m.\u001B[39;49m\u001B[43mselector\u001B[49m\u001B[43m,\u001B[49m\u001B[43m \u001B[49m\u001B[43mreq\u001B[49m\u001B[38;5;241;43m.\u001B[39;49m\u001B[43mdata\u001B[49m\u001B[43m,\u001B[49m\u001B[43m \u001B[49m\u001B[43mheaders\u001B[49m\u001B[43m,\u001B[49m\n\u001B[1;32m   1345\u001B[0m \u001B[43m              \u001B[49m\u001B[43mencode_chunked\u001B[49m\u001B[38;5;241;43m=\u001B[39;49m\u001B[43mreq\u001B[49m\u001B[38;5;241;43m.\u001B[39;49m\u001B[43mhas_header\u001B[49m\u001B[43m(\u001B[49m\u001B[38;5;124;43m'\u001B[39;49m\u001B[38;5;124;43mTransfer-encoding\u001B[39;49m\u001B[38;5;124;43m'\u001B[39;49m\u001B[43m)\u001B[49m\u001B[43m)\u001B[49m\n\u001B[1;32m   1346\u001B[0m \u001B[38;5;28;01mexcept\u001B[39;00m \u001B[38;5;167;01mOSError\u001B[39;00m \u001B[38;5;28;01mas\u001B[39;00m err: \u001B[38;5;66;03m# timeout error\u001B[39;00m\n",
      "File \u001B[0;32m/Library/Frameworks/Python.framework/Versions/3.12/lib/python3.12/http/client.py:1319\u001B[0m, in \u001B[0;36mHTTPConnection.request\u001B[0;34m(self, method, url, body, headers, encode_chunked)\u001B[0m\n\u001B[1;32m   1318\u001B[0m \u001B[38;5;250m\u001B[39m\u001B[38;5;124;03m\"\"\"Send a complete request to the server.\"\"\"\u001B[39;00m\n\u001B[0;32m-> 1319\u001B[0m \u001B[38;5;28;43mself\u001B[39;49m\u001B[38;5;241;43m.\u001B[39;49m\u001B[43m_send_request\u001B[49m\u001B[43m(\u001B[49m\u001B[43mmethod\u001B[49m\u001B[43m,\u001B[49m\u001B[43m \u001B[49m\u001B[43murl\u001B[49m\u001B[43m,\u001B[49m\u001B[43m \u001B[49m\u001B[43mbody\u001B[49m\u001B[43m,\u001B[49m\u001B[43m \u001B[49m\u001B[43mheaders\u001B[49m\u001B[43m,\u001B[49m\u001B[43m \u001B[49m\u001B[43mencode_chunked\u001B[49m\u001B[43m)\u001B[49m\n",
      "File \u001B[0;32m/Library/Frameworks/Python.framework/Versions/3.12/lib/python3.12/http/client.py:1365\u001B[0m, in \u001B[0;36mHTTPConnection._send_request\u001B[0;34m(self, method, url, body, headers, encode_chunked)\u001B[0m\n\u001B[1;32m   1364\u001B[0m     body \u001B[38;5;241m=\u001B[39m _encode(body, \u001B[38;5;124m'\u001B[39m\u001B[38;5;124mbody\u001B[39m\u001B[38;5;124m'\u001B[39m)\n\u001B[0;32m-> 1365\u001B[0m \u001B[38;5;28;43mself\u001B[39;49m\u001B[38;5;241;43m.\u001B[39;49m\u001B[43mendheaders\u001B[49m\u001B[43m(\u001B[49m\u001B[43mbody\u001B[49m\u001B[43m,\u001B[49m\u001B[43m \u001B[49m\u001B[43mencode_chunked\u001B[49m\u001B[38;5;241;43m=\u001B[39;49m\u001B[43mencode_chunked\u001B[49m\u001B[43m)\u001B[49m\n",
      "File \u001B[0;32m/Library/Frameworks/Python.framework/Versions/3.12/lib/python3.12/http/client.py:1314\u001B[0m, in \u001B[0;36mHTTPConnection.endheaders\u001B[0;34m(self, message_body, encode_chunked)\u001B[0m\n\u001B[1;32m   1313\u001B[0m     \u001B[38;5;28;01mraise\u001B[39;00m CannotSendHeader()\n\u001B[0;32m-> 1314\u001B[0m \u001B[38;5;28;43mself\u001B[39;49m\u001B[38;5;241;43m.\u001B[39;49m\u001B[43m_send_output\u001B[49m\u001B[43m(\u001B[49m\u001B[43mmessage_body\u001B[49m\u001B[43m,\u001B[49m\u001B[43m \u001B[49m\u001B[43mencode_chunked\u001B[49m\u001B[38;5;241;43m=\u001B[39;49m\u001B[43mencode_chunked\u001B[49m\u001B[43m)\u001B[49m\n",
      "File \u001B[0;32m/Library/Frameworks/Python.framework/Versions/3.12/lib/python3.12/http/client.py:1074\u001B[0m, in \u001B[0;36mHTTPConnection._send_output\u001B[0;34m(self, message_body, encode_chunked)\u001B[0m\n\u001B[1;32m   1073\u001B[0m \u001B[38;5;28;01mdel\u001B[39;00m \u001B[38;5;28mself\u001B[39m\u001B[38;5;241m.\u001B[39m_buffer[:]\n\u001B[0;32m-> 1074\u001B[0m \u001B[38;5;28;43mself\u001B[39;49m\u001B[38;5;241;43m.\u001B[39;49m\u001B[43msend\u001B[49m\u001B[43m(\u001B[49m\u001B[43mmsg\u001B[49m\u001B[43m)\u001B[49m\n\u001B[1;32m   1076\u001B[0m \u001B[38;5;28;01mif\u001B[39;00m message_body \u001B[38;5;129;01mis\u001B[39;00m \u001B[38;5;129;01mnot\u001B[39;00m \u001B[38;5;28;01mNone\u001B[39;00m:\n\u001B[1;32m   1077\u001B[0m \n\u001B[1;32m   1078\u001B[0m     \u001B[38;5;66;03m# create a consistent interface to message_body\u001B[39;00m\n",
      "File \u001B[0;32m/Library/Frameworks/Python.framework/Versions/3.12/lib/python3.12/http/client.py:1018\u001B[0m, in \u001B[0;36mHTTPConnection.send\u001B[0;34m(self, data)\u001B[0m\n\u001B[1;32m   1017\u001B[0m \u001B[38;5;28;01mif\u001B[39;00m \u001B[38;5;28mself\u001B[39m\u001B[38;5;241m.\u001B[39mauto_open:\n\u001B[0;32m-> 1018\u001B[0m     \u001B[38;5;28;43mself\u001B[39;49m\u001B[38;5;241;43m.\u001B[39;49m\u001B[43mconnect\u001B[49m\u001B[43m(\u001B[49m\u001B[43m)\u001B[49m\n\u001B[1;32m   1019\u001B[0m \u001B[38;5;28;01melse\u001B[39;00m:\n",
      "File \u001B[0;32m/Library/Frameworks/Python.framework/Versions/3.12/lib/python3.12/http/client.py:1460\u001B[0m, in \u001B[0;36mHTTPSConnection.connect\u001B[0;34m(self)\u001B[0m\n\u001B[1;32m   1458\u001B[0m     server_hostname \u001B[38;5;241m=\u001B[39m \u001B[38;5;28mself\u001B[39m\u001B[38;5;241m.\u001B[39mhost\n\u001B[0;32m-> 1460\u001B[0m \u001B[38;5;28mself\u001B[39m\u001B[38;5;241m.\u001B[39msock \u001B[38;5;241m=\u001B[39m \u001B[38;5;28;43mself\u001B[39;49m\u001B[38;5;241;43m.\u001B[39;49m\u001B[43m_context\u001B[49m\u001B[38;5;241;43m.\u001B[39;49m\u001B[43mwrap_socket\u001B[49m\u001B[43m(\u001B[49m\u001B[38;5;28;43mself\u001B[39;49m\u001B[38;5;241;43m.\u001B[39;49m\u001B[43msock\u001B[49m\u001B[43m,\u001B[49m\n\u001B[1;32m   1461\u001B[0m \u001B[43m                                      \u001B[49m\u001B[43mserver_hostname\u001B[49m\u001B[38;5;241;43m=\u001B[39;49m\u001B[43mserver_hostname\u001B[49m\u001B[43m)\u001B[49m\n",
      "File \u001B[0;32m/Library/Frameworks/Python.framework/Versions/3.12/lib/python3.12/ssl.py:455\u001B[0m, in \u001B[0;36mSSLContext.wrap_socket\u001B[0;34m(self, sock, server_side, do_handshake_on_connect, suppress_ragged_eofs, server_hostname, session)\u001B[0m\n\u001B[1;32m    449\u001B[0m \u001B[38;5;28;01mdef\u001B[39;00m \u001B[38;5;21mwrap_socket\u001B[39m(\u001B[38;5;28mself\u001B[39m, sock, server_side\u001B[38;5;241m=\u001B[39m\u001B[38;5;28;01mFalse\u001B[39;00m,\n\u001B[1;32m    450\u001B[0m                 do_handshake_on_connect\u001B[38;5;241m=\u001B[39m\u001B[38;5;28;01mTrue\u001B[39;00m,\n\u001B[1;32m    451\u001B[0m                 suppress_ragged_eofs\u001B[38;5;241m=\u001B[39m\u001B[38;5;28;01mTrue\u001B[39;00m,\n\u001B[1;32m    452\u001B[0m                 server_hostname\u001B[38;5;241m=\u001B[39m\u001B[38;5;28;01mNone\u001B[39;00m, session\u001B[38;5;241m=\u001B[39m\u001B[38;5;28;01mNone\u001B[39;00m):\n\u001B[1;32m    453\u001B[0m     \u001B[38;5;66;03m# SSLSocket class handles server_hostname encoding before it calls\u001B[39;00m\n\u001B[1;32m    454\u001B[0m     \u001B[38;5;66;03m# ctx._wrap_socket()\u001B[39;00m\n\u001B[0;32m--> 455\u001B[0m     \u001B[38;5;28;01mreturn\u001B[39;00m \u001B[38;5;28;43mself\u001B[39;49m\u001B[38;5;241;43m.\u001B[39;49m\u001B[43msslsocket_class\u001B[49m\u001B[38;5;241;43m.\u001B[39;49m\u001B[43m_create\u001B[49m\u001B[43m(\u001B[49m\n\u001B[1;32m    456\u001B[0m \u001B[43m        \u001B[49m\u001B[43msock\u001B[49m\u001B[38;5;241;43m=\u001B[39;49m\u001B[43msock\u001B[49m\u001B[43m,\u001B[49m\n\u001B[1;32m    457\u001B[0m \u001B[43m        \u001B[49m\u001B[43mserver_side\u001B[49m\u001B[38;5;241;43m=\u001B[39;49m\u001B[43mserver_side\u001B[49m\u001B[43m,\u001B[49m\n\u001B[1;32m    458\u001B[0m \u001B[43m        \u001B[49m\u001B[43mdo_handshake_on_connect\u001B[49m\u001B[38;5;241;43m=\u001B[39;49m\u001B[43mdo_handshake_on_connect\u001B[49m\u001B[43m,\u001B[49m\n\u001B[1;32m    459\u001B[0m \u001B[43m        \u001B[49m\u001B[43msuppress_ragged_eofs\u001B[49m\u001B[38;5;241;43m=\u001B[39;49m\u001B[43msuppress_ragged_eofs\u001B[49m\u001B[43m,\u001B[49m\n\u001B[1;32m    460\u001B[0m \u001B[43m        \u001B[49m\u001B[43mserver_hostname\u001B[49m\u001B[38;5;241;43m=\u001B[39;49m\u001B[43mserver_hostname\u001B[49m\u001B[43m,\u001B[49m\n\u001B[1;32m    461\u001B[0m \u001B[43m        \u001B[49m\u001B[43mcontext\u001B[49m\u001B[38;5;241;43m=\u001B[39;49m\u001B[38;5;28;43mself\u001B[39;49m\u001B[43m,\u001B[49m\n\u001B[1;32m    462\u001B[0m \u001B[43m        \u001B[49m\u001B[43msession\u001B[49m\u001B[38;5;241;43m=\u001B[39;49m\u001B[43msession\u001B[49m\n\u001B[1;32m    463\u001B[0m \u001B[43m    \u001B[49m\u001B[43m)\u001B[49m\n",
      "File \u001B[0;32m/Library/Frameworks/Python.framework/Versions/3.12/lib/python3.12/ssl.py:1046\u001B[0m, in \u001B[0;36mSSLSocket._create\u001B[0;34m(cls, sock, server_side, do_handshake_on_connect, suppress_ragged_eofs, server_hostname, context, session)\u001B[0m\n\u001B[1;32m   1045\u001B[0m             \u001B[38;5;28;01mraise\u001B[39;00m \u001B[38;5;167;01mValueError\u001B[39;00m(\u001B[38;5;124m\"\u001B[39m\u001B[38;5;124mdo_handshake_on_connect should not be specified for non-blocking sockets\u001B[39m\u001B[38;5;124m\"\u001B[39m)\n\u001B[0;32m-> 1046\u001B[0m         \u001B[38;5;28;43mself\u001B[39;49m\u001B[38;5;241;43m.\u001B[39;49m\u001B[43mdo_handshake\u001B[49m\u001B[43m(\u001B[49m\u001B[43m)\u001B[49m\n\u001B[1;32m   1047\u001B[0m \u001B[38;5;28;01mexcept\u001B[39;00m (\u001B[38;5;167;01mOSError\u001B[39;00m, \u001B[38;5;167;01mValueError\u001B[39;00m):\n",
      "File \u001B[0;32m/Library/Frameworks/Python.framework/Versions/3.12/lib/python3.12/ssl.py:1317\u001B[0m, in \u001B[0;36mSSLSocket.do_handshake\u001B[0;34m(self, block)\u001B[0m\n\u001B[1;32m   1316\u001B[0m         \u001B[38;5;28mself\u001B[39m\u001B[38;5;241m.\u001B[39msettimeout(\u001B[38;5;28;01mNone\u001B[39;00m)\n\u001B[0;32m-> 1317\u001B[0m     \u001B[38;5;28;43mself\u001B[39;49m\u001B[38;5;241;43m.\u001B[39;49m\u001B[43m_sslobj\u001B[49m\u001B[38;5;241;43m.\u001B[39;49m\u001B[43mdo_handshake\u001B[49m\u001B[43m(\u001B[49m\u001B[43m)\u001B[49m\n\u001B[1;32m   1318\u001B[0m \u001B[38;5;28;01mfinally\u001B[39;00m:\n",
      "\u001B[0;31mSSLCertVerificationError\u001B[0m: [SSL: CERTIFICATE_VERIFY_FAILED] certificate verify failed: unable to get local issuer certificate (_ssl.c:1000)",
      "\nDuring handling of the above exception, another exception occurred:\n",
      "\u001B[0;31mURLError\u001B[0m                                  Traceback (most recent call last)",
      "Cell \u001B[0;32mIn[54], line 2\u001B[0m\n\u001B[1;32m      1\u001B[0m \u001B[38;5;66;03m# Read CSV\u001B[39;00m\n\u001B[0;32m----> 2\u001B[0m minard_cities \u001B[38;5;241m=\u001B[39m \u001B[43mpd\u001B[49m\u001B[38;5;241;43m.\u001B[39;49m\u001B[43mread_csv\u001B[49m\u001B[43m(\u001B[49m\u001B[38;5;124;43m'\u001B[39;49m\u001B[38;5;124;43mhttps://vincentarelbundock.github.io/Rdatasets/csv/HistData/Minard.cities.csv\u001B[39;49m\u001B[38;5;124;43m'\u001B[39;49m\u001B[43m)\u001B[49m\n\u001B[1;32m      3\u001B[0m minard_temp \u001B[38;5;241m=\u001B[39m pd\u001B[38;5;241m.\u001B[39mread_csv(\u001B[38;5;124m'\u001B[39m\u001B[38;5;124mhttps://vincentarelbundock.github.io/Rdatasets/csv/HistData/Minard.temp.csv\u001B[39m\u001B[38;5;124m'\u001B[39m)\n\u001B[1;32m      4\u001B[0m minard_troops \u001B[38;5;241m=\u001B[39m pd\u001B[38;5;241m.\u001B[39mread_csv(\u001B[38;5;124m'\u001B[39m\u001B[38;5;124mhttps://vincentarelbundock.github.io/Rdatasets/csv/HistData/Minard.troops.csv\u001B[39m\u001B[38;5;124m'\u001B[39m)\n",
      "File \u001B[0;32m~/Library/CloudStorage/OneDrive-pusan.ac.kr/2024_Spring/Introduction_To_Data_Science/.venv/lib/python3.12/site-packages/pandas/io/parsers/readers.py:1026\u001B[0m, in \u001B[0;36mread_csv\u001B[0;34m(filepath_or_buffer, sep, delimiter, header, names, index_col, usecols, dtype, engine, converters, true_values, false_values, skipinitialspace, skiprows, skipfooter, nrows, na_values, keep_default_na, na_filter, verbose, skip_blank_lines, parse_dates, infer_datetime_format, keep_date_col, date_parser, date_format, dayfirst, cache_dates, iterator, chunksize, compression, thousands, decimal, lineterminator, quotechar, quoting, doublequote, escapechar, comment, encoding, encoding_errors, dialect, on_bad_lines, delim_whitespace, low_memory, memory_map, float_precision, storage_options, dtype_backend)\u001B[0m\n\u001B[1;32m   1013\u001B[0m kwds_defaults \u001B[38;5;241m=\u001B[39m _refine_defaults_read(\n\u001B[1;32m   1014\u001B[0m     dialect,\n\u001B[1;32m   1015\u001B[0m     delimiter,\n\u001B[0;32m   (...)\u001B[0m\n\u001B[1;32m   1022\u001B[0m     dtype_backend\u001B[38;5;241m=\u001B[39mdtype_backend,\n\u001B[1;32m   1023\u001B[0m )\n\u001B[1;32m   1024\u001B[0m kwds\u001B[38;5;241m.\u001B[39mupdate(kwds_defaults)\n\u001B[0;32m-> 1026\u001B[0m \u001B[38;5;28;01mreturn\u001B[39;00m \u001B[43m_read\u001B[49m\u001B[43m(\u001B[49m\u001B[43mfilepath_or_buffer\u001B[49m\u001B[43m,\u001B[49m\u001B[43m \u001B[49m\u001B[43mkwds\u001B[49m\u001B[43m)\u001B[49m\n",
      "File \u001B[0;32m~/Library/CloudStorage/OneDrive-pusan.ac.kr/2024_Spring/Introduction_To_Data_Science/.venv/lib/python3.12/site-packages/pandas/io/parsers/readers.py:620\u001B[0m, in \u001B[0;36m_read\u001B[0;34m(filepath_or_buffer, kwds)\u001B[0m\n\u001B[1;32m    617\u001B[0m _validate_names(kwds\u001B[38;5;241m.\u001B[39mget(\u001B[38;5;124m\"\u001B[39m\u001B[38;5;124mnames\u001B[39m\u001B[38;5;124m\"\u001B[39m, \u001B[38;5;28;01mNone\u001B[39;00m))\n\u001B[1;32m    619\u001B[0m \u001B[38;5;66;03m# Create the parser.\u001B[39;00m\n\u001B[0;32m--> 620\u001B[0m parser \u001B[38;5;241m=\u001B[39m \u001B[43mTextFileReader\u001B[49m\u001B[43m(\u001B[49m\u001B[43mfilepath_or_buffer\u001B[49m\u001B[43m,\u001B[49m\u001B[43m \u001B[49m\u001B[38;5;241;43m*\u001B[39;49m\u001B[38;5;241;43m*\u001B[39;49m\u001B[43mkwds\u001B[49m\u001B[43m)\u001B[49m\n\u001B[1;32m    622\u001B[0m \u001B[38;5;28;01mif\u001B[39;00m chunksize \u001B[38;5;129;01mor\u001B[39;00m iterator:\n\u001B[1;32m    623\u001B[0m     \u001B[38;5;28;01mreturn\u001B[39;00m parser\n",
      "File \u001B[0;32m~/Library/CloudStorage/OneDrive-pusan.ac.kr/2024_Spring/Introduction_To_Data_Science/.venv/lib/python3.12/site-packages/pandas/io/parsers/readers.py:1620\u001B[0m, in \u001B[0;36mTextFileReader.__init__\u001B[0;34m(self, f, engine, **kwds)\u001B[0m\n\u001B[1;32m   1617\u001B[0m     \u001B[38;5;28mself\u001B[39m\u001B[38;5;241m.\u001B[39moptions[\u001B[38;5;124m\"\u001B[39m\u001B[38;5;124mhas_index_names\u001B[39m\u001B[38;5;124m\"\u001B[39m] \u001B[38;5;241m=\u001B[39m kwds[\u001B[38;5;124m\"\u001B[39m\u001B[38;5;124mhas_index_names\u001B[39m\u001B[38;5;124m\"\u001B[39m]\n\u001B[1;32m   1619\u001B[0m \u001B[38;5;28mself\u001B[39m\u001B[38;5;241m.\u001B[39mhandles: IOHandles \u001B[38;5;241m|\u001B[39m \u001B[38;5;28;01mNone\u001B[39;00m \u001B[38;5;241m=\u001B[39m \u001B[38;5;28;01mNone\u001B[39;00m\n\u001B[0;32m-> 1620\u001B[0m \u001B[38;5;28mself\u001B[39m\u001B[38;5;241m.\u001B[39m_engine \u001B[38;5;241m=\u001B[39m \u001B[38;5;28;43mself\u001B[39;49m\u001B[38;5;241;43m.\u001B[39;49m\u001B[43m_make_engine\u001B[49m\u001B[43m(\u001B[49m\u001B[43mf\u001B[49m\u001B[43m,\u001B[49m\u001B[43m \u001B[49m\u001B[38;5;28;43mself\u001B[39;49m\u001B[38;5;241;43m.\u001B[39;49m\u001B[43mengine\u001B[49m\u001B[43m)\u001B[49m\n",
      "File \u001B[0;32m~/Library/CloudStorage/OneDrive-pusan.ac.kr/2024_Spring/Introduction_To_Data_Science/.venv/lib/python3.12/site-packages/pandas/io/parsers/readers.py:1880\u001B[0m, in \u001B[0;36mTextFileReader._make_engine\u001B[0;34m(self, f, engine)\u001B[0m\n\u001B[1;32m   1878\u001B[0m     \u001B[38;5;28;01mif\u001B[39;00m \u001B[38;5;124m\"\u001B[39m\u001B[38;5;124mb\u001B[39m\u001B[38;5;124m\"\u001B[39m \u001B[38;5;129;01mnot\u001B[39;00m \u001B[38;5;129;01min\u001B[39;00m mode:\n\u001B[1;32m   1879\u001B[0m         mode \u001B[38;5;241m+\u001B[39m\u001B[38;5;241m=\u001B[39m \u001B[38;5;124m\"\u001B[39m\u001B[38;5;124mb\u001B[39m\u001B[38;5;124m\"\u001B[39m\n\u001B[0;32m-> 1880\u001B[0m \u001B[38;5;28mself\u001B[39m\u001B[38;5;241m.\u001B[39mhandles \u001B[38;5;241m=\u001B[39m \u001B[43mget_handle\u001B[49m\u001B[43m(\u001B[49m\n\u001B[1;32m   1881\u001B[0m \u001B[43m    \u001B[49m\u001B[43mf\u001B[49m\u001B[43m,\u001B[49m\n\u001B[1;32m   1882\u001B[0m \u001B[43m    \u001B[49m\u001B[43mmode\u001B[49m\u001B[43m,\u001B[49m\n\u001B[1;32m   1883\u001B[0m \u001B[43m    \u001B[49m\u001B[43mencoding\u001B[49m\u001B[38;5;241;43m=\u001B[39;49m\u001B[38;5;28;43mself\u001B[39;49m\u001B[38;5;241;43m.\u001B[39;49m\u001B[43moptions\u001B[49m\u001B[38;5;241;43m.\u001B[39;49m\u001B[43mget\u001B[49m\u001B[43m(\u001B[49m\u001B[38;5;124;43m\"\u001B[39;49m\u001B[38;5;124;43mencoding\u001B[39;49m\u001B[38;5;124;43m\"\u001B[39;49m\u001B[43m,\u001B[49m\u001B[43m \u001B[49m\u001B[38;5;28;43;01mNone\u001B[39;49;00m\u001B[43m)\u001B[49m\u001B[43m,\u001B[49m\n\u001B[1;32m   1884\u001B[0m \u001B[43m    \u001B[49m\u001B[43mcompression\u001B[49m\u001B[38;5;241;43m=\u001B[39;49m\u001B[38;5;28;43mself\u001B[39;49m\u001B[38;5;241;43m.\u001B[39;49m\u001B[43moptions\u001B[49m\u001B[38;5;241;43m.\u001B[39;49m\u001B[43mget\u001B[49m\u001B[43m(\u001B[49m\u001B[38;5;124;43m\"\u001B[39;49m\u001B[38;5;124;43mcompression\u001B[39;49m\u001B[38;5;124;43m\"\u001B[39;49m\u001B[43m,\u001B[49m\u001B[43m \u001B[49m\u001B[38;5;28;43;01mNone\u001B[39;49;00m\u001B[43m)\u001B[49m\u001B[43m,\u001B[49m\n\u001B[1;32m   1885\u001B[0m \u001B[43m    \u001B[49m\u001B[43mmemory_map\u001B[49m\u001B[38;5;241;43m=\u001B[39;49m\u001B[38;5;28;43mself\u001B[39;49m\u001B[38;5;241;43m.\u001B[39;49m\u001B[43moptions\u001B[49m\u001B[38;5;241;43m.\u001B[39;49m\u001B[43mget\u001B[49m\u001B[43m(\u001B[49m\u001B[38;5;124;43m\"\u001B[39;49m\u001B[38;5;124;43mmemory_map\u001B[39;49m\u001B[38;5;124;43m\"\u001B[39;49m\u001B[43m,\u001B[49m\u001B[43m \u001B[49m\u001B[38;5;28;43;01mFalse\u001B[39;49;00m\u001B[43m)\u001B[49m\u001B[43m,\u001B[49m\n\u001B[1;32m   1886\u001B[0m \u001B[43m    \u001B[49m\u001B[43mis_text\u001B[49m\u001B[38;5;241;43m=\u001B[39;49m\u001B[43mis_text\u001B[49m\u001B[43m,\u001B[49m\n\u001B[1;32m   1887\u001B[0m \u001B[43m    \u001B[49m\u001B[43merrors\u001B[49m\u001B[38;5;241;43m=\u001B[39;49m\u001B[38;5;28;43mself\u001B[39;49m\u001B[38;5;241;43m.\u001B[39;49m\u001B[43moptions\u001B[49m\u001B[38;5;241;43m.\u001B[39;49m\u001B[43mget\u001B[49m\u001B[43m(\u001B[49m\u001B[38;5;124;43m\"\u001B[39;49m\u001B[38;5;124;43mencoding_errors\u001B[39;49m\u001B[38;5;124;43m\"\u001B[39;49m\u001B[43m,\u001B[49m\u001B[43m \u001B[49m\u001B[38;5;124;43m\"\u001B[39;49m\u001B[38;5;124;43mstrict\u001B[39;49m\u001B[38;5;124;43m\"\u001B[39;49m\u001B[43m)\u001B[49m\u001B[43m,\u001B[49m\n\u001B[1;32m   1888\u001B[0m \u001B[43m    \u001B[49m\u001B[43mstorage_options\u001B[49m\u001B[38;5;241;43m=\u001B[39;49m\u001B[38;5;28;43mself\u001B[39;49m\u001B[38;5;241;43m.\u001B[39;49m\u001B[43moptions\u001B[49m\u001B[38;5;241;43m.\u001B[39;49m\u001B[43mget\u001B[49m\u001B[43m(\u001B[49m\u001B[38;5;124;43m\"\u001B[39;49m\u001B[38;5;124;43mstorage_options\u001B[39;49m\u001B[38;5;124;43m\"\u001B[39;49m\u001B[43m,\u001B[49m\u001B[43m \u001B[49m\u001B[38;5;28;43;01mNone\u001B[39;49;00m\u001B[43m)\u001B[49m\u001B[43m,\u001B[49m\n\u001B[1;32m   1889\u001B[0m \u001B[43m\u001B[49m\u001B[43m)\u001B[49m\n\u001B[1;32m   1890\u001B[0m \u001B[38;5;28;01massert\u001B[39;00m \u001B[38;5;28mself\u001B[39m\u001B[38;5;241m.\u001B[39mhandles \u001B[38;5;129;01mis\u001B[39;00m \u001B[38;5;129;01mnot\u001B[39;00m \u001B[38;5;28;01mNone\u001B[39;00m\n\u001B[1;32m   1891\u001B[0m f \u001B[38;5;241m=\u001B[39m \u001B[38;5;28mself\u001B[39m\u001B[38;5;241m.\u001B[39mhandles\u001B[38;5;241m.\u001B[39mhandle\n",
      "File \u001B[0;32m~/Library/CloudStorage/OneDrive-pusan.ac.kr/2024_Spring/Introduction_To_Data_Science/.venv/lib/python3.12/site-packages/pandas/io/common.py:728\u001B[0m, in \u001B[0;36mget_handle\u001B[0;34m(path_or_buf, mode, encoding, compression, memory_map, is_text, errors, storage_options)\u001B[0m\n\u001B[1;32m    725\u001B[0m     codecs\u001B[38;5;241m.\u001B[39mlookup_error(errors)\n\u001B[1;32m    727\u001B[0m \u001B[38;5;66;03m# open URLs\u001B[39;00m\n\u001B[0;32m--> 728\u001B[0m ioargs \u001B[38;5;241m=\u001B[39m \u001B[43m_get_filepath_or_buffer\u001B[49m\u001B[43m(\u001B[49m\n\u001B[1;32m    729\u001B[0m \u001B[43m    \u001B[49m\u001B[43mpath_or_buf\u001B[49m\u001B[43m,\u001B[49m\n\u001B[1;32m    730\u001B[0m \u001B[43m    \u001B[49m\u001B[43mencoding\u001B[49m\u001B[38;5;241;43m=\u001B[39;49m\u001B[43mencoding\u001B[49m\u001B[43m,\u001B[49m\n\u001B[1;32m    731\u001B[0m \u001B[43m    \u001B[49m\u001B[43mcompression\u001B[49m\u001B[38;5;241;43m=\u001B[39;49m\u001B[43mcompression\u001B[49m\u001B[43m,\u001B[49m\n\u001B[1;32m    732\u001B[0m \u001B[43m    \u001B[49m\u001B[43mmode\u001B[49m\u001B[38;5;241;43m=\u001B[39;49m\u001B[43mmode\u001B[49m\u001B[43m,\u001B[49m\n\u001B[1;32m    733\u001B[0m \u001B[43m    \u001B[49m\u001B[43mstorage_options\u001B[49m\u001B[38;5;241;43m=\u001B[39;49m\u001B[43mstorage_options\u001B[49m\u001B[43m,\u001B[49m\n\u001B[1;32m    734\u001B[0m \u001B[43m\u001B[49m\u001B[43m)\u001B[49m\n\u001B[1;32m    736\u001B[0m handle \u001B[38;5;241m=\u001B[39m ioargs\u001B[38;5;241m.\u001B[39mfilepath_or_buffer\n\u001B[1;32m    737\u001B[0m handles: \u001B[38;5;28mlist\u001B[39m[BaseBuffer]\n",
      "File \u001B[0;32m~/Library/CloudStorage/OneDrive-pusan.ac.kr/2024_Spring/Introduction_To_Data_Science/.venv/lib/python3.12/site-packages/pandas/io/common.py:384\u001B[0m, in \u001B[0;36m_get_filepath_or_buffer\u001B[0;34m(filepath_or_buffer, encoding, compression, mode, storage_options)\u001B[0m\n\u001B[1;32m    382\u001B[0m \u001B[38;5;66;03m# assuming storage_options is to be interpreted as headers\u001B[39;00m\n\u001B[1;32m    383\u001B[0m req_info \u001B[38;5;241m=\u001B[39m urllib\u001B[38;5;241m.\u001B[39mrequest\u001B[38;5;241m.\u001B[39mRequest(filepath_or_buffer, headers\u001B[38;5;241m=\u001B[39mstorage_options)\n\u001B[0;32m--> 384\u001B[0m \u001B[38;5;28;01mwith\u001B[39;00m \u001B[43murlopen\u001B[49m\u001B[43m(\u001B[49m\u001B[43mreq_info\u001B[49m\u001B[43m)\u001B[49m \u001B[38;5;28;01mas\u001B[39;00m req:\n\u001B[1;32m    385\u001B[0m     content_encoding \u001B[38;5;241m=\u001B[39m req\u001B[38;5;241m.\u001B[39mheaders\u001B[38;5;241m.\u001B[39mget(\u001B[38;5;124m\"\u001B[39m\u001B[38;5;124mContent-Encoding\u001B[39m\u001B[38;5;124m\"\u001B[39m, \u001B[38;5;28;01mNone\u001B[39;00m)\n\u001B[1;32m    386\u001B[0m     \u001B[38;5;28;01mif\u001B[39;00m content_encoding \u001B[38;5;241m==\u001B[39m \u001B[38;5;124m\"\u001B[39m\u001B[38;5;124mgzip\u001B[39m\u001B[38;5;124m\"\u001B[39m:\n\u001B[1;32m    387\u001B[0m         \u001B[38;5;66;03m# Override compression based on Content-Encoding header\u001B[39;00m\n",
      "File \u001B[0;32m~/Library/CloudStorage/OneDrive-pusan.ac.kr/2024_Spring/Introduction_To_Data_Science/.venv/lib/python3.12/site-packages/pandas/io/common.py:289\u001B[0m, in \u001B[0;36murlopen\u001B[0;34m(*args, **kwargs)\u001B[0m\n\u001B[1;32m    283\u001B[0m \u001B[38;5;250m\u001B[39m\u001B[38;5;124;03m\"\"\"\u001B[39;00m\n\u001B[1;32m    284\u001B[0m \u001B[38;5;124;03mLazy-import wrapper for stdlib urlopen, as that imports a big chunk of\u001B[39;00m\n\u001B[1;32m    285\u001B[0m \u001B[38;5;124;03mthe stdlib.\u001B[39;00m\n\u001B[1;32m    286\u001B[0m \u001B[38;5;124;03m\"\"\"\u001B[39;00m\n\u001B[1;32m    287\u001B[0m \u001B[38;5;28;01mimport\u001B[39;00m \u001B[38;5;21;01murllib\u001B[39;00m\u001B[38;5;21;01m.\u001B[39;00m\u001B[38;5;21;01mrequest\u001B[39;00m\n\u001B[0;32m--> 289\u001B[0m \u001B[38;5;28;01mreturn\u001B[39;00m \u001B[43murllib\u001B[49m\u001B[38;5;241;43m.\u001B[39;49m\u001B[43mrequest\u001B[49m\u001B[38;5;241;43m.\u001B[39;49m\u001B[43murlopen\u001B[49m\u001B[43m(\u001B[49m\u001B[38;5;241;43m*\u001B[39;49m\u001B[43margs\u001B[49m\u001B[43m,\u001B[49m\u001B[43m \u001B[49m\u001B[38;5;241;43m*\u001B[39;49m\u001B[38;5;241;43m*\u001B[39;49m\u001B[43mkwargs\u001B[49m\u001B[43m)\u001B[49m\n",
      "File \u001B[0;32m/Library/Frameworks/Python.framework/Versions/3.12/lib/python3.12/urllib/request.py:215\u001B[0m, in \u001B[0;36murlopen\u001B[0;34m(url, data, timeout, cafile, capath, cadefault, context)\u001B[0m\n\u001B[1;32m    213\u001B[0m \u001B[38;5;28;01melse\u001B[39;00m:\n\u001B[1;32m    214\u001B[0m     opener \u001B[38;5;241m=\u001B[39m _opener\n\u001B[0;32m--> 215\u001B[0m \u001B[38;5;28;01mreturn\u001B[39;00m \u001B[43mopener\u001B[49m\u001B[38;5;241;43m.\u001B[39;49m\u001B[43mopen\u001B[49m\u001B[43m(\u001B[49m\u001B[43murl\u001B[49m\u001B[43m,\u001B[49m\u001B[43m \u001B[49m\u001B[43mdata\u001B[49m\u001B[43m,\u001B[49m\u001B[43m \u001B[49m\u001B[43mtimeout\u001B[49m\u001B[43m)\u001B[49m\n",
      "File \u001B[0;32m/Library/Frameworks/Python.framework/Versions/3.12/lib/python3.12/urllib/request.py:515\u001B[0m, in \u001B[0;36mOpenerDirector.open\u001B[0;34m(self, fullurl, data, timeout)\u001B[0m\n\u001B[1;32m    512\u001B[0m     req \u001B[38;5;241m=\u001B[39m meth(req)\n\u001B[1;32m    514\u001B[0m sys\u001B[38;5;241m.\u001B[39maudit(\u001B[38;5;124m'\u001B[39m\u001B[38;5;124murllib.Request\u001B[39m\u001B[38;5;124m'\u001B[39m, req\u001B[38;5;241m.\u001B[39mfull_url, req\u001B[38;5;241m.\u001B[39mdata, req\u001B[38;5;241m.\u001B[39mheaders, req\u001B[38;5;241m.\u001B[39mget_method())\n\u001B[0;32m--> 515\u001B[0m response \u001B[38;5;241m=\u001B[39m \u001B[38;5;28;43mself\u001B[39;49m\u001B[38;5;241;43m.\u001B[39;49m\u001B[43m_open\u001B[49m\u001B[43m(\u001B[49m\u001B[43mreq\u001B[49m\u001B[43m,\u001B[49m\u001B[43m \u001B[49m\u001B[43mdata\u001B[49m\u001B[43m)\u001B[49m\n\u001B[1;32m    517\u001B[0m \u001B[38;5;66;03m# post-process response\u001B[39;00m\n\u001B[1;32m    518\u001B[0m meth_name \u001B[38;5;241m=\u001B[39m protocol\u001B[38;5;241m+\u001B[39m\u001B[38;5;124m\"\u001B[39m\u001B[38;5;124m_response\u001B[39m\u001B[38;5;124m\"\u001B[39m\n",
      "File \u001B[0;32m/Library/Frameworks/Python.framework/Versions/3.12/lib/python3.12/urllib/request.py:532\u001B[0m, in \u001B[0;36mOpenerDirector._open\u001B[0;34m(self, req, data)\u001B[0m\n\u001B[1;32m    529\u001B[0m     \u001B[38;5;28;01mreturn\u001B[39;00m result\n\u001B[1;32m    531\u001B[0m protocol \u001B[38;5;241m=\u001B[39m req\u001B[38;5;241m.\u001B[39mtype\n\u001B[0;32m--> 532\u001B[0m result \u001B[38;5;241m=\u001B[39m \u001B[38;5;28;43mself\u001B[39;49m\u001B[38;5;241;43m.\u001B[39;49m\u001B[43m_call_chain\u001B[49m\u001B[43m(\u001B[49m\u001B[38;5;28;43mself\u001B[39;49m\u001B[38;5;241;43m.\u001B[39;49m\u001B[43mhandle_open\u001B[49m\u001B[43m,\u001B[49m\u001B[43m \u001B[49m\u001B[43mprotocol\u001B[49m\u001B[43m,\u001B[49m\u001B[43m \u001B[49m\u001B[43mprotocol\u001B[49m\u001B[43m \u001B[49m\u001B[38;5;241;43m+\u001B[39;49m\n\u001B[1;32m    533\u001B[0m \u001B[43m                          \u001B[49m\u001B[38;5;124;43m'\u001B[39;49m\u001B[38;5;124;43m_open\u001B[39;49m\u001B[38;5;124;43m'\u001B[39;49m\u001B[43m,\u001B[49m\u001B[43m \u001B[49m\u001B[43mreq\u001B[49m\u001B[43m)\u001B[49m\n\u001B[1;32m    534\u001B[0m \u001B[38;5;28;01mif\u001B[39;00m result:\n\u001B[1;32m    535\u001B[0m     \u001B[38;5;28;01mreturn\u001B[39;00m result\n",
      "File \u001B[0;32m/Library/Frameworks/Python.framework/Versions/3.12/lib/python3.12/urllib/request.py:492\u001B[0m, in \u001B[0;36mOpenerDirector._call_chain\u001B[0;34m(self, chain, kind, meth_name, *args)\u001B[0m\n\u001B[1;32m    490\u001B[0m \u001B[38;5;28;01mfor\u001B[39;00m handler \u001B[38;5;129;01min\u001B[39;00m handlers:\n\u001B[1;32m    491\u001B[0m     func \u001B[38;5;241m=\u001B[39m \u001B[38;5;28mgetattr\u001B[39m(handler, meth_name)\n\u001B[0;32m--> 492\u001B[0m     result \u001B[38;5;241m=\u001B[39m \u001B[43mfunc\u001B[49m\u001B[43m(\u001B[49m\u001B[38;5;241;43m*\u001B[39;49m\u001B[43margs\u001B[49m\u001B[43m)\u001B[49m\n\u001B[1;32m    493\u001B[0m     \u001B[38;5;28;01mif\u001B[39;00m result \u001B[38;5;129;01mis\u001B[39;00m \u001B[38;5;129;01mnot\u001B[39;00m \u001B[38;5;28;01mNone\u001B[39;00m:\n\u001B[1;32m    494\u001B[0m         \u001B[38;5;28;01mreturn\u001B[39;00m result\n",
      "File \u001B[0;32m/Library/Frameworks/Python.framework/Versions/3.12/lib/python3.12/urllib/request.py:1392\u001B[0m, in \u001B[0;36mHTTPSHandler.https_open\u001B[0;34m(self, req)\u001B[0m\n\u001B[1;32m   1391\u001B[0m \u001B[38;5;28;01mdef\u001B[39;00m \u001B[38;5;21mhttps_open\u001B[39m(\u001B[38;5;28mself\u001B[39m, req):\n\u001B[0;32m-> 1392\u001B[0m     \u001B[38;5;28;01mreturn\u001B[39;00m \u001B[38;5;28;43mself\u001B[39;49m\u001B[38;5;241;43m.\u001B[39;49m\u001B[43mdo_open\u001B[49m\u001B[43m(\u001B[49m\u001B[43mhttp\u001B[49m\u001B[38;5;241;43m.\u001B[39;49m\u001B[43mclient\u001B[49m\u001B[38;5;241;43m.\u001B[39;49m\u001B[43mHTTPSConnection\u001B[49m\u001B[43m,\u001B[49m\u001B[43m \u001B[49m\u001B[43mreq\u001B[49m\u001B[43m,\u001B[49m\n\u001B[1;32m   1393\u001B[0m \u001B[43m                        \u001B[49m\u001B[43mcontext\u001B[49m\u001B[38;5;241;43m=\u001B[39;49m\u001B[38;5;28;43mself\u001B[39;49m\u001B[38;5;241;43m.\u001B[39;49m\u001B[43m_context\u001B[49m\u001B[43m)\u001B[49m\n",
      "File \u001B[0;32m/Library/Frameworks/Python.framework/Versions/3.12/lib/python3.12/urllib/request.py:1347\u001B[0m, in \u001B[0;36mAbstractHTTPHandler.do_open\u001B[0;34m(self, http_class, req, **http_conn_args)\u001B[0m\n\u001B[1;32m   1344\u001B[0m         h\u001B[38;5;241m.\u001B[39mrequest(req\u001B[38;5;241m.\u001B[39mget_method(), req\u001B[38;5;241m.\u001B[39mselector, req\u001B[38;5;241m.\u001B[39mdata, headers,\n\u001B[1;32m   1345\u001B[0m                   encode_chunked\u001B[38;5;241m=\u001B[39mreq\u001B[38;5;241m.\u001B[39mhas_header(\u001B[38;5;124m'\u001B[39m\u001B[38;5;124mTransfer-encoding\u001B[39m\u001B[38;5;124m'\u001B[39m))\n\u001B[1;32m   1346\u001B[0m     \u001B[38;5;28;01mexcept\u001B[39;00m \u001B[38;5;167;01mOSError\u001B[39;00m \u001B[38;5;28;01mas\u001B[39;00m err: \u001B[38;5;66;03m# timeout error\u001B[39;00m\n\u001B[0;32m-> 1347\u001B[0m         \u001B[38;5;28;01mraise\u001B[39;00m URLError(err)\n\u001B[1;32m   1348\u001B[0m     r \u001B[38;5;241m=\u001B[39m h\u001B[38;5;241m.\u001B[39mgetresponse()\n\u001B[1;32m   1349\u001B[0m \u001B[38;5;28;01mexcept\u001B[39;00m:\n",
      "\u001B[0;31mURLError\u001B[0m: <urlopen error [SSL: CERTIFICATE_VERIFY_FAILED] certificate verify failed: unable to get local issuer certificate (_ssl.c:1000)>"
     ]
    }
   ]
  },
  {
   "cell_type": "code",
   "source": [
    "minard_cities.info()"
   ],
   "metadata": {
    "id": "5AI-ZbEpieCc"
   },
   "execution_count": null,
   "outputs": []
  },
  {
   "cell_type": "code",
   "source": [
    "minard_cities.head()"
   ],
   "metadata": {
    "id": "7nM0WVSIjcAQ"
   },
   "execution_count": null,
   "outputs": []
  },
  {
   "cell_type": "code",
   "source": [
    "minard_temp.info()"
   ],
   "metadata": {
    "id": "Y_CBltXSimCf",
    "ExecuteTime": {
     "end_time": "2024-04-03T08:46:09.716613Z",
     "start_time": "2024-04-03T08:46:09.698419Z"
    }
   },
   "execution_count": 55,
   "outputs": [
    {
     "ename": "NameError",
     "evalue": "name 'minard_temp' is not defined",
     "output_type": "error",
     "traceback": [
      "\u001B[0;31m---------------------------------------------------------------------------\u001B[0m",
      "\u001B[0;31mNameError\u001B[0m                                 Traceback (most recent call last)",
      "Cell \u001B[0;32mIn[55], line 1\u001B[0m\n\u001B[0;32m----> 1\u001B[0m \u001B[43mminard_temp\u001B[49m\u001B[38;5;241m.\u001B[39minfo()\n",
      "\u001B[0;31mNameError\u001B[0m: name 'minard_temp' is not defined"
     ]
    }
   ]
  },
  {
   "cell_type": "code",
   "source": [
    "minard_temp.head()"
   ],
   "metadata": {
    "id": "4LXYUnmcjemt",
    "ExecuteTime": {
     "end_time": "2024-04-03T08:46:09.753187Z",
     "start_time": "2024-04-03T08:46:09.741586Z"
    }
   },
   "execution_count": 56,
   "outputs": [
    {
     "ename": "NameError",
     "evalue": "name 'minard_temp' is not defined",
     "output_type": "error",
     "traceback": [
      "\u001B[0;31m---------------------------------------------------------------------------\u001B[0m",
      "\u001B[0;31mNameError\u001B[0m                                 Traceback (most recent call last)",
      "Cell \u001B[0;32mIn[56], line 1\u001B[0m\n\u001B[0;32m----> 1\u001B[0m \u001B[43mminard_temp\u001B[49m\u001B[38;5;241m.\u001B[39mhead()\n",
      "\u001B[0;31mNameError\u001B[0m: name 'minard_temp' is not defined"
     ]
    }
   ]
  },
  {
   "cell_type": "code",
   "source": [
    "minard_troops.info()"
   ],
   "metadata": {
    "id": "JfRi8fInirMH",
    "ExecuteTime": {
     "end_time": "2024-04-03T08:46:10.285053Z",
     "start_time": "2024-04-03T08:46:10.276028Z"
    }
   },
   "execution_count": 57,
   "outputs": [
    {
     "ename": "NameError",
     "evalue": "name 'minard_troops' is not defined",
     "output_type": "error",
     "traceback": [
      "\u001B[0;31m---------------------------------------------------------------------------\u001B[0m",
      "\u001B[0;31mNameError\u001B[0m                                 Traceback (most recent call last)",
      "Cell \u001B[0;32mIn[57], line 1\u001B[0m\n\u001B[0;32m----> 1\u001B[0m \u001B[43mminard_troops\u001B[49m\u001B[38;5;241m.\u001B[39minfo()\n",
      "\u001B[0;31mNameError\u001B[0m: name 'minard_troops' is not defined"
     ]
    }
   ]
  },
  {
   "cell_type": "code",
   "source": [
    "minard_troops.head()"
   ],
   "metadata": {
    "id": "RbdBbeVAiyu8",
    "ExecuteTime": {
     "end_time": "2024-04-03T08:46:10.404156Z",
     "start_time": "2024-04-03T08:46:10.391548Z"
    }
   },
   "execution_count": 58,
   "outputs": [
    {
     "ename": "NameError",
     "evalue": "name 'minard_troops' is not defined",
     "output_type": "error",
     "traceback": [
      "\u001B[0;31m---------------------------------------------------------------------------\u001B[0m",
      "\u001B[0;31mNameError\u001B[0m                                 Traceback (most recent call last)",
      "Cell \u001B[0;32mIn[58], line 1\u001B[0m\n\u001B[0;32m----> 1\u001B[0m \u001B[43mminard_troops\u001B[49m\u001B[38;5;241m.\u001B[39mhead()\n",
      "\u001B[0;31mNameError\u001B[0m: name 'minard_troops' is not defined"
     ]
    }
   ]
  },
  {
   "cell_type": "markdown",
   "source": [
    "Remove rownames"
   ],
   "metadata": {
    "id": "bkWtw3AcjojW"
   }
  },
  {
   "cell_type": "code",
   "source": [
    "# Remove the 1st column which is rank\n",
    "minard_cities = minard_cities.iloc[:, 1:] \n",
    "minard_temp = minard_temp.iloc[:, 1:]\n",
    "minard_troops = minard_troops.iloc[:, 1:]"
   ],
   "metadata": {
    "id": "AmZBVKqcicG_",
    "ExecuteTime": {
     "end_time": "2024-04-03T08:46:10.443407Z",
     "start_time": "2024-04-03T08:46:10.427924Z"
    }
   },
   "execution_count": 59,
   "outputs": [
    {
     "ename": "NameError",
     "evalue": "name 'minard_cities' is not defined",
     "output_type": "error",
     "traceback": [
      "\u001B[0;31m---------------------------------------------------------------------------\u001B[0m",
      "\u001B[0;31mNameError\u001B[0m                                 Traceback (most recent call last)",
      "Cell \u001B[0;32mIn[59], line 2\u001B[0m\n\u001B[1;32m      1\u001B[0m \u001B[38;5;66;03m# Remove the 1st column which is rank\u001B[39;00m\n\u001B[0;32m----> 2\u001B[0m minard_cities \u001B[38;5;241m=\u001B[39m \u001B[43mminard_cities\u001B[49m\u001B[38;5;241m.\u001B[39miloc[:, \u001B[38;5;241m1\u001B[39m:] \n\u001B[1;32m      3\u001B[0m minard_temp \u001B[38;5;241m=\u001B[39m minard_temp\u001B[38;5;241m.\u001B[39miloc[:, \u001B[38;5;241m1\u001B[39m:]\n\u001B[1;32m      4\u001B[0m minard_troops \u001B[38;5;241m=\u001B[39m minard_troops\u001B[38;5;241m.\u001B[39miloc[:, \u001B[38;5;241m1\u001B[39m:]\n",
      "\u001B[0;31mNameError\u001B[0m: name 'minard_cities' is not defined"
     ]
    }
   ]
  },
  {
   "cell_type": "code",
   "source": [
    "# Join minard_troops and minard_cities\n",
    "minard = minard_troops.join(minard_cities.set_index(['long', 'lat']), on=['long', 'lat']) # Null은 NaN으로 다 표시된다.\n",
    "minard.head(20)"
   ],
   "metadata": {
    "id": "hbHhLmfgkGgx",
    "ExecuteTime": {
     "end_time": "2024-04-03T08:46:10.554317Z",
     "start_time": "2024-04-03T08:46:10.544832Z"
    }
   },
   "execution_count": 60,
   "outputs": [
    {
     "ename": "NameError",
     "evalue": "name 'minard_troops' is not defined",
     "output_type": "error",
     "traceback": [
      "\u001B[0;31m---------------------------------------------------------------------------\u001B[0m",
      "\u001B[0;31mNameError\u001B[0m                                 Traceback (most recent call last)",
      "Cell \u001B[0;32mIn[60], line 2\u001B[0m\n\u001B[1;32m      1\u001B[0m \u001B[38;5;66;03m# Join minard_troops and minard_cities\u001B[39;00m\n\u001B[0;32m----> 2\u001B[0m minard \u001B[38;5;241m=\u001B[39m \u001B[43mminard_troops\u001B[49m\u001B[38;5;241m.\u001B[39mjoin(minard_cities\u001B[38;5;241m.\u001B[39mset_index([\u001B[38;5;124m'\u001B[39m\u001B[38;5;124mlong\u001B[39m\u001B[38;5;124m'\u001B[39m, \u001B[38;5;124m'\u001B[39m\u001B[38;5;124mlat\u001B[39m\u001B[38;5;124m'\u001B[39m]), on\u001B[38;5;241m=\u001B[39m[\u001B[38;5;124m'\u001B[39m\u001B[38;5;124mlong\u001B[39m\u001B[38;5;124m'\u001B[39m, \u001B[38;5;124m'\u001B[39m\u001B[38;5;124mlat\u001B[39m\u001B[38;5;124m'\u001B[39m]) \u001B[38;5;66;03m# Null은 NaN으로 다 표시된다.\u001B[39;00m\n\u001B[1;32m      3\u001B[0m minard\u001B[38;5;241m.\u001B[39mhead(\u001B[38;5;241m20\u001B[39m)\n",
      "\u001B[0;31mNameError\u001B[0m: name 'minard_troops' is not defined"
     ]
    }
   ]
  },
  {
   "cell_type": "code",
   "source": [
    "# Filter the NaN(Null) value in city column\n",
    "filter = minard['city'].notnull() # NaN모두 필터에 걸리게 한다.\n",
    "minard = minard[filter]\n",
    "minard"
   ],
   "metadata": {
    "id": "N8zkTdSBkiE_",
    "ExecuteTime": {
     "end_time": "2024-04-03T08:46:10.625944Z",
     "start_time": "2024-04-03T08:46:10.615499Z"
    }
   },
   "execution_count": 61,
   "outputs": [
    {
     "ename": "NameError",
     "evalue": "name 'minard' is not defined",
     "output_type": "error",
     "traceback": [
      "\u001B[0;31m---------------------------------------------------------------------------\u001B[0m",
      "\u001B[0;31mNameError\u001B[0m                                 Traceback (most recent call last)",
      "Cell \u001B[0;32mIn[61], line 2\u001B[0m\n\u001B[1;32m      1\u001B[0m \u001B[38;5;66;03m# Filter the NaN(Null) value in city column\u001B[39;00m\n\u001B[0;32m----> 2\u001B[0m \u001B[38;5;28mfilter\u001B[39m \u001B[38;5;241m=\u001B[39m \u001B[43mminard\u001B[49m[\u001B[38;5;124m'\u001B[39m\u001B[38;5;124mcity\u001B[39m\u001B[38;5;124m'\u001B[39m]\u001B[38;5;241m.\u001B[39mnotnull() \u001B[38;5;66;03m# NaN모두 필터에 걸리게 한다.\u001B[39;00m\n\u001B[1;32m      3\u001B[0m minard \u001B[38;5;241m=\u001B[39m minard[\u001B[38;5;28mfilter\u001B[39m]\n\u001B[1;32m      4\u001B[0m minard\n",
      "\u001B[0;31mNameError\u001B[0m: name 'minard' is not defined"
     ]
    }
   ]
  },
  {
   "cell_type": "code",
   "source": [
    "# The columns of the Table\n",
    "minard.columns"
   ],
   "metadata": {
    "id": "fX1-fgIXkzep",
    "ExecuteTime": {
     "end_time": "2024-04-03T08:46:10.724515Z",
     "start_time": "2024-04-03T08:46:10.711925Z"
    }
   },
   "execution_count": 62,
   "outputs": [
    {
     "ename": "NameError",
     "evalue": "name 'minard' is not defined",
     "output_type": "error",
     "traceback": [
      "\u001B[0;31m---------------------------------------------------------------------------\u001B[0m",
      "\u001B[0;31mNameError\u001B[0m                                 Traceback (most recent call last)",
      "Cell \u001B[0;32mIn[62], line 2\u001B[0m\n\u001B[1;32m      1\u001B[0m \u001B[38;5;66;03m# The columns of the Table\u001B[39;00m\n\u001B[0;32m----> 2\u001B[0m \u001B[43mminard\u001B[49m\u001B[38;5;241m.\u001B[39mcolumns\n",
      "\u001B[0;31mNameError\u001B[0m: name 'minard' is not defined"
     ]
    }
   ]
  },
  {
   "cell_type": "code",
   "source": [
    "# Rename column 'city' to 'city name', inplace=False\n",
    "minard.rename(columns={'city': 'city name'})"
   ],
   "metadata": {
    "id": "2Ucw5QItk4B2",
    "ExecuteTime": {
     "end_time": "2024-04-03T08:46:10.790682Z",
     "start_time": "2024-04-03T08:46:10.780421Z"
    }
   },
   "execution_count": 63,
   "outputs": [
    {
     "ename": "NameError",
     "evalue": "name 'minard' is not defined",
     "output_type": "error",
     "traceback": [
      "\u001B[0;31m---------------------------------------------------------------------------\u001B[0m",
      "\u001B[0;31mNameError\u001B[0m                                 Traceback (most recent call last)",
      "Cell \u001B[0;32mIn[63], line 2\u001B[0m\n\u001B[1;32m      1\u001B[0m \u001B[38;5;66;03m# Rename column 'city' to 'city name', inplace=False\u001B[39;00m\n\u001B[0;32m----> 2\u001B[0m \u001B[43mminard\u001B[49m\u001B[38;5;241m.\u001B[39mrename(columns\u001B[38;5;241m=\u001B[39m{\u001B[38;5;124m'\u001B[39m\u001B[38;5;124mcity\u001B[39m\u001B[38;5;124m'\u001B[39m: \u001B[38;5;124m'\u001B[39m\u001B[38;5;124mcity name\u001B[39m\u001B[38;5;124m'\u001B[39m})\n",
      "\u001B[0;31mNameError\u001B[0m: name 'minard' is not defined"
     ]
    }
   ]
  },
  {
   "cell_type": "code",
   "source": [
    "minard"
   ],
   "metadata": {
    "id": "PVeccrRwlKJO",
    "ExecuteTime": {
     "end_time": "2024-04-03T08:46:10.920031Z",
     "start_time": "2024-04-03T08:46:10.906510Z"
    }
   },
   "execution_count": 64,
   "outputs": [
    {
     "ename": "NameError",
     "evalue": "name 'minard' is not defined",
     "output_type": "error",
     "traceback": [
      "\u001B[0;31m---------------------------------------------------------------------------\u001B[0m",
      "\u001B[0;31mNameError\u001B[0m                                 Traceback (most recent call last)",
      "Cell \u001B[0;32mIn[64], line 1\u001B[0m\n\u001B[0;32m----> 1\u001B[0m \u001B[43mminard\u001B[49m\n",
      "\u001B[0;31mNameError\u001B[0m: name 'minard' is not defined"
     ]
    }
   ]
  },
  {
   "cell_type": "code",
   "source": [
    "# minard.rename(columns={'city': 'city name'}, inplace=True)\n",
    "minard = minard.rename(columns={'city': 'city name'})\n",
    "minard"
   ],
   "metadata": {
    "id": "_-v8o98dk7aX",
    "ExecuteTime": {
     "end_time": "2024-04-03T08:46:10.970786Z",
     "start_time": "2024-04-03T08:46:10.962327Z"
    }
   },
   "execution_count": 65,
   "outputs": [
    {
     "ename": "NameError",
     "evalue": "name 'minard' is not defined",
     "output_type": "error",
     "traceback": [
      "\u001B[0;31m---------------------------------------------------------------------------\u001B[0m",
      "\u001B[0;31mNameError\u001B[0m                                 Traceback (most recent call last)",
      "Cell \u001B[0;32mIn[65], line 2\u001B[0m\n\u001B[1;32m      1\u001B[0m \u001B[38;5;66;03m# minard.rename(columns={'city': 'city name'}, inplace=True)\u001B[39;00m\n\u001B[0;32m----> 2\u001B[0m minard \u001B[38;5;241m=\u001B[39m \u001B[43mminard\u001B[49m\u001B[38;5;241m.\u001B[39mrename(columns\u001B[38;5;241m=\u001B[39m{\u001B[38;5;124m'\u001B[39m\u001B[38;5;124mcity\u001B[39m\u001B[38;5;124m'\u001B[39m: \u001B[38;5;124m'\u001B[39m\u001B[38;5;124mcity name\u001B[39m\u001B[38;5;124m'\u001B[39m})\n\u001B[1;32m      3\u001B[0m minard\n",
      "\u001B[0;31mNameError\u001B[0m: name 'minard' is not defined"
     ]
    }
   ]
  },
  {
   "cell_type": "code",
   "outputs": [
    {
     "ename": "NameError",
     "evalue": "name 'minard' is not defined",
     "output_type": "error",
     "traceback": [
      "\u001B[0;31m---------------------------------------------------------------------------\u001B[0m",
      "\u001B[0;31mNameError\u001B[0m                                 Traceback (most recent call last)",
      "Cell \u001B[0;32mIn[66], line 2\u001B[0m\n\u001B[1;32m      1\u001B[0m \u001B[38;5;66;03m# minard.rename(columns={'city': 'city name'}, inplace=True)\u001B[39;00m\n\u001B[0;32m----> 2\u001B[0m \u001B[43mminard\u001B[49m\u001B[38;5;241m.\u001B[39mrename(columns\u001B[38;5;241m=\u001B[39m{\u001B[38;5;124m'\u001B[39m\u001B[38;5;124mcity name\u001B[39m\u001B[38;5;124m'\u001B[39m: \u001B[38;5;124m'\u001B[39m\u001B[38;5;124mcity name2\u001B[39m\u001B[38;5;124m'\u001B[39m},inplace\u001B[38;5;241m=\u001B[39m\u001B[38;5;28;01mTrue\u001B[39;00m)\n\u001B[1;32m      3\u001B[0m minard\n",
      "\u001B[0;31mNameError\u001B[0m: name 'minard' is not defined"
     ]
    }
   ],
   "source": [
    "# minard.rename(columns={'city': 'city name'}, inplace=True)\n",
    "minard.rename(columns={'city name': 'city name2'},inplace=True)\n",
    "minard"
   ],
   "metadata": {
    "collapsed": false,
    "ExecuteTime": {
     "end_time": "2024-04-03T08:46:11.124826Z",
     "start_time": "2024-04-03T08:46:11.111564Z"
    }
   },
   "execution_count": 66
  },
  {
   "cell_type": "code",
   "source": [
    "minard.shape"
   ],
   "metadata": {
    "id": "fAQLwTO7mCwD",
    "ExecuteTime": {
     "end_time": "2024-04-03T08:46:11.149842Z",
     "start_time": "2024-04-03T08:46:11.140473Z"
    }
   },
   "execution_count": 67,
   "outputs": [
    {
     "ename": "NameError",
     "evalue": "name 'minard' is not defined",
     "output_type": "error",
     "traceback": [
      "\u001B[0;31m---------------------------------------------------------------------------\u001B[0m",
      "\u001B[0;31mNameError\u001B[0m                                 Traceback (most recent call last)",
      "Cell \u001B[0;32mIn[67], line 1\u001B[0m\n\u001B[0;32m----> 1\u001B[0m \u001B[43mminard\u001B[49m\u001B[38;5;241m.\u001B[39mshape\n",
      "\u001B[0;31mNameError\u001B[0m: name 'minard' is not defined"
     ]
    }
   ]
  },
  {
   "cell_type": "code",
   "source": [
    "len(minard)"
   ],
   "metadata": {
    "id": "tm3pUwZTmFEd",
    "ExecuteTime": {
     "end_time": "2024-04-03T08:46:11.264101Z",
     "start_time": "2024-04-03T08:46:11.254065Z"
    }
   },
   "execution_count": 68,
   "outputs": [
    {
     "ename": "NameError",
     "evalue": "name 'minard' is not defined",
     "output_type": "error",
     "traceback": [
      "\u001B[0;31m---------------------------------------------------------------------------\u001B[0m",
      "\u001B[0;31mNameError\u001B[0m                                 Traceback (most recent call last)",
      "Cell \u001B[0;32mIn[68], line 1\u001B[0m\n\u001B[0;32m----> 1\u001B[0m \u001B[38;5;28mlen\u001B[39m(\u001B[43mminard\u001B[49m)\n",
      "\u001B[0;31mNameError\u001B[0m: name 'minard' is not defined"
     ]
    }
   ]
  },
  {
   "cell_type": "code",
   "source": [
    "# Accessing the Data in a Column\n",
    "minard['survivors']"
   ],
   "metadata": {
    "id": "WB6f5nBxmKsB",
    "ExecuteTime": {
     "end_time": "2024-04-03T08:46:11.303677Z",
     "start_time": "2024-04-03T08:46:11.294415Z"
    }
   },
   "execution_count": 69,
   "outputs": [
    {
     "ename": "NameError",
     "evalue": "name 'minard' is not defined",
     "output_type": "error",
     "traceback": [
      "\u001B[0;31m---------------------------------------------------------------------------\u001B[0m",
      "\u001B[0;31mNameError\u001B[0m                                 Traceback (most recent call last)",
      "Cell \u001B[0;32mIn[69], line 2\u001B[0m\n\u001B[1;32m      1\u001B[0m \u001B[38;5;66;03m# Accessing the Data in a Column\u001B[39;00m\n\u001B[0;32m----> 2\u001B[0m \u001B[43mminard\u001B[49m[\u001B[38;5;124m'\u001B[39m\u001B[38;5;124msurvivors\u001B[39m\u001B[38;5;124m'\u001B[39m]\n",
      "\u001B[0;31mNameError\u001B[0m: name 'minard' is not defined"
     ]
    }
   ]
  },
  {
   "cell_type": "code",
   "source": [
    "# OR\n",
    "minard.survivors"
   ],
   "metadata": {
    "id": "KUfk02DMmTLy",
    "ExecuteTime": {
     "end_time": "2024-04-03T08:46:11.456162Z",
     "start_time": "2024-04-03T08:46:11.444069Z"
    }
   },
   "execution_count": 70,
   "outputs": [
    {
     "ename": "NameError",
     "evalue": "name 'minard' is not defined",
     "output_type": "error",
     "traceback": [
      "\u001B[0;31m---------------------------------------------------------------------------\u001B[0m",
      "\u001B[0;31mNameError\u001B[0m                                 Traceback (most recent call last)",
      "Cell \u001B[0;32mIn[70], line 2\u001B[0m\n\u001B[1;32m      1\u001B[0m \u001B[38;5;66;03m# OR\u001B[39;00m\n\u001B[0;32m----> 2\u001B[0m \u001B[43mminard\u001B[49m\u001B[38;5;241m.\u001B[39msurvivors\n",
      "\u001B[0;31mNameError\u001B[0m: name 'minard' is not defined"
     ]
    }
   ]
  },
  {
   "cell_type": "code",
   "source": [
    "type(minard.survivors)"
   ],
   "metadata": {
    "id": "b80JT0M7mc6p",
    "ExecuteTime": {
     "end_time": "2024-04-03T08:46:11.549502Z",
     "start_time": "2024-04-03T08:46:11.540105Z"
    }
   },
   "execution_count": 71,
   "outputs": [
    {
     "ename": "NameError",
     "evalue": "name 'minard' is not defined",
     "output_type": "error",
     "traceback": [
      "\u001B[0;31m---------------------------------------------------------------------------\u001B[0m",
      "\u001B[0;31mNameError\u001B[0m                                 Traceback (most recent call last)",
      "Cell \u001B[0;32mIn[71], line 1\u001B[0m\n\u001B[0;32m----> 1\u001B[0m \u001B[38;5;28mtype\u001B[39m(\u001B[43mminard\u001B[49m\u001B[38;5;241m.\u001B[39msurvivors)\n",
      "\u001B[0;31mNameError\u001B[0m: name 'minard' is not defined"
     ]
    }
   ]
  },
  {
   "cell_type": "code",
   "source": [
    "# OR\n",
    "minard.iloc[:, 2] # row index _:_ => all, column index 2, _ is blank\n",
    "# iloc[row index, column index]"
   ],
   "metadata": {
    "id": "Eryt8w56mkme",
    "ExecuteTime": {
     "end_time": "2024-04-03T08:46:11.674910Z",
     "start_time": "2024-04-03T08:46:11.664665Z"
    }
   },
   "execution_count": 72,
   "outputs": [
    {
     "ename": "NameError",
     "evalue": "name 'minard' is not defined",
     "output_type": "error",
     "traceback": [
      "\u001B[0;31m---------------------------------------------------------------------------\u001B[0m",
      "\u001B[0;31mNameError\u001B[0m                                 Traceback (most recent call last)",
      "Cell \u001B[0;32mIn[72], line 2\u001B[0m\n\u001B[1;32m      1\u001B[0m \u001B[38;5;66;03m# OR\u001B[39;00m\n\u001B[0;32m----> 2\u001B[0m \u001B[43mminard\u001B[49m\u001B[38;5;241m.\u001B[39miloc[:, \u001B[38;5;241m2\u001B[39m] \u001B[38;5;66;03m# row index _:_ => all, column index 2, _ is blank\u001B[39;00m\n\u001B[1;32m      3\u001B[0m \u001B[38;5;66;03m# iloc[row index, column index]\u001B[39;00m\n",
      "\u001B[0;31mNameError\u001B[0m: name 'minard' is not defined"
     ]
    }
   ]
  },
  {
   "cell_type": "markdown",
   "source": [
    "#### iloc[row index, column index] (indexing location)?"
   ],
   "metadata": {
    "collapsed": false
   }
  },
  {
   "cell_type": "code",
   "source": [
    "minard.iloc[2]\n",
    "# return i-th row # 2-th row => 0, 1, 2 세번째 행의 column들이 row로 들어가게 된다."
   ],
   "metadata": {
    "id": "86VP70fYmzZ5",
    "ExecuteTime": {
     "end_time": "2024-04-03T08:46:11.704653Z",
     "start_time": "2024-04-03T08:46:11.695158Z"
    }
   },
   "execution_count": 73,
   "outputs": [
    {
     "ename": "NameError",
     "evalue": "name 'minard' is not defined",
     "output_type": "error",
     "traceback": [
      "\u001B[0;31m---------------------------------------------------------------------------\u001B[0m",
      "\u001B[0;31mNameError\u001B[0m                                 Traceback (most recent call last)",
      "Cell \u001B[0;32mIn[73], line 1\u001B[0m\n\u001B[0;32m----> 1\u001B[0m \u001B[43mminard\u001B[49m\u001B[38;5;241m.\u001B[39miloc[\u001B[38;5;241m2\u001B[39m]\n\u001B[1;32m      2\u001B[0m \u001B[38;5;66;03m# return i-th row # 2-th row => 0, 1, 2 세번째 행의 column들이 row로 들어가게 된다.\u001B[39;00m\n",
      "\u001B[0;31mNameError\u001B[0m: name 'minard' is not defined"
     ]
    }
   ]
  },
  {
   "cell_type": "code",
   "outputs": [
    {
     "ename": "NameError",
     "evalue": "name 'minard' is not defined",
     "output_type": "error",
     "traceback": [
      "\u001B[0;31m---------------------------------------------------------------------------\u001B[0m",
      "\u001B[0;31mNameError\u001B[0m                                 Traceback (most recent call last)",
      "Cell \u001B[0;32mIn[74], line 1\u001B[0m\n\u001B[0;32m----> 1\u001B[0m \u001B[38;5;28mtype\u001B[39m(\u001B[43mminard\u001B[49m\u001B[38;5;241m.\u001B[39miloc[\u001B[38;5;241m2\u001B[39m]) \u001B[38;5;66;03m# Series\u001B[39;00m\n",
      "\u001B[0;31mNameError\u001B[0m: name 'minard' is not defined"
     ]
    }
   ],
   "source": [
    "type(minard.iloc[2]) # Series"
   ],
   "metadata": {
    "collapsed": false,
    "ExecuteTime": {
     "end_time": "2024-04-03T08:46:11.802007Z",
     "start_time": "2024-04-03T08:46:11.792384Z"
    }
   },
   "execution_count": 74
  },
  {
   "cell_type": "code",
   "source": [
    "minard"
   ],
   "metadata": {
    "id": "ZeMpO7d5rSLX",
    "ExecuteTime": {
     "end_time": "2024-04-03T08:46:11.894935Z",
     "start_time": "2024-04-03T08:46:11.882111Z"
    }
   },
   "execution_count": 75,
   "outputs": [
    {
     "ename": "NameError",
     "evalue": "name 'minard' is not defined",
     "output_type": "error",
     "traceback": [
      "\u001B[0;31m---------------------------------------------------------------------------\u001B[0m",
      "\u001B[0;31mNameError\u001B[0m                                 Traceback (most recent call last)",
      "Cell \u001B[0;32mIn[75], line 1\u001B[0m\n\u001B[0;32m----> 1\u001B[0m \u001B[43mminard\u001B[49m\n",
      "\u001B[0;31mNameError\u001B[0m: name 'minard' is not defined"
     ]
    }
   ]
  },
  {
   "cell_type": "code",
   "source": [
    "minard.reset_index(drop=True, inplace=True) # drop=False하면 기존에 존재하던 인덱스가 새로운 Column으로 들어가 중복 인덱싱이 된다."
   ],
   "metadata": {
    "id": "3pXEe3Izpx5J",
    "ExecuteTime": {
     "end_time": "2024-04-03T08:46:12.051842Z",
     "start_time": "2024-04-03T08:46:12.042443Z"
    }
   },
   "execution_count": 76,
   "outputs": [
    {
     "ename": "NameError",
     "evalue": "name 'minard' is not defined",
     "output_type": "error",
     "traceback": [
      "\u001B[0;31m---------------------------------------------------------------------------\u001B[0m",
      "\u001B[0;31mNameError\u001B[0m                                 Traceback (most recent call last)",
      "Cell \u001B[0;32mIn[76], line 1\u001B[0m\n\u001B[0;32m----> 1\u001B[0m \u001B[43mminard\u001B[49m\u001B[38;5;241m.\u001B[39mreset_index(drop\u001B[38;5;241m=\u001B[39m\u001B[38;5;28;01mTrue\u001B[39;00m, inplace\u001B[38;5;241m=\u001B[39m\u001B[38;5;28;01mTrue\u001B[39;00m) \u001B[38;5;66;03m# drop=False하면 기존에 존재하던 인덱스가 새로운 Column으로 들어가 중복 인덱싱이 된다.\u001B[39;00m\n",
      "\u001B[0;31mNameError\u001B[0m: name 'minard' is not defined"
     ]
    }
   ]
  },
  {
   "cell_type": "code",
   "source": [
    "minard"
   ],
   "metadata": {
    "id": "d2gpIKqGq7y2",
    "ExecuteTime": {
     "end_time": "2024-04-03T08:46:12.140596Z",
     "start_time": "2024-04-03T08:46:12.129910Z"
    }
   },
   "execution_count": 77,
   "outputs": [
    {
     "ename": "NameError",
     "evalue": "name 'minard' is not defined",
     "output_type": "error",
     "traceback": [
      "\u001B[0;31m---------------------------------------------------------------------------\u001B[0m",
      "\u001B[0;31mNameError\u001B[0m                                 Traceback (most recent call last)",
      "Cell \u001B[0;32mIn[77], line 1\u001B[0m\n\u001B[0;32m----> 1\u001B[0m \u001B[43mminard\u001B[49m\n",
      "\u001B[0;31mNameError\u001B[0m: name 'minard' is not defined"
     ]
    }
   ]
  },
  {
   "cell_type": "code",
   "source": [
    "minard.loc[5]"
   ],
   "metadata": {
    "id": "_aUkqgvosJeW",
    "ExecuteTime": {
     "end_time": "2024-04-03T08:46:12.279074Z",
     "start_time": "2024-04-03T08:46:12.264616Z"
    }
   },
   "execution_count": 78,
   "outputs": [
    {
     "ename": "NameError",
     "evalue": "name 'minard' is not defined",
     "output_type": "error",
     "traceback": [
      "\u001B[0;31m---------------------------------------------------------------------------\u001B[0m",
      "\u001B[0;31mNameError\u001B[0m                                 Traceback (most recent call last)",
      "Cell \u001B[0;32mIn[78], line 1\u001B[0m\n\u001B[0;32m----> 1\u001B[0m \u001B[43mminard\u001B[49m\u001B[38;5;241m.\u001B[39mloc[\u001B[38;5;241m5\u001B[39m]\n",
      "\u001B[0;31mNameError\u001B[0m: name 'minard' is not defined"
     ]
    }
   ]
  },
  {
   "cell_type": "code",
   "source": [
    "minard.iloc[5]"
   ],
   "metadata": {
    "id": "d0en_utusP75",
    "ExecuteTime": {
     "end_time": "2024-04-03T08:46:12.340446Z",
     "start_time": "2024-04-03T08:46:12.330415Z"
    }
   },
   "execution_count": 79,
   "outputs": [
    {
     "ename": "NameError",
     "evalue": "name 'minard' is not defined",
     "output_type": "error",
     "traceback": [
      "\u001B[0;31m---------------------------------------------------------------------------\u001B[0m",
      "\u001B[0;31mNameError\u001B[0m                                 Traceback (most recent call last)",
      "Cell \u001B[0;32mIn[79], line 1\u001B[0m\n\u001B[0;32m----> 1\u001B[0m \u001B[43mminard\u001B[49m\u001B[38;5;241m.\u001B[39miloc[\u001B[38;5;241m5\u001B[39m]\n",
      "\u001B[0;31mNameError\u001B[0m: name 'minard' is not defined"
     ]
    }
   ]
  },
  {
   "cell_type": "markdown",
   "source": [
    "#### iloc과 loc의 차이점?"
   ],
   "metadata": {
    "collapsed": false
   }
  },
  {
   "cell_type": "code",
   "source": [
    "# Working with the Data in a Column\n",
    "initial = minard['survivors'].iloc[0]\n",
    "minard['percent surviving'] = minard['survivors'] / initial\n",
    "minard"
   ],
   "metadata": {
    "id": "JnrFLLXhsj0b",
    "ExecuteTime": {
     "end_time": "2024-04-03T08:46:12.478451Z",
     "start_time": "2024-04-03T08:46:12.469156Z"
    }
   },
   "execution_count": 80,
   "outputs": [
    {
     "ename": "NameError",
     "evalue": "name 'minard' is not defined",
     "output_type": "error",
     "traceback": [
      "\u001B[0;31m---------------------------------------------------------------------------\u001B[0m",
      "\u001B[0;31mNameError\u001B[0m                                 Traceback (most recent call last)",
      "Cell \u001B[0;32mIn[80], line 2\u001B[0m\n\u001B[1;32m      1\u001B[0m \u001B[38;5;66;03m# Working with the Data in a Column\u001B[39;00m\n\u001B[0;32m----> 2\u001B[0m initial \u001B[38;5;241m=\u001B[39m \u001B[43mminard\u001B[49m[\u001B[38;5;124m'\u001B[39m\u001B[38;5;124msurvivors\u001B[39m\u001B[38;5;124m'\u001B[39m]\u001B[38;5;241m.\u001B[39miloc[\u001B[38;5;241m0\u001B[39m]\n\u001B[1;32m      3\u001B[0m minard[\u001B[38;5;124m'\u001B[39m\u001B[38;5;124mpercent surviving\u001B[39m\u001B[38;5;124m'\u001B[39m] \u001B[38;5;241m=\u001B[39m minard[\u001B[38;5;124m'\u001B[39m\u001B[38;5;124msurvivors\u001B[39m\u001B[38;5;124m'\u001B[39m] \u001B[38;5;241m/\u001B[39m initial\n\u001B[1;32m      4\u001B[0m minard\n",
      "\u001B[0;31mNameError\u001B[0m: name 'minard' is not defined"
     ]
    }
   ]
  },
  {
   "cell_type": "code",
   "source": [
    "# Formart columns 'percent surviving'\n",
    "minard2 = minard.style.format({'percent surviving': '{:.2%}'})"
   ],
   "metadata": {
    "id": "UNNwSu4Wsq8v",
    "ExecuteTime": {
     "end_time": "2024-04-03T08:46:12.534881Z",
     "start_time": "2024-04-03T08:46:12.523059Z"
    }
   },
   "execution_count": 81,
   "outputs": [
    {
     "ename": "NameError",
     "evalue": "name 'minard' is not defined",
     "output_type": "error",
     "traceback": [
      "\u001B[0;31m---------------------------------------------------------------------------\u001B[0m",
      "\u001B[0;31mNameError\u001B[0m                                 Traceback (most recent call last)",
      "Cell \u001B[0;32mIn[81], line 2\u001B[0m\n\u001B[1;32m      1\u001B[0m \u001B[38;5;66;03m# Formart columns 'percent surviving'\u001B[39;00m\n\u001B[0;32m----> 2\u001B[0m minard2 \u001B[38;5;241m=\u001B[39m \u001B[43mminard\u001B[49m\u001B[38;5;241m.\u001B[39mstyle\u001B[38;5;241m.\u001B[39mformat({\u001B[38;5;124m'\u001B[39m\u001B[38;5;124mpercent surviving\u001B[39m\u001B[38;5;124m'\u001B[39m: \u001B[38;5;124m'\u001B[39m\u001B[38;5;132;01m{:.2%}\u001B[39;00m\u001B[38;5;124m'\u001B[39m})\n",
      "\u001B[0;31mNameError\u001B[0m: name 'minard' is not defined"
     ]
    }
   ]
  },
  {
   "cell_type": "code",
   "source": [
    "minard2  # this is not a dataframe # "
   ],
   "metadata": {
    "id": "xq2ddrXgtH8X",
    "ExecuteTime": {
     "end_time": "2024-04-03T08:46:12.664110Z",
     "start_time": "2024-04-03T08:46:12.656039Z"
    }
   },
   "execution_count": 82,
   "outputs": [
    {
     "ename": "NameError",
     "evalue": "name 'minard2' is not defined",
     "output_type": "error",
     "traceback": [
      "\u001B[0;31m---------------------------------------------------------------------------\u001B[0m",
      "\u001B[0;31mNameError\u001B[0m                                 Traceback (most recent call last)",
      "Cell \u001B[0;32mIn[82], line 1\u001B[0m\n\u001B[0;32m----> 1\u001B[0m \u001B[43mminard2\u001B[49m  \u001B[38;5;66;03m# this is not a dataframe # \u001B[39;00m\n",
      "\u001B[0;31mNameError\u001B[0m: name 'minard2' is not defined"
     ]
    }
   ]
  },
  {
   "cell_type": "markdown",
   "source": [
    "#### Dataframe이 아닌 styler를 출력한 것이다."
   ],
   "metadata": {
    "collapsed": false
   }
  },
  {
   "cell_type": "code",
   "source": [
    "minard"
   ],
   "metadata": {
    "id": "ZUZNq6LztN1c",
    "ExecuteTime": {
     "end_time": "2024-04-03T08:46:12.744635Z",
     "start_time": "2024-04-03T08:46:12.730330Z"
    }
   },
   "execution_count": 83,
   "outputs": [
    {
     "ename": "NameError",
     "evalue": "name 'minard' is not defined",
     "output_type": "error",
     "traceback": [
      "\u001B[0;31m---------------------------------------------------------------------------\u001B[0m",
      "\u001B[0;31mNameError\u001B[0m                                 Traceback (most recent call last)",
      "Cell \u001B[0;32mIn[83], line 1\u001B[0m\n\u001B[0;32m----> 1\u001B[0m \u001B[43mminard\u001B[49m\n",
      "\u001B[0;31mNameError\u001B[0m: name 'minard' is not defined"
     ]
    }
   ]
  },
  {
   "cell_type": "markdown",
   "source": [
    "The method loc creates a new table that contains only the specified columns."
   ],
   "metadata": {
    "id": "qcrMwH08tpxw"
   }
  },
  {
   "cell_type": "code",
   "source": [
    "minard[['long', 'lat']]"
   ],
   "metadata": {
    "id": "_AmbkxaztsXt",
    "ExecuteTime": {
     "end_time": "2024-04-03T08:46:12.935596Z",
     "start_time": "2024-04-03T08:46:12.922938Z"
    }
   },
   "execution_count": 84,
   "outputs": [
    {
     "ename": "NameError",
     "evalue": "name 'minard' is not defined",
     "output_type": "error",
     "traceback": [
      "\u001B[0;31m---------------------------------------------------------------------------\u001B[0m",
      "\u001B[0;31mNameError\u001B[0m                                 Traceback (most recent call last)",
      "Cell \u001B[0;32mIn[84], line 1\u001B[0m\n\u001B[0;32m----> 1\u001B[0m \u001B[43mminard\u001B[49m[[\u001B[38;5;124m'\u001B[39m\u001B[38;5;124mlong\u001B[39m\u001B[38;5;124m'\u001B[39m, \u001B[38;5;124m'\u001B[39m\u001B[38;5;124mlat\u001B[39m\u001B[38;5;124m'\u001B[39m]]\n",
      "\u001B[0;31mNameError\u001B[0m: name 'minard' is not defined"
     ]
    }
   ]
  },
  {
   "cell_type": "code",
   "source": [
    "minard.loc[:, ['long', 'lat']]"
   ],
   "metadata": {
    "id": "NebDxvwatw5I",
    "ExecuteTime": {
     "end_time": "2024-04-03T08:46:13.077751Z",
     "start_time": "2024-04-03T08:46:13.067915Z"
    }
   },
   "execution_count": 85,
   "outputs": [
    {
     "ename": "NameError",
     "evalue": "name 'minard' is not defined",
     "output_type": "error",
     "traceback": [
      "\u001B[0;31m---------------------------------------------------------------------------\u001B[0m",
      "\u001B[0;31mNameError\u001B[0m                                 Traceback (most recent call last)",
      "Cell \u001B[0;32mIn[85], line 1\u001B[0m\n\u001B[0;32m----> 1\u001B[0m \u001B[43mminard\u001B[49m\u001B[38;5;241m.\u001B[39mloc[:, [\u001B[38;5;124m'\u001B[39m\u001B[38;5;124mlong\u001B[39m\u001B[38;5;124m'\u001B[39m, \u001B[38;5;124m'\u001B[39m\u001B[38;5;124mlat\u001B[39m\u001B[38;5;124m'\u001B[39m]]\n",
      "\u001B[0;31mNameError\u001B[0m: name 'minard' is not defined"
     ]
    }
   ]
  },
  {
   "cell_type": "code",
   "source": [
    "minard['long']  # returns an array"
   ],
   "metadata": {
    "id": "VLkuepb6uE-A",
    "ExecuteTime": {
     "end_time": "2024-04-03T08:46:13.218456Z",
     "start_time": "2024-04-03T08:46:13.206709Z"
    }
   },
   "execution_count": 86,
   "outputs": [
    {
     "ename": "NameError",
     "evalue": "name 'minard' is not defined",
     "output_type": "error",
     "traceback": [
      "\u001B[0;31m---------------------------------------------------------------------------\u001B[0m",
      "\u001B[0;31mNameError\u001B[0m                                 Traceback (most recent call last)",
      "Cell \u001B[0;32mIn[86], line 1\u001B[0m\n\u001B[0;32m----> 1\u001B[0m \u001B[43mminard\u001B[49m[\u001B[38;5;124m'\u001B[39m\u001B[38;5;124mlong\u001B[39m\u001B[38;5;124m'\u001B[39m]  \u001B[38;5;66;03m# returns an array\u001B[39;00m\n",
      "\u001B[0;31mNameError\u001B[0m: name 'minard' is not defined"
     ]
    }
   ]
  },
  {
   "cell_type": "code",
   "source": [
    "minard[['long']]  # returns a DataFrame"
   ],
   "metadata": {
    "id": "urL8AxgcuXne",
    "ExecuteTime": {
     "end_time": "2024-04-03T08:46:13.270662Z",
     "start_time": "2024-04-03T08:46:13.259066Z"
    }
   },
   "execution_count": 87,
   "outputs": [
    {
     "ename": "NameError",
     "evalue": "name 'minard' is not defined",
     "output_type": "error",
     "traceback": [
      "\u001B[0;31m---------------------------------------------------------------------------\u001B[0m",
      "\u001B[0;31mNameError\u001B[0m                                 Traceback (most recent call last)",
      "Cell \u001B[0;32mIn[87], line 1\u001B[0m\n\u001B[0;32m----> 1\u001B[0m \u001B[43mminard\u001B[49m[[\u001B[38;5;124m'\u001B[39m\u001B[38;5;124mlong\u001B[39m\u001B[38;5;124m'\u001B[39m]]  \u001B[38;5;66;03m# returns a DataFrame\u001B[39;00m\n",
      "\u001B[0;31mNameError\u001B[0m: name 'minard' is not defined"
     ]
    }
   ]
  },
  {
   "cell_type": "code",
   "source": [
    "minard.loc[:, ['long']]"
   ],
   "metadata": {
    "id": "f0dVTXtjuwMd",
    "ExecuteTime": {
     "end_time": "2024-04-03T08:46:13.345915Z",
     "start_time": "2024-04-03T08:46:13.338025Z"
    }
   },
   "execution_count": 88,
   "outputs": [
    {
     "ename": "NameError",
     "evalue": "name 'minard' is not defined",
     "output_type": "error",
     "traceback": [
      "\u001B[0;31m---------------------------------------------------------------------------\u001B[0m",
      "\u001B[0;31mNameError\u001B[0m                                 Traceback (most recent call last)",
      "Cell \u001B[0;32mIn[88], line 1\u001B[0m\n\u001B[0;32m----> 1\u001B[0m \u001B[43mminard\u001B[49m\u001B[38;5;241m.\u001B[39mloc[:, [\u001B[38;5;124m'\u001B[39m\u001B[38;5;124mlong\u001B[39m\u001B[38;5;124m'\u001B[39m]]\n",
      "\u001B[0;31mNameError\u001B[0m: name 'minard' is not defined"
     ]
    }
   ]
  },
  {
   "cell_type": "code",
   "source": [
    "minard.iloc[:, :1]"
   ],
   "metadata": {
    "id": "ExirEHL_uind",
    "ExecuteTime": {
     "end_time": "2024-04-03T08:46:13.397348Z",
     "start_time": "2024-04-03T08:46:13.389270Z"
    }
   },
   "execution_count": 89,
   "outputs": [
    {
     "ename": "NameError",
     "evalue": "name 'minard' is not defined",
     "output_type": "error",
     "traceback": [
      "\u001B[0;31m---------------------------------------------------------------------------\u001B[0m",
      "\u001B[0;31mNameError\u001B[0m                                 Traceback (most recent call last)",
      "Cell \u001B[0;32mIn[89], line 1\u001B[0m\n\u001B[0;32m----> 1\u001B[0m \u001B[43mminard\u001B[49m\u001B[38;5;241m.\u001B[39miloc[:, :\u001B[38;5;241m1\u001B[39m]\n",
      "\u001B[0;31mNameError\u001B[0m: name 'minard' is not defined"
     ]
    }
   ]
  },
  {
   "cell_type": "code",
   "source": [
    "minard.drop(columns=['long', 'lat', 'direction'])"
   ],
   "metadata": {
    "id": "4WTpG13GvTSC",
    "ExecuteTime": {
     "end_time": "2024-04-03T08:46:13.522066Z",
     "start_time": "2024-04-03T08:46:13.512804Z"
    }
   },
   "execution_count": 90,
   "outputs": [
    {
     "ename": "NameError",
     "evalue": "name 'minard' is not defined",
     "output_type": "error",
     "traceback": [
      "\u001B[0;31m---------------------------------------------------------------------------\u001B[0m",
      "\u001B[0;31mNameError\u001B[0m                                 Traceback (most recent call last)",
      "Cell \u001B[0;32mIn[90], line 1\u001B[0m\n\u001B[0;32m----> 1\u001B[0m \u001B[43mminard\u001B[49m\u001B[38;5;241m.\u001B[39mdrop(columns\u001B[38;5;241m=\u001B[39m[\u001B[38;5;124m'\u001B[39m\u001B[38;5;124mlong\u001B[39m\u001B[38;5;124m'\u001B[39m, \u001B[38;5;124m'\u001B[39m\u001B[38;5;124mlat\u001B[39m\u001B[38;5;124m'\u001B[39m, \u001B[38;5;124m'\u001B[39m\u001B[38;5;124mdirection\u001B[39m\u001B[38;5;124m'\u001B[39m])\n",
      "\u001B[0;31mNameError\u001B[0m: name 'minard' is not defined"
     ]
    }
   ]
  },
  {
   "cell_type": "code",
   "source": [
    "minard  # applying iloc, loc, drop won't change the original table"
   ],
   "metadata": {
    "id": "ouT3_1SKvdZj",
    "ExecuteTime": {
     "end_time": "2024-04-03T08:46:13.707419Z",
     "start_time": "2024-04-03T08:46:13.696852Z"
    }
   },
   "execution_count": 91,
   "outputs": [
    {
     "ename": "NameError",
     "evalue": "name 'minard' is not defined",
     "output_type": "error",
     "traceback": [
      "\u001B[0;31m---------------------------------------------------------------------------\u001B[0m",
      "\u001B[0;31mNameError\u001B[0m                                 Traceback (most recent call last)",
      "Cell \u001B[0;32mIn[91], line 1\u001B[0m\n\u001B[0;32m----> 1\u001B[0m \u001B[43mminard\u001B[49m  \u001B[38;5;66;03m# applying iloc, loc, drop won't change the original table\u001B[39;00m\n",
      "\u001B[0;31mNameError\u001B[0m: name 'minard' is not defined"
     ]
    }
   ]
  },
  {
   "cell_type": "code",
   "source": [
    "minard = minard.drop(columns=['long', 'lat', 'direction'])"
   ],
   "metadata": {
    "id": "QlQAYkoCvgMI",
    "ExecuteTime": {
     "end_time": "2024-04-03T08:46:13.994493Z",
     "start_time": "2024-04-03T08:46:13.987010Z"
    }
   },
   "execution_count": 92,
   "outputs": [
    {
     "ename": "NameError",
     "evalue": "name 'minard' is not defined",
     "output_type": "error",
     "traceback": [
      "\u001B[0;31m---------------------------------------------------------------------------\u001B[0m",
      "\u001B[0;31mNameError\u001B[0m                                 Traceback (most recent call last)",
      "Cell \u001B[0;32mIn[92], line 1\u001B[0m\n\u001B[0;32m----> 1\u001B[0m minard \u001B[38;5;241m=\u001B[39m \u001B[43mminard\u001B[49m\u001B[38;5;241m.\u001B[39mdrop(columns\u001B[38;5;241m=\u001B[39m[\u001B[38;5;124m'\u001B[39m\u001B[38;5;124mlong\u001B[39m\u001B[38;5;124m'\u001B[39m, \u001B[38;5;124m'\u001B[39m\u001B[38;5;124mlat\u001B[39m\u001B[38;5;124m'\u001B[39m, \u001B[38;5;124m'\u001B[39m\u001B[38;5;124mdirection\u001B[39m\u001B[38;5;124m'\u001B[39m])\n",
      "\u001B[0;31mNameError\u001B[0m: name 'minard' is not defined"
     ]
    }
   ]
  },
  {
   "cell_type": "code",
   "source": [
    "minard"
   ],
   "metadata": {
    "id": "TTEzw2I6vh3o",
    "ExecuteTime": {
     "end_time": "2024-04-03T08:46:14.051980Z",
     "start_time": "2024-04-03T08:46:14.042625Z"
    }
   },
   "execution_count": 93,
   "outputs": [
    {
     "ename": "NameError",
     "evalue": "name 'minard' is not defined",
     "output_type": "error",
     "traceback": [
      "\u001B[0;31m---------------------------------------------------------------------------\u001B[0m",
      "\u001B[0;31mNameError\u001B[0m                                 Traceback (most recent call last)",
      "Cell \u001B[0;32mIn[93], line 1\u001B[0m\n\u001B[0;32m----> 1\u001B[0m \u001B[43mminard\u001B[49m\n",
      "\u001B[0;31mNameError\u001B[0m: name 'minard' is not defined"
     ]
    }
   ]
  },
  {
   "cell_type": "markdown",
   "source": [
    "## selecting rows"
   ],
   "metadata": {
    "id": "r6K9vrUpRHAc"
   }
  },
  {
   "cell_type": "markdown",
   "source": [],
   "metadata": {
    "collapsed": false
   }
  },
  {
   "cell_type": "markdown",
   "source": [
    "### See {x} Tab"
   ],
   "metadata": {
    "id": "kFCruAlO0PGH"
   }
  },
  {
   "cell_type": "code",
   "source": [
    "%reset"
   ],
   "metadata": {
    "id": "O8qIUow00Fjj",
    "ExecuteTime": {
     "end_time": "2024-04-03T08:46:17.650780Z",
     "start_time": "2024-04-03T08:46:14.196474Z"
    }
   },
   "execution_count": 94,
   "outputs": []
  },
  {
   "cell_type": "code",
   "source": [
    "import pandas as pd\n",
    "\n",
    "nba = pd.read_csv('nba_salaries_3.4.4.csv')"
   ],
   "metadata": {
    "id": "EJysy7SiwBwY",
    "ExecuteTime": {
     "end_time": "2024-04-03T08:46:17.655640Z",
     "start_time": "2024-04-03T08:46:17.652051Z"
    }
   },
   "execution_count": 95,
   "outputs": []
  },
  {
   "cell_type": "code",
   "source": [
    "# Show the 1st row\n",
    "nba.iloc[[0]]"
   ],
   "metadata": {
    "id": "RllOTaT8N56m",
    "ExecuteTime": {
     "end_time": "2024-04-03T08:46:17.680443Z",
     "start_time": "2024-04-03T08:46:17.676962Z"
    }
   },
   "execution_count": 96,
   "outputs": [
    {
     "data": {
      "text/plain": "         PLAYER POSITION           TEAM  2015-2016 SALARY\n0  Paul Millsap       PF  Atlanta Hawks         18.671659",
      "text/html": "<div>\n<style scoped>\n    .dataframe tbody tr th:only-of-type {\n        vertical-align: middle;\n    }\n\n    .dataframe tbody tr th {\n        vertical-align: top;\n    }\n\n    .dataframe thead th {\n        text-align: right;\n    }\n</style>\n<table border=\"1\" class=\"dataframe\">\n  <thead>\n    <tr style=\"text-align: right;\">\n      <th></th>\n      <th>PLAYER</th>\n      <th>POSITION</th>\n      <th>TEAM</th>\n      <th>2015-2016 SALARY</th>\n    </tr>\n  </thead>\n  <tbody>\n    <tr>\n      <th>0</th>\n      <td>Paul Millsap</td>\n      <td>PF</td>\n      <td>Atlanta Hawks</td>\n      <td>18.671659</td>\n    </tr>\n  </tbody>\n</table>\n</div>"
     },
     "execution_count": 96,
     "metadata": {},
     "output_type": "execute_result"
    }
   ]
  },
  {
   "cell_type": "code",
   "source": [
    "nba[:1]"
   ],
   "metadata": {
    "id": "vTx-aB9VOj7b",
    "ExecuteTime": {
     "end_time": "2024-04-03T08:46:17.727352Z",
     "start_time": "2024-04-03T08:46:17.723565Z"
    }
   },
   "execution_count": 97,
   "outputs": [
    {
     "data": {
      "text/plain": "         PLAYER POSITION           TEAM  2015-2016 SALARY\n0  Paul Millsap       PF  Atlanta Hawks         18.671659",
      "text/html": "<div>\n<style scoped>\n    .dataframe tbody tr th:only-of-type {\n        vertical-align: middle;\n    }\n\n    .dataframe tbody tr th {\n        vertical-align: top;\n    }\n\n    .dataframe thead th {\n        text-align: right;\n    }\n</style>\n<table border=\"1\" class=\"dataframe\">\n  <thead>\n    <tr style=\"text-align: right;\">\n      <th></th>\n      <th>PLAYER</th>\n      <th>POSITION</th>\n      <th>TEAM</th>\n      <th>2015-2016 SALARY</th>\n    </tr>\n  </thead>\n  <tbody>\n    <tr>\n      <th>0</th>\n      <td>Paul Millsap</td>\n      <td>PF</td>\n      <td>Atlanta Hawks</td>\n      <td>18.671659</td>\n    </tr>\n  </tbody>\n</table>\n</div>"
     },
     "execution_count": 97,
     "metadata": {},
     "output_type": "execute_result"
    }
   ]
  },
  {
   "cell_type": "code",
   "source": [
    "# Show rows between 3 to 5\n",
    "nba.iloc[3:6]"
   ],
   "metadata": {
    "id": "RLiu0hh0OmlY",
    "ExecuteTime": {
     "end_time": "2024-04-03T08:46:17.832265Z",
     "start_time": "2024-04-03T08:46:17.828603Z"
    }
   },
   "execution_count": 98,
   "outputs": [
    {
     "data": {
      "text/plain": "            PLAYER POSITION           TEAM  2015-2016 SALARY\n3      Jeff Teague       PG  Atlanta Hawks          8.000000\n4      Kyle Korver       SG  Atlanta Hawks          5.746479\n5  Thabo Sefolosha       SF  Atlanta Hawks          4.000000",
      "text/html": "<div>\n<style scoped>\n    .dataframe tbody tr th:only-of-type {\n        vertical-align: middle;\n    }\n\n    .dataframe tbody tr th {\n        vertical-align: top;\n    }\n\n    .dataframe thead th {\n        text-align: right;\n    }\n</style>\n<table border=\"1\" class=\"dataframe\">\n  <thead>\n    <tr style=\"text-align: right;\">\n      <th></th>\n      <th>PLAYER</th>\n      <th>POSITION</th>\n      <th>TEAM</th>\n      <th>2015-2016 SALARY</th>\n    </tr>\n  </thead>\n  <tbody>\n    <tr>\n      <th>3</th>\n      <td>Jeff Teague</td>\n      <td>PG</td>\n      <td>Atlanta Hawks</td>\n      <td>8.000000</td>\n    </tr>\n    <tr>\n      <th>4</th>\n      <td>Kyle Korver</td>\n      <td>SG</td>\n      <td>Atlanta Hawks</td>\n      <td>5.746479</td>\n    </tr>\n    <tr>\n      <th>5</th>\n      <td>Thabo Sefolosha</td>\n      <td>SF</td>\n      <td>Atlanta Hawks</td>\n      <td>4.000000</td>\n    </tr>\n  </tbody>\n</table>\n</div>"
     },
     "execution_count": 98,
     "metadata": {},
     "output_type": "execute_result"
    }
   ]
  },
  {
   "cell_type": "code",
   "source": [
    "nba = nba.rename(columns={'2015-2016 SALARY': 'SALARY'})"
   ],
   "metadata": {
    "id": "ReXAxyyr0-NW",
    "ExecuteTime": {
     "end_time": "2024-04-03T08:46:17.875066Z",
     "start_time": "2024-04-03T08:46:17.872917Z"
    }
   },
   "execution_count": 99,
   "outputs": []
  },
  {
   "cell_type": "code",
   "source": [
    "nba"
   ],
   "metadata": {
    "id": "Q6hkqtxA1MrZ",
    "ExecuteTime": {
     "end_time": "2024-04-03T08:46:17.949631Z",
     "start_time": "2024-04-03T08:46:17.945638Z"
    }
   },
   "execution_count": 100,
   "outputs": [
    {
     "data": {
      "text/plain": "              PLAYER POSITION                TEAM     SALARY\n0       Paul Millsap       PF       Atlanta Hawks  18.671659\n1         Al Horford        C       Atlanta Hawks  12.000000\n2     Tiago Splitter        C       Atlanta Hawks   9.756250\n3        Jeff Teague       PG       Atlanta Hawks   8.000000\n4        Kyle Korver       SG       Atlanta Hawks   5.746479\n..               ...      ...                 ...        ...\n412        Gary Neal       PG  Washington Wizards   2.139000\n413     DeJuan Blair        C  Washington Wizards   2.000000\n414  Kelly Oubre Jr.       SF  Washington Wizards   1.920240\n415   Garrett Temple       SG  Washington Wizards   1.100602\n416     Jarell Eddie       SG  Washington Wizards   0.561716\n\n[417 rows x 4 columns]",
      "text/html": "<div>\n<style scoped>\n    .dataframe tbody tr th:only-of-type {\n        vertical-align: middle;\n    }\n\n    .dataframe tbody tr th {\n        vertical-align: top;\n    }\n\n    .dataframe thead th {\n        text-align: right;\n    }\n</style>\n<table border=\"1\" class=\"dataframe\">\n  <thead>\n    <tr style=\"text-align: right;\">\n      <th></th>\n      <th>PLAYER</th>\n      <th>POSITION</th>\n      <th>TEAM</th>\n      <th>SALARY</th>\n    </tr>\n  </thead>\n  <tbody>\n    <tr>\n      <th>0</th>\n      <td>Paul Millsap</td>\n      <td>PF</td>\n      <td>Atlanta Hawks</td>\n      <td>18.671659</td>\n    </tr>\n    <tr>\n      <th>1</th>\n      <td>Al Horford</td>\n      <td>C</td>\n      <td>Atlanta Hawks</td>\n      <td>12.000000</td>\n    </tr>\n    <tr>\n      <th>2</th>\n      <td>Tiago Splitter</td>\n      <td>C</td>\n      <td>Atlanta Hawks</td>\n      <td>9.756250</td>\n    </tr>\n    <tr>\n      <th>3</th>\n      <td>Jeff Teague</td>\n      <td>PG</td>\n      <td>Atlanta Hawks</td>\n      <td>8.000000</td>\n    </tr>\n    <tr>\n      <th>4</th>\n      <td>Kyle Korver</td>\n      <td>SG</td>\n      <td>Atlanta Hawks</td>\n      <td>5.746479</td>\n    </tr>\n    <tr>\n      <th>...</th>\n      <td>...</td>\n      <td>...</td>\n      <td>...</td>\n      <td>...</td>\n    </tr>\n    <tr>\n      <th>412</th>\n      <td>Gary Neal</td>\n      <td>PG</td>\n      <td>Washington Wizards</td>\n      <td>2.139000</td>\n    </tr>\n    <tr>\n      <th>413</th>\n      <td>DeJuan Blair</td>\n      <td>C</td>\n      <td>Washington Wizards</td>\n      <td>2.000000</td>\n    </tr>\n    <tr>\n      <th>414</th>\n      <td>Kelly Oubre Jr.</td>\n      <td>SF</td>\n      <td>Washington Wizards</td>\n      <td>1.920240</td>\n    </tr>\n    <tr>\n      <th>415</th>\n      <td>Garrett Temple</td>\n      <td>SG</td>\n      <td>Washington Wizards</td>\n      <td>1.100602</td>\n    </tr>\n    <tr>\n      <th>416</th>\n      <td>Jarell Eddie</td>\n      <td>SG</td>\n      <td>Washington Wizards</td>\n      <td>0.561716</td>\n    </tr>\n  </tbody>\n</table>\n<p>417 rows × 4 columns</p>\n</div>"
     },
     "execution_count": 100,
     "metadata": {},
     "output_type": "execute_result"
    }
   ]
  },
  {
   "cell_type": "markdown",
   "source": [
    "## sorting rows"
   ],
   "metadata": {
    "id": "GzsV3LcIRMUs"
   }
  },
  {
   "cell_type": "code",
   "source": [
    "# top 5 hiest paid players\n",
    "nba.sort_values(by=[\"SALARY\"], ascending=False).iloc[:5]"
   ],
   "metadata": {
    "id": "bpipHJotNa1u",
    "ExecuteTime": {
     "end_time": "2024-04-03T08:32:04.620622Z",
     "start_time": "2024-04-03T08:32:04.615917Z"
    }
   },
   "execution_count": 179,
   "outputs": [
    {
     "data": {
      "text/plain": "              PLAYER POSITION                 TEAM     SALARY\n169      Kobe Bryant       SF   Los Angeles Lakers  25.000000\n29       Joe Johnson       SF        Brooklyn Nets  24.894863\n72      LeBron James       SF  Cleveland Cavaliers  22.970500\n255  Carmelo Anthony       SF      New York Knicks  22.875000\n131    Dwight Howard        C      Houston Rockets  22.359364",
      "text/html": "<div>\n<style scoped>\n    .dataframe tbody tr th:only-of-type {\n        vertical-align: middle;\n    }\n\n    .dataframe tbody tr th {\n        vertical-align: top;\n    }\n\n    .dataframe thead th {\n        text-align: right;\n    }\n</style>\n<table border=\"1\" class=\"dataframe\">\n  <thead>\n    <tr style=\"text-align: right;\">\n      <th></th>\n      <th>PLAYER</th>\n      <th>POSITION</th>\n      <th>TEAM</th>\n      <th>SALARY</th>\n    </tr>\n  </thead>\n  <tbody>\n    <tr>\n      <th>169</th>\n      <td>Kobe Bryant</td>\n      <td>SF</td>\n      <td>Los Angeles Lakers</td>\n      <td>25.000000</td>\n    </tr>\n    <tr>\n      <th>29</th>\n      <td>Joe Johnson</td>\n      <td>SF</td>\n      <td>Brooklyn Nets</td>\n      <td>24.894863</td>\n    </tr>\n    <tr>\n      <th>72</th>\n      <td>LeBron James</td>\n      <td>SF</td>\n      <td>Cleveland Cavaliers</td>\n      <td>22.970500</td>\n    </tr>\n    <tr>\n      <th>255</th>\n      <td>Carmelo Anthony</td>\n      <td>SF</td>\n      <td>New York Knicks</td>\n      <td>22.875000</td>\n    </tr>\n    <tr>\n      <th>131</th>\n      <td>Dwight Howard</td>\n      <td>C</td>\n      <td>Houston Rockets</td>\n      <td>22.359364</td>\n    </tr>\n  </tbody>\n</table>\n</div>"
     },
     "execution_count": 179,
     "metadata": {},
     "output_type": "execute_result"
    }
   ]
  },
  {
   "cell_type": "code",
   "source": [
    "nba.sort_values(by=[\"SALARY\"], ascending=False)[:5]"
   ],
   "metadata": {
    "id": "akPt6ZzpO-6O",
    "ExecuteTime": {
     "end_time": "2024-04-03T08:32:09.858403Z",
     "start_time": "2024-04-03T08:32:09.854424Z"
    }
   },
   "execution_count": 180,
   "outputs": [
    {
     "data": {
      "text/plain": "              PLAYER POSITION                 TEAM     SALARY\n169      Kobe Bryant       SF   Los Angeles Lakers  25.000000\n29       Joe Johnson       SF        Brooklyn Nets  24.894863\n72      LeBron James       SF  Cleveland Cavaliers  22.970500\n255  Carmelo Anthony       SF      New York Knicks  22.875000\n131    Dwight Howard        C      Houston Rockets  22.359364",
      "text/html": "<div>\n<style scoped>\n    .dataframe tbody tr th:only-of-type {\n        vertical-align: middle;\n    }\n\n    .dataframe tbody tr th {\n        vertical-align: top;\n    }\n\n    .dataframe thead th {\n        text-align: right;\n    }\n</style>\n<table border=\"1\" class=\"dataframe\">\n  <thead>\n    <tr style=\"text-align: right;\">\n      <th></th>\n      <th>PLAYER</th>\n      <th>POSITION</th>\n      <th>TEAM</th>\n      <th>SALARY</th>\n    </tr>\n  </thead>\n  <tbody>\n    <tr>\n      <th>169</th>\n      <td>Kobe Bryant</td>\n      <td>SF</td>\n      <td>Los Angeles Lakers</td>\n      <td>25.000000</td>\n    </tr>\n    <tr>\n      <th>29</th>\n      <td>Joe Johnson</td>\n      <td>SF</td>\n      <td>Brooklyn Nets</td>\n      <td>24.894863</td>\n    </tr>\n    <tr>\n      <th>72</th>\n      <td>LeBron James</td>\n      <td>SF</td>\n      <td>Cleveland Cavaliers</td>\n      <td>22.970500</td>\n    </tr>\n    <tr>\n      <th>255</th>\n      <td>Carmelo Anthony</td>\n      <td>SF</td>\n      <td>New York Knicks</td>\n      <td>22.875000</td>\n    </tr>\n    <tr>\n      <th>131</th>\n      <td>Dwight Howard</td>\n      <td>C</td>\n      <td>Houston Rockets</td>\n      <td>22.359364</td>\n    </tr>\n  </tbody>\n</table>\n</div>"
     },
     "execution_count": 180,
     "metadata": {},
     "output_type": "execute_result"
    }
   ]
  },
  {
   "cell_type": "markdown",
   "source": [
    "## selecting rows by values"
   ],
   "metadata": {
    "id": "rBICRA3rROUJ"
   }
  },
  {
   "cell_type": "code",
   "source": [
    "# Filter the rows where 'SALARY' >= 10\n",
    "nba[nba['SALARY'] > 10]"
   ],
   "metadata": {
    "id": "qxwlmq4DPUL8",
    "ExecuteTime": {
     "end_time": "2024-04-03T08:34:37.491987Z",
     "start_time": "2024-04-03T08:34:37.487938Z"
    }
   },
   "execution_count": 182,
   "outputs": [
    {
     "data": {
      "text/plain": "             PLAYER POSITION                TEAM     SALARY\n0      Paul Millsap       PF       Atlanta Hawks  18.671659\n1        Al Horford        C       Atlanta Hawks  12.000000\n29      Joe Johnson       SF       Brooklyn Nets  24.894863\n30   Thaddeus Young       PF       Brooklyn Nets  11.235955\n42     Al Jefferson        C   Charlotte Hornets  13.500000\n..              ...      ...                 ...        ...\n368   DeMar DeRozan       SG     Toronto Raptors  10.050000\n383  Gordon Hayward       SF           Utah Jazz  15.409570\n400       John Wall       PG  Washington Wizards  15.851950\n401    Nene Hilario        C  Washington Wizards  13.000000\n402   Marcin Gortat        C  Washington Wizards  11.217391\n\n[69 rows x 4 columns]",
      "text/html": "<div>\n<style scoped>\n    .dataframe tbody tr th:only-of-type {\n        vertical-align: middle;\n    }\n\n    .dataframe tbody tr th {\n        vertical-align: top;\n    }\n\n    .dataframe thead th {\n        text-align: right;\n    }\n</style>\n<table border=\"1\" class=\"dataframe\">\n  <thead>\n    <tr style=\"text-align: right;\">\n      <th></th>\n      <th>PLAYER</th>\n      <th>POSITION</th>\n      <th>TEAM</th>\n      <th>SALARY</th>\n    </tr>\n  </thead>\n  <tbody>\n    <tr>\n      <th>0</th>\n      <td>Paul Millsap</td>\n      <td>PF</td>\n      <td>Atlanta Hawks</td>\n      <td>18.671659</td>\n    </tr>\n    <tr>\n      <th>1</th>\n      <td>Al Horford</td>\n      <td>C</td>\n      <td>Atlanta Hawks</td>\n      <td>12.000000</td>\n    </tr>\n    <tr>\n      <th>29</th>\n      <td>Joe Johnson</td>\n      <td>SF</td>\n      <td>Brooklyn Nets</td>\n      <td>24.894863</td>\n    </tr>\n    <tr>\n      <th>30</th>\n      <td>Thaddeus Young</td>\n      <td>PF</td>\n      <td>Brooklyn Nets</td>\n      <td>11.235955</td>\n    </tr>\n    <tr>\n      <th>42</th>\n      <td>Al Jefferson</td>\n      <td>C</td>\n      <td>Charlotte Hornets</td>\n      <td>13.500000</td>\n    </tr>\n    <tr>\n      <th>...</th>\n      <td>...</td>\n      <td>...</td>\n      <td>...</td>\n      <td>...</td>\n    </tr>\n    <tr>\n      <th>368</th>\n      <td>DeMar DeRozan</td>\n      <td>SG</td>\n      <td>Toronto Raptors</td>\n      <td>10.050000</td>\n    </tr>\n    <tr>\n      <th>383</th>\n      <td>Gordon Hayward</td>\n      <td>SF</td>\n      <td>Utah Jazz</td>\n      <td>15.409570</td>\n    </tr>\n    <tr>\n      <th>400</th>\n      <td>John Wall</td>\n      <td>PG</td>\n      <td>Washington Wizards</td>\n      <td>15.851950</td>\n    </tr>\n    <tr>\n      <th>401</th>\n      <td>Nene Hilario</td>\n      <td>C</td>\n      <td>Washington Wizards</td>\n      <td>13.000000</td>\n    </tr>\n    <tr>\n      <th>402</th>\n      <td>Marcin Gortat</td>\n      <td>C</td>\n      <td>Washington Wizards</td>\n      <td>11.217391</td>\n    </tr>\n  </tbody>\n</table>\n<p>69 rows × 4 columns</p>\n</div>"
     },
     "execution_count": 182,
     "metadata": {},
     "output_type": "execute_result"
    }
   ]
  },
  {
   "cell_type": "code",
   "source": [
    "# Filter the rows where 'SALARY' >= 10, then sort by 'SALARY', ascending=False\n",
    "nba[nba['SALARY'] > 10].sort_values('SALARY', ascending=False)"
   ],
   "metadata": {
    "id": "MxwJBMf1PfUa",
    "ExecuteTime": {
     "end_time": "2024-04-03T08:34:38.027448Z",
     "start_time": "2024-04-03T08:34:38.023064Z"
    }
   },
   "execution_count": 183,
   "outputs": [
    {
     "data": {
      "text/plain": "              PLAYER POSITION                 TEAM     SALARY\n169      Kobe Bryant       SF   Los Angeles Lakers  25.000000\n29       Joe Johnson       SF        Brooklyn Nets  24.894863\n72      LeBron James       SF  Cleveland Cavaliers  22.970500\n255  Carmelo Anthony       SF      New York Knicks  22.875000\n131    Dwight Howard        C      Houston Rockets  22.359364\n..               ...      ...                  ...        ...\n95   Wilson Chandler       SF       Denver Nuggets  10.449438\n144      Monta Ellis       SG       Indiana Pacers  10.300000\n204        Luol Deng       SF           Miami Heat  10.151612\n298   Gerald Wallace       SF   Philadelphia 76ers  10.105855\n368    DeMar DeRozan       SG      Toronto Raptors  10.050000\n\n[69 rows x 4 columns]",
      "text/html": "<div>\n<style scoped>\n    .dataframe tbody tr th:only-of-type {\n        vertical-align: middle;\n    }\n\n    .dataframe tbody tr th {\n        vertical-align: top;\n    }\n\n    .dataframe thead th {\n        text-align: right;\n    }\n</style>\n<table border=\"1\" class=\"dataframe\">\n  <thead>\n    <tr style=\"text-align: right;\">\n      <th></th>\n      <th>PLAYER</th>\n      <th>POSITION</th>\n      <th>TEAM</th>\n      <th>SALARY</th>\n    </tr>\n  </thead>\n  <tbody>\n    <tr>\n      <th>169</th>\n      <td>Kobe Bryant</td>\n      <td>SF</td>\n      <td>Los Angeles Lakers</td>\n      <td>25.000000</td>\n    </tr>\n    <tr>\n      <th>29</th>\n      <td>Joe Johnson</td>\n      <td>SF</td>\n      <td>Brooklyn Nets</td>\n      <td>24.894863</td>\n    </tr>\n    <tr>\n      <th>72</th>\n      <td>LeBron James</td>\n      <td>SF</td>\n      <td>Cleveland Cavaliers</td>\n      <td>22.970500</td>\n    </tr>\n    <tr>\n      <th>255</th>\n      <td>Carmelo Anthony</td>\n      <td>SF</td>\n      <td>New York Knicks</td>\n      <td>22.875000</td>\n    </tr>\n    <tr>\n      <th>131</th>\n      <td>Dwight Howard</td>\n      <td>C</td>\n      <td>Houston Rockets</td>\n      <td>22.359364</td>\n    </tr>\n    <tr>\n      <th>...</th>\n      <td>...</td>\n      <td>...</td>\n      <td>...</td>\n      <td>...</td>\n    </tr>\n    <tr>\n      <th>95</th>\n      <td>Wilson Chandler</td>\n      <td>SF</td>\n      <td>Denver Nuggets</td>\n      <td>10.449438</td>\n    </tr>\n    <tr>\n      <th>144</th>\n      <td>Monta Ellis</td>\n      <td>SG</td>\n      <td>Indiana Pacers</td>\n      <td>10.300000</td>\n    </tr>\n    <tr>\n      <th>204</th>\n      <td>Luol Deng</td>\n      <td>SF</td>\n      <td>Miami Heat</td>\n      <td>10.151612</td>\n    </tr>\n    <tr>\n      <th>298</th>\n      <td>Gerald Wallace</td>\n      <td>SF</td>\n      <td>Philadelphia 76ers</td>\n      <td>10.105855</td>\n    </tr>\n    <tr>\n      <th>368</th>\n      <td>DeMar DeRozan</td>\n      <td>SG</td>\n      <td>Toronto Raptors</td>\n      <td>10.050000</td>\n    </tr>\n  </tbody>\n</table>\n<p>69 rows × 4 columns</p>\n</div>"
     },
     "execution_count": 183,
     "metadata": {},
     "output_type": "execute_result"
    }
   ]
  },
  {
   "cell_type": "code",
   "source": [
    "# Filter the rows where 'PLARYER' == 'Stephen Curry'\n",
    "nba[nba['PLAYER'] == 'Stephen Curry']"
   ],
   "metadata": {
    "id": "r40IxV5jPxHf",
    "ExecuteTime": {
     "end_time": "2024-04-03T08:34:39.242654Z",
     "start_time": "2024-04-03T08:34:39.238985Z"
    }
   },
   "execution_count": 184,
   "outputs": [
    {
     "data": {
      "text/plain": "            PLAYER POSITION                   TEAM     SALARY\n121  Stephen Curry       PG  Golden State Warriors  11.370786",
      "text/html": "<div>\n<style scoped>\n    .dataframe tbody tr th:only-of-type {\n        vertical-align: middle;\n    }\n\n    .dataframe tbody tr th {\n        vertical-align: top;\n    }\n\n    .dataframe thead th {\n        text-align: right;\n    }\n</style>\n<table border=\"1\" class=\"dataframe\">\n  <thead>\n    <tr style=\"text-align: right;\">\n      <th></th>\n      <th>PLAYER</th>\n      <th>POSITION</th>\n      <th>TEAM</th>\n      <th>SALARY</th>\n    </tr>\n  </thead>\n  <tbody>\n    <tr>\n      <th>121</th>\n      <td>Stephen Curry</td>\n      <td>PG</td>\n      <td>Golden State Warriors</td>\n      <td>11.370786</td>\n    </tr>\n  </tbody>\n</table>\n</div>"
     },
     "execution_count": 184,
     "metadata": {},
     "output_type": "execute_result"
    }
   ]
  },
  {
   "cell_type": "code",
   "source": [
    "nba['PLAYER'] == 'Stephen Curry'"
   ],
   "metadata": {
    "id": "OGt5KEpJ1tAl",
    "ExecuteTime": {
     "end_time": "2024-04-03T08:34:39.811705Z",
     "start_time": "2024-04-03T08:34:39.808769Z"
    }
   },
   "execution_count": 185,
   "outputs": [
    {
     "data": {
      "text/plain": "0      False\n1      False\n2      False\n3      False\n4      False\n       ...  \n412    False\n413    False\n414    False\n415    False\n416    False\nName: PLAYER, Length: 417, dtype: bool"
     },
     "execution_count": 185,
     "metadata": {},
     "output_type": "execute_result"
    }
   ]
  },
  {
   "cell_type": "code",
   "source": [
    "nba.sample(\n",
    "    n=5)"
   ],
   "metadata": {
    "id": "SgjvnL4d2IVY",
    "ExecuteTime": {
     "end_time": "2024-04-03T08:36:15.100300Z",
     "start_time": "2024-04-03T08:36:15.094744Z"
    }
   },
   "execution_count": 268,
   "outputs": [
    {
     "data": {
      "text/plain": "            PLAYER POSITION                    TEAM     SALARY\n241   Jrue Holiday       PG    New Orleans Pelicans  10.595507\n238   Damjan Rudez       SF  Minnesota Timberwolves   1.149500\n179  Anthony Brown       SF      Los Angeles Lakers   0.700000\n388     Trey Burke       PG               Utah Jazz   2.658240\n60    Derrick Rose       PG           Chicago Bulls  20.093064",
      "text/html": "<div>\n<style scoped>\n    .dataframe tbody tr th:only-of-type {\n        vertical-align: middle;\n    }\n\n    .dataframe tbody tr th {\n        vertical-align: top;\n    }\n\n    .dataframe thead th {\n        text-align: right;\n    }\n</style>\n<table border=\"1\" class=\"dataframe\">\n  <thead>\n    <tr style=\"text-align: right;\">\n      <th></th>\n      <th>PLAYER</th>\n      <th>POSITION</th>\n      <th>TEAM</th>\n      <th>SALARY</th>\n    </tr>\n  </thead>\n  <tbody>\n    <tr>\n      <th>241</th>\n      <td>Jrue Holiday</td>\n      <td>PG</td>\n      <td>New Orleans Pelicans</td>\n      <td>10.595507</td>\n    </tr>\n    <tr>\n      <th>238</th>\n      <td>Damjan Rudez</td>\n      <td>SF</td>\n      <td>Minnesota Timberwolves</td>\n      <td>1.149500</td>\n    </tr>\n    <tr>\n      <th>179</th>\n      <td>Anthony Brown</td>\n      <td>SF</td>\n      <td>Los Angeles Lakers</td>\n      <td>0.700000</td>\n    </tr>\n    <tr>\n      <th>388</th>\n      <td>Trey Burke</td>\n      <td>PG</td>\n      <td>Utah Jazz</td>\n      <td>2.658240</td>\n    </tr>\n    <tr>\n      <th>60</th>\n      <td>Derrick Rose</td>\n      <td>PG</td>\n      <td>Chicago Bulls</td>\n      <td>20.093064</td>\n    </tr>\n  </tbody>\n</table>\n</div>"
     },
     "execution_count": 268,
     "metadata": {},
     "output_type": "execute_result"
    }
   ]
  },
  {
   "cell_type": "code",
   "source": [
    "# Get a table of all the Warriors\n",
    "nba[nba['TEAM'] == 'Golden State Warriors']"
   ],
   "metadata": {
    "id": "JN7caEfKPzIz",
    "ExecuteTime": {
     "end_time": "2024-04-03T08:36:19.395933Z",
     "start_time": "2024-04-03T08:36:19.390585Z"
    }
   },
   "execution_count": 269,
   "outputs": [
    {
     "data": {
      "text/plain": "                PLAYER POSITION                   TEAM     SALARY\n117      Klay Thompson       SG  Golden State Warriors  15.501000\n118     Draymond Green       PF  Golden State Warriors  14.260870\n119       Andrew Bogut        C  Golden State Warriors  13.800000\n120     Andre Iguodala       SF  Golden State Warriors  11.710456\n121      Stephen Curry       PG  Golden State Warriors  11.370786\n122     Jason Thompson       PF  Golden State Warriors   7.008475\n123   Shaun Livingston       PG  Golden State Warriors   5.543725\n124    Harrison Barnes       SF  Golden State Warriors   3.873398\n125  Marreese Speights        C  Golden State Warriors   3.815000\n126    Leandro Barbosa       SG  Golden State Warriors   2.500000\n127       Festus Ezeli        C  Golden State Warriors   2.008748\n128       Brandon Rush       SF  Golden State Warriors   1.270964\n129       Kevon Looney       SF  Golden State Warriors   1.131960\n130   Anderson Varejao       PF  Golden State Warriors   0.289755",
      "text/html": "<div>\n<style scoped>\n    .dataframe tbody tr th:only-of-type {\n        vertical-align: middle;\n    }\n\n    .dataframe tbody tr th {\n        vertical-align: top;\n    }\n\n    .dataframe thead th {\n        text-align: right;\n    }\n</style>\n<table border=\"1\" class=\"dataframe\">\n  <thead>\n    <tr style=\"text-align: right;\">\n      <th></th>\n      <th>PLAYER</th>\n      <th>POSITION</th>\n      <th>TEAM</th>\n      <th>SALARY</th>\n    </tr>\n  </thead>\n  <tbody>\n    <tr>\n      <th>117</th>\n      <td>Klay Thompson</td>\n      <td>SG</td>\n      <td>Golden State Warriors</td>\n      <td>15.501000</td>\n    </tr>\n    <tr>\n      <th>118</th>\n      <td>Draymond Green</td>\n      <td>PF</td>\n      <td>Golden State Warriors</td>\n      <td>14.260870</td>\n    </tr>\n    <tr>\n      <th>119</th>\n      <td>Andrew Bogut</td>\n      <td>C</td>\n      <td>Golden State Warriors</td>\n      <td>13.800000</td>\n    </tr>\n    <tr>\n      <th>120</th>\n      <td>Andre Iguodala</td>\n      <td>SF</td>\n      <td>Golden State Warriors</td>\n      <td>11.710456</td>\n    </tr>\n    <tr>\n      <th>121</th>\n      <td>Stephen Curry</td>\n      <td>PG</td>\n      <td>Golden State Warriors</td>\n      <td>11.370786</td>\n    </tr>\n    <tr>\n      <th>122</th>\n      <td>Jason Thompson</td>\n      <td>PF</td>\n      <td>Golden State Warriors</td>\n      <td>7.008475</td>\n    </tr>\n    <tr>\n      <th>123</th>\n      <td>Shaun Livingston</td>\n      <td>PG</td>\n      <td>Golden State Warriors</td>\n      <td>5.543725</td>\n    </tr>\n    <tr>\n      <th>124</th>\n      <td>Harrison Barnes</td>\n      <td>SF</td>\n      <td>Golden State Warriors</td>\n      <td>3.873398</td>\n    </tr>\n    <tr>\n      <th>125</th>\n      <td>Marreese Speights</td>\n      <td>C</td>\n      <td>Golden State Warriors</td>\n      <td>3.815000</td>\n    </tr>\n    <tr>\n      <th>126</th>\n      <td>Leandro Barbosa</td>\n      <td>SG</td>\n      <td>Golden State Warriors</td>\n      <td>2.500000</td>\n    </tr>\n    <tr>\n      <th>127</th>\n      <td>Festus Ezeli</td>\n      <td>C</td>\n      <td>Golden State Warriors</td>\n      <td>2.008748</td>\n    </tr>\n    <tr>\n      <th>128</th>\n      <td>Brandon Rush</td>\n      <td>SF</td>\n      <td>Golden State Warriors</td>\n      <td>1.270964</td>\n    </tr>\n    <tr>\n      <th>129</th>\n      <td>Kevon Looney</td>\n      <td>SF</td>\n      <td>Golden State Warriors</td>\n      <td>1.131960</td>\n    </tr>\n    <tr>\n      <th>130</th>\n      <td>Anderson Varejao</td>\n      <td>PF</td>\n      <td>Golden State Warriors</td>\n      <td>0.289755</td>\n    </tr>\n  </tbody>\n</table>\n</div>"
     },
     "execution_count": 269,
     "metadata": {},
     "output_type": "execute_result"
    }
   ]
  },
  {
   "cell_type": "code",
   "source": [
    "# Fuzzy search for records in 'TEAM' columns containing 'Warriors'\n",
    "nba[nba['TEAM'].str.contains('Warriors', regex=False)]"
   ],
   "metadata": {
    "id": "mlQik0QDRae0",
    "ExecuteTime": {
     "end_time": "2024-04-03T08:36:24.455230Z",
     "start_time": "2024-04-03T08:36:24.447044Z"
    }
   },
   "execution_count": 270,
   "outputs": [
    {
     "data": {
      "text/plain": "                PLAYER POSITION                   TEAM     SALARY\n117      Klay Thompson       SG  Golden State Warriors  15.501000\n118     Draymond Green       PF  Golden State Warriors  14.260870\n119       Andrew Bogut        C  Golden State Warriors  13.800000\n120     Andre Iguodala       SF  Golden State Warriors  11.710456\n121      Stephen Curry       PG  Golden State Warriors  11.370786\n122     Jason Thompson       PF  Golden State Warriors   7.008475\n123   Shaun Livingston       PG  Golden State Warriors   5.543725\n124    Harrison Barnes       SF  Golden State Warriors   3.873398\n125  Marreese Speights        C  Golden State Warriors   3.815000\n126    Leandro Barbosa       SG  Golden State Warriors   2.500000\n127       Festus Ezeli        C  Golden State Warriors   2.008748\n128       Brandon Rush       SF  Golden State Warriors   1.270964\n129       Kevon Looney       SF  Golden State Warriors   1.131960\n130   Anderson Varejao       PF  Golden State Warriors   0.289755",
      "text/html": "<div>\n<style scoped>\n    .dataframe tbody tr th:only-of-type {\n        vertical-align: middle;\n    }\n\n    .dataframe tbody tr th {\n        vertical-align: top;\n    }\n\n    .dataframe thead th {\n        text-align: right;\n    }\n</style>\n<table border=\"1\" class=\"dataframe\">\n  <thead>\n    <tr style=\"text-align: right;\">\n      <th></th>\n      <th>PLAYER</th>\n      <th>POSITION</th>\n      <th>TEAM</th>\n      <th>SALARY</th>\n    </tr>\n  </thead>\n  <tbody>\n    <tr>\n      <th>117</th>\n      <td>Klay Thompson</td>\n      <td>SG</td>\n      <td>Golden State Warriors</td>\n      <td>15.501000</td>\n    </tr>\n    <tr>\n      <th>118</th>\n      <td>Draymond Green</td>\n      <td>PF</td>\n      <td>Golden State Warriors</td>\n      <td>14.260870</td>\n    </tr>\n    <tr>\n      <th>119</th>\n      <td>Andrew Bogut</td>\n      <td>C</td>\n      <td>Golden State Warriors</td>\n      <td>13.800000</td>\n    </tr>\n    <tr>\n      <th>120</th>\n      <td>Andre Iguodala</td>\n      <td>SF</td>\n      <td>Golden State Warriors</td>\n      <td>11.710456</td>\n    </tr>\n    <tr>\n      <th>121</th>\n      <td>Stephen Curry</td>\n      <td>PG</td>\n      <td>Golden State Warriors</td>\n      <td>11.370786</td>\n    </tr>\n    <tr>\n      <th>122</th>\n      <td>Jason Thompson</td>\n      <td>PF</td>\n      <td>Golden State Warriors</td>\n      <td>7.008475</td>\n    </tr>\n    <tr>\n      <th>123</th>\n      <td>Shaun Livingston</td>\n      <td>PG</td>\n      <td>Golden State Warriors</td>\n      <td>5.543725</td>\n    </tr>\n    <tr>\n      <th>124</th>\n      <td>Harrison Barnes</td>\n      <td>SF</td>\n      <td>Golden State Warriors</td>\n      <td>3.873398</td>\n    </tr>\n    <tr>\n      <th>125</th>\n      <td>Marreese Speights</td>\n      <td>C</td>\n      <td>Golden State Warriors</td>\n      <td>3.815000</td>\n    </tr>\n    <tr>\n      <th>126</th>\n      <td>Leandro Barbosa</td>\n      <td>SG</td>\n      <td>Golden State Warriors</td>\n      <td>2.500000</td>\n    </tr>\n    <tr>\n      <th>127</th>\n      <td>Festus Ezeli</td>\n      <td>C</td>\n      <td>Golden State Warriors</td>\n      <td>2.008748</td>\n    </tr>\n    <tr>\n      <th>128</th>\n      <td>Brandon Rush</td>\n      <td>SF</td>\n      <td>Golden State Warriors</td>\n      <td>1.270964</td>\n    </tr>\n    <tr>\n      <th>129</th>\n      <td>Kevon Looney</td>\n      <td>SF</td>\n      <td>Golden State Warriors</td>\n      <td>1.131960</td>\n    </tr>\n    <tr>\n      <th>130</th>\n      <td>Anderson Varejao</td>\n      <td>PF</td>\n      <td>Golden State Warriors</td>\n      <td>0.289755</td>\n    </tr>\n  </tbody>\n</table>\n</div>"
     },
     "execution_count": 270,
     "metadata": {},
     "output_type": "execute_result"
    }
   ]
  },
  {
   "cell_type": "code",
   "outputs": [
    {
     "data": {
      "text/plain": "              PLAYER POSITION                TEAM     SALARY\n0       Paul Millsap       PF       Atlanta Hawks  18.671659\n1         Al Horford        C       Atlanta Hawks  12.000000\n2     Tiago Splitter        C       Atlanta Hawks   9.756250\n3        Jeff Teague       PG       Atlanta Hawks   8.000000\n4        Kyle Korver       SG       Atlanta Hawks   5.746479\n..               ...      ...                 ...        ...\n412        Gary Neal       PG  Washington Wizards   2.139000\n413     DeJuan Blair        C  Washington Wizards   2.000000\n414  Kelly Oubre Jr.       SF  Washington Wizards   1.920240\n415   Garrett Temple       SG  Washington Wizards   1.100602\n416     Jarell Eddie       SG  Washington Wizards   0.561716\n\n[417 rows x 4 columns]",
      "text/html": "<div>\n<style scoped>\n    .dataframe tbody tr th:only-of-type {\n        vertical-align: middle;\n    }\n\n    .dataframe tbody tr th {\n        vertical-align: top;\n    }\n\n    .dataframe thead th {\n        text-align: right;\n    }\n</style>\n<table border=\"1\" class=\"dataframe\">\n  <thead>\n    <tr style=\"text-align: right;\">\n      <th></th>\n      <th>PLAYER</th>\n      <th>POSITION</th>\n      <th>TEAM</th>\n      <th>SALARY</th>\n    </tr>\n  </thead>\n  <tbody>\n    <tr>\n      <th>0</th>\n      <td>Paul Millsap</td>\n      <td>PF</td>\n      <td>Atlanta Hawks</td>\n      <td>18.671659</td>\n    </tr>\n    <tr>\n      <th>1</th>\n      <td>Al Horford</td>\n      <td>C</td>\n      <td>Atlanta Hawks</td>\n      <td>12.000000</td>\n    </tr>\n    <tr>\n      <th>2</th>\n      <td>Tiago Splitter</td>\n      <td>C</td>\n      <td>Atlanta Hawks</td>\n      <td>9.756250</td>\n    </tr>\n    <tr>\n      <th>3</th>\n      <td>Jeff Teague</td>\n      <td>PG</td>\n      <td>Atlanta Hawks</td>\n      <td>8.000000</td>\n    </tr>\n    <tr>\n      <th>4</th>\n      <td>Kyle Korver</td>\n      <td>SG</td>\n      <td>Atlanta Hawks</td>\n      <td>5.746479</td>\n    </tr>\n    <tr>\n      <th>...</th>\n      <td>...</td>\n      <td>...</td>\n      <td>...</td>\n      <td>...</td>\n    </tr>\n    <tr>\n      <th>412</th>\n      <td>Gary Neal</td>\n      <td>PG</td>\n      <td>Washington Wizards</td>\n      <td>2.139000</td>\n    </tr>\n    <tr>\n      <th>413</th>\n      <td>DeJuan Blair</td>\n      <td>C</td>\n      <td>Washington Wizards</td>\n      <td>2.000000</td>\n    </tr>\n    <tr>\n      <th>414</th>\n      <td>Kelly Oubre Jr.</td>\n      <td>SF</td>\n      <td>Washington Wizards</td>\n      <td>1.920240</td>\n    </tr>\n    <tr>\n      <th>415</th>\n      <td>Garrett Temple</td>\n      <td>SG</td>\n      <td>Washington Wizards</td>\n      <td>1.100602</td>\n    </tr>\n    <tr>\n      <th>416</th>\n      <td>Jarell Eddie</td>\n      <td>SG</td>\n      <td>Washington Wizards</td>\n      <td>0.561716</td>\n    </tr>\n  </tbody>\n</table>\n<p>417 rows × 4 columns</p>\n</div>"
     },
     "execution_count": 277,
     "metadata": {},
     "output_type": "execute_result"
    }
   ],
   "source": [
    "nba[nba['TEAM'].str.contains('w*',regex =True)]"
   ],
   "metadata": {
    "collapsed": false,
    "ExecuteTime": {
     "end_time": "2024-04-03T08:38:09.541618Z",
     "start_time": "2024-04-03T08:38:09.536164Z"
    }
   },
   "execution_count": 277
  },
  {
   "cell_type": "code",
   "source": [
    "nba[nba['TEAM'].str.contains('New', regex=False)]"
   ],
   "metadata": {
    "id": "oRgny6kJ2zmi",
    "ExecuteTime": {
     "end_time": "2024-04-03T08:46:25.755249Z",
     "start_time": "2024-04-03T08:46:25.750377Z"
    }
   },
   "execution_count": 101,
   "outputs": [
    {
     "data": {
      "text/plain": "                     PLAYER POSITION                  TEAM     SALARY\n239             Eric Gordon       SG  New Orleans Pelicans  15.514031\n240            Tyreke Evans       SG  New Orleans Pelicans  10.734586\n241            Jrue Holiday       PG  New Orleans Pelicans  10.595507\n242               Omer Asik        C  New Orleans Pelicans   9.213483\n243           Ryan Anderson       PF  New Orleans Pelicans   8.500000\n244           Anthony Davis       PF  New Orleans Pelicans   7.070730\n245           Alexis Ajinca        C  New Orleans Pelicans   4.389607\n246        Quincy Pondexter       SF  New Orleans Pelicans   3.382023\n247             Norris Cole       PG  New Orleans Pelicans   3.036927\n248        Dante Cunningham       PF  New Orleans Pelicans   2.850000\n249              Alonzo Gee       SF  New Orleans Pelicans   1.320000\n250           Toney Douglas       PG  New Orleans Pelicans   1.164858\n251            Luke Babbitt       SF  New Orleans Pelicans   1.100602\n252        Kendrick Perkins        C  New Orleans Pelicans   0.947276\n253             Bo McCalebb       PG  New Orleans Pelicans   0.525093\n254      Bryce Dejean-Jones       SG  New Orleans Pelicans   0.169883\n255         Carmelo Anthony       SF       New York Knicks  22.875000\n256             Robin Lopez        C       New York Knicks  12.650000\n257           Arron Afflalo       SG       New York Knicks   8.000000\n258           Jose Calderon       PG       New York Knicks   7.402812\n259      Kristaps Porzingis       PF       New York Knicks   4.131720\n260        Derrick Williams       PF       New York Knicks   4.000000\n261            Kyle O'Quinn       PF       New York Knicks   3.750000\n262            Lance Thomas       SF       New York Knicks   1.636842\n263            Lou Amundson       PF       New York Knicks   1.635476\n264            Jerian Grant       PG       New York Knicks   1.572360\n265         Jimmer Fredette       PG       New York Knicks   0.874837\n266       Langston Galloway       SG       New York Knicks   0.845059\n267  Thanasis Antetokounmpo       SF       New York Knicks   0.030888",
      "text/html": "<div>\n<style scoped>\n    .dataframe tbody tr th:only-of-type {\n        vertical-align: middle;\n    }\n\n    .dataframe tbody tr th {\n        vertical-align: top;\n    }\n\n    .dataframe thead th {\n        text-align: right;\n    }\n</style>\n<table border=\"1\" class=\"dataframe\">\n  <thead>\n    <tr style=\"text-align: right;\">\n      <th></th>\n      <th>PLAYER</th>\n      <th>POSITION</th>\n      <th>TEAM</th>\n      <th>SALARY</th>\n    </tr>\n  </thead>\n  <tbody>\n    <tr>\n      <th>239</th>\n      <td>Eric Gordon</td>\n      <td>SG</td>\n      <td>New Orleans Pelicans</td>\n      <td>15.514031</td>\n    </tr>\n    <tr>\n      <th>240</th>\n      <td>Tyreke Evans</td>\n      <td>SG</td>\n      <td>New Orleans Pelicans</td>\n      <td>10.734586</td>\n    </tr>\n    <tr>\n      <th>241</th>\n      <td>Jrue Holiday</td>\n      <td>PG</td>\n      <td>New Orleans Pelicans</td>\n      <td>10.595507</td>\n    </tr>\n    <tr>\n      <th>242</th>\n      <td>Omer Asik</td>\n      <td>C</td>\n      <td>New Orleans Pelicans</td>\n      <td>9.213483</td>\n    </tr>\n    <tr>\n      <th>243</th>\n      <td>Ryan Anderson</td>\n      <td>PF</td>\n      <td>New Orleans Pelicans</td>\n      <td>8.500000</td>\n    </tr>\n    <tr>\n      <th>244</th>\n      <td>Anthony Davis</td>\n      <td>PF</td>\n      <td>New Orleans Pelicans</td>\n      <td>7.070730</td>\n    </tr>\n    <tr>\n      <th>245</th>\n      <td>Alexis Ajinca</td>\n      <td>C</td>\n      <td>New Orleans Pelicans</td>\n      <td>4.389607</td>\n    </tr>\n    <tr>\n      <th>246</th>\n      <td>Quincy Pondexter</td>\n      <td>SF</td>\n      <td>New Orleans Pelicans</td>\n      <td>3.382023</td>\n    </tr>\n    <tr>\n      <th>247</th>\n      <td>Norris Cole</td>\n      <td>PG</td>\n      <td>New Orleans Pelicans</td>\n      <td>3.036927</td>\n    </tr>\n    <tr>\n      <th>248</th>\n      <td>Dante Cunningham</td>\n      <td>PF</td>\n      <td>New Orleans Pelicans</td>\n      <td>2.850000</td>\n    </tr>\n    <tr>\n      <th>249</th>\n      <td>Alonzo Gee</td>\n      <td>SF</td>\n      <td>New Orleans Pelicans</td>\n      <td>1.320000</td>\n    </tr>\n    <tr>\n      <th>250</th>\n      <td>Toney Douglas</td>\n      <td>PG</td>\n      <td>New Orleans Pelicans</td>\n      <td>1.164858</td>\n    </tr>\n    <tr>\n      <th>251</th>\n      <td>Luke Babbitt</td>\n      <td>SF</td>\n      <td>New Orleans Pelicans</td>\n      <td>1.100602</td>\n    </tr>\n    <tr>\n      <th>252</th>\n      <td>Kendrick Perkins</td>\n      <td>C</td>\n      <td>New Orleans Pelicans</td>\n      <td>0.947276</td>\n    </tr>\n    <tr>\n      <th>253</th>\n      <td>Bo McCalebb</td>\n      <td>PG</td>\n      <td>New Orleans Pelicans</td>\n      <td>0.525093</td>\n    </tr>\n    <tr>\n      <th>254</th>\n      <td>Bryce Dejean-Jones</td>\n      <td>SG</td>\n      <td>New Orleans Pelicans</td>\n      <td>0.169883</td>\n    </tr>\n    <tr>\n      <th>255</th>\n      <td>Carmelo Anthony</td>\n      <td>SF</td>\n      <td>New York Knicks</td>\n      <td>22.875000</td>\n    </tr>\n    <tr>\n      <th>256</th>\n      <td>Robin Lopez</td>\n      <td>C</td>\n      <td>New York Knicks</td>\n      <td>12.650000</td>\n    </tr>\n    <tr>\n      <th>257</th>\n      <td>Arron Afflalo</td>\n      <td>SG</td>\n      <td>New York Knicks</td>\n      <td>8.000000</td>\n    </tr>\n    <tr>\n      <th>258</th>\n      <td>Jose Calderon</td>\n      <td>PG</td>\n      <td>New York Knicks</td>\n      <td>7.402812</td>\n    </tr>\n    <tr>\n      <th>259</th>\n      <td>Kristaps Porzingis</td>\n      <td>PF</td>\n      <td>New York Knicks</td>\n      <td>4.131720</td>\n    </tr>\n    <tr>\n      <th>260</th>\n      <td>Derrick Williams</td>\n      <td>PF</td>\n      <td>New York Knicks</td>\n      <td>4.000000</td>\n    </tr>\n    <tr>\n      <th>261</th>\n      <td>Kyle O'Quinn</td>\n      <td>PF</td>\n      <td>New York Knicks</td>\n      <td>3.750000</td>\n    </tr>\n    <tr>\n      <th>262</th>\n      <td>Lance Thomas</td>\n      <td>SF</td>\n      <td>New York Knicks</td>\n      <td>1.636842</td>\n    </tr>\n    <tr>\n      <th>263</th>\n      <td>Lou Amundson</td>\n      <td>PF</td>\n      <td>New York Knicks</td>\n      <td>1.635476</td>\n    </tr>\n    <tr>\n      <th>264</th>\n      <td>Jerian Grant</td>\n      <td>PG</td>\n      <td>New York Knicks</td>\n      <td>1.572360</td>\n    </tr>\n    <tr>\n      <th>265</th>\n      <td>Jimmer Fredette</td>\n      <td>PG</td>\n      <td>New York Knicks</td>\n      <td>0.874837</td>\n    </tr>\n    <tr>\n      <th>266</th>\n      <td>Langston Galloway</td>\n      <td>SG</td>\n      <td>New York Knicks</td>\n      <td>0.845059</td>\n    </tr>\n    <tr>\n      <th>267</th>\n      <td>Thanasis Antetokounmpo</td>\n      <td>SF</td>\n      <td>New York Knicks</td>\n      <td>0.030888</td>\n    </tr>\n  </tbody>\n</table>\n</div>"
     },
     "execution_count": 101,
     "metadata": {},
     "output_type": "execute_result"
    }
   ]
  },
  {
   "cell_type": "markdown",
   "source": [
    "## selecting rows by multiple features"
   ],
   "metadata": {
    "id": "tfKstHLhRgZQ"
   }
  },
  {
   "cell_type": "code",
   "source": [
    "# Filter 'POSITION' == 'PG' & 'SALARY' > 15\n",
    "nba[(nba['POSITION'] == 'PG') & (nba['SALARY'] > 15)] # the 'and' in python is not working"
   ],
   "metadata": {
    "id": "spCQHTgfRmLg",
    "ExecuteTime": {
     "end_time": "2024-04-03T08:46:26.807830Z",
     "start_time": "2024-04-03T08:46:26.803704Z"
    }
   },
   "execution_count": 102,
   "outputs": [
    {
     "data": {
      "text/plain": "                PLAYER POSITION                   TEAM     SALARY\n60        Derrick Rose       PG          Chicago Bulls  20.093064\n74        Kyrie Irving       PG    Cleveland Cavaliers  16.407501\n156         Chris Paul       PG   Los Angeles Clippers  21.468695\n269  Russell Westbrook       PG  Oklahoma City Thunder  16.744218\n400          John Wall       PG     Washington Wizards  15.851950",
      "text/html": "<div>\n<style scoped>\n    .dataframe tbody tr th:only-of-type {\n        vertical-align: middle;\n    }\n\n    .dataframe tbody tr th {\n        vertical-align: top;\n    }\n\n    .dataframe thead th {\n        text-align: right;\n    }\n</style>\n<table border=\"1\" class=\"dataframe\">\n  <thead>\n    <tr style=\"text-align: right;\">\n      <th></th>\n      <th>PLAYER</th>\n      <th>POSITION</th>\n      <th>TEAM</th>\n      <th>SALARY</th>\n    </tr>\n  </thead>\n  <tbody>\n    <tr>\n      <th>60</th>\n      <td>Derrick Rose</td>\n      <td>PG</td>\n      <td>Chicago Bulls</td>\n      <td>20.093064</td>\n    </tr>\n    <tr>\n      <th>74</th>\n      <td>Kyrie Irving</td>\n      <td>PG</td>\n      <td>Cleveland Cavaliers</td>\n      <td>16.407501</td>\n    </tr>\n    <tr>\n      <th>156</th>\n      <td>Chris Paul</td>\n      <td>PG</td>\n      <td>Los Angeles Clippers</td>\n      <td>21.468695</td>\n    </tr>\n    <tr>\n      <th>269</th>\n      <td>Russell Westbrook</td>\n      <td>PG</td>\n      <td>Oklahoma City Thunder</td>\n      <td>16.744218</td>\n    </tr>\n    <tr>\n      <th>400</th>\n      <td>John Wall</td>\n      <td>PG</td>\n      <td>Washington Wizards</td>\n      <td>15.851950</td>\n    </tr>\n  </tbody>\n</table>\n</div>"
     },
     "execution_count": 102,
     "metadata": {},
     "output_type": "execute_result"
    }
   ]
  },
  {
   "cell_type": "code",
   "source": [
    "# Filter a SALARY range\n",
    "nba[(nba['SALARY'] < 10.3) & (nba['SALARY'] >= 10)]"
   ],
   "metadata": {
    "id": "vNDIG6ikRuf5",
    "ExecuteTime": {
     "end_time": "2024-04-03T08:46:27.301370Z",
     "start_time": "2024-04-03T08:46:27.297354Z"
    }
   },
   "execution_count": 103,
   "outputs": [
    {
     "data": {
      "text/plain": "             PLAYER POSITION                TEAM     SALARY\n204       Luol Deng       SF          Miami Heat  10.151612\n298  Gerald Wallace       SF  Philadelphia 76ers  10.105855\n356     Danny Green       SG   San Antonio Spurs  10.000000\n368   DeMar DeRozan       SG     Toronto Raptors  10.050000",
      "text/html": "<div>\n<style scoped>\n    .dataframe tbody tr th:only-of-type {\n        vertical-align: middle;\n    }\n\n    .dataframe tbody tr th {\n        vertical-align: top;\n    }\n\n    .dataframe thead th {\n        text-align: right;\n    }\n</style>\n<table border=\"1\" class=\"dataframe\">\n  <thead>\n    <tr style=\"text-align: right;\">\n      <th></th>\n      <th>PLAYER</th>\n      <th>POSITION</th>\n      <th>TEAM</th>\n      <th>SALARY</th>\n    </tr>\n  </thead>\n  <tbody>\n    <tr>\n      <th>204</th>\n      <td>Luol Deng</td>\n      <td>SF</td>\n      <td>Miami Heat</td>\n      <td>10.151612</td>\n    </tr>\n    <tr>\n      <th>298</th>\n      <td>Gerald Wallace</td>\n      <td>SF</td>\n      <td>Philadelphia 76ers</td>\n      <td>10.105855</td>\n    </tr>\n    <tr>\n      <th>356</th>\n      <td>Danny Green</td>\n      <td>SG</td>\n      <td>San Antonio Spurs</td>\n      <td>10.000000</td>\n    </tr>\n    <tr>\n      <th>368</th>\n      <td>DeMar DeRozan</td>\n      <td>SG</td>\n      <td>Toronto Raptors</td>\n      <td>10.050000</td>\n    </tr>\n  </tbody>\n</table>\n</div>"
     },
     "execution_count": 103,
     "metadata": {},
     "output_type": "execute_result"
    }
   ]
  },
  {
   "cell_type": "code",
   "source": [
    "nba[nba['PLAYER'] == 'Barack Obama'] # empty dataframe with column name"
   ],
   "metadata": {
    "id": "pVBff24oR1XV",
    "ExecuteTime": {
     "end_time": "2024-04-03T08:46:27.923175Z",
     "start_time": "2024-04-03T08:46:27.919689Z"
    }
   },
   "execution_count": 104,
   "outputs": [
    {
     "data": {
      "text/plain": "Empty DataFrame\nColumns: [PLAYER, POSITION, TEAM, SALARY]\nIndex: []",
      "text/html": "<div>\n<style scoped>\n    .dataframe tbody tr th:only-of-type {\n        vertical-align: middle;\n    }\n\n    .dataframe tbody tr th {\n        vertical-align: top;\n    }\n\n    .dataframe thead th {\n        text-align: right;\n    }\n</style>\n<table border=\"1\" class=\"dataframe\">\n  <thead>\n    <tr style=\"text-align: right;\">\n      <th></th>\n      <th>PLAYER</th>\n      <th>POSITION</th>\n      <th>TEAM</th>\n      <th>SALARY</th>\n    </tr>\n  </thead>\n  <tbody>\n  </tbody>\n</table>\n</div>"
     },
     "execution_count": 104,
     "metadata": {},
     "output_type": "execute_result"
    }
   ]
  },
  {
   "cell_type": "markdown",
   "source": [
    "## Example Population Trends"
   ],
   "metadata": {
    "id": "qlVcj5njR6dj"
   }
  },
  {
   "cell_type": "code",
   "source": [
    "# As of Jan 2017, this census file is online here:\n",
    "\n",
    "# A local copy can be accessed here in case census.gov moves the file:\n",
    "# data = path_data + 'nc-est2015-agesex-res.csv'\n",
    "\n",
    "full_census_table = pd.read_csv(\"./nc-est2015-agesex-res.csv\")\n",
    "full_census_table"
   ],
   "metadata": {
    "id": "jSLh_CD6ShDg",
    "ExecuteTime": {
     "end_time": "2024-04-03T08:47:55.867115Z",
     "start_time": "2024-04-03T08:47:55.861833Z"
    }
   },
   "execution_count": 106,
   "outputs": [
    {
     "data": {
      "text/plain": "     SEX  AGE  CENSUS2010POP  ESTIMATESBASE2010  POPESTIMATE2010  \\\n0      0    0        3944153            3944160          3951330   \n1      0    1        3978070            3978090          3957888   \n2      0    2        4096929            4096939          4090862   \n3      0    3        4119040            4119051          4111920   \n4      0    4        4063170            4063186          4077551   \n..   ...  ...            ...                ...              ...   \n301    2   97          53582              53605            54118   \n302    2   98          36641              36675            37532   \n303    2   99          26193              26214            26074   \n304    2  100          44202              44246            45058   \n305    2  999      156964212          156969328        157258820   \n\n     POPESTIMATE2011  POPESTIMATE2012  POPESTIMATE2013  POPESTIMATE2014  \\\n0            3963087          3926540          3931141          3949775   \n1            3966551          3977939          3942872          3949776   \n2            3971565          3980095          3992720          3959664   \n3            4102470          3983157          3992734          4007079   \n4            4122294          4112849          3994449          4005716   \n..               ...              ...              ...              ...   \n301            57159            59533            61255            62779   \n302            40116            42857            44359            46208   \n303            27030            29320            31112            32517   \n304            47556            50661            53902            58008   \n305        158427085        159581546        160720625        161952064   \n\n     POPESTIMATE2015  \n0            3978038  \n1            3968564  \n2            3966583  \n3            3974061  \n4            4020035  \n..               ...  \n301            69285  \n302            47272  \n303            34064  \n304            61886  \n305        163189523  \n\n[306 rows x 10 columns]",
      "text/html": "<div>\n<style scoped>\n    .dataframe tbody tr th:only-of-type {\n        vertical-align: middle;\n    }\n\n    .dataframe tbody tr th {\n        vertical-align: top;\n    }\n\n    .dataframe thead th {\n        text-align: right;\n    }\n</style>\n<table border=\"1\" class=\"dataframe\">\n  <thead>\n    <tr style=\"text-align: right;\">\n      <th></th>\n      <th>SEX</th>\n      <th>AGE</th>\n      <th>CENSUS2010POP</th>\n      <th>ESTIMATESBASE2010</th>\n      <th>POPESTIMATE2010</th>\n      <th>POPESTIMATE2011</th>\n      <th>POPESTIMATE2012</th>\n      <th>POPESTIMATE2013</th>\n      <th>POPESTIMATE2014</th>\n      <th>POPESTIMATE2015</th>\n    </tr>\n  </thead>\n  <tbody>\n    <tr>\n      <th>0</th>\n      <td>0</td>\n      <td>0</td>\n      <td>3944153</td>\n      <td>3944160</td>\n      <td>3951330</td>\n      <td>3963087</td>\n      <td>3926540</td>\n      <td>3931141</td>\n      <td>3949775</td>\n      <td>3978038</td>\n    </tr>\n    <tr>\n      <th>1</th>\n      <td>0</td>\n      <td>1</td>\n      <td>3978070</td>\n      <td>3978090</td>\n      <td>3957888</td>\n      <td>3966551</td>\n      <td>3977939</td>\n      <td>3942872</td>\n      <td>3949776</td>\n      <td>3968564</td>\n    </tr>\n    <tr>\n      <th>2</th>\n      <td>0</td>\n      <td>2</td>\n      <td>4096929</td>\n      <td>4096939</td>\n      <td>4090862</td>\n      <td>3971565</td>\n      <td>3980095</td>\n      <td>3992720</td>\n      <td>3959664</td>\n      <td>3966583</td>\n    </tr>\n    <tr>\n      <th>3</th>\n      <td>0</td>\n      <td>3</td>\n      <td>4119040</td>\n      <td>4119051</td>\n      <td>4111920</td>\n      <td>4102470</td>\n      <td>3983157</td>\n      <td>3992734</td>\n      <td>4007079</td>\n      <td>3974061</td>\n    </tr>\n    <tr>\n      <th>4</th>\n      <td>0</td>\n      <td>4</td>\n      <td>4063170</td>\n      <td>4063186</td>\n      <td>4077551</td>\n      <td>4122294</td>\n      <td>4112849</td>\n      <td>3994449</td>\n      <td>4005716</td>\n      <td>4020035</td>\n    </tr>\n    <tr>\n      <th>...</th>\n      <td>...</td>\n      <td>...</td>\n      <td>...</td>\n      <td>...</td>\n      <td>...</td>\n      <td>...</td>\n      <td>...</td>\n      <td>...</td>\n      <td>...</td>\n      <td>...</td>\n    </tr>\n    <tr>\n      <th>301</th>\n      <td>2</td>\n      <td>97</td>\n      <td>53582</td>\n      <td>53605</td>\n      <td>54118</td>\n      <td>57159</td>\n      <td>59533</td>\n      <td>61255</td>\n      <td>62779</td>\n      <td>69285</td>\n    </tr>\n    <tr>\n      <th>302</th>\n      <td>2</td>\n      <td>98</td>\n      <td>36641</td>\n      <td>36675</td>\n      <td>37532</td>\n      <td>40116</td>\n      <td>42857</td>\n      <td>44359</td>\n      <td>46208</td>\n      <td>47272</td>\n    </tr>\n    <tr>\n      <th>303</th>\n      <td>2</td>\n      <td>99</td>\n      <td>26193</td>\n      <td>26214</td>\n      <td>26074</td>\n      <td>27030</td>\n      <td>29320</td>\n      <td>31112</td>\n      <td>32517</td>\n      <td>34064</td>\n    </tr>\n    <tr>\n      <th>304</th>\n      <td>2</td>\n      <td>100</td>\n      <td>44202</td>\n      <td>44246</td>\n      <td>45058</td>\n      <td>47556</td>\n      <td>50661</td>\n      <td>53902</td>\n      <td>58008</td>\n      <td>61886</td>\n    </tr>\n    <tr>\n      <th>305</th>\n      <td>2</td>\n      <td>999</td>\n      <td>156964212</td>\n      <td>156969328</td>\n      <td>157258820</td>\n      <td>158427085</td>\n      <td>159581546</td>\n      <td>160720625</td>\n      <td>161952064</td>\n      <td>163189523</td>\n    </tr>\n  </tbody>\n</table>\n<p>306 rows × 10 columns</p>\n</div>"
     },
     "execution_count": 106,
     "metadata": {},
     "output_type": "execute_result"
    }
   ]
  },
  {
   "cell_type": "code",
   "source": [
    "# Select relevant columns\n",
    "partial_census_table = full_census_table[['SEX', 'AGE', 'POPESTIMATE2010', 'POPESTIMATE2014']]\n",
    "partial_census_table"
   ],
   "metadata": {
    "id": "jXETQpiFSpeS",
    "ExecuteTime": {
     "end_time": "2024-04-03T08:47:57.522196Z",
     "start_time": "2024-04-03T08:47:57.517996Z"
    }
   },
   "execution_count": 107,
   "outputs": [
    {
     "data": {
      "text/plain": "     SEX  AGE  POPESTIMATE2010  POPESTIMATE2014\n0      0    0          3951330          3949775\n1      0    1          3957888          3949776\n2      0    2          4090862          3959664\n3      0    3          4111920          4007079\n4      0    4          4077551          4005716\n..   ...  ...              ...              ...\n301    2   97            54118            62779\n302    2   98            37532            46208\n303    2   99            26074            32517\n304    2  100            45058            58008\n305    2  999        157258820        161952064\n\n[306 rows x 4 columns]",
      "text/html": "<div>\n<style scoped>\n    .dataframe tbody tr th:only-of-type {\n        vertical-align: middle;\n    }\n\n    .dataframe tbody tr th {\n        vertical-align: top;\n    }\n\n    .dataframe thead th {\n        text-align: right;\n    }\n</style>\n<table border=\"1\" class=\"dataframe\">\n  <thead>\n    <tr style=\"text-align: right;\">\n      <th></th>\n      <th>SEX</th>\n      <th>AGE</th>\n      <th>POPESTIMATE2010</th>\n      <th>POPESTIMATE2014</th>\n    </tr>\n  </thead>\n  <tbody>\n    <tr>\n      <th>0</th>\n      <td>0</td>\n      <td>0</td>\n      <td>3951330</td>\n      <td>3949775</td>\n    </tr>\n    <tr>\n      <th>1</th>\n      <td>0</td>\n      <td>1</td>\n      <td>3957888</td>\n      <td>3949776</td>\n    </tr>\n    <tr>\n      <th>2</th>\n      <td>0</td>\n      <td>2</td>\n      <td>4090862</td>\n      <td>3959664</td>\n    </tr>\n    <tr>\n      <th>3</th>\n      <td>0</td>\n      <td>3</td>\n      <td>4111920</td>\n      <td>4007079</td>\n    </tr>\n    <tr>\n      <th>4</th>\n      <td>0</td>\n      <td>4</td>\n      <td>4077551</td>\n      <td>4005716</td>\n    </tr>\n    <tr>\n      <th>...</th>\n      <td>...</td>\n      <td>...</td>\n      <td>...</td>\n      <td>...</td>\n    </tr>\n    <tr>\n      <th>301</th>\n      <td>2</td>\n      <td>97</td>\n      <td>54118</td>\n      <td>62779</td>\n    </tr>\n    <tr>\n      <th>302</th>\n      <td>2</td>\n      <td>98</td>\n      <td>37532</td>\n      <td>46208</td>\n    </tr>\n    <tr>\n      <th>303</th>\n      <td>2</td>\n      <td>99</td>\n      <td>26074</td>\n      <td>32517</td>\n    </tr>\n    <tr>\n      <th>304</th>\n      <td>2</td>\n      <td>100</td>\n      <td>45058</td>\n      <td>58008</td>\n    </tr>\n    <tr>\n      <th>305</th>\n      <td>2</td>\n      <td>999</td>\n      <td>157258820</td>\n      <td>161952064</td>\n    </tr>\n  </tbody>\n</table>\n<p>306 rows × 4 columns</p>\n</div>"
     },
     "execution_count": 107,
     "metadata": {},
     "output_type": "execute_result"
    }
   ]
  },
  {
   "cell_type": "code",
   "source": [
    "# Simplify the columns name\n",
    "us_pop = partial_census_table.rename(columns={'POPESTIMATE2010': '2010', 'POPESTIMATE2014': '2014'})\n",
    "us_pop"
   ],
   "metadata": {
    "id": "bNg6p-Q_TDss",
    "ExecuteTime": {
     "end_time": "2024-04-03T08:47:58.417172Z",
     "start_time": "2024-04-03T08:47:58.412625Z"
    }
   },
   "execution_count": 108,
   "outputs": [
    {
     "data": {
      "text/plain": "     SEX  AGE       2010       2014\n0      0    0    3951330    3949775\n1      0    1    3957888    3949776\n2      0    2    4090862    3959664\n3      0    3    4111920    4007079\n4      0    4    4077551    4005716\n..   ...  ...        ...        ...\n301    2   97      54118      62779\n302    2   98      37532      46208\n303    2   99      26074      32517\n304    2  100      45058      58008\n305    2  999  157258820  161952064\n\n[306 rows x 4 columns]",
      "text/html": "<div>\n<style scoped>\n    .dataframe tbody tr th:only-of-type {\n        vertical-align: middle;\n    }\n\n    .dataframe tbody tr th {\n        vertical-align: top;\n    }\n\n    .dataframe thead th {\n        text-align: right;\n    }\n</style>\n<table border=\"1\" class=\"dataframe\">\n  <thead>\n    <tr style=\"text-align: right;\">\n      <th></th>\n      <th>SEX</th>\n      <th>AGE</th>\n      <th>2010</th>\n      <th>2014</th>\n    </tr>\n  </thead>\n  <tbody>\n    <tr>\n      <th>0</th>\n      <td>0</td>\n      <td>0</td>\n      <td>3951330</td>\n      <td>3949775</td>\n    </tr>\n    <tr>\n      <th>1</th>\n      <td>0</td>\n      <td>1</td>\n      <td>3957888</td>\n      <td>3949776</td>\n    </tr>\n    <tr>\n      <th>2</th>\n      <td>0</td>\n      <td>2</td>\n      <td>4090862</td>\n      <td>3959664</td>\n    </tr>\n    <tr>\n      <th>3</th>\n      <td>0</td>\n      <td>3</td>\n      <td>4111920</td>\n      <td>4007079</td>\n    </tr>\n    <tr>\n      <th>4</th>\n      <td>0</td>\n      <td>4</td>\n      <td>4077551</td>\n      <td>4005716</td>\n    </tr>\n    <tr>\n      <th>...</th>\n      <td>...</td>\n      <td>...</td>\n      <td>...</td>\n      <td>...</td>\n    </tr>\n    <tr>\n      <th>301</th>\n      <td>2</td>\n      <td>97</td>\n      <td>54118</td>\n      <td>62779</td>\n    </tr>\n    <tr>\n      <th>302</th>\n      <td>2</td>\n      <td>98</td>\n      <td>37532</td>\n      <td>46208</td>\n    </tr>\n    <tr>\n      <th>303</th>\n      <td>2</td>\n      <td>99</td>\n      <td>26074</td>\n      <td>32517</td>\n    </tr>\n    <tr>\n      <th>304</th>\n      <td>2</td>\n      <td>100</td>\n      <td>45058</td>\n      <td>58008</td>\n    </tr>\n    <tr>\n      <th>305</th>\n      <td>2</td>\n      <td>999</td>\n      <td>157258820</td>\n      <td>161952064</td>\n    </tr>\n  </tbody>\n</table>\n<p>306 rows × 4 columns</p>\n</div>"
     },
     "execution_count": 108,
     "metadata": {},
     "output_type": "execute_result"
    }
   ]
  },
  {
   "cell_type": "code",
   "source": [
    "# The change in population between 2010 and 2014\n",
    "change = us_pop['2014'] - us_pop['2010']"
   ],
   "metadata": {
    "id": "OCvT3N1TTXV8",
    "ExecuteTime": {
     "end_time": "2024-04-03T08:47:59.207562Z",
     "start_time": "2024-04-03T08:47:59.205662Z"
    }
   },
   "execution_count": 109,
   "outputs": []
  },
  {
   "cell_type": "code",
   "source": [
    "# Make a new df census from us_pop, then add two new columns\n",
    "census = us_pop.copy()\n",
    "census['Change'] = change\n",
    "census['Percent Change'] = change / census['2010']\n",
    "census"
   ],
   "metadata": {
    "id": "uQU0VcBbTb5M",
    "ExecuteTime": {
     "end_time": "2024-04-03T08:47:59.720644Z",
     "start_time": "2024-04-03T08:47:59.715718Z"
    }
   },
   "execution_count": 110,
   "outputs": [
    {
     "data": {
      "text/plain": "     SEX  AGE       2010       2014   Change  Percent Change\n0      0    0    3951330    3949775    -1555       -0.000394\n1      0    1    3957888    3949776    -8112       -0.002050\n2      0    2    4090862    3959664  -131198       -0.032071\n3      0    3    4111920    4007079  -104841       -0.025497\n4      0    4    4077551    4005716   -71835       -0.017617\n..   ...  ...        ...        ...      ...             ...\n301    2   97      54118      62779     8661        0.160039\n302    2   98      37532      46208     8676        0.231163\n303    2   99      26074      32517     6443        0.247104\n304    2  100      45058      58008    12950        0.287407\n305    2  999  157258820  161952064  4693244        0.029844\n\n[306 rows x 6 columns]",
      "text/html": "<div>\n<style scoped>\n    .dataframe tbody tr th:only-of-type {\n        vertical-align: middle;\n    }\n\n    .dataframe tbody tr th {\n        vertical-align: top;\n    }\n\n    .dataframe thead th {\n        text-align: right;\n    }\n</style>\n<table border=\"1\" class=\"dataframe\">\n  <thead>\n    <tr style=\"text-align: right;\">\n      <th></th>\n      <th>SEX</th>\n      <th>AGE</th>\n      <th>2010</th>\n      <th>2014</th>\n      <th>Change</th>\n      <th>Percent Change</th>\n    </tr>\n  </thead>\n  <tbody>\n    <tr>\n      <th>0</th>\n      <td>0</td>\n      <td>0</td>\n      <td>3951330</td>\n      <td>3949775</td>\n      <td>-1555</td>\n      <td>-0.000394</td>\n    </tr>\n    <tr>\n      <th>1</th>\n      <td>0</td>\n      <td>1</td>\n      <td>3957888</td>\n      <td>3949776</td>\n      <td>-8112</td>\n      <td>-0.002050</td>\n    </tr>\n    <tr>\n      <th>2</th>\n      <td>0</td>\n      <td>2</td>\n      <td>4090862</td>\n      <td>3959664</td>\n      <td>-131198</td>\n      <td>-0.032071</td>\n    </tr>\n    <tr>\n      <th>3</th>\n      <td>0</td>\n      <td>3</td>\n      <td>4111920</td>\n      <td>4007079</td>\n      <td>-104841</td>\n      <td>-0.025497</td>\n    </tr>\n    <tr>\n      <th>4</th>\n      <td>0</td>\n      <td>4</td>\n      <td>4077551</td>\n      <td>4005716</td>\n      <td>-71835</td>\n      <td>-0.017617</td>\n    </tr>\n    <tr>\n      <th>...</th>\n      <td>...</td>\n      <td>...</td>\n      <td>...</td>\n      <td>...</td>\n      <td>...</td>\n      <td>...</td>\n    </tr>\n    <tr>\n      <th>301</th>\n      <td>2</td>\n      <td>97</td>\n      <td>54118</td>\n      <td>62779</td>\n      <td>8661</td>\n      <td>0.160039</td>\n    </tr>\n    <tr>\n      <th>302</th>\n      <td>2</td>\n      <td>98</td>\n      <td>37532</td>\n      <td>46208</td>\n      <td>8676</td>\n      <td>0.231163</td>\n    </tr>\n    <tr>\n      <th>303</th>\n      <td>2</td>\n      <td>99</td>\n      <td>26074</td>\n      <td>32517</td>\n      <td>6443</td>\n      <td>0.247104</td>\n    </tr>\n    <tr>\n      <th>304</th>\n      <td>2</td>\n      <td>100</td>\n      <td>45058</td>\n      <td>58008</td>\n      <td>12950</td>\n      <td>0.287407</td>\n    </tr>\n    <tr>\n      <th>305</th>\n      <td>2</td>\n      <td>999</td>\n      <td>157258820</td>\n      <td>161952064</td>\n      <td>4693244</td>\n      <td>0.029844</td>\n    </tr>\n  </tbody>\n</table>\n<p>306 rows × 6 columns</p>\n</div>"
     },
     "execution_count": 110,
     "metadata": {},
     "output_type": "execute_result"
    }
   ]
  },
  {
   "cell_type": "code",
   "source": [
    "census.head().style.format({'Percent Change': '{:.2%}'})"
   ],
   "metadata": {
    "id": "jsfkKgC34Ffs",
    "ExecuteTime": {
     "end_time": "2024-04-03T08:47:59.865795Z",
     "start_time": "2024-04-03T08:47:59.834346Z"
    }
   },
   "execution_count": 111,
   "outputs": [
    {
     "data": {
      "text/plain": "<pandas.io.formats.style.Styler at 0x1232f6ab0>",
      "text/html": "<style type=\"text/css\">\n</style>\n<table id=\"T_3a42f\">\n  <thead>\n    <tr>\n      <th class=\"blank level0\" >&nbsp;</th>\n      <th id=\"T_3a42f_level0_col0\" class=\"col_heading level0 col0\" >SEX</th>\n      <th id=\"T_3a42f_level0_col1\" class=\"col_heading level0 col1\" >AGE</th>\n      <th id=\"T_3a42f_level0_col2\" class=\"col_heading level0 col2\" >2010</th>\n      <th id=\"T_3a42f_level0_col3\" class=\"col_heading level0 col3\" >2014</th>\n      <th id=\"T_3a42f_level0_col4\" class=\"col_heading level0 col4\" >Change</th>\n      <th id=\"T_3a42f_level0_col5\" class=\"col_heading level0 col5\" >Percent Change</th>\n    </tr>\n  </thead>\n  <tbody>\n    <tr>\n      <th id=\"T_3a42f_level0_row0\" class=\"row_heading level0 row0\" >0</th>\n      <td id=\"T_3a42f_row0_col0\" class=\"data row0 col0\" >0</td>\n      <td id=\"T_3a42f_row0_col1\" class=\"data row0 col1\" >0</td>\n      <td id=\"T_3a42f_row0_col2\" class=\"data row0 col2\" >3951330</td>\n      <td id=\"T_3a42f_row0_col3\" class=\"data row0 col3\" >3949775</td>\n      <td id=\"T_3a42f_row0_col4\" class=\"data row0 col4\" >-1555</td>\n      <td id=\"T_3a42f_row0_col5\" class=\"data row0 col5\" >-0.04%</td>\n    </tr>\n    <tr>\n      <th id=\"T_3a42f_level0_row1\" class=\"row_heading level0 row1\" >1</th>\n      <td id=\"T_3a42f_row1_col0\" class=\"data row1 col0\" >0</td>\n      <td id=\"T_3a42f_row1_col1\" class=\"data row1 col1\" >1</td>\n      <td id=\"T_3a42f_row1_col2\" class=\"data row1 col2\" >3957888</td>\n      <td id=\"T_3a42f_row1_col3\" class=\"data row1 col3\" >3949776</td>\n      <td id=\"T_3a42f_row1_col4\" class=\"data row1 col4\" >-8112</td>\n      <td id=\"T_3a42f_row1_col5\" class=\"data row1 col5\" >-0.20%</td>\n    </tr>\n    <tr>\n      <th id=\"T_3a42f_level0_row2\" class=\"row_heading level0 row2\" >2</th>\n      <td id=\"T_3a42f_row2_col0\" class=\"data row2 col0\" >0</td>\n      <td id=\"T_3a42f_row2_col1\" class=\"data row2 col1\" >2</td>\n      <td id=\"T_3a42f_row2_col2\" class=\"data row2 col2\" >4090862</td>\n      <td id=\"T_3a42f_row2_col3\" class=\"data row2 col3\" >3959664</td>\n      <td id=\"T_3a42f_row2_col4\" class=\"data row2 col4\" >-131198</td>\n      <td id=\"T_3a42f_row2_col5\" class=\"data row2 col5\" >-3.21%</td>\n    </tr>\n    <tr>\n      <th id=\"T_3a42f_level0_row3\" class=\"row_heading level0 row3\" >3</th>\n      <td id=\"T_3a42f_row3_col0\" class=\"data row3 col0\" >0</td>\n      <td id=\"T_3a42f_row3_col1\" class=\"data row3 col1\" >3</td>\n      <td id=\"T_3a42f_row3_col2\" class=\"data row3 col2\" >4111920</td>\n      <td id=\"T_3a42f_row3_col3\" class=\"data row3 col3\" >4007079</td>\n      <td id=\"T_3a42f_row3_col4\" class=\"data row3 col4\" >-104841</td>\n      <td id=\"T_3a42f_row3_col5\" class=\"data row3 col5\" >-2.55%</td>\n    </tr>\n    <tr>\n      <th id=\"T_3a42f_level0_row4\" class=\"row_heading level0 row4\" >4</th>\n      <td id=\"T_3a42f_row4_col0\" class=\"data row4 col0\" >0</td>\n      <td id=\"T_3a42f_row4_col1\" class=\"data row4 col1\" >4</td>\n      <td id=\"T_3a42f_row4_col2\" class=\"data row4 col2\" >4077551</td>\n      <td id=\"T_3a42f_row4_col3\" class=\"data row4 col3\" >4005716</td>\n      <td id=\"T_3a42f_row4_col4\" class=\"data row4 col4\" >-71835</td>\n      <td id=\"T_3a42f_row4_col5\" class=\"data row4 col5\" >-1.76%</td>\n    </tr>\n  </tbody>\n</table>\n"
     },
     "execution_count": 111,
     "metadata": {},
     "output_type": "execute_result"
    }
   ]
  },
  {
   "cell_type": "code",
   "source": [
    "# Sort census by Change, ascending=False\n",
    "census.sort_values(by='Change', ascending=False)"
   ],
   "metadata": {
    "id": "7pXpcLDiTvdV",
    "ExecuteTime": {
     "end_time": "2024-04-03T08:47:59.951180Z",
     "start_time": "2024-04-03T08:47:59.946743Z"
    }
   },
   "execution_count": 112,
   "outputs": [
    {
     "data": {
      "text/plain": "     SEX  AGE       2010       2014   Change  Percent Change\n101    0  999  309346863  318907401  9560538        0.030906\n203    1  999  152088043  156955337  4867294        0.032003\n305    2  999  157258820  161952064  4693244        0.029844\n67     0   67    2693707    3485241   791534        0.293846\n64     0   64    2706055    3487559   781504        0.288798\n..   ...  ...        ...        ...      ...             ...\n39     0   39    4324463    3982507  -341956       -0.079075\n48     0   48    4534663    4159738  -374925       -0.082680\n46     0   46    4529716    4077151  -452565       -0.099910\n47     0   47    4535473    4082883  -452590       -0.099789\n40     0   40    4387480    3859395  -528085       -0.120362\n\n[306 rows x 6 columns]",
      "text/html": "<div>\n<style scoped>\n    .dataframe tbody tr th:only-of-type {\n        vertical-align: middle;\n    }\n\n    .dataframe tbody tr th {\n        vertical-align: top;\n    }\n\n    .dataframe thead th {\n        text-align: right;\n    }\n</style>\n<table border=\"1\" class=\"dataframe\">\n  <thead>\n    <tr style=\"text-align: right;\">\n      <th></th>\n      <th>SEX</th>\n      <th>AGE</th>\n      <th>2010</th>\n      <th>2014</th>\n      <th>Change</th>\n      <th>Percent Change</th>\n    </tr>\n  </thead>\n  <tbody>\n    <tr>\n      <th>101</th>\n      <td>0</td>\n      <td>999</td>\n      <td>309346863</td>\n      <td>318907401</td>\n      <td>9560538</td>\n      <td>0.030906</td>\n    </tr>\n    <tr>\n      <th>203</th>\n      <td>1</td>\n      <td>999</td>\n      <td>152088043</td>\n      <td>156955337</td>\n      <td>4867294</td>\n      <td>0.032003</td>\n    </tr>\n    <tr>\n      <th>305</th>\n      <td>2</td>\n      <td>999</td>\n      <td>157258820</td>\n      <td>161952064</td>\n      <td>4693244</td>\n      <td>0.029844</td>\n    </tr>\n    <tr>\n      <th>67</th>\n      <td>0</td>\n      <td>67</td>\n      <td>2693707</td>\n      <td>3485241</td>\n      <td>791534</td>\n      <td>0.293846</td>\n    </tr>\n    <tr>\n      <th>64</th>\n      <td>0</td>\n      <td>64</td>\n      <td>2706055</td>\n      <td>3487559</td>\n      <td>781504</td>\n      <td>0.288798</td>\n    </tr>\n    <tr>\n      <th>...</th>\n      <td>...</td>\n      <td>...</td>\n      <td>...</td>\n      <td>...</td>\n      <td>...</td>\n      <td>...</td>\n    </tr>\n    <tr>\n      <th>39</th>\n      <td>0</td>\n      <td>39</td>\n      <td>4324463</td>\n      <td>3982507</td>\n      <td>-341956</td>\n      <td>-0.079075</td>\n    </tr>\n    <tr>\n      <th>48</th>\n      <td>0</td>\n      <td>48</td>\n      <td>4534663</td>\n      <td>4159738</td>\n      <td>-374925</td>\n      <td>-0.082680</td>\n    </tr>\n    <tr>\n      <th>46</th>\n      <td>0</td>\n      <td>46</td>\n      <td>4529716</td>\n      <td>4077151</td>\n      <td>-452565</td>\n      <td>-0.099910</td>\n    </tr>\n    <tr>\n      <th>47</th>\n      <td>0</td>\n      <td>47</td>\n      <td>4535473</td>\n      <td>4082883</td>\n      <td>-452590</td>\n      <td>-0.099789</td>\n    </tr>\n    <tr>\n      <th>40</th>\n      <td>0</td>\n      <td>40</td>\n      <td>4387480</td>\n      <td>3859395</td>\n      <td>-528085</td>\n      <td>-0.120362</td>\n    </tr>\n  </tbody>\n</table>\n<p>306 rows × 6 columns</p>\n</div>"
     },
     "execution_count": 112,
     "metadata": {},
     "output_type": "execute_result"
    }
   ]
  },
  {
   "cell_type": "code",
   "source": [
    "census_mf = census[(census['SEX'] == 0) & (census['AGE'] < 999)] ### 999는 전체 합계이므로 뺴고 싶다.\n",
    "census_mf[['AGE', 'Percent Change']]"
   ],
   "metadata": {
    "id": "QOOvEGcrVDoB",
    "ExecuteTime": {
     "end_time": "2024-04-03T08:48:00.105202Z",
     "start_time": "2024-04-03T08:48:00.100890Z"
    }
   },
   "execution_count": 113,
   "outputs": [
    {
     "data": {
      "text/plain": "     AGE  Percent Change\n0      0       -0.000394\n1      1       -0.002050\n2      2       -0.032071\n3      3       -0.025497\n4      4       -0.017617\n..   ...             ...\n96    96        0.240055\n97    97        0.206059\n98    98        0.269766\n99    99        0.288707\n100  100        0.316412\n\n[101 rows x 2 columns]",
      "text/html": "<div>\n<style scoped>\n    .dataframe tbody tr th:only-of-type {\n        vertical-align: middle;\n    }\n\n    .dataframe tbody tr th {\n        vertical-align: top;\n    }\n\n    .dataframe thead th {\n        text-align: right;\n    }\n</style>\n<table border=\"1\" class=\"dataframe\">\n  <thead>\n    <tr style=\"text-align: right;\">\n      <th></th>\n      <th>AGE</th>\n      <th>Percent Change</th>\n    </tr>\n  </thead>\n  <tbody>\n    <tr>\n      <th>0</th>\n      <td>0</td>\n      <td>-0.000394</td>\n    </tr>\n    <tr>\n      <th>1</th>\n      <td>1</td>\n      <td>-0.002050</td>\n    </tr>\n    <tr>\n      <th>2</th>\n      <td>2</td>\n      <td>-0.032071</td>\n    </tr>\n    <tr>\n      <th>3</th>\n      <td>3</td>\n      <td>-0.025497</td>\n    </tr>\n    <tr>\n      <th>4</th>\n      <td>4</td>\n      <td>-0.017617</td>\n    </tr>\n    <tr>\n      <th>...</th>\n      <td>...</td>\n      <td>...</td>\n    </tr>\n    <tr>\n      <th>96</th>\n      <td>96</td>\n      <td>0.240055</td>\n    </tr>\n    <tr>\n      <th>97</th>\n      <td>97</td>\n      <td>0.206059</td>\n    </tr>\n    <tr>\n      <th>98</th>\n      <td>98</td>\n      <td>0.269766</td>\n    </tr>\n    <tr>\n      <th>99</th>\n      <td>99</td>\n      <td>0.288707</td>\n    </tr>\n    <tr>\n      <th>100</th>\n      <td>100</td>\n      <td>0.316412</td>\n    </tr>\n  </tbody>\n</table>\n<p>101 rows × 2 columns</p>\n</div>"
     },
     "execution_count": 113,
     "metadata": {},
     "output_type": "execute_result"
    }
   ]
  },
  {
   "cell_type": "code",
   "source": [
    "census_mf['age group'] = pd.qcut(census_mf.AGE, q=5, labels=['0-20', '21-40', '41-60', '61-80', '81-100'])"
   ],
   "metadata": {
    "id": "rNagFOqMDL8M",
    "ExecuteTime": {
     "end_time": "2024-04-03T08:48:00.235308Z",
     "start_time": "2024-04-03T08:48:00.231948Z"
    }
   },
   "execution_count": 114,
   "outputs": [
    {
     "name": "stderr",
     "output_type": "stream",
     "text": [
      "/var/folders/9j/79k1vpsj0rzcglkcqr__0sh80000gn/T/ipykernel_3433/3774499927.py:1: SettingWithCopyWarning: \n",
      "A value is trying to be set on a copy of a slice from a DataFrame.\n",
      "Try using .loc[row_indexer,col_indexer] = value instead\n",
      "\n",
      "See the caveats in the documentation: https://pandas.pydata.org/pandas-docs/stable/user_guide/indexing.html#returning-a-view-versus-a-copy\n",
      "  census_mf['age group'] = pd.qcut(census_mf.AGE, q=5, labels=['0-20', '21-40', '41-60', '61-80', '81-100'])\n"
     ]
    }
   ]
  },
  {
   "cell_type": "code",
   "source": [
    "agg_df = census_mf.groupby('age group').sum()"
   ],
   "metadata": {
    "id": "YZVaZDohEEdH",
    "ExecuteTime": {
     "end_time": "2024-04-03T08:48:00.378388Z",
     "start_time": "2024-04-03T08:48:00.375583Z"
    }
   },
   "execution_count": 115,
   "outputs": [
    {
     "name": "stderr",
     "output_type": "stream",
     "text": [
      "/var/folders/9j/79k1vpsj0rzcglkcqr__0sh80000gn/T/ipykernel_3433/3419723195.py:1: FutureWarning: The default of observed=False is deprecated and will be changed to True in a future version of pandas. Pass observed=False to retain current behavior or observed=True to adopt the future default and silence this warning.\n",
      "  agg_df = census_mf.groupby('age group').sum()\n"
     ]
    }
   ]
  },
  {
   "cell_type": "code",
   "source": [
    "agg_df"
   ],
   "metadata": {
    "id": "qJM0zc3dF23y",
    "ExecuteTime": {
     "end_time": "2024-04-03T08:48:00.593005Z",
     "start_time": "2024-04-03T08:48:00.589152Z"
    }
   },
   "execution_count": 116,
   "outputs": [
    {
     "data": {
      "text/plain": "           SEX   AGE      2010      2014   Change  Percent Change\nage group                                                        \n0-20         0   210  87753968  86577469 -1176499       -0.265658\n21-40        0   610  82818476  85845611  3027135        0.755757\n41-60        0  1010  84921736  85703773   782037        0.264756\n61-80        0  1410  43870456  50150773  6280317        2.776676\n81-100       0  1810   9982227  10629775   647548        2.999173",
      "text/html": "<div>\n<style scoped>\n    .dataframe tbody tr th:only-of-type {\n        vertical-align: middle;\n    }\n\n    .dataframe tbody tr th {\n        vertical-align: top;\n    }\n\n    .dataframe thead th {\n        text-align: right;\n    }\n</style>\n<table border=\"1\" class=\"dataframe\">\n  <thead>\n    <tr style=\"text-align: right;\">\n      <th></th>\n      <th>SEX</th>\n      <th>AGE</th>\n      <th>2010</th>\n      <th>2014</th>\n      <th>Change</th>\n      <th>Percent Change</th>\n    </tr>\n    <tr>\n      <th>age group</th>\n      <th></th>\n      <th></th>\n      <th></th>\n      <th></th>\n      <th></th>\n      <th></th>\n    </tr>\n  </thead>\n  <tbody>\n    <tr>\n      <th>0-20</th>\n      <td>0</td>\n      <td>210</td>\n      <td>87753968</td>\n      <td>86577469</td>\n      <td>-1176499</td>\n      <td>-0.265658</td>\n    </tr>\n    <tr>\n      <th>21-40</th>\n      <td>0</td>\n      <td>610</td>\n      <td>82818476</td>\n      <td>85845611</td>\n      <td>3027135</td>\n      <td>0.755757</td>\n    </tr>\n    <tr>\n      <th>41-60</th>\n      <td>0</td>\n      <td>1010</td>\n      <td>84921736</td>\n      <td>85703773</td>\n      <td>782037</td>\n      <td>0.264756</td>\n    </tr>\n    <tr>\n      <th>61-80</th>\n      <td>0</td>\n      <td>1410</td>\n      <td>43870456</td>\n      <td>50150773</td>\n      <td>6280317</td>\n      <td>2.776676</td>\n    </tr>\n    <tr>\n      <th>81-100</th>\n      <td>0</td>\n      <td>1810</td>\n      <td>9982227</td>\n      <td>10629775</td>\n      <td>647548</td>\n      <td>2.999173</td>\n    </tr>\n  </tbody>\n</table>\n</div>"
     },
     "execution_count": 116,
     "metadata": {},
     "output_type": "execute_result"
    }
   ]
  },
  {
   "cell_type": "code",
   "source": [
    "change = agg_df['2014'] - agg_df['2010']\n",
    "agg_df['Change'] = change\n",
    "agg_df['Percent Change'] = change / agg_df['2010']\n",
    "agg_df"
   ],
   "metadata": {
    "id": "bd0a6Tn9Fwrs",
    "ExecuteTime": {
     "end_time": "2024-04-03T08:48:00.708695Z",
     "start_time": "2024-04-03T08:48:00.704153Z"
    }
   },
   "execution_count": 117,
   "outputs": [
    {
     "data": {
      "text/plain": "           SEX   AGE      2010      2014   Change  Percent Change\nage group                                                        \n0-20         0   210  87753968  86577469 -1176499       -0.013407\n21-40        0   610  82818476  85845611  3027135        0.036551\n41-60        0  1010  84921736  85703773   782037        0.009209\n61-80        0  1410  43870456  50150773  6280317        0.143156\n81-100       0  1810   9982227  10629775   647548        0.064870",
      "text/html": "<div>\n<style scoped>\n    .dataframe tbody tr th:only-of-type {\n        vertical-align: middle;\n    }\n\n    .dataframe tbody tr th {\n        vertical-align: top;\n    }\n\n    .dataframe thead th {\n        text-align: right;\n    }\n</style>\n<table border=\"1\" class=\"dataframe\">\n  <thead>\n    <tr style=\"text-align: right;\">\n      <th></th>\n      <th>SEX</th>\n      <th>AGE</th>\n      <th>2010</th>\n      <th>2014</th>\n      <th>Change</th>\n      <th>Percent Change</th>\n    </tr>\n    <tr>\n      <th>age group</th>\n      <th></th>\n      <th></th>\n      <th></th>\n      <th></th>\n      <th></th>\n      <th></th>\n    </tr>\n  </thead>\n  <tbody>\n    <tr>\n      <th>0-20</th>\n      <td>0</td>\n      <td>210</td>\n      <td>87753968</td>\n      <td>86577469</td>\n      <td>-1176499</td>\n      <td>-0.013407</td>\n    </tr>\n    <tr>\n      <th>21-40</th>\n      <td>0</td>\n      <td>610</td>\n      <td>82818476</td>\n      <td>85845611</td>\n      <td>3027135</td>\n      <td>0.036551</td>\n    </tr>\n    <tr>\n      <th>41-60</th>\n      <td>0</td>\n      <td>1010</td>\n      <td>84921736</td>\n      <td>85703773</td>\n      <td>782037</td>\n      <td>0.009209</td>\n    </tr>\n    <tr>\n      <th>61-80</th>\n      <td>0</td>\n      <td>1410</td>\n      <td>43870456</td>\n      <td>50150773</td>\n      <td>6280317</td>\n      <td>0.143156</td>\n    </tr>\n    <tr>\n      <th>81-100</th>\n      <td>0</td>\n      <td>1810</td>\n      <td>9982227</td>\n      <td>10629775</td>\n      <td>647548</td>\n      <td>0.064870</td>\n    </tr>\n  </tbody>\n</table>\n</div>"
     },
     "execution_count": 117,
     "metadata": {},
     "output_type": "execute_result"
    }
   ]
  },
  {
   "cell_type": "markdown",
   "source": [
    "## Example Sex Ratios"
   ],
   "metadata": {
    "id": "kckEwJsfHOun"
   }
  },
  {
   "cell_type": "code",
   "source": [
    "us_pop  #1 for male, 2 for female"
   ],
   "metadata": {
    "id": "y1-J03mXHTVR",
    "ExecuteTime": {
     "end_time": "2024-04-03T08:48:00.750042Z",
     "start_time": "2024-04-03T08:48:00.746074Z"
    }
   },
   "execution_count": 118,
   "outputs": [
    {
     "data": {
      "text/plain": "     SEX  AGE       2010       2014\n0      0    0    3951330    3949775\n1      0    1    3957888    3949776\n2      0    2    4090862    3959664\n3      0    3    4111920    4007079\n4      0    4    4077551    4005716\n..   ...  ...        ...        ...\n301    2   97      54118      62779\n302    2   98      37532      46208\n303    2   99      26074      32517\n304    2  100      45058      58008\n305    2  999  157258820  161952064\n\n[306 rows x 4 columns]",
      "text/html": "<div>\n<style scoped>\n    .dataframe tbody tr th:only-of-type {\n        vertical-align: middle;\n    }\n\n    .dataframe tbody tr th {\n        vertical-align: top;\n    }\n\n    .dataframe thead th {\n        text-align: right;\n    }\n</style>\n<table border=\"1\" class=\"dataframe\">\n  <thead>\n    <tr style=\"text-align: right;\">\n      <th></th>\n      <th>SEX</th>\n      <th>AGE</th>\n      <th>2010</th>\n      <th>2014</th>\n    </tr>\n  </thead>\n  <tbody>\n    <tr>\n      <th>0</th>\n      <td>0</td>\n      <td>0</td>\n      <td>3951330</td>\n      <td>3949775</td>\n    </tr>\n    <tr>\n      <th>1</th>\n      <td>0</td>\n      <td>1</td>\n      <td>3957888</td>\n      <td>3949776</td>\n    </tr>\n    <tr>\n      <th>2</th>\n      <td>0</td>\n      <td>2</td>\n      <td>4090862</td>\n      <td>3959664</td>\n    </tr>\n    <tr>\n      <th>3</th>\n      <td>0</td>\n      <td>3</td>\n      <td>4111920</td>\n      <td>4007079</td>\n    </tr>\n    <tr>\n      <th>4</th>\n      <td>0</td>\n      <td>4</td>\n      <td>4077551</td>\n      <td>4005716</td>\n    </tr>\n    <tr>\n      <th>...</th>\n      <td>...</td>\n      <td>...</td>\n      <td>...</td>\n      <td>...</td>\n    </tr>\n    <tr>\n      <th>301</th>\n      <td>2</td>\n      <td>97</td>\n      <td>54118</td>\n      <td>62779</td>\n    </tr>\n    <tr>\n      <th>302</th>\n      <td>2</td>\n      <td>98</td>\n      <td>37532</td>\n      <td>46208</td>\n    </tr>\n    <tr>\n      <th>303</th>\n      <td>2</td>\n      <td>99</td>\n      <td>26074</td>\n      <td>32517</td>\n    </tr>\n    <tr>\n      <th>304</th>\n      <td>2</td>\n      <td>100</td>\n      <td>45058</td>\n      <td>58008</td>\n    </tr>\n    <tr>\n      <th>305</th>\n      <td>2</td>\n      <td>999</td>\n      <td>157258820</td>\n      <td>161952064</td>\n    </tr>\n  </tbody>\n</table>\n<p>306 rows × 4 columns</p>\n</div>"
     },
     "execution_count": 118,
     "metadata": {},
     "output_type": "execute_result"
    }
   ]
  },
  {
   "cell_type": "code",
   "source": [
    "us_pop[us_pop.AGE == 999]"
   ],
   "metadata": {
    "id": "jROPr7HSHxns",
    "ExecuteTime": {
     "end_time": "2024-04-03T08:48:00.853073Z",
     "start_time": "2024-04-03T08:48:00.849683Z"
    }
   },
   "execution_count": 119,
   "outputs": [
    {
     "data": {
      "text/plain": "     SEX  AGE       2010       2014\n101    0  999  309346863  318907401\n203    1  999  152088043  156955337\n305    2  999  157258820  161952064",
      "text/html": "<div>\n<style scoped>\n    .dataframe tbody tr th:only-of-type {\n        vertical-align: middle;\n    }\n\n    .dataframe tbody tr th {\n        vertical-align: top;\n    }\n\n    .dataframe thead th {\n        text-align: right;\n    }\n</style>\n<table border=\"1\" class=\"dataframe\">\n  <thead>\n    <tr style=\"text-align: right;\">\n      <th></th>\n      <th>SEX</th>\n      <th>AGE</th>\n      <th>2010</th>\n      <th>2014</th>\n    </tr>\n  </thead>\n  <tbody>\n    <tr>\n      <th>101</th>\n      <td>0</td>\n      <td>999</td>\n      <td>309346863</td>\n      <td>318907401</td>\n    </tr>\n    <tr>\n      <th>203</th>\n      <td>1</td>\n      <td>999</td>\n      <td>152088043</td>\n      <td>156955337</td>\n    </tr>\n    <tr>\n      <th>305</th>\n      <td>2</td>\n      <td>999</td>\n      <td>157258820</td>\n      <td>161952064</td>\n    </tr>\n  </tbody>\n</table>\n</div>"
     },
     "execution_count": 119,
     "metadata": {},
     "output_type": "execute_result"
    }
   ]
  },
  {
   "cell_type": "code",
   "source": [
    "# Drop column '2010' then filter 'AGE'==999\n",
    "us_pop_2014 = us_pop.drop(columns='2010')\n",
    "all_ages = us_pop_2014[us_pop_2014['AGE'] == 999]\n",
    "all_ages"
   ],
   "metadata": {
    "id": "-HzEYATnIIX8",
    "ExecuteTime": {
     "end_time": "2024-04-03T08:40:27.922566Z",
     "start_time": "2024-04-03T08:40:27.911979Z"
    }
   },
   "execution_count": 298,
   "outputs": [
    {
     "data": {
      "text/plain": "     SEX  AGE       2014\n101    0  999  318907401\n203    1  999  156955337\n305    2  999  161952064",
      "text/html": "<div>\n<style scoped>\n    .dataframe tbody tr th:only-of-type {\n        vertical-align: middle;\n    }\n\n    .dataframe tbody tr th {\n        vertical-align: top;\n    }\n\n    .dataframe thead th {\n        text-align: right;\n    }\n</style>\n<table border=\"1\" class=\"dataframe\">\n  <thead>\n    <tr style=\"text-align: right;\">\n      <th></th>\n      <th>SEX</th>\n      <th>AGE</th>\n      <th>2014</th>\n    </tr>\n  </thead>\n  <tbody>\n    <tr>\n      <th>101</th>\n      <td>0</td>\n      <td>999</td>\n      <td>318907401</td>\n    </tr>\n    <tr>\n      <th>203</th>\n      <td>1</td>\n      <td>999</td>\n      <td>156955337</td>\n    </tr>\n    <tr>\n      <th>305</th>\n      <td>2</td>\n      <td>999</td>\n      <td>161952064</td>\n    </tr>\n  </tbody>\n</table>\n</div>"
     },
     "execution_count": 298,
     "metadata": {},
     "output_type": "execute_result"
    }
   ]
  },
  {
   "cell_type": "code",
   "source": [
    "# Add a column Proportion\n",
    "all_ages['Proportion'] = all_ages['2014'] / (list(all_ages[all_ages['SEX'] == 0]['2014']) * 3)\n",
    "all_ages"
   ],
   "metadata": {
    "id": "IHDleyjCIUKb",
    "ExecuteTime": {
     "end_time": "2024-04-03T08:40:28.946192Z",
     "start_time": "2024-04-03T08:40:28.941904Z"
    }
   },
   "execution_count": 299,
   "outputs": [
    {
     "name": "stderr",
     "output_type": "stream",
     "text": [
      "/var/folders/9j/79k1vpsj0rzcglkcqr__0sh80000gn/T/ipykernel_94335/3908951096.py:2: SettingWithCopyWarning: \n",
      "A value is trying to be set on a copy of a slice from a DataFrame.\n",
      "Try using .loc[row_indexer,col_indexer] = value instead\n",
      "\n",
      "See the caveats in the documentation: https://pandas.pydata.org/pandas-docs/stable/user_guide/indexing.html#returning-a-view-versus-a-copy\n",
      "  all_ages['Proportion'] = all_ages['2014'] / (list(all_ages[all_ages['SEX'] == 0]['2014']) * 3)\n"
     ]
    },
    {
     "data": {
      "text/plain": "     SEX  AGE       2014  Proportion\n101    0  999  318907401    1.000000\n203    1  999  156955337    0.492166\n305    2  999  161952064    0.507834",
      "text/html": "<div>\n<style scoped>\n    .dataframe tbody tr th:only-of-type {\n        vertical-align: middle;\n    }\n\n    .dataframe tbody tr th {\n        vertical-align: top;\n    }\n\n    .dataframe thead th {\n        text-align: right;\n    }\n</style>\n<table border=\"1\" class=\"dataframe\">\n  <thead>\n    <tr style=\"text-align: right;\">\n      <th></th>\n      <th>SEX</th>\n      <th>AGE</th>\n      <th>2014</th>\n      <th>Proportion</th>\n    </tr>\n  </thead>\n  <tbody>\n    <tr>\n      <th>101</th>\n      <td>0</td>\n      <td>999</td>\n      <td>318907401</td>\n      <td>1.000000</td>\n    </tr>\n    <tr>\n      <th>203</th>\n      <td>1</td>\n      <td>999</td>\n      <td>156955337</td>\n      <td>0.492166</td>\n    </tr>\n    <tr>\n      <th>305</th>\n      <td>2</td>\n      <td>999</td>\n      <td>161952064</td>\n      <td>0.507834</td>\n    </tr>\n  </tbody>\n</table>\n</div>"
     },
     "execution_count": 299,
     "metadata": {},
     "output_type": "execute_result"
    }
   ]
  },
  {
   "cell_type": "code",
   "outputs": [],
   "source": [],
   "metadata": {
    "collapsed": false
   }
  }
 ]
}
